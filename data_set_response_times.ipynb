{
 "cells": [
  {
   "cell_type": "code",
   "execution_count": 1,
   "metadata": {},
   "outputs": [],
   "source": [
    "import pandas as pd \n",
    "import numpy  as np \n",
    "from pathlib import Path\n",
    "import pickle\n",
    "import os"
   ]
  },
  {
   "cell_type": "code",
   "execution_count": 2,
   "metadata": {},
   "outputs": [],
   "source": [
    "import data_set_analysis_helper_functions as ahf"
   ]
  },
  {
   "cell_type": "code",
   "execution_count": 3,
   "metadata": {},
   "outputs": [],
   "source": [
    "data_dir_output = '/Users/gilmandelbaum/Desktop/optoOutPut'\n",
    "data_dir_input = '/Users/gilmandelbaum/Desktop/opto'\n",
    "HowManyBack=1 \n",
    "\n",
    "\n",
    "seq_str= \"0a1ad2a4abc5a6a\"\n",
    "folder_name = \"timeOfLicks\""
   ]
  },
  {
   "cell_type": "code",
   "execution_count": 4,
   "metadata": {
    "scrolled": true
   },
   "outputs": [],
   "source": [
    "Mouse_Date_FileName = pd.read_csv(data_dir_input+\"/MasterOptoConsumption.csv\")"
   ]
  },
  {
   "cell_type": "code",
   "execution_count": 5,
   "metadata": {},
   "outputs": [],
   "source": [
    "Mouse_Date_FileName = Mouse_Date_FileName[Mouse_Date_FileName[\"Mouse\"]==\"T183\"].reset_index()"
   ]
  },
  {
   "cell_type": "code",
   "execution_count": 6,
   "metadata": {},
   "outputs": [
    {
     "data": {
      "text/html": [
       "<div>\n",
       "<style scoped>\n",
       "    .dataframe tbody tr th:only-of-type {\n",
       "        vertical-align: middle;\n",
       "    }\n",
       "\n",
       "    .dataframe tbody tr th {\n",
       "        vertical-align: top;\n",
       "    }\n",
       "\n",
       "    .dataframe thead th {\n",
       "        text-align: right;\n",
       "    }\n",
       "</style>\n",
       "<table border=\"1\" class=\"dataframe\">\n",
       "  <thead>\n",
       "    <tr style=\"text-align: right;\">\n",
       "      <th></th>\n",
       "      <th>index</th>\n",
       "      <th>Mouse</th>\n",
       "      <th>Date</th>\n",
       "      <th>D</th>\n",
       "      <th>TypeOfStim</th>\n",
       "      <th>SideOfStim</th>\n",
       "    </tr>\n",
       "  </thead>\n",
       "  <tbody>\n",
       "    <tr>\n",
       "      <th>0</th>\n",
       "      <td>56</td>\n",
       "      <td>T183</td>\n",
       "      <td>190227</td>\n",
       "      <td>1</td>\n",
       "      <td>C</td>\n",
       "      <td>R</td>\n",
       "    </tr>\n",
       "    <tr>\n",
       "      <th>1</th>\n",
       "      <td>57</td>\n",
       "      <td>T183</td>\n",
       "      <td>190303</td>\n",
       "      <td>1</td>\n",
       "      <td>C</td>\n",
       "      <td>R</td>\n",
       "    </tr>\n",
       "    <tr>\n",
       "      <th>2</th>\n",
       "      <td>58</td>\n",
       "      <td>T183</td>\n",
       "      <td>190308</td>\n",
       "      <td>1</td>\n",
       "      <td>C</td>\n",
       "      <td>R</td>\n",
       "    </tr>\n",
       "    <tr>\n",
       "      <th>3</th>\n",
       "      <td>59</td>\n",
       "      <td>T183</td>\n",
       "      <td>190312</td>\n",
       "      <td>1</td>\n",
       "      <td>C</td>\n",
       "      <td>R</td>\n",
       "    </tr>\n",
       "    <tr>\n",
       "      <th>4</th>\n",
       "      <td>60</td>\n",
       "      <td>T183</td>\n",
       "      <td>190313</td>\n",
       "      <td>1</td>\n",
       "      <td>C</td>\n",
       "      <td>L</td>\n",
       "    </tr>\n",
       "    <tr>\n",
       "      <th>5</th>\n",
       "      <td>61</td>\n",
       "      <td>T183</td>\n",
       "      <td>190314</td>\n",
       "      <td>1</td>\n",
       "      <td>C</td>\n",
       "      <td>L</td>\n",
       "    </tr>\n",
       "    <tr>\n",
       "      <th>6</th>\n",
       "      <td>62</td>\n",
       "      <td>T183</td>\n",
       "      <td>190315</td>\n",
       "      <td>1</td>\n",
       "      <td>C</td>\n",
       "      <td>L</td>\n",
       "    </tr>\n",
       "    <tr>\n",
       "      <th>7</th>\n",
       "      <td>63</td>\n",
       "      <td>T183</td>\n",
       "      <td>190318</td>\n",
       "      <td>1</td>\n",
       "      <td>C</td>\n",
       "      <td>L</td>\n",
       "    </tr>\n",
       "    <tr>\n",
       "      <th>8</th>\n",
       "      <td>64</td>\n",
       "      <td>T183</td>\n",
       "      <td>190319</td>\n",
       "      <td>1</td>\n",
       "      <td>C</td>\n",
       "      <td>L</td>\n",
       "    </tr>\n",
       "  </tbody>\n",
       "</table>\n",
       "</div>"
      ],
      "text/plain": [
       "   index Mouse    Date  D TypeOfStim SideOfStim\n",
       "0     56  T183  190227  1          C          R\n",
       "1     57  T183  190303  1          C          R\n",
       "2     58  T183  190308  1          C          R\n",
       "3     59  T183  190312  1          C          R\n",
       "4     60  T183  190313  1          C          L\n",
       "5     61  T183  190314  1          C          L\n",
       "6     62  T183  190315  1          C          L\n",
       "7     63  T183  190318  1          C          L\n",
       "8     64  T183  190319  1          C          L"
      ]
     },
     "execution_count": 6,
     "metadata": {},
     "output_type": "execute_result"
    }
   ],
   "source": [
    "Mouse_Date_FileName"
   ]
  },
  {
   "cell_type": "code",
   "execution_count": 7,
   "metadata": {},
   "outputs": [],
   "source": [
    "def clean (df_s):\n",
    "    data_list = []\n",
    "    for df in df_s:\n",
    "        data_list.append(df.drop(\"Unnamed: 0\",axis=1).transpose())\n",
    "    return (data_list)"
   ]
  },
  {
   "cell_type": "code",
   "execution_count": 8,
   "metadata": {},
   "outputs": [],
   "source": [
    "rt_stay_right = ahf.loadSession_csv (Mouse_Date_FileName,data_dir_output,\n",
    "                                     HowManyBack,folder_name,seq_str,\"Sel_tag_stay_right\")"
   ]
  },
  {
   "cell_type": "code",
   "execution_count": 9,
   "metadata": {},
   "outputs": [],
   "source": [
    "rt_stay_right = clean(rt_stay_right)"
   ]
  },
  {
   "cell_type": "code",
   "execution_count": 10,
   "metadata": {
    "scrolled": true
   },
   "outputs": [],
   "source": [
    "rt_switch_right = ahf.loadSession_csv (Mouse_Date_FileName,data_dir_output,\n",
    "                                       HowManyBack,folder_name,seq_str,\"Sel_tag_switch_right\")"
   ]
  },
  {
   "cell_type": "code",
   "execution_count": 11,
   "metadata": {},
   "outputs": [],
   "source": [
    "rt_switch_right = clean(rt_switch_right)"
   ]
  },
  {
   "cell_type": "code",
   "execution_count": 12,
   "metadata": {},
   "outputs": [],
   "source": [
    "rt_stay_left = ahf.loadSession_csv (Mouse_Date_FileName,data_dir_output,\n",
    "                                     HowManyBack,folder_name,seq_str,\"Sel_tag_stay_left\")"
   ]
  },
  {
   "cell_type": "code",
   "execution_count": 13,
   "metadata": {},
   "outputs": [],
   "source": [
    "rt_stay_left = clean(rt_stay_left)"
   ]
  },
  {
   "cell_type": "code",
   "execution_count": 14,
   "metadata": {},
   "outputs": [],
   "source": [
    "rt_switch_left = ahf.loadSession_csv (Mouse_Date_FileName,data_dir_output,\n",
    "                                       HowManyBack,folder_name,seq_str,\"Sel_tag_switch_left\")"
   ]
  },
  {
   "cell_type": "code",
   "execution_count": 15,
   "metadata": {},
   "outputs": [],
   "source": [
    "rt_switch_left = clean(rt_switch_left)"
   ]
  },
  {
   "cell_type": "code",
   "execution_count": 16,
   "metadata": {},
   "outputs": [],
   "source": [
    "df = ahf.extract_data_set (Mouse_Date_FileName,rt_stay_right,rt_switch_right,rt_stay_left,rt_switch_left)"
   ]
  },
  {
   "cell_type": "code",
   "execution_count": 17,
   "metadata": {},
   "outputs": [
    {
     "data": {
      "text/html": [
       "<div>\n",
       "<style scoped>\n",
       "    .dataframe tbody tr th:only-of-type {\n",
       "        vertical-align: middle;\n",
       "    }\n",
       "\n",
       "    .dataframe tbody tr th {\n",
       "        vertical-align: top;\n",
       "    }\n",
       "\n",
       "    .dataframe thead th {\n",
       "        text-align: right;\n",
       "    }\n",
       "</style>\n",
       "<table border=\"1\" class=\"dataframe\">\n",
       "  <thead>\n",
       "    <tr style=\"text-align: right;\">\n",
       "      <th></th>\n",
       "      <th>mouse</th>\n",
       "      <th>date</th>\n",
       "      <th>D</th>\n",
       "      <th>SideOfStim</th>\n",
       "      <th>switchSide_switch</th>\n",
       "      <th>switchSide_Stay</th>\n",
       "      <th>NOswitchSide_switch</th>\n",
       "      <th>NOswitchSide_Stay</th>\n",
       "    </tr>\n",
       "  </thead>\n",
       "  <tbody>\n",
       "    <tr>\n",
       "      <th>0</th>\n",
       "      <td>T183</td>\n",
       "      <td>190227</td>\n",
       "      <td>1</td>\n",
       "      <td>R</td>\n",
       "      <td>160.0</td>\n",
       "      <td>117.5</td>\n",
       "      <td>0</td>\n",
       "      <td>70.0</td>\n",
       "    </tr>\n",
       "    <tr>\n",
       "      <th>1</th>\n",
       "      <td>T183</td>\n",
       "      <td>190303</td>\n",
       "      <td>1</td>\n",
       "      <td>R</td>\n",
       "      <td>90.0</td>\n",
       "      <td>135.0</td>\n",
       "      <td>0</td>\n",
       "      <td>170.0</td>\n",
       "    </tr>\n",
       "    <tr>\n",
       "      <th>2</th>\n",
       "      <td>T183</td>\n",
       "      <td>190308</td>\n",
       "      <td>1</td>\n",
       "      <td>R</td>\n",
       "      <td>90.0</td>\n",
       "      <td>110.0</td>\n",
       "      <td>0</td>\n",
       "      <td>110.0</td>\n",
       "    </tr>\n",
       "    <tr>\n",
       "      <th>3</th>\n",
       "      <td>T183</td>\n",
       "      <td>190312</td>\n",
       "      <td>1</td>\n",
       "      <td>R</td>\n",
       "      <td>255.0</td>\n",
       "      <td>185.0</td>\n",
       "      <td>0</td>\n",
       "      <td>180.0</td>\n",
       "    </tr>\n",
       "    <tr>\n",
       "      <th>4</th>\n",
       "      <td>T183</td>\n",
       "      <td>190313</td>\n",
       "      <td>1</td>\n",
       "      <td>L</td>\n",
       "      <td>100.0</td>\n",
       "      <td>90.0</td>\n",
       "      <td>95</td>\n",
       "      <td>122.5</td>\n",
       "    </tr>\n",
       "    <tr>\n",
       "      <th>5</th>\n",
       "      <td>T183</td>\n",
       "      <td>190314</td>\n",
       "      <td>1</td>\n",
       "      <td>L</td>\n",
       "      <td>85.0</td>\n",
       "      <td>75.0</td>\n",
       "      <td>100</td>\n",
       "      <td>90.0</td>\n",
       "    </tr>\n",
       "    <tr>\n",
       "      <th>6</th>\n",
       "      <td>T183</td>\n",
       "      <td>190315</td>\n",
       "      <td>1</td>\n",
       "      <td>L</td>\n",
       "      <td>85.0</td>\n",
       "      <td>0.0</td>\n",
       "      <td>0</td>\n",
       "      <td>55.0</td>\n",
       "    </tr>\n",
       "    <tr>\n",
       "      <th>7</th>\n",
       "      <td>T183</td>\n",
       "      <td>190318</td>\n",
       "      <td>1</td>\n",
       "      <td>L</td>\n",
       "      <td>90.0</td>\n",
       "      <td>80.0</td>\n",
       "      <td>80</td>\n",
       "      <td>60.0</td>\n",
       "    </tr>\n",
       "    <tr>\n",
       "      <th>8</th>\n",
       "      <td>T183</td>\n",
       "      <td>190319</td>\n",
       "      <td>1</td>\n",
       "      <td>L</td>\n",
       "      <td>115.0</td>\n",
       "      <td>195.0</td>\n",
       "      <td>205</td>\n",
       "      <td>85.0</td>\n",
       "    </tr>\n",
       "  </tbody>\n",
       "</table>\n",
       "</div>"
      ],
      "text/plain": [
       "  mouse    date  D SideOfStim  switchSide_switch  switchSide_Stay  \\\n",
       "0  T183  190227  1          R              160.0            117.5   \n",
       "1  T183  190303  1          R               90.0            135.0   \n",
       "2  T183  190308  1          R               90.0            110.0   \n",
       "3  T183  190312  1          R              255.0            185.0   \n",
       "4  T183  190313  1          L              100.0             90.0   \n",
       "5  T183  190314  1          L               85.0             75.0   \n",
       "6  T183  190315  1          L               85.0              0.0   \n",
       "7  T183  190318  1          L               90.0             80.0   \n",
       "8  T183  190319  1          L              115.0            195.0   \n",
       "\n",
       "  NOswitchSide_switch  NOswitchSide_Stay  \n",
       "0                   0               70.0  \n",
       "1                   0              170.0  \n",
       "2                   0              110.0  \n",
       "3                   0              180.0  \n",
       "4                  95              122.5  \n",
       "5                 100               90.0  \n",
       "6                   0               55.0  \n",
       "7                  80               60.0  \n",
       "8                 205               85.0  "
      ]
     },
     "execution_count": 17,
     "metadata": {},
     "output_type": "execute_result"
    }
   ],
   "source": [
    "df"
   ]
  },
  {
   "cell_type": "code",
   "execution_count": 18,
   "metadata": {},
   "outputs": [],
   "source": [
    "file = \"data_set_respose_times\"\n",
    "cache_dir_plt = os.path.join(data_dir_output, file)\n",
    "if not os.path.exists(cache_dir_plt):\n",
    "    os.makedirs(cache_dir_plt)"
   ]
  },
  {
   "cell_type": "code",
   "execution_count": 19,
   "metadata": {},
   "outputs": [],
   "source": [
    "df.to_csv(data_dir_output+\"/\"+file+\"/\"+\"respose_times\"+seq_str+\".csv\")"
   ]
  },
  {
   "cell_type": "code",
   "execution_count": null,
   "metadata": {},
   "outputs": [],
   "source": []
  }
 ],
 "metadata": {
  "kernelspec": {
   "display_name": "Python 3",
   "language": "python",
   "name": "python3"
  },
  "language_info": {
   "codemirror_mode": {
    "name": "ipython",
    "version": 3
   },
   "file_extension": ".py",
   "mimetype": "text/x-python",
   "name": "python",
   "nbconvert_exporter": "python",
   "pygments_lexer": "ipython3",
   "version": "3.7.3"
  }
 },
 "nbformat": 4,
 "nbformat_minor": 2
}
