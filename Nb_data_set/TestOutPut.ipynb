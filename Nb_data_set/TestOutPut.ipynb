{
 "cells": [
  {
   "cell_type": "code",
   "execution_count": 1,
   "metadata": {
    "papermill": {
     "duration": 0.449451,
     "end_time": "2020-05-26T17:08:41.220868",
     "exception": false,
     "start_time": "2020-05-26T17:08:40.771417",
     "status": "completed"
    },
    "tags": []
   },
   "outputs": [],
   "source": [
    "import pandas as pd \n",
    "import numpy  as np \n",
    "from pathlib import Path\n",
    "import pickle\n",
    "import os"
   ]
  },
  {
   "cell_type": "code",
   "execution_count": 2,
   "metadata": {
    "papermill": {
     "duration": 0.036069,
     "end_time": "2020-05-26T17:08:41.287711",
     "exception": false,
     "start_time": "2020-05-26T17:08:41.251642",
     "status": "completed"
    },
    "tags": []
   },
   "outputs": [],
   "source": [
    "import data_set_analysis_helper_functions as ahf"
   ]
  },
  {
   "cell_type": "code",
   "execution_count": 3,
   "metadata": {
    "papermill": {
     "duration": 0.031797,
     "end_time": "2020-05-26T17:08:41.348843",
     "exception": false,
     "start_time": "2020-05-26T17:08:41.317046",
     "status": "completed"
    },
    "tags": [
     "parameters"
    ]
   },
   "outputs": [],
   "source": [
    "#data to be analyzed: \n",
    "data_dir_input = \"/Users/gilmandelbaum/Desktop/opto_final/OptoConsump\"\n",
    "#where to save the analyzed data: \n",
    "data_dir_output = \"/Users/gilmandelbaum/Desktop/opto_final/OptoConsump_output_8\"\n",
    "\n",
    "\n",
    "HowManyBack=1\n",
    "\n",
    "Mouse_Date_FileName_list = \"MasterOptoConsumption\"\n",
    "\n",
    "seq_str= \"0a1ad2a4abc5a6a\""
   ]
  },
  {
   "cell_type": "code",
   "execution_count": 4,
   "metadata": {
    "papermill": {
     "duration": 0.033422,
     "end_time": "2020-05-26T17:08:41.407297",
     "exception": false,
     "start_time": "2020-05-26T17:08:41.373875",
     "status": "completed"
    },
    "tags": [
     "injected-parameters"
    ]
   },
   "outputs": [],
   "source": [
    "# Parameters\n",
    "data_dir_input = \"/Users/gilmandelbaum/Dropbox (HMS)/0.STRpaper/4.Optogenetics/opto_consumption_final/0.FullDataSet/OptoConsump_raw\"\n",
    "data_dir_output = \"/Users/gilmandelbaum/Dropbox (HMS)/0.STRpaper/4.Optogenetics/opto_consumption_final/0.FullDataSet/OptoConsump_output\"\n",
    "HowManyBack = 1\n",
    "seq_str = \"0a1ad2a4abc5a6a\"\n",
    "Mouse_Date_FileName_list = \"MasterOptoConsumption\"\n"
   ]
  },
  {
   "cell_type": "code",
   "execution_count": 5,
   "metadata": {
    "papermill": {
     "duration": 0.038276,
     "end_time": "2020-05-26T17:08:41.474844",
     "exception": false,
     "start_time": "2020-05-26T17:08:41.436568",
     "status": "completed"
    },
    "tags": []
   },
   "outputs": [],
   "source": [
    "folder_name = \"timeOfLicks\""
   ]
  },
  {
   "cell_type": "code",
   "execution_count": 6,
   "metadata": {
    "papermill": {
     "duration": 0.037095,
     "end_time": "2020-05-26T17:08:41.538719",
     "exception": false,
     "start_time": "2020-05-26T17:08:41.501624",
     "status": "completed"
    },
    "scrolled": true,
    "tags": []
   },
   "outputs": [],
   "source": [
    "Mouse_Date_FileName = pd.read_csv(data_dir_input+\"/\"+Mouse_Date_FileName_list+\".csv\")"
   ]
  },
  {
   "cell_type": "code",
   "execution_count": 7,
   "metadata": {
    "papermill": {
     "duration": 0.441825,
     "end_time": "2020-05-26T17:08:42.004955",
     "exception": false,
     "start_time": "2020-05-26T17:08:41.563130",
     "status": "completed"
    },
    "tags": []
   },
   "outputs": [],
   "source": [
    "Reward_NoReward_stay_right = ahf.loadSession_csv (Mouse_Date_FileName,data_dir_output,\n",
    "                                                  HowManyBack,folder_name,seq_str,\"Reward_NoReward_tag_stay_right\")"
   ]
  },
  {
   "cell_type": "code",
   "execution_count": 8,
   "metadata": {
    "papermill": {
     "duration": 0.465224,
     "end_time": "2020-05-26T17:08:42.503752",
     "exception": false,
     "start_time": "2020-05-26T17:08:42.038528",
     "status": "completed"
    },
    "scrolled": true,
    "tags": []
   },
   "outputs": [],
   "source": [
    "Reward_NoReward_switch_right = ahf.loadSession_csv (Mouse_Date_FileName,data_dir_output,\n",
    "                                       HowManyBack,folder_name,seq_str,\"Reward_NoReward_tag_switch_right\")"
   ]
  },
  {
   "cell_type": "code",
   "execution_count": 9,
   "metadata": {
    "papermill": {
     "duration": 0.46697,
     "end_time": "2020-05-26T17:08:43.000757",
     "exception": false,
     "start_time": "2020-05-26T17:08:42.533787",
     "status": "completed"
    },
    "tags": []
   },
   "outputs": [],
   "source": [
    "Reward_NoReward_stay_left = ahf.loadSession_csv (Mouse_Date_FileName,data_dir_output,\n",
    "                                     HowManyBack,folder_name,seq_str,\"Reward_NoReward_tag_stay_left\")"
   ]
  },
  {
   "cell_type": "code",
   "execution_count": 10,
   "metadata": {
    "papermill": {
     "duration": 0.424099,
     "end_time": "2020-05-26T17:08:43.453434",
     "exception": false,
     "start_time": "2020-05-26T17:08:43.029335",
     "status": "completed"
    },
    "tags": []
   },
   "outputs": [],
   "source": [
    "Reward_NoReward_switch_left = ahf.loadSession_csv (Mouse_Date_FileName,data_dir_output,\n",
    "                                                   HowManyBack,folder_name,seq_str,\"Reward_NoReward_tag_switch_left\")"
   ]
  },
  {
   "cell_type": "code",
   "execution_count": 11,
   "metadata": {
    "papermill": {
     "duration": 0.616791,
     "end_time": "2020-05-26T17:08:44.096038",
     "exception": false,
     "start_time": "2020-05-26T17:08:43.479247",
     "status": "completed"
    },
    "tags": []
   },
   "outputs": [],
   "source": [
    "df_list = ahf.extract_data_set_consumption_times_std (Mouse_Date_FileName,\n",
    "                                                      Reward_NoReward_stay_right,\n",
    "                                                      Reward_NoReward_switch_right,\n",
    "                                                      Reward_NoReward_stay_left,\n",
    "                                                      Reward_NoReward_switch_left)"
   ]
  },
  {
   "cell_type": "code",
   "execution_count": 12,
   "metadata": {
    "papermill": {
     "duration": 0.372774,
     "end_time": "2020-05-26T17:08:44.493785",
     "exception": false,
     "start_time": "2020-05-26T17:08:44.121011",
     "status": "completed"
    },
    "tags": []
   },
   "outputs": [],
   "source": [
    "df_switchSide_switch_std=ahf.generating_data_set_consumption_times_2(Mouse_Date_FileName,df_list,\n",
    "                                                                     \"switchSide_switch_std\",'_std')"
   ]
  },
  {
   "cell_type": "code",
   "execution_count": 13,
   "metadata": {
    "papermill": {
     "duration": 0.331765,
     "end_time": "2020-05-26T17:08:44.850960",
     "exception": false,
     "start_time": "2020-05-26T17:08:44.519195",
     "status": "completed"
    },
    "tags": []
   },
   "outputs": [],
   "source": [
    "df_switchSide_Stay_std=ahf.generating_data_set_consumption_times_2(Mouse_Date_FileName,df_list,\n",
    "                                                               \"switchSide_Stay_std\",'_std')"
   ]
  },
  {
   "cell_type": "code",
   "execution_count": 14,
   "metadata": {
    "papermill": {
     "duration": 0.32488,
     "end_time": "2020-05-26T17:08:45.200015",
     "exception": false,
     "start_time": "2020-05-26T17:08:44.875135",
     "status": "completed"
    },
    "tags": []
   },
   "outputs": [],
   "source": [
    "df_NOswitchSide_switch_std=ahf.generating_data_set_consumption_times_2(Mouse_Date_FileName,df_list,\n",
    "                                                                 \"NOswitchSide_switch_std\",'_std')"
   ]
  },
  {
   "cell_type": "code",
   "execution_count": 15,
   "metadata": {
    "papermill": {
     "duration": 0.351322,
     "end_time": "2020-05-26T17:08:45.576177",
     "exception": false,
     "start_time": "2020-05-26T17:08:45.224855",
     "status": "completed"
    },
    "tags": []
   },
   "outputs": [],
   "source": [
    "df_NOswitchSide_Stay_std=ahf.generating_data_set_consumption_times_2(Mouse_Date_FileName,df_list,\n",
    "                                                               \"NOswitchSide_Stay_std\",'_std')"
   ]
  },
  {
   "cell_type": "code",
   "execution_count": 16,
   "metadata": {
    "papermill": {
     "duration": 0.061761,
     "end_time": "2020-05-26T17:08:45.663926",
     "exception": false,
     "start_time": "2020-05-26T17:08:45.602165",
     "status": "completed"
    },
    "tags": []
   },
   "outputs": [],
   "source": [
    "seq_str_d= \"0a1ad2a4abc5a6d\"\n",
    "folder_name_d = \"each_lick_per_period_with_direction\""
   ]
  },
  {
   "cell_type": "code",
   "execution_count": 17,
   "metadata": {
    "papermill": {
     "duration": 109.737204,
     "end_time": "2020-05-26T17:10:35.433125",
     "exception": false,
     "start_time": "2020-05-26T17:08:45.695921",
     "status": "completed"
    },
    "tags": []
   },
   "outputs": [],
   "source": [
    "Reward_NoReward_stay_right_directions = ahf.loadSession_csv (Mouse_Date_FileName,data_dir_output,\n",
    "                                     HowManyBack,folder_name_d,seq_str_d,\"Reward_NoReward_tag_stay_right\")"
   ]
  },
  {
   "cell_type": "code",
   "execution_count": 18,
   "metadata": {
    "papermill": {
     "duration": 94.047135,
     "end_time": "2020-05-26T17:12:09.513364",
     "exception": false,
     "start_time": "2020-05-26T17:10:35.466229",
     "status": "completed"
    },
    "tags": []
   },
   "outputs": [],
   "source": [
    "Reward_NoReward_switch_right_directions = ahf.loadSession_csv (Mouse_Date_FileName,data_dir_output,\n",
    "                                       HowManyBack,folder_name_d,seq_str_d,\"Reward_NoReward_tag_switch_right\")"
   ]
  },
  {
   "cell_type": "code",
   "execution_count": 19,
   "metadata": {
    "papermill": {
     "duration": 102.143944,
     "end_time": "2020-05-26T17:13:51.693028",
     "exception": false,
     "start_time": "2020-05-26T17:12:09.549084",
     "status": "completed"
    },
    "tags": []
   },
   "outputs": [],
   "source": [
    "Reward_NoReward_stay_left_directions = ahf.loadSession_csv (Mouse_Date_FileName,data_dir_output,\n",
    "                                     HowManyBack,folder_name_d,seq_str_d,\"Reward_NoReward_tag_stay_left\")"
   ]
  },
  {
   "cell_type": "code",
   "execution_count": 20,
   "metadata": {
    "papermill": {
     "duration": 78.308676,
     "end_time": "2020-05-26T17:15:10.029455",
     "exception": false,
     "start_time": "2020-05-26T17:13:51.720779",
     "status": "completed"
    },
    "tags": []
   },
   "outputs": [],
   "source": [
    "Reward_NoReward_switch_left_directions = ahf.loadSession_csv (Mouse_Date_FileName,data_dir_output,\n",
    "                                       HowManyBack,folder_name_d,seq_str_d,\"Reward_NoReward_tag_switch_left\")"
   ]
  },
  {
   "cell_type": "code",
   "execution_count": null,
   "metadata": {
    "papermill": {
     "duration": 0.037667,
     "end_time": "2020-05-26T17:15:10.120257",
     "exception": false,
     "start_time": "2020-05-26T17:15:10.082590",
     "status": "completed"
    },
    "tags": []
   },
   "outputs": [],
   "source": []
  },
  {
   "cell_type": "code",
   "execution_count": 21,
   "metadata": {
    "papermill": {
     "duration": 2.284805,
     "end_time": "2020-05-26T17:15:12.433926",
     "exception": false,
     "start_time": "2020-05-26T17:15:10.149121",
     "status": "completed"
    },
    "tags": []
   },
   "outputs": [],
   "source": [
    "df_list = ahf.extract_data_set_consumption_directions (Mouse_Date_FileName,\n",
    "                                                       Reward_NoReward_stay_right_directions,\n",
    "                                                       Reward_NoReward_switch_right_directions,\n",
    "                                                       Reward_NoReward_stay_left_directions,\n",
    "                                                       Reward_NoReward_switch_left_directions)"
   ]
  },
  {
   "cell_type": "code",
   "execution_count": 22,
   "metadata": {
    "papermill": {
     "duration": 0.345378,
     "end_time": "2020-05-26T17:15:12.806584",
     "exception": false,
     "start_time": "2020-05-26T17:15:12.461206",
     "status": "completed"
    },
    "tags": []
   },
   "outputs": [],
   "source": [
    "df_switchSide_switch_contra=ahf.generating_data_set_consumption_times_2(Mouse_Date_FileName,df_list,\n",
    "                                                                        \"switchSide_switch_contra\",'_contra')"
   ]
  },
  {
   "cell_type": "code",
   "execution_count": 23,
   "metadata": {
    "papermill": {
     "duration": 0.336638,
     "end_time": "2020-05-26T17:15:13.169044",
     "exception": false,
     "start_time": "2020-05-26T17:15:12.832406",
     "status": "completed"
    },
    "tags": []
   },
   "outputs": [],
   "source": [
    "df_switchSide_switch_ipsi=ahf.generating_data_set_consumption_times_2(Mouse_Date_FileName,df_list,\n",
    "                                                                      \"switchSide_switch_ipsi\",'_ipsi')"
   ]
  },
  {
   "cell_type": "code",
   "execution_count": 24,
   "metadata": {
    "papermill": {
     "duration": 0.341274,
     "end_time": "2020-05-26T17:15:13.535760",
     "exception": false,
     "start_time": "2020-05-26T17:15:13.194486",
     "status": "completed"
    },
    "tags": []
   },
   "outputs": [],
   "source": [
    "df_switchSide_switch_total=ahf.generating_data_set_consumption_times_2(Mouse_Date_FileName,df_list,\n",
    "                                                                       \"switchSide_switch_total\",'_total')"
   ]
  },
  {
   "cell_type": "code",
   "execution_count": 25,
   "metadata": {
    "papermill": {
     "duration": 0.34268,
     "end_time": "2020-05-26T17:15:13.905178",
     "exception": false,
     "start_time": "2020-05-26T17:15:13.562498",
     "status": "completed"
    },
    "tags": []
   },
   "outputs": [],
   "source": [
    "df_switchSide_switch_ratio=ahf.generating_data_set_consumption_times_2(Mouse_Date_FileName,df_list,\n",
    "                                                                       \"switchSide_switch_ratio\",'_ratio')"
   ]
  },
  {
   "cell_type": "code",
   "execution_count": 26,
   "metadata": {
    "papermill": {
     "duration": 0.363304,
     "end_time": "2020-05-26T17:15:14.294868",
     "exception": false,
     "start_time": "2020-05-26T17:15:13.931564",
     "status": "completed"
    },
    "tags": []
   },
   "outputs": [],
   "source": [
    "df_switchSide_Stay_contra=ahf.generating_data_set_consumption_times_2(Mouse_Date_FileName,df_list,\n",
    "                                                                      \"switchSide_Stay_contra\",'_contra')"
   ]
  },
  {
   "cell_type": "code",
   "execution_count": 27,
   "metadata": {
    "papermill": {
     "duration": 0.446537,
     "end_time": "2020-05-26T17:15:14.767971",
     "exception": false,
     "start_time": "2020-05-26T17:15:14.321434",
     "status": "completed"
    },
    "tags": []
   },
   "outputs": [],
   "source": [
    "df_switchSide_Stay_ipsi=ahf.generating_data_set_consumption_times_2(Mouse_Date_FileName,df_list,\n",
    "                                                                    \"switchSide_Stay_ipsi\",'_ipsi')"
   ]
  },
  {
   "cell_type": "code",
   "execution_count": 28,
   "metadata": {
    "papermill": {
     "duration": 0.373475,
     "end_time": "2020-05-26T17:15:15.167851",
     "exception": false,
     "start_time": "2020-05-26T17:15:14.794376",
     "status": "completed"
    },
    "tags": []
   },
   "outputs": [],
   "source": [
    "df_switchSide_Stay_total=ahf.generating_data_set_consumption_times_2(Mouse_Date_FileName,df_list,\n",
    "                                                                     \"switchSide_Stay_total\",'_total')"
   ]
  },
  {
   "cell_type": "code",
   "execution_count": 29,
   "metadata": {
    "papermill": {
     "duration": 0.331183,
     "end_time": "2020-05-26T17:15:15.525843",
     "exception": false,
     "start_time": "2020-05-26T17:15:15.194660",
     "status": "completed"
    },
    "tags": []
   },
   "outputs": [],
   "source": [
    "df_switchSide_Stay_ratio=ahf.generating_data_set_consumption_times_2(Mouse_Date_FileName,df_list,\n",
    "                                                               \"switchSide_Stay_ratio\",'_ratio')"
   ]
  },
  {
   "cell_type": "code",
   "execution_count": 30,
   "metadata": {
    "papermill": {
     "duration": 0.33361,
     "end_time": "2020-05-26T17:15:15.885667",
     "exception": false,
     "start_time": "2020-05-26T17:15:15.552057",
     "status": "completed"
    },
    "tags": []
   },
   "outputs": [],
   "source": [
    "df_NOswitchSide_switch_contra=ahf.generating_data_set_consumption_times_2(Mouse_Date_FileName,df_list,\n",
    "                                                                          \"NOswitchSide_switch_contra\",'_contra')"
   ]
  },
  {
   "cell_type": "code",
   "execution_count": 31,
   "metadata": {
    "papermill": {
     "duration": 0.330004,
     "end_time": "2020-05-26T17:15:16.241975",
     "exception": false,
     "start_time": "2020-05-26T17:15:15.911971",
     "status": "completed"
    },
    "tags": []
   },
   "outputs": [],
   "source": [
    "df_NOswitchSide_switch_ipsi=ahf.generating_data_set_consumption_times_2(Mouse_Date_FileName,df_list,\n",
    "                                                                        \"NOswitchSide_switch_ipsi\",'_ipsi')"
   ]
  },
  {
   "cell_type": "code",
   "execution_count": 32,
   "metadata": {
    "papermill": {
     "duration": 0.327784,
     "end_time": "2020-05-26T17:15:16.595405",
     "exception": false,
     "start_time": "2020-05-26T17:15:16.267621",
     "status": "completed"
    },
    "tags": []
   },
   "outputs": [],
   "source": [
    "df_NOswitchSide_switch_total=ahf.generating_data_set_consumption_times_2(Mouse_Date_FileName,df_list,\n",
    "                                                                         \"NOswitchSide_switch_total\",'_total')"
   ]
  },
  {
   "cell_type": "code",
   "execution_count": 33,
   "metadata": {
    "papermill": {
     "duration": 0.327774,
     "end_time": "2020-05-26T17:15:16.949985",
     "exception": false,
     "start_time": "2020-05-26T17:15:16.622211",
     "status": "completed"
    },
    "tags": []
   },
   "outputs": [],
   "source": [
    "df_NOswitchSide_switch_ratio=ahf.generating_data_set_consumption_times_2(Mouse_Date_FileName,df_list,\n",
    "                                                                         \"NOswitchSide_switch_ratio\",'_ratio')"
   ]
  },
  {
   "cell_type": "code",
   "execution_count": 34,
   "metadata": {
    "papermill": {
     "duration": 0.35284,
     "end_time": "2020-05-26T17:15:17.326133",
     "exception": false,
     "start_time": "2020-05-26T17:15:16.973293",
     "status": "completed"
    },
    "tags": []
   },
   "outputs": [],
   "source": [
    "df_NOswitchSide_Stay_contra=ahf.generating_data_set_consumption_times_2(Mouse_Date_FileName,df_list,\n",
    "                                                                        \"NOswitchSide_Stay_contra\",'_contra')"
   ]
  },
  {
   "cell_type": "code",
   "execution_count": 35,
   "metadata": {
    "papermill": {
     "duration": 0.353167,
     "end_time": "2020-05-26T17:15:17.704151",
     "exception": false,
     "start_time": "2020-05-26T17:15:17.350984",
     "status": "completed"
    },
    "tags": []
   },
   "outputs": [],
   "source": [
    "df_NOswitchSide_Stay_ipsi=ahf.generating_data_set_consumption_times_2(Mouse_Date_FileName,df_list,\n",
    "                                                                      \"NOswitchSide_Stay_ipsi\",'_ipsi')"
   ]
  },
  {
   "cell_type": "code",
   "execution_count": 36,
   "metadata": {
    "papermill": {
     "duration": 0.338192,
     "end_time": "2020-05-26T17:15:18.070500",
     "exception": false,
     "start_time": "2020-05-26T17:15:17.732308",
     "status": "completed"
    },
    "tags": []
   },
   "outputs": [],
   "source": [
    "df_NOswitchSide_Stay_total=ahf.generating_data_set_consumption_times_2(Mouse_Date_FileName,df_list,\n",
    "                                                                       \"NOswitchSide_Stay_total\",'_total')"
   ]
  },
  {
   "cell_type": "code",
   "execution_count": 37,
   "metadata": {
    "papermill": {
     "duration": 0.312989,
     "end_time": "2020-05-26T17:15:18.409683",
     "exception": false,
     "start_time": "2020-05-26T17:15:18.096694",
     "status": "completed"
    },
    "tags": []
   },
   "outputs": [],
   "source": [
    "df_NOswitchSide_Stay_ratio=ahf.generating_data_set_consumption_times_2(Mouse_Date_FileName,df_list,\n",
    "                                                                       \"NOswitchSide_Stay_ratio\",'_ratio')"
   ]
  },
  {
   "cell_type": "code",
   "execution_count": 38,
   "metadata": {
    "papermill": {
     "duration": 0.03205,
     "end_time": "2020-05-26T17:15:18.465851",
     "exception": false,
     "start_time": "2020-05-26T17:15:18.433801",
     "status": "completed"
    },
    "tags": []
   },
   "outputs": [],
   "source": [
    "data_set = \"data_set\"+\"_\"+seq_str[:seq_str.index('6')]\n",
    "cache_dir_plt = os.path.join(data_dir_output, data_set)\n",
    "if not os.path.exists(cache_dir_plt):\n",
    "    os.makedirs(cache_dir_plt)"
   ]
  },
  {
   "cell_type": "code",
   "execution_count": 39,
   "metadata": {
    "papermill": {
     "duration": 0.02999,
     "end_time": "2020-05-26T17:15:18.520741",
     "exception": false,
     "start_time": "2020-05-26T17:15:18.490751",
     "status": "completed"
    },
    "tags": []
   },
   "outputs": [],
   "source": [
    "file = \"data_set_time_consumption_licks\"\n",
    "cache_dir_plt = os.path.join(data_dir_output,data_set, file)\n",
    "if not os.path.exists(cache_dir_plt):\n",
    "    os.makedirs(cache_dir_plt)"
   ]
  },
  {
   "cell_type": "code",
   "execution_count": 40,
   "metadata": {
    "papermill": {
     "duration": 0.039585,
     "end_time": "2020-05-26T17:15:18.585158",
     "exception": false,
     "start_time": "2020-05-26T17:15:18.545573",
     "status": "completed"
    },
    "tags": []
   },
   "outputs": [],
   "source": [
    "df_switchSide_switch_std.to_csv(data_dir_output+\"/\"+data_set+\"/\"+file+\"/\"+\"switch_side_switch_std\"+seq_str+\".csv\")"
   ]
  },
  {
   "cell_type": "code",
   "execution_count": 41,
   "metadata": {
    "papermill": {
     "duration": 0.035939,
     "end_time": "2020-05-26T17:15:18.645493",
     "exception": false,
     "start_time": "2020-05-26T17:15:18.609554",
     "status": "completed"
    },
    "tags": []
   },
   "outputs": [],
   "source": [
    "df_switchSide_switch_contra.to_csv(data_dir_output+\"/\"+data_set+\"/\"+file+\"/\"+\"switch_side_switch_contra\"+seq_str+\".csv\")"
   ]
  },
  {
   "cell_type": "code",
   "execution_count": 42,
   "metadata": {
    "papermill": {
     "duration": 0.036975,
     "end_time": "2020-05-26T17:15:18.707945",
     "exception": false,
     "start_time": "2020-05-26T17:15:18.670970",
     "status": "completed"
    },
    "tags": []
   },
   "outputs": [],
   "source": [
    "df_switchSide_switch_ipsi.to_csv(data_dir_output+\"/\"+data_set+\"/\"+file+\"/\"+\"switch_side_switch_ipsi\"+seq_str+\".csv\")"
   ]
  },
  {
   "cell_type": "code",
   "execution_count": 43,
   "metadata": {
    "papermill": {
     "duration": 0.035426,
     "end_time": "2020-05-26T17:15:18.767766",
     "exception": false,
     "start_time": "2020-05-26T17:15:18.732340",
     "status": "completed"
    },
    "tags": []
   },
   "outputs": [],
   "source": [
    "df_switchSide_switch_total.to_csv(data_dir_output+\"/\"+data_set+\"/\"+file+\"/\"+\"switch_side_switch_total\"+seq_str+\".csv\")"
   ]
  },
  {
   "cell_type": "code",
   "execution_count": 44,
   "metadata": {
    "papermill": {
     "duration": 0.037518,
     "end_time": "2020-05-26T17:15:18.829954",
     "exception": false,
     "start_time": "2020-05-26T17:15:18.792436",
     "status": "completed"
    },
    "tags": []
   },
   "outputs": [],
   "source": [
    "df_switchSide_switch_ratio.to_csv(data_dir_output+\"/\"+data_set+\"/\"+file+\"/\"+\"switch_side_switch_ratio\"+seq_str+\".csv\")"
   ]
  },
  {
   "cell_type": "code",
   "execution_count": 45,
   "metadata": {
    "papermill": {
     "duration": 0.03724,
     "end_time": "2020-05-26T17:15:18.892483",
     "exception": false,
     "start_time": "2020-05-26T17:15:18.855243",
     "status": "completed"
    },
    "tags": []
   },
   "outputs": [],
   "source": [
    "df_switchSide_Stay_std.to_csv(data_dir_output+\"/\"+data_set+\"/\"+file+\"/\"+\"switch_side_stay_std\"+seq_str+\".csv\")"
   ]
  },
  {
   "cell_type": "code",
   "execution_count": 46,
   "metadata": {
    "papermill": {
     "duration": 0.038004,
     "end_time": "2020-05-26T17:15:18.956016",
     "exception": false,
     "start_time": "2020-05-26T17:15:18.918012",
     "status": "completed"
    },
    "tags": []
   },
   "outputs": [],
   "source": [
    "df_switchSide_Stay_contra.to_csv(data_dir_output+\"/\"+data_set+\"/\"+file+\"/\"+\"switch_side_stay_contra\"+seq_str+\".csv\")"
   ]
  },
  {
   "cell_type": "code",
   "execution_count": 47,
   "metadata": {
    "papermill": {
     "duration": 0.036676,
     "end_time": "2020-05-26T17:15:19.021817",
     "exception": false,
     "start_time": "2020-05-26T17:15:18.985141",
     "status": "completed"
    },
    "tags": []
   },
   "outputs": [],
   "source": [
    "df_switchSide_Stay_ipsi.to_csv(data_dir_output+\"/\"+data_set+\"/\"+file+\"/\"+\"switch_side_stay_ipsi\"+seq_str+\".csv\")"
   ]
  },
  {
   "cell_type": "code",
   "execution_count": 48,
   "metadata": {
    "papermill": {
     "duration": 0.038362,
     "end_time": "2020-05-26T17:15:19.086195",
     "exception": false,
     "start_time": "2020-05-26T17:15:19.047833",
     "status": "completed"
    },
    "tags": []
   },
   "outputs": [],
   "source": [
    "df_switchSide_Stay_total.to_csv(data_dir_output+\"/\"+data_set+\"/\"+file+\"/\"+\"switch_side_stay_total\"+seq_str+\".csv\")"
   ]
  },
  {
   "cell_type": "code",
   "execution_count": 49,
   "metadata": {
    "papermill": {
     "duration": 0.036259,
     "end_time": "2020-05-26T17:15:19.147553",
     "exception": false,
     "start_time": "2020-05-26T17:15:19.111294",
     "status": "completed"
    },
    "tags": []
   },
   "outputs": [],
   "source": [
    "df_switchSide_Stay_ratio.to_csv(data_dir_output+\"/\"+data_set+\"/\"+file+\"/\"+\"switch_side_stay_ratio\"+seq_str+\".csv\")"
   ]
  },
  {
   "cell_type": "code",
   "execution_count": 50,
   "metadata": {
    "papermill": {
     "duration": 0.049282,
     "end_time": "2020-05-26T17:15:19.224562",
     "exception": false,
     "start_time": "2020-05-26T17:15:19.175280",
     "status": "completed"
    },
    "tags": []
   },
   "outputs": [],
   "source": [
    "df_NOswitchSide_switch_std.to_csv(data_dir_output+\"/\"+data_set+\"/\"+file+\"/\"+\"NOswitch_side_switch_std\"+seq_str+\".csv\")"
   ]
  },
  {
   "cell_type": "code",
   "execution_count": 51,
   "metadata": {
    "papermill": {
     "duration": 0.038191,
     "end_time": "2020-05-26T17:15:19.302334",
     "exception": false,
     "start_time": "2020-05-26T17:15:19.264143",
     "status": "completed"
    },
    "tags": []
   },
   "outputs": [],
   "source": [
    "df_NOswitchSide_switch_contra.to_csv(data_dir_output+\"/\"+data_set+\"/\"+file+\"/\"+\"NOswitch_side_switch_contra\"+seq_str+\".csv\")"
   ]
  },
  {
   "cell_type": "code",
   "execution_count": 52,
   "metadata": {
    "papermill": {
     "duration": 0.03685,
     "end_time": "2020-05-26T17:15:19.366162",
     "exception": false,
     "start_time": "2020-05-26T17:15:19.329312",
     "status": "completed"
    },
    "tags": []
   },
   "outputs": [],
   "source": [
    "df_NOswitchSide_switch_ipsi.to_csv(data_dir_output+\"/\"+data_set+\"/\"+file+\"/\"+\"NOswitch_side_switch_ipsi\"+seq_str+\".csv\")"
   ]
  },
  {
   "cell_type": "code",
   "execution_count": 53,
   "metadata": {
    "papermill": {
     "duration": 0.036489,
     "end_time": "2020-05-26T17:15:19.427553",
     "exception": false,
     "start_time": "2020-05-26T17:15:19.391064",
     "status": "completed"
    },
    "tags": []
   },
   "outputs": [],
   "source": [
    "df_NOswitchSide_switch_total.to_csv(data_dir_output+\"/\"+data_set+\"/\"+file+\"/\"+\"NOswitch_side_switch_total\"+seq_str+\".csv\")"
   ]
  },
  {
   "cell_type": "code",
   "execution_count": 54,
   "metadata": {
    "papermill": {
     "duration": 0.038574,
     "end_time": "2020-05-26T17:15:19.492931",
     "exception": false,
     "start_time": "2020-05-26T17:15:19.454357",
     "status": "completed"
    },
    "tags": []
   },
   "outputs": [],
   "source": [
    "df_NOswitchSide_switch_ratio.to_csv(data_dir_output+\"/\"+data_set+\"/\"+file+\"/\"+\"NOswitch_side_switch_ratio\"+seq_str+\".csv\")"
   ]
  },
  {
   "cell_type": "code",
   "execution_count": 55,
   "metadata": {
    "papermill": {
     "duration": 0.038911,
     "end_time": "2020-05-26T17:15:19.563428",
     "exception": false,
     "start_time": "2020-05-26T17:15:19.524517",
     "status": "completed"
    },
    "tags": []
   },
   "outputs": [],
   "source": [
    "df_NOswitchSide_Stay_std.to_csv(data_dir_output+\"/\"+data_set+\"/\"+file+\"/\"+\"NOswitch_side_Stay_std\"+seq_str+\".csv\")"
   ]
  },
  {
   "cell_type": "code",
   "execution_count": 56,
   "metadata": {
    "papermill": {
     "duration": 0.037604,
     "end_time": "2020-05-26T17:15:19.627225",
     "exception": false,
     "start_time": "2020-05-26T17:15:19.589621",
     "status": "completed"
    },
    "tags": []
   },
   "outputs": [],
   "source": [
    "df_NOswitchSide_Stay_contra.to_csv(data_dir_output+\"/\"+data_set+\"/\"+file+\"/\"+\"NOswitch_side_Stay_contra\"+seq_str+\".csv\")"
   ]
  },
  {
   "cell_type": "code",
   "execution_count": 57,
   "metadata": {
    "papermill": {
     "duration": 0.036722,
     "end_time": "2020-05-26T17:15:19.688481",
     "exception": false,
     "start_time": "2020-05-26T17:15:19.651759",
     "status": "completed"
    },
    "tags": []
   },
   "outputs": [],
   "source": [
    "df_NOswitchSide_Stay_ipsi.to_csv(data_dir_output+\"/\"+data_set+\"/\"+file+\"/\"+\"NOswitch_side_Stay_ipsi\"+seq_str+\".csv\")"
   ]
  },
  {
   "cell_type": "code",
   "execution_count": 58,
   "metadata": {
    "papermill": {
     "duration": 0.038661,
     "end_time": "2020-05-26T17:15:19.753269",
     "exception": false,
     "start_time": "2020-05-26T17:15:19.714608",
     "status": "completed"
    },
    "tags": []
   },
   "outputs": [],
   "source": [
    "df_NOswitchSide_Stay_total.to_csv(data_dir_output+\"/\"+data_set+\"/\"+file+\"/\"+\"NOswitch_side_Stay_total\"+seq_str+\".csv\")"
   ]
  },
  {
   "cell_type": "code",
   "execution_count": 59,
   "metadata": {
    "papermill": {
     "duration": 0.03728,
     "end_time": "2020-05-26T17:15:19.815258",
     "exception": false,
     "start_time": "2020-05-26T17:15:19.777978",
     "status": "completed"
    },
    "tags": []
   },
   "outputs": [],
   "source": [
    "df_NOswitchSide_Stay_ratio.to_csv(data_dir_output+\"/\"+data_set+\"/\"+file+\"/\"+\"NOswitch_side_Stay_ratio\"+seq_str+\".csv\")"
   ]
  },
  {
   "cell_type": "code",
   "execution_count": null,
   "metadata": {
    "papermill": {
     "duration": 0.025642,
     "end_time": "2020-05-26T17:15:19.867291",
     "exception": false,
     "start_time": "2020-05-26T17:15:19.841649",
     "status": "completed"
    },
    "tags": []
   },
   "outputs": [],
   "source": []
  }
 ],
 "metadata": {
  "celltoolbar": "Tags",
  "kernelspec": {
   "display_name": "Python 3",
   "language": "python",
   "name": "python3"
  },
  "language_info": {
   "codemirror_mode": {
    "name": "ipython",
    "version": 3
   },
   "file_extension": ".py",
   "mimetype": "text/x-python",
   "name": "python",
   "nbconvert_exporter": "python",
   "pygments_lexer": "ipython3",
   "version": "3.7.3"
  },
  "papermill": {
   "duration": 400.185082,
   "end_time": "2020-05-26T17:15:20.204401",
   "environment_variables": {},
   "exception": null,
   "input_path": "data_set_direction_consumption_licks.ipynb",
   "output_path": "TestOutPut.ipynb",
   "parameters": {
    "HowManyBack": 1,
    "Mouse_Date_FileName_list": "MasterOptoConsumption",
    "data_dir_input": "/Users/gilmandelbaum/Dropbox (HMS)/0.STRpaper/4.Optogenetics/opto_consumption_final/0.FullDataSet/OptoConsump_raw",
    "data_dir_output": "/Users/gilmandelbaum/Dropbox (HMS)/0.STRpaper/4.Optogenetics/opto_consumption_final/0.FullDataSet/OptoConsump_output",
    "seq_str": "0a1ad2a4abc5a6a"
   },
   "start_time": "2020-05-26T17:08:40.019319",
   "version": "1.0.1"
  }
 },
 "nbformat": 4,
 "nbformat_minor": 2
}