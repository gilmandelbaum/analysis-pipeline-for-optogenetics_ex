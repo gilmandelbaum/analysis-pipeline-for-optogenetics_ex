{
 "cells": [
  {
   "cell_type": "code",
   "execution_count": 1,
   "metadata": {
    "execution": {
     "iopub.execute_input": "2020-05-27T01:43:36.591204Z",
     "iopub.status.busy": "2020-05-27T01:43:36.589870Z",
     "iopub.status.idle": "2020-05-27T01:43:36.835012Z",
     "shell.execute_reply": "2020-05-27T01:43:36.834471Z"
    },
    "papermill": {
     "duration": 0.314803,
     "end_time": "2020-05-27T01:43:36.835095",
     "exception": false,
     "start_time": "2020-05-27T01:43:36.520292",
     "status": "completed"
    },
    "tags": []
   },
   "outputs": [],
   "source": [
    "import pandas as pd \n",
    "import numpy  as np \n",
    "from pathlib import Path\n",
    "import pickle\n",
    "import os"
   ]
  },
  {
   "cell_type": "code",
   "execution_count": 2,
   "metadata": {
    "execution": {
     "iopub.execute_input": "2020-05-27T01:43:36.896828Z",
     "iopub.status.busy": "2020-05-27T01:43:36.895780Z",
     "iopub.status.idle": "2020-05-27T01:43:36.899248Z",
     "shell.execute_reply": "2020-05-27T01:43:36.899849Z"
    },
    "papermill": {
     "duration": 0.037721,
     "end_time": "2020-05-27T01:43:36.899972",
     "exception": false,
     "start_time": "2020-05-27T01:43:36.862251",
     "status": "completed"
    },
    "tags": []
   },
   "outputs": [],
   "source": [
    "import data_set_analysis_helper_functions as ahf"
   ]
  },
  {
   "cell_type": "code",
   "execution_count": 3,
   "metadata": {
    "execution": {
     "iopub.execute_input": "2020-05-27T01:43:36.968626Z",
     "iopub.status.busy": "2020-05-27T01:43:36.967751Z",
     "iopub.status.idle": "2020-05-27T01:43:36.970487Z",
     "shell.execute_reply": "2020-05-27T01:43:36.971153Z"
    },
    "papermill": {
     "duration": 0.038455,
     "end_time": "2020-05-27T01:43:36.971280",
     "exception": false,
     "start_time": "2020-05-27T01:43:36.932825",
     "status": "completed"
    },
    "tags": [
     "parameters"
    ]
   },
   "outputs": [],
   "source": [
    "#data to be analyzed: \n",
    "data_dir_input = \"/Users/gilmandelbaum/Desktop/opto_final/OptoConsump\"\n",
    "#where to save the analyzed data: \n",
    "data_dir_output = \"/Users/gilmandelbaum/Desktop/opto_final/OptoConsump_output_8\"\n",
    "\n",
    "\n",
    "HowManyBack=1\n",
    "\n",
    "Mouse_Date_FileName_list = \"MasterOptoConsumption\"\n",
    "\n",
    "seq_str= \"0a1ad2a4abc5a6a\""
   ]
  },
  {
   "cell_type": "code",
   "execution_count": 4,
   "metadata": {
    "execution": {
     "iopub.execute_input": "2020-05-27T01:43:37.032186Z",
     "iopub.status.busy": "2020-05-27T01:43:37.031203Z",
     "iopub.status.idle": "2020-05-27T01:43:37.033691Z",
     "shell.execute_reply": "2020-05-27T01:43:37.034097Z"
    },
    "papermill": {
     "duration": 0.032894,
     "end_time": "2020-05-27T01:43:37.034210",
     "exception": false,
     "start_time": "2020-05-27T01:43:37.001316",
     "status": "completed"
    },
    "tags": [
     "injected-parameters"
    ]
   },
   "outputs": [],
   "source": [
    "# Parameters\n",
    "data_dir_input = \"/Users/gilmandelbaum/Dropbox (HMS)/0.STRpaper/4.Optogenetics/opto_consumption_final/0.FullDataSet/OptoConsump_raw\"\n",
    "data_dir_output = \"/Users/gilmandelbaum/Dropbox (HMS)/0.STRpaper/4.Optogenetics/opto_consumption_final/0.FullDataSet/OptoConsump_output\"\n",
    "HowManyBack = 1\n",
    "seq_str = \"0a1ad2a4abc5a6a\"\n",
    "Mouse_Date_FileName_list = \"MasterOptoConsumption_short\"\n"
   ]
  },
  {
   "cell_type": "code",
   "execution_count": 5,
   "metadata": {
    "execution": {
     "iopub.execute_input": "2020-05-27T01:43:37.087945Z",
     "iopub.status.busy": "2020-05-27T01:43:37.087475Z",
     "iopub.status.idle": "2020-05-27T01:43:37.089987Z",
     "shell.execute_reply": "2020-05-27T01:43:37.089509Z"
    },
    "papermill": {
     "duration": 0.02907,
     "end_time": "2020-05-27T01:43:37.090060",
     "exception": false,
     "start_time": "2020-05-27T01:43:37.060990",
     "status": "completed"
    },
    "tags": []
   },
   "outputs": [],
   "source": [
    "folder_name = \"timeOfLicks\""
   ]
  },
  {
   "cell_type": "code",
   "execution_count": 6,
   "metadata": {
    "execution": {
     "iopub.execute_input": "2020-05-27T01:43:37.147490Z",
     "iopub.status.busy": "2020-05-27T01:43:37.146973Z",
     "iopub.status.idle": "2020-05-27T01:43:37.149402Z",
     "shell.execute_reply": "2020-05-27T01:43:37.148873Z"
    },
    "papermill": {
     "duration": 0.03469,
     "end_time": "2020-05-27T01:43:37.149478",
     "exception": false,
     "start_time": "2020-05-27T01:43:37.114788",
     "status": "completed"
    },
    "scrolled": true,
    "tags": []
   },
   "outputs": [],
   "source": [
    "Mouse_Date_FileName = pd.read_csv(data_dir_input+\"/\"+Mouse_Date_FileName_list+\".csv\")"
   ]
  },
  {
   "cell_type": "code",
   "execution_count": 7,
   "metadata": {
    "execution": {
     "iopub.execute_input": "2020-05-27T01:43:37.213796Z",
     "iopub.status.busy": "2020-05-27T01:43:37.203906Z",
     "iopub.status.idle": "2020-05-27T01:43:37.216328Z",
     "shell.execute_reply": "2020-05-27T01:43:37.215849Z"
    },
    "papermill": {
     "duration": 0.042155,
     "end_time": "2020-05-27T01:43:37.216403",
     "exception": false,
     "start_time": "2020-05-27T01:43:37.174248",
     "status": "completed"
    },
    "tags": []
   },
   "outputs": [],
   "source": [
    "Reward_NoReward_stay_right = ahf.loadSession_csv (Mouse_Date_FileName,data_dir_output,\n",
    "                                                  HowManyBack,folder_name,seq_str,\"Reward_NoReward_tag_stay_right\")"
   ]
  },
  {
   "cell_type": "code",
   "execution_count": 8,
   "metadata": {
    "execution": {
     "iopub.execute_input": "2020-05-27T01:43:37.271103Z",
     "iopub.status.busy": "2020-05-27T01:43:37.270325Z",
     "iopub.status.idle": "2020-05-27T01:43:37.286248Z",
     "shell.execute_reply": "2020-05-27T01:43:37.286790Z"
    },
    "papermill": {
     "duration": 0.04643,
     "end_time": "2020-05-27T01:43:37.286902",
     "exception": false,
     "start_time": "2020-05-27T01:43:37.240472",
     "status": "completed"
    },
    "scrolled": true,
    "tags": []
   },
   "outputs": [],
   "source": [
    "Reward_NoReward_switch_right = ahf.loadSession_csv (Mouse_Date_FileName,data_dir_output,\n",
    "                                       HowManyBack,folder_name,seq_str,\"Reward_NoReward_tag_switch_right\")"
   ]
  },
  {
   "cell_type": "code",
   "execution_count": 9,
   "metadata": {
    "execution": {
     "iopub.execute_input": "2020-05-27T01:43:37.349574Z",
     "iopub.status.busy": "2020-05-27T01:43:37.346045Z",
     "iopub.status.idle": "2020-05-27T01:43:37.364558Z",
     "shell.execute_reply": "2020-05-27T01:43:37.363795Z"
    },
    "papermill": {
     "duration": 0.050815,
     "end_time": "2020-05-27T01:43:37.364683",
     "exception": false,
     "start_time": "2020-05-27T01:43:37.313868",
     "status": "completed"
    },
    "tags": []
   },
   "outputs": [],
   "source": [
    "Reward_NoReward_stay_left = ahf.loadSession_csv (Mouse_Date_FileName,data_dir_output,\n",
    "                                     HowManyBack,folder_name,seq_str,\"Reward_NoReward_tag_stay_left\")"
   ]
  },
  {
   "cell_type": "code",
   "execution_count": 10,
   "metadata": {
    "execution": {
     "iopub.execute_input": "2020-05-27T01:43:37.446057Z",
     "iopub.status.busy": "2020-05-27T01:43:37.445260Z",
     "iopub.status.idle": "2020-05-27T01:43:37.451537Z",
     "shell.execute_reply": "2020-05-27T01:43:37.452043Z"
    },
    "papermill": {
     "duration": 0.056288,
     "end_time": "2020-05-27T01:43:37.452181",
     "exception": false,
     "start_time": "2020-05-27T01:43:37.395893",
     "status": "completed"
    },
    "tags": []
   },
   "outputs": [],
   "source": [
    "Reward_NoReward_switch_left = ahf.loadSession_csv (Mouse_Date_FileName,data_dir_output,\n",
    "                                                   HowManyBack,folder_name,seq_str,\"Reward_NoReward_tag_switch_left\")"
   ]
  },
  {
   "cell_type": "code",
   "execution_count": 11,
   "metadata": {
    "execution": {
     "iopub.execute_input": "2020-05-27T01:43:37.523202Z",
     "iopub.status.busy": "2020-05-27T01:43:37.522091Z",
     "iopub.status.idle": "2020-05-27T01:43:37.558927Z",
     "shell.execute_reply": "2020-05-27T01:43:37.559530Z"
    },
    "papermill": {
     "duration": 0.076378,
     "end_time": "2020-05-27T01:43:37.559650",
     "exception": false,
     "start_time": "2020-05-27T01:43:37.483272",
     "status": "completed"
    },
    "tags": []
   },
   "outputs": [],
   "source": [
    "df_list = ahf.extract_data_set_consumption_times_std (Mouse_Date_FileName,\n",
    "                                                      Reward_NoReward_stay_right,\n",
    "                                                      Reward_NoReward_switch_right,\n",
    "                                                      Reward_NoReward_stay_left,\n",
    "                                                      Reward_NoReward_switch_left)"
   ]
  },
  {
   "cell_type": "code",
   "execution_count": 12,
   "metadata": {
    "execution": {
     "iopub.execute_input": "2020-05-27T01:43:37.665977Z",
     "iopub.status.busy": "2020-05-27T01:43:37.665301Z",
     "iopub.status.idle": "2020-05-27T01:43:37.669885Z",
     "shell.execute_reply": "2020-05-27T01:43:37.670527Z"
    },
    "papermill": {
     "duration": 0.078708,
     "end_time": "2020-05-27T01:43:37.670652",
     "exception": false,
     "start_time": "2020-05-27T01:43:37.591944",
     "status": "completed"
    },
    "tags": []
   },
   "outputs": [],
   "source": [
    "df_switchSide_switch_std=ahf.generating_data_set_consumption_times_2(Mouse_Date_FileName,df_list,\n",
    "                                                                     \"switchSide_switch_std\",'_std')"
   ]
  },
  {
   "cell_type": "code",
   "execution_count": 13,
   "metadata": {
    "execution": {
     "iopub.execute_input": "2020-05-27T01:43:37.752559Z",
     "iopub.status.busy": "2020-05-27T01:43:37.751932Z",
     "iopub.status.idle": "2020-05-27T01:43:37.754266Z",
     "shell.execute_reply": "2020-05-27T01:43:37.754846Z"
    },
    "papermill": {
     "duration": 0.05246,
     "end_time": "2020-05-27T01:43:37.754966",
     "exception": false,
     "start_time": "2020-05-27T01:43:37.702506",
     "status": "completed"
    },
    "tags": []
   },
   "outputs": [],
   "source": [
    "df_switchSide_Stay_std=ahf.generating_data_set_consumption_times_2(Mouse_Date_FileName,df_list,\n",
    "                                                               \"switchSide_Stay_std\",'_std')"
   ]
  },
  {
   "cell_type": "code",
   "execution_count": 14,
   "metadata": {
    "execution": {
     "iopub.execute_input": "2020-05-27T01:43:37.828931Z",
     "iopub.status.busy": "2020-05-27T01:43:37.828295Z",
     "iopub.status.idle": "2020-05-27T01:43:37.831191Z",
     "shell.execute_reply": "2020-05-27T01:43:37.830535Z"
    },
    "papermill": {
     "duration": 0.04906,
     "end_time": "2020-05-27T01:43:37.831289",
     "exception": false,
     "start_time": "2020-05-27T01:43:37.782229",
     "status": "completed"
    },
    "tags": []
   },
   "outputs": [],
   "source": [
    "df_NOswitchSide_switch_std=ahf.generating_data_set_consumption_times_2(Mouse_Date_FileName,df_list,\n",
    "                                                                 \"NOswitchSide_switch_std\",'_std')"
   ]
  },
  {
   "cell_type": "code",
   "execution_count": 15,
   "metadata": {
    "execution": {
     "iopub.execute_input": "2020-05-27T01:43:37.906624Z",
     "iopub.status.busy": "2020-05-27T01:43:37.905999Z",
     "iopub.status.idle": "2020-05-27T01:43:37.914760Z",
     "shell.execute_reply": "2020-05-27T01:43:37.914153Z"
    },
    "papermill": {
     "duration": 0.055518,
     "end_time": "2020-05-27T01:43:37.914857",
     "exception": false,
     "start_time": "2020-05-27T01:43:37.859339",
     "status": "completed"
    },
    "tags": []
   },
   "outputs": [],
   "source": [
    "df_NOswitchSide_Stay_std=ahf.generating_data_set_consumption_times_2(Mouse_Date_FileName,df_list,\n",
    "                                                               \"NOswitchSide_Stay_std\",'_std')"
   ]
  },
  {
   "cell_type": "code",
   "execution_count": 16,
   "metadata": {
    "execution": {
     "iopub.execute_input": "2020-05-27T01:43:37.979979Z",
     "iopub.status.busy": "2020-05-27T01:43:37.979286Z",
     "iopub.status.idle": "2020-05-27T01:43:37.982619Z",
     "shell.execute_reply": "2020-05-27T01:43:37.981981Z"
    },
    "papermill": {
     "duration": 0.038248,
     "end_time": "2020-05-27T01:43:37.982716",
     "exception": false,
     "start_time": "2020-05-27T01:43:37.944468",
     "status": "completed"
    },
    "tags": []
   },
   "outputs": [],
   "source": [
    "seq_str_d= \"0a1ad2a4abc5a6d\"\n",
    "folder_name_d = \"each_lick_per_period_with_direction\""
   ]
  },
  {
   "cell_type": "code",
   "execution_count": 17,
   "metadata": {
    "execution": {
     "iopub.execute_input": "2020-05-27T01:43:38.707097Z",
     "iopub.status.busy": "2020-05-27T01:43:38.706168Z",
     "iopub.status.idle": "2020-05-27T01:43:42.356960Z",
     "shell.execute_reply": "2020-05-27T01:43:42.356296Z"
    },
    "papermill": {
     "duration": 4.338879,
     "end_time": "2020-05-27T01:43:42.357059",
     "exception": false,
     "start_time": "2020-05-27T01:43:38.018180",
     "status": "completed"
    },
    "tags": []
   },
   "outputs": [],
   "source": [
    "Reward_NoReward_stay_right_directions = ahf.loadSession_csv (Mouse_Date_FileName,data_dir_output,\n",
    "                                     HowManyBack,folder_name_d,seq_str_d,\"Reward_NoReward_tag_stay_right\")"
   ]
  },
  {
   "cell_type": "code",
   "execution_count": 18,
   "metadata": {
    "execution": {
     "iopub.execute_input": "2020-05-27T01:43:44.366840Z",
     "iopub.status.busy": "2020-05-27T01:43:44.365981Z",
     "iopub.status.idle": "2020-05-27T01:43:46.257906Z",
     "shell.execute_reply": "2020-05-27T01:43:46.258522Z"
    },
    "papermill": {
     "duration": 3.868047,
     "end_time": "2020-05-27T01:43:46.258647",
     "exception": false,
     "start_time": "2020-05-27T01:43:42.390600",
     "status": "completed"
    },
    "tags": []
   },
   "outputs": [],
   "source": [
    "Reward_NoReward_switch_right_directions = ahf.loadSession_csv (Mouse_Date_FileName,data_dir_output,\n",
    "                                       HowManyBack,folder_name_d,seq_str_d,\"Reward_NoReward_tag_switch_right\")"
   ]
  },
  {
   "cell_type": "code",
   "execution_count": 19,
   "metadata": {
    "execution": {
     "iopub.execute_input": "2020-05-27T01:43:47.904018Z",
     "iopub.status.busy": "2020-05-27T01:43:47.086589Z",
     "iopub.status.idle": "2020-05-27T01:43:50.448417Z",
     "shell.execute_reply": "2020-05-27T01:43:50.449120Z"
    },
    "papermill": {
     "duration": 4.156831,
     "end_time": "2020-05-27T01:43:50.449250",
     "exception": false,
     "start_time": "2020-05-27T01:43:46.292419",
     "status": "completed"
    },
    "tags": []
   },
   "outputs": [],
   "source": [
    "Reward_NoReward_stay_left_directions = ahf.loadSession_csv (Mouse_Date_FileName,data_dir_output,\n",
    "                                     HowManyBack,folder_name_d,seq_str_d,\"Reward_NoReward_tag_stay_left\")"
   ]
  },
  {
   "cell_type": "code",
   "execution_count": 20,
   "metadata": {
    "execution": {
     "iopub.execute_input": "2020-05-27T01:43:51.855874Z",
     "iopub.status.busy": "2020-05-27T01:43:51.855134Z",
     "iopub.status.idle": "2020-05-27T01:43:55.472720Z",
     "shell.execute_reply": "2020-05-27T01:43:55.472068Z"
    },
    "papermill": {
     "duration": 4.990457,
     "end_time": "2020-05-27T01:43:55.472819",
     "exception": false,
     "start_time": "2020-05-27T01:43:50.482362",
     "status": "completed"
    },
    "tags": []
   },
   "outputs": [],
   "source": [
    "Reward_NoReward_switch_left_directions = ahf.loadSession_csv (Mouse_Date_FileName,data_dir_output,\n",
    "                                       HowManyBack,folder_name_d,seq_str_d,\"Reward_NoReward_tag_switch_left\")"
   ]
  },
  {
   "cell_type": "code",
   "execution_count": null,
   "metadata": {
    "papermill": {
     "duration": 0.031627,
     "end_time": "2020-05-27T01:43:55.538161",
     "exception": false,
     "start_time": "2020-05-27T01:43:55.506534",
     "status": "completed"
    },
    "tags": []
   },
   "outputs": [],
   "source": []
  },
  {
   "cell_type": "code",
   "execution_count": 21,
   "metadata": {
    "execution": {
     "iopub.execute_input": "2020-05-27T01:43:55.599058Z",
     "iopub.status.busy": "2020-05-27T01:43:55.598504Z",
     "iopub.status.idle": "2020-05-27T01:43:55.677647Z",
     "shell.execute_reply": "2020-05-27T01:43:55.678006Z"
    },
    "papermill": {
     "duration": 0.111695,
     "end_time": "2020-05-27T01:43:55.678111",
     "exception": false,
     "start_time": "2020-05-27T01:43:55.566416",
     "status": "completed"
    },
    "tags": []
   },
   "outputs": [],
   "source": [
    "df_list = ahf.extract_data_set_consumption_directions (Mouse_Date_FileName,\n",
    "                                                       Reward_NoReward_stay_right_directions,\n",
    "                                                       Reward_NoReward_switch_right_directions,\n",
    "                                                       Reward_NoReward_stay_left_directions,\n",
    "                                                       Reward_NoReward_switch_left_directions)"
   ]
  },
  {
   "cell_type": "code",
   "execution_count": 22,
   "metadata": {
    "execution": {
     "iopub.execute_input": "2020-05-27T01:43:55.752295Z",
     "iopub.status.busy": "2020-05-27T01:43:55.751748Z",
     "iopub.status.idle": "2020-05-27T01:43:55.753805Z",
     "shell.execute_reply": "2020-05-27T01:43:55.754569Z"
    },
    "papermill": {
     "duration": 0.047765,
     "end_time": "2020-05-27T01:43:55.754693",
     "exception": false,
     "start_time": "2020-05-27T01:43:55.706928",
     "status": "completed"
    },
    "tags": []
   },
   "outputs": [],
   "source": [
    "df_switchSide_switch_contra=ahf.generating_data_set_consumption_times_2(Mouse_Date_FileName,df_list,\n",
    "                                                                        \"switchSide_switch_contra\",'_contra')"
   ]
  },
  {
   "cell_type": "code",
   "execution_count": 23,
   "metadata": {
    "execution": {
     "iopub.execute_input": "2020-05-27T01:43:55.813391Z",
     "iopub.status.busy": "2020-05-27T01:43:55.812921Z",
     "iopub.status.idle": "2020-05-27T01:43:55.822805Z",
     "shell.execute_reply": "2020-05-27T01:43:55.822304Z"
    },
    "papermill": {
     "duration": 0.041843,
     "end_time": "2020-05-27T01:43:55.822881",
     "exception": false,
     "start_time": "2020-05-27T01:43:55.781038",
     "status": "completed"
    },
    "tags": []
   },
   "outputs": [],
   "source": [
    "df_switchSide_switch_ipsi=ahf.generating_data_set_consumption_times_2(Mouse_Date_FileName,df_list,\n",
    "                                                                      \"switchSide_switch_ipsi\",'_ipsi')"
   ]
  },
  {
   "cell_type": "code",
   "execution_count": 24,
   "metadata": {
    "execution": {
     "iopub.execute_input": "2020-05-27T01:43:55.891435Z",
     "iopub.status.busy": "2020-05-27T01:43:55.890694Z",
     "iopub.status.idle": "2020-05-27T01:43:55.893581Z",
     "shell.execute_reply": "2020-05-27T01:43:55.893025Z"
    },
    "papermill": {
     "duration": 0.0459,
     "end_time": "2020-05-27T01:43:55.893667",
     "exception": false,
     "start_time": "2020-05-27T01:43:55.847767",
     "status": "completed"
    },
    "tags": []
   },
   "outputs": [],
   "source": [
    "df_switchSide_switch_total=ahf.generating_data_set_consumption_times_2(Mouse_Date_FileName,df_list,\n",
    "                                                                       \"switchSide_switch_total\",'_total')"
   ]
  },
  {
   "cell_type": "code",
   "execution_count": 25,
   "metadata": {
    "execution": {
     "iopub.execute_input": "2020-05-27T01:43:55.975719Z",
     "iopub.status.busy": "2020-05-27T01:43:55.970058Z",
     "iopub.status.idle": "2020-05-27T01:43:55.977998Z",
     "shell.execute_reply": "2020-05-27T01:43:55.978597Z"
    },
    "papermill": {
     "duration": 0.051858,
     "end_time": "2020-05-27T01:43:55.978718",
     "exception": false,
     "start_time": "2020-05-27T01:43:55.926860",
     "status": "completed"
    },
    "tags": []
   },
   "outputs": [],
   "source": [
    "df_switchSide_switch_ratio=ahf.generating_data_set_consumption_times_2(Mouse_Date_FileName,df_list,\n",
    "                                                                       \"switchSide_switch_ratio\",'_ratio')"
   ]
  },
  {
   "cell_type": "code",
   "execution_count": 26,
   "metadata": {
    "execution": {
     "iopub.execute_input": "2020-05-27T01:43:56.059850Z",
     "iopub.status.busy": "2020-05-27T01:43:56.056594Z",
     "iopub.status.idle": "2020-05-27T01:43:56.062727Z",
     "shell.execute_reply": "2020-05-27T01:43:56.062031Z"
    },
    "papermill": {
     "duration": 0.053507,
     "end_time": "2020-05-27T01:43:56.062832",
     "exception": false,
     "start_time": "2020-05-27T01:43:56.009325",
     "status": "completed"
    },
    "tags": []
   },
   "outputs": [],
   "source": [
    "df_switchSide_Stay_contra=ahf.generating_data_set_consumption_times_2(Mouse_Date_FileName,df_list,\n",
    "                                                                      \"switchSide_Stay_contra\",'_contra')"
   ]
  },
  {
   "cell_type": "code",
   "execution_count": 27,
   "metadata": {
    "execution": {
     "iopub.execute_input": "2020-05-27T01:43:56.146984Z",
     "iopub.status.busy": "2020-05-27T01:43:56.144027Z",
     "iopub.status.idle": "2020-05-27T01:43:56.152122Z",
     "shell.execute_reply": "2020-05-27T01:43:56.151306Z"
    },
    "papermill": {
     "duration": 0.054974,
     "end_time": "2020-05-27T01:43:56.152268",
     "exception": false,
     "start_time": "2020-05-27T01:43:56.097294",
     "status": "completed"
    },
    "tags": []
   },
   "outputs": [],
   "source": [
    "df_switchSide_Stay_ipsi=ahf.generating_data_set_consumption_times_2(Mouse_Date_FileName,df_list,\n",
    "                                                                    \"switchSide_Stay_ipsi\",'_ipsi')"
   ]
  },
  {
   "cell_type": "code",
   "execution_count": 28,
   "metadata": {
    "execution": {
     "iopub.execute_input": "2020-05-27T01:43:56.228542Z",
     "iopub.status.busy": "2020-05-27T01:43:56.214936Z",
     "iopub.status.idle": "2020-05-27T01:43:56.231008Z",
     "shell.execute_reply": "2020-05-27T01:43:56.230448Z"
    },
    "papermill": {
     "duration": 0.048837,
     "end_time": "2020-05-27T01:43:56.231095",
     "exception": false,
     "start_time": "2020-05-27T01:43:56.182258",
     "status": "completed"
    },
    "tags": []
   },
   "outputs": [],
   "source": [
    "df_switchSide_Stay_total=ahf.generating_data_set_consumption_times_2(Mouse_Date_FileName,df_list,\n",
    "                                                                     \"switchSide_Stay_total\",'_total')"
   ]
  },
  {
   "cell_type": "code",
   "execution_count": 29,
   "metadata": {
    "execution": {
     "iopub.execute_input": "2020-05-27T01:43:56.298075Z",
     "iopub.status.busy": "2020-05-27T01:43:56.297587Z",
     "iopub.status.idle": "2020-05-27T01:43:56.300055Z",
     "shell.execute_reply": "2020-05-27T01:43:56.299586Z"
    },
    "papermill": {
     "duration": 0.041942,
     "end_time": "2020-05-27T01:43:56.300128",
     "exception": false,
     "start_time": "2020-05-27T01:43:56.258186",
     "status": "completed"
    },
    "tags": []
   },
   "outputs": [],
   "source": [
    "df_switchSide_Stay_ratio=ahf.generating_data_set_consumption_times_2(Mouse_Date_FileName,df_list,\n",
    "                                                               \"switchSide_Stay_ratio\",'_ratio')"
   ]
  },
  {
   "cell_type": "code",
   "execution_count": 30,
   "metadata": {
    "execution": {
     "iopub.execute_input": "2020-05-27T01:43:56.354358Z",
     "iopub.status.busy": "2020-05-27T01:43:56.353882Z",
     "iopub.status.idle": "2020-05-27T01:43:56.368788Z",
     "shell.execute_reply": "2020-05-27T01:43:56.368259Z"
    },
    "papermill": {
     "duration": 0.043456,
     "end_time": "2020-05-27T01:43:56.368868",
     "exception": false,
     "start_time": "2020-05-27T01:43:56.325412",
     "status": "completed"
    },
    "tags": []
   },
   "outputs": [],
   "source": [
    "df_NOswitchSide_switch_contra=ahf.generating_data_set_consumption_times_2(Mouse_Date_FileName,df_list,\n",
    "                                                                          \"NOswitchSide_switch_contra\",'_contra')"
   ]
  },
  {
   "cell_type": "code",
   "execution_count": 31,
   "metadata": {
    "execution": {
     "iopub.execute_input": "2020-05-27T01:43:56.430725Z",
     "iopub.status.busy": "2020-05-27T01:43:56.430238Z",
     "iopub.status.idle": "2020-05-27T01:43:56.434379Z",
     "shell.execute_reply": "2020-05-27T01:43:56.433904Z"
    },
    "papermill": {
     "duration": 0.041114,
     "end_time": "2020-05-27T01:43:56.434454",
     "exception": false,
     "start_time": "2020-05-27T01:43:56.393340",
     "status": "completed"
    },
    "tags": []
   },
   "outputs": [],
   "source": [
    "df_NOswitchSide_switch_ipsi=ahf.generating_data_set_consumption_times_2(Mouse_Date_FileName,df_list,\n",
    "                                                                        \"NOswitchSide_switch_ipsi\",'_ipsi')"
   ]
  },
  {
   "cell_type": "code",
   "execution_count": 32,
   "metadata": {
    "execution": {
     "iopub.execute_input": "2020-05-27T01:43:56.503200Z",
     "iopub.status.busy": "2020-05-27T01:43:56.502669Z",
     "iopub.status.idle": "2020-05-27T01:43:56.505500Z",
     "shell.execute_reply": "2020-05-27T01:43:56.504945Z"
    },
    "papermill": {
     "duration": 0.04452,
     "end_time": "2020-05-27T01:43:56.505583",
     "exception": false,
     "start_time": "2020-05-27T01:43:56.461063",
     "status": "completed"
    },
    "tags": []
   },
   "outputs": [],
   "source": [
    "df_NOswitchSide_switch_total=ahf.generating_data_set_consumption_times_2(Mouse_Date_FileName,df_list,\n",
    "                                                                         \"NOswitchSide_switch_total\",'_total')"
   ]
  },
  {
   "cell_type": "code",
   "execution_count": 33,
   "metadata": {
    "execution": {
     "iopub.execute_input": "2020-05-27T01:43:56.570249Z",
     "iopub.status.busy": "2020-05-27T01:43:56.569788Z",
     "iopub.status.idle": "2020-05-27T01:43:56.572504Z",
     "shell.execute_reply": "2020-05-27T01:43:56.572123Z"
    },
    "papermill": {
     "duration": 0.042288,
     "end_time": "2020-05-27T01:43:56.572580",
     "exception": false,
     "start_time": "2020-05-27T01:43:56.530292",
     "status": "completed"
    },
    "tags": []
   },
   "outputs": [],
   "source": [
    "df_NOswitchSide_switch_ratio=ahf.generating_data_set_consumption_times_2(Mouse_Date_FileName,df_list,\n",
    "                                                                         \"NOswitchSide_switch_ratio\",'_ratio')"
   ]
  },
  {
   "cell_type": "code",
   "execution_count": 34,
   "metadata": {
    "execution": {
     "iopub.execute_input": "2020-05-27T01:43:56.644073Z",
     "iopub.status.busy": "2020-05-27T01:43:56.643560Z",
     "iopub.status.idle": "2020-05-27T01:43:56.645920Z",
     "shell.execute_reply": "2020-05-27T01:43:56.645396Z"
    },
    "papermill": {
     "duration": 0.044965,
     "end_time": "2020-05-27T01:43:56.646004",
     "exception": false,
     "start_time": "2020-05-27T01:43:56.601039",
     "status": "completed"
    },
    "tags": []
   },
   "outputs": [],
   "source": [
    "df_NOswitchSide_Stay_contra=ahf.generating_data_set_consumption_times_2(Mouse_Date_FileName,df_list,\n",
    "                                                                        \"NOswitchSide_Stay_contra\",'_contra')"
   ]
  },
  {
   "cell_type": "code",
   "execution_count": 35,
   "metadata": {
    "execution": {
     "iopub.execute_input": "2020-05-27T01:43:56.710109Z",
     "iopub.status.busy": "2020-05-27T01:43:56.709542Z",
     "iopub.status.idle": "2020-05-27T01:43:56.712085Z",
     "shell.execute_reply": "2020-05-27T01:43:56.711611Z"
    },
    "papermill": {
     "duration": 0.041288,
     "end_time": "2020-05-27T01:43:56.712158",
     "exception": false,
     "start_time": "2020-05-27T01:43:56.670870",
     "status": "completed"
    },
    "tags": []
   },
   "outputs": [],
   "source": [
    "df_NOswitchSide_Stay_ipsi=ahf.generating_data_set_consumption_times_2(Mouse_Date_FileName,df_list,\n",
    "                                                                      \"NOswitchSide_Stay_ipsi\",'_ipsi')"
   ]
  },
  {
   "cell_type": "code",
   "execution_count": 36,
   "metadata": {
    "execution": {
     "iopub.execute_input": "2020-05-27T01:43:56.781186Z",
     "iopub.status.busy": "2020-05-27T01:43:56.780636Z",
     "iopub.status.idle": "2020-05-27T01:43:56.783001Z",
     "shell.execute_reply": "2020-05-27T01:43:56.782500Z"
    },
    "papermill": {
     "duration": 0.04567,
     "end_time": "2020-05-27T01:43:56.783080",
     "exception": false,
     "start_time": "2020-05-27T01:43:56.737410",
     "status": "completed"
    },
    "tags": []
   },
   "outputs": [],
   "source": [
    "df_NOswitchSide_Stay_total=ahf.generating_data_set_consumption_times_2(Mouse_Date_FileName,df_list,\n",
    "                                                                       \"NOswitchSide_Stay_total\",'_total')"
   ]
  },
  {
   "cell_type": "code",
   "execution_count": 37,
   "metadata": {
    "execution": {
     "iopub.execute_input": "2020-05-27T01:43:56.849391Z",
     "iopub.status.busy": "2020-05-27T01:43:56.848838Z",
     "iopub.status.idle": "2020-05-27T01:43:56.851054Z",
     "shell.execute_reply": "2020-05-27T01:43:56.850585Z"
    },
    "papermill": {
     "duration": 0.041882,
     "end_time": "2020-05-27T01:43:56.851127",
     "exception": false,
     "start_time": "2020-05-27T01:43:56.809245",
     "status": "completed"
    },
    "tags": []
   },
   "outputs": [],
   "source": [
    "df_NOswitchSide_Stay_ratio=ahf.generating_data_set_consumption_times_2(Mouse_Date_FileName,df_list,\n",
    "                                                                       \"NOswitchSide_Stay_ratio\",'_ratio')"
   ]
  },
  {
   "cell_type": "code",
   "execution_count": 38,
   "metadata": {
    "execution": {
     "iopub.execute_input": "2020-05-27T01:43:56.907099Z",
     "iopub.status.busy": "2020-05-27T01:43:56.906395Z",
     "iopub.status.idle": "2020-05-27T01:43:56.909251Z",
     "shell.execute_reply": "2020-05-27T01:43:56.908738Z"
    },
    "papermill": {
     "duration": 0.0334,
     "end_time": "2020-05-27T01:43:56.909332",
     "exception": false,
     "start_time": "2020-05-27T01:43:56.875932",
     "status": "completed"
    },
    "tags": []
   },
   "outputs": [],
   "source": [
    "data_set = \"data_set\"+\"_\"+seq_str[:seq_str.index('6')]\n",
    "cache_dir_plt = os.path.join(data_dir_output, data_set)\n",
    "if not os.path.exists(cache_dir_plt):\n",
    "    os.makedirs(cache_dir_plt)"
   ]
  },
  {
   "cell_type": "code",
   "execution_count": 39,
   "metadata": {
    "execution": {
     "iopub.execute_input": "2020-05-27T01:43:56.965472Z",
     "iopub.status.busy": "2020-05-27T01:43:56.964926Z",
     "iopub.status.idle": "2020-05-27T01:43:56.967456Z",
     "shell.execute_reply": "2020-05-27T01:43:56.966985Z"
    },
    "papermill": {
     "duration": 0.031396,
     "end_time": "2020-05-27T01:43:56.967529",
     "exception": false,
     "start_time": "2020-05-27T01:43:56.936133",
     "status": "completed"
    },
    "tags": []
   },
   "outputs": [],
   "source": [
    "file = \"data_set_time_consumption_licks\"\n",
    "cache_dir_plt = os.path.join(data_dir_output,data_set, file)\n",
    "if not os.path.exists(cache_dir_plt):\n",
    "    os.makedirs(cache_dir_plt)"
   ]
  },
  {
   "cell_type": "code",
   "execution_count": 40,
   "metadata": {
    "execution": {
     "iopub.execute_input": "2020-05-27T01:43:57.029060Z",
     "iopub.status.busy": "2020-05-27T01:43:57.028425Z",
     "iopub.status.idle": "2020-05-27T01:43:57.033916Z",
     "shell.execute_reply": "2020-05-27T01:43:57.033345Z"
    },
    "papermill": {
     "duration": 0.037397,
     "end_time": "2020-05-27T01:43:57.034004",
     "exception": false,
     "start_time": "2020-05-27T01:43:56.996607",
     "status": "completed"
    },
    "tags": []
   },
   "outputs": [],
   "source": [
    "df_switchSide_switch_std.to_csv(data_dir_output+\"/\"+data_set+\"/\"+file+\"/\"+\"switch_side_switch_std\"+seq_str+\".csv\")"
   ]
  },
  {
   "cell_type": "code",
   "execution_count": 41,
   "metadata": {
    "execution": {
     "iopub.execute_input": "2020-05-27T01:43:57.091830Z",
     "iopub.status.busy": "2020-05-27T01:43:57.091329Z",
     "iopub.status.idle": "2020-05-27T01:43:57.094962Z",
     "shell.execute_reply": "2020-05-27T01:43:57.094463Z"
    },
    "papermill": {
     "duration": 0.033255,
     "end_time": "2020-05-27T01:43:57.095040",
     "exception": false,
     "start_time": "2020-05-27T01:43:57.061785",
     "status": "completed"
    },
    "tags": []
   },
   "outputs": [],
   "source": [
    "df_switchSide_switch_contra.to_csv(data_dir_output+\"/\"+data_set+\"/\"+file+\"/\"+\"switch_side_switch_contra\"+seq_str+\".csv\")"
   ]
  },
  {
   "cell_type": "code",
   "execution_count": 42,
   "metadata": {
    "execution": {
     "iopub.execute_input": "2020-05-27T01:43:57.151937Z",
     "iopub.status.busy": "2020-05-27T01:43:57.151195Z",
     "iopub.status.idle": "2020-05-27T01:43:57.155648Z",
     "shell.execute_reply": "2020-05-27T01:43:57.154902Z"
    },
    "papermill": {
     "duration": 0.034993,
     "end_time": "2020-05-27T01:43:57.155802",
     "exception": false,
     "start_time": "2020-05-27T01:43:57.120809",
     "status": "completed"
    },
    "tags": []
   },
   "outputs": [],
   "source": [
    "df_switchSide_switch_ipsi.to_csv(data_dir_output+\"/\"+data_set+\"/\"+file+\"/\"+\"switch_side_switch_ipsi\"+seq_str+\".csv\")"
   ]
  },
  {
   "cell_type": "code",
   "execution_count": 43,
   "metadata": {
    "execution": {
     "iopub.execute_input": "2020-05-27T01:43:57.215176Z",
     "iopub.status.busy": "2020-05-27T01:43:57.214302Z",
     "iopub.status.idle": "2020-05-27T01:43:57.218385Z",
     "shell.execute_reply": "2020-05-27T01:43:57.217768Z"
    },
    "papermill": {
     "duration": 0.035483,
     "end_time": "2020-05-27T01:43:57.218474",
     "exception": false,
     "start_time": "2020-05-27T01:43:57.182991",
     "status": "completed"
    },
    "tags": []
   },
   "outputs": [],
   "source": [
    "df_switchSide_switch_total.to_csv(data_dir_output+\"/\"+data_set+\"/\"+file+\"/\"+\"switch_side_switch_total\"+seq_str+\".csv\")"
   ]
  },
  {
   "cell_type": "code",
   "execution_count": 44,
   "metadata": {
    "execution": {
     "iopub.execute_input": "2020-05-27T01:43:57.279072Z",
     "iopub.status.busy": "2020-05-27T01:43:57.278471Z",
     "iopub.status.idle": "2020-05-27T01:43:57.281928Z",
     "shell.execute_reply": "2020-05-27T01:43:57.281390Z"
    },
    "papermill": {
     "duration": 0.035412,
     "end_time": "2020-05-27T01:43:57.282012",
     "exception": false,
     "start_time": "2020-05-27T01:43:57.246600",
     "status": "completed"
    },
    "tags": []
   },
   "outputs": [],
   "source": [
    "df_switchSide_switch_ratio.to_csv(data_dir_output+\"/\"+data_set+\"/\"+file+\"/\"+\"switch_side_switch_ratio\"+seq_str+\".csv\")"
   ]
  },
  {
   "cell_type": "code",
   "execution_count": 45,
   "metadata": {
    "execution": {
     "iopub.execute_input": "2020-05-27T01:43:57.343109Z",
     "iopub.status.busy": "2020-05-27T01:43:57.342515Z",
     "iopub.status.idle": "2020-05-27T01:43:57.346267Z",
     "shell.execute_reply": "2020-05-27T01:43:57.346739Z"
    },
    "papermill": {
     "duration": 0.033283,
     "end_time": "2020-05-27T01:43:57.346838",
     "exception": false,
     "start_time": "2020-05-27T01:43:57.313555",
     "status": "completed"
    },
    "tags": []
   },
   "outputs": [],
   "source": [
    "df_switchSide_Stay_std.to_csv(data_dir_output+\"/\"+data_set+\"/\"+file+\"/\"+\"switch_side_stay_std\"+seq_str+\".csv\")"
   ]
  },
  {
   "cell_type": "code",
   "execution_count": 46,
   "metadata": {
    "execution": {
     "iopub.execute_input": "2020-05-27T01:43:57.404663Z",
     "iopub.status.busy": "2020-05-27T01:43:57.404045Z",
     "iopub.status.idle": "2020-05-27T01:43:57.407904Z",
     "shell.execute_reply": "2020-05-27T01:43:57.407372Z"
    },
    "papermill": {
     "duration": 0.034715,
     "end_time": "2020-05-27T01:43:57.407984",
     "exception": false,
     "start_time": "2020-05-27T01:43:57.373269",
     "status": "completed"
    },
    "tags": []
   },
   "outputs": [],
   "source": [
    "df_switchSide_Stay_contra.to_csv(data_dir_output+\"/\"+data_set+\"/\"+file+\"/\"+\"switch_side_stay_contra\"+seq_str+\".csv\")"
   ]
  },
  {
   "cell_type": "code",
   "execution_count": 47,
   "metadata": {
    "execution": {
     "iopub.execute_input": "2020-05-27T01:43:57.462047Z",
     "iopub.status.busy": "2020-05-27T01:43:57.461348Z",
     "iopub.status.idle": "2020-05-27T01:43:57.465124Z",
     "shell.execute_reply": "2020-05-27T01:43:57.464656Z"
    },
    "papermill": {
     "duration": 0.031905,
     "end_time": "2020-05-27T01:43:57.465197",
     "exception": false,
     "start_time": "2020-05-27T01:43:57.433292",
     "status": "completed"
    },
    "tags": []
   },
   "outputs": [],
   "source": [
    "df_switchSide_Stay_ipsi.to_csv(data_dir_output+\"/\"+data_set+\"/\"+file+\"/\"+\"switch_side_stay_ipsi\"+seq_str+\".csv\")"
   ]
  },
  {
   "cell_type": "code",
   "execution_count": 48,
   "metadata": {
    "execution": {
     "iopub.execute_input": "2020-05-27T01:43:57.525738Z",
     "iopub.status.busy": "2020-05-27T01:43:57.524967Z",
     "iopub.status.idle": "2020-05-27T01:43:57.529497Z",
     "shell.execute_reply": "2020-05-27T01:43:57.528917Z"
    },
    "papermill": {
     "duration": 0.037941,
     "end_time": "2020-05-27T01:43:57.529582",
     "exception": false,
     "start_time": "2020-05-27T01:43:57.491641",
     "status": "completed"
    },
    "tags": []
   },
   "outputs": [],
   "source": [
    "df_switchSide_Stay_total.to_csv(data_dir_output+\"/\"+data_set+\"/\"+file+\"/\"+\"switch_side_stay_total\"+seq_str+\".csv\")"
   ]
  },
  {
   "cell_type": "code",
   "execution_count": 49,
   "metadata": {
    "execution": {
     "iopub.execute_input": "2020-05-27T01:43:57.593407Z",
     "iopub.status.busy": "2020-05-27T01:43:57.592731Z",
     "iopub.status.idle": "2020-05-27T01:43:57.597075Z",
     "shell.execute_reply": "2020-05-27T01:43:57.597772Z"
    },
    "papermill": {
     "duration": 0.033893,
     "end_time": "2020-05-27T01:43:57.597942",
     "exception": false,
     "start_time": "2020-05-27T01:43:57.564049",
     "status": "completed"
    },
    "tags": []
   },
   "outputs": [],
   "source": [
    "df_switchSide_Stay_ratio.to_csv(data_dir_output+\"/\"+data_set+\"/\"+file+\"/\"+\"switch_side_stay_ratio\"+seq_str+\".csv\")"
   ]
  },
  {
   "cell_type": "code",
   "execution_count": 50,
   "metadata": {
    "execution": {
     "iopub.execute_input": "2020-05-27T01:43:57.657469Z",
     "iopub.status.busy": "2020-05-27T01:43:57.656839Z",
     "iopub.status.idle": "2020-05-27T01:43:57.661239Z",
     "shell.execute_reply": "2020-05-27T01:43:57.660675Z"
    },
    "papermill": {
     "duration": 0.035836,
     "end_time": "2020-05-27T01:43:57.661326",
     "exception": false,
     "start_time": "2020-05-27T01:43:57.625490",
     "status": "completed"
    },
    "tags": []
   },
   "outputs": [],
   "source": [
    "df_NOswitchSide_switch_std.to_csv(data_dir_output+\"/\"+data_set+\"/\"+file+\"/\"+\"NOswitch_side_switch_std\"+seq_str+\".csv\")"
   ]
  },
  {
   "cell_type": "code",
   "execution_count": 51,
   "metadata": {
    "execution": {
     "iopub.execute_input": "2020-05-27T01:43:57.718613Z",
     "iopub.status.busy": "2020-05-27T01:43:57.718062Z",
     "iopub.status.idle": "2020-05-27T01:43:57.721572Z",
     "shell.execute_reply": "2020-05-27T01:43:57.721074Z"
    },
    "papermill": {
     "duration": 0.03408,
     "end_time": "2020-05-27T01:43:57.721650",
     "exception": false,
     "start_time": "2020-05-27T01:43:57.687570",
     "status": "completed"
    },
    "tags": []
   },
   "outputs": [],
   "source": [
    "df_NOswitchSide_switch_contra.to_csv(data_dir_output+\"/\"+data_set+\"/\"+file+\"/\"+\"NOswitch_side_switch_contra\"+seq_str+\".csv\")"
   ]
  },
  {
   "cell_type": "code",
   "execution_count": 52,
   "metadata": {
    "execution": {
     "iopub.execute_input": "2020-05-27T01:43:57.781491Z",
     "iopub.status.busy": "2020-05-27T01:43:57.780460Z",
     "iopub.status.idle": "2020-05-27T01:43:57.784784Z",
     "shell.execute_reply": "2020-05-27T01:43:57.784229Z"
    },
    "papermill": {
     "duration": 0.035752,
     "end_time": "2020-05-27T01:43:57.784869",
     "exception": false,
     "start_time": "2020-05-27T01:43:57.749117",
     "status": "completed"
    },
    "tags": []
   },
   "outputs": [],
   "source": [
    "df_NOswitchSide_switch_ipsi.to_csv(data_dir_output+\"/\"+data_set+\"/\"+file+\"/\"+\"NOswitch_side_switch_ipsi\"+seq_str+\".csv\")"
   ]
  },
  {
   "cell_type": "code",
   "execution_count": 53,
   "metadata": {
    "execution": {
     "iopub.execute_input": "2020-05-27T01:43:57.854466Z",
     "iopub.status.busy": "2020-05-27T01:43:57.853502Z",
     "iopub.status.idle": "2020-05-27T01:43:57.857510Z",
     "shell.execute_reply": "2020-05-27T01:43:57.858121Z"
    },
    "papermill": {
     "duration": 0.039547,
     "end_time": "2020-05-27T01:43:57.858253",
     "exception": false,
     "start_time": "2020-05-27T01:43:57.818706",
     "status": "completed"
    },
    "tags": []
   },
   "outputs": [],
   "source": [
    "df_NOswitchSide_switch_total.to_csv(data_dir_output+\"/\"+data_set+\"/\"+file+\"/\"+\"NOswitch_side_switch_total\"+seq_str+\".csv\")"
   ]
  },
  {
   "cell_type": "code",
   "execution_count": 54,
   "metadata": {
    "execution": {
     "iopub.execute_input": "2020-05-27T01:43:57.925248Z",
     "iopub.status.busy": "2020-05-27T01:43:57.924191Z",
     "iopub.status.idle": "2020-05-27T01:43:57.929539Z",
     "shell.execute_reply": "2020-05-27T01:43:57.928877Z"
    },
    "papermill": {
     "duration": 0.039926,
     "end_time": "2020-05-27T01:43:57.929640",
     "exception": false,
     "start_time": "2020-05-27T01:43:57.889714",
     "status": "completed"
    },
    "tags": []
   },
   "outputs": [],
   "source": [
    "df_NOswitchSide_switch_ratio.to_csv(data_dir_output+\"/\"+data_set+\"/\"+file+\"/\"+\"NOswitch_side_switch_ratio\"+seq_str+\".csv\")"
   ]
  },
  {
   "cell_type": "code",
   "execution_count": 55,
   "metadata": {
    "execution": {
     "iopub.execute_input": "2020-05-27T01:43:58.007693Z",
     "iopub.status.busy": "2020-05-27T01:43:58.004739Z",
     "iopub.status.idle": "2020-05-27T01:43:58.012489Z",
     "shell.execute_reply": "2020-05-27T01:43:58.011445Z"
    },
    "papermill": {
     "duration": 0.046262,
     "end_time": "2020-05-27T01:43:58.012620",
     "exception": false,
     "start_time": "2020-05-27T01:43:57.966358",
     "status": "completed"
    },
    "tags": []
   },
   "outputs": [],
   "source": [
    "df_NOswitchSide_Stay_std.to_csv(data_dir_output+\"/\"+data_set+\"/\"+file+\"/\"+\"NOswitch_side_Stay_std\"+seq_str+\".csv\")"
   ]
  },
  {
   "cell_type": "code",
   "execution_count": 56,
   "metadata": {
    "execution": {
     "iopub.execute_input": "2020-05-27T01:43:58.117074Z",
     "iopub.status.busy": "2020-05-27T01:43:58.116079Z",
     "iopub.status.idle": "2020-05-27T01:43:58.128117Z",
     "shell.execute_reply": "2020-05-27T01:43:58.129082Z"
    },
    "papermill": {
     "duration": 0.067188,
     "end_time": "2020-05-27T01:43:58.129230",
     "exception": false,
     "start_time": "2020-05-27T01:43:58.062042",
     "status": "completed"
    },
    "tags": []
   },
   "outputs": [],
   "source": [
    "df_NOswitchSide_Stay_contra.to_csv(data_dir_output+\"/\"+data_set+\"/\"+file+\"/\"+\"NOswitch_side_Stay_contra\"+seq_str+\".csv\")"
   ]
  },
  {
   "cell_type": "code",
   "execution_count": 57,
   "metadata": {
    "execution": {
     "iopub.execute_input": "2020-05-27T01:43:58.210607Z",
     "iopub.status.busy": "2020-05-27T01:43:58.209684Z",
     "iopub.status.idle": "2020-05-27T01:43:58.213100Z",
     "shell.execute_reply": "2020-05-27T01:43:58.213958Z"
    },
    "papermill": {
     "duration": 0.043925,
     "end_time": "2020-05-27T01:43:58.214218",
     "exception": false,
     "start_time": "2020-05-27T01:43:58.170293",
     "status": "completed"
    },
    "tags": []
   },
   "outputs": [],
   "source": [
    "df_NOswitchSide_Stay_ipsi.to_csv(data_dir_output+\"/\"+data_set+\"/\"+file+\"/\"+\"NOswitch_side_Stay_ipsi\"+seq_str+\".csv\")"
   ]
  },
  {
   "cell_type": "code",
   "execution_count": 58,
   "metadata": {
    "execution": {
     "iopub.execute_input": "2020-05-27T01:43:58.306796Z",
     "iopub.status.busy": "2020-05-27T01:43:58.305265Z",
     "iopub.status.idle": "2020-05-27T01:43:58.309656Z",
     "shell.execute_reply": "2020-05-27T01:43:58.310734Z"
    },
    "papermill": {
     "duration": 0.054392,
     "end_time": "2020-05-27T01:43:58.310976",
     "exception": false,
     "start_time": "2020-05-27T01:43:58.256584",
     "status": "completed"
    },
    "tags": []
   },
   "outputs": [],
   "source": [
    "df_NOswitchSide_Stay_total.to_csv(data_dir_output+\"/\"+data_set+\"/\"+file+\"/\"+\"NOswitch_side_Stay_total\"+seq_str+\".csv\")"
   ]
  },
  {
   "cell_type": "code",
   "execution_count": 59,
   "metadata": {
    "execution": {
     "iopub.execute_input": "2020-05-27T01:43:58.392441Z",
     "iopub.status.busy": "2020-05-27T01:43:58.391589Z",
     "iopub.status.idle": "2020-05-27T01:43:58.395583Z",
     "shell.execute_reply": "2020-05-27T01:43:58.395054Z"
    },
    "papermill": {
     "duration": 0.035807,
     "end_time": "2020-05-27T01:43:58.395673",
     "exception": false,
     "start_time": "2020-05-27T01:43:58.359866",
     "status": "completed"
    },
    "tags": []
   },
   "outputs": [],
   "source": [
    "df_NOswitchSide_Stay_ratio.to_csv(data_dir_output+\"/\"+data_set+\"/\"+file+\"/\"+\"NOswitch_side_Stay_ratio\"+seq_str+\".csv\")"
   ]
  },
  {
   "cell_type": "code",
   "execution_count": null,
   "metadata": {
    "papermill": {
     "duration": 0.041804,
     "end_time": "2020-05-27T01:43:58.465546",
     "exception": false,
     "start_time": "2020-05-27T01:43:58.423742",
     "status": "completed"
    },
    "tags": []
   },
   "outputs": [],
   "source": []
  }
 ],
 "metadata": {
  "celltoolbar": "Tags",
  "kernelspec": {
   "display_name": "Python 3",
   "language": "python",
   "name": "python3"
  },
  "language_info": {
   "codemirror_mode": {
    "name": "ipython",
    "version": 3
   },
   "file_extension": ".py",
   "mimetype": "text/x-python",
   "name": "python",
   "nbconvert_exporter": "python",
   "pygments_lexer": "ipython3",
   "version": "3.7.3"
  },
  "papermill": {
   "duration": 22.973011,
   "end_time": "2020-05-27T01:43:58.626006",
   "environment_variables": {},
   "exception": null,
   "input_path": "data_set_direction_consumption_licks.ipynb",
   "output_path": "TestOutPut.ipynb",
   "parameters": {
    "HowManyBack": 1,
    "Mouse_Date_FileName_list": "MasterOptoConsumption_short",
    "data_dir_input": "/Users/gilmandelbaum/Dropbox (HMS)/0.STRpaper/4.Optogenetics/opto_consumption_final/0.FullDataSet/OptoConsump_raw",
    "data_dir_output": "/Users/gilmandelbaum/Dropbox (HMS)/0.STRpaper/4.Optogenetics/opto_consumption_final/0.FullDataSet/OptoConsump_output",
    "seq_str": "0a1ad2a4abc5a6a"
   },
   "start_time": "2020-05-27T01:43:35.652995",
   "version": "2.1.1"
  }
 },
 "nbformat": 4,
 "nbformat_minor": 2
}