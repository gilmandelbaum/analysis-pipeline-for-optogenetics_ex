{
 "cells": [
  {
   "cell_type": "code",
   "execution_count": 1,
   "metadata": {
    "execution": {
     "iopub.execute_input": "2020-06-02T22:17:23.144491Z",
     "iopub.status.busy": "2020-06-02T22:17:23.143982Z",
     "iopub.status.idle": "2020-06-02T22:17:23.578547Z",
     "shell.execute_reply": "2020-06-02T22:17:23.577846Z"
    },
    "papermill": {
     "duration": 0.451339,
     "end_time": "2020-06-02T22:17:23.578673",
     "exception": false,
     "start_time": "2020-06-02T22:17:23.127334",
     "status": "completed"
    },
    "tags": []
   },
   "outputs": [],
   "source": [
    "import pandas as pd \n",
    "import numpy  as np \n",
    "from pathlib import Path\n",
    "import pickle\n",
    "import os"
   ]
  },
  {
   "cell_type": "code",
   "execution_count": 2,
   "metadata": {
    "execution": {
     "iopub.execute_input": "2020-06-02T22:17:23.602038Z",
     "iopub.status.busy": "2020-06-02T22:17:23.601151Z",
     "iopub.status.idle": "2020-06-02T22:17:23.605117Z",
     "shell.execute_reply": "2020-06-02T22:17:23.605533Z"
    },
    "papermill": {
     "duration": 0.017029,
     "end_time": "2020-06-02T22:17:23.605655",
     "exception": false,
     "start_time": "2020-06-02T22:17:23.588626",
     "status": "completed"
    },
    "tags": []
   },
   "outputs": [],
   "source": [
    "import data_set_analysis_helper_functions as ahf"
   ]
  },
  {
   "cell_type": "code",
   "execution_count": 3,
   "metadata": {
    "execution": {
     "iopub.execute_input": "2020-06-02T22:17:23.626935Z",
     "iopub.status.busy": "2020-06-02T22:17:23.626345Z",
     "iopub.status.idle": "2020-06-02T22:17:23.628976Z",
     "shell.execute_reply": "2020-06-02T22:17:23.628495Z"
    },
    "papermill": {
     "duration": 0.014724,
     "end_time": "2020-06-02T22:17:23.629057",
     "exception": false,
     "start_time": "2020-06-02T22:17:23.614333",
     "status": "completed"
    },
    "tags": [
     "parameters"
    ]
   },
   "outputs": [],
   "source": [
    "data_dir_output = '/Users/gilmandelbaum/Desktop/optoOutPut'\n",
    "data_dir_input = '/Users/gilmandelbaum/Desktop/opto'\n",
    "HowManyBack=1 \n",
    "\n",
    "Mouse_Date_FileName_list = \"MasterOptoConsumption\"\n",
    "\n",
    "seq_str= \"0a1ad2a4abc5a6b\"\n",
    "\n",
    "\n"
   ]
  },
  {
   "cell_type": "code",
   "execution_count": 4,
   "metadata": {
    "execution": {
     "iopub.execute_input": "2020-06-02T22:17:23.649532Z",
     "iopub.status.busy": "2020-06-02T22:17:23.648906Z",
     "iopub.status.idle": "2020-06-02T22:17:23.651014Z",
     "shell.execute_reply": "2020-06-02T22:17:23.651471Z"
    },
    "papermill": {
     "duration": 0.013755,
     "end_time": "2020-06-02T22:17:23.651564",
     "exception": false,
     "start_time": "2020-06-02T22:17:23.637809",
     "status": "completed"
    },
    "tags": [
     "injected-parameters"
    ]
   },
   "outputs": [],
   "source": [
    "# Parameters\n",
    "data_dir_input = \"/Users/gilmandelbaum/Dropbox (HMS)/0.STRpaper/4.Optogenetics/opto_consumption_final/0.FullDataSet/OptoConsump_raw\"\n",
    "data_dir_output = \"/Users/gilmandelbaum/Dropbox (HMS)/0.STRpaper/4.Optogenetics/opto_consumption_final/0.FullDataSet/OptoConsump_output\"\n",
    "HowManyBack = 1\n",
    "seq_str = \"0a1ad2a4abc5a6b\"\n",
    "Mouse_Date_FileName_list = \"MasterOptoConsumption\"\n"
   ]
  },
  {
   "cell_type": "code",
   "execution_count": 5,
   "metadata": {
    "execution": {
     "iopub.execute_input": "2020-06-02T22:17:23.671551Z",
     "iopub.status.busy": "2020-06-02T22:17:23.670923Z",
     "iopub.status.idle": "2020-06-02T22:17:23.673872Z",
     "shell.execute_reply": "2020-06-02T22:17:23.673387Z"
    },
    "papermill": {
     "duration": 0.014114,
     "end_time": "2020-06-02T22:17:23.673947",
     "exception": false,
     "start_time": "2020-06-02T22:17:23.659833",
     "status": "completed"
    },
    "tags": []
   },
   "outputs": [],
   "source": [
    "folder_name = \"timeOfLicks\""
   ]
  },
  {
   "cell_type": "code",
   "execution_count": 6,
   "metadata": {
    "execution": {
     "iopub.execute_input": "2020-06-02T22:17:23.694069Z",
     "iopub.status.busy": "2020-06-02T22:17:23.693505Z",
     "iopub.status.idle": "2020-06-02T22:17:23.699502Z",
     "shell.execute_reply": "2020-06-02T22:17:23.699025Z"
    },
    "papermill": {
     "duration": 0.017702,
     "end_time": "2020-06-02T22:17:23.699574",
     "exception": false,
     "start_time": "2020-06-02T22:17:23.681872",
     "status": "completed"
    },
    "tags": []
   },
   "outputs": [],
   "source": [
    "Mouse_Date_FileName = pd.read_csv(data_dir_input+\"/\"+Mouse_Date_FileName_list+\".csv\")"
   ]
  },
  {
   "cell_type": "code",
   "execution_count": 7,
   "metadata": {
    "execution": {
     "iopub.execute_input": "2020-06-02T22:17:23.722906Z",
     "iopub.status.busy": "2020-06-02T22:17:23.721903Z",
     "iopub.status.idle": "2020-06-02T22:17:23.725003Z",
     "shell.execute_reply": "2020-06-02T22:17:23.724414Z"
    },
    "papermill": {
     "duration": 0.015657,
     "end_time": "2020-06-02T22:17:23.725091",
     "exception": false,
     "start_time": "2020-06-02T22:17:23.709434",
     "status": "completed"
    },
    "tags": []
   },
   "outputs": [],
   "source": [
    "#Mouse_Date_FileName = Mouse_Date_FileName[Mouse_Date_FileName[\"Mouse\"]==\"T183\"].reset_index()"
   ]
  },
  {
   "cell_type": "code",
   "execution_count": 8,
   "metadata": {
    "execution": {
     "iopub.execute_input": "2020-06-02T22:17:23.749024Z",
     "iopub.status.busy": "2020-06-02T22:17:23.748362Z",
     "iopub.status.idle": "2020-06-02T22:19:56.447693Z",
     "shell.execute_reply": "2020-06-02T22:19:56.448201Z"
    },
    "papermill": {
     "duration": 152.713535,
     "end_time": "2020-06-02T22:19:56.448411",
     "exception": false,
     "start_time": "2020-06-02T22:17:23.734876",
     "status": "completed"
    },
    "tags": []
   },
   "outputs": [],
   "source": [
    "behavior_data_trial_s = ahf.loadSession_from_rawdata_xls (Mouse_Date_FileName,data_dir_input)"
   ]
  },
  {
   "cell_type": "code",
   "execution_count": 9,
   "metadata": {
    "execution": {
     "iopub.execute_input": "2020-06-02T22:19:56.477039Z",
     "iopub.status.busy": "2020-06-02T22:19:56.476315Z",
     "iopub.status.idle": "2020-06-02T22:19:56.478951Z",
     "shell.execute_reply": "2020-06-02T22:19:56.479634Z"
    },
    "papermill": {
     "duration": 0.020151,
     "end_time": "2020-06-02T22:19:56.479758",
     "exception": false,
     "start_time": "2020-06-02T22:19:56.459607",
     "status": "completed"
    },
    "tags": []
   },
   "outputs": [],
   "source": [
    "def stimTrial (behavior_data_trial_dataSet):\n",
    "    data_list = list()\n",
    "    counter = 0 \n",
    "    for session in behavior_data_trial_dataSet: \n",
    "        #print (counter)\n",
    "        stim_trials = session[(session['L_Rew_trig_I_l1']>0) & (session['iReward']>0)]\n",
    "        stim_trials = session[session.index.isin(stim_trials.index+1)]\n",
    "        data_list.append(stim_trials)\n",
    "        counter = counter +1\n",
    "    return (data_list)"
   ]
  },
  {
   "cell_type": "code",
   "execution_count": 10,
   "metadata": {
    "execution": {
     "iopub.execute_input": "2020-06-02T22:19:56.511157Z",
     "iopub.status.busy": "2020-06-02T22:19:56.510395Z",
     "iopub.status.idle": "2020-06-02T22:19:56.770517Z",
     "shell.execute_reply": "2020-06-02T22:19:56.770005Z"
    },
    "papermill": {
     "duration": 0.277426,
     "end_time": "2020-06-02T22:19:56.770594",
     "exception": false,
     "start_time": "2020-06-02T22:19:56.493168",
     "status": "completed"
    },
    "scrolled": false,
    "tags": []
   },
   "outputs": [],
   "source": [
    "stimTrialsDF = stimTrial (behavior_data_trial_s)"
   ]
  },
  {
   "cell_type": "code",
   "execution_count": 11,
   "metadata": {
    "execution": {
     "iopub.execute_input": "2020-06-02T22:19:56.797028Z",
     "iopub.status.busy": "2020-06-02T22:19:56.796440Z",
     "iopub.status.idle": "2020-06-02T22:19:56.798850Z",
     "shell.execute_reply": "2020-06-02T22:19:56.799469Z"
    },
    "papermill": {
     "duration": 0.019351,
     "end_time": "2020-06-02T22:19:56.799600",
     "exception": false,
     "start_time": "2020-06-02T22:19:56.780249",
     "status": "completed"
    },
    "tags": []
   },
   "outputs": [],
   "source": [
    "def TOtrials (stimTrialsDF):\n",
    "    data_listNotTO = list()\n",
    "    data_listTO = list()\n",
    "    for session in stimTrialsDF: \n",
    "        trials = len(session)\n",
    "        TO = len(session[session[\"sSelection\"]==3])\n",
    "        NotTO = trials-TO\n",
    "        data_listNotTO.append(NotTO)\n",
    "        data_listTO.append(TO)\n",
    "    data_listNotTO = pd.DataFrame(data_listNotTO, columns =[\"NotTO\"])\n",
    "    data_listTO = pd.DataFrame(data_listTO,columns =[\"TO\"])\n",
    "    data = pd.concat([data_listNotTO,data_listTO],axis=1)\n",
    "    return (data)"
   ]
  },
  {
   "cell_type": "code",
   "execution_count": 12,
   "metadata": {
    "execution": {
     "iopub.execute_input": "2020-06-02T22:19:56.870837Z",
     "iopub.status.busy": "2020-06-02T22:19:56.824642Z",
     "iopub.status.idle": "2020-06-02T22:19:56.901472Z",
     "shell.execute_reply": "2020-06-02T22:19:56.900908Z"
    },
    "papermill": {
     "duration": 0.092061,
     "end_time": "2020-06-02T22:19:56.901552",
     "exception": false,
     "start_time": "2020-06-02T22:19:56.809491",
     "status": "completed"
    },
    "tags": []
   },
   "outputs": [],
   "source": [
    "df = TOtrials (stimTrialsDF)"
   ]
  },
  {
   "cell_type": "code",
   "execution_count": 13,
   "metadata": {
    "execution": {
     "iopub.execute_input": "2020-06-02T22:19:56.928366Z",
     "iopub.status.busy": "2020-06-02T22:19:56.927772Z",
     "iopub.status.idle": "2020-06-02T22:19:56.930397Z",
     "shell.execute_reply": "2020-06-02T22:19:56.929826Z"
    },
    "papermill": {
     "duration": 0.019159,
     "end_time": "2020-06-02T22:19:56.930484",
     "exception": false,
     "start_time": "2020-06-02T22:19:56.911325",
     "status": "completed"
    },
    "tags": []
   },
   "outputs": [],
   "source": [
    "df_final = pd.concat([Mouse_Date_FileName,df],axis=1)"
   ]
  },
  {
   "cell_type": "code",
   "execution_count": 14,
   "metadata": {
    "execution": {
     "iopub.execute_input": "2020-06-02T22:19:56.958735Z",
     "iopub.status.busy": "2020-06-02T22:19:56.958160Z",
     "iopub.status.idle": "2020-06-02T22:19:56.977049Z",
     "shell.execute_reply": "2020-06-02T22:19:56.976503Z"
    },
    "papermill": {
     "duration": 0.036629,
     "end_time": "2020-06-02T22:19:56.977128",
     "exception": false,
     "start_time": "2020-06-02T22:19:56.940499",
     "status": "completed"
    },
    "tags": []
   },
   "outputs": [
    {
     "data": {
      "text/html": [
       "<div>\n",
       "<style scoped>\n",
       "    .dataframe tbody tr th:only-of-type {\n",
       "        vertical-align: middle;\n",
       "    }\n",
       "\n",
       "    .dataframe tbody tr th {\n",
       "        vertical-align: top;\n",
       "    }\n",
       "\n",
       "    .dataframe thead th {\n",
       "        text-align: right;\n",
       "    }\n",
       "</style>\n",
       "<table border=\"1\" class=\"dataframe\">\n",
       "  <thead>\n",
       "    <tr style=\"text-align: right;\">\n",
       "      <th></th>\n",
       "      <th>Mouse</th>\n",
       "      <th>Date</th>\n",
       "      <th>D</th>\n",
       "      <th>TypeOfStim</th>\n",
       "      <th>SideOfStim</th>\n",
       "      <th>NotTO</th>\n",
       "      <th>TO</th>\n",
       "    </tr>\n",
       "  </thead>\n",
       "  <tbody>\n",
       "    <tr>\n",
       "      <th>0</th>\n",
       "      <td>T114</td>\n",
       "      <td>171124</td>\n",
       "      <td>2</td>\n",
       "      <td>C</td>\n",
       "      <td>R</td>\n",
       "      <td>8</td>\n",
       "      <td>0</td>\n",
       "    </tr>\n",
       "    <tr>\n",
       "      <th>1</th>\n",
       "      <td>T114</td>\n",
       "      <td>171126</td>\n",
       "      <td>2</td>\n",
       "      <td>C</td>\n",
       "      <td>R</td>\n",
       "      <td>12</td>\n",
       "      <td>0</td>\n",
       "    </tr>\n",
       "    <tr>\n",
       "      <th>2</th>\n",
       "      <td>T114</td>\n",
       "      <td>171129</td>\n",
       "      <td>2</td>\n",
       "      <td>C</td>\n",
       "      <td>L</td>\n",
       "      <td>18</td>\n",
       "      <td>0</td>\n",
       "    </tr>\n",
       "    <tr>\n",
       "      <th>3</th>\n",
       "      <td>T114</td>\n",
       "      <td>171201</td>\n",
       "      <td>2</td>\n",
       "      <td>C</td>\n",
       "      <td>L</td>\n",
       "      <td>10</td>\n",
       "      <td>2</td>\n",
       "    </tr>\n",
       "    <tr>\n",
       "      <th>4</th>\n",
       "      <td>T114</td>\n",
       "      <td>171203</td>\n",
       "      <td>2</td>\n",
       "      <td>C</td>\n",
       "      <td>L</td>\n",
       "      <td>15</td>\n",
       "      <td>1</td>\n",
       "    </tr>\n",
       "    <tr>\n",
       "      <th>...</th>\n",
       "      <td>...</td>\n",
       "      <td>...</td>\n",
       "      <td>...</td>\n",
       "      <td>...</td>\n",
       "      <td>...</td>\n",
       "      <td>...</td>\n",
       "      <td>...</td>\n",
       "    </tr>\n",
       "    <tr>\n",
       "      <th>126</th>\n",
       "      <td>T253</td>\n",
       "      <td>191016</td>\n",
       "      <td>1</td>\n",
       "      <td>C</td>\n",
       "      <td>L</td>\n",
       "      <td>14</td>\n",
       "      <td>0</td>\n",
       "    </tr>\n",
       "    <tr>\n",
       "      <th>127</th>\n",
       "      <td>T253</td>\n",
       "      <td>191018</td>\n",
       "      <td>1</td>\n",
       "      <td>C</td>\n",
       "      <td>L</td>\n",
       "      <td>17</td>\n",
       "      <td>0</td>\n",
       "    </tr>\n",
       "    <tr>\n",
       "      <th>128</th>\n",
       "      <td>T253</td>\n",
       "      <td>191021</td>\n",
       "      <td>1</td>\n",
       "      <td>C</td>\n",
       "      <td>L</td>\n",
       "      <td>13</td>\n",
       "      <td>0</td>\n",
       "    </tr>\n",
       "    <tr>\n",
       "      <th>129</th>\n",
       "      <td>T253</td>\n",
       "      <td>191023</td>\n",
       "      <td>1</td>\n",
       "      <td>C</td>\n",
       "      <td>R</td>\n",
       "      <td>14</td>\n",
       "      <td>0</td>\n",
       "    </tr>\n",
       "    <tr>\n",
       "      <th>130</th>\n",
       "      <td>T253</td>\n",
       "      <td>191025</td>\n",
       "      <td>1</td>\n",
       "      <td>C</td>\n",
       "      <td>R</td>\n",
       "      <td>13</td>\n",
       "      <td>1</td>\n",
       "    </tr>\n",
       "  </tbody>\n",
       "</table>\n",
       "<p>131 rows × 7 columns</p>\n",
       "</div>"
      ],
      "text/plain": [
       "    Mouse    Date  D TypeOfStim SideOfStim  NotTO  TO\n",
       "0    T114  171124  2          C          R      8   0\n",
       "1    T114  171126  2          C          R     12   0\n",
       "2    T114  171129  2          C          L     18   0\n",
       "3    T114  171201  2          C          L     10   2\n",
       "4    T114  171203  2          C          L     15   1\n",
       "..    ...     ... ..        ...        ...    ...  ..\n",
       "126  T253  191016  1          C          L     14   0\n",
       "127  T253  191018  1          C          L     17   0\n",
       "128  T253  191021  1          C          L     13   0\n",
       "129  T253  191023  1          C          R     14   0\n",
       "130  T253  191025  1          C          R     13   1\n",
       "\n",
       "[131 rows x 7 columns]"
      ]
     },
     "execution_count": 14,
     "metadata": {},
     "output_type": "execute_result"
    }
   ],
   "source": [
    "df_final"
   ]
  },
  {
   "cell_type": "code",
   "execution_count": 15,
   "metadata": {
    "execution": {
     "iopub.execute_input": "2020-06-02T22:19:57.002874Z",
     "iopub.status.busy": "2020-06-02T22:19:57.001945Z",
     "iopub.status.idle": "2020-06-02T22:19:57.004770Z",
     "shell.execute_reply": "2020-06-02T22:19:57.004214Z"
    },
    "papermill": {
     "duration": 0.016554,
     "end_time": "2020-06-02T22:19:57.004853",
     "exception": false,
     "start_time": "2020-06-02T22:19:56.988299",
     "status": "completed"
    },
    "tags": []
   },
   "outputs": [],
   "source": [
    "data_set = \"data_set\"+\"_\"+seq_str[:seq_str.index('6')]\n",
    "cache_dir_plt = os.path.join(data_dir_output, data_set)\n",
    "if not os.path.exists(cache_dir_plt):\n",
    "    os.makedirs(cache_dir_plt)"
   ]
  },
  {
   "cell_type": "code",
   "execution_count": 16,
   "metadata": {
    "execution": {
     "iopub.execute_input": "2020-06-02T22:19:57.031801Z",
     "iopub.status.busy": "2020-06-02T22:19:57.030792Z",
     "iopub.status.idle": "2020-06-02T22:19:57.034529Z",
     "shell.execute_reply": "2020-06-02T22:19:57.033898Z"
    },
    "papermill": {
     "duration": 0.018778,
     "end_time": "2020-06-02T22:19:57.034636",
     "exception": false,
     "start_time": "2020-06-02T22:19:57.015858",
     "status": "completed"
    },
    "tags": []
   },
   "outputs": [],
   "source": [
    "file = \"data_set_how_many_TO_stim_trials\"\n",
    "cache_dir_plt = os.path.join(data_dir_output,data_set, file)\n",
    "if not os.path.exists(cache_dir_plt):\n",
    "    os.makedirs(cache_dir_plt)"
   ]
  },
  {
   "cell_type": "code",
   "execution_count": 17,
   "metadata": {
    "execution": {
     "iopub.execute_input": "2020-06-02T22:19:57.060223Z",
     "iopub.status.busy": "2020-06-02T22:19:57.059455Z",
     "iopub.status.idle": "2020-06-02T22:19:57.064723Z",
     "shell.execute_reply": "2020-06-02T22:19:57.065272Z"
    },
    "papermill": {
     "duration": 0.020318,
     "end_time": "2020-06-02T22:19:57.065383",
     "exception": false,
     "start_time": "2020-06-02T22:19:57.045065",
     "status": "completed"
    },
    "tags": []
   },
   "outputs": [],
   "source": [
    "#df.to_csv(data_dir_output+\"/\"+file+\"/\"+\"lick_direction.csv\")\n",
    "df_final.to_csv(data_dir_output+\"/\"+data_set+\"/\"+file+\"/\"+\"how_many_TO_stim_trials.csv\")"
   ]
  },
  {
   "cell_type": "code",
   "execution_count": null,
   "metadata": {
    "papermill": {
     "duration": 0.010397,
     "end_time": "2020-06-02T22:19:57.086015",
     "exception": false,
     "start_time": "2020-06-02T22:19:57.075618",
     "status": "completed"
    },
    "tags": []
   },
   "outputs": [],
   "source": []
  }
 ],
 "metadata": {
  "celltoolbar": "Tags",
  "kernelspec": {
   "display_name": "Python 3",
   "language": "python",
   "name": "python3"
  },
  "language_info": {
   "codemirror_mode": {
    "name": "ipython",
    "version": 3
   },
   "file_extension": ".py",
   "mimetype": "text/x-python",
   "name": "python",
   "nbconvert_exporter": "python",
   "pygments_lexer": "ipython3",
   "version": "3.7.3"
  },
  "papermill": {
   "duration": 154.839035,
   "end_time": "2020-06-02T22:19:57.204881",
   "environment_variables": {},
   "exception": null,
   "input_path": "data_set_how_many_TO_stim_trials.ipynb",
   "output_path": "TestOutPut.ipynb",
   "parameters": {
    "HowManyBack": 1,
    "Mouse_Date_FileName_list": "MasterOptoConsumption",
    "data_dir_input": "/Users/gilmandelbaum/Dropbox (HMS)/0.STRpaper/4.Optogenetics/opto_consumption_final/0.FullDataSet/OptoConsump_raw",
    "data_dir_output": "/Users/gilmandelbaum/Dropbox (HMS)/0.STRpaper/4.Optogenetics/opto_consumption_final/0.FullDataSet/OptoConsump_output",
    "seq_str": "0a1ad2a4abc5a6b"
   },
   "start_time": "2020-06-02T22:17:22.365846",
   "version": "2.1.1"
  }
 },
 "nbformat": 4,
 "nbformat_minor": 2
}