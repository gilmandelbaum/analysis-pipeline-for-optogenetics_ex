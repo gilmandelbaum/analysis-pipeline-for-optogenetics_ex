{
 "cells": [
  {
   "cell_type": "code",
   "execution_count": 1,
   "metadata": {
    "execution": {
     "iopub.execute_input": "2020-06-08T02:05:00.839137Z",
     "iopub.status.busy": "2020-06-08T02:05:00.838356Z",
     "iopub.status.idle": "2020-06-08T02:05:01.169004Z",
     "shell.execute_reply": "2020-06-08T02:05:01.169655Z"
    },
    "papermill": {
     "duration": 0.398428,
     "end_time": "2020-06-08T02:05:01.169808",
     "exception": false,
     "start_time": "2020-06-08T02:05:00.771380",
     "status": "completed"
    },
    "tags": []
   },
   "outputs": [],
   "source": [
    "import pandas as pd \n",
    "import numpy  as np \n",
    "from pathlib import Path\n",
    "import pickle\n",
    "import os"
   ]
  },
  {
   "cell_type": "code",
   "execution_count": 2,
   "metadata": {
    "execution": {
     "iopub.execute_input": "2020-06-08T02:05:01.234131Z",
     "iopub.status.busy": "2020-06-08T02:05:01.233433Z",
     "iopub.status.idle": "2020-06-08T02:05:01.237653Z",
     "shell.execute_reply": "2020-06-08T02:05:01.237047Z"
    },
    "papermill": {
     "duration": 0.035715,
     "end_time": "2020-06-08T02:05:01.237747",
     "exception": false,
     "start_time": "2020-06-08T02:05:01.202032",
     "status": "completed"
    },
    "tags": []
   },
   "outputs": [],
   "source": [
    "import data_set_analysis_helper_functions as ahf"
   ]
  },
  {
   "cell_type": "code",
   "execution_count": 3,
   "metadata": {
    "execution": {
     "iopub.execute_input": "2020-06-08T02:05:01.299242Z",
     "iopub.status.busy": "2020-06-08T02:05:01.298558Z",
     "iopub.status.idle": "2020-06-08T02:05:01.301290Z",
     "shell.execute_reply": "2020-06-08T02:05:01.302116Z"
    },
    "papermill": {
     "duration": 0.03524,
     "end_time": "2020-06-08T02:05:01.302295",
     "exception": false,
     "start_time": "2020-06-08T02:05:01.267055",
     "status": "completed"
    },
    "tags": [
     "parameters"
    ]
   },
   "outputs": [],
   "source": [
    "#data to be analyzed: \n",
    "data_dir_input = \"/Users/gilmandelbaum/Desktop/opto_final/OptoConsump\"\n",
    "#where to save the analyzed data: \n",
    "data_dir_output = \"/Users/gilmandelbaum/Desktop/opto_final/OptoConsump_output_8\"\n",
    "\n",
    "\n",
    "HowManyBack=1\n",
    "\n",
    "Mouse_Date_FileName_list = \"MasterOptoConsumption\"\n",
    "\n",
    "seq_str= \"0a1ad2a4abc5a6a\""
   ]
  },
  {
   "cell_type": "code",
   "execution_count": 4,
   "metadata": {
    "execution": {
     "iopub.execute_input": "2020-06-08T02:05:01.366236Z",
     "iopub.status.busy": "2020-06-08T02:05:01.365412Z",
     "iopub.status.idle": "2020-06-08T02:05:01.367997Z",
     "shell.execute_reply": "2020-06-08T02:05:01.368763Z"
    },
    "papermill": {
     "duration": 0.037652,
     "end_time": "2020-06-08T02:05:01.368937",
     "exception": false,
     "start_time": "2020-06-08T02:05:01.331285",
     "status": "completed"
    },
    "tags": [
     "injected-parameters"
    ]
   },
   "outputs": [],
   "source": [
    "# Parameters\n",
    "data_dir_input = \"/Users/gilmandelbaum/Dropbox (HMS)/0.STRpaper/4.Optogenetics/opto_consumption_final/0.after.QC.D2/D2.OptoConsumpRaw\"\n",
    "data_dir_output = \"/Users/gilmandelbaum/Dropbox (HMS)/0.STRpaper/4.Optogenetics/opto_consumption_final/0.after.QC.D2/D2.OptoConsumpOutput\"\n",
    "HowManyBack = 1\n",
    "seq_str = \"0a1ae2a4abc5a6a\"\n",
    "Mouse_Date_FileName_list = \"D2.stim_trials<8>25\"\n"
   ]
  },
  {
   "cell_type": "code",
   "execution_count": 5,
   "metadata": {
    "execution": {
     "iopub.execute_input": "2020-06-08T02:05:01.441038Z",
     "iopub.status.busy": "2020-06-08T02:05:01.440316Z",
     "iopub.status.idle": "2020-06-08T02:05:01.443686Z",
     "shell.execute_reply": "2020-06-08T02:05:01.443046Z"
    },
    "papermill": {
     "duration": 0.035411,
     "end_time": "2020-06-08T02:05:01.443788",
     "exception": false,
     "start_time": "2020-06-08T02:05:01.408377",
     "status": "completed"
    },
    "tags": []
   },
   "outputs": [],
   "source": [
    "folder_name = \"timeOfLicks\""
   ]
  },
  {
   "cell_type": "code",
   "execution_count": 6,
   "metadata": {
    "execution": {
     "iopub.execute_input": "2020-06-08T02:05:01.512776Z",
     "iopub.status.busy": "2020-06-08T02:05:01.509277Z",
     "iopub.status.idle": "2020-06-08T02:05:01.515824Z",
     "shell.execute_reply": "2020-06-08T02:05:01.515156Z"
    },
    "papermill": {
     "duration": 0.041144,
     "end_time": "2020-06-08T02:05:01.515922",
     "exception": false,
     "start_time": "2020-06-08T02:05:01.474778",
     "status": "completed"
    },
    "scrolled": true,
    "tags": []
   },
   "outputs": [],
   "source": [
    "Mouse_Date_FileName = pd.read_csv(data_dir_input+\"/\"+Mouse_Date_FileName_list+\".csv\")"
   ]
  },
  {
   "cell_type": "code",
   "execution_count": 7,
   "metadata": {
    "execution": {
     "iopub.execute_input": "2020-06-08T02:05:01.582196Z",
     "iopub.status.busy": "2020-06-08T02:05:01.581575Z",
     "iopub.status.idle": "2020-06-08T02:05:01.809198Z",
     "shell.execute_reply": "2020-06-08T02:05:01.808548Z"
    },
    "papermill": {
     "duration": 0.264645,
     "end_time": "2020-06-08T02:05:01.809303",
     "exception": false,
     "start_time": "2020-06-08T02:05:01.544658",
     "status": "completed"
    },
    "tags": []
   },
   "outputs": [],
   "source": [
    "Reward_NoReward_stay_right = ahf.loadSession_csv (Mouse_Date_FileName,data_dir_output,\n",
    "                                                  HowManyBack,folder_name,seq_str,\"Reward_NoReward_tag_stay_right\")"
   ]
  },
  {
   "cell_type": "code",
   "execution_count": 8,
   "metadata": {
    "execution": {
     "iopub.execute_input": "2020-06-08T02:05:01.872592Z",
     "iopub.status.busy": "2020-06-08T02:05:01.871023Z",
     "iopub.status.idle": "2020-06-08T02:05:01.997362Z",
     "shell.execute_reply": "2020-06-08T02:05:01.996694Z"
    },
    "papermill": {
     "duration": 0.158634,
     "end_time": "2020-06-08T02:05:01.997460",
     "exception": false,
     "start_time": "2020-06-08T02:05:01.838826",
     "status": "completed"
    },
    "scrolled": true,
    "tags": []
   },
   "outputs": [],
   "source": [
    "Reward_NoReward_switch_right = ahf.loadSession_csv (Mouse_Date_FileName,data_dir_output,\n",
    "                                       HowManyBack,folder_name,seq_str,\"Reward_NoReward_tag_switch_right\")"
   ]
  },
  {
   "cell_type": "code",
   "execution_count": 9,
   "metadata": {
    "execution": {
     "iopub.execute_input": "2020-06-08T02:05:02.066948Z",
     "iopub.status.busy": "2020-06-08T02:05:02.066176Z",
     "iopub.status.idle": "2020-06-08T02:05:02.287522Z",
     "shell.execute_reply": "2020-06-08T02:05:02.288133Z"
    },
    "papermill": {
     "duration": 0.256389,
     "end_time": "2020-06-08T02:05:02.288257",
     "exception": false,
     "start_time": "2020-06-08T02:05:02.031868",
     "status": "completed"
    },
    "tags": []
   },
   "outputs": [],
   "source": [
    "Reward_NoReward_stay_left = ahf.loadSession_csv (Mouse_Date_FileName,data_dir_output,\n",
    "                                     HowManyBack,folder_name,seq_str,\"Reward_NoReward_tag_stay_left\")"
   ]
  },
  {
   "cell_type": "code",
   "execution_count": 10,
   "metadata": {
    "execution": {
     "iopub.execute_input": "2020-06-08T02:05:02.355928Z",
     "iopub.status.busy": "2020-06-08T02:05:02.350456Z",
     "iopub.status.idle": "2020-06-08T02:05:02.450005Z",
     "shell.execute_reply": "2020-06-08T02:05:02.450746Z"
    },
    "papermill": {
     "duration": 0.134282,
     "end_time": "2020-06-08T02:05:02.450901",
     "exception": false,
     "start_time": "2020-06-08T02:05:02.316619",
     "status": "completed"
    },
    "tags": []
   },
   "outputs": [],
   "source": [
    "Reward_NoReward_switch_left = ahf.loadSession_csv (Mouse_Date_FileName,data_dir_output,\n",
    "                                                   HowManyBack,folder_name,seq_str,\"Reward_NoReward_tag_switch_left\")"
   ]
  },
  {
   "cell_type": "code",
   "execution_count": 11,
   "metadata": {
    "execution": {
     "iopub.execute_input": "2020-06-08T02:05:02.523073Z",
     "iopub.status.busy": "2020-06-08T02:05:02.522405Z",
     "iopub.status.idle": "2020-06-08T02:05:02.727102Z",
     "shell.execute_reply": "2020-06-08T02:05:02.727834Z"
    },
    "papermill": {
     "duration": 0.244904,
     "end_time": "2020-06-08T02:05:02.727967",
     "exception": false,
     "start_time": "2020-06-08T02:05:02.483063",
     "status": "completed"
    },
    "tags": []
   },
   "outputs": [],
   "source": [
    "df_list = ahf.extract_data_set_consumption_times_std (Mouse_Date_FileName,\n",
    "                                                      Reward_NoReward_stay_right,\n",
    "                                                      Reward_NoReward_switch_right,\n",
    "                                                      Reward_NoReward_stay_left,\n",
    "                                                      Reward_NoReward_switch_left)"
   ]
  },
  {
   "cell_type": "code",
   "execution_count": 12,
   "metadata": {
    "execution": {
     "iopub.execute_input": "2020-06-08T02:05:02.815594Z",
     "iopub.status.busy": "2020-06-08T02:05:02.800055Z",
     "iopub.status.idle": "2020-06-08T02:05:02.877156Z",
     "shell.execute_reply": "2020-06-08T02:05:02.877752Z"
    },
    "papermill": {
     "duration": 0.119173,
     "end_time": "2020-06-08T02:05:02.877878",
     "exception": false,
     "start_time": "2020-06-08T02:05:02.758705",
     "status": "completed"
    },
    "tags": []
   },
   "outputs": [],
   "source": [
    "df_switchSide_switch_std=ahf.generating_data_set_consumption_times_2(Mouse_Date_FileName,df_list,\n",
    "                                                                     \"switchSide_switch_std\",'_std')"
   ]
  },
  {
   "cell_type": "code",
   "execution_count": 13,
   "metadata": {
    "execution": {
     "iopub.execute_input": "2020-06-08T02:05:02.948692Z",
     "iopub.status.busy": "2020-06-08T02:05:02.945391Z",
     "iopub.status.idle": "2020-06-08T02:05:03.031134Z",
     "shell.execute_reply": "2020-06-08T02:05:03.031756Z"
    },
    "papermill": {
     "duration": 0.124351,
     "end_time": "2020-06-08T02:05:03.031882",
     "exception": false,
     "start_time": "2020-06-08T02:05:02.907531",
     "status": "completed"
    },
    "tags": []
   },
   "outputs": [],
   "source": [
    "df_switchSide_Stay_std=ahf.generating_data_set_consumption_times_2(Mouse_Date_FileName,df_list,\n",
    "                                                               \"switchSide_Stay_std\",'_std')"
   ]
  },
  {
   "cell_type": "code",
   "execution_count": 14,
   "metadata": {
    "execution": {
     "iopub.execute_input": "2020-06-08T02:05:03.104724Z",
     "iopub.status.busy": "2020-06-08T02:05:03.101551Z",
     "iopub.status.idle": "2020-06-08T02:05:03.182899Z",
     "shell.execute_reply": "2020-06-08T02:05:03.183496Z"
    },
    "papermill": {
     "duration": 0.121175,
     "end_time": "2020-06-08T02:05:03.183640",
     "exception": false,
     "start_time": "2020-06-08T02:05:03.062465",
     "status": "completed"
    },
    "tags": []
   },
   "outputs": [],
   "source": [
    "df_NOswitchSide_switch_std=ahf.generating_data_set_consumption_times_2(Mouse_Date_FileName,df_list,\n",
    "                                                                 \"NOswitchSide_switch_std\",'_std')"
   ]
  },
  {
   "cell_type": "code",
   "execution_count": 15,
   "metadata": {
    "execution": {
     "iopub.execute_input": "2020-06-08T02:05:03.264592Z",
     "iopub.status.busy": "2020-06-08T02:05:03.261307Z",
     "iopub.status.idle": "2020-06-08T02:05:03.354440Z",
     "shell.execute_reply": "2020-06-08T02:05:03.353786Z"
    },
    "papermill": {
     "duration": 0.138927,
     "end_time": "2020-06-08T02:05:03.354537",
     "exception": false,
     "start_time": "2020-06-08T02:05:03.215610",
     "status": "completed"
    },
    "tags": []
   },
   "outputs": [],
   "source": [
    "df_NOswitchSide_Stay_std=ahf.generating_data_set_consumption_times_2(Mouse_Date_FileName,df_list,\n",
    "                                                               \"NOswitchSide_Stay_std\",'_std')"
   ]
  },
  {
   "cell_type": "code",
   "execution_count": 16,
   "metadata": {
    "execution": {
     "iopub.execute_input": "2020-06-08T02:05:03.422892Z",
     "iopub.status.busy": "2020-06-08T02:05:03.421861Z",
     "iopub.status.idle": "2020-06-08T02:05:03.424712Z",
     "shell.execute_reply": "2020-06-08T02:05:03.425325Z"
    },
    "papermill": {
     "duration": 0.036824,
     "end_time": "2020-06-08T02:05:03.425452",
     "exception": false,
     "start_time": "2020-06-08T02:05:03.388628",
     "status": "completed"
    },
    "tags": []
   },
   "outputs": [],
   "source": [
    "seq_str_d= \"0a1ad2a4abc5a6d\"\n",
    "folder_name_d = \"each_lick_per_period_with_direction\""
   ]
  },
  {
   "cell_type": "code",
   "execution_count": 17,
   "metadata": {
    "execution": {
     "iopub.execute_input": "2020-06-08T02:05:03.487971Z",
     "iopub.status.busy": "2020-06-08T02:05:03.484513Z",
     "iopub.status.idle": "2020-06-08T02:05:03.578759Z",
     "shell.execute_reply": "2020-06-08T02:05:03.578142Z"
    },
    "papermill": {
     "duration": 0.124997,
     "end_time": "2020-06-08T02:05:03.578851",
     "exception": false,
     "start_time": "2020-06-08T02:05:03.453854",
     "status": "completed"
    },
    "tags": []
   },
   "outputs": [],
   "source": [
    "Reward_NoReward_stay_right_directions = ahf.loadSession_csv (Mouse_Date_FileName,data_dir_output,\n",
    "                                     HowManyBack,folder_name_d,seq_str_d,\"Reward_NoReward_tag_stay_right\")"
   ]
  },
  {
   "cell_type": "code",
   "execution_count": 18,
   "metadata": {
    "execution": {
     "iopub.execute_input": "2020-06-08T02:05:03.667172Z",
     "iopub.status.busy": "2020-06-08T02:05:03.644387Z",
     "iopub.status.idle": "2020-06-08T02:05:03.720325Z",
     "shell.execute_reply": "2020-06-08T02:05:03.720830Z"
    },
    "papermill": {
     "duration": 0.113516,
     "end_time": "2020-06-08T02:05:03.720936",
     "exception": false,
     "start_time": "2020-06-08T02:05:03.607420",
     "status": "completed"
    },
    "tags": []
   },
   "outputs": [],
   "source": [
    "Reward_NoReward_switch_right_directions = ahf.loadSession_csv (Mouse_Date_FileName,data_dir_output,\n",
    "                                       HowManyBack,folder_name_d,seq_str_d,\"Reward_NoReward_tag_switch_right\")"
   ]
  },
  {
   "cell_type": "code",
   "execution_count": 19,
   "metadata": {
    "execution": {
     "iopub.execute_input": "2020-06-08T02:05:03.786583Z",
     "iopub.status.busy": "2020-06-08T02:05:03.782196Z",
     "iopub.status.idle": "2020-06-08T02:05:03.852474Z",
     "shell.execute_reply": "2020-06-08T02:05:03.851925Z"
    },
    "papermill": {
     "duration": 0.106523,
     "end_time": "2020-06-08T02:05:03.852565",
     "exception": false,
     "start_time": "2020-06-08T02:05:03.746042",
     "status": "completed"
    },
    "tags": []
   },
   "outputs": [],
   "source": [
    "Reward_NoReward_stay_left_directions = ahf.loadSession_csv (Mouse_Date_FileName,data_dir_output,\n",
    "                                     HowManyBack,folder_name_d,seq_str_d,\"Reward_NoReward_tag_stay_left\")"
   ]
  },
  {
   "cell_type": "code",
   "execution_count": 20,
   "metadata": {
    "execution": {
     "iopub.execute_input": "2020-06-08T02:05:03.907740Z",
     "iopub.status.busy": "2020-06-08T02:05:03.907214Z",
     "iopub.status.idle": "2020-06-08T02:05:03.981101Z",
     "shell.execute_reply": "2020-06-08T02:05:03.980608Z"
    },
    "papermill": {
     "duration": 0.103192,
     "end_time": "2020-06-08T02:05:03.981178",
     "exception": false,
     "start_time": "2020-06-08T02:05:03.877986",
     "status": "completed"
    },
    "tags": []
   },
   "outputs": [],
   "source": [
    "Reward_NoReward_switch_left_directions = ahf.loadSession_csv (Mouse_Date_FileName,data_dir_output,\n",
    "                                       HowManyBack,folder_name_d,seq_str_d,\"Reward_NoReward_tag_switch_left\")"
   ]
  },
  {
   "cell_type": "code",
   "execution_count": null,
   "metadata": {
    "papermill": {
     "duration": 0.025313,
     "end_time": "2020-06-08T02:05:04.032304",
     "exception": false,
     "start_time": "2020-06-08T02:05:04.006991",
     "status": "completed"
    },
    "tags": []
   },
   "outputs": [],
   "source": []
  },
  {
   "cell_type": "code",
   "execution_count": 21,
   "metadata": {
    "execution": {
     "iopub.execute_input": "2020-06-08T02:05:04.091685Z",
     "iopub.status.busy": "2020-06-08T02:05:04.091142Z",
     "iopub.status.idle": "2020-06-08T02:05:04.598222Z",
     "shell.execute_reply": "2020-06-08T02:05:04.597743Z"
    },
    "papermill": {
     "duration": 0.53789,
     "end_time": "2020-06-08T02:05:04.598294",
     "exception": false,
     "start_time": "2020-06-08T02:05:04.060404",
     "status": "completed"
    },
    "tags": []
   },
   "outputs": [],
   "source": [
    "df_list = ahf.extract_data_set_consumption_directions (Mouse_Date_FileName,\n",
    "                                                       Reward_NoReward_stay_right_directions,\n",
    "                                                       Reward_NoReward_switch_right_directions,\n",
    "                                                       Reward_NoReward_stay_left_directions,\n",
    "                                                       Reward_NoReward_switch_left_directions)"
   ]
  },
  {
   "cell_type": "code",
   "execution_count": 22,
   "metadata": {
    "execution": {
     "iopub.execute_input": "2020-06-08T02:05:04.662976Z",
     "iopub.status.busy": "2020-06-08T02:05:04.659919Z",
     "iopub.status.idle": "2020-06-08T02:05:04.727462Z",
     "shell.execute_reply": "2020-06-08T02:05:04.726979Z"
    },
    "papermill": {
     "duration": 0.10372,
     "end_time": "2020-06-08T02:05:04.727535",
     "exception": false,
     "start_time": "2020-06-08T02:05:04.623815",
     "status": "completed"
    },
    "tags": []
   },
   "outputs": [],
   "source": [
    "df_switchSide_switch_contra=ahf.generating_data_set_consumption_times_2(Mouse_Date_FileName,df_list,\n",
    "                                                                        \"switchSide_switch_contra\",'_contra')"
   ]
  },
  {
   "cell_type": "code",
   "execution_count": 23,
   "metadata": {
    "execution": {
     "iopub.execute_input": "2020-06-08T02:05:04.810179Z",
     "iopub.status.busy": "2020-06-08T02:05:04.805835Z",
     "iopub.status.idle": "2020-06-08T02:05:04.856169Z",
     "shell.execute_reply": "2020-06-08T02:05:04.855683Z"
    },
    "papermill": {
     "duration": 0.102396,
     "end_time": "2020-06-08T02:05:04.856241",
     "exception": false,
     "start_time": "2020-06-08T02:05:04.753845",
     "status": "completed"
    },
    "tags": []
   },
   "outputs": [],
   "source": [
    "df_switchSide_switch_ipsi=ahf.generating_data_set_consumption_times_2(Mouse_Date_FileName,df_list,\n",
    "                                                                      \"switchSide_switch_ipsi\",'_ipsi')"
   ]
  },
  {
   "cell_type": "code",
   "execution_count": 24,
   "metadata": {
    "execution": {
     "iopub.execute_input": "2020-06-08T02:05:04.919066Z",
     "iopub.status.busy": "2020-06-08T02:05:04.918336Z",
     "iopub.status.idle": "2020-06-08T02:05:04.985205Z",
     "shell.execute_reply": "2020-06-08T02:05:04.984686Z"
    },
    "papermill": {
     "duration": 0.103877,
     "end_time": "2020-06-08T02:05:04.985324",
     "exception": false,
     "start_time": "2020-06-08T02:05:04.881447",
     "status": "completed"
    },
    "tags": []
   },
   "outputs": [],
   "source": [
    "df_switchSide_switch_total=ahf.generating_data_set_consumption_times_2(Mouse_Date_FileName,df_list,\n",
    "                                                                       \"switchSide_switch_total\",'_total')"
   ]
  },
  {
   "cell_type": "code",
   "execution_count": 25,
   "metadata": {
    "execution": {
     "iopub.execute_input": "2020-06-08T02:05:05.072879Z",
     "iopub.status.busy": "2020-06-08T02:05:05.052356Z",
     "iopub.status.idle": "2020-06-08T02:05:05.120499Z",
     "shell.execute_reply": "2020-06-08T02:05:05.121059Z"
    },
    "papermill": {
     "duration": 0.109611,
     "end_time": "2020-06-08T02:05:05.121175",
     "exception": false,
     "start_time": "2020-06-08T02:05:05.011564",
     "status": "completed"
    },
    "tags": []
   },
   "outputs": [],
   "source": [
    "df_switchSide_switch_ratio=ahf.generating_data_set_consumption_times_2(Mouse_Date_FileName,df_list,\n",
    "                                                                       \"switchSide_switch_ratio\",'_ratio')"
   ]
  },
  {
   "cell_type": "code",
   "execution_count": 26,
   "metadata": {
    "execution": {
     "iopub.execute_input": "2020-06-08T02:05:05.194020Z",
     "iopub.status.busy": "2020-06-08T02:05:05.190457Z",
     "iopub.status.idle": "2020-06-08T02:05:05.268031Z",
     "shell.execute_reply": "2020-06-08T02:05:05.268711Z"
    },
    "papermill": {
     "duration": 0.120653,
     "end_time": "2020-06-08T02:05:05.268858",
     "exception": false,
     "start_time": "2020-06-08T02:05:05.148205",
     "status": "completed"
    },
    "tags": []
   },
   "outputs": [],
   "source": [
    "df_switchSide_Stay_contra=ahf.generating_data_set_consumption_times_2(Mouse_Date_FileName,df_list,\n",
    "                                                                      \"switchSide_Stay_contra\",'_contra')"
   ]
  },
  {
   "cell_type": "code",
   "execution_count": 27,
   "metadata": {
    "execution": {
     "iopub.execute_input": "2020-06-08T02:05:05.346039Z",
     "iopub.status.busy": "2020-06-08T02:05:05.345308Z",
     "iopub.status.idle": "2020-06-08T02:05:05.409997Z",
     "shell.execute_reply": "2020-06-08T02:05:05.409481Z"
    },
    "papermill": {
     "duration": 0.112748,
     "end_time": "2020-06-08T02:05:05.410075",
     "exception": false,
     "start_time": "2020-06-08T02:05:05.297327",
     "status": "completed"
    },
    "tags": []
   },
   "outputs": [],
   "source": [
    "df_switchSide_Stay_ipsi=ahf.generating_data_set_consumption_times_2(Mouse_Date_FileName,df_list,\n",
    "                                                                    \"switchSide_Stay_ipsi\",'_ipsi')"
   ]
  },
  {
   "cell_type": "code",
   "execution_count": 28,
   "metadata": {
    "execution": {
     "iopub.execute_input": "2020-06-08T02:05:05.491507Z",
     "iopub.status.busy": "2020-06-08T02:05:05.488366Z",
     "iopub.status.idle": "2020-06-08T02:05:05.547035Z",
     "shell.execute_reply": "2020-06-08T02:05:05.546539Z"
    },
    "papermill": {
     "duration": 0.108582,
     "end_time": "2020-06-08T02:05:05.547111",
     "exception": false,
     "start_time": "2020-06-08T02:05:05.438529",
     "status": "completed"
    },
    "tags": []
   },
   "outputs": [],
   "source": [
    "df_switchSide_Stay_total=ahf.generating_data_set_consumption_times_2(Mouse_Date_FileName,df_list,\n",
    "                                                                     \"switchSide_Stay_total\",'_total')"
   ]
  },
  {
   "cell_type": "code",
   "execution_count": 29,
   "metadata": {
    "execution": {
     "iopub.execute_input": "2020-06-08T02:05:05.622378Z",
     "iopub.status.busy": "2020-06-08T02:05:05.621908Z",
     "iopub.status.idle": "2020-06-08T02:05:05.675523Z",
     "shell.execute_reply": "2020-06-08T02:05:05.675041Z"
    },
    "papermill": {
     "duration": 0.102776,
     "end_time": "2020-06-08T02:05:05.675597",
     "exception": false,
     "start_time": "2020-06-08T02:05:05.572821",
     "status": "completed"
    },
    "tags": []
   },
   "outputs": [],
   "source": [
    "df_switchSide_Stay_ratio=ahf.generating_data_set_consumption_times_2(Mouse_Date_FileName,df_list,\n",
    "                                                               \"switchSide_Stay_ratio\",'_ratio')"
   ]
  },
  {
   "cell_type": "code",
   "execution_count": 30,
   "metadata": {
    "execution": {
     "iopub.execute_input": "2020-06-08T02:05:05.814456Z",
     "iopub.status.busy": "2020-06-08T02:05:05.783904Z",
     "iopub.status.idle": "2020-06-08T02:05:05.834777Z",
     "shell.execute_reply": "2020-06-08T02:05:05.834192Z"
    },
    "papermill": {
     "duration": 0.129641,
     "end_time": "2020-06-08T02:05:05.834867",
     "exception": false,
     "start_time": "2020-06-08T02:05:05.705226",
     "status": "completed"
    },
    "tags": []
   },
   "outputs": [],
   "source": [
    "df_NOswitchSide_switch_contra=ahf.generating_data_set_consumption_times_2(Mouse_Date_FileName,df_list,\n",
    "                                                                          \"NOswitchSide_switch_contra\",'_contra')"
   ]
  },
  {
   "cell_type": "code",
   "execution_count": 31,
   "metadata": {
    "execution": {
     "iopub.execute_input": "2020-06-08T02:05:05.932795Z",
     "iopub.status.busy": "2020-06-08T02:05:05.932177Z",
     "iopub.status.idle": "2020-06-08T02:05:05.984962Z",
     "shell.execute_reply": "2020-06-08T02:05:05.984342Z"
    },
    "papermill": {
     "duration": 0.119014,
     "end_time": "2020-06-08T02:05:05.985055",
     "exception": false,
     "start_time": "2020-06-08T02:05:05.866041",
     "status": "completed"
    },
    "tags": []
   },
   "outputs": [],
   "source": [
    "df_NOswitchSide_switch_ipsi=ahf.generating_data_set_consumption_times_2(Mouse_Date_FileName,df_list,\n",
    "                                                                        \"NOswitchSide_switch_ipsi\",'_ipsi')"
   ]
  },
  {
   "cell_type": "code",
   "execution_count": 32,
   "metadata": {
    "execution": {
     "iopub.execute_input": "2020-06-08T02:05:06.091585Z",
     "iopub.status.busy": "2020-06-08T02:05:06.091085Z",
     "iopub.status.idle": "2020-06-08T02:05:06.127012Z",
     "shell.execute_reply": "2020-06-08T02:05:06.126504Z"
    },
    "papermill": {
     "duration": 0.112467,
     "end_time": "2020-06-08T02:05:06.127090",
     "exception": false,
     "start_time": "2020-06-08T02:05:06.014623",
     "status": "completed"
    },
    "tags": []
   },
   "outputs": [],
   "source": [
    "df_NOswitchSide_switch_total=ahf.generating_data_set_consumption_times_2(Mouse_Date_FileName,df_list,\n",
    "                                                                         \"NOswitchSide_switch_total\",'_total')"
   ]
  },
  {
   "cell_type": "code",
   "execution_count": 33,
   "metadata": {
    "execution": {
     "iopub.execute_input": "2020-06-08T02:05:06.218010Z",
     "iopub.status.busy": "2020-06-08T02:05:06.188613Z",
     "iopub.status.idle": "2020-06-08T02:05:06.259871Z",
     "shell.execute_reply": "2020-06-08T02:05:06.260345Z"
    },
    "papermill": {
     "duration": 0.106816,
     "end_time": "2020-06-08T02:05:06.260445",
     "exception": false,
     "start_time": "2020-06-08T02:05:06.153629",
     "status": "completed"
    },
    "tags": []
   },
   "outputs": [],
   "source": [
    "df_NOswitchSide_switch_ratio=ahf.generating_data_set_consumption_times_2(Mouse_Date_FileName,df_list,\n",
    "                                                                         \"NOswitchSide_switch_ratio\",'_ratio')"
   ]
  },
  {
   "cell_type": "code",
   "execution_count": 34,
   "metadata": {
    "execution": {
     "iopub.execute_input": "2020-06-08T02:05:06.331207Z",
     "iopub.status.busy": "2020-06-08T02:05:06.327118Z",
     "iopub.status.idle": "2020-06-08T02:05:06.398132Z",
     "shell.execute_reply": "2020-06-08T02:05:06.397655Z"
    },
    "papermill": {
     "duration": 0.111033,
     "end_time": "2020-06-08T02:05:06.398204",
     "exception": false,
     "start_time": "2020-06-08T02:05:06.287171",
     "status": "completed"
    },
    "tags": []
   },
   "outputs": [],
   "source": [
    "df_NOswitchSide_Stay_contra=ahf.generating_data_set_consumption_times_2(Mouse_Date_FileName,df_list,\n",
    "                                                                        \"NOswitchSide_Stay_contra\",'_contra')"
   ]
  },
  {
   "cell_type": "code",
   "execution_count": 35,
   "metadata": {
    "execution": {
     "iopub.execute_input": "2020-06-08T02:05:06.527470Z",
     "iopub.status.busy": "2020-06-08T02:05:06.484958Z",
     "iopub.status.idle": "2020-06-08T02:05:06.535826Z",
     "shell.execute_reply": "2020-06-08T02:05:06.535165Z"
    },
    "papermill": {
     "duration": 0.111511,
     "end_time": "2020-06-08T02:05:06.535914",
     "exception": false,
     "start_time": "2020-06-08T02:05:06.424403",
     "status": "completed"
    },
    "tags": []
   },
   "outputs": [],
   "source": [
    "df_NOswitchSide_Stay_ipsi=ahf.generating_data_set_consumption_times_2(Mouse_Date_FileName,df_list,\n",
    "                                                                      \"NOswitchSide_Stay_ipsi\",'_ipsi')"
   ]
  },
  {
   "cell_type": "code",
   "execution_count": 36,
   "metadata": {
    "execution": {
     "iopub.execute_input": "2020-06-08T02:05:06.614723Z",
     "iopub.status.busy": "2020-06-08T02:05:06.614185Z",
     "iopub.status.idle": "2020-06-08T02:05:06.675859Z",
     "shell.execute_reply": "2020-06-08T02:05:06.676357Z"
    },
    "papermill": {
     "duration": 0.114199,
     "end_time": "2020-06-08T02:05:06.676460",
     "exception": false,
     "start_time": "2020-06-08T02:05:06.562261",
     "status": "completed"
    },
    "tags": []
   },
   "outputs": [],
   "source": [
    "df_NOswitchSide_Stay_total=ahf.generating_data_set_consumption_times_2(Mouse_Date_FileName,df_list,\n",
    "                                                                       \"NOswitchSide_Stay_total\",'_total')"
   ]
  },
  {
   "cell_type": "code",
   "execution_count": 37,
   "metadata": {
    "execution": {
     "iopub.execute_input": "2020-06-08T02:05:06.758398Z",
     "iopub.status.busy": "2020-06-08T02:05:06.750504Z",
     "iopub.status.idle": "2020-06-08T02:05:06.834069Z",
     "shell.execute_reply": "2020-06-08T02:05:06.833423Z"
    },
    "papermill": {
     "duration": 0.130363,
     "end_time": "2020-06-08T02:05:06.834161",
     "exception": false,
     "start_time": "2020-06-08T02:05:06.703798",
     "status": "completed"
    },
    "tags": []
   },
   "outputs": [],
   "source": [
    "df_NOswitchSide_Stay_ratio=ahf.generating_data_set_consumption_times_2(Mouse_Date_FileName,df_list,\n",
    "                                                                       \"NOswitchSide_Stay_ratio\",'_ratio')"
   ]
  },
  {
   "cell_type": "code",
   "execution_count": 38,
   "metadata": {
    "execution": {
     "iopub.execute_input": "2020-06-08T02:05:06.899060Z",
     "iopub.status.busy": "2020-06-08T02:05:06.898542Z",
     "iopub.status.idle": "2020-06-08T02:05:06.900840Z",
     "shell.execute_reply": "2020-06-08T02:05:06.900293Z"
    },
    "papermill": {
     "duration": 0.035531,
     "end_time": "2020-06-08T02:05:06.900929",
     "exception": false,
     "start_time": "2020-06-08T02:05:06.865398",
     "status": "completed"
    },
    "tags": []
   },
   "outputs": [],
   "source": [
    "data_set = \"data_set\"+\"_\"+seq_str[:seq_str.index('6')]\n",
    "cache_dir_plt = os.path.join(data_dir_output, data_set)\n",
    "if not os.path.exists(cache_dir_plt):\n",
    "    os.makedirs(cache_dir_plt)"
   ]
  },
  {
   "cell_type": "code",
   "execution_count": 39,
   "metadata": {
    "execution": {
     "iopub.execute_input": "2020-06-08T02:05:06.968729Z",
     "iopub.status.busy": "2020-06-08T02:05:06.967999Z",
     "iopub.status.idle": "2020-06-08T02:05:06.970934Z",
     "shell.execute_reply": "2020-06-08T02:05:06.970359Z"
    },
    "papermill": {
     "duration": 0.036054,
     "end_time": "2020-06-08T02:05:06.971018",
     "exception": false,
     "start_time": "2020-06-08T02:05:06.934964",
     "status": "completed"
    },
    "tags": []
   },
   "outputs": [],
   "source": [
    "file = \"data_set_time_consumption_licks\"\n",
    "cache_dir_plt = os.path.join(data_dir_output,data_set, file)\n",
    "if not os.path.exists(cache_dir_plt):\n",
    "    os.makedirs(cache_dir_plt)"
   ]
  },
  {
   "cell_type": "code",
   "execution_count": 40,
   "metadata": {
    "execution": {
     "iopub.execute_input": "2020-06-08T02:05:07.032751Z",
     "iopub.status.busy": "2020-06-08T02:05:07.032237Z",
     "iopub.status.idle": "2020-06-08T02:05:07.039008Z",
     "shell.execute_reply": "2020-06-08T02:05:07.038472Z"
    },
    "papermill": {
     "duration": 0.037298,
     "end_time": "2020-06-08T02:05:07.039088",
     "exception": false,
     "start_time": "2020-06-08T02:05:07.001790",
     "status": "completed"
    },
    "tags": []
   },
   "outputs": [],
   "source": [
    "df_switchSide_switch_std.to_csv(data_dir_output+\"/\"+data_set+\"/\"+file+\"/\"+\"switch_side_switch_std\"+seq_str+\".csv\")"
   ]
  },
  {
   "cell_type": "code",
   "execution_count": 41,
   "metadata": {
    "execution": {
     "iopub.execute_input": "2020-06-08T02:05:07.106534Z",
     "iopub.status.busy": "2020-06-08T02:05:07.105951Z",
     "iopub.status.idle": "2020-06-08T02:05:07.117867Z",
     "shell.execute_reply": "2020-06-08T02:05:07.117200Z"
    },
    "papermill": {
     "duration": 0.052765,
     "end_time": "2020-06-08T02:05:07.117971",
     "exception": false,
     "start_time": "2020-06-08T02:05:07.065206",
     "status": "completed"
    },
    "tags": []
   },
   "outputs": [],
   "source": [
    "df_switchSide_switch_contra.to_csv(data_dir_output+\"/\"+data_set+\"/\"+file+\"/\"+\"switch_side_switch_contra\"+seq_str+\".csv\")"
   ]
  },
  {
   "cell_type": "code",
   "execution_count": 42,
   "metadata": {
    "execution": {
     "iopub.execute_input": "2020-06-08T02:05:07.186470Z",
     "iopub.status.busy": "2020-06-08T02:05:07.185682Z",
     "iopub.status.idle": "2020-06-08T02:05:07.203414Z",
     "shell.execute_reply": "2020-06-08T02:05:07.204142Z"
    },
    "papermill": {
     "duration": 0.053395,
     "end_time": "2020-06-08T02:05:07.204272",
     "exception": false,
     "start_time": "2020-06-08T02:05:07.150877",
     "status": "completed"
    },
    "tags": []
   },
   "outputs": [],
   "source": [
    "df_switchSide_switch_ipsi.to_csv(data_dir_output+\"/\"+data_set+\"/\"+file+\"/\"+\"switch_side_switch_ipsi\"+seq_str+\".csv\")"
   ]
  },
  {
   "cell_type": "code",
   "execution_count": 43,
   "metadata": {
    "execution": {
     "iopub.execute_input": "2020-06-08T02:05:07.277889Z",
     "iopub.status.busy": "2020-06-08T02:05:07.277218Z",
     "iopub.status.idle": "2020-06-08T02:05:07.281226Z",
     "shell.execute_reply": "2020-06-08T02:05:07.281734Z"
    },
    "papermill": {
     "duration": 0.039183,
     "end_time": "2020-06-08T02:05:07.281890",
     "exception": false,
     "start_time": "2020-06-08T02:05:07.242707",
     "status": "completed"
    },
    "tags": []
   },
   "outputs": [],
   "source": [
    "df_switchSide_switch_total.to_csv(data_dir_output+\"/\"+data_set+\"/\"+file+\"/\"+\"switch_side_switch_total\"+seq_str+\".csv\")"
   ]
  },
  {
   "cell_type": "code",
   "execution_count": 44,
   "metadata": {
    "execution": {
     "iopub.execute_input": "2020-06-08T02:05:07.371658Z",
     "iopub.status.busy": "2020-06-08T02:05:07.370823Z",
     "iopub.status.idle": "2020-06-08T02:05:07.374624Z",
     "shell.execute_reply": "2020-06-08T02:05:07.375123Z"
    },
    "papermill": {
     "duration": 0.039629,
     "end_time": "2020-06-08T02:05:07.375233",
     "exception": false,
     "start_time": "2020-06-08T02:05:07.335604",
     "status": "completed"
    },
    "tags": []
   },
   "outputs": [],
   "source": [
    "df_switchSide_switch_ratio.to_csv(data_dir_output+\"/\"+data_set+\"/\"+file+\"/\"+\"switch_side_switch_ratio\"+seq_str+\".csv\")"
   ]
  },
  {
   "cell_type": "code",
   "execution_count": 45,
   "metadata": {
    "execution": {
     "iopub.execute_input": "2020-06-08T02:05:07.449325Z",
     "iopub.status.busy": "2020-06-08T02:05:07.448674Z",
     "iopub.status.idle": "2020-06-08T02:05:07.454708Z",
     "shell.execute_reply": "2020-06-08T02:05:07.454178Z"
    },
    "papermill": {
     "duration": 0.037984,
     "end_time": "2020-06-08T02:05:07.454788",
     "exception": false,
     "start_time": "2020-06-08T02:05:07.416804",
     "status": "completed"
    },
    "tags": []
   },
   "outputs": [],
   "source": [
    "df_switchSide_Stay_std.to_csv(data_dir_output+\"/\"+data_set+\"/\"+file+\"/\"+\"switch_side_stay_std\"+seq_str+\".csv\")"
   ]
  },
  {
   "cell_type": "code",
   "execution_count": 46,
   "metadata": {
    "execution": {
     "iopub.execute_input": "2020-06-08T02:05:07.525149Z",
     "iopub.status.busy": "2020-06-08T02:05:07.524646Z",
     "iopub.status.idle": "2020-06-08T02:05:07.536554Z",
     "shell.execute_reply": "2020-06-08T02:05:07.537115Z"
    },
    "papermill": {
     "duration": 0.044661,
     "end_time": "2020-06-08T02:05:07.537229",
     "exception": false,
     "start_time": "2020-06-08T02:05:07.492568",
     "status": "completed"
    },
    "tags": []
   },
   "outputs": [],
   "source": [
    "df_switchSide_Stay_contra.to_csv(data_dir_output+\"/\"+data_set+\"/\"+file+\"/\"+\"switch_side_stay_contra\"+seq_str+\".csv\")"
   ]
  },
  {
   "cell_type": "code",
   "execution_count": 47,
   "metadata": {
    "execution": {
     "iopub.execute_input": "2020-06-08T02:05:07.607831Z",
     "iopub.status.busy": "2020-06-08T02:05:07.607221Z",
     "iopub.status.idle": "2020-06-08T02:05:07.612135Z",
     "shell.execute_reply": "2020-06-08T02:05:07.611538Z"
    },
    "papermill": {
     "duration": 0.046696,
     "end_time": "2020-06-08T02:05:07.612225",
     "exception": false,
     "start_time": "2020-06-08T02:05:07.565529",
     "status": "completed"
    },
    "tags": []
   },
   "outputs": [],
   "source": [
    "df_switchSide_Stay_ipsi.to_csv(data_dir_output+\"/\"+data_set+\"/\"+file+\"/\"+\"switch_side_stay_ipsi\"+seq_str+\".csv\")"
   ]
  },
  {
   "cell_type": "code",
   "execution_count": 48,
   "metadata": {
    "execution": {
     "iopub.execute_input": "2020-06-08T02:05:07.673478Z",
     "iopub.status.busy": "2020-06-08T02:05:07.672770Z",
     "iopub.status.idle": "2020-06-08T02:05:07.676686Z",
     "shell.execute_reply": "2020-06-08T02:05:07.677191Z"
    },
    "papermill": {
     "duration": 0.035019,
     "end_time": "2020-06-08T02:05:07.677298",
     "exception": false,
     "start_time": "2020-06-08T02:05:07.642279",
     "status": "completed"
    },
    "tags": []
   },
   "outputs": [],
   "source": [
    "df_switchSide_Stay_total.to_csv(data_dir_output+\"/\"+data_set+\"/\"+file+\"/\"+\"switch_side_stay_total\"+seq_str+\".csv\")"
   ]
  },
  {
   "cell_type": "code",
   "execution_count": 49,
   "metadata": {
    "execution": {
     "iopub.execute_input": "2020-06-08T02:05:07.751168Z",
     "iopub.status.busy": "2020-06-08T02:05:07.750651Z",
     "iopub.status.idle": "2020-06-08T02:05:07.763753Z",
     "shell.execute_reply": "2020-06-08T02:05:07.764295Z"
    },
    "papermill": {
     "duration": 0.049576,
     "end_time": "2020-06-08T02:05:07.764408",
     "exception": false,
     "start_time": "2020-06-08T02:05:07.714832",
     "status": "completed"
    },
    "tags": []
   },
   "outputs": [],
   "source": [
    "df_switchSide_Stay_ratio.to_csv(data_dir_output+\"/\"+data_set+\"/\"+file+\"/\"+\"switch_side_stay_ratio\"+seq_str+\".csv\")"
   ]
  },
  {
   "cell_type": "code",
   "execution_count": 50,
   "metadata": {
    "execution": {
     "iopub.execute_input": "2020-06-08T02:05:07.825251Z",
     "iopub.status.busy": "2020-06-08T02:05:07.824714Z",
     "iopub.status.idle": "2020-06-08T02:05:07.829979Z",
     "shell.execute_reply": "2020-06-08T02:05:07.830476Z"
    },
    "papermill": {
     "duration": 0.036423,
     "end_time": "2020-06-08T02:05:07.830579",
     "exception": false,
     "start_time": "2020-06-08T02:05:07.794156",
     "status": "completed"
    },
    "tags": []
   },
   "outputs": [],
   "source": [
    "df_NOswitchSide_switch_std.to_csv(data_dir_output+\"/\"+data_set+\"/\"+file+\"/\"+\"NOswitch_side_switch_std\"+seq_str+\".csv\")"
   ]
  },
  {
   "cell_type": "code",
   "execution_count": 51,
   "metadata": {
    "execution": {
     "iopub.execute_input": "2020-06-08T02:05:07.907911Z",
     "iopub.status.busy": "2020-06-08T02:05:07.907101Z",
     "iopub.status.idle": "2020-06-08T02:05:07.911382Z",
     "shell.execute_reply": "2020-06-08T02:05:07.912120Z"
    },
    "papermill": {
     "duration": 0.049822,
     "end_time": "2020-06-08T02:05:07.912274",
     "exception": false,
     "start_time": "2020-06-08T02:05:07.862452",
     "status": "completed"
    },
    "tags": []
   },
   "outputs": [],
   "source": [
    "df_NOswitchSide_switch_contra.to_csv(data_dir_output+\"/\"+data_set+\"/\"+file+\"/\"+\"NOswitch_side_switch_contra\"+seq_str+\".csv\")"
   ]
  },
  {
   "cell_type": "code",
   "execution_count": 52,
   "metadata": {
    "execution": {
     "iopub.execute_input": "2020-06-08T02:05:07.984704Z",
     "iopub.status.busy": "2020-06-08T02:05:07.983931Z",
     "iopub.status.idle": "2020-06-08T02:05:07.989286Z",
     "shell.execute_reply": "2020-06-08T02:05:07.988657Z"
    },
    "papermill": {
     "duration": 0.044392,
     "end_time": "2020-06-08T02:05:07.989378",
     "exception": false,
     "start_time": "2020-06-08T02:05:07.944986",
     "status": "completed"
    },
    "tags": []
   },
   "outputs": [],
   "source": [
    "df_NOswitchSide_switch_ipsi.to_csv(data_dir_output+\"/\"+data_set+\"/\"+file+\"/\"+\"NOswitch_side_switch_ipsi\"+seq_str+\".csv\")"
   ]
  },
  {
   "cell_type": "code",
   "execution_count": 53,
   "metadata": {
    "execution": {
     "iopub.execute_input": "2020-06-08T02:05:08.057908Z",
     "iopub.status.busy": "2020-06-08T02:05:08.057359Z",
     "iopub.status.idle": "2020-06-08T02:05:08.061466Z",
     "shell.execute_reply": "2020-06-08T02:05:08.061997Z"
    },
    "papermill": {
     "duration": 0.038381,
     "end_time": "2020-06-08T02:05:08.062107",
     "exception": false,
     "start_time": "2020-06-08T02:05:08.023726",
     "status": "completed"
    },
    "tags": []
   },
   "outputs": [],
   "source": [
    "df_NOswitchSide_switch_total.to_csv(data_dir_output+\"/\"+data_set+\"/\"+file+\"/\"+\"NOswitch_side_switch_total\"+seq_str+\".csv\")"
   ]
  },
  {
   "cell_type": "code",
   "execution_count": 54,
   "metadata": {
    "execution": {
     "iopub.execute_input": "2020-06-08T02:05:08.135439Z",
     "iopub.status.busy": "2020-06-08T02:05:08.134834Z",
     "iopub.status.idle": "2020-06-08T02:05:08.149454Z",
     "shell.execute_reply": "2020-06-08T02:05:08.150053Z"
    },
    "papermill": {
     "duration": 0.059409,
     "end_time": "2020-06-08T02:05:08.150176",
     "exception": false,
     "start_time": "2020-06-08T02:05:08.090767",
     "status": "completed"
    },
    "tags": []
   },
   "outputs": [],
   "source": [
    "df_NOswitchSide_switch_ratio.to_csv(data_dir_output+\"/\"+data_set+\"/\"+file+\"/\"+\"NOswitch_side_switch_ratio\"+seq_str+\".csv\")"
   ]
  },
  {
   "cell_type": "code",
   "execution_count": 55,
   "metadata": {
    "execution": {
     "iopub.execute_input": "2020-06-08T02:05:08.215441Z",
     "iopub.status.busy": "2020-06-08T02:05:08.214946Z",
     "iopub.status.idle": "2020-06-08T02:05:08.230278Z",
     "shell.execute_reply": "2020-06-08T02:05:08.229703Z"
    },
    "papermill": {
     "duration": 0.049858,
     "end_time": "2020-06-08T02:05:08.230367",
     "exception": false,
     "start_time": "2020-06-08T02:05:08.180509",
     "status": "completed"
    },
    "tags": []
   },
   "outputs": [],
   "source": [
    "df_NOswitchSide_Stay_std.to_csv(data_dir_output+\"/\"+data_set+\"/\"+file+\"/\"+\"NOswitch_side_Stay_std\"+seq_str+\".csv\")"
   ]
  },
  {
   "cell_type": "code",
   "execution_count": 56,
   "metadata": {
    "execution": {
     "iopub.execute_input": "2020-06-08T02:05:08.296961Z",
     "iopub.status.busy": "2020-06-08T02:05:08.296202Z",
     "iopub.status.idle": "2020-06-08T02:05:08.301360Z",
     "shell.execute_reply": "2020-06-08T02:05:08.300558Z"
    },
    "papermill": {
     "duration": 0.037659,
     "end_time": "2020-06-08T02:05:08.301448",
     "exception": false,
     "start_time": "2020-06-08T02:05:08.263789",
     "status": "completed"
    },
    "tags": []
   },
   "outputs": [],
   "source": [
    "df_NOswitchSide_Stay_contra.to_csv(data_dir_output+\"/\"+data_set+\"/\"+file+\"/\"+\"NOswitch_side_Stay_contra\"+seq_str+\".csv\")"
   ]
  },
  {
   "cell_type": "code",
   "execution_count": 57,
   "metadata": {
    "execution": {
     "iopub.execute_input": "2020-06-08T02:05:08.372309Z",
     "iopub.status.busy": "2020-06-08T02:05:08.371752Z",
     "iopub.status.idle": "2020-06-08T02:05:08.376105Z",
     "shell.execute_reply": "2020-06-08T02:05:08.376518Z"
    },
    "papermill": {
     "duration": 0.036831,
     "end_time": "2020-06-08T02:05:08.376630",
     "exception": false,
     "start_time": "2020-06-08T02:05:08.339799",
     "status": "completed"
    },
    "tags": []
   },
   "outputs": [],
   "source": [
    "df_NOswitchSide_Stay_ipsi.to_csv(data_dir_output+\"/\"+data_set+\"/\"+file+\"/\"+\"NOswitch_side_Stay_ipsi\"+seq_str+\".csv\")"
   ]
  },
  {
   "cell_type": "code",
   "execution_count": 58,
   "metadata": {
    "execution": {
     "iopub.execute_input": "2020-06-08T02:05:08.453840Z",
     "iopub.status.busy": "2020-06-08T02:05:08.452570Z",
     "iopub.status.idle": "2020-06-08T02:05:08.458130Z",
     "shell.execute_reply": "2020-06-08T02:05:08.457525Z"
    },
    "papermill": {
     "duration": 0.041645,
     "end_time": "2020-06-08T02:05:08.458221",
     "exception": false,
     "start_time": "2020-06-08T02:05:08.416576",
     "status": "completed"
    },
    "tags": []
   },
   "outputs": [],
   "source": [
    "df_NOswitchSide_Stay_total.to_csv(data_dir_output+\"/\"+data_set+\"/\"+file+\"/\"+\"NOswitch_side_Stay_total\"+seq_str+\".csv\")"
   ]
  },
  {
   "cell_type": "code",
   "execution_count": 59,
   "metadata": {
    "execution": {
     "iopub.execute_input": "2020-06-08T02:05:08.553990Z",
     "iopub.status.busy": "2020-06-08T02:05:08.552990Z",
     "iopub.status.idle": "2020-06-08T02:05:08.557748Z",
     "shell.execute_reply": "2020-06-08T02:05:08.558451Z"
    },
    "papermill": {
     "duration": 0.056738,
     "end_time": "2020-06-08T02:05:08.558602",
     "exception": false,
     "start_time": "2020-06-08T02:05:08.501864",
     "status": "completed"
    },
    "tags": []
   },
   "outputs": [],
   "source": [
    "df_NOswitchSide_Stay_ratio.to_csv(data_dir_output+\"/\"+data_set+\"/\"+file+\"/\"+\"NOswitch_side_Stay_ratio\"+seq_str+\".csv\")"
   ]
  },
  {
   "cell_type": "code",
   "execution_count": null,
   "metadata": {
    "papermill": {
     "duration": 0.042412,
     "end_time": "2020-06-08T02:05:08.637664",
     "exception": false,
     "start_time": "2020-06-08T02:05:08.595252",
     "status": "completed"
    },
    "tags": []
   },
   "outputs": [],
   "source": []
  }
 ],
 "metadata": {
  "celltoolbar": "Tags",
  "kernelspec": {
   "display_name": "Python 3",
   "language": "python",
   "name": "python3"
  },
  "language_info": {
   "codemirror_mode": {
    "name": "ipython",
    "version": 3
   },
   "file_extension": ".py",
   "mimetype": "text/x-python",
   "name": "python",
   "nbconvert_exporter": "python",
   "pygments_lexer": "ipython3",
   "version": "3.7.3"
  },
  "papermill": {
   "duration": 8.876983,
   "end_time": "2020-06-08T02:05:08.783098",
   "environment_variables": {},
   "exception": null,
   "input_path": "data_set_direction_consumption_licks.ipynb",
   "output_path": "TestOutPut.ipynb",
   "parameters": {
    "HowManyBack": 1,
    "Mouse_Date_FileName_list": "D2.stim_trials<8>25",
    "data_dir_input": "/Users/gilmandelbaum/Dropbox (HMS)/0.STRpaper/4.Optogenetics/opto_consumption_final/0.after.QC.D2/D2.OptoConsumpRaw",
    "data_dir_output": "/Users/gilmandelbaum/Dropbox (HMS)/0.STRpaper/4.Optogenetics/opto_consumption_final/0.after.QC.D2/D2.OptoConsumpOutput",
    "seq_str": "0a1ae2a4abc5a6a"
   },
   "start_time": "2020-06-08T02:04:59.906115",
   "version": "2.1.1"
  }
 },
 "nbformat": 4,
 "nbformat_minor": 2
}