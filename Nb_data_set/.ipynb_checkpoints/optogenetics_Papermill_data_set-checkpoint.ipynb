{
 "cells": [
  {
   "cell_type": "code",
   "execution_count": 1,
   "metadata": {},
   "outputs": [],
   "source": [
    "import papermill as pm\n",
    "import os "
   ]
  },
  {
   "cell_type": "code",
   "execution_count": 2,
   "metadata": {},
   "outputs": [],
   "source": [
    "#parameters:\n",
    "#data_dir_input = \"/Users/gilmandelbaum/Desktop/opto_final/OptoConsump\"\n",
    "#data_dir_output = \"/Users/gilmandelbaum/Desktop/opto_final/OptoConsump_output\"\n",
    "HowManyBack=1 \n",
    "\n",
    "\n",
    "data_dir_input = \"/Users/gilmandelbaum/Desktop/opto_consumption/0.after.QC.D1/D1.OptoConsump\"\n",
    "data_dir_output = \"/Users/gilmandelbaum/Desktop/opto_consumption/0.after.QC.D1/D1.OptoConsump_output\"\n",
    "\n",
    "#data_dir_input = \"/Users/gilmandelbaum/Desktop/opto_consumption/0.after.QC.D2/D2.OptoConsump\"\n",
    "#data_dir_output = \"/Users/gilmandelbaum/Desktop/opto_consumption/0.after.QC.D2/D2.OptoConsump_output\"\n"
   ]
  },
  {
   "cell_type": "code",
   "execution_count": 3,
   "metadata": {},
   "outputs": [],
   "source": [
    "seq_str_master = \"0a1ae2a4abc5a\"\n",
    "\n",
    "seq_str_list = [seq_str_master+\"6b\",\n",
    "                seq_str_master+\"6b\",\n",
    "                seq_str_master+\"6b\",\n",
    "                seq_str_master+\"6b\",\n",
    "                seq_str_master+\"6c\",\n",
    "                seq_str_master+\"6a\",\n",
    "                seq_str_master+\"6a\",\n",
    "                seq_str_master+\"6a\"]\n",
    "\n",
    "\n",
    "notebook_list = [\"data_set_how_many_stim_success_rate\",\n",
    "                 \"data_set_how_many_stim_vs_3rdTrial\",\n",
    "                 \"data_set_how_many_TO_NON_stim_trials\",\n",
    "                 \"data_set_how_many_TO_stim_trials\",\n",
    "                 \"data_set_lick_direction\",\n",
    "                 \"data_set_time_consumption_licks\",\n",
    "                 \"data_set_time_respose_lick\",\n",
    "                 \"data_set_direction_consumption_licks\"]\n",
    " \n",
    "Mouse_Date_FileName_list = \"D1.stim_trials<8>25\""
   ]
  },
  {
   "cell_type": "code",
   "execution_count": 4,
   "metadata": {
    "scrolled": true
   },
   "outputs": [
    {
     "data": {
      "text/plain": [
       "['0a1ae2a4abc5a6b',\n",
       " '0a1ae2a4abc5a6b',\n",
       " '0a1ae2a4abc5a6b',\n",
       " '0a1ae2a4abc5a6b',\n",
       " '0a1ae2a4abc5a6c',\n",
       " '0a1ae2a4abc5a6a',\n",
       " '0a1ae2a4abc5a6a']"
      ]
     },
     "execution_count": 4,
     "metadata": {},
     "output_type": "execute_result"
    }
   ],
   "source": [
    "seq_str_list"
   ]
  },
  {
   "cell_type": "code",
   "execution_count": 5,
   "metadata": {},
   "outputs": [],
   "source": [
    "leng = len (seq_str_list)"
   ]
  },
  {
   "cell_type": "code",
   "execution_count": 6,
   "metadata": {},
   "outputs": [
    {
     "name": "stdout",
     "output_type": "stream",
     "text": [
      "executing: data_set_how_many_stim_success_rate\n",
      "data_set_0a1ae2a4abc5a/data_set_how_many_stim_success_rateThis session already exists - no need to re-run:)\n",
      "executing: data_set_how_many_stim_vs_3rdTrial\n",
      "data_set_0a1ae2a4abc5a/data_set_how_many_stim_vs_3rdTrialThis session already exists - no need to re-run:)\n",
      "executing: data_set_how_many_TO_NON_stim_trials\n",
      "data_set_0a1ae2a4abc5a/data_set_how_many_TO_NON_stim_trialsThis session already exists - no need to re-run:)\n",
      "executing: data_set_how_many_TO_stim_trials\n",
      "data_set_0a1ae2a4abc5a/data_set_how_many_TO_stim_trialsThis session already exists - no need to re-run:)\n",
      "executing: data_set_lick_direction\n",
      "data_set_0a1ae2a4abc5a/data_set_lick_directionThis session already exists - no need to re-run:)\n",
      "executing: data_set_time_consumption_licks\n",
      "data_set_0a1ae2a4abc5a/data_set_time_consumption_licksThis session already exists - no need to re-run:)\n",
      "executing: data_set_time_respose_lick\n",
      "data_set_0a1ae2a4abc5a/data_set_time_respose_lickThis session already exists - no need to re-run:)\n"
     ]
    }
   ],
   "source": [
    "for i in range (leng):\n",
    "    \n",
    "    seq_str= seq_str_list[i]\n",
    "    notebook = notebook_list[i]\n",
    "    print (\"executing: \"+notebook)\n",
    "    \n",
    "    p_dict = dict(data_dir_input=data_dir_input, \n",
    "                  data_dir_output=data_dir_output, \n",
    "                  HowManyBack = HowManyBack, \n",
    "                  seq_str = seq_str,\n",
    "                  Mouse_Date_FileName_list = Mouse_Date_FileName_list)\n",
    "                    \n",
    "    if os.path.isdir(data_dir_output+\"/\"+\"data_set_\"+seq_str_master+\"/\"+notebook):\n",
    "        print(\"data_set_\"+seq_str_master+\"/\"+notebook+ \"This session already exists - no need to re-run:)\")\n",
    "        pass \n",
    "    else: \n",
    "        pm.execute_notebook(notebook+\".ipynb\", 'TestOutPut.ipynb',parameters= p_dict)"
   ]
  },
  {
   "cell_type": "code",
   "execution_count": null,
   "metadata": {},
   "outputs": [],
   "source": []
  },
  {
   "cell_type": "code",
   "execution_count": null,
   "metadata": {},
   "outputs": [],
   "source": [
    "\n",
    "                        "
   ]
  }
 ],
 "metadata": {
  "kernelspec": {
   "display_name": "Python 3",
   "language": "python",
   "name": "python3"
  },
  "language_info": {
   "codemirror_mode": {
    "name": "ipython",
    "version": 3
   },
   "file_extension": ".py",
   "mimetype": "text/x-python",
   "name": "python",
   "nbconvert_exporter": "python",
   "pygments_lexer": "ipython3",
   "version": "3.7.3"
  }
 },
 "nbformat": 4,
 "nbformat_minor": 2
}
