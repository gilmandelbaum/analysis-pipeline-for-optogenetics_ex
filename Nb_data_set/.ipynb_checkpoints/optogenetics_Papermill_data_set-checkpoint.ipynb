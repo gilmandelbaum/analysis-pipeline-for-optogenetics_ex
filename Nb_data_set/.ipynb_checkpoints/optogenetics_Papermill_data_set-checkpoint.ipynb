{
 "cells": [
  {
   "cell_type": "code",
   "execution_count": 1,
   "metadata": {},
   "outputs": [],
   "source": [
    "import papermill as pm\n",
    "import os \n",
    "import sys"
   ]
  },
  {
   "cell_type": "code",
   "execution_count": 2,
   "metadata": {},
   "outputs": [
    {
     "data": {
      "text/plain": [
       "'/anaconda3/envs/optogenetics_env/bin/python'"
      ]
     },
     "execution_count": 2,
     "metadata": {},
     "output_type": "execute_result"
    }
   ],
   "source": [
    "sys.executable"
   ]
  },
  {
   "cell_type": "code",
   "execution_count": 3,
   "metadata": {},
   "outputs": [],
   "source": [
    "#parameters:\n",
    "#data_dir_input = \"/Users/gilmandelbaum/Desktop/opto_final/OptoConsump\"\n",
    "#data_dir_output = \"/Users/gilmandelbaum/Desktop/opto_final/OptoConsump_output\"\n",
    "HowManyBack=1 \n",
    "\n",
    "\n",
    "#data_dir_input = \"/Users/gilmandelbaum/Desktop/opto_consumption/0.after.QC.D1/D1.OptoConsump\"\n",
    "#data_dir_output = \"/Users/gilmandelbaum/Desktop/opto_consumption/0.after.QC.D1/D1.OptoConsump_output\"\n",
    "\n",
    "#data_dir_input = \"/Users/gilmandelbaum/Desktop/opto_consumption/0.after.QC.D2/D2.OptoConsump\"\n",
    "#data_dir_output = \"/Users/gilmandelbaum/Desktop/opto_consumption/0.after.QC.D2/D2.OptoConsump_output\"\n",
    "\n",
    "#data to be analyzed: \n",
    "data_dir_input = \"/Users/gilmandelbaum/Dropbox (HMS)/0.STRpaper/4.Optogenetics/opto_consumption_final/0.FullDataSet/OptoConsump_raw\"\n",
    "#where to save the analyzed data: \n",
    "data_dir_output = \"/Users/gilmandelbaum/Dropbox (HMS)/0.STRpaper/4.Optogenetics/opto_consumption_final/0.FullDataSet/OptoConsump_output\"\n",
    "\n"
   ]
  },
  {
   "cell_type": "code",
   "execution_count": 4,
   "metadata": {},
   "outputs": [],
   "source": [
    "# seq_str_master = \"0a1ad2a4abc5a\"\n",
    "\n",
    "# seq_str_list = [seq_str_master+\"6b\",\n",
    "#                 seq_str_master+\"6b\",\n",
    "#                 seq_str_master+\"6b\",\n",
    "#                 seq_str_master+\"6b\",\n",
    "#                 seq_str_master+\"6c\",\n",
    "#                 seq_str_master+\"6a\",\n",
    "#                 seq_str_master+\"6a\",\n",
    "#                 seq_str_master+\"6a\"]\n",
    "\n",
    "\n",
    "# notebook_list = [\"data_set_how_many_stim_success_rate\",\n",
    "#                  \"data_set_how_many_stim_vs_3rdTrial\",\n",
    "#                  \"data_set_how_many_TO_NON_stim_trials\",\n",
    "#                  \"data_set_how_many_TO_stim_trials\",\n",
    "#                  \"data_set_lick_direction\",\n",
    "#                  \"data_set_time_consumption_licks\",\n",
    "#                  \"data_set_time_respose_lick\",\n",
    "#                  \"data_set_direction_consumption_licks\"]\n",
    " \n",
    "# Mouse_Date_FileName_list = \"MasterOptoConsumption_short\"\n"
   ]
  },
  {
   "cell_type": "code",
   "execution_count": 5,
   "metadata": {},
   "outputs": [
    {
     "ename": "CalledProcessError",
     "evalue": "Command 'b'\\nseq_str_master = \"0a1ad2a4abc5a\"\\n\\nseq_str_list = [seq_str_master+\"6b\"]\\n\\n\\nnotebook_list = [\"data_set_how_many_stim_success_rate\"]\\nMouse_Date_FileName_list = \"MasterOptoConsumption\"\\n'' returned non-zero exit status 1.",
     "output_type": "error",
     "traceback": [
      "\u001b[0;31m---------------------------------------------------------------------------\u001b[0m",
      "\u001b[0;31mCalledProcessError\u001b[0m                        Traceback (most recent call last)",
      "\u001b[0;32m<ipython-input-5-67ec2c918c70>\u001b[0m in \u001b[0;36m<module>\u001b[0;34m\u001b[0m\n\u001b[0;32m----> 1\u001b[0;31m \u001b[0mget_ipython\u001b[0m\u001b[0;34m(\u001b[0m\u001b[0;34m)\u001b[0m\u001b[0;34m.\u001b[0m\u001b[0mrun_cell_magic\u001b[0m\u001b[0;34m(\u001b[0m\u001b[0;34m'script'\u001b[0m\u001b[0;34m,\u001b[0m \u001b[0;34m'false'\u001b[0m\u001b[0;34m,\u001b[0m \u001b[0;34m'\\nseq_str_master = \"0a1ad2a4abc5a\"\\n\\nseq_str_list = [seq_str_master+\"6b\"]\\n\\n\\nnotebook_list = [\"data_set_how_many_stim_success_rate\"]\\nMouse_Date_FileName_list = \"MasterOptoConsumption\"\\n'\u001b[0m\u001b[0;34m)\u001b[0m\u001b[0;34m\u001b[0m\u001b[0;34m\u001b[0m\u001b[0m\n\u001b[0m",
      "\u001b[0;32m/anaconda3/envs/optogenetics_env/lib/python3.7/site-packages/IPython/core/interactiveshell.py\u001b[0m in \u001b[0;36mrun_cell_magic\u001b[0;34m(self, magic_name, line, cell)\u001b[0m\n\u001b[1;32m   2360\u001b[0m             \u001b[0;32mwith\u001b[0m \u001b[0mself\u001b[0m\u001b[0;34m.\u001b[0m\u001b[0mbuiltin_trap\u001b[0m\u001b[0;34m:\u001b[0m\u001b[0;34m\u001b[0m\u001b[0;34m\u001b[0m\u001b[0m\n\u001b[1;32m   2361\u001b[0m                 \u001b[0margs\u001b[0m \u001b[0;34m=\u001b[0m \u001b[0;34m(\u001b[0m\u001b[0mmagic_arg_s\u001b[0m\u001b[0;34m,\u001b[0m \u001b[0mcell\u001b[0m\u001b[0;34m)\u001b[0m\u001b[0;34m\u001b[0m\u001b[0;34m\u001b[0m\u001b[0m\n\u001b[0;32m-> 2362\u001b[0;31m                 \u001b[0mresult\u001b[0m \u001b[0;34m=\u001b[0m \u001b[0mfn\u001b[0m\u001b[0;34m(\u001b[0m\u001b[0;34m*\u001b[0m\u001b[0margs\u001b[0m\u001b[0;34m,\u001b[0m \u001b[0;34m**\u001b[0m\u001b[0mkwargs\u001b[0m\u001b[0;34m)\u001b[0m\u001b[0;34m\u001b[0m\u001b[0;34m\u001b[0m\u001b[0m\n\u001b[0m\u001b[1;32m   2363\u001b[0m             \u001b[0;32mreturn\u001b[0m \u001b[0mresult\u001b[0m\u001b[0;34m\u001b[0m\u001b[0;34m\u001b[0m\u001b[0m\n\u001b[1;32m   2364\u001b[0m \u001b[0;34m\u001b[0m\u001b[0m\n",
      "\u001b[0;32m<decorator-gen-110>\u001b[0m in \u001b[0;36mshebang\u001b[0;34m(self, line, cell)\u001b[0m\n",
      "\u001b[0;32m/anaconda3/envs/optogenetics_env/lib/python3.7/site-packages/IPython/core/magic.py\u001b[0m in \u001b[0;36m<lambda>\u001b[0;34m(f, *a, **k)\u001b[0m\n\u001b[1;32m    185\u001b[0m     \u001b[0;31m# but it's overkill for just that one bit of state.\u001b[0m\u001b[0;34m\u001b[0m\u001b[0;34m\u001b[0m\u001b[0;34m\u001b[0m\u001b[0m\n\u001b[1;32m    186\u001b[0m     \u001b[0;32mdef\u001b[0m \u001b[0mmagic_deco\u001b[0m\u001b[0;34m(\u001b[0m\u001b[0marg\u001b[0m\u001b[0;34m)\u001b[0m\u001b[0;34m:\u001b[0m\u001b[0;34m\u001b[0m\u001b[0;34m\u001b[0m\u001b[0m\n\u001b[0;32m--> 187\u001b[0;31m         \u001b[0mcall\u001b[0m \u001b[0;34m=\u001b[0m \u001b[0;32mlambda\u001b[0m \u001b[0mf\u001b[0m\u001b[0;34m,\u001b[0m \u001b[0;34m*\u001b[0m\u001b[0ma\u001b[0m\u001b[0;34m,\u001b[0m \u001b[0;34m**\u001b[0m\u001b[0mk\u001b[0m\u001b[0;34m:\u001b[0m \u001b[0mf\u001b[0m\u001b[0;34m(\u001b[0m\u001b[0;34m*\u001b[0m\u001b[0ma\u001b[0m\u001b[0;34m,\u001b[0m \u001b[0;34m**\u001b[0m\u001b[0mk\u001b[0m\u001b[0;34m)\u001b[0m\u001b[0;34m\u001b[0m\u001b[0;34m\u001b[0m\u001b[0m\n\u001b[0m\u001b[1;32m    188\u001b[0m \u001b[0;34m\u001b[0m\u001b[0m\n\u001b[1;32m    189\u001b[0m         \u001b[0;32mif\u001b[0m \u001b[0mcallable\u001b[0m\u001b[0;34m(\u001b[0m\u001b[0marg\u001b[0m\u001b[0;34m)\u001b[0m\u001b[0;34m:\u001b[0m\u001b[0;34m\u001b[0m\u001b[0;34m\u001b[0m\u001b[0m\n",
      "\u001b[0;32m/anaconda3/envs/optogenetics_env/lib/python3.7/site-packages/IPython/core/magics/script.py\u001b[0m in \u001b[0;36mshebang\u001b[0;34m(self, line, cell)\u001b[0m\n\u001b[1;32m    243\u001b[0m             \u001b[0msys\u001b[0m\u001b[0;34m.\u001b[0m\u001b[0mstderr\u001b[0m\u001b[0;34m.\u001b[0m\u001b[0mflush\u001b[0m\u001b[0;34m(\u001b[0m\u001b[0;34m)\u001b[0m\u001b[0;34m\u001b[0m\u001b[0;34m\u001b[0m\u001b[0m\n\u001b[1;32m    244\u001b[0m         \u001b[0;32mif\u001b[0m \u001b[0margs\u001b[0m\u001b[0;34m.\u001b[0m\u001b[0mraise_error\u001b[0m \u001b[0;32mand\u001b[0m \u001b[0mp\u001b[0m\u001b[0;34m.\u001b[0m\u001b[0mreturncode\u001b[0m\u001b[0;34m!=\u001b[0m\u001b[0;36m0\u001b[0m\u001b[0;34m:\u001b[0m\u001b[0;34m\u001b[0m\u001b[0;34m\u001b[0m\u001b[0m\n\u001b[0;32m--> 245\u001b[0;31m             \u001b[0;32mraise\u001b[0m \u001b[0mCalledProcessError\u001b[0m\u001b[0;34m(\u001b[0m\u001b[0mp\u001b[0m\u001b[0;34m.\u001b[0m\u001b[0mreturncode\u001b[0m\u001b[0;34m,\u001b[0m \u001b[0mcell\u001b[0m\u001b[0;34m,\u001b[0m \u001b[0moutput\u001b[0m\u001b[0;34m=\u001b[0m\u001b[0mout\u001b[0m\u001b[0;34m,\u001b[0m \u001b[0mstderr\u001b[0m\u001b[0;34m=\u001b[0m\u001b[0merr\u001b[0m\u001b[0;34m)\u001b[0m\u001b[0;34m\u001b[0m\u001b[0;34m\u001b[0m\u001b[0m\n\u001b[0m\u001b[1;32m    246\u001b[0m \u001b[0;34m\u001b[0m\u001b[0m\n\u001b[1;32m    247\u001b[0m     \u001b[0;32mdef\u001b[0m \u001b[0m_run_script\u001b[0m\u001b[0;34m(\u001b[0m\u001b[0mself\u001b[0m\u001b[0;34m,\u001b[0m \u001b[0mp\u001b[0m\u001b[0;34m,\u001b[0m \u001b[0mcell\u001b[0m\u001b[0;34m,\u001b[0m \u001b[0mto_close\u001b[0m\u001b[0;34m)\u001b[0m\u001b[0;34m:\u001b[0m\u001b[0;34m\u001b[0m\u001b[0;34m\u001b[0m\u001b[0m\n",
      "\u001b[0;31mCalledProcessError\u001b[0m: Command 'b'\\nseq_str_master = \"0a1ad2a4abc5a\"\\n\\nseq_str_list = [seq_str_master+\"6b\"]\\n\\n\\nnotebook_list = [\"data_set_how_many_stim_success_rate\"]\\nMouse_Date_FileName_list = \"MasterOptoConsumption\"\\n'' returned non-zero exit status 1."
     ]
    }
   ],
   "source": [
    "%%script false\n",
    "\n",
    "seq_str_master = \"0a1ad2a4abc5a\"\n",
    "\n",
    "seq_str_list = [seq_str_master+\"6b\",\n",
    "                seq_str_master+\"6b\"]\n",
    "\n",
    "\n",
    "notebook_list = [\"data_set_how_many_stim_success_rate\",\n",
    "                 \"data_set_how_many_stim_vs_3rdTrial\"]\n",
    "Mouse_Date_FileName_list = \"MasterOptoConsumption\"\n"
   ]
  },
  {
   "cell_type": "code",
   "execution_count": null,
   "metadata": {
    "scrolled": true
   },
   "outputs": [],
   "source": [
    "seq_str_list"
   ]
  },
  {
   "cell_type": "code",
   "execution_count": null,
   "metadata": {},
   "outputs": [],
   "source": [
    "leng = len (seq_str_list)"
   ]
  },
  {
   "cell_type": "code",
   "execution_count": null,
   "metadata": {},
   "outputs": [],
   "source": [
    "for i in range (leng):\n",
    "    \n",
    "    seq_str= seq_str_list[i]\n",
    "    notebook = notebook_list[i]\n",
    "    print (\"executing: \"+notebook)\n",
    "    \n",
    "    p_dict = dict(data_dir_input=data_dir_input, \n",
    "                  data_dir_output=data_dir_output, \n",
    "                  HowManyBack = HowManyBack, \n",
    "                  seq_str = seq_str,\n",
    "                  Mouse_Date_FileName_list = Mouse_Date_FileName_list)\n",
    "                    \n",
    "    if os.path.isdir(data_dir_output+\"/\"+\"data_set_\"+seq_str_master+\"/\"+notebook):\n",
    "        print(\"data_set_\"+seq_str_master+\"/\"+notebook+ \"This session already exists - no need to re-run:)\")\n",
    "        pass \n",
    "    else: \n",
    "        pm.execute_notebook(notebook+\".ipynb\", 'TestOutPut.ipynb',kernel_name = \"optogenetics_env\",nest_asyncio=True,parameters= p_dict)"
   ]
  },
  {
   "cell_type": "code",
   "execution_count": null,
   "metadata": {},
   "outputs": [],
   "source": []
  },
  {
   "cell_type": "code",
   "execution_count": null,
   "metadata": {},
   "outputs": [],
   "source": [
    "\n",
    "\n",
    "\n",
    "\n",
    "\n",
    "                        "
   ]
  }
 ],
 "metadata": {
  "kernelspec": {
   "display_name": "optogenetics_env",
   "language": "python",
   "name": "optogenetics_env"
  },
  "language_info": {
   "codemirror_mode": {
    "name": "ipython",
    "version": 3
   },
   "file_extension": ".py",
   "mimetype": "text/x-python",
   "name": "python",
   "nbconvert_exporter": "python",
   "pygments_lexer": "ipython3",
   "version": "3.7.3"
  }
 },
 "nbformat": 4,
 "nbformat_minor": 2
}
