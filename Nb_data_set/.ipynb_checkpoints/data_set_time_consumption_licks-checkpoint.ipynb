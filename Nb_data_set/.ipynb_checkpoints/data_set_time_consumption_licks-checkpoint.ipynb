{
 "cells": [
  {
   "cell_type": "code",
   "execution_count": 1,
   "metadata": {},
   "outputs": [],
   "source": [
    "import pandas as pd \n",
    "import numpy  as np \n",
    "from pathlib import Path\n",
    "import pickle\n",
    "import os"
   ]
  },
  {
   "cell_type": "code",
   "execution_count": 2,
   "metadata": {},
   "outputs": [],
   "source": [
    "import data_set_analysis_helper_functions as ahf"
   ]
  },
  {
   "cell_type": "code",
   "execution_count": 3,
   "metadata": {
    "tags": [
     "parameters"
    ]
   },
   "outputs": [],
   "source": [
    "data_dir_output = '/Users/gilmandelbaum/Desktop/optoOutPut'\n",
    "data_dir_input = '/Users/gilmandelbaum/Desktop/opto'\n",
    "HowManyBack=1\n",
    "\n",
    "Mouse_Date_FileName_list = \"MasterOptoConsumption\"\n",
    "\n",
    "seq_str= \"0a1ad2a4abc5a6a\""
   ]
  },
  {
   "cell_type": "code",
   "execution_count": 4,
   "metadata": {},
   "outputs": [],
   "source": [
    "folder_name = \"timeOfLicks\""
   ]
  },
  {
   "cell_type": "code",
   "execution_count": 5,
   "metadata": {
    "scrolled": true
   },
   "outputs": [],
   "source": [
    "Mouse_Date_FileName = pd.read_csv(data_dir_input+\"/\"+Mouse_Date_FileName_list+\".csv\")"
   ]
  },
  {
   "cell_type": "code",
   "execution_count": 6,
   "metadata": {},
   "outputs": [],
   "source": [
    "#Mouse_Date_FileName = Mouse_Date_FileName[Mouse_Date_FileName[\"Mouse\"]==\"T183\"].reset_index()"
   ]
  },
  {
   "cell_type": "code",
   "execution_count": 7,
   "metadata": {},
   "outputs": [],
   "source": [
    "def clean (df_s):\n",
    "    data_list = []\n",
    "    for df in df_s:\n",
    "        data_list.append(df.drop(\"Unnamed: 0\",axis=1))\n",
    "    return (data_list)"
   ]
  },
  {
   "cell_type": "code",
   "execution_count": 8,
   "metadata": {},
   "outputs": [],
   "source": [
    "Reward_NoReward_stay_right = ahf.loadSession_csv (Mouse_Date_FileName,data_dir_output,\n",
    "                                     HowManyBack,folder_name,seq_str,\"Reward_NoReward_tag_stay_right\")"
   ]
  },
  {
   "cell_type": "code",
   "execution_count": null,
   "metadata": {
    "scrolled": true
   },
   "outputs": [],
   "source": [
    "Reward_NoReward_switch_right = ahf.loadSession_csv (Mouse_Date_FileName,data_dir_output,\n",
    "                                       HowManyBack,folder_name,seq_str,\"Reward_NoReward_tag_switch_right\")"
   ]
  },
  {
   "cell_type": "code",
   "execution_count": null,
   "metadata": {},
   "outputs": [],
   "source": [
    "Reward_NoReward_stay_left = ahf.loadSession_csv (Mouse_Date_FileName,data_dir_output,\n",
    "                                     HowManyBack,folder_name,seq_str,\"Reward_NoReward_tag_stay_left\")"
   ]
  },
  {
   "cell_type": "code",
   "execution_count": null,
   "metadata": {},
   "outputs": [],
   "source": [
    "Reward_NoReward_switch_left = ahf.loadSession_csv (Mouse_Date_FileName,data_dir_output,\n",
    "                                       HowManyBack,folder_name,seq_str,\"Reward_NoReward_tag_switch_left\")"
   ]
  },
  {
   "cell_type": "code",
   "execution_count": null,
   "metadata": {},
   "outputs": [],
   "source": [
    "df_list = ahf.extract_data_set_consumption_times (Mouse_Date_FileName,\n",
    "                                             Reward_NoReward_stay_right,\n",
    "                                             Reward_NoReward_switch_right,\n",
    "                                             Reward_NoReward_stay_left,\n",
    "                                             Reward_NoReward_switch_left)"
   ]
  },
  {
   "cell_type": "code",
   "execution_count": null,
   "metadata": {},
   "outputs": [],
   "source": [
    "df_switchSide_switch=ahf.generating_data_set_consumption_times(Mouse_Date_FileName,df_list,\"switchSide_switch\")"
   ]
  },
  {
   "cell_type": "code",
   "execution_count": null,
   "metadata": {},
   "outputs": [],
   "source": [
    "df_switchSide_Stay=ahf.generating_data_set_consumption_times(Mouse_Date_FileName,df_list,\"switchSide_Stay\")"
   ]
  },
  {
   "cell_type": "code",
   "execution_count": null,
   "metadata": {},
   "outputs": [],
   "source": [
    "df_NOswitchSide_switch=ahf.generating_data_set_consumption_times(Mouse_Date_FileName,df_list,\"NOswitchSide_switch\")"
   ]
  },
  {
   "cell_type": "code",
   "execution_count": null,
   "metadata": {},
   "outputs": [],
   "source": [
    "df_NONOswitchSide_Stay=ahf.generating_data_set_consumption_times(Mouse_Date_FileName,df_list,\"NOswitchSide_Stay\")"
   ]
  },
  {
   "cell_type": "code",
   "execution_count": null,
   "metadata": {},
   "outputs": [],
   "source": [
    "data_set = \"data_set\"+\"_\"+seq_str[:seq_str.index('6')]\n",
    "cache_dir_plt = os.path.join(data_dir_output, data_set)\n",
    "if not os.path.exists(cache_dir_plt):\n",
    "    os.makedirs(cache_dir_plt)"
   ]
  },
  {
   "cell_type": "code",
   "execution_count": null,
   "metadata": {},
   "outputs": [],
   "source": [
    "file = \"data_set_time_consumption_licks\"\n",
    "cache_dir_plt = os.path.join(data_dir_output,data_set, file)\n",
    "if not os.path.exists(cache_dir_plt):\n",
    "    os.makedirs(cache_dir_plt)"
   ]
  },
  {
   "cell_type": "code",
   "execution_count": null,
   "metadata": {},
   "outputs": [],
   "source": [
    "df_switchSide_switch.to_csv(data_dir_output+\"/\"+data_set+\"/\"+file+\"/\"+\"switch_side_switch.csv\"+seq_str+\".csv\")\n"
   ]
  },
  {
   "cell_type": "code",
   "execution_count": null,
   "metadata": {},
   "outputs": [],
   "source": [
    "df_switchSide_Stay.to_csv(data_dir_output+\"/\"+data_set+\"/\"+file+\"/\"+\"switch_side_stay\"+seq_str+\".csv\")"
   ]
  },
  {
   "cell_type": "code",
   "execution_count": null,
   "metadata": {},
   "outputs": [],
   "source": [
    "df_NOswitchSide_switch.to_csv(data_dir_output+\"/\"+data_set+\"/\"+file+\"/\"+\"NOswitch_side_switch\"+seq_str+\".csv\")"
   ]
  },
  {
   "cell_type": "code",
   "execution_count": null,
   "metadata": {},
   "outputs": [],
   "source": [
    "df_NONOswitchSide_Stay.to_csv(data_dir_output+\"/\"+data_set+\"/\"+file+\"/\"+\"NOswitch_side_Stay\"+seq_str+\".csv\")"
   ]
  }
 ],
 "metadata": {
  "celltoolbar": "Tags",
  "kernelspec": {
   "display_name": "Python 3",
   "language": "python",
   "name": "python3"
  },
  "language_info": {
   "codemirror_mode": {
    "name": "ipython",
    "version": 3
   },
   "file_extension": ".py",
   "mimetype": "text/x-python",
   "name": "python",
   "nbconvert_exporter": "python",
   "pygments_lexer": "ipython3",
   "version": "3.7.3"
  }
 },
 "nbformat": 4,
 "nbformat_minor": 2
}
