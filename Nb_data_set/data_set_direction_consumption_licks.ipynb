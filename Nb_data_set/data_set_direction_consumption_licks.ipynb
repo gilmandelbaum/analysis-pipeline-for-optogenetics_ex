{
 "cells": [
  {
   "cell_type": "code",
   "execution_count": 1,
   "metadata": {},
   "outputs": [],
   "source": [
    "import pandas as pd \n",
    "import numpy  as np \n",
    "from pathlib import Path\n",
    "import pickle\n",
    "import os"
   ]
  },
  {
   "cell_type": "code",
   "execution_count": 2,
   "metadata": {},
   "outputs": [],
   "source": [
    "import data_set_analysis_helper_functions as ahf"
   ]
  },
  {
   "cell_type": "code",
   "execution_count": 3,
   "metadata": {
    "tags": [
     "parameters"
    ]
   },
   "outputs": [],
   "source": [
    "#data to be analyzed: \n",
    "data_dir_input = \"/Users/gilmandelbaum/Desktop/opto_final/OptoConsump\"\n",
    "#where to save the analyzed data: \n",
    "data_dir_output = \"/Users/gilmandelbaum/Desktop/opto_final/OptoConsump_output_8\"\n",
    "\n",
    "\n",
    "HowManyBack=1\n",
    "\n",
    "Mouse_Date_FileName_list = \"MasterOptoConsumption\"\n",
    "\n",
    "seq_str= \"0a1ad2a4abc5a6a\""
   ]
  },
  {
   "cell_type": "code",
   "execution_count": 4,
   "metadata": {},
   "outputs": [],
   "source": [
    "folder_name = \"timeOfLicks\""
   ]
  },
  {
   "cell_type": "code",
   "execution_count": 5,
   "metadata": {
    "scrolled": true
   },
   "outputs": [],
   "source": [
    "Mouse_Date_FileName = pd.read_csv(data_dir_input+\"/\"+Mouse_Date_FileName_list+\".csv\")"
   ]
  },
  {
   "cell_type": "code",
   "execution_count": 6,
   "metadata": {},
   "outputs": [],
   "source": [
    "Reward_NoReward_stay_right = ahf.loadSession_csv (Mouse_Date_FileName,data_dir_output,\n",
    "                                                  HowManyBack,folder_name,seq_str,\"Reward_NoReward_tag_stay_right\")"
   ]
  },
  {
   "cell_type": "code",
   "execution_count": 7,
   "metadata": {
    "scrolled": true
   },
   "outputs": [],
   "source": [
    "Reward_NoReward_switch_right = ahf.loadSession_csv (Mouse_Date_FileName,data_dir_output,\n",
    "                                       HowManyBack,folder_name,seq_str,\"Reward_NoReward_tag_switch_right\")"
   ]
  },
  {
   "cell_type": "code",
   "execution_count": 8,
   "metadata": {},
   "outputs": [],
   "source": [
    "Reward_NoReward_stay_left = ahf.loadSession_csv (Mouse_Date_FileName,data_dir_output,\n",
    "                                     HowManyBack,folder_name,seq_str,\"Reward_NoReward_tag_stay_left\")"
   ]
  },
  {
   "cell_type": "code",
   "execution_count": 9,
   "metadata": {},
   "outputs": [],
   "source": [
    "Reward_NoReward_switch_left = ahf.loadSession_csv (Mouse_Date_FileName,data_dir_output,\n",
    "                                                   HowManyBack,folder_name,seq_str,\"Reward_NoReward_tag_switch_left\")"
   ]
  },
  {
   "cell_type": "code",
   "execution_count": 10,
   "metadata": {},
   "outputs": [],
   "source": [
    "df_list = ahf.extract_data_set_consumption_times_std (Mouse_Date_FileName,\n",
    "                                                      Reward_NoReward_stay_right,\n",
    "                                                      Reward_NoReward_switch_right,\n",
    "                                                      Reward_NoReward_stay_left,\n",
    "                                                      Reward_NoReward_switch_left)"
   ]
  },
  {
   "cell_type": "code",
   "execution_count": 11,
   "metadata": {},
   "outputs": [],
   "source": [
    "df_switchSide_switch_std=ahf.generating_data_set_consumption_times_2(Mouse_Date_FileName,df_list,\n",
    "                                                                     \"switchSide_switch_std\",'_std')"
   ]
  },
  {
   "cell_type": "code",
   "execution_count": 12,
   "metadata": {},
   "outputs": [],
   "source": [
    "df_switchSide_Stay_std=ahf.generating_data_set_consumption_times_2(Mouse_Date_FileName,df_list,\n",
    "                                                               \"switchSide_Stay_std\",'_std')"
   ]
  },
  {
   "cell_type": "code",
   "execution_count": 13,
   "metadata": {},
   "outputs": [],
   "source": [
    "df_NOswitchSide_switch_std=ahf.generating_data_set_consumption_times_2(Mouse_Date_FileName,df_list,\n",
    "                                                                 \"NOswitchSide_switch_std\",'_std')"
   ]
  },
  {
   "cell_type": "code",
   "execution_count": 14,
   "metadata": {},
   "outputs": [],
   "source": [
    "df_NOswitchSide_Stay_std=ahf.generating_data_set_consumption_times_2(Mouse_Date_FileName,df_list,\n",
    "                                                               \"NOswitchSide_Stay_std\",'_std')"
   ]
  },
  {
   "cell_type": "code",
   "execution_count": 16,
   "metadata": {},
   "outputs": [],
   "source": [
    "seq_str_d= \"0a1ad2a4abc5a6d\"\n",
    "folder_name_d = \"each_lick_per_period_with_direction\""
   ]
  },
  {
   "cell_type": "code",
   "execution_count": 17,
   "metadata": {},
   "outputs": [],
   "source": [
    "Reward_NoReward_stay_right_directions = ahf.loadSession_csv (Mouse_Date_FileName,data_dir_output,\n",
    "                                     HowManyBack,folder_name_d,seq_str_d,\"Reward_NoReward_tag_stay_right\")"
   ]
  },
  {
   "cell_type": "code",
   "execution_count": 18,
   "metadata": {},
   "outputs": [],
   "source": [
    "Reward_NoReward_switch_right_directions = ahf.loadSession_csv (Mouse_Date_FileName,data_dir_output,\n",
    "                                       HowManyBack,folder_name_d,seq_str_d,\"Reward_NoReward_tag_switch_right\")"
   ]
  },
  {
   "cell_type": "code",
   "execution_count": 19,
   "metadata": {},
   "outputs": [],
   "source": [
    "Reward_NoReward_stay_left_directions = ahf.loadSession_csv (Mouse_Date_FileName,data_dir_output,\n",
    "                                     HowManyBack,folder_name_d,seq_str_d,\"Reward_NoReward_tag_stay_left\")"
   ]
  },
  {
   "cell_type": "code",
   "execution_count": 20,
   "metadata": {},
   "outputs": [],
   "source": [
    "Reward_NoReward_switch_left_directions = ahf.loadSession_csv (Mouse_Date_FileName,data_dir_output,\n",
    "                                       HowManyBack,folder_name_d,seq_str_d,\"Reward_NoReward_tag_switch_left\")"
   ]
  },
  {
   "cell_type": "code",
   "execution_count": null,
   "metadata": {},
   "outputs": [],
   "source": []
  },
  {
   "cell_type": "code",
   "execution_count": 21,
   "metadata": {},
   "outputs": [],
   "source": [
    "df_list = ahf.extract_data_set_consumption_directions (Mouse_Date_FileName,\n",
    "                                                       Reward_NoReward_stay_right_directions,\n",
    "                                                       Reward_NoReward_switch_right_directions,\n",
    "                                                       Reward_NoReward_stay_left_directions,\n",
    "                                                       Reward_NoReward_switch_left_directions)"
   ]
  },
  {
   "cell_type": "code",
   "execution_count": 23,
   "metadata": {},
   "outputs": [],
   "source": [
    "df_switchSide_switch_contra=ahf.generating_data_set_consumption_times_2(Mouse_Date_FileName,df_list,\n",
    "                                                                        \"switchSide_switch_contra\",'_contra')"
   ]
  },
  {
   "cell_type": "code",
   "execution_count": 24,
   "metadata": {},
   "outputs": [],
   "source": [
    "df_switchSide_switch_ipsi=ahf.generating_data_set_consumption_times_2(Mouse_Date_FileName,df_list,\n",
    "                                                                      \"switchSide_switch_ipsi\",'_ipsi')"
   ]
  },
  {
   "cell_type": "code",
   "execution_count": 25,
   "metadata": {},
   "outputs": [],
   "source": [
    "df_switchSide_switch_total=ahf.generating_data_set_consumption_times_2(Mouse_Date_FileName,df_list,\n",
    "                                                                       \"switchSide_switch_total\",'_total')"
   ]
  },
  {
   "cell_type": "code",
   "execution_count": 26,
   "metadata": {},
   "outputs": [],
   "source": [
    "df_switchSide_switch_ratio=ahf.generating_data_set_consumption_times_2(Mouse_Date_FileName,df_list,\n",
    "                                                                       \"switchSide_switch_ratio\",'_ratio')"
   ]
  },
  {
   "cell_type": "code",
   "execution_count": 27,
   "metadata": {},
   "outputs": [],
   "source": [
    "df_switchSide_Stay_contra=ahf.generating_data_set_consumption_times_2(Mouse_Date_FileName,df_list,\n",
    "                                                                      \"switchSide_Stay_contra\",'_contra')"
   ]
  },
  {
   "cell_type": "code",
   "execution_count": 28,
   "metadata": {},
   "outputs": [],
   "source": [
    "df_switchSide_Stay_ipsi=ahf.generating_data_set_consumption_times_2(Mouse_Date_FileName,df_list,\n",
    "                                                                    \"switchSide_Stay_ipsi\",'_ipsi')"
   ]
  },
  {
   "cell_type": "code",
   "execution_count": 29,
   "metadata": {},
   "outputs": [],
   "source": [
    "df_switchSide_Stay_total=ahf.generating_data_set_consumption_times_2(Mouse_Date_FileName,df_list,\n",
    "                                                                     \"switchSide_Stay_total\",'_total')"
   ]
  },
  {
   "cell_type": "code",
   "execution_count": 30,
   "metadata": {},
   "outputs": [],
   "source": [
    "df_switchSide_Stay_ratio=ahf.generating_data_set_consumption_times_2(Mouse_Date_FileName,df_list,\n",
    "                                                               \"switchSide_Stay_ratio\",'_ratio')"
   ]
  },
  {
   "cell_type": "code",
   "execution_count": 31,
   "metadata": {},
   "outputs": [],
   "source": [
    "df_NOswitchSide_switch_contra=ahf.generating_data_set_consumption_times_2(Mouse_Date_FileName,df_list,\n",
    "                                                                          \"NOswitchSide_switch_contra\",'_contra')"
   ]
  },
  {
   "cell_type": "code",
   "execution_count": 32,
   "metadata": {},
   "outputs": [],
   "source": [
    "df_NOswitchSide_switch_ipsi=ahf.generating_data_set_consumption_times_2(Mouse_Date_FileName,df_list,\n",
    "                                                                        \"NOswitchSide_switch_ipsi\",'_ipsi')"
   ]
  },
  {
   "cell_type": "code",
   "execution_count": 33,
   "metadata": {},
   "outputs": [],
   "source": [
    "df_NOswitchSide_switch_total=ahf.generating_data_set_consumption_times_2(Mouse_Date_FileName,df_list,\n",
    "                                                                         \"NOswitchSide_switch_total\",'_total')"
   ]
  },
  {
   "cell_type": "code",
   "execution_count": 34,
   "metadata": {},
   "outputs": [],
   "source": [
    "df_NOswitchSide_switch_ratio=ahf.generating_data_set_consumption_times_2(Mouse_Date_FileName,df_list,\n",
    "                                                                         \"NOswitchSide_switch_ratio\",'_ratio')"
   ]
  },
  {
   "cell_type": "code",
   "execution_count": 35,
   "metadata": {},
   "outputs": [],
   "source": [
    "df_NOswitchSide_Stay_contra=ahf.generating_data_set_consumption_times_2(Mouse_Date_FileName,df_list,\n",
    "                                                                        \"NOswitchSide_Stay_contra\",'_contra')"
   ]
  },
  {
   "cell_type": "code",
   "execution_count": 36,
   "metadata": {},
   "outputs": [],
   "source": [
    "df_NOswitchSide_Stay_ipsi=ahf.generating_data_set_consumption_times_2(Mouse_Date_FileName,df_list,\n",
    "                                                                      \"NOswitchSide_Stay_ipsi\",'_ipsi')"
   ]
  },
  {
   "cell_type": "code",
   "execution_count": 37,
   "metadata": {},
   "outputs": [],
   "source": [
    "df_NOswitchSide_Stay_total=ahf.generating_data_set_consumption_times_2(Mouse_Date_FileName,df_list,\n",
    "                                                                       \"NOswitchSide_Stay_total\",'_total')"
   ]
  },
  {
   "cell_type": "code",
   "execution_count": 38,
   "metadata": {},
   "outputs": [],
   "source": [
    "df_NOswitchSide_Stay_ratio=ahf.generating_data_set_consumption_times_2(Mouse_Date_FileName,df_list,\n",
    "                                                                       \"NOswitchSide_Stay_ratio\",'_ratio')"
   ]
  },
  {
   "cell_type": "code",
   "execution_count": 39,
   "metadata": {},
   "outputs": [],
   "source": [
    "data_set = \"data_set\"+\"_\"+seq_str[:seq_str.index('6')]\n",
    "cache_dir_plt = os.path.join(data_dir_output, data_set)\n",
    "if not os.path.exists(cache_dir_plt):\n",
    "    os.makedirs(cache_dir_plt)"
   ]
  },
  {
   "cell_type": "code",
   "execution_count": 40,
   "metadata": {},
   "outputs": [],
   "source": [
    "file = \"data_set_time_consumption_licks\"\n",
    "cache_dir_plt = os.path.join(data_dir_output,data_set, file)\n",
    "if not os.path.exists(cache_dir_plt):\n",
    "    os.makedirs(cache_dir_plt)"
   ]
  },
  {
   "cell_type": "code",
   "execution_count": 62,
   "metadata": {},
   "outputs": [],
   "source": [
    "df_switchSide_switch_std.to_csv(data_dir_output+\"/\"+data_set+\"/\"+file+\"/\"+\"switch_side_switch_std\"+seq_str+\".csv\")"
   ]
  },
  {
   "cell_type": "code",
   "execution_count": 63,
   "metadata": {},
   "outputs": [],
   "source": [
    "df_switchSide_switch_contra.to_csv(data_dir_output+\"/\"+data_set+\"/\"+file+\"/\"+\"switch_side_switch_contra\"+seq_str+\".csv\")"
   ]
  },
  {
   "cell_type": "code",
   "execution_count": 64,
   "metadata": {},
   "outputs": [],
   "source": [
    "df_switchSide_switch_ipsi.to_csv(data_dir_output+\"/\"+data_set+\"/\"+file+\"/\"+\"switch_side_switch_ipsi\"+seq_str+\".csv\")"
   ]
  },
  {
   "cell_type": "code",
   "execution_count": 65,
   "metadata": {},
   "outputs": [],
   "source": [
    "df_switchSide_switch_total.to_csv(data_dir_output+\"/\"+data_set+\"/\"+file+\"/\"+\"switch_side_switch_total\"+seq_str+\".csv\")"
   ]
  },
  {
   "cell_type": "code",
   "execution_count": 66,
   "metadata": {},
   "outputs": [],
   "source": [
    "df_switchSide_switch_ratio.to_csv(data_dir_output+\"/\"+data_set+\"/\"+file+\"/\"+\"switch_side_switch_ratio\"+seq_str+\".csv\")"
   ]
  },
  {
   "cell_type": "code",
   "execution_count": 67,
   "metadata": {},
   "outputs": [],
   "source": [
    "df_switchSide_Stay_std.to_csv(data_dir_output+\"/\"+data_set+\"/\"+file+\"/\"+\"switch_side_stay_std\"+seq_str+\".csv\")"
   ]
  },
  {
   "cell_type": "code",
   "execution_count": 47,
   "metadata": {},
   "outputs": [],
   "source": [
    "df_switchSide_Stay_contra.to_csv(data_dir_output+\"/\"+data_set+\"/\"+file+\"/\"+\"switch_side_stay_contra\"+seq_str+\".csv\")"
   ]
  },
  {
   "cell_type": "code",
   "execution_count": 48,
   "metadata": {},
   "outputs": [],
   "source": [
    "df_switchSide_Stay_ipsi.to_csv(data_dir_output+\"/\"+data_set+\"/\"+file+\"/\"+\"switch_side_stay_ipsi\"+seq_str+\".csv\")"
   ]
  },
  {
   "cell_type": "code",
   "execution_count": 49,
   "metadata": {},
   "outputs": [],
   "source": [
    "df_switchSide_Stay_total.to_csv(data_dir_output+\"/\"+data_set+\"/\"+file+\"/\"+\"switch_side_stay_total\"+seq_str+\".csv\")"
   ]
  },
  {
   "cell_type": "code",
   "execution_count": 50,
   "metadata": {},
   "outputs": [],
   "source": [
    "df_switchSide_Stay_ratio.to_csv(data_dir_output+\"/\"+data_set+\"/\"+file+\"/\"+\"switch_side_stay_ratio\"+seq_str+\".csv\")"
   ]
  },
  {
   "cell_type": "code",
   "execution_count": 51,
   "metadata": {},
   "outputs": [],
   "source": [
    "df_NOswitchSide_switch_std.to_csv(data_dir_output+\"/\"+data_set+\"/\"+file+\"/\"+\"NOswitch_side_switch_std\"+seq_str+\".csv\")"
   ]
  },
  {
   "cell_type": "code",
   "execution_count": 52,
   "metadata": {},
   "outputs": [],
   "source": [
    "df_NOswitchSide_switch_contra.to_csv(data_dir_output+\"/\"+data_set+\"/\"+file+\"/\"+\"NOswitch_side_switch_contra\"+seq_str+\".csv\")"
   ]
  },
  {
   "cell_type": "code",
   "execution_count": 53,
   "metadata": {},
   "outputs": [],
   "source": [
    "df_NOswitchSide_switch_ipsi.to_csv(data_dir_output+\"/\"+data_set+\"/\"+file+\"/\"+\"NOswitch_side_switch_ipsi\"+seq_str+\".csv\")"
   ]
  },
  {
   "cell_type": "code",
   "execution_count": 54,
   "metadata": {},
   "outputs": [],
   "source": [
    "df_NOswitchSide_switch_total.to_csv(data_dir_output+\"/\"+data_set+\"/\"+file+\"/\"+\"NOswitch_side_switch_total\"+seq_str+\".csv\")"
   ]
  },
  {
   "cell_type": "code",
   "execution_count": 55,
   "metadata": {},
   "outputs": [],
   "source": [
    "df_NOswitchSide_switch_ratio.to_csv(data_dir_output+\"/\"+data_set+\"/\"+file+\"/\"+\"NOswitch_side_switch_ratio\"+seq_str+\".csv\")"
   ]
  },
  {
   "cell_type": "code",
   "execution_count": 56,
   "metadata": {},
   "outputs": [],
   "source": [
    "df_NOswitchSide_Stay_std.to_csv(data_dir_output+\"/\"+data_set+\"/\"+file+\"/\"+\"NOswitch_side_Stay_std\"+seq_str+\".csv\")"
   ]
  },
  {
   "cell_type": "code",
   "execution_count": 57,
   "metadata": {},
   "outputs": [],
   "source": [
    "df_NOswitchSide_Stay_contra.to_csv(data_dir_output+\"/\"+data_set+\"/\"+file+\"/\"+\"NOswitch_side_Stay_contra\"+seq_str+\".csv\")"
   ]
  },
  {
   "cell_type": "code",
   "execution_count": 58,
   "metadata": {},
   "outputs": [],
   "source": [
    "df_NOswitchSide_Stay_ipsi.to_csv(data_dir_output+\"/\"+data_set+\"/\"+file+\"/\"+\"NOswitch_side_Stay_ipsi\"+seq_str+\".csv\")"
   ]
  },
  {
   "cell_type": "code",
   "execution_count": 59,
   "metadata": {},
   "outputs": [],
   "source": [
    "df_NOswitchSide_Stay_total.to_csv(data_dir_output+\"/\"+data_set+\"/\"+file+\"/\"+\"NOswitch_side_Stay_total\"+seq_str+\".csv\")"
   ]
  },
  {
   "cell_type": "code",
   "execution_count": 60,
   "metadata": {},
   "outputs": [],
   "source": [
    "df_NOswitchSide_Stay_ratio.to_csv(data_dir_output+\"/\"+data_set+\"/\"+file+\"/\"+\"NOswitch_side_Stay_ratio\"+seq_str+\".csv\")"
   ]
  },
  {
   "cell_type": "code",
   "execution_count": null,
   "metadata": {},
   "outputs": [],
   "source": []
  }
 ],
 "metadata": {
  "celltoolbar": "Tags",
  "kernelspec": {
   "display_name": "Python 3",
   "language": "python",
   "name": "python3"
  },
  "language_info": {
   "codemirror_mode": {
    "name": "ipython",
    "version": 3
   },
   "file_extension": ".py",
   "mimetype": "text/x-python",
   "name": "python",
   "nbconvert_exporter": "python",
   "pygments_lexer": "ipython3",
   "version": "3.7.3"
  }
 },
 "nbformat": 4,
 "nbformat_minor": 2
}
