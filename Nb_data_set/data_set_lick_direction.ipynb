{
 "cells": [
  {
   "cell_type": "code",
   "execution_count": 1,
   "metadata": {},
   "outputs": [],
   "source": [
    "import pandas as pd \n",
    "import numpy  as np \n",
    "from pathlib import Path\n",
    "import pickle\n",
    "import os"
   ]
  },
  {
   "cell_type": "code",
   "execution_count": 2,
   "metadata": {},
   "outputs": [],
   "source": [
    "import data_set_analysis_helper_functions as ahf"
   ]
  },
  {
   "cell_type": "code",
   "execution_count": 3,
   "metadata": {
    "tags": [
     "parameters"
    ]
   },
   "outputs": [],
   "source": [
    "data_dir_output = '/Users/gilmandelbaum/Desktop/optoOutPut'\n",
    "data_dir_input = '/Users/gilmandelbaum/Desktop/opto'\n",
    "HowManyBack=1\n",
    "\n",
    "Mouse_Date_FileName_list = \"MasterOptoConsumption\"\n",
    "\n",
    "seq_str= \"0a1ad2a4abc5a6c\""
   ]
  },
  {
   "cell_type": "code",
   "execution_count": 4,
   "metadata": {},
   "outputs": [],
   "source": [
    "folder_name = \"count_licks_perPeriod_with_direction\""
   ]
  },
  {
   "cell_type": "code",
   "execution_count": 5,
   "metadata": {},
   "outputs": [],
   "source": [
    "Mouse_Date_FileName = pd.read_csv(data_dir_input+\"/\"+Mouse_Date_FileName_list+\".csv\")"
   ]
  },
  {
   "cell_type": "code",
   "execution_count": 6,
   "metadata": {},
   "outputs": [],
   "source": [
    "#Mouse_Date_FileName = Mouse_Date_FileName[Mouse_Date_FileName[\"Mouse\"]==\"T183\"].reset_index()"
   ]
  },
  {
   "cell_type": "code",
   "execution_count": 7,
   "metadata": {},
   "outputs": [],
   "source": [
    "dataSet = ahf.loadSession_pickle (Mouse_Date_FileName,data_dir_output,\n",
    "                                  HowManyBack,folder_name,seq_str,\"count_licks_perPeriod_with_direction\")"
   ]
  },
  {
   "cell_type": "code",
   "execution_count": 8,
   "metadata": {},
   "outputs": [],
   "source": [
    "df = ahf.stimLickDirections (dataSet,Mouse_Date_FileName)  "
   ]
  },
  {
   "cell_type": "code",
   "execution_count": null,
   "metadata": {},
   "outputs": [],
   "source": [
    "data_set = \"data_set\"+\"_\"+seq_str[:seq_str.index('6')]\n",
    "cache_dir_plt = os.path.join(data_dir_output, data_set)\n",
    "if not os.path.exists(cache_dir_plt):\n",
    "    os.makedirs(cache_dir_plt)"
   ]
  },
  {
   "cell_type": "code",
   "execution_count": null,
   "metadata": {},
   "outputs": [],
   "source": [
    "file = \"data_set_lick_direction\"\n",
    "cache_dir_plt = os.path.join(data_dir_output,data_set,file)\n",
    "if not os.path.exists(cache_dir_plt):\n",
    "    os.makedirs(cache_dir_plt)"
   ]
  },
  {
   "cell_type": "code",
   "execution_count": null,
   "metadata": {},
   "outputs": [],
   "source": [
    "#df.to_csv(data_dir_output+\"/\"+file+\"/\"+\"lick_direction.csv\")\n",
    "df.to_csv(data_dir_output+\"/\"+data_set+\"/\"+file+\"/\"+\"lick_direction\"+seq_str+\".csv\")"
   ]
  },
  {
   "cell_type": "code",
   "execution_count": null,
   "metadata": {},
   "outputs": [],
   "source": []
  }
 ],
 "metadata": {
  "celltoolbar": "Tags",
  "kernelspec": {
   "display_name": "Python 3",
   "language": "python",
   "name": "python3"
  },
  "language_info": {
   "codemirror_mode": {
    "name": "ipython",
    "version": 3
   },
   "file_extension": ".py",
   "mimetype": "text/x-python",
   "name": "python",
   "nbconvert_exporter": "python",
   "pygments_lexer": "ipython3",
   "version": "3.7.3"
  }
 },
 "nbformat": 4,
 "nbformat_minor": 2
}
