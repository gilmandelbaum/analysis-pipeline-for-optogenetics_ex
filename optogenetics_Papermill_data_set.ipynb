{
 "cells": [
  {
   "cell_type": "code",
   "execution_count": 1,
   "metadata": {},
   "outputs": [],
   "source": [
    "import papermill as pm"
   ]
  },
  {
   "cell_type": "code",
   "execution_count": 2,
   "metadata": {},
   "outputs": [],
   "source": [
    "#parameters:\n",
    "data_dir_input = \"/Users/gilmandelbaum/Desktop/opto\"\n",
    "data_dir_output = \"/Users/gilmandelbaum/Desktop/optoOutPut\"\n",
    "HowManyBack=1 "
   ]
  },
  {
   "cell_type": "code",
   "execution_count": 3,
   "metadata": {},
   "outputs": [],
   "source": [
    "seq_str = \"0a1ad2a4abc5a\"\n",
    "\n",
    "seq_str_list = [seq_str+\"6b\",\n",
    "                seq_str+\"6b\",\n",
    "                seq_str+\"6b\",\n",
    "                seq_str+\"6b\",\n",
    "                seq_str+\"6c\",\n",
    "                seq_str+\"6a\",\n",
    "                seq_str+\"6a\"]\n",
    "\n",
    "\n",
    "notebook_list = [\"data_set_how_many_stim_success_rate\",\n",
    "                 \"data_set_how_many_stim_vs_3rdTrial\",\n",
    "                 \"data_set_how_many_TO_NON_stim_trials\",\n",
    "                 \"data_set_how_many_TO_stim_trials\",\n",
    "                 \"data_set_lick_direction\",\n",
    "                 \"data_set_time_consumption_licks\",\n",
    "                 \"data_set_time_respose_lick\"]\n",
    " \n",
    "Mouse_Date_FileName_list = \"MasterOptoConsumption\""
   ]
  },
  {
   "cell_type": "code",
   "execution_count": 7,
   "metadata": {
    "scrolled": true
   },
   "outputs": [
    {
     "data": {
      "text/plain": [
       "['0a1ad2a4abc5a6b',\n",
       " '0a1ad2a4abc5a6b',\n",
       " '0a1ad2a4abc5a6b',\n",
       " '0a1ad2a4abc5a6b',\n",
       " '0a1ad2a4abc5a6c',\n",
       " '0a1ad2a4abc5a6a',\n",
       " '0a1ad2a4abc5a6a']"
      ]
     },
     "execution_count": 7,
     "metadata": {},
     "output_type": "execute_result"
    }
   ],
   "source": [
    "seq_str_list"
   ]
  },
  {
   "cell_type": "code",
   "execution_count": 4,
   "metadata": {},
   "outputs": [],
   "source": [
    "leng = len (seq_str_list)"
   ]
  },
  {
   "cell_type": "code",
   "execution_count": 8,
   "metadata": {},
   "outputs": [
    {
     "name": "stdout",
     "output_type": "stream",
     "text": [
      "executing: data_set_how_many_stim_success_rate\n"
     ]
    },
    {
     "data": {
      "application/vnd.jupyter.widget-view+json": {
       "model_id": "f8118c0b9abe4ccab5f6ebd335c3f931",
       "version_major": 2,
       "version_minor": 0
      },
      "text/plain": [
       "HBox(children=(IntProgress(value=0, max=12), HTML(value='')))"
      ]
     },
     "metadata": {},
     "output_type": "display_data"
    },
    {
     "name": "stdout",
     "output_type": "stream",
     "text": [
      "\n",
      "executing: data_set_how_many_stim_vs_3rdTrial\n"
     ]
    },
    {
     "data": {
      "application/vnd.jupyter.widget-view+json": {
       "model_id": "4842460ee3f747ae8d854b7998842f2c",
       "version_major": 2,
       "version_minor": 0
      },
      "text/plain": [
       "HBox(children=(IntProgress(value=0, max=20), HTML(value='')))"
      ]
     },
     "metadata": {},
     "output_type": "display_data"
    },
    {
     "name": "stdout",
     "output_type": "stream",
     "text": [
      "\n",
      "executing: data_set_how_many_TO_NON_stim_trials\n"
     ]
    },
    {
     "data": {
      "application/vnd.jupyter.widget-view+json": {
       "model_id": "bda410483051408fa9438463aef98092",
       "version_major": 2,
       "version_minor": 0
      },
      "text/plain": [
       "HBox(children=(IntProgress(value=0, max=16), HTML(value='')))"
      ]
     },
     "metadata": {},
     "output_type": "display_data"
    },
    {
     "name": "stdout",
     "output_type": "stream",
     "text": [
      "\n",
      "executing: data_set_how_many_TO_stim_trials\n"
     ]
    },
    {
     "data": {
      "application/vnd.jupyter.widget-view+json": {
       "model_id": "7bbea96d6ed2413582ab3bc04e09946c",
       "version_major": 2,
       "version_minor": 0
      },
      "text/plain": [
       "HBox(children=(IntProgress(value=0, max=16), HTML(value='')))"
      ]
     },
     "metadata": {},
     "output_type": "display_data"
    },
    {
     "name": "stdout",
     "output_type": "stream",
     "text": [
      "\n",
      "executing: data_set_lick_direction\n"
     ]
    },
    {
     "data": {
      "application/vnd.jupyter.widget-view+json": {
       "model_id": "0834dea499ad4335916b8405c0ee3482",
       "version_major": 2,
       "version_minor": 0
      },
      "text/plain": [
       "HBox(children=(IntProgress(value=0, max=13), HTML(value='')))"
      ]
     },
     "metadata": {},
     "output_type": "display_data"
    },
    {
     "name": "stdout",
     "output_type": "stream",
     "text": [
      "\n",
      "executing: data_set_time_consumption_licks\n"
     ]
    },
    {
     "data": {
      "application/vnd.jupyter.widget-view+json": {
       "model_id": "665a5c7c2dbd494d861297efcf4122af",
       "version_major": 2,
       "version_minor": 0
      },
      "text/plain": [
       "HBox(children=(IntProgress(value=0, max=27), HTML(value='')))"
      ]
     },
     "metadata": {},
     "output_type": "display_data"
    },
    {
     "name": "stdout",
     "output_type": "stream",
     "text": [
      "\n",
      "executing: data_set_time_respose_lick\n"
     ]
    },
    {
     "data": {
      "application/vnd.jupyter.widget-view+json": {
       "model_id": "b0ab7a3c028f4b3d8bd6fac26fc030df",
       "version_major": 2,
       "version_minor": 0
      },
      "text/plain": [
       "HBox(children=(IntProgress(value=0, max=21), HTML(value='')))"
      ]
     },
     "metadata": {},
     "output_type": "display_data"
    },
    {
     "name": "stdout",
     "output_type": "stream",
     "text": [
      "\n"
     ]
    }
   ],
   "source": [
    "for i in range (leng):\n",
    "    \n",
    "    seq_str= seq_str_list[i]\n",
    "    notebook = notebook_list[i]\n",
    "    print (\"executing: \"+notebook)\n",
    "    \n",
    "    p_dict = dict(data_dir_input=data_dir_input, \n",
    "                  data_dir_output=data_dir_output, \n",
    "                  HowManyBack = HowManyBack, \n",
    "                  seq_str = seq_str,\n",
    "                  Mouse_Date_FileName_list = Mouse_Date_FileName_list)\n",
    "                    \n",
    "    pm.execute_notebook(notebook+\".ipynb\", 'TestOutPut.ipynb',parameters= p_dict)"
   ]
  },
  {
   "cell_type": "code",
   "execution_count": null,
   "metadata": {},
   "outputs": [],
   "source": []
  }
 ],
 "metadata": {
  "kernelspec": {
   "display_name": "Python 3",
   "language": "python",
   "name": "python3"
  },
  "language_info": {
   "codemirror_mode": {
    "name": "ipython",
    "version": 3
   },
   "file_extension": ".py",
   "mimetype": "text/x-python",
   "name": "python",
   "nbconvert_exporter": "python",
   "pygments_lexer": "ipython3",
   "version": "3.7.3"
  }
 },
 "nbformat": 4,
 "nbformat_minor": 2
}
