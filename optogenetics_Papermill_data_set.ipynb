{
 "cells": [
  {
   "cell_type": "code",
   "execution_count": 1,
   "metadata": {},
   "outputs": [],
   "source": [
    "import papermill as pm\n",
    "import os "
   ]
  },
  {
   "cell_type": "code",
   "execution_count": 2,
   "metadata": {},
   "outputs": [],
   "source": [
    "#parameters:\n",
    "data_dir_input = \"/Users/gilmandelbaum/Desktop/opto_final/OptoConsump\"\n",
    "data_dir_output = \"/Users/gilmandelbaum/Desktop/opto_final/OptoConsump_output\"\n",
    "HowManyBack=1 "
   ]
  },
  {
   "cell_type": "code",
   "execution_count": 3,
   "metadata": {},
   "outputs": [],
   "source": [
    "seq_str_master = \"0a1ae2a4abc5a\"\n",
    "\n",
    "seq_str_list = [seq_str_master+\"6b\",\n",
    "                seq_str_master+\"6b\",\n",
    "                seq_str_master+\"6b\",\n",
    "                seq_str_master+\"6b\",\n",
    "                seq_str_master+\"6c\",\n",
    "                seq_str_master+\"6a\",\n",
    "                seq_str_master+\"6a\"]\n",
    "\n",
    "\n",
    "notebook_list = [\"data_set_how_many_stim_success_rate\",\n",
    "                 \"data_set_how_many_stim_vs_3rdTrial\",\n",
    "                 \"data_set_how_many_TO_NON_stim_trials\",\n",
    "                 \"data_set_how_many_TO_stim_trials\",\n",
    "                 \"data_set_lick_direction\",\n",
    "                 \"data_set_time_consumption_licks\",\n",
    "                 \"data_set_time_respose_lick\"]\n",
    " \n",
    "Mouse_Date_FileName_list = \"MasterOptoConsumption\""
   ]
  },
  {
   "cell_type": "code",
   "execution_count": 4,
   "metadata": {
    "scrolled": true
   },
   "outputs": [
    {
     "data": {
      "text/plain": [
       "['0a1ae2a4abc5a6b',\n",
       " '0a1ae2a4abc5a6b',\n",
       " '0a1ae2a4abc5a6b',\n",
       " '0a1ae2a4abc5a6b',\n",
       " '0a1ae2a4abc5a6c',\n",
       " '0a1ae2a4abc5a6a',\n",
       " '0a1ae2a4abc5a6a']"
      ]
     },
     "execution_count": 4,
     "metadata": {},
     "output_type": "execute_result"
    }
   ],
   "source": [
    "seq_str_list"
   ]
  },
  {
   "cell_type": "code",
   "execution_count": 5,
   "metadata": {},
   "outputs": [],
   "source": [
    "leng = len (seq_str_list)"
   ]
  },
  {
   "cell_type": "code",
   "execution_count": 8,
   "metadata": {},
   "outputs": [
    {
     "name": "stdout",
     "output_type": "stream",
     "text": [
      "executing: data_set_how_many_stim_success_rate\n"
     ]
    },
    {
     "data": {
      "application/vnd.jupyter.widget-view+json": {
       "model_id": "cffb37f5a9284f09a93a6cf744352dc8",
       "version_major": 2,
       "version_minor": 0
      },
      "text/plain": [
       "HBox(children=(IntProgress(value=0, max=12), HTML(value='')))"
      ]
     },
     "metadata": {},
     "output_type": "display_data"
    },
    {
     "name": "stdout",
     "output_type": "stream",
     "text": [
      "\n",
      "executing: data_set_how_many_stim_vs_3rdTrial\n"
     ]
    },
    {
     "data": {
      "application/vnd.jupyter.widget-view+json": {
       "model_id": "12602b3a9a4746fbb3fb4d12235354cd",
       "version_major": 2,
       "version_minor": 0
      },
      "text/plain": [
       "HBox(children=(IntProgress(value=0, max=19), HTML(value='')))"
      ]
     },
     "metadata": {},
     "output_type": "display_data"
    },
    {
     "name": "stdout",
     "output_type": "stream",
     "text": [
      "\n",
      "executing: data_set_how_many_TO_NON_stim_trials\n"
     ]
    },
    {
     "data": {
      "application/vnd.jupyter.widget-view+json": {
       "model_id": "cbd5c94ca91f4ddfb3cf675afaee3c38",
       "version_major": 2,
       "version_minor": 0
      },
      "text/plain": [
       "HBox(children=(IntProgress(value=0, max=17), HTML(value='')))"
      ]
     },
     "metadata": {},
     "output_type": "display_data"
    },
    {
     "name": "stdout",
     "output_type": "stream",
     "text": [
      "\n",
      "executing: data_set_how_many_TO_stim_trials\n"
     ]
    },
    {
     "data": {
      "application/vnd.jupyter.widget-view+json": {
       "model_id": "d712137a1bab46bbbb06790a338a32f5",
       "version_major": 2,
       "version_minor": 0
      },
      "text/plain": [
       "HBox(children=(IntProgress(value=0, max=18), HTML(value='')))"
      ]
     },
     "metadata": {},
     "output_type": "display_data"
    },
    {
     "name": "stdout",
     "output_type": "stream",
     "text": [
      "\n",
      "executing: data_set_lick_direction\n"
     ]
    },
    {
     "data": {
      "application/vnd.jupyter.widget-view+json": {
       "model_id": "17ced70a515044b79ba45e71a559fee5",
       "version_major": 2,
       "version_minor": 0
      },
      "text/plain": [
       "HBox(children=(IntProgress(value=0, max=13), HTML(value='')))"
      ]
     },
     "metadata": {},
     "output_type": "display_data"
    },
    {
     "name": "stdout",
     "output_type": "stream",
     "text": [
      "\n",
      "executing: data_set_time_consumption_licks\n"
     ]
    },
    {
     "data": {
      "application/vnd.jupyter.widget-view+json": {
       "model_id": "1f3cb4d4d4ff4672ada307ecd5030442",
       "version_major": 2,
       "version_minor": 0
      },
      "text/plain": [
       "HBox(children=(IntProgress(value=0, max=27), HTML(value='')))"
      ]
     },
     "metadata": {},
     "output_type": "display_data"
    },
    {
     "name": "stdout",
     "output_type": "stream",
     "text": [
      "\n",
      "executing: data_set_time_respose_lick\n"
     ]
    },
    {
     "data": {
      "application/vnd.jupyter.widget-view+json": {
       "model_id": "c64f03069d4e4241a86b9d81d3602c3f",
       "version_major": 2,
       "version_minor": 0
      },
      "text/plain": [
       "HBox(children=(IntProgress(value=0, max=21), HTML(value='')))"
      ]
     },
     "metadata": {},
     "output_type": "display_data"
    },
    {
     "name": "stdout",
     "output_type": "stream",
     "text": [
      "\n"
     ]
    }
   ],
   "source": [
    "for i in range (leng):\n",
    "    \n",
    "    seq_str= seq_str_list[i]\n",
    "    notebook = notebook_list[i]\n",
    "    print (\"executing: \"+notebook)\n",
    "    \n",
    "    p_dict = dict(data_dir_input=data_dir_input, \n",
    "                  data_dir_output=data_dir_output, \n",
    "                  HowManyBack = HowManyBack, \n",
    "                  seq_str = seq_str,\n",
    "                  Mouse_Date_FileName_list = Mouse_Date_FileName_list)\n",
    "                    \n",
    "    if os.path.isdir(data_dir_output+\"/\"+\"data_set_\"+seq_str_master+\"/\"+notebook):\n",
    "        print(\"data_set_\"+seq_str_master+\"/\"+notebook+ \"This session already exists - no need to re-run:)\")\n",
    "        pass \n",
    "    else: \n",
    "        pm.execute_notebook(notebook+\".ipynb\", 'TestOutPut.ipynb',parameters= p_dict)"
   ]
  },
  {
   "cell_type": "code",
   "execution_count": null,
   "metadata": {},
   "outputs": [],
   "source": []
  },
  {
   "cell_type": "code",
   "execution_count": null,
   "metadata": {},
   "outputs": [],
   "source": [
    "\n",
    "                        "
   ]
  }
 ],
 "metadata": {
  "kernelspec": {
   "display_name": "Python 3",
   "language": "python",
   "name": "python3"
  },
  "language_info": {
   "codemirror_mode": {
    "name": "ipython",
    "version": 3
   },
   "file_extension": ".py",
   "mimetype": "text/x-python",
   "name": "python",
   "nbconvert_exporter": "python",
   "pygments_lexer": "ipython3",
   "version": "3.7.3"
  }
 },
 "nbformat": 4,
 "nbformat_minor": 2
}
