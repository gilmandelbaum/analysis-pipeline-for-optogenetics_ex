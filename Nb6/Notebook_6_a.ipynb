{
 "cells": [
  {
   "cell_type": "markdown",
   "metadata": {},
   "source": [
    "# Notebook 6 a"
   ]
  },
  {
   "cell_type": "code",
   "execution_count": null,
   "metadata": {
    "tags": [
     "parameters"
    ]
   },
   "outputs": [],
   "source": [
    "mouse = 'T183'\n",
    "data_day = '2019_03_14__T183'\n",
    "date = '2019_03_14'\n",
    "\n",
    "data_dir_output = '/Users/gilmandelbaum/Desktop/optoOutPut'\n",
    "\n",
    "HowManyBack=1 \n",
    "\n",
    "Nb5 =\"a\"\n",
    "\n",
    "seq_str= '0a1ad2a4abc5a6a'"
   ]
  },
  {
   "cell_type": "code",
   "execution_count": null,
   "metadata": {},
   "outputs": [],
   "source": [
    "from pathlib import Path\n",
    "import pickle\n",
    "import itertools\n",
    "import pandas as pd \n",
    "import os"
   ]
  },
  {
   "cell_type": "code",
   "execution_count": null,
   "metadata": {},
   "outputs": [],
   "source": [
    "import Notebook_6_helper_functions as Nb_6"
   ]
  },
  {
   "cell_type": "code",
   "execution_count": null,
   "metadata": {},
   "outputs": [],
   "source": [
    "root = Path(data_dir_output+\"/\"+mouse+\"/\"+data_day+'/'+str(HowManyBack)+\"_Back\")\n",
    "d = mouse+\"_\"+date+\"Notebook_5_\"+Nb5+\"_\"+\"seq\"+seq_str[:seq_str.index('6')]+'.pickle'\n",
    "my_path = root / d \n",
    "fileToOpen = open(my_path, 'rb')\n",
    "Lick_RL_IC_tt_periods = pickle.load(fileToOpen)\n",
    "print (\"loaded notebook 5\")"
   ]
  },
  {
   "cell_type": "code",
   "execution_count": null,
   "metadata": {},
   "outputs": [],
   "source": [
    "#make [R/L][IPSI/CONTRA][trial type][period] data frames. Each column is a trial. \n",
    "Lick_tStates_perTrial = Nb_6.get_tStates_perTrial_per_period_df(Lick_RL_IC_tt_periods)"
   ]
  },
  {
   "cell_type": "code",
   "execution_count": null,
   "metadata": {},
   "outputs": [],
   "source": [
    "Lick_tStates_perTrial[1][0][3].keys()"
   ]
  },
  {
   "cell_type": "code",
   "execution_count": null,
   "metadata": {},
   "outputs": [],
   "source": [
    "file = \"timeOfLicks\"+\"_\"+seq_str\n",
    "cache_dir_plt = os.path.join(data_dir_output+'/'+mouse+\"/\"+data_day+'/'+str(HowManyBack)+'_Back/', file)\n",
    "if not os.path.exists(cache_dir_plt):\n",
    "    os.makedirs(cache_dir_plt)"
   ]
  },
  {
   "cell_type": "code",
   "execution_count": null,
   "metadata": {},
   "outputs": [],
   "source": [
    "root = Path(data_dir_output+\"/\"+mouse+\"/\"+data_day+'/'+str(HowManyBack)+\"_Back\"+\"/\"+file+\"/\")\n",
    "d = \"timeOfLicks.pickle\"\n",
    "my_path = root / d \n",
    "my_file = open(my_path, 'wb')\n",
    "my_file = pickle.dump((Lick_tStates_perTrial),my_file)"
   ]
  },
  {
   "cell_type": "code",
   "execution_count": null,
   "metadata": {},
   "outputs": [],
   "source": [
    "root = Path(data_dir_output+\"/\"+mouse+\"/\"+data_day+'/'+str(HowManyBack)+\"_Back\")\n",
    "d = mouse+\"_\"+date+'Notebook_6_a'+'_seq'+seq_str+'.pickle'\n",
    "my_path = root / d \n",
    "my_file = open(my_path, 'wb')\n",
    "my_file = pickle.dump((),my_file)"
   ]
  },
  {
   "cell_type": "code",
   "execution_count": null,
   "metadata": {},
   "outputs": [],
   "source": [
    "def extract_times_of_licks (Lick_tStates_perTrial,tag):\n",
    "    right_left = [0,0,1,1]\n",
    "    trial_type = [3,2,3,2]\n",
    "    direction_stay_or_switch = [\"stay_right\",\"switch_right\",\"stay_left\",\"switch_left\"]\n",
    "    \n",
    "    for (rl, tt, direc) in zip(right_left,trial_type,direction_stay_or_switch):\n",
    "        condition= Lick_tStates_perTrial[rl][0][tt][tag]\n",
    "        if condition.empty==True:\n",
    "            condition_df = pd.DataFrame()\n",
    "        else:\n",
    "            condition = condition.reset_index()\n",
    "            condition_df = pd.DataFrame(condition)\n",
    "            condition_df = condition_df.drop([\"index\"], axis=1)\n",
    "            \n",
    "        condition_df.to_csv(data_dir_output+\"/\"+mouse+\"/\"+data_day+'/'+str(HowManyBack)+\"_Back\"+\"/\"+\"timeOfLicks\"+\"_\"+seq_str+\"/\"+tag+\"_\"+direc+\".csv\")\n",
    "        condition_df = pd.DataFrame()\n",
    "    return ()"
   ]
  },
  {
   "cell_type": "code",
   "execution_count": null,
   "metadata": {
    "scrolled": false
   },
   "outputs": [],
   "source": [
    "for tag in list(Lick_tStates_perTrial[0][0][3].keys()): \n",
    "    if tag == \"Real_nTrials\":\n",
    "        pass \n",
    "    else: \n",
    "        extract_times_of_licks (Lick_tStates_perTrial,tag)"
   ]
  }
 ],
 "metadata": {
  "celltoolbar": "Tags",
  "kernelspec": {
   "display_name": "Python 3",
   "language": "python",
   "name": "python3"
  },
  "language_info": {
   "codemirror_mode": {
    "name": "ipython",
    "version": 3
   },
   "file_extension": ".py",
   "mimetype": "text/x-python",
   "name": "python",
   "nbconvert_exporter": "python",
   "pygments_lexer": "ipython3",
   "version": "3.7.3"
  }
 },
 "nbformat": 4,
 "nbformat_minor": 2
}
