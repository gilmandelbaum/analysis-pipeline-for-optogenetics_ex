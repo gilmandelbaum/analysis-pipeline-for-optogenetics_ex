{
 "cells": [
  {
   "cell_type": "markdown",
   "metadata": {
    "collapsed": true
   },
   "source": [
    "# Notebook 0a"
   ]
  },
  {
   "cell_type": "code",
   "execution_count": 1,
   "metadata": {},
   "outputs": [],
   "source": [
    "import pandas as pd \n",
    "import numpy  as np \n",
    "import itertools\n",
    "import os\n",
    "import pickle\n",
    "from pathlib import Path\n",
    "import papermill as pm"
   ]
  },
  {
   "cell_type": "code",
   "execution_count": 2,
   "metadata": {},
   "outputs": [],
   "source": [
    "import Notebook_0_helper_functions as Nb_0"
   ]
  },
  {
   "cell_type": "code",
   "execution_count": 3,
   "metadata": {
    "tags": [
     "parameters"
    ]
   },
   "outputs": [],
   "source": [
    "#parameters: \n",
    "\n",
    "mouse = 'T183'\n",
    "data_day = '2019_03_14__T183'\n",
    "date = '2018_03_14'\n",
    "\n",
    "drop2blocks= 'no'\n",
    "drop2lastblocks=\"no\"\n",
    "HowManyBack = 1\n",
    "\n",
    "data_dir_input = '/Users/gilmandelbaum/Desktop/opto'#(Rigs1-3)\n",
    "data_dir_output = '/Users/gilmandelbaum/Desktop/optoOutPut'"
   ]
  },
  {
   "cell_type": "code",
   "execution_count": 4,
   "metadata": {},
   "outputs": [],
   "source": [
    "# stash result in a cache directory. for mouse: \n",
    "cache_dir = os.path.join(data_dir_output, mouse)\n",
    "if not os.path.exists(cache_dir):\n",
    "    os.makedirs(cache_dir)\n",
    "    \n",
    "# stash result in a cache directory. for the session, i.e, the day. \n",
    "cache_dir = os.path.join(data_dir_output+'/'+mouse, data_day)\n",
    "if not os.path.exists(cache_dir):\n",
    "    os.makedirs(cache_dir)\n",
    "    \n",
    "# stash result in a cache directory, for how many back. \n",
    "cache_dir_plt = os.path.join(data_dir_output+'/'+mouse+'/'+data_day, str(HowManyBack)+'_Back')\n",
    "if not os.path.exists(cache_dir_plt):\n",
    "    os.makedirs(cache_dir_plt)"
   ]
  },
  {
   "cell_type": "markdown",
   "metadata": {},
   "source": [
    "# Import behavior related data per trial"
   ]
  },
  {
   "cell_type": "code",
   "execution_count": 5,
   "metadata": {},
   "outputs": [],
   "source": [
    "behavior_data_trial = pd.read_excel(data_dir_input+\"/\"+mouse+\"/\"+data_day+\"/\"+mouse+\"_dataTrial_label.xlsx\")"
   ]
  },
  {
   "cell_type": "markdown",
   "metadata": {},
   "source": [
    "# Add columns to behavior data (per trial) \n",
    "This will help with the splitting into trial types."
   ]
  },
  {
   "cell_type": "code",
   "execution_count": 6,
   "metadata": {},
   "outputs": [],
   "source": [
    "behavior_data_trial[\"Date\"]= date\n",
    "behavior_data_trial[\"Mouse\"]= mouse\n",
    "behavior_data_trial=behavior_data_trial.set_index(\"nTrial\")"
   ]
  },
  {
   "cell_type": "code",
   "execution_count": 7,
   "metadata": {},
   "outputs": [],
   "source": [
    "behavior_data_trial = Nb_0.define_current_choice_direction(behavior_data_trial)"
   ]
  },
  {
   "cell_type": "code",
   "execution_count": 8,
   "metadata": {},
   "outputs": [],
   "source": [
    "behavior_data_trial = Nb_0.get_previous_rewarded_or_not(behavior_data_trial, HowManyBack)"
   ]
  },
  {
   "cell_type": "code",
   "execution_count": 9,
   "metadata": {},
   "outputs": [
    {
     "name": "stderr",
     "output_type": "stream",
     "text": [
      "/Users/gilmandelbaum/github/optogenetics_analysis/Notebook_0_helper_functions.py:92: FutureWarning: set_value is deprecated and will be removed in a future release. Please use .at[] or .iat[] accessors instead\n",
      "  df = df.set_value(row[0], ['SamePastDirection'], 1)#same\n",
      "/Users/gilmandelbaum/github/optogenetics_analysis/Notebook_0_helper_functions.py:94: FutureWarning: set_value is deprecated and will be removed in a future release. Please use .at[] or .iat[] accessors instead\n",
      "  df = df.set_value(row[0], ['SamePastDirection'], 2)#not same\n"
     ]
    }
   ],
   "source": [
    "behavior_data_trial = Nb_0.get_previous_choice_direction_same_or_not(behavior_data_trial, HowManyBack)"
   ]
  },
  {
   "cell_type": "code",
   "execution_count": 10,
   "metadata": {},
   "outputs": [],
   "source": [
    "#to drop first two blocks and last two blocks \n",
    "if drop2blocks==\"yes\":\n",
    "    behavior_data_trial = behavior_data_trial[behavior_data_trial.iBlock > 2]\n",
    "if drop2lastblocks==\"yes\":\n",
    "    lastblock = behavior_data_trial['iBlock'].values.tolist()[-1]\n",
    "    SecondToLast = lastblock-1\n",
    "    behavior_data_trial = behavior_data_trial[behavior_data_trial.iBlock<SecondToLast]"
   ]
  },
  {
   "cell_type": "code",
   "execution_count": 11,
   "metadata": {},
   "outputs": [],
   "source": [
    "root = Path(data_dir_output+\"/\"+mouse+\"/\"+data_day+'/'+str(HowManyBack)+\"_Back\")\n",
    "d = mouse+\"_\"+date+\"Notebook_0_a.pickle\" \n",
    "my_path = root / d\n",
    "my_file = open(my_path, 'wb')\n",
    "my_file = pickle.dump(behavior_data_trial, my_file)"
   ]
  }
 ],
 "metadata": {
  "celltoolbar": "Tags",
  "kernelspec": {
   "display_name": "Python 3",
   "language": "python",
   "name": "python3"
  },
  "language_info": {
   "codemirror_mode": {
    "name": "ipython",
    "version": 3
   },
   "file_extension": ".py",
   "mimetype": "text/x-python",
   "name": "python",
   "nbconvert_exporter": "python",
   "pygments_lexer": "ipython3",
   "version": "3.7.3"
  }
 },
 "nbformat": 4,
 "nbformat_minor": 2
}
