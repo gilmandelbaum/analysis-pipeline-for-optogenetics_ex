{
 "cells": [
  {
   "cell_type": "markdown",
   "metadata": {},
   "source": [
    "# Papermill Notebook for Optogenetics"
   ]
  },
  {
   "cell_type": "code",
   "execution_count": 1,
   "metadata": {},
   "outputs": [],
   "source": [
    "import timeit\n",
    "import pandas as pd\n",
    "import os \n",
    "import papermill as pm"
   ]
  },
  {
   "cell_type": "code",
   "execution_count": 2,
   "metadata": {},
   "outputs": [],
   "source": [
    "#parameters:\n",
    "data_dir_input = \"/Users/gilmandelbaum/Desktop/opto_final/OptoConsump\"\n",
    "data_dir_output = \"/Users/gilmandelbaum/Desktop/opto_final/OptoConsump_output\""
   ]
  },
  {
   "cell_type": "code",
   "execution_count": null,
   "metadata": {},
   "outputs": [],
   "source": [
    "#parameters:\n",
    "drop2blocks= 'no'\n",
    "drop2lastblocks=\"no\"\n",
    "HowManyBack = 1\n",
    "Trials_filter = 'allTrials' \n",
    "TypeOfStim='Consumption'\n",
    "Tags = ['Reward_NoReward_tag', 'ENL_tag', 'Sel_tag']"
   ]
  },
  {
   "cell_type": "code",
   "execution_count": 3,
   "metadata": {},
   "outputs": [],
   "source": [
    "#parameters:\n",
    "#Versions for notebooks:\n",
    "Nb0='a'\n",
    "Nb1= ['a','d'] \n",
    "Nb2= 'a'\n",
    "Nb3= 'a'\n",
    "Nb4= ['a','b',\"c\"]\n",
    "Nb5= 'a'\n",
    "Nb6= 'c'"
   ]
  },
  {
   "cell_type": "code",
   "execution_count": 4,
   "metadata": {},
   "outputs": [],
   "source": [
    "#parameters:\n",
    "notebook_sequence_list = [0,1, 2, 4, 5, 6]\n",
    "List_of_versions =[Nb0, Nb1, Nb2, Nb4, Nb5, Nb6]"
   ]
  },
  {
   "cell_type": "code",
   "execution_count": 5,
   "metadata": {},
   "outputs": [],
   "source": [
    "MasterSheetName= 'MasterOptoConsumption'"
   ]
  },
  {
   "cell_type": "code",
   "execution_count": 6,
   "metadata": {},
   "outputs": [],
   "source": [
    "#parameters:\n",
    "Mouse_Date_FileName = pd.read_excel(data_dir_input+'/'+MasterSheetName+'.xlsx')"
   ]
  },
  {
   "cell_type": "code",
   "execution_count": 7,
   "metadata": {},
   "outputs": [
    {
     "data": {
      "text/html": [
       "<div>\n",
       "<style scoped>\n",
       "    .dataframe tbody tr th:only-of-type {\n",
       "        vertical-align: middle;\n",
       "    }\n",
       "\n",
       "    .dataframe tbody tr th {\n",
       "        vertical-align: top;\n",
       "    }\n",
       "\n",
       "    .dataframe thead th {\n",
       "        text-align: right;\n",
       "    }\n",
       "</style>\n",
       "<table border=\"1\" class=\"dataframe\">\n",
       "  <thead>\n",
       "    <tr style=\"text-align: right;\">\n",
       "      <th></th>\n",
       "      <th>Mouse</th>\n",
       "      <th>Date</th>\n",
       "      <th>D</th>\n",
       "      <th>TypeOfStim</th>\n",
       "      <th>SideOfStim</th>\n",
       "    </tr>\n",
       "  </thead>\n",
       "  <tbody>\n",
       "    <tr>\n",
       "      <th>0</th>\n",
       "      <td>T183</td>\n",
       "      <td>190227</td>\n",
       "      <td>1</td>\n",
       "      <td>C</td>\n",
       "      <td>R</td>\n",
       "    </tr>\n",
       "    <tr>\n",
       "      <th>1</th>\n",
       "      <td>T183</td>\n",
       "      <td>190303</td>\n",
       "      <td>1</td>\n",
       "      <td>C</td>\n",
       "      <td>R</td>\n",
       "    </tr>\n",
       "    <tr>\n",
       "      <th>2</th>\n",
       "      <td>T183</td>\n",
       "      <td>190308</td>\n",
       "      <td>1</td>\n",
       "      <td>C</td>\n",
       "      <td>R</td>\n",
       "    </tr>\n",
       "    <tr>\n",
       "      <th>3</th>\n",
       "      <td>T183</td>\n",
       "      <td>190312</td>\n",
       "      <td>1</td>\n",
       "      <td>C</td>\n",
       "      <td>R</td>\n",
       "    </tr>\n",
       "    <tr>\n",
       "      <th>4</th>\n",
       "      <td>T183</td>\n",
       "      <td>190313</td>\n",
       "      <td>1</td>\n",
       "      <td>C</td>\n",
       "      <td>L</td>\n",
       "    </tr>\n",
       "    <tr>\n",
       "      <th>5</th>\n",
       "      <td>T183</td>\n",
       "      <td>190314</td>\n",
       "      <td>1</td>\n",
       "      <td>C</td>\n",
       "      <td>L</td>\n",
       "    </tr>\n",
       "    <tr>\n",
       "      <th>6</th>\n",
       "      <td>T183</td>\n",
       "      <td>190315</td>\n",
       "      <td>1</td>\n",
       "      <td>C</td>\n",
       "      <td>L</td>\n",
       "    </tr>\n",
       "    <tr>\n",
       "      <th>7</th>\n",
       "      <td>T183</td>\n",
       "      <td>190318</td>\n",
       "      <td>1</td>\n",
       "      <td>C</td>\n",
       "      <td>L</td>\n",
       "    </tr>\n",
       "    <tr>\n",
       "      <th>8</th>\n",
       "      <td>T183</td>\n",
       "      <td>190319</td>\n",
       "      <td>1</td>\n",
       "      <td>C</td>\n",
       "      <td>L</td>\n",
       "    </tr>\n",
       "  </tbody>\n",
       "</table>\n",
       "</div>"
      ],
      "text/plain": [
       "  Mouse    Date  D TypeOfStim SideOfStim\n",
       "0  T183  190227  1          C          R\n",
       "1  T183  190303  1          C          R\n",
       "2  T183  190308  1          C          R\n",
       "3  T183  190312  1          C          R\n",
       "4  T183  190313  1          C          L\n",
       "5  T183  190314  1          C          L\n",
       "6  T183  190315  1          C          L\n",
       "7  T183  190318  1          C          L\n",
       "8  T183  190319  1          C          L"
      ]
     },
     "execution_count": 7,
     "metadata": {},
     "output_type": "execute_result"
    }
   ],
   "source": [
    "Mouse_Date_FileName"
   ]
  },
  {
   "cell_type": "code",
   "execution_count": null,
   "metadata": {},
   "outputs": [],
   "source": [
    "#Mouse_Date_FileName = Mouse_Date_FileName[Mouse_Date_FileName[\"Mouse\"]==\"T183\"].reset_index()"
   ]
  },
  {
   "cell_type": "code",
   "execution_count": null,
   "metadata": {
    "scrolled": true
   },
   "outputs": [],
   "source": [
    "Mouse_Date_FileName"
   ]
  },
  {
   "cell_type": "code",
   "execution_count": 8,
   "metadata": {},
   "outputs": [],
   "source": [
    "#Make String with notebook+version sequence path\n",
    "def make_sequence_string(nb_seq, list_of_versions):\n",
    "    string=''\n",
    "    for i in range(0, len(nb_seq)):\n",
    "        nb_number = nb_seq[i]\n",
    "        string+=str(nb_number)\n",
    "        version= list_of_versions[i]\n",
    "        if len(version)==1:\n",
    "            v= version\n",
    "            string+=v\n",
    "        else:\n",
    "            for v in version:\n",
    "                string+=v\n",
    "    return string"
   ]
  },
  {
   "cell_type": "code",
   "execution_count": null,
   "metadata": {},
   "outputs": [],
   "source": [
    "seq_str = make_sequence_string(notebook_sequence_list, List_of_versions)"
   ]
  },
  {
   "cell_type": "code",
   "execution_count": null,
   "metadata": {},
   "outputs": [],
   "source": [
    "seq_str"
   ]
  },
  {
   "cell_type": "code",
   "execution_count": null,
   "metadata": {
    "scrolled": true
   },
   "outputs": [],
   "source": [
    "def run_sessions_Mice(Mouse_Date_FileName):\n",
    "    Mouse_names = Mouse_Date_FileName['Mouse'].dropna().unique()\n",
    "    mouse_s= []\n",
    "    data_day_s_mice= []\n",
    "    date_s_mice= []\n",
    "    for mouse in Mouse_names:\n",
    "        mouse_s.append(mouse)\n",
    "        data_day_s = []\n",
    "        date_s=[]\n",
    "        df_mouse = Mouse_Date_FileName[Mouse_Date_FileName['Mouse']==mouse]\n",
    "        for row in df_mouse.iterrows():\n",
    "            date = row[1]['Date']\n",
    "            mouse = row[1]['Mouse']\n",
    "            name_and_date = '20'+str(date)[:2]+'_'+str(date)[2:4]+'_'+str(date)[4:6]+'__'+mouse\n",
    "            date_ = '20'+str(date)[:2]+'_'+str(date)[2:4]+'_'+str(date)[4:6]\n",
    "            data_day_s.append(name_and_date)\n",
    "            date_s.append(date_)\n",
    "        run_sessions(data_day_s, date_s, mouse) \n",
    "    return "
   ]
  },
  {
   "cell_type": "code",
   "execution_count": null,
   "metadata": {},
   "outputs": [],
   "source": [
    "def run_sessions(data_day_s, date_s, mouse):\n",
    "\n",
    "    for s in range(0, len(date_s)):\n",
    "        start_time = timeit.default_timer()\n",
    "        data_day = data_day_s[s] #\"2019_04_22__T196\" #all the behavior data from that day. \n",
    "        date = date_s[s]#\"19_04_22\" #data \n",
    "        #folder_name = folder_name_s[s]#\"042219\" #folder name inside the mouse folder \n",
    "        p_dict = dict(mouse=mouse, \n",
    "                      drop2blocks= 'no',drop2lastblocks=\"no\",\n",
    "                      data_day=data_day, date=date,\n",
    "                      List_of_versions= List_of_versions, \n",
    "                      data_dir_input=data_dir_input, data_dir_output=data_dir_output, \n",
    "                      seq_str= seq_str, \n",
    "                      Tags=Tags, \n",
    "                      HowManyBack = HowManyBack, \n",
    "                      Nb0=Nb0, Nb1=Nb1, Nb2=Nb2, Nb3=Nb3, Nb4=Nb4, Nb5=Nb5,Nb6=Nb6,\n",
    "                      Trials_filter=Trials_filter,TypeOfStim=TypeOfStim)\n",
    "        \n",
    "        \n",
    "        fileName_str_in=''\n",
    "        fileName_str_out=''\n",
    "\n",
    "        \n",
    "        for notebook_number_i in range(0, len(notebook_sequence_list)):\n",
    "            notebook_number = notebook_sequence_list[notebook_number_i]\n",
    "            version = List_of_versions[notebook_number_i]\n",
    "            \n",
    "            fileName_str_in = fileName_str_out\n",
    "            fileName_str_out = fileName_str_out+str(notebook_number)\n",
    "\n",
    "            if len(version)>1:\n",
    "                for v in version:\n",
    "                    fileName_str_out= fileName_str_out+v\n",
    "\n",
    "                    if notebook_number in [0, 1, 2, 3, 4]:\n",
    "                        notebook_path = ''\n",
    "                    else:\n",
    "                        notebook_path = '_seq'+fileName_str_out                    \n",
    "                    \n",
    "                    if os.path.isfile(data_dir_output+\"/\"+mouse+\"/\"+data_day+'/'+str(HowManyBack)+'_Back/'+mouse+\"_\"+date+'Notebook_'+str(notebook_number)+'_'+v+notebook_path+'.pickle'):\n",
    "                        pass\n",
    "                        print(mouse+\"_\"+date+'_Notebook_'+str(notebook_number)+'_'+v+notebook_path+': This session already exists - no need to re-run ;)')\n",
    "                    else: \n",
    "                        print('Notebook_'+str(notebook_number)+'_'+v+'.ipynb is being executed')\n",
    "                        pm.execute_notebook('Notebook_'+str(notebook_number)+'_'+v+'.ipynb', 'TestOutPut.ipynb',parameters= p_dict)\n",
    "                        \n",
    "                        \n",
    "     \n",
    "            else:\n",
    "                fileName_str_out= fileName_str_out+version\n",
    "                if notebook_number in [0,1, 2, 3, 4]:\n",
    "                    notebook_path = ''\n",
    "                else:\n",
    "                    notebook_path = '_seq'+fileName_str_out                \n",
    "                \n",
    "                if os.path.isfile(data_dir_output+\"/\"+mouse+\"/\"+data_day+'/'+str(HowManyBack)+'_Back/'+mouse+\"_\"+date+'Notebook_'+str(notebook_number)+'_'+version+notebook_path+'.pickle'):\n",
    "                    pass\n",
    "                    print(mouse+\"_\"+date+'_Notebook_'+str(notebook_number)+'_'+version+notebook_path+': This session already exists - no need to re-run ;)')\n",
    "                    \n",
    "\n",
    "                else: \n",
    "                    print('Notebook_'+str(notebook_number)+'_'+version+'.ipynb is being executed')                    \n",
    "                    pm.execute_notebook('Notebook_'+str(notebook_number)+'_'+version+'.ipynb', 'TestOutPut.ipynb', parameters= p_dict)\n",
    "\n",
    "        elapsed = timeit.default_timer() - start_time\n",
    "        elapsedMin = elapsed/60\n",
    "        \n",
    "        print (elapsedMin) \n",
    "\n",
    "        \n",
    "    return"
   ]
  },
  {
   "cell_type": "code",
   "execution_count": null,
   "metadata": {
    "scrolled": true
   },
   "outputs": [],
   "source": [
    "mouse_data_date_dict =run_sessions_Mice(Mouse_Date_FileName)"
   ]
  },
  {
   "cell_type": "code",
   "execution_count": null,
   "metadata": {},
   "outputs": [],
   "source": []
  }
 ],
 "metadata": {
  "celltoolbar": "Tags",
  "kernelspec": {
   "display_name": "Python 3",
   "language": "python",
   "name": "python3"
  },
  "language_info": {
   "codemirror_mode": {
    "name": "ipython",
    "version": 3
   },
   "file_extension": ".py",
   "mimetype": "text/x-python",
   "name": "python",
   "nbconvert_exporter": "python",
   "pygments_lexer": "ipython3",
   "version": "3.7.3"
  }
 },
 "nbformat": 4,
 "nbformat_minor": 2
}
