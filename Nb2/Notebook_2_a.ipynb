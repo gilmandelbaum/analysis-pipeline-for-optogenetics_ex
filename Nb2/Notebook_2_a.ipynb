{
 "cells": [
  {
   "cell_type": "markdown",
   "metadata": {},
   "source": [
    "# Notebook 2 a: Upload data lick "
   ]
  },
  {
   "cell_type": "code",
   "execution_count": 1,
   "metadata": {
    "tags": [
     "parameters"
    ]
   },
   "outputs": [],
   "source": [
    "mouse = 'T183'\n",
    "data_day = '2019_03_14__T183'\n",
    "date = '2018_03_14'\n",
    "\n",
    "\n",
    "data_dir_input = \"/Users/gilmandelbaum/Desktop/opto_final/OptoConsump\"\n",
    "\n",
    "\n",
    "\n",
    "#data_dir_input = '/Users/gilmandelbaum/Desktop/opto'#(Rigs1-3)\n",
    "data_dir_output = '/Users/gilmandelbaum/Desktop/optoOutPut'\n",
    "\n",
    "HowManyBack=1 \n",
    "\n",
    "#TypeOfStim = 'Consumption'\n",
    "#Trials_filter= 'allTrials'\n",
    "\n",
    "drop2blocks= 'no'\n",
    "drop2lastblocks=\"no\""
   ]
  },
  {
   "cell_type": "code",
   "execution_count": 2,
   "metadata": {},
   "outputs": [],
   "source": [
    "import pandas as pd \n",
    "import numpy  as np\n",
    "from pathlib import Path\n",
    "import pickle"
   ]
  },
  {
   "cell_type": "code",
   "execution_count": 3,
   "metadata": {},
   "outputs": [],
   "source": [
    "import Notebook_2_helper_functions as Nb_2"
   ]
  },
  {
   "cell_type": "markdown",
   "metadata": {},
   "source": [
    "# import LICK DATA"
   ]
  },
  {
   "cell_type": "code",
   "execution_count": 4,
   "metadata": {
    "scrolled": true
   },
   "outputs": [],
   "source": [
    "behavior_data_lick = pd.read_excel((data_dir_input+\"/\"+mouse+\"/\"+data_day+\"/\"+mouse+ \"_dataLick_label.xlsx\"))"
   ]
  },
  {
   "cell_type": "markdown",
   "metadata": {},
   "source": [
    "# Organize data_lick"
   ]
  },
  {
   "cell_type": "code",
   "execution_count": 5,
   "metadata": {},
   "outputs": [],
   "source": [
    "if behavior_data_lick.columns.tolist() == ['iBlock', 'iTrial', 'iSpout', 'sTrial_start', 'sTrial_end', 'tState']:\n",
    "    pass\n",
    "else:\n",
    "    #Shifting the names on the columns, so each column has the right label. (the raw data has these labels shifted)\n",
    "    behavior_data_lick=behavior_data_lick.rename(columns={\"nTrial\": \"iBlock\", \"iBlock\":\"iTrial\", \"iTrial\":\"iSpout\",\"iSpout\":\"sTrial_start\", \"sTrial_start\":\"sTrial_end\", \"sTrial_end\":\"tState_new\"})\n",
    "    #I will delete the extra column\n",
    "    behavior_data_lick=behavior_data_lick.drop(\"tState\", 1)\n",
    "    behavior_data_lick=behavior_data_lick.rename(columns={\"tState_new\":\"tState\"})\n",
    "    \n",
    "#Let´s add a column to each of these data frames that will remind us from which day they were!\n",
    "behavior_data_lick[\"Date\"]= data_day\n",
    "behavior_data_lick[\"Mouse\"]= mouse\n",
    "#this is to delete the first and last rows which have no lick data        \n",
    "behavior_data_lick=behavior_data_lick[1: -1]\n",
    "#Drop everything before first trial\n",
    "behavior_data_lick= behavior_data_lick[behavior_data_lick.iBlock>0]"
   ]
  },
  {
   "cell_type": "code",
   "execution_count": 6,
   "metadata": {},
   "outputs": [],
   "source": [
    "behavior_data_lick=Nb_2.get_nTrial_DataLick_list(behavior_data_lick)"
   ]
  },
  {
   "cell_type": "code",
   "execution_count": 8,
   "metadata": {},
   "outputs": [],
   "source": [
    "#to drop first two blocks and last two blocks \n",
    "if drop2blocks==\"yes\":\n",
    "    behavior_data_lick = behavior_data_lick[behavior_data_lick.iBlock > 2]\n",
    "if drop2lastblocks==\"yes\":\n",
    "    lastblock = behavior_data_lick['iBlock'].values.tolist()[-1]\n",
    "    SecondToLast = lastblock-1\n",
    "    behavior_data_lick = behavior_data_lick[behavior_data_lick.iBlock<SecondToLast]"
   ]
  },
  {
   "cell_type": "code",
   "execution_count": 9,
   "metadata": {
    "scrolled": false
   },
   "outputs": [],
   "source": [
    "behavior_data_lick = Nb_2.tag_RealFullTrial(behavior_data_lick)"
   ]
  },
  {
   "cell_type": "code",
   "execution_count": null,
   "metadata": {},
   "outputs": [],
   "source": [
    "root = Path(data_dir_output+\"/\"+mouse+\"/\"+data_day+'/'+str(HowManyBack)+\"_Back\")\n",
    "d = mouse+\"_\"+date+\"Notebook_2_a.pickle\"\n",
    "my_path = root / d \n",
    "my_file = open(my_path, 'wb')\n",
    "my_file = pickle.dump(behavior_data_lick,my_file)"
   ]
  }
 ],
 "metadata": {
  "celltoolbar": "Tags",
  "kernelspec": {
   "display_name": "Python 3",
   "language": "python",
   "name": "python3"
  },
  "language_info": {
   "codemirror_mode": {
    "name": "ipython",
    "version": 3
   },
   "file_extension": ".py",
   "mimetype": "text/x-python",
   "name": "python",
   "nbconvert_exporter": "python",
   "pygments_lexer": "ipython3",
   "version": "3.7.3"
  }
 },
 "nbformat": 4,
 "nbformat_minor": 2
}
