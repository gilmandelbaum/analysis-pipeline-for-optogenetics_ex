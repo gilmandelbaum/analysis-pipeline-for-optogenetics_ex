{
 "cells": [
  {
   "cell_type": "markdown",
   "metadata": {},
   "source": [
    "# Papermill Notebook for Optogenetics"
   ]
  },
  {
   "cell_type": "code",
   "execution_count": 1,
   "metadata": {},
   "outputs": [],
   "source": [
    "import timeit\n",
    "import pandas as pd\n",
    "import numpy as np\n",
    "import os \n",
    "import papermill as pm\n",
    "import getpass\n",
    "import sys"
   ]
  },
  {
   "cell_type": "code",
   "execution_count": 2,
   "metadata": {},
   "outputs": [
    {
     "data": {
      "text/plain": [
       "'/anaconda3/envs/optogenetics_env/bin/python'"
      ]
     },
     "execution_count": 2,
     "metadata": {},
     "output_type": "execute_result"
    }
   ],
   "source": [
    "sys.executable"
   ]
  },
  {
   "cell_type": "code",
   "execution_count": 3,
   "metadata": {},
   "outputs": [],
   "source": [
    "import optogenetics_papermill_helper_functions as ophf "
   ]
  },
  {
   "cell_type": "markdown",
   "metadata": {},
   "source": [
    "# input and output path: (user specific)"
   ]
  },
  {
   "cell_type": "code",
   "execution_count": 4,
   "metadata": {},
   "outputs": [],
   "source": [
    "#data to be analyzed: \n",
    "data_dir_input = \"/Users/gilmandelbaum/Dropbox (HMS)/0.STRpaper/4.Optogenetics/opto_consumption_final/0.FullDataSet/OptoConsump_raw\"\n",
    "#where to save the analyzed data: \n",
    "data_dir_output = \"/Users/gilmandelbaum/Dropbox (HMS)/0.STRpaper/4.Optogenetics/opto_consumption_final/0.FullDataSet/OptoConsump_output\""
   ]
  },
  {
   "cell_type": "markdown",
   "metadata": {},
   "source": [
    "# name of xlsx sheet to import with the data set info: "
   ]
  },
  {
   "cell_type": "code",
   "execution_count": 5,
   "metadata": {},
   "outputs": [],
   "source": [
    "#this xlsx sheet should be in the data_dir_input"
   ]
  },
  {
   "cell_type": "code",
   "execution_count": 6,
   "metadata": {},
   "outputs": [],
   "source": [
    "#name of xlsx file that has the sessions we want to run: \n",
    "MasterSheetName= 'MasterOptoConsumption'"
   ]
  },
  {
   "cell_type": "code",
   "execution_count": 7,
   "metadata": {},
   "outputs": [],
   "source": [
    "#loading the xlsx file \n",
    "Mouse_Date_FileName = pd.read_excel(data_dir_input+'/'+MasterSheetName+'.xlsx') #mdf is mouse data file "
   ]
  },
  {
   "cell_type": "code",
   "execution_count": 8,
   "metadata": {
    "scrolled": false
   },
   "outputs": [
    {
     "data": {
      "text/html": [
       "<div>\n",
       "<style scoped>\n",
       "    .dataframe tbody tr th:only-of-type {\n",
       "        vertical-align: middle;\n",
       "    }\n",
       "\n",
       "    .dataframe tbody tr th {\n",
       "        vertical-align: top;\n",
       "    }\n",
       "\n",
       "    .dataframe thead th {\n",
       "        text-align: right;\n",
       "    }\n",
       "</style>\n",
       "<table border=\"1\" class=\"dataframe\">\n",
       "  <thead>\n",
       "    <tr style=\"text-align: right;\">\n",
       "      <th></th>\n",
       "      <th>Mouse</th>\n",
       "      <th>Date</th>\n",
       "      <th>D</th>\n",
       "      <th>TypeOfStim</th>\n",
       "      <th>SideOfStim</th>\n",
       "    </tr>\n",
       "  </thead>\n",
       "  <tbody>\n",
       "    <tr>\n",
       "      <th>0</th>\n",
       "      <td>T114</td>\n",
       "      <td>171124</td>\n",
       "      <td>2</td>\n",
       "      <td>C</td>\n",
       "      <td>R</td>\n",
       "    </tr>\n",
       "    <tr>\n",
       "      <th>1</th>\n",
       "      <td>T114</td>\n",
       "      <td>171126</td>\n",
       "      <td>2</td>\n",
       "      <td>C</td>\n",
       "      <td>R</td>\n",
       "    </tr>\n",
       "    <tr>\n",
       "      <th>2</th>\n",
       "      <td>T114</td>\n",
       "      <td>171129</td>\n",
       "      <td>2</td>\n",
       "      <td>C</td>\n",
       "      <td>L</td>\n",
       "    </tr>\n",
       "    <tr>\n",
       "      <th>3</th>\n",
       "      <td>T114</td>\n",
       "      <td>171201</td>\n",
       "      <td>2</td>\n",
       "      <td>C</td>\n",
       "      <td>L</td>\n",
       "    </tr>\n",
       "    <tr>\n",
       "      <th>4</th>\n",
       "      <td>T114</td>\n",
       "      <td>171203</td>\n",
       "      <td>2</td>\n",
       "      <td>C</td>\n",
       "      <td>L</td>\n",
       "    </tr>\n",
       "    <tr>\n",
       "      <th>...</th>\n",
       "      <td>...</td>\n",
       "      <td>...</td>\n",
       "      <td>...</td>\n",
       "      <td>...</td>\n",
       "      <td>...</td>\n",
       "    </tr>\n",
       "    <tr>\n",
       "      <th>126</th>\n",
       "      <td>T253</td>\n",
       "      <td>191016</td>\n",
       "      <td>1</td>\n",
       "      <td>C</td>\n",
       "      <td>L</td>\n",
       "    </tr>\n",
       "    <tr>\n",
       "      <th>127</th>\n",
       "      <td>T253</td>\n",
       "      <td>191018</td>\n",
       "      <td>1</td>\n",
       "      <td>C</td>\n",
       "      <td>L</td>\n",
       "    </tr>\n",
       "    <tr>\n",
       "      <th>128</th>\n",
       "      <td>T253</td>\n",
       "      <td>191021</td>\n",
       "      <td>1</td>\n",
       "      <td>C</td>\n",
       "      <td>L</td>\n",
       "    </tr>\n",
       "    <tr>\n",
       "      <th>129</th>\n",
       "      <td>T253</td>\n",
       "      <td>191023</td>\n",
       "      <td>1</td>\n",
       "      <td>C</td>\n",
       "      <td>R</td>\n",
       "    </tr>\n",
       "    <tr>\n",
       "      <th>130</th>\n",
       "      <td>T253</td>\n",
       "      <td>191025</td>\n",
       "      <td>1</td>\n",
       "      <td>C</td>\n",
       "      <td>R</td>\n",
       "    </tr>\n",
       "  </tbody>\n",
       "</table>\n",
       "<p>131 rows × 5 columns</p>\n",
       "</div>"
      ],
      "text/plain": [
       "    Mouse    Date  D TypeOfStim SideOfStim\n",
       "0    T114  171124  2          C          R\n",
       "1    T114  171126  2          C          R\n",
       "2    T114  171129  2          C          L\n",
       "3    T114  171201  2          C          L\n",
       "4    T114  171203  2          C          L\n",
       "..    ...     ... ..        ...        ...\n",
       "126  T253  191016  1          C          L\n",
       "127  T253  191018  1          C          L\n",
       "128  T253  191021  1          C          L\n",
       "129  T253  191023  1          C          R\n",
       "130  T253  191025  1          C          R\n",
       "\n",
       "[131 rows x 5 columns]"
      ]
     },
     "execution_count": 8,
     "metadata": {},
     "output_type": "execute_result"
    }
   ],
   "source": [
    "Mouse_Date_FileName"
   ]
  },
  {
   "cell_type": "markdown",
   "metadata": {},
   "source": [
    "# use this if running the notebooks from local github folder"
   ]
  },
  {
   "cell_type": "markdown",
   "metadata": {},
   "source": [
    "### if not - define a path to where the repository is at"
   ]
  },
  {
   "cell_type": "code",
   "execution_count": 9,
   "metadata": {},
   "outputs": [
    {
     "name": "stdout",
     "output_type": "stream",
     "text": [
      "gilmandelbaum\n"
     ]
    }
   ],
   "source": [
    "#add the github path that will run the notebooks: \n",
    "username = getpass.getuser() # gets the username from the current comp \n",
    "print (username)"
   ]
  },
  {
   "cell_type": "code",
   "execution_count": 10,
   "metadata": {},
   "outputs": [],
   "source": [
    "sys.path.append('/Users/{:}/github/analysis-pipeline-for-optogenetics_ex/'.format(username))"
   ]
  },
  {
   "cell_type": "code",
   "execution_count": 11,
   "metadata": {},
   "outputs": [],
   "source": [
    "nb_path = sys.path[-1]"
   ]
  },
  {
   "cell_type": "code",
   "execution_count": 12,
   "metadata": {},
   "outputs": [
    {
     "data": {
      "text/plain": [
       "'/Users/gilmandelbaum/github/analysis-pipeline-for-optogenetics_ex/'"
      ]
     },
     "execution_count": 12,
     "metadata": {},
     "output_type": "execute_result"
    }
   ],
   "source": [
    "nb_path"
   ]
  },
  {
   "cell_type": "markdown",
   "metadata": {},
   "source": [
    "# parameters to change:"
   ]
  },
  {
   "cell_type": "code",
   "execution_count": 13,
   "metadata": {},
   "outputs": [],
   "source": [
    "#analysis parameters for whole data set:  \n",
    "drop2blocks= 'no'\n",
    "drop2lastblocks=\"no\"\n",
    "HowManyBack = 1\n",
    "Trials_filter = 'allTrials' \n",
    "TypeOfStim='Consumption'\n",
    "Tags = ['Reward_NoReward_tag', 'ENL_tag', 'Sel_tag']"
   ]
  },
  {
   "cell_type": "markdown",
   "metadata": {},
   "source": [
    "# parameters to change:"
   ]
  },
  {
   "cell_type": "code",
   "execution_count": 14,
   "metadata": {},
   "outputs": [],
   "source": [
    "#Versions for notebooks to run:\n",
    "#notebook 1 and notebook 4 are built to run more than 1 notebook\n",
    "Nb0='a'\n",
    "Nb1= ['a','e'] \n",
    "Nb2= 'a'\n",
    "#Nb3= 'a'\n",
    "Nb4= ['a','b',\"c\"]\n",
    "Nb5= 'a'\n",
    "Nb6= 'd'"
   ]
  },
  {
   "cell_type": "code",
   "execution_count": 15,
   "metadata": {},
   "outputs": [],
   "source": [
    "#make a list of versions: \n",
    "#List_of_versions =[Nb0,Nb1,Nb2,Nb3,Nb4,Nb5,Nb6]\n",
    "#List_of_versions_str =[\"Nb0\",\"Nb1\",\"Nb2\",\"Nb3\",\"Nb4\",\"Nb5\",\"Nb6\"]\n",
    "#notebook_sequence_list = [0,1,2,3,4,5,6]"
   ]
  },
  {
   "cell_type": "code",
   "execution_count": 16,
   "metadata": {},
   "outputs": [],
   "source": [
    "List_of_versions =[Nb0,Nb1,Nb2,Nb4,Nb5,Nb6]\n",
    "List_of_versions_str =[\"Nb0\",\"Nb1\",\"Nb2\",\"Nb4\",\"Nb5\",\"Nb6\"]\n",
    "notebook_sequence_list = [0,1,2,4,5,6]"
   ]
  },
  {
   "cell_type": "code",
   "execution_count": 17,
   "metadata": {},
   "outputs": [
    {
     "data": {
      "text/plain": [
       "['Nb0_a',\n",
       " 'Nb1_a',\n",
       " 'Nb1_e',\n",
       " 'Nb2_a',\n",
       " 'Nb4_a',\n",
       " 'Nb4_b',\n",
       " 'Nb4_c',\n",
       " 'Nb5_a',\n",
       " 'Nb6_d']"
      ]
     },
     "execution_count": 17,
     "metadata": {},
     "output_type": "execute_result"
    }
   ],
   "source": [
    "nb_list = ophf.make_nb_list(List_of_versions,List_of_versions_str)\n",
    "nb_list"
   ]
  },
  {
   "cell_type": "code",
   "execution_count": 18,
   "metadata": {},
   "outputs": [
    {
     "name": "stdout",
     "output_type": "stream",
     "text": [
      "seq0a1ae2a4abc5a6d will be used\n"
     ]
    }
   ],
   "source": [
    "seq_str = ophf.make_sequence_string(notebook_sequence_list, List_of_versions)"
   ]
  },
  {
   "cell_type": "code",
   "execution_count": 19,
   "metadata": {},
   "outputs": [],
   "source": [
    "#dict_for_pm = dict(data_dir_input=data_dir_input,\n",
    "                   #data_dir_output=data_dir_output,\n",
    "                   #drop2blocks= drop2blocks,\n",
    "                   #drop2lastblocks=drop2blocks,\n",
    "                   #seq_str= seq_str, \n",
    "                   #Tags=Tags, \n",
    "                   #HowManyBack = HowManyBack, \n",
    "                   #Nb0=Nb0, Nb1=Nb1, Nb2=Nb2, Nb3=Nb3, Nb4=Nb4, Nb5=Nb5,Nb6=Nb6,\n",
    "                   #Trials_filter=Trials_filter,\n",
    "                   #TypeOfStim=TypeOfStim)"
   ]
  },
  {
   "cell_type": "markdown",
   "metadata": {},
   "source": [
    "# run the cell below (no need to make any changes)"
   ]
  },
  {
   "cell_type": "code",
   "execution_count": 20,
   "metadata": {},
   "outputs": [],
   "source": [
    "#parameters that were defined above and will carry on for the whole analysis. \n",
    "dict_for_pm = dict(data_dir_input=data_dir_input,\n",
    "                   data_dir_output=data_dir_output,\n",
    "                   drop2blocks= drop2blocks,\n",
    "                   drop2lastblocks=drop2blocks,\n",
    "                   seq_str= seq_str, \n",
    "                   Tags=Tags, \n",
    "                   HowManyBack = HowManyBack, \n",
    "                   Nb0=Nb0, Nb1=Nb1, Nb2=Nb2,Nb4=Nb4, Nb5=Nb5,Nb6=Nb6,\n",
    "                   Trials_filter=Trials_filter,\n",
    "                   TypeOfStim=TypeOfStim)"
   ]
  },
  {
   "cell_type": "code",
   "execution_count": null,
   "metadata": {},
   "outputs": [],
   "source": []
  },
  {
   "cell_type": "code",
   "execution_count": 21,
   "metadata": {
    "scrolled": true
   },
   "outputs": [
    {
     "name": "stdout",
     "output_type": "stream",
     "text": [
      "T114_2017_11_24_Notebook_0_a: This session already exists - no need to re-run ;)\n",
      "T114_2017_11_24_Notebook_1_a: This session already exists - no need to re-run ;)\n",
      "T114_2017_11_24_Notebook_1_e: This session already exists - no need to re-run ;)\n",
      "T114_2017_11_24_Notebook_2_a: This session already exists - no need to re-run ;)\n",
      "T114_2017_11_24_Notebook_4_a: This session already exists - no need to re-run ;)\n",
      "T114_2017_11_24_Notebook_4_b: This session already exists - no need to re-run ;)\n",
      "T114_2017_11_24_Notebook_4_c: This session already exists - no need to re-run ;)\n",
      "T114_2017_11_24_Notebook_5_a_seq0a1ae2a4abc5a: This session already exists - no need to re-run ;)\n",
      "T114_2017_11_24_Notebook_6_d_seq0a1ae2a4abc5a6d: This session already exists - no need to re-run ;)\n",
      "T114_2017_11_26_Notebook_0_a: This session already exists - no need to re-run ;)\n",
      "T114_2017_11_26_Notebook_1_a: This session already exists - no need to re-run ;)\n",
      "T114_2017_11_26_Notebook_1_e: This session already exists - no need to re-run ;)\n",
      "T114_2017_11_26_Notebook_2_a: This session already exists - no need to re-run ;)\n",
      "T114_2017_11_26_Notebook_4_a: This session already exists - no need to re-run ;)\n",
      "T114_2017_11_26_Notebook_4_b: This session already exists - no need to re-run ;)\n",
      "T114_2017_11_26_Notebook_4_c: This session already exists - no need to re-run ;)\n",
      "T114_2017_11_26_Notebook_5_a_seq0a1ae2a4abc5a: This session already exists - no need to re-run ;)\n",
      "T114_2017_11_26_Notebook_6_d_seq0a1ae2a4abc5a6d: This session already exists - no need to re-run ;)\n",
      "T114_2017_11_29_Notebook_0_a: This session already exists - no need to re-run ;)\n",
      "T114_2017_11_29_Notebook_1_a: This session already exists - no need to re-run ;)\n",
      "T114_2017_11_29_Notebook_1_e: This session already exists - no need to re-run ;)\n",
      "T114_2017_11_29_Notebook_2_a: This session already exists - no need to re-run ;)\n",
      "T114_2017_11_29_Notebook_4_a: This session already exists - no need to re-run ;)\n",
      "T114_2017_11_29_Notebook_4_b: This session already exists - no need to re-run ;)\n",
      "T114_2017_11_29_Notebook_4_c: This session already exists - no need to re-run ;)\n",
      "T114_2017_11_29_Notebook_5_a_seq0a1ae2a4abc5a: This session already exists - no need to re-run ;)\n",
      "T114_2017_11_29_Notebook_6_d_seq0a1ae2a4abc5a6d: This session already exists - no need to re-run ;)\n",
      "T114_2017_12_01_Notebook_0_a: This session already exists - no need to re-run ;)\n",
      "T114_2017_12_01_Notebook_1_a: This session already exists - no need to re-run ;)\n",
      "T114_2017_12_01_Notebook_1_e: This session already exists - no need to re-run ;)\n",
      "T114_2017_12_01_Notebook_2_a: This session already exists - no need to re-run ;)\n",
      "T114_2017_12_01_Notebook_4_a: This session already exists - no need to re-run ;)\n",
      "T114_2017_12_01_Notebook_4_b: This session already exists - no need to re-run ;)\n",
      "T114_2017_12_01_Notebook_4_c: This session already exists - no need to re-run ;)\n",
      "T114_2017_12_01_Notebook_5_a_seq0a1ae2a4abc5a: This session already exists - no need to re-run ;)\n",
      "T114_2017_12_01_Notebook_6_d_seq0a1ae2a4abc5a6d: This session already exists - no need to re-run ;)\n",
      "T114_2017_12_03_Notebook_0_a: This session already exists - no need to re-run ;)\n",
      "T114_2017_12_03_Notebook_1_a: This session already exists - no need to re-run ;)\n",
      "T114_2017_12_03_Notebook_1_e: This session already exists - no need to re-run ;)\n",
      "T114_2017_12_03_Notebook_2_a: This session already exists - no need to re-run ;)\n",
      "T114_2017_12_03_Notebook_4_a: This session already exists - no need to re-run ;)\n",
      "T114_2017_12_03_Notebook_4_b: This session already exists - no need to re-run ;)\n",
      "T114_2017_12_03_Notebook_4_c: This session already exists - no need to re-run ;)\n",
      "T114_2017_12_03_Notebook_5_a_seq0a1ae2a4abc5a: This session already exists - no need to re-run ;)\n",
      "T114_2017_12_03_Notebook_6_d_seq0a1ae2a4abc5a6d: This session already exists - no need to re-run ;)\n",
      "T114_2017_12_05_Notebook_0_a: This session already exists - no need to re-run ;)\n",
      "T114_2017_12_05_Notebook_1_a: This session already exists - no need to re-run ;)\n",
      "T114_2017_12_05_Notebook_1_e: This session already exists - no need to re-run ;)\n",
      "T114_2017_12_05_Notebook_2_a: This session already exists - no need to re-run ;)\n",
      "T114_2017_12_05_Notebook_4_a: This session already exists - no need to re-run ;)\n",
      "T114_2017_12_05_Notebook_4_b: This session already exists - no need to re-run ;)\n",
      "T114_2017_12_05_Notebook_4_c: This session already exists - no need to re-run ;)\n",
      "T114_2017_12_05_Notebook_5_a_seq0a1ae2a4abc5a: This session already exists - no need to re-run ;)\n",
      "T114_2017_12_05_Notebook_6_d_seq0a1ae2a4abc5a6d: This session already exists - no need to re-run ;)\n",
      "T114_2017_12_11_Notebook_0_a: This session already exists - no need to re-run ;)\n",
      "T114_2017_12_11_Notebook_1_a: This session already exists - no need to re-run ;)\n",
      "T114_2017_12_11_Notebook_1_e: This session already exists - no need to re-run ;)\n",
      "T114_2017_12_11_Notebook_2_a: This session already exists - no need to re-run ;)\n",
      "T114_2017_12_11_Notebook_4_a: This session already exists - no need to re-run ;)\n",
      "T114_2017_12_11_Notebook_4_b: This session already exists - no need to re-run ;)\n",
      "T114_2017_12_11_Notebook_4_c: This session already exists - no need to re-run ;)\n",
      "T114_2017_12_11_Notebook_5_a_seq0a1ae2a4abc5a: This session already exists - no need to re-run ;)\n",
      "T114_2017_12_11_Notebook_6_d_seq0a1ae2a4abc5a6d: This session already exists - no need to re-run ;)\n",
      "T115_2017_11_24_Notebook_0_a: This session already exists - no need to re-run ;)\n",
      "T115_2017_11_24_Notebook_1_a: This session already exists - no need to re-run ;)\n",
      "T115_2017_11_24_Notebook_1_e: This session already exists - no need to re-run ;)\n",
      "T115_2017_11_24_Notebook_2_a: This session already exists - no need to re-run ;)\n",
      "T115_2017_11_24_Notebook_4_a: This session already exists - no need to re-run ;)\n",
      "T115_2017_11_24_Notebook_4_b: This session already exists - no need to re-run ;)\n",
      "T115_2017_11_24_Notebook_4_c: This session already exists - no need to re-run ;)\n",
      "T115_2017_11_24_Notebook_5_a_seq0a1ae2a4abc5a: This session already exists - no need to re-run ;)\n",
      "T115_2017_11_24_Notebook_6_d_seq0a1ae2a4abc5a6d: This session already exists - no need to re-run ;)\n",
      "T115_2017_11_26_Notebook_0_a: This session already exists - no need to re-run ;)\n",
      "T115_2017_11_26_Notebook_1_a: This session already exists - no need to re-run ;)\n",
      "T115_2017_11_26_Notebook_1_e: This session already exists - no need to re-run ;)\n",
      "T115_2017_11_26_Notebook_2_a: This session already exists - no need to re-run ;)\n",
      "T115_2017_11_26_Notebook_4_a: This session already exists - no need to re-run ;)\n",
      "T115_2017_11_26_Notebook_4_b: This session already exists - no need to re-run ;)\n",
      "T115_2017_11_26_Notebook_4_c: This session already exists - no need to re-run ;)\n",
      "T115_2017_11_26_Notebook_5_a_seq0a1ae2a4abc5a: This session already exists - no need to re-run ;)\n",
      "T115_2017_11_26_Notebook_6_d_seq0a1ae2a4abc5a6d: This session already exists - no need to re-run ;)\n",
      "T115_2017_11_29_Notebook_0_a: This session already exists - no need to re-run ;)\n",
      "T115_2017_11_29_Notebook_1_a: This session already exists - no need to re-run ;)\n",
      "T115_2017_11_29_Notebook_1_e: This session already exists - no need to re-run ;)\n",
      "T115_2017_11_29_Notebook_2_a: This session already exists - no need to re-run ;)\n",
      "T115_2017_11_29_Notebook_4_a: This session already exists - no need to re-run ;)\n",
      "T115_2017_11_29_Notebook_4_b: This session already exists - no need to re-run ;)\n",
      "T115_2017_11_29_Notebook_4_c: This session already exists - no need to re-run ;)\n",
      "T115_2017_11_29_Notebook_5_a_seq0a1ae2a4abc5a: This session already exists - no need to re-run ;)\n",
      "T115_2017_11_29_Notebook_6_d_seq0a1ae2a4abc5a6d: This session already exists - no need to re-run ;)\n",
      "T115_2017_12_01_Notebook_0_a: This session already exists - no need to re-run ;)\n",
      "T115_2017_12_01_Notebook_1_a: This session already exists - no need to re-run ;)\n",
      "T115_2017_12_01_Notebook_1_e: This session already exists - no need to re-run ;)\n",
      "T115_2017_12_01_Notebook_2_a: This session already exists - no need to re-run ;)\n",
      "T115_2017_12_01_Notebook_4_a: This session already exists - no need to re-run ;)\n",
      "T115_2017_12_01_Notebook_4_b: This session already exists - no need to re-run ;)\n",
      "T115_2017_12_01_Notebook_4_c: This session already exists - no need to re-run ;)\n",
      "T115_2017_12_01_Notebook_5_a_seq0a1ae2a4abc5a: This session already exists - no need to re-run ;)\n",
      "Notebook_6_d.ipynb is being executed\n"
     ]
    },
    {
     "data": {
      "application/vnd.jupyter.widget-view+json": {
       "model_id": "86b1e560e7d44d10b4bd1e2a1bc50187",
       "version_major": 2,
       "version_minor": 0
      },
      "text/plain": [
       "HBox(children=(FloatProgress(value=0.0, description='Executing', max=14.0, style=ProgressStyle(description_wid…"
      ]
     },
     "metadata": {},
     "output_type": "display_data"
    },
    {
     "name": "stdout",
     "output_type": "stream",
     "text": [
      "\n",
      "T115_2017_12_03_Notebook_0_a: This session already exists - no need to re-run ;)\n",
      "T115_2017_12_03_Notebook_1_a: This session already exists - no need to re-run ;)\n",
      "T115_2017_12_03_Notebook_1_e: This session already exists - no need to re-run ;)\n",
      "T115_2017_12_03_Notebook_2_a: This session already exists - no need to re-run ;)\n",
      "T115_2017_12_03_Notebook_4_a: This session already exists - no need to re-run ;)\n",
      "T115_2017_12_03_Notebook_4_b: This session already exists - no need to re-run ;)\n",
      "T115_2017_12_03_Notebook_4_c: This session already exists - no need to re-run ;)\n",
      "T115_2017_12_03_Notebook_5_a_seq0a1ae2a4abc5a: This session already exists - no need to re-run ;)\n",
      "T115_2017_12_03_Notebook_6_d_seq0a1ae2a4abc5a6d: This session already exists - no need to re-run ;)\n",
      "T115_2017_12_05_Notebook_0_a: This session already exists - no need to re-run ;)\n",
      "T115_2017_12_05_Notebook_1_a: This session already exists - no need to re-run ;)\n",
      "T115_2017_12_05_Notebook_1_e: This session already exists - no need to re-run ;)\n",
      "T115_2017_12_05_Notebook_2_a: This session already exists - no need to re-run ;)\n",
      "T115_2017_12_05_Notebook_4_a: This session already exists - no need to re-run ;)\n",
      "T115_2017_12_05_Notebook_4_b: This session already exists - no need to re-run ;)\n",
      "T115_2017_12_05_Notebook_4_c: This session already exists - no need to re-run ;)\n",
      "T115_2017_12_05_Notebook_5_a_seq0a1ae2a4abc5a: This session already exists - no need to re-run ;)\n",
      "T115_2017_12_05_Notebook_6_d_seq0a1ae2a4abc5a6d: This session already exists - no need to re-run ;)\n",
      "T115_2017_12_07_Notebook_0_a: This session already exists - no need to re-run ;)\n",
      "T115_2017_12_07_Notebook_1_a: This session already exists - no need to re-run ;)\n",
      "T115_2017_12_07_Notebook_1_e: This session already exists - no need to re-run ;)\n",
      "T115_2017_12_07_Notebook_2_a: This session already exists - no need to re-run ;)\n",
      "T115_2017_12_07_Notebook_4_a: This session already exists - no need to re-run ;)\n",
      "T115_2017_12_07_Notebook_4_b: This session already exists - no need to re-run ;)\n",
      "T115_2017_12_07_Notebook_4_c: This session already exists - no need to re-run ;)\n",
      "T115_2017_12_07_Notebook_5_a_seq0a1ae2a4abc5a: This session already exists - no need to re-run ;)\n",
      "T115_2017_12_07_Notebook_6_d_seq0a1ae2a4abc5a6d: This session already exists - no need to re-run ;)\n",
      "T115_2017_12_11_Notebook_0_a: This session already exists - no need to re-run ;)\n",
      "T115_2017_12_11_Notebook_1_a: This session already exists - no need to re-run ;)\n",
      "T115_2017_12_11_Notebook_1_e: This session already exists - no need to re-run ;)\n",
      "T115_2017_12_11_Notebook_2_a: This session already exists - no need to re-run ;)\n",
      "T115_2017_12_11_Notebook_4_a: This session already exists - no need to re-run ;)\n",
      "T115_2017_12_11_Notebook_4_b: This session already exists - no need to re-run ;)\n",
      "T115_2017_12_11_Notebook_4_c: This session already exists - no need to re-run ;)\n",
      "T115_2017_12_11_Notebook_5_a_seq0a1ae2a4abc5a: This session already exists - no need to re-run ;)\n",
      "T115_2017_12_11_Notebook_6_d_seq0a1ae2a4abc5a6d: This session already exists - no need to re-run ;)\n",
      "T118_2018_01_11_Notebook_0_a: This session already exists - no need to re-run ;)\n",
      "T118_2018_01_11_Notebook_1_a: This session already exists - no need to re-run ;)\n",
      "T118_2018_01_11_Notebook_1_e: This session already exists - no need to re-run ;)\n",
      "T118_2018_01_11_Notebook_2_a: This session already exists - no need to re-run ;)\n",
      "T118_2018_01_11_Notebook_4_a: This session already exists - no need to re-run ;)\n",
      "T118_2018_01_11_Notebook_4_b: This session already exists - no need to re-run ;)\n",
      "T118_2018_01_11_Notebook_4_c: This session already exists - no need to re-run ;)\n",
      "T118_2018_01_11_Notebook_5_a_seq0a1ae2a4abc5a: This session already exists - no need to re-run ;)\n",
      "T118_2018_01_11_Notebook_6_d_seq0a1ae2a4abc5a6d: This session already exists - no need to re-run ;)\n",
      "T118_2018_01_12_Notebook_0_a: This session already exists - no need to re-run ;)\n",
      "T118_2018_01_12_Notebook_1_a: This session already exists - no need to re-run ;)\n",
      "T118_2018_01_12_Notebook_1_e: This session already exists - no need to re-run ;)\n",
      "T118_2018_01_12_Notebook_2_a: This session already exists - no need to re-run ;)\n",
      "T118_2018_01_12_Notebook_4_a: This session already exists - no need to re-run ;)\n",
      "T118_2018_01_12_Notebook_4_b: This session already exists - no need to re-run ;)\n",
      "T118_2018_01_12_Notebook_4_c: This session already exists - no need to re-run ;)\n",
      "T118_2018_01_12_Notebook_5_a_seq0a1ae2a4abc5a: This session already exists - no need to re-run ;)\n",
      "T118_2018_01_12_Notebook_6_d_seq0a1ae2a4abc5a6d: This session already exists - no need to re-run ;)\n",
      "T118_2018_01_15_Notebook_0_a: This session already exists - no need to re-run ;)\n",
      "T118_2018_01_15_Notebook_1_a: This session already exists - no need to re-run ;)\n",
      "T118_2018_01_15_Notebook_1_e: This session already exists - no need to re-run ;)\n",
      "T118_2018_01_15_Notebook_2_a: This session already exists - no need to re-run ;)\n",
      "T118_2018_01_15_Notebook_4_a: This session already exists - no need to re-run ;)\n",
      "T118_2018_01_15_Notebook_4_b: This session already exists - no need to re-run ;)\n",
      "T118_2018_01_15_Notebook_4_c: This session already exists - no need to re-run ;)\n",
      "T118_2018_01_15_Notebook_5_a_seq0a1ae2a4abc5a: This session already exists - no need to re-run ;)\n",
      "T118_2018_01_15_Notebook_6_d_seq0a1ae2a4abc5a6d: This session already exists - no need to re-run ;)\n",
      "T118_2018_01_16_Notebook_0_a: This session already exists - no need to re-run ;)\n",
      "T118_2018_01_16_Notebook_1_a: This session already exists - no need to re-run ;)\n",
      "T118_2018_01_16_Notebook_1_e: This session already exists - no need to re-run ;)\n",
      "T118_2018_01_16_Notebook_2_a: This session already exists - no need to re-run ;)\n",
      "T118_2018_01_16_Notebook_4_a: This session already exists - no need to re-run ;)\n",
      "T118_2018_01_16_Notebook_4_b: This session already exists - no need to re-run ;)\n",
      "T118_2018_01_16_Notebook_4_c: This session already exists - no need to re-run ;)\n",
      "T118_2018_01_16_Notebook_5_a_seq0a1ae2a4abc5a: This session already exists - no need to re-run ;)\n",
      "Notebook_6_d.ipynb is being executed\n"
     ]
    },
    {
     "data": {
      "application/vnd.jupyter.widget-view+json": {
       "model_id": "8df86e1c4b924e85a4cabaee165e51f1",
       "version_major": 2,
       "version_minor": 0
      },
      "text/plain": [
       "HBox(children=(FloatProgress(value=0.0, description='Executing', max=14.0, style=ProgressStyle(description_wid…"
      ]
     },
     "metadata": {},
     "output_type": "display_data"
    },
    {
     "name": "stdout",
     "output_type": "stream",
     "text": [
      "\n",
      "T118_2018_01_17_Notebook_0_a: This session already exists - no need to re-run ;)\n",
      "T118_2018_01_17_Notebook_1_a: This session already exists - no need to re-run ;)\n",
      "T118_2018_01_17_Notebook_1_e: This session already exists - no need to re-run ;)\n",
      "T118_2018_01_17_Notebook_2_a: This session already exists - no need to re-run ;)\n",
      "T118_2018_01_17_Notebook_4_a: This session already exists - no need to re-run ;)\n",
      "T118_2018_01_17_Notebook_4_b: This session already exists - no need to re-run ;)\n",
      "T118_2018_01_17_Notebook_4_c: This session already exists - no need to re-run ;)\n",
      "T118_2018_01_17_Notebook_5_a_seq0a1ae2a4abc5a: This session already exists - no need to re-run ;)\n",
      "Notebook_6_d.ipynb is being executed\n"
     ]
    },
    {
     "data": {
      "application/vnd.jupyter.widget-view+json": {
       "model_id": "9d7ce53015a04c8d9f37c400d0380f65",
       "version_major": 2,
       "version_minor": 0
      },
      "text/plain": [
       "HBox(children=(FloatProgress(value=0.0, description='Executing', max=14.0, style=ProgressStyle(description_wid…"
      ]
     },
     "metadata": {},
     "output_type": "display_data"
    },
    {
     "name": "stdout",
     "output_type": "stream",
     "text": [
      "\n",
      "T118_2018_01_18_Notebook_0_a: This session already exists - no need to re-run ;)\n",
      "T118_2018_01_18_Notebook_1_a: This session already exists - no need to re-run ;)\n",
      "T118_2018_01_18_Notebook_1_e: This session already exists - no need to re-run ;)\n",
      "T118_2018_01_18_Notebook_2_a: This session already exists - no need to re-run ;)\n",
      "T118_2018_01_18_Notebook_4_a: This session already exists - no need to re-run ;)\n",
      "T118_2018_01_18_Notebook_4_b: This session already exists - no need to re-run ;)\n",
      "T118_2018_01_18_Notebook_4_c: This session already exists - no need to re-run ;)\n",
      "T118_2018_01_18_Notebook_5_a_seq0a1ae2a4abc5a: This session already exists - no need to re-run ;)\n",
      "Notebook_6_d.ipynb is being executed\n"
     ]
    },
    {
     "data": {
      "application/vnd.jupyter.widget-view+json": {
       "model_id": "81685c89788441d38dbd25c2cb360887",
       "version_major": 2,
       "version_minor": 0
      },
      "text/plain": [
       "HBox(children=(FloatProgress(value=0.0, description='Executing', max=14.0, style=ProgressStyle(description_wid…"
      ]
     },
     "metadata": {},
     "output_type": "display_data"
    },
    {
     "name": "stdout",
     "output_type": "stream",
     "text": [
      "\n",
      "T118_2018_01_24_Notebook_0_a: This session already exists - no need to re-run ;)\n",
      "T118_2018_01_24_Notebook_1_a: This session already exists - no need to re-run ;)\n",
      "T118_2018_01_24_Notebook_1_e: This session already exists - no need to re-run ;)\n",
      "T118_2018_01_24_Notebook_2_a: This session already exists - no need to re-run ;)\n",
      "T118_2018_01_24_Notebook_4_a: This session already exists - no need to re-run ;)\n",
      "T118_2018_01_24_Notebook_4_b: This session already exists - no need to re-run ;)\n",
      "T118_2018_01_24_Notebook_4_c: This session already exists - no need to re-run ;)\n",
      "T118_2018_01_24_Notebook_5_a_seq0a1ae2a4abc5a: This session already exists - no need to re-run ;)\n",
      "Notebook_6_d.ipynb is being executed\n"
     ]
    },
    {
     "data": {
      "application/vnd.jupyter.widget-view+json": {
       "model_id": "87926a6f493f410db2253267ed6fd758",
       "version_major": 2,
       "version_minor": 0
      },
      "text/plain": [
       "HBox(children=(FloatProgress(value=0.0, description='Executing', max=14.0, style=ProgressStyle(description_wid…"
      ]
     },
     "metadata": {},
     "output_type": "display_data"
    },
    {
     "name": "stdout",
     "output_type": "stream",
     "text": [
      "\n",
      "T118_2018_01_25_Notebook_0_a: This session already exists - no need to re-run ;)\n",
      "T118_2018_01_25_Notebook_1_a: This session already exists - no need to re-run ;)\n",
      "T118_2018_01_25_Notebook_1_e: This session already exists - no need to re-run ;)\n",
      "T118_2018_01_25_Notebook_2_a: This session already exists - no need to re-run ;)\n",
      "T118_2018_01_25_Notebook_4_a: This session already exists - no need to re-run ;)\n",
      "T118_2018_01_25_Notebook_4_b: This session already exists - no need to re-run ;)\n",
      "T118_2018_01_25_Notebook_4_c: This session already exists - no need to re-run ;)\n",
      "T118_2018_01_25_Notebook_5_a_seq0a1ae2a4abc5a: This session already exists - no need to re-run ;)\n",
      "Notebook_6_d.ipynb is being executed\n"
     ]
    },
    {
     "data": {
      "application/vnd.jupyter.widget-view+json": {
       "model_id": "1e55dba437914fb2b03963f1964df847",
       "version_major": 2,
       "version_minor": 0
      },
      "text/plain": [
       "HBox(children=(FloatProgress(value=0.0, description='Executing', max=14.0, style=ProgressStyle(description_wid…"
      ]
     },
     "metadata": {},
     "output_type": "display_data"
    },
    {
     "name": "stdout",
     "output_type": "stream",
     "text": [
      "\n",
      "T118_2018_01_26_Notebook_0_a: This session already exists - no need to re-run ;)\n",
      "T118_2018_01_26_Notebook_1_a: This session already exists - no need to re-run ;)\n",
      "T118_2018_01_26_Notebook_1_e: This session already exists - no need to re-run ;)\n",
      "T118_2018_01_26_Notebook_2_a: This session already exists - no need to re-run ;)\n",
      "T118_2018_01_26_Notebook_4_a: This session already exists - no need to re-run ;)\n",
      "T118_2018_01_26_Notebook_4_b: This session already exists - no need to re-run ;)\n",
      "T118_2018_01_26_Notebook_4_c: This session already exists - no need to re-run ;)\n",
      "T118_2018_01_26_Notebook_5_a_seq0a1ae2a4abc5a: This session already exists - no need to re-run ;)\n",
      "Notebook_6_d.ipynb is being executed\n"
     ]
    },
    {
     "data": {
      "application/vnd.jupyter.widget-view+json": {
       "model_id": "ecb62993631f44f998ebee2f83baea3d",
       "version_major": 2,
       "version_minor": 0
      },
      "text/plain": [
       "HBox(children=(FloatProgress(value=0.0, description='Executing', max=14.0, style=ProgressStyle(description_wid…"
      ]
     },
     "metadata": {},
     "output_type": "display_data"
    },
    {
     "name": "stdout",
     "output_type": "stream",
     "text": [
      "\n",
      "T122_2018_04_03_Notebook_0_a: This session already exists - no need to re-run ;)\n",
      "T122_2018_04_03_Notebook_1_a: This session already exists - no need to re-run ;)\n",
      "T122_2018_04_03_Notebook_1_e: This session already exists - no need to re-run ;)\n",
      "T122_2018_04_03_Notebook_2_a: This session already exists - no need to re-run ;)\n",
      "T122_2018_04_03_Notebook_4_a: This session already exists - no need to re-run ;)\n",
      "T122_2018_04_03_Notebook_4_b: This session already exists - no need to re-run ;)\n",
      "T122_2018_04_03_Notebook_4_c: This session already exists - no need to re-run ;)\n",
      "T122_2018_04_03_Notebook_5_a_seq0a1ae2a4abc5a: This session already exists - no need to re-run ;)\n",
      "Notebook_6_d.ipynb is being executed\n"
     ]
    },
    {
     "data": {
      "application/vnd.jupyter.widget-view+json": {
       "model_id": "bc54882cebce40d18bc2fe0135380d5d",
       "version_major": 2,
       "version_minor": 0
      },
      "text/plain": [
       "HBox(children=(FloatProgress(value=0.0, description='Executing', max=14.0, style=ProgressStyle(description_wid…"
      ]
     },
     "metadata": {},
     "output_type": "display_data"
    },
    {
     "name": "stdout",
     "output_type": "stream",
     "text": [
      "\n",
      "T122_2018_04_04_Notebook_0_a: This session already exists - no need to re-run ;)\n",
      "T122_2018_04_04_Notebook_1_a: This session already exists - no need to re-run ;)\n",
      "T122_2018_04_04_Notebook_1_e: This session already exists - no need to re-run ;)\n",
      "T122_2018_04_04_Notebook_2_a: This session already exists - no need to re-run ;)\n",
      "T122_2018_04_04_Notebook_4_a: This session already exists - no need to re-run ;)\n",
      "T122_2018_04_04_Notebook_4_b: This session already exists - no need to re-run ;)\n",
      "T122_2018_04_04_Notebook_4_c: This session already exists - no need to re-run ;)\n",
      "T122_2018_04_04_Notebook_5_a_seq0a1ae2a4abc5a: This session already exists - no need to re-run ;)\n",
      "Notebook_6_d.ipynb is being executed\n"
     ]
    },
    {
     "data": {
      "application/vnd.jupyter.widget-view+json": {
       "model_id": "bae0fdfa8632466088ca14a5da1700b9",
       "version_major": 2,
       "version_minor": 0
      },
      "text/plain": [
       "HBox(children=(FloatProgress(value=0.0, description='Executing', max=14.0, style=ProgressStyle(description_wid…"
      ]
     },
     "metadata": {},
     "output_type": "display_data"
    },
    {
     "name": "stdout",
     "output_type": "stream",
     "text": [
      "\n",
      "T122_2018_04_05_Notebook_0_a: This session already exists - no need to re-run ;)\n",
      "T122_2018_04_05_Notebook_1_a: This session already exists - no need to re-run ;)\n",
      "T122_2018_04_05_Notebook_1_e: This session already exists - no need to re-run ;)\n",
      "T122_2018_04_05_Notebook_2_a: This session already exists - no need to re-run ;)\n",
      "T122_2018_04_05_Notebook_4_a: This session already exists - no need to re-run ;)\n",
      "T122_2018_04_05_Notebook_4_b: This session already exists - no need to re-run ;)\n",
      "T122_2018_04_05_Notebook_4_c: This session already exists - no need to re-run ;)\n",
      "T122_2018_04_05_Notebook_5_a_seq0a1ae2a4abc5a: This session already exists - no need to re-run ;)\n",
      "Notebook_6_d.ipynb is being executed\n"
     ]
    },
    {
     "data": {
      "application/vnd.jupyter.widget-view+json": {
       "model_id": "ee469cbcc815468baf1c7f3790fdb3c7",
       "version_major": 2,
       "version_minor": 0
      },
      "text/plain": [
       "HBox(children=(FloatProgress(value=0.0, description='Executing', max=14.0, style=ProgressStyle(description_wid…"
      ]
     },
     "metadata": {},
     "output_type": "display_data"
    },
    {
     "name": "stdout",
     "output_type": "stream",
     "text": [
      "\n",
      "T122_2018_04_06_Notebook_0_a: This session already exists - no need to re-run ;)\n",
      "T122_2018_04_06_Notebook_1_a: This session already exists - no need to re-run ;)\n",
      "T122_2018_04_06_Notebook_1_e: This session already exists - no need to re-run ;)\n",
      "T122_2018_04_06_Notebook_2_a: This session already exists - no need to re-run ;)\n",
      "T122_2018_04_06_Notebook_4_a: This session already exists - no need to re-run ;)\n",
      "T122_2018_04_06_Notebook_4_b: This session already exists - no need to re-run ;)\n",
      "T122_2018_04_06_Notebook_4_c: This session already exists - no need to re-run ;)\n",
      "T122_2018_04_06_Notebook_5_a_seq0a1ae2a4abc5a: This session already exists - no need to re-run ;)\n",
      "Notebook_6_d.ipynb is being executed\n"
     ]
    },
    {
     "data": {
      "application/vnd.jupyter.widget-view+json": {
       "model_id": "a492e2245f224d82ab0da5fcc9fb0762",
       "version_major": 2,
       "version_minor": 0
      },
      "text/plain": [
       "HBox(children=(FloatProgress(value=0.0, description='Executing', max=14.0, style=ProgressStyle(description_wid…"
      ]
     },
     "metadata": {},
     "output_type": "display_data"
    },
    {
     "name": "stdout",
     "output_type": "stream",
     "text": [
      "\n",
      "T122_2018_04_12_Notebook_0_a: This session already exists - no need to re-run ;)\n",
      "T122_2018_04_12_Notebook_1_a: This session already exists - no need to re-run ;)\n",
      "T122_2018_04_12_Notebook_1_e: This session already exists - no need to re-run ;)\n",
      "T122_2018_04_12_Notebook_2_a: This session already exists - no need to re-run ;)\n",
      "T122_2018_04_12_Notebook_4_a: This session already exists - no need to re-run ;)\n",
      "T122_2018_04_12_Notebook_4_b: This session already exists - no need to re-run ;)\n",
      "T122_2018_04_12_Notebook_4_c: This session already exists - no need to re-run ;)\n",
      "T122_2018_04_12_Notebook_5_a_seq0a1ae2a4abc5a: This session already exists - no need to re-run ;)\n",
      "Notebook_6_d.ipynb is being executed\n"
     ]
    },
    {
     "data": {
      "application/vnd.jupyter.widget-view+json": {
       "model_id": "7e4bbdb6aed5469da20f4cf8c809a18d",
       "version_major": 2,
       "version_minor": 0
      },
      "text/plain": [
       "HBox(children=(FloatProgress(value=0.0, description='Executing', max=14.0, style=ProgressStyle(description_wid…"
      ]
     },
     "metadata": {},
     "output_type": "display_data"
    },
    {
     "name": "stdout",
     "output_type": "stream",
     "text": [
      "\n",
      "T132_2018_04_10_Notebook_0_a: This session already exists - no need to re-run ;)\n",
      "T132_2018_04_10_Notebook_1_a: This session already exists - no need to re-run ;)\n",
      "T132_2018_04_10_Notebook_1_e: This session already exists - no need to re-run ;)\n",
      "T132_2018_04_10_Notebook_2_a: This session already exists - no need to re-run ;)\n",
      "T132_2018_04_10_Notebook_4_a: This session already exists - no need to re-run ;)\n",
      "T132_2018_04_10_Notebook_4_b: This session already exists - no need to re-run ;)\n",
      "T132_2018_04_10_Notebook_4_c: This session already exists - no need to re-run ;)\n",
      "T132_2018_04_10_Notebook_5_a_seq0a1ae2a4abc5a: This session already exists - no need to re-run ;)\n",
      "Notebook_6_d.ipynb is being executed\n"
     ]
    },
    {
     "data": {
      "application/vnd.jupyter.widget-view+json": {
       "model_id": "8041cb238e0c4515aac1d3bbf699dd2f",
       "version_major": 2,
       "version_minor": 0
      },
      "text/plain": [
       "HBox(children=(FloatProgress(value=0.0, description='Executing', max=14.0, style=ProgressStyle(description_wid…"
      ]
     },
     "metadata": {},
     "output_type": "display_data"
    },
    {
     "name": "stdout",
     "output_type": "stream",
     "text": [
      "\n",
      "T132_2018_04_12_Notebook_0_a: This session already exists - no need to re-run ;)\n",
      "T132_2018_04_12_Notebook_1_a: This session already exists - no need to re-run ;)\n",
      "T132_2018_04_12_Notebook_1_e: This session already exists - no need to re-run ;)\n",
      "T132_2018_04_12_Notebook_2_a: This session already exists - no need to re-run ;)\n",
      "T132_2018_04_12_Notebook_4_a: This session already exists - no need to re-run ;)\n",
      "T132_2018_04_12_Notebook_4_b: This session already exists - no need to re-run ;)\n",
      "T132_2018_04_12_Notebook_4_c: This session already exists - no need to re-run ;)\n",
      "T132_2018_04_12_Notebook_5_a_seq0a1ae2a4abc5a: This session already exists - no need to re-run ;)\n",
      "Notebook_6_d.ipynb is being executed\n"
     ]
    },
    {
     "data": {
      "application/vnd.jupyter.widget-view+json": {
       "model_id": "568ccede6de14cdb87effc24a11ffd55",
       "version_major": 2,
       "version_minor": 0
      },
      "text/plain": [
       "HBox(children=(FloatProgress(value=0.0, description='Executing', max=14.0, style=ProgressStyle(description_wid…"
      ]
     },
     "metadata": {},
     "output_type": "display_data"
    },
    {
     "name": "stdout",
     "output_type": "stream",
     "text": [
      "\n",
      "T132_2018_04_17_Notebook_0_a: This session already exists - no need to re-run ;)\n",
      "T132_2018_04_17_Notebook_1_a: This session already exists - no need to re-run ;)\n",
      "T132_2018_04_17_Notebook_1_e: This session already exists - no need to re-run ;)\n",
      "T132_2018_04_17_Notebook_2_a: This session already exists - no need to re-run ;)\n",
      "T132_2018_04_17_Notebook_4_a: This session already exists - no need to re-run ;)\n",
      "T132_2018_04_17_Notebook_4_b: This session already exists - no need to re-run ;)\n",
      "T132_2018_04_17_Notebook_4_c: This session already exists - no need to re-run ;)\n",
      "T132_2018_04_17_Notebook_5_a_seq0a1ae2a4abc5a: This session already exists - no need to re-run ;)\n",
      "Notebook_6_d.ipynb is being executed\n"
     ]
    },
    {
     "data": {
      "application/vnd.jupyter.widget-view+json": {
       "model_id": "039b1176c06b4664a347207450d8de4b",
       "version_major": 2,
       "version_minor": 0
      },
      "text/plain": [
       "HBox(children=(FloatProgress(value=0.0, description='Executing', max=14.0, style=ProgressStyle(description_wid…"
      ]
     },
     "metadata": {},
     "output_type": "display_data"
    },
    {
     "name": "stdout",
     "output_type": "stream",
     "text": [
      "\n",
      "T132_2018_04_24_Notebook_0_a: This session already exists - no need to re-run ;)\n",
      "T132_2018_04_24_Notebook_1_a: This session already exists - no need to re-run ;)\n",
      "T132_2018_04_24_Notebook_1_e: This session already exists - no need to re-run ;)\n",
      "T132_2018_04_24_Notebook_2_a: This session already exists - no need to re-run ;)\n",
      "T132_2018_04_24_Notebook_4_a: This session already exists - no need to re-run ;)\n",
      "T132_2018_04_24_Notebook_4_b: This session already exists - no need to re-run ;)\n",
      "T132_2018_04_24_Notebook_4_c: This session already exists - no need to re-run ;)\n",
      "T132_2018_04_24_Notebook_5_a_seq0a1ae2a4abc5a: This session already exists - no need to re-run ;)\n",
      "Notebook_6_d.ipynb is being executed\n"
     ]
    },
    {
     "data": {
      "application/vnd.jupyter.widget-view+json": {
       "model_id": "da96cec712b34b8c9635085eb480c57b",
       "version_major": 2,
       "version_minor": 0
      },
      "text/plain": [
       "HBox(children=(FloatProgress(value=0.0, description='Executing', max=14.0, style=ProgressStyle(description_wid…"
      ]
     },
     "metadata": {},
     "output_type": "display_data"
    },
    {
     "name": "stdout",
     "output_type": "stream",
     "text": [
      "\n",
      "T132_2018_05_01_Notebook_0_a: This session already exists - no need to re-run ;)\n",
      "T132_2018_05_01_Notebook_1_a: This session already exists - no need to re-run ;)\n",
      "T132_2018_05_01_Notebook_1_e: This session already exists - no need to re-run ;)\n",
      "T132_2018_05_01_Notebook_2_a: This session already exists - no need to re-run ;)\n",
      "T132_2018_05_01_Notebook_4_a: This session already exists - no need to re-run ;)\n",
      "T132_2018_05_01_Notebook_4_b: This session already exists - no need to re-run ;)\n",
      "T132_2018_05_01_Notebook_4_c: This session already exists - no need to re-run ;)\n",
      "T132_2018_05_01_Notebook_5_a_seq0a1ae2a4abc5a: This session already exists - no need to re-run ;)\n",
      "Notebook_6_d.ipynb is being executed\n"
     ]
    },
    {
     "data": {
      "application/vnd.jupyter.widget-view+json": {
       "model_id": "4baa1855fa324da59dc9dffa939ef3fc",
       "version_major": 2,
       "version_minor": 0
      },
      "text/plain": [
       "HBox(children=(FloatProgress(value=0.0, description='Executing', max=14.0, style=ProgressStyle(description_wid…"
      ]
     },
     "metadata": {},
     "output_type": "display_data"
    },
    {
     "name": "stdout",
     "output_type": "stream",
     "text": [
      "\n",
      "T132_2018_05_03_Notebook_0_a: This session already exists - no need to re-run ;)\n",
      "T132_2018_05_03_Notebook_1_a: This session already exists - no need to re-run ;)\n",
      "T132_2018_05_03_Notebook_1_e: This session already exists - no need to re-run ;)\n",
      "T132_2018_05_03_Notebook_2_a: This session already exists - no need to re-run ;)\n",
      "T132_2018_05_03_Notebook_4_a: This session already exists - no need to re-run ;)\n",
      "T132_2018_05_03_Notebook_4_b: This session already exists - no need to re-run ;)\n",
      "T132_2018_05_03_Notebook_4_c: This session already exists - no need to re-run ;)\n",
      "T132_2018_05_03_Notebook_5_a_seq0a1ae2a4abc5a: This session already exists - no need to re-run ;)\n",
      "Notebook_6_d.ipynb is being executed\n"
     ]
    },
    {
     "data": {
      "application/vnd.jupyter.widget-view+json": {
       "model_id": "fe7cd028a2e74c2f999a165d4995f193",
       "version_major": 2,
       "version_minor": 0
      },
      "text/plain": [
       "HBox(children=(FloatProgress(value=0.0, description='Executing', max=14.0, style=ProgressStyle(description_wid…"
      ]
     },
     "metadata": {},
     "output_type": "display_data"
    },
    {
     "name": "stdout",
     "output_type": "stream",
     "text": [
      "\n",
      "T132_2018_05_06_Notebook_0_a: This session already exists - no need to re-run ;)\n",
      "T132_2018_05_06_Notebook_1_a: This session already exists - no need to re-run ;)\n",
      "T132_2018_05_06_Notebook_1_e: This session already exists - no need to re-run ;)\n",
      "T132_2018_05_06_Notebook_2_a: This session already exists - no need to re-run ;)\n",
      "T132_2018_05_06_Notebook_4_a: This session already exists - no need to re-run ;)\n",
      "T132_2018_05_06_Notebook_4_b: This session already exists - no need to re-run ;)\n",
      "T132_2018_05_06_Notebook_4_c: This session already exists - no need to re-run ;)\n",
      "T132_2018_05_06_Notebook_5_a_seq0a1ae2a4abc5a: This session already exists - no need to re-run ;)\n",
      "Notebook_6_d.ipynb is being executed\n"
     ]
    },
    {
     "data": {
      "application/vnd.jupyter.widget-view+json": {
       "model_id": "625d33b0d0a14c3892c3177381ef1549",
       "version_major": 2,
       "version_minor": 0
      },
      "text/plain": [
       "HBox(children=(FloatProgress(value=0.0, description='Executing', max=14.0, style=ProgressStyle(description_wid…"
      ]
     },
     "metadata": {},
     "output_type": "display_data"
    },
    {
     "name": "stdout",
     "output_type": "stream",
     "text": [
      "\n",
      "T132_2018_05_08_Notebook_0_a: This session already exists - no need to re-run ;)\n",
      "T132_2018_05_08_Notebook_1_a: This session already exists - no need to re-run ;)\n",
      "T132_2018_05_08_Notebook_1_e: This session already exists - no need to re-run ;)\n",
      "T132_2018_05_08_Notebook_2_a: This session already exists - no need to re-run ;)\n",
      "T132_2018_05_08_Notebook_4_a: This session already exists - no need to re-run ;)\n",
      "T132_2018_05_08_Notebook_4_b: This session already exists - no need to re-run ;)\n",
      "T132_2018_05_08_Notebook_4_c: This session already exists - no need to re-run ;)\n",
      "T132_2018_05_08_Notebook_5_a_seq0a1ae2a4abc5a: This session already exists - no need to re-run ;)\n",
      "Notebook_6_d.ipynb is being executed\n"
     ]
    },
    {
     "data": {
      "application/vnd.jupyter.widget-view+json": {
       "model_id": "9fc288eed0094e92af86de786fda1069",
       "version_major": 2,
       "version_minor": 0
      },
      "text/plain": [
       "HBox(children=(FloatProgress(value=0.0, description='Executing', max=14.0, style=ProgressStyle(description_wid…"
      ]
     },
     "metadata": {},
     "output_type": "display_data"
    },
    {
     "name": "stdout",
     "output_type": "stream",
     "text": [
      "\n",
      "T133_2018_04_10_Notebook_0_a: This session already exists - no need to re-run ;)\n",
      "T133_2018_04_10_Notebook_1_a: This session already exists - no need to re-run ;)\n",
      "T133_2018_04_10_Notebook_1_e: This session already exists - no need to re-run ;)\n",
      "T133_2018_04_10_Notebook_2_a: This session already exists - no need to re-run ;)\n",
      "T133_2018_04_10_Notebook_4_a: This session already exists - no need to re-run ;)\n",
      "T133_2018_04_10_Notebook_4_b: This session already exists - no need to re-run ;)\n",
      "T133_2018_04_10_Notebook_4_c: This session already exists - no need to re-run ;)\n",
      "T133_2018_04_10_Notebook_5_a_seq0a1ae2a4abc5a: This session already exists - no need to re-run ;)\n",
      "Notebook_6_d.ipynb is being executed\n"
     ]
    },
    {
     "data": {
      "application/vnd.jupyter.widget-view+json": {
       "model_id": "c903b49aa83f42fb9932c2d6e3d55da5",
       "version_major": 2,
       "version_minor": 0
      },
      "text/plain": [
       "HBox(children=(FloatProgress(value=0.0, description='Executing', max=14.0, style=ProgressStyle(description_wid…"
      ]
     },
     "metadata": {},
     "output_type": "display_data"
    },
    {
     "name": "stdout",
     "output_type": "stream",
     "text": [
      "\n",
      "T133_2018_04_12_Notebook_0_a: This session already exists - no need to re-run ;)\n",
      "T133_2018_04_12_Notebook_1_a: This session already exists - no need to re-run ;)\n",
      "T133_2018_04_12_Notebook_1_e: This session already exists - no need to re-run ;)\n",
      "T133_2018_04_12_Notebook_2_a: This session already exists - no need to re-run ;)\n",
      "T133_2018_04_12_Notebook_4_a: This session already exists - no need to re-run ;)\n",
      "T133_2018_04_12_Notebook_4_b: This session already exists - no need to re-run ;)\n",
      "T133_2018_04_12_Notebook_4_c: This session already exists - no need to re-run ;)\n",
      "T133_2018_04_12_Notebook_5_a_seq0a1ae2a4abc5a: This session already exists - no need to re-run ;)\n",
      "Notebook_6_d.ipynb is being executed\n"
     ]
    },
    {
     "data": {
      "application/vnd.jupyter.widget-view+json": {
       "model_id": "107ff8220b964d61812ce23e60f05462",
       "version_major": 2,
       "version_minor": 0
      },
      "text/plain": [
       "HBox(children=(FloatProgress(value=0.0, description='Executing', max=14.0, style=ProgressStyle(description_wid…"
      ]
     },
     "metadata": {},
     "output_type": "display_data"
    },
    {
     "name": "stdout",
     "output_type": "stream",
     "text": [
      "\n",
      "T133_2018_04_17_Notebook_0_a: This session already exists - no need to re-run ;)\n",
      "T133_2018_04_17_Notebook_1_a: This session already exists - no need to re-run ;)\n",
      "T133_2018_04_17_Notebook_1_e: This session already exists - no need to re-run ;)\n",
      "T133_2018_04_17_Notebook_2_a: This session already exists - no need to re-run ;)\n",
      "T133_2018_04_17_Notebook_4_a: This session already exists - no need to re-run ;)\n",
      "T133_2018_04_17_Notebook_4_b: This session already exists - no need to re-run ;)\n",
      "T133_2018_04_17_Notebook_4_c: This session already exists - no need to re-run ;)\n",
      "T133_2018_04_17_Notebook_5_a_seq0a1ae2a4abc5a: This session already exists - no need to re-run ;)\n",
      "Notebook_6_d.ipynb is being executed\n"
     ]
    },
    {
     "data": {
      "application/vnd.jupyter.widget-view+json": {
       "model_id": "3b459e23baf64f77b957cc9890fbfcfb",
       "version_major": 2,
       "version_minor": 0
      },
      "text/plain": [
       "HBox(children=(FloatProgress(value=0.0, description='Executing', max=14.0, style=ProgressStyle(description_wid…"
      ]
     },
     "metadata": {},
     "output_type": "display_data"
    },
    {
     "name": "stdout",
     "output_type": "stream",
     "text": [
      "\n",
      "T133_2018_04_27_Notebook_0_a: This session already exists - no need to re-run ;)\n",
      "T133_2018_04_27_Notebook_1_a: This session already exists - no need to re-run ;)\n",
      "T133_2018_04_27_Notebook_1_e: This session already exists - no need to re-run ;)\n",
      "T133_2018_04_27_Notebook_2_a: This session already exists - no need to re-run ;)\n",
      "T133_2018_04_27_Notebook_4_a: This session already exists - no need to re-run ;)\n",
      "T133_2018_04_27_Notebook_4_b: This session already exists - no need to re-run ;)\n",
      "T133_2018_04_27_Notebook_4_c: This session already exists - no need to re-run ;)\n",
      "T133_2018_04_27_Notebook_5_a_seq0a1ae2a4abc5a: This session already exists - no need to re-run ;)\n",
      "Notebook_6_d.ipynb is being executed\n"
     ]
    },
    {
     "data": {
      "application/vnd.jupyter.widget-view+json": {
       "model_id": "343566b9773d412aa92fbf672cc06e13",
       "version_major": 2,
       "version_minor": 0
      },
      "text/plain": [
       "HBox(children=(FloatProgress(value=0.0, description='Executing', max=14.0, style=ProgressStyle(description_wid…"
      ]
     },
     "metadata": {},
     "output_type": "display_data"
    },
    {
     "name": "stdout",
     "output_type": "stream",
     "text": [
      "\n",
      "T174_2019_02_25_Notebook_0_a: This session already exists - no need to re-run ;)\n",
      "T174_2019_02_25_Notebook_1_a: This session already exists - no need to re-run ;)\n",
      "T174_2019_02_25_Notebook_1_e: This session already exists - no need to re-run ;)\n",
      "T174_2019_02_25_Notebook_2_a: This session already exists - no need to re-run ;)\n",
      "T174_2019_02_25_Notebook_4_a: This session already exists - no need to re-run ;)\n",
      "T174_2019_02_25_Notebook_4_b: This session already exists - no need to re-run ;)\n",
      "T174_2019_02_25_Notebook_4_c: This session already exists - no need to re-run ;)\n",
      "T174_2019_02_25_Notebook_5_a_seq0a1ae2a4abc5a: This session already exists - no need to re-run ;)\n",
      "Notebook_6_d.ipynb is being executed\n"
     ]
    },
    {
     "data": {
      "application/vnd.jupyter.widget-view+json": {
       "model_id": "c99754f0a2024a0bab47233b5ae77162",
       "version_major": 2,
       "version_minor": 0
      },
      "text/plain": [
       "HBox(children=(FloatProgress(value=0.0, description='Executing', max=14.0, style=ProgressStyle(description_wid…"
      ]
     },
     "metadata": {},
     "output_type": "display_data"
    },
    {
     "name": "stdout",
     "output_type": "stream",
     "text": [
      "\n",
      "T174_2019_02_27_Notebook_0_a: This session already exists - no need to re-run ;)\n",
      "T174_2019_02_27_Notebook_1_a: This session already exists - no need to re-run ;)\n",
      "T174_2019_02_27_Notebook_1_e: This session already exists - no need to re-run ;)\n",
      "T174_2019_02_27_Notebook_2_a: This session already exists - no need to re-run ;)\n",
      "T174_2019_02_27_Notebook_4_a: This session already exists - no need to re-run ;)\n",
      "T174_2019_02_27_Notebook_4_b: This session already exists - no need to re-run ;)\n",
      "T174_2019_02_27_Notebook_4_c: This session already exists - no need to re-run ;)\n",
      "T174_2019_02_27_Notebook_5_a_seq0a1ae2a4abc5a: This session already exists - no need to re-run ;)\n",
      "Notebook_6_d.ipynb is being executed\n"
     ]
    },
    {
     "data": {
      "application/vnd.jupyter.widget-view+json": {
       "model_id": "b092da584bb54558bb1bda8194a42c6b",
       "version_major": 2,
       "version_minor": 0
      },
      "text/plain": [
       "HBox(children=(FloatProgress(value=0.0, description='Executing', max=14.0, style=ProgressStyle(description_wid…"
      ]
     },
     "metadata": {},
     "output_type": "display_data"
    },
    {
     "name": "stdout",
     "output_type": "stream",
     "text": [
      "\n",
      "T174_2019_03_03_Notebook_0_a: This session already exists - no need to re-run ;)\n",
      "T174_2019_03_03_Notebook_1_a: This session already exists - no need to re-run ;)\n",
      "T174_2019_03_03_Notebook_1_e: This session already exists - no need to re-run ;)\n",
      "T174_2019_03_03_Notebook_2_a: This session already exists - no need to re-run ;)\n",
      "T174_2019_03_03_Notebook_4_a: This session already exists - no need to re-run ;)\n",
      "T174_2019_03_03_Notebook_4_b: This session already exists - no need to re-run ;)\n",
      "T174_2019_03_03_Notebook_4_c: This session already exists - no need to re-run ;)\n",
      "T174_2019_03_03_Notebook_5_a_seq0a1ae2a4abc5a: This session already exists - no need to re-run ;)\n",
      "Notebook_6_d.ipynb is being executed\n"
     ]
    },
    {
     "data": {
      "application/vnd.jupyter.widget-view+json": {
       "model_id": "14451fb815b34fb78ef4ab5807773b45",
       "version_major": 2,
       "version_minor": 0
      },
      "text/plain": [
       "HBox(children=(FloatProgress(value=0.0, description='Executing', max=14.0, style=ProgressStyle(description_wid…"
      ]
     },
     "metadata": {},
     "output_type": "display_data"
    },
    {
     "name": "stdout",
     "output_type": "stream",
     "text": [
      "\n",
      "T174_2019_03_05_Notebook_0_a: This session already exists - no need to re-run ;)\n",
      "T174_2019_03_05_Notebook_1_a: This session already exists - no need to re-run ;)\n",
      "T174_2019_03_05_Notebook_1_e: This session already exists - no need to re-run ;)\n",
      "T174_2019_03_05_Notebook_2_a: This session already exists - no need to re-run ;)\n",
      "T174_2019_03_05_Notebook_4_a: This session already exists - no need to re-run ;)\n",
      "T174_2019_03_05_Notebook_4_b: This session already exists - no need to re-run ;)\n",
      "T174_2019_03_05_Notebook_4_c: This session already exists - no need to re-run ;)\n",
      "T174_2019_03_05_Notebook_5_a_seq0a1ae2a4abc5a: This session already exists - no need to re-run ;)\n",
      "Notebook_6_d.ipynb is being executed\n"
     ]
    },
    {
     "data": {
      "application/vnd.jupyter.widget-view+json": {
       "model_id": "e58e559b5da04df19dbec35c3de0ab65",
       "version_major": 2,
       "version_minor": 0
      },
      "text/plain": [
       "HBox(children=(FloatProgress(value=0.0, description='Executing', max=14.0, style=ProgressStyle(description_wid…"
      ]
     },
     "metadata": {},
     "output_type": "display_data"
    },
    {
     "name": "stdout",
     "output_type": "stream",
     "text": [
      "\n",
      "T178_2019_02_26_Notebook_0_a: This session already exists - no need to re-run ;)\n",
      "T178_2019_02_26_Notebook_1_a: This session already exists - no need to re-run ;)\n",
      "T178_2019_02_26_Notebook_1_e: This session already exists - no need to re-run ;)\n",
      "T178_2019_02_26_Notebook_2_a: This session already exists - no need to re-run ;)\n",
      "T178_2019_02_26_Notebook_4_a: This session already exists - no need to re-run ;)\n",
      "T178_2019_02_26_Notebook_4_b: This session already exists - no need to re-run ;)\n",
      "T178_2019_02_26_Notebook_4_c: This session already exists - no need to re-run ;)\n",
      "T178_2019_02_26_Notebook_5_a_seq0a1ae2a4abc5a: This session already exists - no need to re-run ;)\n",
      "Notebook_6_d.ipynb is being executed\n"
     ]
    },
    {
     "data": {
      "application/vnd.jupyter.widget-view+json": {
       "model_id": "4417c215140949bf93b4a6193102cd97",
       "version_major": 2,
       "version_minor": 0
      },
      "text/plain": [
       "HBox(children=(FloatProgress(value=0.0, description='Executing', max=14.0, style=ProgressStyle(description_wid…"
      ]
     },
     "metadata": {},
     "output_type": "display_data"
    },
    {
     "name": "stdout",
     "output_type": "stream",
     "text": [
      "\n",
      "T178_2019_03_12_Notebook_0_a: This session already exists - no need to re-run ;)\n",
      "T178_2019_03_12_Notebook_1_a: This session already exists - no need to re-run ;)\n",
      "T178_2019_03_12_Notebook_1_e: This session already exists - no need to re-run ;)\n",
      "T178_2019_03_12_Notebook_2_a: This session already exists - no need to re-run ;)\n",
      "T178_2019_03_12_Notebook_4_a: This session already exists - no need to re-run ;)\n",
      "T178_2019_03_12_Notebook_4_b: This session already exists - no need to re-run ;)\n",
      "T178_2019_03_12_Notebook_4_c: This session already exists - no need to re-run ;)\n",
      "T178_2019_03_12_Notebook_5_a_seq0a1ae2a4abc5a: This session already exists - no need to re-run ;)\n",
      "Notebook_6_d.ipynb is being executed\n"
     ]
    },
    {
     "data": {
      "application/vnd.jupyter.widget-view+json": {
       "model_id": "eac16d33ac234d08aa4740782098928d",
       "version_major": 2,
       "version_minor": 0
      },
      "text/plain": [
       "HBox(children=(FloatProgress(value=0.0, description='Executing', max=14.0, style=ProgressStyle(description_wid…"
      ]
     },
     "metadata": {},
     "output_type": "display_data"
    },
    {
     "name": "stdout",
     "output_type": "stream",
     "text": [
      "\n",
      "T178_2019_03_13_Notebook_0_a: This session already exists - no need to re-run ;)\n",
      "T178_2019_03_13_Notebook_1_a: This session already exists - no need to re-run ;)\n",
      "T178_2019_03_13_Notebook_1_e: This session already exists - no need to re-run ;)\n",
      "T178_2019_03_13_Notebook_2_a: This session already exists - no need to re-run ;)\n",
      "T178_2019_03_13_Notebook_4_a: This session already exists - no need to re-run ;)\n",
      "T178_2019_03_13_Notebook_4_b: This session already exists - no need to re-run ;)\n",
      "T178_2019_03_13_Notebook_4_c: This session already exists - no need to re-run ;)\n",
      "T178_2019_03_13_Notebook_5_a_seq0a1ae2a4abc5a: This session already exists - no need to re-run ;)\n",
      "Notebook_6_d.ipynb is being executed\n"
     ]
    },
    {
     "data": {
      "application/vnd.jupyter.widget-view+json": {
       "model_id": "de7f13638c1a49d4920dffa1586b8a0e",
       "version_major": 2,
       "version_minor": 0
      },
      "text/plain": [
       "HBox(children=(FloatProgress(value=0.0, description='Executing', max=14.0, style=ProgressStyle(description_wid…"
      ]
     },
     "metadata": {},
     "output_type": "display_data"
    },
    {
     "name": "stdout",
     "output_type": "stream",
     "text": [
      "\n",
      "T178_2019_03_14_Notebook_0_a: This session already exists - no need to re-run ;)\n",
      "T178_2019_03_14_Notebook_1_a: This session already exists - no need to re-run ;)\n",
      "T178_2019_03_14_Notebook_1_e: This session already exists - no need to re-run ;)\n",
      "T178_2019_03_14_Notebook_2_a: This session already exists - no need to re-run ;)\n",
      "T178_2019_03_14_Notebook_4_a: This session already exists - no need to re-run ;)\n",
      "T178_2019_03_14_Notebook_4_b: This session already exists - no need to re-run ;)\n",
      "T178_2019_03_14_Notebook_4_c: This session already exists - no need to re-run ;)\n",
      "T178_2019_03_14_Notebook_5_a_seq0a1ae2a4abc5a: This session already exists - no need to re-run ;)\n",
      "Notebook_6_d.ipynb is being executed\n"
     ]
    },
    {
     "data": {
      "application/vnd.jupyter.widget-view+json": {
       "model_id": "5b1fcf6a9d1340a6874d88f49b495997",
       "version_major": 2,
       "version_minor": 0
      },
      "text/plain": [
       "HBox(children=(FloatProgress(value=0.0, description='Executing', max=14.0, style=ProgressStyle(description_wid…"
      ]
     },
     "metadata": {},
     "output_type": "display_data"
    },
    {
     "name": "stdout",
     "output_type": "stream",
     "text": [
      "\n",
      "T178_2019_03_15_Notebook_0_a: This session already exists - no need to re-run ;)\n",
      "T178_2019_03_15_Notebook_1_a: This session already exists - no need to re-run ;)\n",
      "T178_2019_03_15_Notebook_1_e: This session already exists - no need to re-run ;)\n",
      "T178_2019_03_15_Notebook_2_a: This session already exists - no need to re-run ;)\n",
      "T178_2019_03_15_Notebook_4_a: This session already exists - no need to re-run ;)\n",
      "T178_2019_03_15_Notebook_4_b: This session already exists - no need to re-run ;)\n",
      "T178_2019_03_15_Notebook_4_c: This session already exists - no need to re-run ;)\n",
      "T178_2019_03_15_Notebook_5_a_seq0a1ae2a4abc5a: This session already exists - no need to re-run ;)\n",
      "Notebook_6_d.ipynb is being executed\n"
     ]
    },
    {
     "data": {
      "application/vnd.jupyter.widget-view+json": {
       "model_id": "1783b38727d041fb96c2cb149c07eb29",
       "version_major": 2,
       "version_minor": 0
      },
      "text/plain": [
       "HBox(children=(FloatProgress(value=0.0, description='Executing', max=14.0, style=ProgressStyle(description_wid…"
      ]
     },
     "metadata": {},
     "output_type": "display_data"
    },
    {
     "name": "stdout",
     "output_type": "stream",
     "text": [
      "\n",
      "T178_2019_03_18_Notebook_0_a: This session already exists - no need to re-run ;)\n",
      "T178_2019_03_18_Notebook_1_a: This session already exists - no need to re-run ;)\n",
      "T178_2019_03_18_Notebook_1_e: This session already exists - no need to re-run ;)\n",
      "T178_2019_03_18_Notebook_2_a: This session already exists - no need to re-run ;)\n",
      "T178_2019_03_18_Notebook_4_a: This session already exists - no need to re-run ;)\n",
      "T178_2019_03_18_Notebook_4_b: This session already exists - no need to re-run ;)\n",
      "T178_2019_03_18_Notebook_4_c: This session already exists - no need to re-run ;)\n",
      "T178_2019_03_18_Notebook_5_a_seq0a1ae2a4abc5a: This session already exists - no need to re-run ;)\n",
      "Notebook_6_d.ipynb is being executed\n"
     ]
    },
    {
     "data": {
      "application/vnd.jupyter.widget-view+json": {
       "model_id": "0fdfcbbb10d74c4f89f034751fd3c27b",
       "version_major": 2,
       "version_minor": 0
      },
      "text/plain": [
       "HBox(children=(FloatProgress(value=0.0, description='Executing', max=14.0, style=ProgressStyle(description_wid…"
      ]
     },
     "metadata": {},
     "output_type": "display_data"
    },
    {
     "name": "stdout",
     "output_type": "stream",
     "text": [
      "\n",
      "T178_2019_03_19_Notebook_0_a: This session already exists - no need to re-run ;)\n",
      "T178_2019_03_19_Notebook_1_a: This session already exists - no need to re-run ;)\n",
      "T178_2019_03_19_Notebook_1_e: This session already exists - no need to re-run ;)\n",
      "T178_2019_03_19_Notebook_2_a: This session already exists - no need to re-run ;)\n",
      "T178_2019_03_19_Notebook_4_a: This session already exists - no need to re-run ;)\n",
      "T178_2019_03_19_Notebook_4_b: This session already exists - no need to re-run ;)\n",
      "T178_2019_03_19_Notebook_4_c: This session already exists - no need to re-run ;)\n",
      "T178_2019_03_19_Notebook_5_a_seq0a1ae2a4abc5a: This session already exists - no need to re-run ;)\n",
      "Notebook_6_d.ipynb is being executed\n"
     ]
    },
    {
     "data": {
      "application/vnd.jupyter.widget-view+json": {
       "model_id": "1182be572b2d4f87b06af5958c61501d",
       "version_major": 2,
       "version_minor": 0
      },
      "text/plain": [
       "HBox(children=(FloatProgress(value=0.0, description='Executing', max=14.0, style=ProgressStyle(description_wid…"
      ]
     },
     "metadata": {},
     "output_type": "display_data"
    },
    {
     "name": "stdout",
     "output_type": "stream",
     "text": [
      "\n",
      "T179_2019_03_03_Notebook_0_a: This session already exists - no need to re-run ;)\n",
      "T179_2019_03_03_Notebook_1_a: This session already exists - no need to re-run ;)\n",
      "T179_2019_03_03_Notebook_1_e: This session already exists - no need to re-run ;)\n",
      "T179_2019_03_03_Notebook_2_a: This session already exists - no need to re-run ;)\n",
      "T179_2019_03_03_Notebook_4_a: This session already exists - no need to re-run ;)\n",
      "T179_2019_03_03_Notebook_4_b: This session already exists - no need to re-run ;)\n",
      "T179_2019_03_03_Notebook_4_c: This session already exists - no need to re-run ;)\n",
      "T179_2019_03_03_Notebook_5_a_seq0a1ae2a4abc5a: This session already exists - no need to re-run ;)\n",
      "Notebook_6_d.ipynb is being executed\n"
     ]
    },
    {
     "data": {
      "application/vnd.jupyter.widget-view+json": {
       "model_id": "8b2043f244294026be4cb4b1db725ee2",
       "version_major": 2,
       "version_minor": 0
      },
      "text/plain": [
       "HBox(children=(FloatProgress(value=0.0, description='Executing', max=14.0, style=ProgressStyle(description_wid…"
      ]
     },
     "metadata": {},
     "output_type": "display_data"
    },
    {
     "name": "stdout",
     "output_type": "stream",
     "text": [
      "\n",
      "T179_2019_03_12_Notebook_0_a: This session already exists - no need to re-run ;)\n",
      "T179_2019_03_12_Notebook_1_a: This session already exists - no need to re-run ;)\n",
      "T179_2019_03_12_Notebook_1_e: This session already exists - no need to re-run ;)\n",
      "T179_2019_03_12_Notebook_2_a: This session already exists - no need to re-run ;)\n",
      "T179_2019_03_12_Notebook_4_a: This session already exists - no need to re-run ;)\n",
      "T179_2019_03_12_Notebook_4_b: This session already exists - no need to re-run ;)\n",
      "T179_2019_03_12_Notebook_4_c: This session already exists - no need to re-run ;)\n",
      "T179_2019_03_12_Notebook_5_a_seq0a1ae2a4abc5a: This session already exists - no need to re-run ;)\n",
      "Notebook_6_d.ipynb is being executed\n"
     ]
    },
    {
     "data": {
      "application/vnd.jupyter.widget-view+json": {
       "model_id": "c5fd8d42a6cd4288b1bb378c4b262bf7",
       "version_major": 2,
       "version_minor": 0
      },
      "text/plain": [
       "HBox(children=(FloatProgress(value=0.0, description='Executing', max=14.0, style=ProgressStyle(description_wid…"
      ]
     },
     "metadata": {},
     "output_type": "display_data"
    },
    {
     "name": "stdout",
     "output_type": "stream",
     "text": [
      "\n",
      "T179_2019_03_13_Notebook_0_a: This session already exists - no need to re-run ;)\n",
      "T179_2019_03_13_Notebook_1_a: This session already exists - no need to re-run ;)\n",
      "T179_2019_03_13_Notebook_1_e: This session already exists - no need to re-run ;)\n",
      "T179_2019_03_13_Notebook_2_a: This session already exists - no need to re-run ;)\n",
      "T179_2019_03_13_Notebook_4_a: This session already exists - no need to re-run ;)\n",
      "T179_2019_03_13_Notebook_4_b: This session already exists - no need to re-run ;)\n",
      "T179_2019_03_13_Notebook_4_c: This session already exists - no need to re-run ;)\n",
      "T179_2019_03_13_Notebook_5_a_seq0a1ae2a4abc5a: This session already exists - no need to re-run ;)\n",
      "Notebook_6_d.ipynb is being executed\n"
     ]
    },
    {
     "data": {
      "application/vnd.jupyter.widget-view+json": {
       "model_id": "fcdf6b435b2b4fb0b9760e2e68bafe5c",
       "version_major": 2,
       "version_minor": 0
      },
      "text/plain": [
       "HBox(children=(FloatProgress(value=0.0, description='Executing', max=14.0, style=ProgressStyle(description_wid…"
      ]
     },
     "metadata": {},
     "output_type": "display_data"
    },
    {
     "name": "stdout",
     "output_type": "stream",
     "text": [
      "\n",
      "T179_2019_03_14_Notebook_0_a: This session already exists - no need to re-run ;)\n",
      "T179_2019_03_14_Notebook_1_a: This session already exists - no need to re-run ;)\n",
      "T179_2019_03_14_Notebook_1_e: This session already exists - no need to re-run ;)\n",
      "T179_2019_03_14_Notebook_2_a: This session already exists - no need to re-run ;)\n",
      "T179_2019_03_14_Notebook_4_a: This session already exists - no need to re-run ;)\n",
      "T179_2019_03_14_Notebook_4_b: This session already exists - no need to re-run ;)\n",
      "T179_2019_03_14_Notebook_4_c: This session already exists - no need to re-run ;)\n",
      "T179_2019_03_14_Notebook_5_a_seq0a1ae2a4abc5a: This session already exists - no need to re-run ;)\n",
      "Notebook_6_d.ipynb is being executed\n"
     ]
    },
    {
     "data": {
      "application/vnd.jupyter.widget-view+json": {
       "model_id": "067e02a4572d4118bb0271e14b79207e",
       "version_major": 2,
       "version_minor": 0
      },
      "text/plain": [
       "HBox(children=(FloatProgress(value=0.0, description='Executing', max=14.0, style=ProgressStyle(description_wid…"
      ]
     },
     "metadata": {},
     "output_type": "display_data"
    },
    {
     "name": "stdout",
     "output_type": "stream",
     "text": [
      "\n",
      "T183_2019_02_27_Notebook_0_a: This session already exists - no need to re-run ;)\n",
      "T183_2019_02_27_Notebook_1_a: This session already exists - no need to re-run ;)\n",
      "T183_2019_02_27_Notebook_1_e: This session already exists - no need to re-run ;)\n",
      "T183_2019_02_27_Notebook_2_a: This session already exists - no need to re-run ;)\n",
      "T183_2019_02_27_Notebook_4_a: This session already exists - no need to re-run ;)\n",
      "T183_2019_02_27_Notebook_4_b: This session already exists - no need to re-run ;)\n",
      "T183_2019_02_27_Notebook_4_c: This session already exists - no need to re-run ;)\n",
      "T183_2019_02_27_Notebook_5_a_seq0a1ae2a4abc5a: This session already exists - no need to re-run ;)\n",
      "Notebook_6_d.ipynb is being executed\n"
     ]
    },
    {
     "data": {
      "application/vnd.jupyter.widget-view+json": {
       "model_id": "4f3e551aa5a14ded98fa4432549e698b",
       "version_major": 2,
       "version_minor": 0
      },
      "text/plain": [
       "HBox(children=(FloatProgress(value=0.0, description='Executing', max=14.0, style=ProgressStyle(description_wid…"
      ]
     },
     "metadata": {},
     "output_type": "display_data"
    },
    {
     "name": "stdout",
     "output_type": "stream",
     "text": [
      "\n",
      "T183_2019_03_03_Notebook_0_a: This session already exists - no need to re-run ;)\n",
      "T183_2019_03_03_Notebook_1_a: This session already exists - no need to re-run ;)\n",
      "T183_2019_03_03_Notebook_1_e: This session already exists - no need to re-run ;)\n",
      "T183_2019_03_03_Notebook_2_a: This session already exists - no need to re-run ;)\n",
      "T183_2019_03_03_Notebook_4_a: This session already exists - no need to re-run ;)\n",
      "T183_2019_03_03_Notebook_4_b: This session already exists - no need to re-run ;)\n",
      "T183_2019_03_03_Notebook_4_c: This session already exists - no need to re-run ;)\n",
      "T183_2019_03_03_Notebook_5_a_seq0a1ae2a4abc5a: This session already exists - no need to re-run ;)\n",
      "Notebook_6_d.ipynb is being executed\n"
     ]
    },
    {
     "data": {
      "application/vnd.jupyter.widget-view+json": {
       "model_id": "57fc95a8bfe44630ae20bdc309b64347",
       "version_major": 2,
       "version_minor": 0
      },
      "text/plain": [
       "HBox(children=(FloatProgress(value=0.0, description='Executing', max=14.0, style=ProgressStyle(description_wid…"
      ]
     },
     "metadata": {},
     "output_type": "display_data"
    },
    {
     "name": "stdout",
     "output_type": "stream",
     "text": [
      "\n",
      "T183_2019_03_08_Notebook_0_a: This session already exists - no need to re-run ;)\n",
      "T183_2019_03_08_Notebook_1_a: This session already exists - no need to re-run ;)\n",
      "T183_2019_03_08_Notebook_1_e: This session already exists - no need to re-run ;)\n",
      "T183_2019_03_08_Notebook_2_a: This session already exists - no need to re-run ;)\n",
      "T183_2019_03_08_Notebook_4_a: This session already exists - no need to re-run ;)\n",
      "T183_2019_03_08_Notebook_4_b: This session already exists - no need to re-run ;)\n",
      "T183_2019_03_08_Notebook_4_c: This session already exists - no need to re-run ;)\n",
      "T183_2019_03_08_Notebook_5_a_seq0a1ae2a4abc5a: This session already exists - no need to re-run ;)\n",
      "Notebook_6_d.ipynb is being executed\n"
     ]
    },
    {
     "data": {
      "application/vnd.jupyter.widget-view+json": {
       "model_id": "592ed1a9f9294281abe9005e1373182d",
       "version_major": 2,
       "version_minor": 0
      },
      "text/plain": [
       "HBox(children=(FloatProgress(value=0.0, description='Executing', max=14.0, style=ProgressStyle(description_wid…"
      ]
     },
     "metadata": {},
     "output_type": "display_data"
    },
    {
     "name": "stdout",
     "output_type": "stream",
     "text": [
      "\n",
      "T183_2019_03_12_Notebook_0_a: This session already exists - no need to re-run ;)\n",
      "T183_2019_03_12_Notebook_1_a: This session already exists - no need to re-run ;)\n",
      "T183_2019_03_12_Notebook_1_e: This session already exists - no need to re-run ;)\n",
      "T183_2019_03_12_Notebook_2_a: This session already exists - no need to re-run ;)\n",
      "T183_2019_03_12_Notebook_4_a: This session already exists - no need to re-run ;)\n",
      "T183_2019_03_12_Notebook_4_b: This session already exists - no need to re-run ;)\n",
      "T183_2019_03_12_Notebook_4_c: This session already exists - no need to re-run ;)\n",
      "T183_2019_03_12_Notebook_5_a_seq0a1ae2a4abc5a: This session already exists - no need to re-run ;)\n",
      "Notebook_6_d.ipynb is being executed\n"
     ]
    },
    {
     "data": {
      "application/vnd.jupyter.widget-view+json": {
       "model_id": "999628ceac3848f28a18b011a1682fb3",
       "version_major": 2,
       "version_minor": 0
      },
      "text/plain": [
       "HBox(children=(FloatProgress(value=0.0, description='Executing', max=14.0, style=ProgressStyle(description_wid…"
      ]
     },
     "metadata": {},
     "output_type": "display_data"
    },
    {
     "name": "stdout",
     "output_type": "stream",
     "text": [
      "\n",
      "T183_2019_03_13_Notebook_0_a: This session already exists - no need to re-run ;)\n",
      "T183_2019_03_13_Notebook_1_a: This session already exists - no need to re-run ;)\n",
      "T183_2019_03_13_Notebook_1_e: This session already exists - no need to re-run ;)\n",
      "T183_2019_03_13_Notebook_2_a: This session already exists - no need to re-run ;)\n",
      "T183_2019_03_13_Notebook_4_a: This session already exists - no need to re-run ;)\n",
      "T183_2019_03_13_Notebook_4_b: This session already exists - no need to re-run ;)\n",
      "T183_2019_03_13_Notebook_4_c: This session already exists - no need to re-run ;)\n",
      "T183_2019_03_13_Notebook_5_a_seq0a1ae2a4abc5a: This session already exists - no need to re-run ;)\n",
      "Notebook_6_d.ipynb is being executed\n"
     ]
    },
    {
     "data": {
      "application/vnd.jupyter.widget-view+json": {
       "model_id": "ddec943123064250afe7b12a5c8ff7b8",
       "version_major": 2,
       "version_minor": 0
      },
      "text/plain": [
       "HBox(children=(FloatProgress(value=0.0, description='Executing', max=14.0, style=ProgressStyle(description_wid…"
      ]
     },
     "metadata": {},
     "output_type": "display_data"
    },
    {
     "name": "stdout",
     "output_type": "stream",
     "text": [
      "\n",
      "T183_2019_03_14_Notebook_0_a: This session already exists - no need to re-run ;)\n",
      "T183_2019_03_14_Notebook_1_a: This session already exists - no need to re-run ;)\n",
      "T183_2019_03_14_Notebook_1_e: This session already exists - no need to re-run ;)\n",
      "T183_2019_03_14_Notebook_2_a: This session already exists - no need to re-run ;)\n",
      "T183_2019_03_14_Notebook_4_a: This session already exists - no need to re-run ;)\n",
      "T183_2019_03_14_Notebook_4_b: This session already exists - no need to re-run ;)\n",
      "T183_2019_03_14_Notebook_4_c: This session already exists - no need to re-run ;)\n",
      "T183_2019_03_14_Notebook_5_a_seq0a1ae2a4abc5a: This session already exists - no need to re-run ;)\n",
      "Notebook_6_d.ipynb is being executed\n"
     ]
    },
    {
     "data": {
      "application/vnd.jupyter.widget-view+json": {
       "model_id": "6741ed0a6786479b8b8ed3c9b95cb51f",
       "version_major": 2,
       "version_minor": 0
      },
      "text/plain": [
       "HBox(children=(FloatProgress(value=0.0, description='Executing', max=14.0, style=ProgressStyle(description_wid…"
      ]
     },
     "metadata": {},
     "output_type": "display_data"
    },
    {
     "name": "stdout",
     "output_type": "stream",
     "text": [
      "\n",
      "T183_2019_03_15_Notebook_0_a: This session already exists - no need to re-run ;)\n",
      "T183_2019_03_15_Notebook_1_a: This session already exists - no need to re-run ;)\n",
      "T183_2019_03_15_Notebook_1_e: This session already exists - no need to re-run ;)\n",
      "T183_2019_03_15_Notebook_2_a: This session already exists - no need to re-run ;)\n",
      "T183_2019_03_15_Notebook_4_a: This session already exists - no need to re-run ;)\n",
      "T183_2019_03_15_Notebook_4_b: This session already exists - no need to re-run ;)\n",
      "T183_2019_03_15_Notebook_4_c: This session already exists - no need to re-run ;)\n",
      "T183_2019_03_15_Notebook_5_a_seq0a1ae2a4abc5a: This session already exists - no need to re-run ;)\n",
      "Notebook_6_d.ipynb is being executed\n"
     ]
    },
    {
     "data": {
      "application/vnd.jupyter.widget-view+json": {
       "model_id": "b836843a0ede45a781054f69c13b0613",
       "version_major": 2,
       "version_minor": 0
      },
      "text/plain": [
       "HBox(children=(FloatProgress(value=0.0, description='Executing', max=14.0, style=ProgressStyle(description_wid…"
      ]
     },
     "metadata": {},
     "output_type": "display_data"
    },
    {
     "name": "stdout",
     "output_type": "stream",
     "text": [
      "\n",
      "T183_2019_03_18_Notebook_0_a: This session already exists - no need to re-run ;)\n",
      "T183_2019_03_18_Notebook_1_a: This session already exists - no need to re-run ;)\n",
      "T183_2019_03_18_Notebook_1_e: This session already exists - no need to re-run ;)\n",
      "T183_2019_03_18_Notebook_2_a: This session already exists - no need to re-run ;)\n",
      "T183_2019_03_18_Notebook_4_a: This session already exists - no need to re-run ;)\n",
      "T183_2019_03_18_Notebook_4_b: This session already exists - no need to re-run ;)\n",
      "T183_2019_03_18_Notebook_4_c: This session already exists - no need to re-run ;)\n",
      "T183_2019_03_18_Notebook_5_a_seq0a1ae2a4abc5a: This session already exists - no need to re-run ;)\n",
      "Notebook_6_d.ipynb is being executed\n"
     ]
    },
    {
     "data": {
      "application/vnd.jupyter.widget-view+json": {
       "model_id": "90c4b4e120474ac6863f287ebc309add",
       "version_major": 2,
       "version_minor": 0
      },
      "text/plain": [
       "HBox(children=(FloatProgress(value=0.0, description='Executing', max=14.0, style=ProgressStyle(description_wid…"
      ]
     },
     "metadata": {},
     "output_type": "display_data"
    },
    {
     "name": "stdout",
     "output_type": "stream",
     "text": [
      "\n",
      "T183_2019_03_19_Notebook_0_a: This session already exists - no need to re-run ;)\n",
      "T183_2019_03_19_Notebook_1_a: This session already exists - no need to re-run ;)\n",
      "T183_2019_03_19_Notebook_1_e: This session already exists - no need to re-run ;)\n",
      "T183_2019_03_19_Notebook_2_a: This session already exists - no need to re-run ;)\n",
      "T183_2019_03_19_Notebook_4_a: This session already exists - no need to re-run ;)\n",
      "T183_2019_03_19_Notebook_4_b: This session already exists - no need to re-run ;)\n",
      "T183_2019_03_19_Notebook_4_c: This session already exists - no need to re-run ;)\n",
      "T183_2019_03_19_Notebook_5_a_seq0a1ae2a4abc5a: This session already exists - no need to re-run ;)\n",
      "Notebook_6_d.ipynb is being executed\n"
     ]
    },
    {
     "data": {
      "application/vnd.jupyter.widget-view+json": {
       "model_id": "939d84b6fa32460bab9a8ef955392298",
       "version_major": 2,
       "version_minor": 0
      },
      "text/plain": [
       "HBox(children=(FloatProgress(value=0.0, description='Executing', max=14.0, style=ProgressStyle(description_wid…"
      ]
     },
     "metadata": {},
     "output_type": "display_data"
    },
    {
     "name": "stdout",
     "output_type": "stream",
     "text": [
      "\n",
      "T185_2019_02_28_Notebook_0_a: This session already exists - no need to re-run ;)\n",
      "T185_2019_02_28_Notebook_1_a: This session already exists - no need to re-run ;)\n",
      "T185_2019_02_28_Notebook_1_e: This session already exists - no need to re-run ;)\n",
      "T185_2019_02_28_Notebook_2_a: This session already exists - no need to re-run ;)\n",
      "T185_2019_02_28_Notebook_4_a: This session already exists - no need to re-run ;)\n",
      "T185_2019_02_28_Notebook_4_b: This session already exists - no need to re-run ;)\n",
      "T185_2019_02_28_Notebook_4_c: This session already exists - no need to re-run ;)\n",
      "T185_2019_02_28_Notebook_5_a_seq0a1ae2a4abc5a: This session already exists - no need to re-run ;)\n",
      "Notebook_6_d.ipynb is being executed\n"
     ]
    },
    {
     "data": {
      "application/vnd.jupyter.widget-view+json": {
       "model_id": "14128909a9ac45e182845a7b9f99a0bc",
       "version_major": 2,
       "version_minor": 0
      },
      "text/plain": [
       "HBox(children=(FloatProgress(value=0.0, description='Executing', max=14.0, style=ProgressStyle(description_wid…"
      ]
     },
     "metadata": {},
     "output_type": "display_data"
    },
    {
     "name": "stdout",
     "output_type": "stream",
     "text": [
      "\n",
      "T185_2019_03_03_Notebook_0_a: This session already exists - no need to re-run ;)\n",
      "T185_2019_03_03_Notebook_1_a: This session already exists - no need to re-run ;)\n",
      "T185_2019_03_03_Notebook_1_e: This session already exists - no need to re-run ;)\n",
      "T185_2019_03_03_Notebook_2_a: This session already exists - no need to re-run ;)\n",
      "T185_2019_03_03_Notebook_4_a: This session already exists - no need to re-run ;)\n",
      "T185_2019_03_03_Notebook_4_b: This session already exists - no need to re-run ;)\n",
      "T185_2019_03_03_Notebook_4_c: This session already exists - no need to re-run ;)\n",
      "T185_2019_03_03_Notebook_5_a_seq0a1ae2a4abc5a: This session already exists - no need to re-run ;)\n",
      "Notebook_6_d.ipynb is being executed\n"
     ]
    },
    {
     "data": {
      "application/vnd.jupyter.widget-view+json": {
       "model_id": "8fbd065a711942c4acc06d08b07b017d",
       "version_major": 2,
       "version_minor": 0
      },
      "text/plain": [
       "HBox(children=(FloatProgress(value=0.0, description='Executing', max=14.0, style=ProgressStyle(description_wid…"
      ]
     },
     "metadata": {},
     "output_type": "display_data"
    },
    {
     "name": "stdout",
     "output_type": "stream",
     "text": [
      "\n",
      "T195_2019_04_20_Notebook_0_a: This session already exists - no need to re-run ;)\n",
      "T195_2019_04_20_Notebook_1_a: This session already exists - no need to re-run ;)\n",
      "T195_2019_04_20_Notebook_1_e: This session already exists - no need to re-run ;)\n",
      "T195_2019_04_20_Notebook_2_a: This session already exists - no need to re-run ;)\n",
      "T195_2019_04_20_Notebook_4_a: This session already exists - no need to re-run ;)\n",
      "T195_2019_04_20_Notebook_4_b: This session already exists - no need to re-run ;)\n",
      "T195_2019_04_20_Notebook_4_c: This session already exists - no need to re-run ;)\n",
      "T195_2019_04_20_Notebook_5_a_seq0a1ae2a4abc5a: This session already exists - no need to re-run ;)\n",
      "Notebook_6_d.ipynb is being executed\n"
     ]
    },
    {
     "data": {
      "application/vnd.jupyter.widget-view+json": {
       "model_id": "2a40ae354fff44609f813d375d50284d",
       "version_major": 2,
       "version_minor": 0
      },
      "text/plain": [
       "HBox(children=(FloatProgress(value=0.0, description='Executing', max=14.0, style=ProgressStyle(description_wid…"
      ]
     },
     "metadata": {},
     "output_type": "display_data"
    },
    {
     "name": "stdout",
     "output_type": "stream",
     "text": [
      "\n",
      "T195_2019_04_21_Notebook_0_a: This session already exists - no need to re-run ;)\n",
      "T195_2019_04_21_Notebook_1_a: This session already exists - no need to re-run ;)\n",
      "T195_2019_04_21_Notebook_1_e: This session already exists - no need to re-run ;)\n",
      "T195_2019_04_21_Notebook_2_a: This session already exists - no need to re-run ;)\n",
      "T195_2019_04_21_Notebook_4_a: This session already exists - no need to re-run ;)\n",
      "T195_2019_04_21_Notebook_4_b: This session already exists - no need to re-run ;)\n",
      "T195_2019_04_21_Notebook_4_c: This session already exists - no need to re-run ;)\n",
      "T195_2019_04_21_Notebook_5_a_seq0a1ae2a4abc5a: This session already exists - no need to re-run ;)\n",
      "Notebook_6_d.ipynb is being executed\n"
     ]
    },
    {
     "data": {
      "application/vnd.jupyter.widget-view+json": {
       "model_id": "43e015d662b749d69369622a2d0321b5",
       "version_major": 2,
       "version_minor": 0
      },
      "text/plain": [
       "HBox(children=(FloatProgress(value=0.0, description='Executing', max=14.0, style=ProgressStyle(description_wid…"
      ]
     },
     "metadata": {},
     "output_type": "display_data"
    },
    {
     "name": "stdout",
     "output_type": "stream",
     "text": [
      "\n",
      "T195_2019_04_26_Notebook_0_a: This session already exists - no need to re-run ;)\n",
      "T195_2019_04_26_Notebook_1_a: This session already exists - no need to re-run ;)\n",
      "T195_2019_04_26_Notebook_1_e: This session already exists - no need to re-run ;)\n",
      "T195_2019_04_26_Notebook_2_a: This session already exists - no need to re-run ;)\n",
      "T195_2019_04_26_Notebook_4_a: This session already exists - no need to re-run ;)\n",
      "T195_2019_04_26_Notebook_4_b: This session already exists - no need to re-run ;)\n",
      "T195_2019_04_26_Notebook_4_c: This session already exists - no need to re-run ;)\n",
      "T195_2019_04_26_Notebook_5_a_seq0a1ae2a4abc5a: This session already exists - no need to re-run ;)\n",
      "Notebook_6_d.ipynb is being executed\n"
     ]
    },
    {
     "data": {
      "application/vnd.jupyter.widget-view+json": {
       "model_id": "7b6c9949f2a74b969ba166e73d3cc3d5",
       "version_major": 2,
       "version_minor": 0
      },
      "text/plain": [
       "HBox(children=(FloatProgress(value=0.0, description='Executing', max=14.0, style=ProgressStyle(description_wid…"
      ]
     },
     "metadata": {},
     "output_type": "display_data"
    },
    {
     "name": "stdout",
     "output_type": "stream",
     "text": [
      "\n",
      "T195_2019_05_03_Notebook_0_a: This session already exists - no need to re-run ;)\n",
      "T195_2019_05_03_Notebook_1_a: This session already exists - no need to re-run ;)\n",
      "T195_2019_05_03_Notebook_1_e: This session already exists - no need to re-run ;)\n",
      "T195_2019_05_03_Notebook_2_a: This session already exists - no need to re-run ;)\n",
      "T195_2019_05_03_Notebook_4_a: This session already exists - no need to re-run ;)\n",
      "T195_2019_05_03_Notebook_4_b: This session already exists - no need to re-run ;)\n",
      "T195_2019_05_03_Notebook_4_c: This session already exists - no need to re-run ;)\n",
      "T195_2019_05_03_Notebook_5_a_seq0a1ae2a4abc5a: This session already exists - no need to re-run ;)\n",
      "Notebook_6_d.ipynb is being executed\n"
     ]
    },
    {
     "data": {
      "application/vnd.jupyter.widget-view+json": {
       "model_id": "2a32e2b4192d4a44a21d23dcca4f7a3e",
       "version_major": 2,
       "version_minor": 0
      },
      "text/plain": [
       "HBox(children=(FloatProgress(value=0.0, description='Executing', max=14.0, style=ProgressStyle(description_wid…"
      ]
     },
     "metadata": {},
     "output_type": "display_data"
    },
    {
     "name": "stdout",
     "output_type": "stream",
     "text": [
      "\n",
      "T196_2019_04_20_Notebook_0_a: This session already exists - no need to re-run ;)\n",
      "T196_2019_04_20_Notebook_1_a: This session already exists - no need to re-run ;)\n",
      "T196_2019_04_20_Notebook_1_e: This session already exists - no need to re-run ;)\n",
      "T196_2019_04_20_Notebook_2_a: This session already exists - no need to re-run ;)\n",
      "T196_2019_04_20_Notebook_4_a: This session already exists - no need to re-run ;)\n",
      "T196_2019_04_20_Notebook_4_b: This session already exists - no need to re-run ;)\n",
      "T196_2019_04_20_Notebook_4_c: This session already exists - no need to re-run ;)\n",
      "T196_2019_04_20_Notebook_5_a_seq0a1ae2a4abc5a: This session already exists - no need to re-run ;)\n",
      "Notebook_6_d.ipynb is being executed\n"
     ]
    },
    {
     "data": {
      "application/vnd.jupyter.widget-view+json": {
       "model_id": "892c310bdc5a4de296dd144715988d06",
       "version_major": 2,
       "version_minor": 0
      },
      "text/plain": [
       "HBox(children=(FloatProgress(value=0.0, description='Executing', max=14.0, style=ProgressStyle(description_wid…"
      ]
     },
     "metadata": {},
     "output_type": "display_data"
    },
    {
     "name": "stdout",
     "output_type": "stream",
     "text": [
      "\n",
      "T196_2019_04_21_Notebook_0_a: This session already exists - no need to re-run ;)\n",
      "T196_2019_04_21_Notebook_1_a: This session already exists - no need to re-run ;)\n",
      "T196_2019_04_21_Notebook_1_e: This session already exists - no need to re-run ;)\n",
      "T196_2019_04_21_Notebook_2_a: This session already exists - no need to re-run ;)\n",
      "T196_2019_04_21_Notebook_4_a: This session already exists - no need to re-run ;)\n",
      "T196_2019_04_21_Notebook_4_b: This session already exists - no need to re-run ;)\n",
      "T196_2019_04_21_Notebook_4_c: This session already exists - no need to re-run ;)\n",
      "T196_2019_04_21_Notebook_5_a_seq0a1ae2a4abc5a: This session already exists - no need to re-run ;)\n",
      "Notebook_6_d.ipynb is being executed\n"
     ]
    },
    {
     "data": {
      "application/vnd.jupyter.widget-view+json": {
       "model_id": "cc01348cff3e4886b960e8ae3d29939a",
       "version_major": 2,
       "version_minor": 0
      },
      "text/plain": [
       "HBox(children=(FloatProgress(value=0.0, description='Executing', max=14.0, style=ProgressStyle(description_wid…"
      ]
     },
     "metadata": {},
     "output_type": "display_data"
    },
    {
     "name": "stdout",
     "output_type": "stream",
     "text": [
      "\n",
      "T196_2019_04_25_Notebook_0_a: This session already exists - no need to re-run ;)\n",
      "T196_2019_04_25_Notebook_1_a: This session already exists - no need to re-run ;)\n",
      "T196_2019_04_25_Notebook_1_e: This session already exists - no need to re-run ;)\n",
      "T196_2019_04_25_Notebook_2_a: This session already exists - no need to re-run ;)\n",
      "T196_2019_04_25_Notebook_4_a: This session already exists - no need to re-run ;)\n",
      "T196_2019_04_25_Notebook_4_b: This session already exists - no need to re-run ;)\n",
      "T196_2019_04_25_Notebook_4_c: This session already exists - no need to re-run ;)\n",
      "T196_2019_04_25_Notebook_5_a_seq0a1ae2a4abc5a: This session already exists - no need to re-run ;)\n",
      "Notebook_6_d.ipynb is being executed\n"
     ]
    },
    {
     "data": {
      "application/vnd.jupyter.widget-view+json": {
       "model_id": "3373cd1732af4507943744addcbf2264",
       "version_major": 2,
       "version_minor": 0
      },
      "text/plain": [
       "HBox(children=(FloatProgress(value=0.0, description='Executing', max=14.0, style=ProgressStyle(description_wid…"
      ]
     },
     "metadata": {},
     "output_type": "display_data"
    },
    {
     "name": "stdout",
     "output_type": "stream",
     "text": [
      "\n",
      "T196_2019_04_26_Notebook_0_a: This session already exists - no need to re-run ;)\n",
      "T196_2019_04_26_Notebook_1_a: This session already exists - no need to re-run ;)\n",
      "T196_2019_04_26_Notebook_1_e: This session already exists - no need to re-run ;)\n",
      "T196_2019_04_26_Notebook_2_a: This session already exists - no need to re-run ;)\n",
      "T196_2019_04_26_Notebook_4_a: This session already exists - no need to re-run ;)\n",
      "T196_2019_04_26_Notebook_4_b: This session already exists - no need to re-run ;)\n",
      "T196_2019_04_26_Notebook_4_c: This session already exists - no need to re-run ;)\n",
      "T196_2019_04_26_Notebook_5_a_seq0a1ae2a4abc5a: This session already exists - no need to re-run ;)\n",
      "Notebook_6_d.ipynb is being executed\n"
     ]
    },
    {
     "data": {
      "application/vnd.jupyter.widget-view+json": {
       "model_id": "b9118df435434ccfbd12743cd94369da",
       "version_major": 2,
       "version_minor": 0
      },
      "text/plain": [
       "HBox(children=(FloatProgress(value=0.0, description='Executing', max=14.0, style=ProgressStyle(description_wid…"
      ]
     },
     "metadata": {},
     "output_type": "display_data"
    },
    {
     "name": "stdout",
     "output_type": "stream",
     "text": [
      "\n",
      "T196_2019_05_03_Notebook_0_a: This session already exists - no need to re-run ;)\n",
      "T196_2019_05_03_Notebook_1_a: This session already exists - no need to re-run ;)\n",
      "T196_2019_05_03_Notebook_1_e: This session already exists - no need to re-run ;)\n",
      "T196_2019_05_03_Notebook_2_a: This session already exists - no need to re-run ;)\n",
      "T196_2019_05_03_Notebook_4_a: This session already exists - no need to re-run ;)\n",
      "T196_2019_05_03_Notebook_4_b: This session already exists - no need to re-run ;)\n",
      "T196_2019_05_03_Notebook_4_c: This session already exists - no need to re-run ;)\n",
      "T196_2019_05_03_Notebook_5_a_seq0a1ae2a4abc5a: This session already exists - no need to re-run ;)\n",
      "Notebook_6_d.ipynb is being executed\n"
     ]
    },
    {
     "data": {
      "application/vnd.jupyter.widget-view+json": {
       "model_id": "63dcbd8daff94168a7f339c3416b2d3c",
       "version_major": 2,
       "version_minor": 0
      },
      "text/plain": [
       "HBox(children=(FloatProgress(value=0.0, description='Executing', max=14.0, style=ProgressStyle(description_wid…"
      ]
     },
     "metadata": {},
     "output_type": "display_data"
    },
    {
     "name": "stdout",
     "output_type": "stream",
     "text": [
      "\n",
      "T208_2019_05_31_Notebook_0_a: This session already exists - no need to re-run ;)\n",
      "T208_2019_05_31_Notebook_1_a: This session already exists - no need to re-run ;)\n",
      "T208_2019_05_31_Notebook_1_e: This session already exists - no need to re-run ;)\n",
      "T208_2019_05_31_Notebook_2_a: This session already exists - no need to re-run ;)\n",
      "T208_2019_05_31_Notebook_4_a: This session already exists - no need to re-run ;)\n",
      "T208_2019_05_31_Notebook_4_b: This session already exists - no need to re-run ;)\n",
      "T208_2019_05_31_Notebook_4_c: This session already exists - no need to re-run ;)\n",
      "T208_2019_05_31_Notebook_5_a_seq0a1ae2a4abc5a: This session already exists - no need to re-run ;)\n",
      "Notebook_6_d.ipynb is being executed\n"
     ]
    },
    {
     "data": {
      "application/vnd.jupyter.widget-view+json": {
       "model_id": "1ad3277b1de7401dac5b31b62231a6e2",
       "version_major": 2,
       "version_minor": 0
      },
      "text/plain": [
       "HBox(children=(FloatProgress(value=0.0, description='Executing', max=14.0, style=ProgressStyle(description_wid…"
      ]
     },
     "metadata": {},
     "output_type": "display_data"
    },
    {
     "name": "stdout",
     "output_type": "stream",
     "text": [
      "\n",
      "T208_2019_06_03_Notebook_0_a: This session already exists - no need to re-run ;)\n",
      "T208_2019_06_03_Notebook_1_a: This session already exists - no need to re-run ;)\n",
      "T208_2019_06_03_Notebook_1_e: This session already exists - no need to re-run ;)\n",
      "T208_2019_06_03_Notebook_2_a: This session already exists - no need to re-run ;)\n",
      "T208_2019_06_03_Notebook_4_a: This session already exists - no need to re-run ;)\n",
      "T208_2019_06_03_Notebook_4_b: This session already exists - no need to re-run ;)\n",
      "T208_2019_06_03_Notebook_4_c: This session already exists - no need to re-run ;)\n",
      "T208_2019_06_03_Notebook_5_a_seq0a1ae2a4abc5a: This session already exists - no need to re-run ;)\n",
      "Notebook_6_d.ipynb is being executed\n"
     ]
    },
    {
     "data": {
      "application/vnd.jupyter.widget-view+json": {
       "model_id": "4cc236c5a8f2480c960c8d0942922813",
       "version_major": 2,
       "version_minor": 0
      },
      "text/plain": [
       "HBox(children=(FloatProgress(value=0.0, description='Executing', max=14.0, style=ProgressStyle(description_wid…"
      ]
     },
     "metadata": {},
     "output_type": "display_data"
    },
    {
     "name": "stdout",
     "output_type": "stream",
     "text": [
      "\n",
      "T208_2019_06_04_Notebook_0_a: This session already exists - no need to re-run ;)\n",
      "T208_2019_06_04_Notebook_1_a: This session already exists - no need to re-run ;)\n",
      "T208_2019_06_04_Notebook_1_e: This session already exists - no need to re-run ;)\n",
      "T208_2019_06_04_Notebook_2_a: This session already exists - no need to re-run ;)\n",
      "T208_2019_06_04_Notebook_4_a: This session already exists - no need to re-run ;)\n",
      "T208_2019_06_04_Notebook_4_b: This session already exists - no need to re-run ;)\n",
      "T208_2019_06_04_Notebook_4_c: This session already exists - no need to re-run ;)\n",
      "T208_2019_06_04_Notebook_5_a_seq0a1ae2a4abc5a: This session already exists - no need to re-run ;)\n",
      "Notebook_6_d.ipynb is being executed\n"
     ]
    },
    {
     "data": {
      "application/vnd.jupyter.widget-view+json": {
       "model_id": "9881086ffcec4c4886c22a2fa88f84c1",
       "version_major": 2,
       "version_minor": 0
      },
      "text/plain": [
       "HBox(children=(FloatProgress(value=0.0, description='Executing', max=14.0, style=ProgressStyle(description_wid…"
      ]
     },
     "metadata": {},
     "output_type": "display_data"
    },
    {
     "name": "stdout",
     "output_type": "stream",
     "text": [
      "\n",
      "T208_2019_06_05_Notebook_0_a: This session already exists - no need to re-run ;)\n",
      "T208_2019_06_05_Notebook_1_a: This session already exists - no need to re-run ;)\n",
      "T208_2019_06_05_Notebook_1_e: This session already exists - no need to re-run ;)\n",
      "T208_2019_06_05_Notebook_2_a: This session already exists - no need to re-run ;)\n",
      "T208_2019_06_05_Notebook_4_a: This session already exists - no need to re-run ;)\n",
      "T208_2019_06_05_Notebook_4_b: This session already exists - no need to re-run ;)\n",
      "T208_2019_06_05_Notebook_4_c: This session already exists - no need to re-run ;)\n",
      "T208_2019_06_05_Notebook_5_a_seq0a1ae2a4abc5a: This session already exists - no need to re-run ;)\n",
      "Notebook_6_d.ipynb is being executed\n"
     ]
    },
    {
     "data": {
      "application/vnd.jupyter.widget-view+json": {
       "model_id": "a3afb4be90364c04b90b985ce39f97bf",
       "version_major": 2,
       "version_minor": 0
      },
      "text/plain": [
       "HBox(children=(FloatProgress(value=0.0, description='Executing', max=14.0, style=ProgressStyle(description_wid…"
      ]
     },
     "metadata": {},
     "output_type": "display_data"
    },
    {
     "name": "stdout",
     "output_type": "stream",
     "text": [
      "\n",
      "T210_2019_06_03_Notebook_0_a: This session already exists - no need to re-run ;)\n",
      "T210_2019_06_03_Notebook_1_a: This session already exists - no need to re-run ;)\n",
      "T210_2019_06_03_Notebook_1_e: This session already exists - no need to re-run ;)\n",
      "T210_2019_06_03_Notebook_2_a: This session already exists - no need to re-run ;)\n",
      "T210_2019_06_03_Notebook_4_a: This session already exists - no need to re-run ;)\n",
      "T210_2019_06_03_Notebook_4_b: This session already exists - no need to re-run ;)\n",
      "T210_2019_06_03_Notebook_4_c: This session already exists - no need to re-run ;)\n",
      "T210_2019_06_03_Notebook_5_a_seq0a1ae2a4abc5a: This session already exists - no need to re-run ;)\n",
      "Notebook_6_d.ipynb is being executed\n"
     ]
    },
    {
     "data": {
      "application/vnd.jupyter.widget-view+json": {
       "model_id": "a5d5e13de2804b7cbe241215a04d286f",
       "version_major": 2,
       "version_minor": 0
      },
      "text/plain": [
       "HBox(children=(FloatProgress(value=0.0, description='Executing', max=14.0, style=ProgressStyle(description_wid…"
      ]
     },
     "metadata": {},
     "output_type": "display_data"
    },
    {
     "name": "stdout",
     "output_type": "stream",
     "text": [
      "\n",
      "T210_2019_06_04_Notebook_0_a: This session already exists - no need to re-run ;)\n",
      "T210_2019_06_04_Notebook_1_a: This session already exists - no need to re-run ;)\n",
      "T210_2019_06_04_Notebook_1_e: This session already exists - no need to re-run ;)\n",
      "T210_2019_06_04_Notebook_2_a: This session already exists - no need to re-run ;)\n",
      "T210_2019_06_04_Notebook_4_a: This session already exists - no need to re-run ;)\n",
      "T210_2019_06_04_Notebook_4_b: This session already exists - no need to re-run ;)\n",
      "T210_2019_06_04_Notebook_4_c: This session already exists - no need to re-run ;)\n",
      "T210_2019_06_04_Notebook_5_a_seq0a1ae2a4abc5a: This session already exists - no need to re-run ;)\n",
      "Notebook_6_d.ipynb is being executed\n"
     ]
    },
    {
     "data": {
      "application/vnd.jupyter.widget-view+json": {
       "model_id": "34973bd18ec84a21a72a0759455655fa",
       "version_major": 2,
       "version_minor": 0
      },
      "text/plain": [
       "HBox(children=(FloatProgress(value=0.0, description='Executing', max=14.0, style=ProgressStyle(description_wid…"
      ]
     },
     "metadata": {},
     "output_type": "display_data"
    },
    {
     "name": "stdout",
     "output_type": "stream",
     "text": [
      "\n",
      "T210_2019_06_05_Notebook_0_a: This session already exists - no need to re-run ;)\n",
      "T210_2019_06_05_Notebook_1_a: This session already exists - no need to re-run ;)\n",
      "T210_2019_06_05_Notebook_1_e: This session already exists - no need to re-run ;)\n",
      "T210_2019_06_05_Notebook_2_a: This session already exists - no need to re-run ;)\n",
      "T210_2019_06_05_Notebook_4_a: This session already exists - no need to re-run ;)\n",
      "T210_2019_06_05_Notebook_4_b: This session already exists - no need to re-run ;)\n",
      "T210_2019_06_05_Notebook_4_c: This session already exists - no need to re-run ;)\n",
      "T210_2019_06_05_Notebook_5_a_seq0a1ae2a4abc5a: This session already exists - no need to re-run ;)\n",
      "Notebook_6_d.ipynb is being executed\n"
     ]
    },
    {
     "data": {
      "application/vnd.jupyter.widget-view+json": {
       "model_id": "c4f3a275fd954a3d831b2aa16ce7bf1a",
       "version_major": 2,
       "version_minor": 0
      },
      "text/plain": [
       "HBox(children=(FloatProgress(value=0.0, description='Executing', max=14.0, style=ProgressStyle(description_wid…"
      ]
     },
     "metadata": {},
     "output_type": "display_data"
    },
    {
     "name": "stdout",
     "output_type": "stream",
     "text": [
      "\n",
      "T213_2019_05_31_Notebook_0_a: This session already exists - no need to re-run ;)\n",
      "T213_2019_05_31_Notebook_1_a: This session already exists - no need to re-run ;)\n",
      "T213_2019_05_31_Notebook_1_e: This session already exists - no need to re-run ;)\n",
      "T213_2019_05_31_Notebook_2_a: This session already exists - no need to re-run ;)\n",
      "T213_2019_05_31_Notebook_4_a: This session already exists - no need to re-run ;)\n",
      "T213_2019_05_31_Notebook_4_b: This session already exists - no need to re-run ;)\n",
      "T213_2019_05_31_Notebook_4_c: This session already exists - no need to re-run ;)\n",
      "T213_2019_05_31_Notebook_5_a_seq0a1ae2a4abc5a: This session already exists - no need to re-run ;)\n",
      "Notebook_6_d.ipynb is being executed\n"
     ]
    },
    {
     "data": {
      "application/vnd.jupyter.widget-view+json": {
       "model_id": "23ee5b054e254423a00f4681b6eb792b",
       "version_major": 2,
       "version_minor": 0
      },
      "text/plain": [
       "HBox(children=(FloatProgress(value=0.0, description='Executing', max=14.0, style=ProgressStyle(description_wid…"
      ]
     },
     "metadata": {},
     "output_type": "display_data"
    },
    {
     "name": "stdout",
     "output_type": "stream",
     "text": [
      "\n",
      "T213_2019_06_03_Notebook_0_a: This session already exists - no need to re-run ;)\n",
      "T213_2019_06_03_Notebook_1_a: This session already exists - no need to re-run ;)\n",
      "T213_2019_06_03_Notebook_1_e: This session already exists - no need to re-run ;)\n",
      "T213_2019_06_03_Notebook_2_a: This session already exists - no need to re-run ;)\n",
      "T213_2019_06_03_Notebook_4_a: This session already exists - no need to re-run ;)\n",
      "T213_2019_06_03_Notebook_4_b: This session already exists - no need to re-run ;)\n",
      "T213_2019_06_03_Notebook_4_c: This session already exists - no need to re-run ;)\n",
      "T213_2019_06_03_Notebook_5_a_seq0a1ae2a4abc5a: This session already exists - no need to re-run ;)\n",
      "Notebook_6_d.ipynb is being executed\n"
     ]
    },
    {
     "data": {
      "application/vnd.jupyter.widget-view+json": {
       "model_id": "e27618b5d60342759b148e622190584d",
       "version_major": 2,
       "version_minor": 0
      },
      "text/plain": [
       "HBox(children=(FloatProgress(value=0.0, description='Executing', max=14.0, style=ProgressStyle(description_wid…"
      ]
     },
     "metadata": {},
     "output_type": "display_data"
    },
    {
     "name": "stdout",
     "output_type": "stream",
     "text": [
      "\n",
      "T213_2019_06_04_Notebook_0_a: This session already exists - no need to re-run ;)\n",
      "T213_2019_06_04_Notebook_1_a: This session already exists - no need to re-run ;)\n",
      "T213_2019_06_04_Notebook_1_e: This session already exists - no need to re-run ;)\n",
      "T213_2019_06_04_Notebook_2_a: This session already exists - no need to re-run ;)\n",
      "T213_2019_06_04_Notebook_4_a: This session already exists - no need to re-run ;)\n",
      "T213_2019_06_04_Notebook_4_b: This session already exists - no need to re-run ;)\n",
      "T213_2019_06_04_Notebook_4_c: This session already exists - no need to re-run ;)\n",
      "T213_2019_06_04_Notebook_5_a_seq0a1ae2a4abc5a: This session already exists - no need to re-run ;)\n",
      "Notebook_6_d.ipynb is being executed\n"
     ]
    },
    {
     "data": {
      "application/vnd.jupyter.widget-view+json": {
       "model_id": "0f5ae42289ea449da27dd6893e66eecb",
       "version_major": 2,
       "version_minor": 0
      },
      "text/plain": [
       "HBox(children=(FloatProgress(value=0.0, description='Executing', max=14.0, style=ProgressStyle(description_wid…"
      ]
     },
     "metadata": {},
     "output_type": "display_data"
    },
    {
     "name": "stdout",
     "output_type": "stream",
     "text": [
      "\n",
      "T214_2019_05_31_Notebook_0_a: This session already exists - no need to re-run ;)\n",
      "T214_2019_05_31_Notebook_1_a: This session already exists - no need to re-run ;)\n",
      "T214_2019_05_31_Notebook_1_e: This session already exists - no need to re-run ;)\n",
      "T214_2019_05_31_Notebook_2_a: This session already exists - no need to re-run ;)\n",
      "T214_2019_05_31_Notebook_4_a: This session already exists - no need to re-run ;)\n",
      "T214_2019_05_31_Notebook_4_b: This session already exists - no need to re-run ;)\n",
      "T214_2019_05_31_Notebook_4_c: This session already exists - no need to re-run ;)\n",
      "T214_2019_05_31_Notebook_5_a_seq0a1ae2a4abc5a: This session already exists - no need to re-run ;)\n",
      "Notebook_6_d.ipynb is being executed\n"
     ]
    },
    {
     "data": {
      "application/vnd.jupyter.widget-view+json": {
       "model_id": "8cf4db7f93f0402c8b402319678e6faa",
       "version_major": 2,
       "version_minor": 0
      },
      "text/plain": [
       "HBox(children=(FloatProgress(value=0.0, description='Executing', max=14.0, style=ProgressStyle(description_wid…"
      ]
     },
     "metadata": {},
     "output_type": "display_data"
    },
    {
     "name": "stdout",
     "output_type": "stream",
     "text": [
      "\n",
      "T214_2019_06_03_Notebook_0_a: This session already exists - no need to re-run ;)\n",
      "T214_2019_06_03_Notebook_1_a: This session already exists - no need to re-run ;)\n",
      "T214_2019_06_03_Notebook_1_e: This session already exists - no need to re-run ;)\n",
      "T214_2019_06_03_Notebook_2_a: This session already exists - no need to re-run ;)\n",
      "T214_2019_06_03_Notebook_4_a: This session already exists - no need to re-run ;)\n",
      "T214_2019_06_03_Notebook_4_b: This session already exists - no need to re-run ;)\n",
      "T214_2019_06_03_Notebook_4_c: This session already exists - no need to re-run ;)\n",
      "T214_2019_06_03_Notebook_5_a_seq0a1ae2a4abc5a: This session already exists - no need to re-run ;)\n",
      "Notebook_6_d.ipynb is being executed\n"
     ]
    },
    {
     "data": {
      "application/vnd.jupyter.widget-view+json": {
       "model_id": "b4bcd6e36c234c97a21a209e73fceb04",
       "version_major": 2,
       "version_minor": 0
      },
      "text/plain": [
       "HBox(children=(FloatProgress(value=0.0, description='Executing', max=14.0, style=ProgressStyle(description_wid…"
      ]
     },
     "metadata": {},
     "output_type": "display_data"
    },
    {
     "name": "stdout",
     "output_type": "stream",
     "text": [
      "\n",
      "T214_2019_06_04_Notebook_0_a: This session already exists - no need to re-run ;)\n",
      "T214_2019_06_04_Notebook_1_a: This session already exists - no need to re-run ;)\n",
      "T214_2019_06_04_Notebook_1_e: This session already exists - no need to re-run ;)\n",
      "T214_2019_06_04_Notebook_2_a: This session already exists - no need to re-run ;)\n",
      "T214_2019_06_04_Notebook_4_a: This session already exists - no need to re-run ;)\n",
      "T214_2019_06_04_Notebook_4_b: This session already exists - no need to re-run ;)\n",
      "T214_2019_06_04_Notebook_4_c: This session already exists - no need to re-run ;)\n",
      "T214_2019_06_04_Notebook_5_a_seq0a1ae2a4abc5a: This session already exists - no need to re-run ;)\n",
      "Notebook_6_d.ipynb is being executed\n"
     ]
    },
    {
     "data": {
      "application/vnd.jupyter.widget-view+json": {
       "model_id": "4f45b8f0cfa94e3abaf283352fbcf464",
       "version_major": 2,
       "version_minor": 0
      },
      "text/plain": [
       "HBox(children=(FloatProgress(value=0.0, description='Executing', max=14.0, style=ProgressStyle(description_wid…"
      ]
     },
     "metadata": {},
     "output_type": "display_data"
    },
    {
     "name": "stdout",
     "output_type": "stream",
     "text": [
      "\n",
      "T214_2019_06_07_Notebook_0_a: This session already exists - no need to re-run ;)\n",
      "T214_2019_06_07_Notebook_1_a: This session already exists - no need to re-run ;)\n",
      "T214_2019_06_07_Notebook_1_e: This session already exists - no need to re-run ;)\n",
      "T214_2019_06_07_Notebook_2_a: This session already exists - no need to re-run ;)\n",
      "T214_2019_06_07_Notebook_4_a: This session already exists - no need to re-run ;)\n",
      "T214_2019_06_07_Notebook_4_b: This session already exists - no need to re-run ;)\n",
      "T214_2019_06_07_Notebook_4_c: This session already exists - no need to re-run ;)\n",
      "T214_2019_06_07_Notebook_5_a_seq0a1ae2a4abc5a: This session already exists - no need to re-run ;)\n",
      "Notebook_6_d.ipynb is being executed\n"
     ]
    },
    {
     "data": {
      "application/vnd.jupyter.widget-view+json": {
       "model_id": "05f4bc99eefc4193a8db580d9136d352",
       "version_major": 2,
       "version_minor": 0
      },
      "text/plain": [
       "HBox(children=(FloatProgress(value=0.0, description='Executing', max=14.0, style=ProgressStyle(description_wid…"
      ]
     },
     "metadata": {},
     "output_type": "display_data"
    },
    {
     "name": "stdout",
     "output_type": "stream",
     "text": [
      "\n",
      "T214_2019_06_09_Notebook_0_a: This session already exists - no need to re-run ;)\n",
      "T214_2019_06_09_Notebook_1_a: This session already exists - no need to re-run ;)\n",
      "T214_2019_06_09_Notebook_1_e: This session already exists - no need to re-run ;)\n",
      "T214_2019_06_09_Notebook_2_a: This session already exists - no need to re-run ;)\n",
      "T214_2019_06_09_Notebook_4_a: This session already exists - no need to re-run ;)\n",
      "T214_2019_06_09_Notebook_4_b: This session already exists - no need to re-run ;)\n",
      "T214_2019_06_09_Notebook_4_c: This session already exists - no need to re-run ;)\n",
      "T214_2019_06_09_Notebook_5_a_seq0a1ae2a4abc5a: This session already exists - no need to re-run ;)\n",
      "Notebook_6_d.ipynb is being executed\n"
     ]
    },
    {
     "data": {
      "application/vnd.jupyter.widget-view+json": {
       "model_id": "9a442b9f2656429497620e090dc9aa02",
       "version_major": 2,
       "version_minor": 0
      },
      "text/plain": [
       "HBox(children=(FloatProgress(value=0.0, description='Executing', max=14.0, style=ProgressStyle(description_wid…"
      ]
     },
     "metadata": {},
     "output_type": "display_data"
    },
    {
     "name": "stdout",
     "output_type": "stream",
     "text": [
      "\n",
      "T214_2019_06_12_Notebook_0_a: This session already exists - no need to re-run ;)\n",
      "T214_2019_06_12_Notebook_1_a: This session already exists - no need to re-run ;)\n",
      "T214_2019_06_12_Notebook_1_e: This session already exists - no need to re-run ;)\n",
      "T214_2019_06_12_Notebook_2_a: This session already exists - no need to re-run ;)\n",
      "T214_2019_06_12_Notebook_4_a: This session already exists - no need to re-run ;)\n",
      "T214_2019_06_12_Notebook_4_b: This session already exists - no need to re-run ;)\n",
      "T214_2019_06_12_Notebook_4_c: This session already exists - no need to re-run ;)\n",
      "T214_2019_06_12_Notebook_5_a_seq0a1ae2a4abc5a: This session already exists - no need to re-run ;)\n",
      "Notebook_6_d.ipynb is being executed\n"
     ]
    },
    {
     "data": {
      "application/vnd.jupyter.widget-view+json": {
       "model_id": "33a41d5c5f1245fc838da1d852042cf5",
       "version_major": 2,
       "version_minor": 0
      },
      "text/plain": [
       "HBox(children=(FloatProgress(value=0.0, description='Executing', max=14.0, style=ProgressStyle(description_wid…"
      ]
     },
     "metadata": {},
     "output_type": "display_data"
    },
    {
     "name": "stdout",
     "output_type": "stream",
     "text": [
      "\n",
      "T215_2019_05_31_Notebook_0_a: This session already exists - no need to re-run ;)\n",
      "T215_2019_05_31_Notebook_1_a: This session already exists - no need to re-run ;)\n",
      "T215_2019_05_31_Notebook_1_e: This session already exists - no need to re-run ;)\n",
      "T215_2019_05_31_Notebook_2_a: This session already exists - no need to re-run ;)\n",
      "T215_2019_05_31_Notebook_4_a: This session already exists - no need to re-run ;)\n",
      "T215_2019_05_31_Notebook_4_b: This session already exists - no need to re-run ;)\n",
      "T215_2019_05_31_Notebook_4_c: This session already exists - no need to re-run ;)\n",
      "T215_2019_05_31_Notebook_5_a_seq0a1ae2a4abc5a: This session already exists - no need to re-run ;)\n",
      "Notebook_6_d.ipynb is being executed\n"
     ]
    },
    {
     "data": {
      "application/vnd.jupyter.widget-view+json": {
       "model_id": "a5e9c3297bb2427d858c54233a6562ff",
       "version_major": 2,
       "version_minor": 0
      },
      "text/plain": [
       "HBox(children=(FloatProgress(value=0.0, description='Executing', max=14.0, style=ProgressStyle(description_wid…"
      ]
     },
     "metadata": {},
     "output_type": "display_data"
    },
    {
     "name": "stdout",
     "output_type": "stream",
     "text": [
      "\n",
      "T215_2019_06_03_Notebook_0_a: This session already exists - no need to re-run ;)\n",
      "T215_2019_06_03_Notebook_1_a: This session already exists - no need to re-run ;)\n",
      "T215_2019_06_03_Notebook_1_e: This session already exists - no need to re-run ;)\n",
      "T215_2019_06_03_Notebook_2_a: This session already exists - no need to re-run ;)\n",
      "T215_2019_06_03_Notebook_4_a: This session already exists - no need to re-run ;)\n",
      "T215_2019_06_03_Notebook_4_b: This session already exists - no need to re-run ;)\n",
      "T215_2019_06_03_Notebook_4_c: This session already exists - no need to re-run ;)\n",
      "T215_2019_06_03_Notebook_5_a_seq0a1ae2a4abc5a: This session already exists - no need to re-run ;)\n",
      "Notebook_6_d.ipynb is being executed\n"
     ]
    },
    {
     "data": {
      "application/vnd.jupyter.widget-view+json": {
       "model_id": "38bc337548b64a5da000ee4a0e13b5a4",
       "version_major": 2,
       "version_minor": 0
      },
      "text/plain": [
       "HBox(children=(FloatProgress(value=0.0, description='Executing', max=14.0, style=ProgressStyle(description_wid…"
      ]
     },
     "metadata": {},
     "output_type": "display_data"
    },
    {
     "name": "stdout",
     "output_type": "stream",
     "text": [
      "\n",
      "T215_2019_06_04_Notebook_0_a: This session already exists - no need to re-run ;)\n",
      "T215_2019_06_04_Notebook_1_a: This session already exists - no need to re-run ;)\n",
      "T215_2019_06_04_Notebook_1_e: This session already exists - no need to re-run ;)\n",
      "T215_2019_06_04_Notebook_2_a: This session already exists - no need to re-run ;)\n",
      "T215_2019_06_04_Notebook_4_a: This session already exists - no need to re-run ;)\n",
      "T215_2019_06_04_Notebook_4_b: This session already exists - no need to re-run ;)\n",
      "T215_2019_06_04_Notebook_4_c: This session already exists - no need to re-run ;)\n",
      "T215_2019_06_04_Notebook_5_a_seq0a1ae2a4abc5a: This session already exists - no need to re-run ;)\n",
      "Notebook_6_d.ipynb is being executed\n"
     ]
    },
    {
     "data": {
      "application/vnd.jupyter.widget-view+json": {
       "model_id": "b508633fe9a7430dbf539b4cf578ee6a",
       "version_major": 2,
       "version_minor": 0
      },
      "text/plain": [
       "HBox(children=(FloatProgress(value=0.0, description='Executing', max=14.0, style=ProgressStyle(description_wid…"
      ]
     },
     "metadata": {},
     "output_type": "display_data"
    },
    {
     "name": "stdout",
     "output_type": "stream",
     "text": [
      "\n",
      "T215_2019_06_05_Notebook_0_a: This session already exists - no need to re-run ;)\n",
      "T215_2019_06_05_Notebook_1_a: This session already exists - no need to re-run ;)\n",
      "T215_2019_06_05_Notebook_1_e: This session already exists - no need to re-run ;)\n",
      "T215_2019_06_05_Notebook_2_a: This session already exists - no need to re-run ;)\n",
      "T215_2019_06_05_Notebook_4_a: This session already exists - no need to re-run ;)\n",
      "T215_2019_06_05_Notebook_4_b: This session already exists - no need to re-run ;)\n",
      "T215_2019_06_05_Notebook_4_c: This session already exists - no need to re-run ;)\n",
      "T215_2019_06_05_Notebook_5_a_seq0a1ae2a4abc5a: This session already exists - no need to re-run ;)\n",
      "Notebook_6_d.ipynb is being executed\n"
     ]
    },
    {
     "data": {
      "application/vnd.jupyter.widget-view+json": {
       "model_id": "a2dc14001a5049b294c4b49576129d20",
       "version_major": 2,
       "version_minor": 0
      },
      "text/plain": [
       "HBox(children=(FloatProgress(value=0.0, description='Executing', max=14.0, style=ProgressStyle(description_wid…"
      ]
     },
     "metadata": {},
     "output_type": "display_data"
    },
    {
     "name": "stdout",
     "output_type": "stream",
     "text": [
      "\n",
      "T215_2019_06_06_Notebook_0_a: This session already exists - no need to re-run ;)\n",
      "T215_2019_06_06_Notebook_1_a: This session already exists - no need to re-run ;)\n",
      "T215_2019_06_06_Notebook_1_e: This session already exists - no need to re-run ;)\n",
      "T215_2019_06_06_Notebook_2_a: This session already exists - no need to re-run ;)\n",
      "T215_2019_06_06_Notebook_4_a: This session already exists - no need to re-run ;)\n",
      "T215_2019_06_06_Notebook_4_b: This session already exists - no need to re-run ;)\n",
      "T215_2019_06_06_Notebook_4_c: This session already exists - no need to re-run ;)\n",
      "T215_2019_06_06_Notebook_5_a_seq0a1ae2a4abc5a: This session already exists - no need to re-run ;)\n",
      "Notebook_6_d.ipynb is being executed\n"
     ]
    },
    {
     "data": {
      "application/vnd.jupyter.widget-view+json": {
       "model_id": "cac4d947138f4fb7bd89f1d27fd05085",
       "version_major": 2,
       "version_minor": 0
      },
      "text/plain": [
       "HBox(children=(FloatProgress(value=0.0, description='Executing', max=14.0, style=ProgressStyle(description_wid…"
      ]
     },
     "metadata": {},
     "output_type": "display_data"
    },
    {
     "name": "stdout",
     "output_type": "stream",
     "text": [
      "\n",
      "T215_2019_06_07_Notebook_0_a: This session already exists - no need to re-run ;)\n",
      "T215_2019_06_07_Notebook_1_a: This session already exists - no need to re-run ;)\n",
      "T215_2019_06_07_Notebook_1_e: This session already exists - no need to re-run ;)\n",
      "T215_2019_06_07_Notebook_2_a: This session already exists - no need to re-run ;)\n",
      "T215_2019_06_07_Notebook_4_a: This session already exists - no need to re-run ;)\n",
      "T215_2019_06_07_Notebook_4_b: This session already exists - no need to re-run ;)\n",
      "T215_2019_06_07_Notebook_4_c: This session already exists - no need to re-run ;)\n",
      "T215_2019_06_07_Notebook_5_a_seq0a1ae2a4abc5a: This session already exists - no need to re-run ;)\n",
      "Notebook_6_d.ipynb is being executed\n"
     ]
    },
    {
     "data": {
      "application/vnd.jupyter.widget-view+json": {
       "model_id": "6700e56b829e4f1da14d8cdd32ea3696",
       "version_major": 2,
       "version_minor": 0
      },
      "text/plain": [
       "HBox(children=(FloatProgress(value=0.0, description='Executing', max=14.0, style=ProgressStyle(description_wid…"
      ]
     },
     "metadata": {},
     "output_type": "display_data"
    },
    {
     "name": "stdout",
     "output_type": "stream",
     "text": [
      "\n",
      "T215_2019_06_09_Notebook_0_a: This session already exists - no need to re-run ;)\n",
      "T215_2019_06_09_Notebook_1_a: This session already exists - no need to re-run ;)\n",
      "T215_2019_06_09_Notebook_1_e: This session already exists - no need to re-run ;)\n",
      "T215_2019_06_09_Notebook_2_a: This session already exists - no need to re-run ;)\n",
      "T215_2019_06_09_Notebook_4_a: This session already exists - no need to re-run ;)\n",
      "T215_2019_06_09_Notebook_4_b: This session already exists - no need to re-run ;)\n",
      "T215_2019_06_09_Notebook_4_c: This session already exists - no need to re-run ;)\n",
      "T215_2019_06_09_Notebook_5_a_seq0a1ae2a4abc5a: This session already exists - no need to re-run ;)\n",
      "Notebook_6_d.ipynb is being executed\n"
     ]
    },
    {
     "data": {
      "application/vnd.jupyter.widget-view+json": {
       "model_id": "5c4f77eb3b0f4c47837c574dedeadf7f",
       "version_major": 2,
       "version_minor": 0
      },
      "text/plain": [
       "HBox(children=(FloatProgress(value=0.0, description='Executing', max=14.0, style=ProgressStyle(description_wid…"
      ]
     },
     "metadata": {},
     "output_type": "display_data"
    },
    {
     "name": "stdout",
     "output_type": "stream",
     "text": [
      "\n",
      "T216_2019_06_25_Notebook_0_a: This session already exists - no need to re-run ;)\n",
      "T216_2019_06_25_Notebook_1_a: This session already exists - no need to re-run ;)\n",
      "T216_2019_06_25_Notebook_1_e: This session already exists - no need to re-run ;)\n",
      "T216_2019_06_25_Notebook_2_a: This session already exists - no need to re-run ;)\n",
      "T216_2019_06_25_Notebook_4_a: This session already exists - no need to re-run ;)\n",
      "T216_2019_06_25_Notebook_4_b: This session already exists - no need to re-run ;)\n",
      "T216_2019_06_25_Notebook_4_c: This session already exists - no need to re-run ;)\n",
      "T216_2019_06_25_Notebook_5_a_seq0a1ae2a4abc5a: This session already exists - no need to re-run ;)\n",
      "Notebook_6_d.ipynb is being executed\n"
     ]
    },
    {
     "data": {
      "application/vnd.jupyter.widget-view+json": {
       "model_id": "466152fee70a45e3875e50d6fbaf1ac1",
       "version_major": 2,
       "version_minor": 0
      },
      "text/plain": [
       "HBox(children=(FloatProgress(value=0.0, description='Executing', max=14.0, style=ProgressStyle(description_wid…"
      ]
     },
     "metadata": {},
     "output_type": "display_data"
    },
    {
     "name": "stdout",
     "output_type": "stream",
     "text": [
      "\n",
      "T216_2019_06_26_Notebook_0_a: This session already exists - no need to re-run ;)\n",
      "T216_2019_06_26_Notebook_1_a: This session already exists - no need to re-run ;)\n",
      "T216_2019_06_26_Notebook_1_e: This session already exists - no need to re-run ;)\n",
      "T216_2019_06_26_Notebook_2_a: This session already exists - no need to re-run ;)\n",
      "T216_2019_06_26_Notebook_4_a: This session already exists - no need to re-run ;)\n",
      "T216_2019_06_26_Notebook_4_b: This session already exists - no need to re-run ;)\n",
      "T216_2019_06_26_Notebook_4_c: This session already exists - no need to re-run ;)\n",
      "T216_2019_06_26_Notebook_5_a_seq0a1ae2a4abc5a: This session already exists - no need to re-run ;)\n",
      "Notebook_6_d.ipynb is being executed\n"
     ]
    },
    {
     "data": {
      "application/vnd.jupyter.widget-view+json": {
       "model_id": "909abbf15f744e9a8fbc830c6133b9bb",
       "version_major": 2,
       "version_minor": 0
      },
      "text/plain": [
       "HBox(children=(FloatProgress(value=0.0, description='Executing', max=14.0, style=ProgressStyle(description_wid…"
      ]
     },
     "metadata": {},
     "output_type": "display_data"
    },
    {
     "name": "stdout",
     "output_type": "stream",
     "text": [
      "\n",
      "T217_2019_06_24_Notebook_0_a: This session already exists - no need to re-run ;)\n",
      "T217_2019_06_24_Notebook_1_a: This session already exists - no need to re-run ;)\n",
      "T217_2019_06_24_Notebook_1_e: This session already exists - no need to re-run ;)\n",
      "T217_2019_06_24_Notebook_2_a: This session already exists - no need to re-run ;)\n",
      "T217_2019_06_24_Notebook_4_a: This session already exists - no need to re-run ;)\n",
      "T217_2019_06_24_Notebook_4_b: This session already exists - no need to re-run ;)\n",
      "T217_2019_06_24_Notebook_4_c: This session already exists - no need to re-run ;)\n",
      "T217_2019_06_24_Notebook_5_a_seq0a1ae2a4abc5a: This session already exists - no need to re-run ;)\n",
      "Notebook_6_d.ipynb is being executed\n"
     ]
    },
    {
     "data": {
      "application/vnd.jupyter.widget-view+json": {
       "model_id": "580ba7394b664ef9b50fbaae45162435",
       "version_major": 2,
       "version_minor": 0
      },
      "text/plain": [
       "HBox(children=(FloatProgress(value=0.0, description='Executing', max=14.0, style=ProgressStyle(description_wid…"
      ]
     },
     "metadata": {},
     "output_type": "display_data"
    },
    {
     "name": "stdout",
     "output_type": "stream",
     "text": [
      "\n",
      "T217_2019_06_25_Notebook_0_a: This session already exists - no need to re-run ;)\n",
      "T217_2019_06_25_Notebook_1_a: This session already exists - no need to re-run ;)\n",
      "T217_2019_06_25_Notebook_1_e: This session already exists - no need to re-run ;)\n",
      "T217_2019_06_25_Notebook_2_a: This session already exists - no need to re-run ;)\n",
      "T217_2019_06_25_Notebook_4_a: This session already exists - no need to re-run ;)\n",
      "T217_2019_06_25_Notebook_4_b: This session already exists - no need to re-run ;)\n",
      "T217_2019_06_25_Notebook_4_c: This session already exists - no need to re-run ;)\n",
      "T217_2019_06_25_Notebook_5_a_seq0a1ae2a4abc5a: This session already exists - no need to re-run ;)\n",
      "Notebook_6_d.ipynb is being executed\n"
     ]
    },
    {
     "data": {
      "application/vnd.jupyter.widget-view+json": {
       "model_id": "05bcd2616e694438b346ced1fb73d1b2",
       "version_major": 2,
       "version_minor": 0
      },
      "text/plain": [
       "HBox(children=(FloatProgress(value=0.0, description='Executing', max=14.0, style=ProgressStyle(description_wid…"
      ]
     },
     "metadata": {},
     "output_type": "display_data"
    },
    {
     "name": "stdout",
     "output_type": "stream",
     "text": [
      "\n",
      "T217_2019_06_26_Notebook_0_a: This session already exists - no need to re-run ;)\n",
      "T217_2019_06_26_Notebook_1_a: This session already exists - no need to re-run ;)\n",
      "T217_2019_06_26_Notebook_1_e: This session already exists - no need to re-run ;)\n",
      "T217_2019_06_26_Notebook_2_a: This session already exists - no need to re-run ;)\n",
      "T217_2019_06_26_Notebook_4_a: This session already exists - no need to re-run ;)\n",
      "T217_2019_06_26_Notebook_4_b: This session already exists - no need to re-run ;)\n",
      "T217_2019_06_26_Notebook_4_c: This session already exists - no need to re-run ;)\n",
      "T217_2019_06_26_Notebook_5_a_seq0a1ae2a4abc5a: This session already exists - no need to re-run ;)\n",
      "Notebook_6_d.ipynb is being executed\n"
     ]
    },
    {
     "data": {
      "application/vnd.jupyter.widget-view+json": {
       "model_id": "8e73d437e5924e1fa9de55379eeecd15",
       "version_major": 2,
       "version_minor": 0
      },
      "text/plain": [
       "HBox(children=(FloatProgress(value=0.0, description='Executing', max=14.0, style=ProgressStyle(description_wid…"
      ]
     },
     "metadata": {},
     "output_type": "display_data"
    },
    {
     "name": "stdout",
     "output_type": "stream",
     "text": [
      "\n",
      "T217_2019_06_27_Notebook_0_a: This session already exists - no need to re-run ;)\n",
      "T217_2019_06_27_Notebook_1_a: This session already exists - no need to re-run ;)\n",
      "T217_2019_06_27_Notebook_1_e: This session already exists - no need to re-run ;)\n",
      "T217_2019_06_27_Notebook_2_a: This session already exists - no need to re-run ;)\n",
      "T217_2019_06_27_Notebook_4_a: This session already exists - no need to re-run ;)\n",
      "T217_2019_06_27_Notebook_4_b: This session already exists - no need to re-run ;)\n",
      "T217_2019_06_27_Notebook_4_c: This session already exists - no need to re-run ;)\n",
      "T217_2019_06_27_Notebook_5_a_seq0a1ae2a4abc5a: This session already exists - no need to re-run ;)\n",
      "Notebook_6_d.ipynb is being executed\n"
     ]
    },
    {
     "data": {
      "application/vnd.jupyter.widget-view+json": {
       "model_id": "ea146a1a15a045618e157a3f132d4c54",
       "version_major": 2,
       "version_minor": 0
      },
      "text/plain": [
       "HBox(children=(FloatProgress(value=0.0, description='Executing', max=14.0, style=ProgressStyle(description_wid…"
      ]
     },
     "metadata": {},
     "output_type": "display_data"
    },
    {
     "name": "stdout",
     "output_type": "stream",
     "text": [
      "\n",
      "T217_2019_06_28_Notebook_0_a: This session already exists - no need to re-run ;)\n",
      "T217_2019_06_28_Notebook_1_a: This session already exists - no need to re-run ;)\n",
      "T217_2019_06_28_Notebook_1_e: This session already exists - no need to re-run ;)\n",
      "T217_2019_06_28_Notebook_2_a: This session already exists - no need to re-run ;)\n",
      "T217_2019_06_28_Notebook_4_a: This session already exists - no need to re-run ;)\n",
      "T217_2019_06_28_Notebook_4_b: This session already exists - no need to re-run ;)\n",
      "T217_2019_06_28_Notebook_4_c: This session already exists - no need to re-run ;)\n",
      "T217_2019_06_28_Notebook_5_a_seq0a1ae2a4abc5a: This session already exists - no need to re-run ;)\n",
      "Notebook_6_d.ipynb is being executed\n"
     ]
    },
    {
     "data": {
      "application/vnd.jupyter.widget-view+json": {
       "model_id": "57b99b96fe81470d8b3a95bc6305096f",
       "version_major": 2,
       "version_minor": 0
      },
      "text/plain": [
       "HBox(children=(FloatProgress(value=0.0, description='Executing', max=14.0, style=ProgressStyle(description_wid…"
      ]
     },
     "metadata": {},
     "output_type": "display_data"
    },
    {
     "name": "stdout",
     "output_type": "stream",
     "text": [
      "\n",
      "T227_2019_08_13_Notebook_0_a: This session already exists - no need to re-run ;)\n",
      "T227_2019_08_13_Notebook_1_a: This session already exists - no need to re-run ;)\n",
      "T227_2019_08_13_Notebook_1_e: This session already exists - no need to re-run ;)\n",
      "T227_2019_08_13_Notebook_2_a: This session already exists - no need to re-run ;)\n",
      "T227_2019_08_13_Notebook_4_a: This session already exists - no need to re-run ;)\n",
      "T227_2019_08_13_Notebook_4_b: This session already exists - no need to re-run ;)\n",
      "T227_2019_08_13_Notebook_4_c: This session already exists - no need to re-run ;)\n",
      "T227_2019_08_13_Notebook_5_a_seq0a1ae2a4abc5a: This session already exists - no need to re-run ;)\n",
      "Notebook_6_d.ipynb is being executed\n"
     ]
    },
    {
     "data": {
      "application/vnd.jupyter.widget-view+json": {
       "model_id": "265dd6484e3044d68ef057b2d913542a",
       "version_major": 2,
       "version_minor": 0
      },
      "text/plain": [
       "HBox(children=(FloatProgress(value=0.0, description='Executing', max=14.0, style=ProgressStyle(description_wid…"
      ]
     },
     "metadata": {},
     "output_type": "display_data"
    },
    {
     "name": "stdout",
     "output_type": "stream",
     "text": [
      "\n",
      "T227_2019_08_14_Notebook_0_a: This session already exists - no need to re-run ;)\n",
      "T227_2019_08_14_Notebook_1_a: This session already exists - no need to re-run ;)\n",
      "T227_2019_08_14_Notebook_1_e: This session already exists - no need to re-run ;)\n",
      "T227_2019_08_14_Notebook_2_a: This session already exists - no need to re-run ;)\n",
      "T227_2019_08_14_Notebook_4_a: This session already exists - no need to re-run ;)\n",
      "T227_2019_08_14_Notebook_4_b: This session already exists - no need to re-run ;)\n",
      "T227_2019_08_14_Notebook_4_c: This session already exists - no need to re-run ;)\n",
      "T227_2019_08_14_Notebook_5_a_seq0a1ae2a4abc5a: This session already exists - no need to re-run ;)\n",
      "Notebook_6_d.ipynb is being executed\n"
     ]
    },
    {
     "data": {
      "application/vnd.jupyter.widget-view+json": {
       "model_id": "421c299ffe8a432cbae31e0965432d21",
       "version_major": 2,
       "version_minor": 0
      },
      "text/plain": [
       "HBox(children=(FloatProgress(value=0.0, description='Executing', max=14.0, style=ProgressStyle(description_wid…"
      ]
     },
     "metadata": {},
     "output_type": "display_data"
    },
    {
     "name": "stdout",
     "output_type": "stream",
     "text": [
      "\n",
      "T227_2019_08_16_Notebook_0_a: This session already exists - no need to re-run ;)\n",
      "T227_2019_08_16_Notebook_1_a: This session already exists - no need to re-run ;)\n",
      "T227_2019_08_16_Notebook_1_e: This session already exists - no need to re-run ;)\n",
      "T227_2019_08_16_Notebook_2_a: This session already exists - no need to re-run ;)\n",
      "T227_2019_08_16_Notebook_4_a: This session already exists - no need to re-run ;)\n",
      "T227_2019_08_16_Notebook_4_b: This session already exists - no need to re-run ;)\n",
      "T227_2019_08_16_Notebook_4_c: This session already exists - no need to re-run ;)\n",
      "T227_2019_08_16_Notebook_5_a_seq0a1ae2a4abc5a: This session already exists - no need to re-run ;)\n",
      "Notebook_6_d.ipynb is being executed\n"
     ]
    },
    {
     "data": {
      "application/vnd.jupyter.widget-view+json": {
       "model_id": "bda8bed62e524fd4946092650815a06c",
       "version_major": 2,
       "version_minor": 0
      },
      "text/plain": [
       "HBox(children=(FloatProgress(value=0.0, description='Executing', max=14.0, style=ProgressStyle(description_wid…"
      ]
     },
     "metadata": {},
     "output_type": "display_data"
    },
    {
     "name": "stdout",
     "output_type": "stream",
     "text": [
      "\n",
      "T227_2019_08_19_Notebook_0_a: This session already exists - no need to re-run ;)\n",
      "T227_2019_08_19_Notebook_1_a: This session already exists - no need to re-run ;)\n",
      "T227_2019_08_19_Notebook_1_e: This session already exists - no need to re-run ;)\n",
      "T227_2019_08_19_Notebook_2_a: This session already exists - no need to re-run ;)\n",
      "T227_2019_08_19_Notebook_4_a: This session already exists - no need to re-run ;)\n",
      "T227_2019_08_19_Notebook_4_b: This session already exists - no need to re-run ;)\n",
      "T227_2019_08_19_Notebook_4_c: This session already exists - no need to re-run ;)\n",
      "T227_2019_08_19_Notebook_5_a_seq0a1ae2a4abc5a: This session already exists - no need to re-run ;)\n",
      "Notebook_6_d.ipynb is being executed\n"
     ]
    },
    {
     "data": {
      "application/vnd.jupyter.widget-view+json": {
       "model_id": "267483fa653a4472b011244828a66c15",
       "version_major": 2,
       "version_minor": 0
      },
      "text/plain": [
       "HBox(children=(FloatProgress(value=0.0, description='Executing', max=14.0, style=ProgressStyle(description_wid…"
      ]
     },
     "metadata": {},
     "output_type": "display_data"
    },
    {
     "name": "stdout",
     "output_type": "stream",
     "text": [
      "\n",
      "T228_2019_08_14_Notebook_0_a: This session already exists - no need to re-run ;)\n",
      "T228_2019_08_14_Notebook_1_a: This session already exists - no need to re-run ;)\n",
      "T228_2019_08_14_Notebook_1_e: This session already exists - no need to re-run ;)\n",
      "T228_2019_08_14_Notebook_2_a: This session already exists - no need to re-run ;)\n",
      "T228_2019_08_14_Notebook_4_a: This session already exists - no need to re-run ;)\n",
      "T228_2019_08_14_Notebook_4_b: This session already exists - no need to re-run ;)\n",
      "T228_2019_08_14_Notebook_4_c: This session already exists - no need to re-run ;)\n",
      "T228_2019_08_14_Notebook_5_a_seq0a1ae2a4abc5a: This session already exists - no need to re-run ;)\n",
      "Notebook_6_d.ipynb is being executed\n"
     ]
    },
    {
     "data": {
      "application/vnd.jupyter.widget-view+json": {
       "model_id": "53f24f1c3949492ea77dfd065016aaf7",
       "version_major": 2,
       "version_minor": 0
      },
      "text/plain": [
       "HBox(children=(FloatProgress(value=0.0, description='Executing', max=14.0, style=ProgressStyle(description_wid…"
      ]
     },
     "metadata": {},
     "output_type": "display_data"
    },
    {
     "name": "stdout",
     "output_type": "stream",
     "text": [
      "\n",
      "T228_2019_08_19_Notebook_0_a: This session already exists - no need to re-run ;)\n",
      "T228_2019_08_19_Notebook_1_a: This session already exists - no need to re-run ;)\n",
      "T228_2019_08_19_Notebook_1_e: This session already exists - no need to re-run ;)\n",
      "T228_2019_08_19_Notebook_2_a: This session already exists - no need to re-run ;)\n",
      "T228_2019_08_19_Notebook_4_a: This session already exists - no need to re-run ;)\n",
      "T228_2019_08_19_Notebook_4_b: This session already exists - no need to re-run ;)\n",
      "T228_2019_08_19_Notebook_4_c: This session already exists - no need to re-run ;)\n",
      "T228_2019_08_19_Notebook_5_a_seq0a1ae2a4abc5a: This session already exists - no need to re-run ;)\n",
      "Notebook_6_d.ipynb is being executed\n"
     ]
    },
    {
     "data": {
      "application/vnd.jupyter.widget-view+json": {
       "model_id": "6325a884e5964ed5a3b0dd0c5927ad4a",
       "version_major": 2,
       "version_minor": 0
      },
      "text/plain": [
       "HBox(children=(FloatProgress(value=0.0, description='Executing', max=14.0, style=ProgressStyle(description_wid…"
      ]
     },
     "metadata": {},
     "output_type": "display_data"
    },
    {
     "name": "stdout",
     "output_type": "stream",
     "text": [
      "\n",
      "T235_2019_08_29_Notebook_0_a: This session already exists - no need to re-run ;)\n",
      "T235_2019_08_29_Notebook_1_a: This session already exists - no need to re-run ;)\n",
      "T235_2019_08_29_Notebook_1_e: This session already exists - no need to re-run ;)\n",
      "T235_2019_08_29_Notebook_2_a: This session already exists - no need to re-run ;)\n",
      "T235_2019_08_29_Notebook_4_a: This session already exists - no need to re-run ;)\n",
      "T235_2019_08_29_Notebook_4_b: This session already exists - no need to re-run ;)\n",
      "T235_2019_08_29_Notebook_4_c: This session already exists - no need to re-run ;)\n",
      "T235_2019_08_29_Notebook_5_a_seq0a1ae2a4abc5a: This session already exists - no need to re-run ;)\n",
      "Notebook_6_d.ipynb is being executed\n"
     ]
    },
    {
     "data": {
      "application/vnd.jupyter.widget-view+json": {
       "model_id": "7b65ffc79a3d46c198fc3303c68bca19",
       "version_major": 2,
       "version_minor": 0
      },
      "text/plain": [
       "HBox(children=(FloatProgress(value=0.0, description='Executing', max=14.0, style=ProgressStyle(description_wid…"
      ]
     },
     "metadata": {},
     "output_type": "display_data"
    },
    {
     "name": "stdout",
     "output_type": "stream",
     "text": [
      "\n",
      "T235_2019_09_03_Notebook_0_a: This session already exists - no need to re-run ;)\n",
      "T235_2019_09_03_Notebook_1_a: This session already exists - no need to re-run ;)\n",
      "T235_2019_09_03_Notebook_1_e: This session already exists - no need to re-run ;)\n",
      "T235_2019_09_03_Notebook_2_a: This session already exists - no need to re-run ;)\n",
      "T235_2019_09_03_Notebook_4_a: This session already exists - no need to re-run ;)\n",
      "T235_2019_09_03_Notebook_4_b: This session already exists - no need to re-run ;)\n",
      "T235_2019_09_03_Notebook_4_c: This session already exists - no need to re-run ;)\n",
      "T235_2019_09_03_Notebook_5_a_seq0a1ae2a4abc5a: This session already exists - no need to re-run ;)\n",
      "Notebook_6_d.ipynb is being executed\n"
     ]
    },
    {
     "data": {
      "application/vnd.jupyter.widget-view+json": {
       "model_id": "a1517712f10c4e479b715d9cf240e62b",
       "version_major": 2,
       "version_minor": 0
      },
      "text/plain": [
       "HBox(children=(FloatProgress(value=0.0, description='Executing', max=14.0, style=ProgressStyle(description_wid…"
      ]
     },
     "metadata": {},
     "output_type": "display_data"
    },
    {
     "name": "stdout",
     "output_type": "stream",
     "text": [
      "\n",
      "T235_2019_09_06_Notebook_0_a: This session already exists - no need to re-run ;)\n",
      "T235_2019_09_06_Notebook_1_a: This session already exists - no need to re-run ;)\n",
      "T235_2019_09_06_Notebook_1_e: This session already exists - no need to re-run ;)\n",
      "T235_2019_09_06_Notebook_2_a: This session already exists - no need to re-run ;)\n",
      "T235_2019_09_06_Notebook_4_a: This session already exists - no need to re-run ;)\n",
      "T235_2019_09_06_Notebook_4_b: This session already exists - no need to re-run ;)\n",
      "T235_2019_09_06_Notebook_4_c: This session already exists - no need to re-run ;)\n",
      "T235_2019_09_06_Notebook_5_a_seq0a1ae2a4abc5a: This session already exists - no need to re-run ;)\n",
      "Notebook_6_d.ipynb is being executed\n"
     ]
    },
    {
     "data": {
      "application/vnd.jupyter.widget-view+json": {
       "model_id": "98c5e981b0a54f87ad4b1d0e60e075f8",
       "version_major": 2,
       "version_minor": 0
      },
      "text/plain": [
       "HBox(children=(FloatProgress(value=0.0, description='Executing', max=14.0, style=ProgressStyle(description_wid…"
      ]
     },
     "metadata": {},
     "output_type": "display_data"
    },
    {
     "name": "stdout",
     "output_type": "stream",
     "text": [
      "\n",
      "T235_2019_09_11_Notebook_0_a: This session already exists - no need to re-run ;)\n",
      "T235_2019_09_11_Notebook_1_a: This session already exists - no need to re-run ;)\n",
      "T235_2019_09_11_Notebook_1_e: This session already exists - no need to re-run ;)\n",
      "T235_2019_09_11_Notebook_2_a: This session already exists - no need to re-run ;)\n",
      "T235_2019_09_11_Notebook_4_a: This session already exists - no need to re-run ;)\n",
      "T235_2019_09_11_Notebook_4_b: This session already exists - no need to re-run ;)\n",
      "T235_2019_09_11_Notebook_4_c: This session already exists - no need to re-run ;)\n",
      "T235_2019_09_11_Notebook_5_a_seq0a1ae2a4abc5a: This session already exists - no need to re-run ;)\n",
      "Notebook_6_d.ipynb is being executed\n"
     ]
    },
    {
     "data": {
      "application/vnd.jupyter.widget-view+json": {
       "model_id": "6148eba017104ee496d5edcff19d16d8",
       "version_major": 2,
       "version_minor": 0
      },
      "text/plain": [
       "HBox(children=(FloatProgress(value=0.0, description='Executing', max=14.0, style=ProgressStyle(description_wid…"
      ]
     },
     "metadata": {},
     "output_type": "display_data"
    },
    {
     "name": "stdout",
     "output_type": "stream",
     "text": [
      "\n",
      "T235_2019_09_13_Notebook_0_a: This session already exists - no need to re-run ;)\n",
      "T235_2019_09_13_Notebook_1_a: This session already exists - no need to re-run ;)\n",
      "T235_2019_09_13_Notebook_1_e: This session already exists - no need to re-run ;)\n",
      "T235_2019_09_13_Notebook_2_a: This session already exists - no need to re-run ;)\n",
      "T235_2019_09_13_Notebook_4_a: This session already exists - no need to re-run ;)\n",
      "T235_2019_09_13_Notebook_4_b: This session already exists - no need to re-run ;)\n",
      "T235_2019_09_13_Notebook_4_c: This session already exists - no need to re-run ;)\n",
      "T235_2019_09_13_Notebook_5_a_seq0a1ae2a4abc5a: This session already exists - no need to re-run ;)\n",
      "Notebook_6_d.ipynb is being executed\n"
     ]
    },
    {
     "data": {
      "application/vnd.jupyter.widget-view+json": {
       "model_id": "2af9209b1f1e402e93e4d6f49e247e92",
       "version_major": 2,
       "version_minor": 0
      },
      "text/plain": [
       "HBox(children=(FloatProgress(value=0.0, description='Executing', max=14.0, style=ProgressStyle(description_wid…"
      ]
     },
     "metadata": {},
     "output_type": "display_data"
    },
    {
     "name": "stdout",
     "output_type": "stream",
     "text": [
      "\n",
      "T256_2019_09_03_Notebook_0_a: This session already exists - no need to re-run ;)\n",
      "T256_2019_09_03_Notebook_1_a: This session already exists - no need to re-run ;)\n",
      "T256_2019_09_03_Notebook_1_e: This session already exists - no need to re-run ;)\n",
      "T256_2019_09_03_Notebook_2_a: This session already exists - no need to re-run ;)\n",
      "T256_2019_09_03_Notebook_4_a: This session already exists - no need to re-run ;)\n",
      "T256_2019_09_03_Notebook_4_b: This session already exists - no need to re-run ;)\n",
      "T256_2019_09_03_Notebook_4_c: This session already exists - no need to re-run ;)\n",
      "T256_2019_09_03_Notebook_5_a_seq0a1ae2a4abc5a: This session already exists - no need to re-run ;)\n",
      "Notebook_6_d.ipynb is being executed\n"
     ]
    },
    {
     "data": {
      "application/vnd.jupyter.widget-view+json": {
       "model_id": "680f337952294c1ba821aec76685ac12",
       "version_major": 2,
       "version_minor": 0
      },
      "text/plain": [
       "HBox(children=(FloatProgress(value=0.0, description='Executing', max=14.0, style=ProgressStyle(description_wid…"
      ]
     },
     "metadata": {},
     "output_type": "display_data"
    },
    {
     "name": "stdout",
     "output_type": "stream",
     "text": [
      "\n",
      "T256_2019_09_11_Notebook_0_a: This session already exists - no need to re-run ;)\n",
      "T256_2019_09_11_Notebook_1_a: This session already exists - no need to re-run ;)\n",
      "T256_2019_09_11_Notebook_1_e: This session already exists - no need to re-run ;)\n",
      "T256_2019_09_11_Notebook_2_a: This session already exists - no need to re-run ;)\n",
      "T256_2019_09_11_Notebook_4_a: This session already exists - no need to re-run ;)\n",
      "T256_2019_09_11_Notebook_4_b: This session already exists - no need to re-run ;)\n",
      "T256_2019_09_11_Notebook_4_c: This session already exists - no need to re-run ;)\n",
      "T256_2019_09_11_Notebook_5_a_seq0a1ae2a4abc5a: This session already exists - no need to re-run ;)\n",
      "Notebook_6_d.ipynb is being executed\n"
     ]
    },
    {
     "data": {
      "application/vnd.jupyter.widget-view+json": {
       "model_id": "551f8ec65d814ac2b3335fbf5c34d41d",
       "version_major": 2,
       "version_minor": 0
      },
      "text/plain": [
       "HBox(children=(FloatProgress(value=0.0, description='Executing', max=14.0, style=ProgressStyle(description_wid…"
      ]
     },
     "metadata": {},
     "output_type": "display_data"
    },
    {
     "name": "stdout",
     "output_type": "stream",
     "text": [
      "\n",
      "T229_2019_09_03_Notebook_0_a: This session already exists - no need to re-run ;)\n",
      "T229_2019_09_03_Notebook_1_a: This session already exists - no need to re-run ;)\n",
      "T229_2019_09_03_Notebook_1_e: This session already exists - no need to re-run ;)\n",
      "T229_2019_09_03_Notebook_2_a: This session already exists - no need to re-run ;)\n",
      "T229_2019_09_03_Notebook_4_a: This session already exists - no need to re-run ;)\n",
      "T229_2019_09_03_Notebook_4_b: This session already exists - no need to re-run ;)\n",
      "T229_2019_09_03_Notebook_4_c: This session already exists - no need to re-run ;)\n",
      "T229_2019_09_03_Notebook_5_a_seq0a1ae2a4abc5a: This session already exists - no need to re-run ;)\n",
      "Notebook_6_d.ipynb is being executed\n"
     ]
    },
    {
     "data": {
      "application/vnd.jupyter.widget-view+json": {
       "model_id": "8c9be1fa43994211a869319808640242",
       "version_major": 2,
       "version_minor": 0
      },
      "text/plain": [
       "HBox(children=(FloatProgress(value=0.0, description='Executing', max=14.0, style=ProgressStyle(description_wid…"
      ]
     },
     "metadata": {},
     "output_type": "display_data"
    },
    {
     "name": "stdout",
     "output_type": "stream",
     "text": [
      "\n",
      "T229_2019_09_06_Notebook_0_a: This session already exists - no need to re-run ;)\n",
      "T229_2019_09_06_Notebook_1_a: This session already exists - no need to re-run ;)\n",
      "T229_2019_09_06_Notebook_1_e: This session already exists - no need to re-run ;)\n",
      "T229_2019_09_06_Notebook_2_a: This session already exists - no need to re-run ;)\n",
      "T229_2019_09_06_Notebook_4_a: This session already exists - no need to re-run ;)\n",
      "T229_2019_09_06_Notebook_4_b: This session already exists - no need to re-run ;)\n",
      "T229_2019_09_06_Notebook_4_c: This session already exists - no need to re-run ;)\n",
      "T229_2019_09_06_Notebook_5_a_seq0a1ae2a4abc5a: This session already exists - no need to re-run ;)\n",
      "Notebook_6_d.ipynb is being executed\n"
     ]
    },
    {
     "data": {
      "application/vnd.jupyter.widget-view+json": {
       "model_id": "896ba518303e460fbca6128f92123192",
       "version_major": 2,
       "version_minor": 0
      },
      "text/plain": [
       "HBox(children=(FloatProgress(value=0.0, description='Executing', max=14.0, style=ProgressStyle(description_wid…"
      ]
     },
     "metadata": {},
     "output_type": "display_data"
    },
    {
     "name": "stdout",
     "output_type": "stream",
     "text": [
      "\n",
      "T229_2019_09_27_Notebook_0_a: This session already exists - no need to re-run ;)\n",
      "T229_2019_09_27_Notebook_1_a: This session already exists - no need to re-run ;)\n",
      "T229_2019_09_27_Notebook_1_e: This session already exists - no need to re-run ;)\n",
      "T229_2019_09_27_Notebook_2_a: This session already exists - no need to re-run ;)\n",
      "T229_2019_09_27_Notebook_4_a: This session already exists - no need to re-run ;)\n",
      "T229_2019_09_27_Notebook_4_b: This session already exists - no need to re-run ;)\n",
      "T229_2019_09_27_Notebook_4_c: This session already exists - no need to re-run ;)\n",
      "T229_2019_09_27_Notebook_5_a_seq0a1ae2a4abc5a: This session already exists - no need to re-run ;)\n",
      "Notebook_6_d.ipynb is being executed\n"
     ]
    },
    {
     "data": {
      "application/vnd.jupyter.widget-view+json": {
       "model_id": "1091121fd7b74b33926bd3b4ded85612",
       "version_major": 2,
       "version_minor": 0
      },
      "text/plain": [
       "HBox(children=(FloatProgress(value=0.0, description='Executing', max=14.0, style=ProgressStyle(description_wid…"
      ]
     },
     "metadata": {},
     "output_type": "display_data"
    },
    {
     "name": "stdout",
     "output_type": "stream",
     "text": [
      "\n",
      "T229_2019_10_01_Notebook_0_a: This session already exists - no need to re-run ;)\n",
      "T229_2019_10_01_Notebook_1_a: This session already exists - no need to re-run ;)\n",
      "T229_2019_10_01_Notebook_1_e: This session already exists - no need to re-run ;)\n",
      "T229_2019_10_01_Notebook_2_a: This session already exists - no need to re-run ;)\n",
      "T229_2019_10_01_Notebook_4_a: This session already exists - no need to re-run ;)\n",
      "T229_2019_10_01_Notebook_4_b: This session already exists - no need to re-run ;)\n",
      "T229_2019_10_01_Notebook_4_c: This session already exists - no need to re-run ;)\n",
      "T229_2019_10_01_Notebook_5_a_seq0a1ae2a4abc5a: This session already exists - no need to re-run ;)\n",
      "Notebook_6_d.ipynb is being executed\n"
     ]
    },
    {
     "data": {
      "application/vnd.jupyter.widget-view+json": {
       "model_id": "c0f51dce9ec04d7d97fe083f91de3c2a",
       "version_major": 2,
       "version_minor": 0
      },
      "text/plain": [
       "HBox(children=(FloatProgress(value=0.0, description='Executing', max=14.0, style=ProgressStyle(description_wid…"
      ]
     },
     "metadata": {},
     "output_type": "display_data"
    },
    {
     "name": "stdout",
     "output_type": "stream",
     "text": [
      "\n",
      "T256_2019_09_27_Notebook_0_a: This session already exists - no need to re-run ;)\n",
      "T256_2019_09_27_Notebook_1_a: This session already exists - no need to re-run ;)\n",
      "T256_2019_09_27_Notebook_1_e: This session already exists - no need to re-run ;)\n",
      "T256_2019_09_27_Notebook_2_a: This session already exists - no need to re-run ;)\n",
      "T256_2019_09_27_Notebook_4_a: This session already exists - no need to re-run ;)\n",
      "T256_2019_09_27_Notebook_4_b: This session already exists - no need to re-run ;)\n",
      "T256_2019_09_27_Notebook_4_c: This session already exists - no need to re-run ;)\n",
      "T256_2019_09_27_Notebook_5_a_seq0a1ae2a4abc5a: This session already exists - no need to re-run ;)\n",
      "Notebook_6_d.ipynb is being executed\n"
     ]
    },
    {
     "data": {
      "application/vnd.jupyter.widget-view+json": {
       "model_id": "5e316a6c1079488598a469e9ccab9fa6",
       "version_major": 2,
       "version_minor": 0
      },
      "text/plain": [
       "HBox(children=(FloatProgress(value=0.0, description='Executing', max=14.0, style=ProgressStyle(description_wid…"
      ]
     },
     "metadata": {},
     "output_type": "display_data"
    },
    {
     "name": "stdout",
     "output_type": "stream",
     "text": [
      "\n",
      "T256_2019_10_01_Notebook_0_a: This session already exists - no need to re-run ;)\n",
      "T256_2019_10_01_Notebook_1_a: This session already exists - no need to re-run ;)\n",
      "T256_2019_10_01_Notebook_1_e: This session already exists - no need to re-run ;)\n",
      "T256_2019_10_01_Notebook_2_a: This session already exists - no need to re-run ;)\n",
      "T256_2019_10_01_Notebook_4_a: This session already exists - no need to re-run ;)\n",
      "T256_2019_10_01_Notebook_4_b: This session already exists - no need to re-run ;)\n",
      "T256_2019_10_01_Notebook_4_c: This session already exists - no need to re-run ;)\n",
      "T256_2019_10_01_Notebook_5_a_seq0a1ae2a4abc5a: This session already exists - no need to re-run ;)\n",
      "Notebook_6_d.ipynb is being executed\n"
     ]
    },
    {
     "data": {
      "application/vnd.jupyter.widget-view+json": {
       "model_id": "afba0c7f016c4cd38bf5852d65f24984",
       "version_major": 2,
       "version_minor": 0
      },
      "text/plain": [
       "HBox(children=(FloatProgress(value=0.0, description='Executing', max=14.0, style=ProgressStyle(description_wid…"
      ]
     },
     "metadata": {},
     "output_type": "display_data"
    },
    {
     "name": "stdout",
     "output_type": "stream",
     "text": [
      "\n",
      "T253_2019_10_10_Notebook_0_a: This session already exists - no need to re-run ;)\n",
      "T253_2019_10_10_Notebook_1_a: This session already exists - no need to re-run ;)\n",
      "T253_2019_10_10_Notebook_1_e: This session already exists - no need to re-run ;)\n",
      "T253_2019_10_10_Notebook_2_a: This session already exists - no need to re-run ;)\n",
      "T253_2019_10_10_Notebook_4_a: This session already exists - no need to re-run ;)\n",
      "T253_2019_10_10_Notebook_4_b: This session already exists - no need to re-run ;)\n",
      "T253_2019_10_10_Notebook_4_c: This session already exists - no need to re-run ;)\n",
      "T253_2019_10_10_Notebook_5_a_seq0a1ae2a4abc5a: This session already exists - no need to re-run ;)\n",
      "Notebook_6_d.ipynb is being executed\n"
     ]
    },
    {
     "data": {
      "application/vnd.jupyter.widget-view+json": {
       "model_id": "ff567c4e50694eb984a34be8609fe805",
       "version_major": 2,
       "version_minor": 0
      },
      "text/plain": [
       "HBox(children=(FloatProgress(value=0.0, description='Executing', max=14.0, style=ProgressStyle(description_wid…"
      ]
     },
     "metadata": {},
     "output_type": "display_data"
    },
    {
     "name": "stdout",
     "output_type": "stream",
     "text": [
      "\n",
      "T253_2019_10_16_Notebook_0_a: This session already exists - no need to re-run ;)\n",
      "T253_2019_10_16_Notebook_1_a: This session already exists - no need to re-run ;)\n",
      "T253_2019_10_16_Notebook_1_e: This session already exists - no need to re-run ;)\n",
      "T253_2019_10_16_Notebook_2_a: This session already exists - no need to re-run ;)\n",
      "T253_2019_10_16_Notebook_4_a: This session already exists - no need to re-run ;)\n",
      "T253_2019_10_16_Notebook_4_b: This session already exists - no need to re-run ;)\n",
      "T253_2019_10_16_Notebook_4_c: This session already exists - no need to re-run ;)\n",
      "T253_2019_10_16_Notebook_5_a_seq0a1ae2a4abc5a: This session already exists - no need to re-run ;)\n",
      "Notebook_6_d.ipynb is being executed\n"
     ]
    },
    {
     "data": {
      "application/vnd.jupyter.widget-view+json": {
       "model_id": "a36c8ff2ed254e7b9b96bece6b3f22b9",
       "version_major": 2,
       "version_minor": 0
      },
      "text/plain": [
       "HBox(children=(FloatProgress(value=0.0, description='Executing', max=14.0, style=ProgressStyle(description_wid…"
      ]
     },
     "metadata": {},
     "output_type": "display_data"
    },
    {
     "name": "stdout",
     "output_type": "stream",
     "text": [
      "\n",
      "T253_2019_10_18_Notebook_0_a: This session already exists - no need to re-run ;)\n",
      "T253_2019_10_18_Notebook_1_a: This session already exists - no need to re-run ;)\n",
      "T253_2019_10_18_Notebook_1_e: This session already exists - no need to re-run ;)\n",
      "T253_2019_10_18_Notebook_2_a: This session already exists - no need to re-run ;)\n",
      "T253_2019_10_18_Notebook_4_a: This session already exists - no need to re-run ;)\n",
      "T253_2019_10_18_Notebook_4_b: This session already exists - no need to re-run ;)\n",
      "T253_2019_10_18_Notebook_4_c: This session already exists - no need to re-run ;)\n",
      "T253_2019_10_18_Notebook_5_a_seq0a1ae2a4abc5a: This session already exists - no need to re-run ;)\n",
      "Notebook_6_d.ipynb is being executed\n"
     ]
    },
    {
     "data": {
      "application/vnd.jupyter.widget-view+json": {
       "model_id": "47b58fcb91a945489ff726baba92caf2",
       "version_major": 2,
       "version_minor": 0
      },
      "text/plain": [
       "HBox(children=(FloatProgress(value=0.0, description='Executing', max=14.0, style=ProgressStyle(description_wid…"
      ]
     },
     "metadata": {},
     "output_type": "display_data"
    },
    {
     "name": "stdout",
     "output_type": "stream",
     "text": [
      "\n",
      "T253_2019_10_21_Notebook_0_a: This session already exists - no need to re-run ;)\n",
      "T253_2019_10_21_Notebook_1_a: This session already exists - no need to re-run ;)\n",
      "T253_2019_10_21_Notebook_1_e: This session already exists - no need to re-run ;)\n",
      "T253_2019_10_21_Notebook_2_a: This session already exists - no need to re-run ;)\n",
      "T253_2019_10_21_Notebook_4_a: This session already exists - no need to re-run ;)\n",
      "T253_2019_10_21_Notebook_4_b: This session already exists - no need to re-run ;)\n",
      "T253_2019_10_21_Notebook_4_c: This session already exists - no need to re-run ;)\n",
      "T253_2019_10_21_Notebook_5_a_seq0a1ae2a4abc5a: This session already exists - no need to re-run ;)\n",
      "Notebook_6_d.ipynb is being executed\n"
     ]
    },
    {
     "data": {
      "application/vnd.jupyter.widget-view+json": {
       "model_id": "b7ab9171d9bc41918a0c3139ab371029",
       "version_major": 2,
       "version_minor": 0
      },
      "text/plain": [
       "HBox(children=(FloatProgress(value=0.0, description='Executing', max=14.0, style=ProgressStyle(description_wid…"
      ]
     },
     "metadata": {},
     "output_type": "display_data"
    },
    {
     "name": "stdout",
     "output_type": "stream",
     "text": [
      "\n",
      "T253_2019_10_23_Notebook_0_a: This session already exists - no need to re-run ;)\n",
      "T253_2019_10_23_Notebook_1_a: This session already exists - no need to re-run ;)\n",
      "T253_2019_10_23_Notebook_1_e: This session already exists - no need to re-run ;)\n",
      "T253_2019_10_23_Notebook_2_a: This session already exists - no need to re-run ;)\n",
      "T253_2019_10_23_Notebook_4_a: This session already exists - no need to re-run ;)\n",
      "T253_2019_10_23_Notebook_4_b: This session already exists - no need to re-run ;)\n",
      "T253_2019_10_23_Notebook_4_c: This session already exists - no need to re-run ;)\n",
      "T253_2019_10_23_Notebook_5_a_seq0a1ae2a4abc5a: This session already exists - no need to re-run ;)\n",
      "Notebook_6_d.ipynb is being executed\n"
     ]
    },
    {
     "data": {
      "application/vnd.jupyter.widget-view+json": {
       "model_id": "d072572635794a90a5c28374c1621d2d",
       "version_major": 2,
       "version_minor": 0
      },
      "text/plain": [
       "HBox(children=(FloatProgress(value=0.0, description='Executing', max=14.0, style=ProgressStyle(description_wid…"
      ]
     },
     "metadata": {},
     "output_type": "display_data"
    },
    {
     "name": "stdout",
     "output_type": "stream",
     "text": [
      "\n",
      "T253_2019_10_25_Notebook_0_a: This session already exists - no need to re-run ;)\n",
      "T253_2019_10_25_Notebook_1_a: This session already exists - no need to re-run ;)\n",
      "T253_2019_10_25_Notebook_1_e: This session already exists - no need to re-run ;)\n",
      "T253_2019_10_25_Notebook_2_a: This session already exists - no need to re-run ;)\n",
      "T253_2019_10_25_Notebook_4_a: This session already exists - no need to re-run ;)\n",
      "T253_2019_10_25_Notebook_4_b: This session already exists - no need to re-run ;)\n",
      "T253_2019_10_25_Notebook_4_c: This session already exists - no need to re-run ;)\n",
      "T253_2019_10_25_Notebook_5_a_seq0a1ae2a4abc5a: This session already exists - no need to re-run ;)\n",
      "Notebook_6_d.ipynb is being executed\n"
     ]
    },
    {
     "data": {
      "application/vnd.jupyter.widget-view+json": {
       "model_id": "b17919667bc64641b3b9a3a634de86b9",
       "version_major": 2,
       "version_minor": 0
      },
      "text/plain": [
       "HBox(children=(FloatProgress(value=0.0, description='Executing', max=14.0, style=ProgressStyle(description_wid…"
      ]
     },
     "metadata": {},
     "output_type": "display_data"
    },
    {
     "name": "stdout",
     "output_type": "stream",
     "text": [
      "\n"
     ]
    }
   ],
   "source": [
    "#Mouse_Date_FileName: data set we want to run \n",
    "#nb_list: notebooks that we want to run \n",
    "#nb_path: where is the repository that you are running \n",
    "#seq_str: notebooks that we want to run - in code version \n",
    "#dict_for_pm: parameters of the data set \n",
    "\n",
    "ophf.run_dataset (Mouse_Date_FileName,nb_list,nb_path,seq_str,dict_for_pm)"
   ]
  },
  {
   "cell_type": "code",
   "execution_count": null,
   "metadata": {},
   "outputs": [],
   "source": []
  },
  {
   "cell_type": "code",
   "execution_count": null,
   "metadata": {},
   "outputs": [],
   "source": []
  }
 ],
 "metadata": {
  "celltoolbar": "Tags",
  "kernelspec": {
   "display_name": "optogenetics_env",
   "language": "python",
   "name": "optogenetics_env"
  },
  "language_info": {
   "codemirror_mode": {
    "name": "ipython",
    "version": 3
   },
   "file_extension": ".py",
   "mimetype": "text/x-python",
   "name": "python",
   "nbconvert_exporter": "python",
   "pygments_lexer": "ipython3",
   "version": "3.7.3"
  }
 },
 "nbformat": 4,
 "nbformat_minor": 2
}
