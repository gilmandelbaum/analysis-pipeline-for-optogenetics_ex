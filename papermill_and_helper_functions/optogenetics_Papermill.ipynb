{
 "cells": [
  {
   "cell_type": "markdown",
   "metadata": {},
   "source": [
    "# Papermill Notebook for Optogenetics"
   ]
  },
  {
   "cell_type": "code",
   "execution_count": 1,
   "metadata": {},
   "outputs": [],
   "source": [
    "import timeit\n",
    "import pandas as pd\n",
    "import numpy as np\n",
    "import os \n",
    "import papermill as pm\n",
    "import getpass\n",
    "import sys"
   ]
  },
  {
   "cell_type": "code",
   "execution_count": 2,
   "metadata": {},
   "outputs": [],
   "source": [
    "import optogenetics_papermill_helper_functions as ophf "
   ]
  },
  {
   "cell_type": "markdown",
   "metadata": {},
   "source": [
    "# input and output path: (user specific)"
   ]
  },
  {
   "cell_type": "code",
   "execution_count": 3,
   "metadata": {},
   "outputs": [],
   "source": [
    "#data to be analyzed: \n",
    "data_dir_input = \"/Users/gilmandelbaum/Desktop/opto_final/OptoConsump\"\n",
    "#where to save the analyzed data: \n",
    "data_dir_output = \"/Users/gilmandelbaum/Desktop/opto_final/OptoConsump_output_8\""
   ]
  },
  {
   "cell_type": "markdown",
   "metadata": {},
   "source": [
    "# name of xlsx sheet to import with the data set info: "
   ]
  },
  {
   "cell_type": "code",
   "execution_count": 4,
   "metadata": {},
   "outputs": [],
   "source": [
    "#this xlsx sheet should be in the data_dir_input"
   ]
  },
  {
   "cell_type": "code",
   "execution_count": 5,
   "metadata": {},
   "outputs": [],
   "source": [
    "#name of xlsx file that has the sessions we want to run: \n",
    "MasterSheetName= 'MasterOptoConsumption'"
   ]
  },
  {
   "cell_type": "code",
   "execution_count": 6,
   "metadata": {},
   "outputs": [],
   "source": [
    "#loading the xlsx file \n",
    "Mouse_Date_FileName = pd.read_excel(data_dir_input+'/'+MasterSheetName+'.xlsx') #mdf is mouse data file "
   ]
  },
  {
   "cell_type": "code",
   "execution_count": 7,
   "metadata": {},
   "outputs": [
    {
     "data": {
      "text/html": [
       "<div>\n",
       "<style scoped>\n",
       "    .dataframe tbody tr th:only-of-type {\n",
       "        vertical-align: middle;\n",
       "    }\n",
       "\n",
       "    .dataframe tbody tr th {\n",
       "        vertical-align: top;\n",
       "    }\n",
       "\n",
       "    .dataframe thead th {\n",
       "        text-align: right;\n",
       "    }\n",
       "</style>\n",
       "<table border=\"1\" class=\"dataframe\">\n",
       "  <thead>\n",
       "    <tr style=\"text-align: right;\">\n",
       "      <th></th>\n",
       "      <th>Mouse</th>\n",
       "      <th>Date</th>\n",
       "      <th>D</th>\n",
       "      <th>TypeOfStim</th>\n",
       "      <th>SideOfStim</th>\n",
       "    </tr>\n",
       "  </thead>\n",
       "  <tbody>\n",
       "    <tr>\n",
       "      <th>0</th>\n",
       "      <td>T183</td>\n",
       "      <td>190227</td>\n",
       "      <td>1</td>\n",
       "      <td>C</td>\n",
       "      <td>R</td>\n",
       "    </tr>\n",
       "    <tr>\n",
       "      <th>1</th>\n",
       "      <td>T183</td>\n",
       "      <td>190303</td>\n",
       "      <td>1</td>\n",
       "      <td>C</td>\n",
       "      <td>R</td>\n",
       "    </tr>\n",
       "    <tr>\n",
       "      <th>2</th>\n",
       "      <td>T183</td>\n",
       "      <td>190308</td>\n",
       "      <td>1</td>\n",
       "      <td>C</td>\n",
       "      <td>R</td>\n",
       "    </tr>\n",
       "    <tr>\n",
       "      <th>3</th>\n",
       "      <td>T183</td>\n",
       "      <td>190312</td>\n",
       "      <td>1</td>\n",
       "      <td>C</td>\n",
       "      <td>R</td>\n",
       "    </tr>\n",
       "    <tr>\n",
       "      <th>4</th>\n",
       "      <td>T183</td>\n",
       "      <td>190313</td>\n",
       "      <td>1</td>\n",
       "      <td>C</td>\n",
       "      <td>L</td>\n",
       "    </tr>\n",
       "    <tr>\n",
       "      <th>5</th>\n",
       "      <td>T183</td>\n",
       "      <td>190314</td>\n",
       "      <td>1</td>\n",
       "      <td>C</td>\n",
       "      <td>L</td>\n",
       "    </tr>\n",
       "    <tr>\n",
       "      <th>6</th>\n",
       "      <td>T183</td>\n",
       "      <td>190315</td>\n",
       "      <td>1</td>\n",
       "      <td>C</td>\n",
       "      <td>L</td>\n",
       "    </tr>\n",
       "    <tr>\n",
       "      <th>7</th>\n",
       "      <td>T183</td>\n",
       "      <td>190318</td>\n",
       "      <td>1</td>\n",
       "      <td>C</td>\n",
       "      <td>L</td>\n",
       "    </tr>\n",
       "    <tr>\n",
       "      <th>8</th>\n",
       "      <td>T183</td>\n",
       "      <td>190319</td>\n",
       "      <td>1</td>\n",
       "      <td>C</td>\n",
       "      <td>L</td>\n",
       "    </tr>\n",
       "  </tbody>\n",
       "</table>\n",
       "</div>"
      ],
      "text/plain": [
       "  Mouse    Date  D TypeOfStim SideOfStim\n",
       "0  T183  190227  1          C          R\n",
       "1  T183  190303  1          C          R\n",
       "2  T183  190308  1          C          R\n",
       "3  T183  190312  1          C          R\n",
       "4  T183  190313  1          C          L\n",
       "5  T183  190314  1          C          L\n",
       "6  T183  190315  1          C          L\n",
       "7  T183  190318  1          C          L\n",
       "8  T183  190319  1          C          L"
      ]
     },
     "execution_count": 7,
     "metadata": {},
     "output_type": "execute_result"
    }
   ],
   "source": [
    "Mouse_Date_FileName"
   ]
  },
  {
   "cell_type": "markdown",
   "metadata": {},
   "source": [
    "# use this if running the notebooks from local github folder"
   ]
  },
  {
   "cell_type": "markdown",
   "metadata": {},
   "source": [
    "### if not - define a path to where the repository is at"
   ]
  },
  {
   "cell_type": "code",
   "execution_count": 8,
   "metadata": {},
   "outputs": [
    {
     "name": "stdout",
     "output_type": "stream",
     "text": [
      "gilmandelbaum\n"
     ]
    }
   ],
   "source": [
    "#add the github path that will run the notebooks: \n",
    "username = getpass.getuser() # gets the username from the current comp \n",
    "print (username)"
   ]
  },
  {
   "cell_type": "code",
   "execution_count": 9,
   "metadata": {},
   "outputs": [],
   "source": [
    "sys.path.append('/Users/{:}/github/analysis-pipeline-for-optogenetics_ex/'.format(username))"
   ]
  },
  {
   "cell_type": "code",
   "execution_count": 10,
   "metadata": {},
   "outputs": [],
   "source": [
    "nb_path = sys.path[-1]"
   ]
  },
  {
   "cell_type": "code",
   "execution_count": 11,
   "metadata": {},
   "outputs": [
    {
     "data": {
      "text/plain": [
       "'/Users/gilmandelbaum/github/analysis-pipeline-for-optogenetics_ex/'"
      ]
     },
     "execution_count": 11,
     "metadata": {},
     "output_type": "execute_result"
    }
   ],
   "source": [
    "nb_path"
   ]
  },
  {
   "cell_type": "markdown",
   "metadata": {},
   "source": [
    "# parameters to change:"
   ]
  },
  {
   "cell_type": "code",
   "execution_count": 12,
   "metadata": {},
   "outputs": [],
   "source": [
    "#analysis parameters for whole data set:  \n",
    "drop2blocks= 'no'\n",
    "drop2lastblocks=\"no\"\n",
    "HowManyBack = 1\n",
    "Trials_filter = 'allTrials' \n",
    "TypeOfStim='Consumption'\n",
    "Tags = ['Reward_NoReward_tag', 'ENL_tag', 'Sel_tag']"
   ]
  },
  {
   "cell_type": "markdown",
   "metadata": {},
   "source": [
    "# parameters to change:"
   ]
  },
  {
   "cell_type": "code",
   "execution_count": 13,
   "metadata": {},
   "outputs": [],
   "source": [
    "#Versions for notebooks to run:\n",
    "#notebook 1 and notebook 4 are built to run more than 1 notebook\n",
    "Nb0='a'\n",
    "Nb1= ['a','d'] \n",
    "Nb2= 'a'\n",
    "#Nb3= 'a'\n",
    "Nb4= ['a','b',\"c\"]\n",
    "Nb5= 'a'\n",
    "Nb6= 'd'"
   ]
  },
  {
   "cell_type": "code",
   "execution_count": 14,
   "metadata": {},
   "outputs": [],
   "source": [
    "#make a list of versions: \n",
    "#List_of_versions =[Nb0,Nb1,Nb2,Nb3,Nb4,Nb5,Nb6]\n",
    "#List_of_versions_str =[\"Nb0\",\"Nb1\",\"Nb2\",\"Nb3\",\"Nb4\",\"Nb5\",\"Nb6\"]\n",
    "#notebook_sequence_list = [0,1,2,3,4,5,6]"
   ]
  },
  {
   "cell_type": "code",
   "execution_count": 15,
   "metadata": {},
   "outputs": [],
   "source": [
    "List_of_versions =[Nb0,Nb1,Nb2,Nb4,Nb5,Nb6]\n",
    "List_of_versions_str =[\"Nb0\",\"Nb1\",\"Nb2\",\"Nb4\",\"Nb5\",\"Nb6\"]\n",
    "notebook_sequence_list = [0,1,2,4,5,6]"
   ]
  },
  {
   "cell_type": "code",
   "execution_count": 16,
   "metadata": {},
   "outputs": [
    {
     "data": {
      "text/plain": [
       "['Nb0_a',\n",
       " 'Nb1_a',\n",
       " 'Nb1_d',\n",
       " 'Nb2_a',\n",
       " 'Nb4_a',\n",
       " 'Nb4_b',\n",
       " 'Nb4_c',\n",
       " 'Nb5_a',\n",
       " 'Nb6_d']"
      ]
     },
     "execution_count": 16,
     "metadata": {},
     "output_type": "execute_result"
    }
   ],
   "source": [
    "nb_list = ophf.make_nb_list(List_of_versions,List_of_versions_str)\n",
    "nb_list"
   ]
  },
  {
   "cell_type": "code",
   "execution_count": 17,
   "metadata": {},
   "outputs": [
    {
     "name": "stdout",
     "output_type": "stream",
     "text": [
      "seq0a1ad2a4abc5a6d will be used\n"
     ]
    }
   ],
   "source": [
    "seq_str = ophf.make_sequence_string(notebook_sequence_list, List_of_versions)"
   ]
  },
  {
   "cell_type": "code",
   "execution_count": 18,
   "metadata": {},
   "outputs": [],
   "source": [
    "#dict_for_pm = dict(data_dir_input=data_dir_input,\n",
    "                   #data_dir_output=data_dir_output,\n",
    "                   #drop2blocks= drop2blocks,\n",
    "                   #drop2lastblocks=drop2blocks,\n",
    "                   #seq_str= seq_str, \n",
    "                   #Tags=Tags, \n",
    "                   #HowManyBack = HowManyBack, \n",
    "                   #Nb0=Nb0, Nb1=Nb1, Nb2=Nb2, Nb3=Nb3, Nb4=Nb4, Nb5=Nb5,Nb6=Nb6,\n",
    "                   #Trials_filter=Trials_filter,\n",
    "                   #TypeOfStim=TypeOfStim)"
   ]
  },
  {
   "cell_type": "markdown",
   "metadata": {},
   "source": [
    "# run the cell below (no need to make any changes)"
   ]
  },
  {
   "cell_type": "code",
   "execution_count": 19,
   "metadata": {},
   "outputs": [],
   "source": [
    "#parameters that were defined above and will carry on for the whole analysis. \n",
    "dict_for_pm = dict(data_dir_input=data_dir_input,\n",
    "                   data_dir_output=data_dir_output,\n",
    "                   drop2blocks= drop2blocks,\n",
    "                   drop2lastblocks=drop2blocks,\n",
    "                   seq_str= seq_str, \n",
    "                   Tags=Tags, \n",
    "                   HowManyBack = HowManyBack, \n",
    "                   Nb0=Nb0, Nb1=Nb1, Nb2=Nb2,Nb4=Nb4, Nb5=Nb5,Nb6=Nb6,\n",
    "                   Trials_filter=Trials_filter,\n",
    "                   TypeOfStim=TypeOfStim)"
   ]
  },
  {
   "cell_type": "code",
   "execution_count": null,
   "metadata": {},
   "outputs": [],
   "source": []
  },
  {
   "cell_type": "code",
   "execution_count": 20,
   "metadata": {
    "scrolled": false
   },
   "outputs": [
    {
     "name": "stdout",
     "output_type": "stream",
     "text": [
      "T183_2019_02_27_Notebook_0_a: This session already exists - no need to re-run ;)\n",
      "T183_2019_02_27_Notebook_1_a: This session already exists - no need to re-run ;)\n",
      "T183_2019_02_27_Notebook_1_d: This session already exists - no need to re-run ;)\n",
      "T183_2019_02_27_Notebook_2_a: This session already exists - no need to re-run ;)\n",
      "T183_2019_02_27_Notebook_4_a: This session already exists - no need to re-run ;)\n",
      "T183_2019_02_27_Notebook_4_b: This session already exists - no need to re-run ;)\n",
      "T183_2019_02_27_Notebook_4_c: This session already exists - no need to re-run ;)\n",
      "T183_2019_02_27_Notebook_5_a_seq0a1ad2a4abc5a: This session already exists - no need to re-run ;)\n",
      "Notebook_6_d.ipynb is being executed\n"
     ]
    },
    {
     "data": {
      "application/vnd.jupyter.widget-view+json": {
       "model_id": "bc5a4a9745a648da8d7b8062b4e54875",
       "version_major": 2,
       "version_minor": 0
      },
      "text/plain": [
       "HBox(children=(FloatProgress(value=0.0, max=14.0), HTML(value='')))"
      ]
     },
     "metadata": {},
     "output_type": "display_data"
    },
    {
     "name": "stdout",
     "output_type": "stream",
     "text": [
      "\n",
      "T183_2019_03_03_Notebook_0_a: This session already exists - no need to re-run ;)\n",
      "T183_2019_03_03_Notebook_1_a: This session already exists - no need to re-run ;)\n",
      "T183_2019_03_03_Notebook_1_d: This session already exists - no need to re-run ;)\n",
      "T183_2019_03_03_Notebook_2_a: This session already exists - no need to re-run ;)\n",
      "T183_2019_03_03_Notebook_4_a: This session already exists - no need to re-run ;)\n",
      "T183_2019_03_03_Notebook_4_b: This session already exists - no need to re-run ;)\n",
      "T183_2019_03_03_Notebook_4_c: This session already exists - no need to re-run ;)\n",
      "T183_2019_03_03_Notebook_5_a_seq0a1ad2a4abc5a: This session already exists - no need to re-run ;)\n",
      "Notebook_6_d.ipynb is being executed\n"
     ]
    },
    {
     "data": {
      "application/vnd.jupyter.widget-view+json": {
       "model_id": "9d9139852ab44c3184487f09e4a213e7",
       "version_major": 2,
       "version_minor": 0
      },
      "text/plain": [
       "HBox(children=(FloatProgress(value=0.0, max=14.0), HTML(value='')))"
      ]
     },
     "metadata": {},
     "output_type": "display_data"
    },
    {
     "name": "stdout",
     "output_type": "stream",
     "text": [
      "\n",
      "T183_2019_03_08_Notebook_0_a: This session already exists - no need to re-run ;)\n",
      "T183_2019_03_08_Notebook_1_a: This session already exists - no need to re-run ;)\n",
      "T183_2019_03_08_Notebook_1_d: This session already exists - no need to re-run ;)\n",
      "T183_2019_03_08_Notebook_2_a: This session already exists - no need to re-run ;)\n",
      "T183_2019_03_08_Notebook_4_a: This session already exists - no need to re-run ;)\n",
      "T183_2019_03_08_Notebook_4_b: This session already exists - no need to re-run ;)\n",
      "T183_2019_03_08_Notebook_4_c: This session already exists - no need to re-run ;)\n",
      "T183_2019_03_08_Notebook_5_a_seq0a1ad2a4abc5a: This session already exists - no need to re-run ;)\n",
      "Notebook_6_d.ipynb is being executed\n"
     ]
    },
    {
     "data": {
      "application/vnd.jupyter.widget-view+json": {
       "model_id": "5703bf0adc484417aa4b090d565f84e2",
       "version_major": 2,
       "version_minor": 0
      },
      "text/plain": [
       "HBox(children=(FloatProgress(value=0.0, max=14.0), HTML(value='')))"
      ]
     },
     "metadata": {},
     "output_type": "display_data"
    },
    {
     "name": "stdout",
     "output_type": "stream",
     "text": [
      "\n",
      "T183_2019_03_12_Notebook_0_a: This session already exists - no need to re-run ;)\n",
      "T183_2019_03_12_Notebook_1_a: This session already exists - no need to re-run ;)\n",
      "T183_2019_03_12_Notebook_1_d: This session already exists - no need to re-run ;)\n",
      "T183_2019_03_12_Notebook_2_a: This session already exists - no need to re-run ;)\n",
      "T183_2019_03_12_Notebook_4_a: This session already exists - no need to re-run ;)\n",
      "T183_2019_03_12_Notebook_4_b: This session already exists - no need to re-run ;)\n",
      "T183_2019_03_12_Notebook_4_c: This session already exists - no need to re-run ;)\n",
      "T183_2019_03_12_Notebook_5_a_seq0a1ad2a4abc5a: This session already exists - no need to re-run ;)\n",
      "Notebook_6_d.ipynb is being executed\n"
     ]
    },
    {
     "data": {
      "application/vnd.jupyter.widget-view+json": {
       "model_id": "207ea9fa769748ca8671f00d60f326c0",
       "version_major": 2,
       "version_minor": 0
      },
      "text/plain": [
       "HBox(children=(FloatProgress(value=0.0, max=14.0), HTML(value='')))"
      ]
     },
     "metadata": {},
     "output_type": "display_data"
    },
    {
     "name": "stdout",
     "output_type": "stream",
     "text": [
      "\n",
      "T183_2019_03_13_Notebook_0_a: This session already exists - no need to re-run ;)\n",
      "T183_2019_03_13_Notebook_1_a: This session already exists - no need to re-run ;)\n",
      "T183_2019_03_13_Notebook_1_d: This session already exists - no need to re-run ;)\n",
      "T183_2019_03_13_Notebook_2_a: This session already exists - no need to re-run ;)\n",
      "T183_2019_03_13_Notebook_4_a: This session already exists - no need to re-run ;)\n",
      "T183_2019_03_13_Notebook_4_b: This session already exists - no need to re-run ;)\n",
      "T183_2019_03_13_Notebook_4_c: This session already exists - no need to re-run ;)\n",
      "T183_2019_03_13_Notebook_5_a_seq0a1ad2a4abc5a: This session already exists - no need to re-run ;)\n",
      "Notebook_6_d.ipynb is being executed\n"
     ]
    },
    {
     "data": {
      "application/vnd.jupyter.widget-view+json": {
       "model_id": "36d6a6398ecf4a278ac10050b5a764b7",
       "version_major": 2,
       "version_minor": 0
      },
      "text/plain": [
       "HBox(children=(FloatProgress(value=0.0, max=14.0), HTML(value='')))"
      ]
     },
     "metadata": {},
     "output_type": "display_data"
    },
    {
     "name": "stdout",
     "output_type": "stream",
     "text": [
      "\n",
      "T183_2019_03_14_Notebook_0_a: This session already exists - no need to re-run ;)\n",
      "T183_2019_03_14_Notebook_1_a: This session already exists - no need to re-run ;)\n",
      "T183_2019_03_14_Notebook_1_d: This session already exists - no need to re-run ;)\n",
      "T183_2019_03_14_Notebook_2_a: This session already exists - no need to re-run ;)\n",
      "T183_2019_03_14_Notebook_4_a: This session already exists - no need to re-run ;)\n",
      "T183_2019_03_14_Notebook_4_b: This session already exists - no need to re-run ;)\n",
      "T183_2019_03_14_Notebook_4_c: This session already exists - no need to re-run ;)\n",
      "T183_2019_03_14_Notebook_5_a_seq0a1ad2a4abc5a: This session already exists - no need to re-run ;)\n",
      "Notebook_6_d.ipynb is being executed\n"
     ]
    },
    {
     "data": {
      "application/vnd.jupyter.widget-view+json": {
       "model_id": "fb850180958443a39cd5b1bcf0e5d331",
       "version_major": 2,
       "version_minor": 0
      },
      "text/plain": [
       "HBox(children=(FloatProgress(value=0.0, max=14.0), HTML(value='')))"
      ]
     },
     "metadata": {},
     "output_type": "display_data"
    },
    {
     "name": "stdout",
     "output_type": "stream",
     "text": [
      "\n",
      "T183_2019_03_15_Notebook_0_a: This session already exists - no need to re-run ;)\n",
      "T183_2019_03_15_Notebook_1_a: This session already exists - no need to re-run ;)\n",
      "T183_2019_03_15_Notebook_1_d: This session already exists - no need to re-run ;)\n",
      "T183_2019_03_15_Notebook_2_a: This session already exists - no need to re-run ;)\n",
      "T183_2019_03_15_Notebook_4_a: This session already exists - no need to re-run ;)\n",
      "T183_2019_03_15_Notebook_4_b: This session already exists - no need to re-run ;)\n",
      "T183_2019_03_15_Notebook_4_c: This session already exists - no need to re-run ;)\n",
      "T183_2019_03_15_Notebook_5_a_seq0a1ad2a4abc5a: This session already exists - no need to re-run ;)\n",
      "Notebook_6_d.ipynb is being executed\n"
     ]
    },
    {
     "data": {
      "application/vnd.jupyter.widget-view+json": {
       "model_id": "1400751fcf3b46db9575ad5f298869ca",
       "version_major": 2,
       "version_minor": 0
      },
      "text/plain": [
       "HBox(children=(FloatProgress(value=0.0, max=14.0), HTML(value='')))"
      ]
     },
     "metadata": {},
     "output_type": "display_data"
    },
    {
     "name": "stdout",
     "output_type": "stream",
     "text": [
      "\n",
      "T183_2019_03_18_Notebook_0_a: This session already exists - no need to re-run ;)\n",
      "T183_2019_03_18_Notebook_1_a: This session already exists - no need to re-run ;)\n",
      "T183_2019_03_18_Notebook_1_d: This session already exists - no need to re-run ;)\n",
      "T183_2019_03_18_Notebook_2_a: This session already exists - no need to re-run ;)\n",
      "T183_2019_03_18_Notebook_4_a: This session already exists - no need to re-run ;)\n",
      "T183_2019_03_18_Notebook_4_b: This session already exists - no need to re-run ;)\n",
      "T183_2019_03_18_Notebook_4_c: This session already exists - no need to re-run ;)\n",
      "T183_2019_03_18_Notebook_5_a_seq0a1ad2a4abc5a: This session already exists - no need to re-run ;)\n",
      "Notebook_6_d.ipynb is being executed\n"
     ]
    },
    {
     "data": {
      "application/vnd.jupyter.widget-view+json": {
       "model_id": "a072f8b9000048a99738a0f6e8254492",
       "version_major": 2,
       "version_minor": 0
      },
      "text/plain": [
       "HBox(children=(FloatProgress(value=0.0, max=14.0), HTML(value='')))"
      ]
     },
     "metadata": {},
     "output_type": "display_data"
    },
    {
     "name": "stdout",
     "output_type": "stream",
     "text": [
      "\n",
      "T183_2019_03_19_Notebook_0_a: This session already exists - no need to re-run ;)\n",
      "T183_2019_03_19_Notebook_1_a: This session already exists - no need to re-run ;)\n",
      "T183_2019_03_19_Notebook_1_d: This session already exists - no need to re-run ;)\n",
      "T183_2019_03_19_Notebook_2_a: This session already exists - no need to re-run ;)\n",
      "T183_2019_03_19_Notebook_4_a: This session already exists - no need to re-run ;)\n",
      "T183_2019_03_19_Notebook_4_b: This session already exists - no need to re-run ;)\n",
      "T183_2019_03_19_Notebook_4_c: This session already exists - no need to re-run ;)\n",
      "T183_2019_03_19_Notebook_5_a_seq0a1ad2a4abc5a: This session already exists - no need to re-run ;)\n",
      "Notebook_6_d.ipynb is being executed\n"
     ]
    },
    {
     "data": {
      "application/vnd.jupyter.widget-view+json": {
       "model_id": "b60f9b99026f47d0837a7f65dc8d1770",
       "version_major": 2,
       "version_minor": 0
      },
      "text/plain": [
       "HBox(children=(FloatProgress(value=0.0, max=14.0), HTML(value='')))"
      ]
     },
     "metadata": {},
     "output_type": "display_data"
    },
    {
     "name": "stdout",
     "output_type": "stream",
     "text": [
      "\n"
     ]
    }
   ],
   "source": [
    "#Mouse_Date_FileName: data set we want to run \n",
    "#nb_list: notebooks that we want to run \n",
    "#nb_path: where is the repository that you are running \n",
    "#seq_str: notebooks that we want to run - in code version \n",
    "#dict_for_pm: parameters of the data set \n",
    "\n",
    "ophf.run_dataset (Mouse_Date_FileName,nb_list,nb_path,seq_str,dict_for_pm)"
   ]
  },
  {
   "cell_type": "code",
   "execution_count": null,
   "metadata": {},
   "outputs": [],
   "source": []
  }
 ],
 "metadata": {
  "celltoolbar": "Tags",
  "kernelspec": {
   "display_name": "Python 3",
   "language": "python",
   "name": "python3"
  },
  "language_info": {
   "codemirror_mode": {
    "name": "ipython",
    "version": 3
   },
   "file_extension": ".py",
   "mimetype": "text/x-python",
   "name": "python",
   "nbconvert_exporter": "python",
   "pygments_lexer": "ipython3",
   "version": "3.7.3"
  }
 },
 "nbformat": 4,
 "nbformat_minor": 2
}
