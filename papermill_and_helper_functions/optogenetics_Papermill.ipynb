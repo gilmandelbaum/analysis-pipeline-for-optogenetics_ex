{
 "cells": [
  {
   "cell_type": "markdown",
   "metadata": {},
   "source": [
    "# Papermill Notebook for Optogenetics"
   ]
  },
  {
   "cell_type": "code",
   "execution_count": 1,
   "metadata": {},
   "outputs": [],
   "source": [
    "import timeit\n",
    "import pandas as pd\n",
    "import numpy as np\n",
    "import os \n",
    "import papermill as pm\n",
    "import getpass\n",
    "import sys"
   ]
  },
  {
   "cell_type": "code",
   "execution_count": 2,
   "metadata": {},
   "outputs": [],
   "source": [
    "import optogenetics_papermill_helper_functions as ophf "
   ]
  },
  {
   "cell_type": "markdown",
   "metadata": {},
   "source": [
    "# input and output path: (user specific)"
   ]
  },
  {
   "cell_type": "code",
   "execution_count": 3,
   "metadata": {},
   "outputs": [],
   "source": [
    "#data to be analyzed: \n",
    "data_dir_input = \"/Users/gilmandelbaum/Dropbox (HMS)/0.STRpaper/4.Optogenetics/opto_consumption_final/0.FullDataSet/OptoConsump_raw\"\n",
    "#where to save the analyzed data: \n",
    "data_dir_output = \"/Users/gilmandelbaum/Dropbox (HMS)/0.STRpaper/4.Optogenetics/opto_consumption_final/0.FullDataSet/OptoConsump_output\""
   ]
  },
  {
   "cell_type": "markdown",
   "metadata": {},
   "source": [
    "# name of xlsx sheet to import with the data set info: "
   ]
  },
  {
   "cell_type": "code",
   "execution_count": 4,
   "metadata": {},
   "outputs": [],
   "source": [
    "#this xlsx sheet should be in the data_dir_input"
   ]
  },
  {
   "cell_type": "code",
   "execution_count": 5,
   "metadata": {},
   "outputs": [],
   "source": [
    "#name of xlsx file that has the sessions we want to run: \n",
    "MasterSheetName= 'MasterOptoConsumption'"
   ]
  },
  {
   "cell_type": "code",
   "execution_count": 6,
   "metadata": {},
   "outputs": [],
   "source": [
    "#loading the xlsx file \n",
    "Mouse_Date_FileName = pd.read_excel(data_dir_input+'/'+MasterSheetName+'.xlsx') #mdf is mouse data file "
   ]
  },
  {
   "cell_type": "code",
   "execution_count": 7,
   "metadata": {},
   "outputs": [
    {
     "data": {
      "text/html": [
       "<div>\n",
       "<style scoped>\n",
       "    .dataframe tbody tr th:only-of-type {\n",
       "        vertical-align: middle;\n",
       "    }\n",
       "\n",
       "    .dataframe tbody tr th {\n",
       "        vertical-align: top;\n",
       "    }\n",
       "\n",
       "    .dataframe thead th {\n",
       "        text-align: right;\n",
       "    }\n",
       "</style>\n",
       "<table border=\"1\" class=\"dataframe\">\n",
       "  <thead>\n",
       "    <tr style=\"text-align: right;\">\n",
       "      <th></th>\n",
       "      <th>Mouse</th>\n",
       "      <th>Date</th>\n",
       "      <th>D</th>\n",
       "      <th>TypeOfStim</th>\n",
       "      <th>SideOfStim</th>\n",
       "    </tr>\n",
       "  </thead>\n",
       "  <tbody>\n",
       "    <tr>\n",
       "      <th>0</th>\n",
       "      <td>T114</td>\n",
       "      <td>171124</td>\n",
       "      <td>2</td>\n",
       "      <td>C</td>\n",
       "      <td>R</td>\n",
       "    </tr>\n",
       "    <tr>\n",
       "      <th>1</th>\n",
       "      <td>T114</td>\n",
       "      <td>171126</td>\n",
       "      <td>2</td>\n",
       "      <td>C</td>\n",
       "      <td>R</td>\n",
       "    </tr>\n",
       "    <tr>\n",
       "      <th>2</th>\n",
       "      <td>T114</td>\n",
       "      <td>171129</td>\n",
       "      <td>2</td>\n",
       "      <td>C</td>\n",
       "      <td>L</td>\n",
       "    </tr>\n",
       "    <tr>\n",
       "      <th>3</th>\n",
       "      <td>T114</td>\n",
       "      <td>171201</td>\n",
       "      <td>2</td>\n",
       "      <td>C</td>\n",
       "      <td>L</td>\n",
       "    </tr>\n",
       "    <tr>\n",
       "      <th>4</th>\n",
       "      <td>T114</td>\n",
       "      <td>171203</td>\n",
       "      <td>2</td>\n",
       "      <td>C</td>\n",
       "      <td>L</td>\n",
       "    </tr>\n",
       "    <tr>\n",
       "      <th>...</th>\n",
       "      <td>...</td>\n",
       "      <td>...</td>\n",
       "      <td>...</td>\n",
       "      <td>...</td>\n",
       "      <td>...</td>\n",
       "    </tr>\n",
       "    <tr>\n",
       "      <th>126</th>\n",
       "      <td>T253</td>\n",
       "      <td>191016</td>\n",
       "      <td>1</td>\n",
       "      <td>C</td>\n",
       "      <td>L</td>\n",
       "    </tr>\n",
       "    <tr>\n",
       "      <th>127</th>\n",
       "      <td>T253</td>\n",
       "      <td>191018</td>\n",
       "      <td>1</td>\n",
       "      <td>C</td>\n",
       "      <td>L</td>\n",
       "    </tr>\n",
       "    <tr>\n",
       "      <th>128</th>\n",
       "      <td>T253</td>\n",
       "      <td>191021</td>\n",
       "      <td>1</td>\n",
       "      <td>C</td>\n",
       "      <td>L</td>\n",
       "    </tr>\n",
       "    <tr>\n",
       "      <th>129</th>\n",
       "      <td>T253</td>\n",
       "      <td>191023</td>\n",
       "      <td>1</td>\n",
       "      <td>C</td>\n",
       "      <td>R</td>\n",
       "    </tr>\n",
       "    <tr>\n",
       "      <th>130</th>\n",
       "      <td>T253</td>\n",
       "      <td>191025</td>\n",
       "      <td>1</td>\n",
       "      <td>C</td>\n",
       "      <td>R</td>\n",
       "    </tr>\n",
       "  </tbody>\n",
       "</table>\n",
       "<p>131 rows × 5 columns</p>\n",
       "</div>"
      ],
      "text/plain": [
       "    Mouse    Date  D TypeOfStim SideOfStim\n",
       "0    T114  171124  2          C          R\n",
       "1    T114  171126  2          C          R\n",
       "2    T114  171129  2          C          L\n",
       "3    T114  171201  2          C          L\n",
       "4    T114  171203  2          C          L\n",
       "..    ...     ... ..        ...        ...\n",
       "126  T253  191016  1          C          L\n",
       "127  T253  191018  1          C          L\n",
       "128  T253  191021  1          C          L\n",
       "129  T253  191023  1          C          R\n",
       "130  T253  191025  1          C          R\n",
       "\n",
       "[131 rows x 5 columns]"
      ]
     },
     "execution_count": 7,
     "metadata": {},
     "output_type": "execute_result"
    }
   ],
   "source": [
    "Mouse_Date_FileName"
   ]
  },
  {
   "cell_type": "markdown",
   "metadata": {},
   "source": [
    "# use this if running the notebooks from local github folder"
   ]
  },
  {
   "cell_type": "markdown",
   "metadata": {},
   "source": [
    "### if not - define a path to where the repository is at"
   ]
  },
  {
   "cell_type": "code",
   "execution_count": 8,
   "metadata": {},
   "outputs": [
    {
     "name": "stdout",
     "output_type": "stream",
     "text": [
      "gilmandelbaum\n"
     ]
    }
   ],
   "source": [
    "#add the github path that will run the notebooks: \n",
    "username = getpass.getuser() # gets the username from the current comp \n",
    "print (username)"
   ]
  },
  {
   "cell_type": "code",
   "execution_count": 9,
   "metadata": {},
   "outputs": [],
   "source": [
    "sys.path.append('/Users/{:}/github/analysis-pipeline-for-optogenetics_ex/'.format(username))"
   ]
  },
  {
   "cell_type": "code",
   "execution_count": 10,
   "metadata": {},
   "outputs": [],
   "source": [
    "nb_path = sys.path[-1]"
   ]
  },
  {
   "cell_type": "code",
   "execution_count": 11,
   "metadata": {},
   "outputs": [
    {
     "data": {
      "text/plain": [
       "'/Users/gilmandelbaum/github/analysis-pipeline-for-optogenetics_ex/'"
      ]
     },
     "execution_count": 11,
     "metadata": {},
     "output_type": "execute_result"
    }
   ],
   "source": [
    "nb_path"
   ]
  },
  {
   "cell_type": "markdown",
   "metadata": {},
   "source": [
    "# parameters to change:"
   ]
  },
  {
   "cell_type": "code",
   "execution_count": 12,
   "metadata": {},
   "outputs": [],
   "source": [
    "#analysis parameters for whole data set:  \n",
    "drop2blocks= 'no'\n",
    "drop2lastblocks=\"no\"\n",
    "HowManyBack = 1\n",
    "Trials_filter = 'allTrials' \n",
    "TypeOfStim='Consumption'\n",
    "Tags = ['Reward_NoReward_tag', 'ENL_tag', 'Sel_tag']"
   ]
  },
  {
   "cell_type": "markdown",
   "metadata": {},
   "source": [
    "# parameters to change:"
   ]
  },
  {
   "cell_type": "code",
   "execution_count": 13,
   "metadata": {},
   "outputs": [],
   "source": [
    "#Versions for notebooks to run:\n",
    "#notebook 1 and notebook 4 are built to run more than 1 notebook\n",
    "Nb0='a'\n",
    "Nb1= ['a','e'] \n",
    "Nb2= 'a'\n",
    "#Nb3= 'a'\n",
    "Nb4= ['a','b',\"c\"]\n",
    "Nb5= 'a'\n",
    "Nb6= 'c'"
   ]
  },
  {
   "cell_type": "code",
   "execution_count": 14,
   "metadata": {},
   "outputs": [],
   "source": [
    "#make a list of versions: \n",
    "#List_of_versions =[Nb0,Nb1,Nb2,Nb3,Nb4,Nb5,Nb6]\n",
    "#List_of_versions_str =[\"Nb0\",\"Nb1\",\"Nb2\",\"Nb3\",\"Nb4\",\"Nb5\",\"Nb6\"]\n",
    "#notebook_sequence_list = [0,1,2,3,4,5,6]"
   ]
  },
  {
   "cell_type": "code",
   "execution_count": 15,
   "metadata": {},
   "outputs": [],
   "source": [
    "List_of_versions =[Nb0,Nb1,Nb2,Nb4,Nb5,Nb6]\n",
    "List_of_versions_str =[\"Nb0\",\"Nb1\",\"Nb2\",\"Nb4\",\"Nb5\",\"Nb6\"]\n",
    "notebook_sequence_list = [0,1,2,4,5,6]"
   ]
  },
  {
   "cell_type": "code",
   "execution_count": 16,
   "metadata": {},
   "outputs": [
    {
     "data": {
      "text/plain": [
       "['Nb0_a',\n",
       " 'Nb1_a',\n",
       " 'Nb1_e',\n",
       " 'Nb2_a',\n",
       " 'Nb4_a',\n",
       " 'Nb4_b',\n",
       " 'Nb4_c',\n",
       " 'Nb5_a',\n",
       " 'Nb6_c']"
      ]
     },
     "execution_count": 16,
     "metadata": {},
     "output_type": "execute_result"
    }
   ],
   "source": [
    "nb_list = ophf.make_nb_list(List_of_versions,List_of_versions_str)\n",
    "nb_list"
   ]
  },
  {
   "cell_type": "code",
   "execution_count": 17,
   "metadata": {},
   "outputs": [
    {
     "name": "stdout",
     "output_type": "stream",
     "text": [
      "seq0a1ae2a4abc5a6c will be used\n"
     ]
    }
   ],
   "source": [
    "seq_str = ophf.make_sequence_string(notebook_sequence_list, List_of_versions)"
   ]
  },
  {
   "cell_type": "code",
   "execution_count": 18,
   "metadata": {},
   "outputs": [],
   "source": [
    "#dict_for_pm = dict(data_dir_input=data_dir_input,\n",
    "                   #data_dir_output=data_dir_output,\n",
    "                   #drop2blocks= drop2blocks,\n",
    "                   #drop2lastblocks=drop2blocks,\n",
    "                   #seq_str= seq_str, \n",
    "                   #Tags=Tags, \n",
    "                   #HowManyBack = HowManyBack, \n",
    "                   #Nb0=Nb0, Nb1=Nb1, Nb2=Nb2, Nb3=Nb3, Nb4=Nb4, Nb5=Nb5,Nb6=Nb6,\n",
    "                   #Trials_filter=Trials_filter,\n",
    "                   #TypeOfStim=TypeOfStim)"
   ]
  },
  {
   "cell_type": "markdown",
   "metadata": {},
   "source": [
    "# run the cell below (no need to make any changes)"
   ]
  },
  {
   "cell_type": "code",
   "execution_count": 19,
   "metadata": {},
   "outputs": [],
   "source": [
    "#parameters that were defined above and will carry on for the whole analysis. \n",
    "dict_for_pm = dict(data_dir_input=data_dir_input,\n",
    "                   data_dir_output=data_dir_output,\n",
    "                   drop2blocks= drop2blocks,\n",
    "                   drop2lastblocks=drop2blocks,\n",
    "                   seq_str= seq_str, \n",
    "                   Tags=Tags, \n",
    "                   HowManyBack = HowManyBack, \n",
    "                   Nb0=Nb0, Nb1=Nb1, Nb2=Nb2,Nb4=Nb4, Nb5=Nb5,Nb6=Nb6,\n",
    "                   Trials_filter=Trials_filter,\n",
    "                   TypeOfStim=TypeOfStim)"
   ]
  },
  {
   "cell_type": "code",
   "execution_count": null,
   "metadata": {},
   "outputs": [],
   "source": []
  },
  {
   "cell_type": "code",
   "execution_count": null,
   "metadata": {
    "scrolled": true
   },
   "outputs": [
    {
     "name": "stdout",
     "output_type": "stream",
     "text": [
      "T114_2017_11_24_Notebook_0_a: This session already exists - no need to re-run ;)\n",
      "T114_2017_11_24_Notebook_1_a: This session already exists - no need to re-run ;)\n",
      "T114_2017_11_24_Notebook_1_e: This session already exists - no need to re-run ;)\n",
      "T114_2017_11_24_Notebook_2_a: This session already exists - no need to re-run ;)\n",
      "T114_2017_11_24_Notebook_4_a: This session already exists - no need to re-run ;)\n",
      "T114_2017_11_24_Notebook_4_b: This session already exists - no need to re-run ;)\n",
      "T114_2017_11_24_Notebook_4_c: This session already exists - no need to re-run ;)\n",
      "T114_2017_11_24_Notebook_5_a_seq0a1ae2a4abc5a: This session already exists - no need to re-run ;)\n",
      "Notebook_6_c.ipynb is being executed\n"
     ]
    },
    {
     "data": {
      "application/vnd.jupyter.widget-view+json": {
       "model_id": "dd3632e9eb514f7ba81242bf4f6ed183",
       "version_major": 2,
       "version_minor": 0
      },
      "text/plain": [
       "HBox(children=(FloatProgress(value=0.0, max=14.0), HTML(value='')))"
      ]
     },
     "metadata": {},
     "output_type": "display_data"
    },
    {
     "name": "stdout",
     "output_type": "stream",
     "text": [
      "\n",
      "T114_2017_11_26_Notebook_0_a: This session already exists - no need to re-run ;)\n",
      "T114_2017_11_26_Notebook_1_a: This session already exists - no need to re-run ;)\n",
      "T114_2017_11_26_Notebook_1_e: This session already exists - no need to re-run ;)\n",
      "T114_2017_11_26_Notebook_2_a: This session already exists - no need to re-run ;)\n",
      "T114_2017_11_26_Notebook_4_a: This session already exists - no need to re-run ;)\n",
      "T114_2017_11_26_Notebook_4_b: This session already exists - no need to re-run ;)\n",
      "T114_2017_11_26_Notebook_4_c: This session already exists - no need to re-run ;)\n",
      "T114_2017_11_26_Notebook_5_a_seq0a1ae2a4abc5a: This session already exists - no need to re-run ;)\n",
      "Notebook_6_c.ipynb is being executed\n"
     ]
    },
    {
     "data": {
      "application/vnd.jupyter.widget-view+json": {
       "model_id": "4134e1f86b6543049f389fd265636548",
       "version_major": 2,
       "version_minor": 0
      },
      "text/plain": [
       "HBox(children=(FloatProgress(value=0.0, max=14.0), HTML(value='')))"
      ]
     },
     "metadata": {},
     "output_type": "display_data"
    },
    {
     "name": "stdout",
     "output_type": "stream",
     "text": [
      "\n",
      "T114_2017_11_29_Notebook_0_a: This session already exists - no need to re-run ;)\n",
      "T114_2017_11_29_Notebook_1_a: This session already exists - no need to re-run ;)\n",
      "T114_2017_11_29_Notebook_1_e: This session already exists - no need to re-run ;)\n",
      "T114_2017_11_29_Notebook_2_a: This session already exists - no need to re-run ;)\n",
      "T114_2017_11_29_Notebook_4_a: This session already exists - no need to re-run ;)\n",
      "T114_2017_11_29_Notebook_4_b: This session already exists - no need to re-run ;)\n",
      "T114_2017_11_29_Notebook_4_c: This session already exists - no need to re-run ;)\n",
      "T114_2017_11_29_Notebook_5_a_seq0a1ae2a4abc5a: This session already exists - no need to re-run ;)\n",
      "Notebook_6_c.ipynb is being executed\n"
     ]
    },
    {
     "data": {
      "application/vnd.jupyter.widget-view+json": {
       "model_id": "fec86c1e407443b29523df8b3f592b5d",
       "version_major": 2,
       "version_minor": 0
      },
      "text/plain": [
       "HBox(children=(FloatProgress(value=0.0, max=14.0), HTML(value='')))"
      ]
     },
     "metadata": {},
     "output_type": "display_data"
    },
    {
     "name": "stdout",
     "output_type": "stream",
     "text": [
      "\n",
      "T114_2017_12_01_Notebook_0_a: This session already exists - no need to re-run ;)\n",
      "T114_2017_12_01_Notebook_1_a: This session already exists - no need to re-run ;)\n",
      "T114_2017_12_01_Notebook_1_e: This session already exists - no need to re-run ;)\n",
      "T114_2017_12_01_Notebook_2_a: This session already exists - no need to re-run ;)\n",
      "T114_2017_12_01_Notebook_4_a: This session already exists - no need to re-run ;)\n",
      "T114_2017_12_01_Notebook_4_b: This session already exists - no need to re-run ;)\n",
      "T114_2017_12_01_Notebook_4_c: This session already exists - no need to re-run ;)\n",
      "T114_2017_12_01_Notebook_5_a_seq0a1ae2a4abc5a: This session already exists - no need to re-run ;)\n",
      "Notebook_6_c.ipynb is being executed\n"
     ]
    },
    {
     "data": {
      "application/vnd.jupyter.widget-view+json": {
       "model_id": "1752b741e8304fd4baf564b9b4091aa2",
       "version_major": 2,
       "version_minor": 0
      },
      "text/plain": [
       "HBox(children=(FloatProgress(value=0.0, max=14.0), HTML(value='')))"
      ]
     },
     "metadata": {},
     "output_type": "display_data"
    },
    {
     "name": "stdout",
     "output_type": "stream",
     "text": [
      "\n",
      "T114_2017_12_03_Notebook_0_a: This session already exists - no need to re-run ;)\n",
      "T114_2017_12_03_Notebook_1_a: This session already exists - no need to re-run ;)\n",
      "T114_2017_12_03_Notebook_1_e: This session already exists - no need to re-run ;)\n",
      "T114_2017_12_03_Notebook_2_a: This session already exists - no need to re-run ;)\n",
      "T114_2017_12_03_Notebook_4_a: This session already exists - no need to re-run ;)\n",
      "T114_2017_12_03_Notebook_4_b: This session already exists - no need to re-run ;)\n",
      "T114_2017_12_03_Notebook_4_c: This session already exists - no need to re-run ;)\n",
      "T114_2017_12_03_Notebook_5_a_seq0a1ae2a4abc5a: This session already exists - no need to re-run ;)\n",
      "Notebook_6_c.ipynb is being executed\n"
     ]
    },
    {
     "data": {
      "application/vnd.jupyter.widget-view+json": {
       "model_id": "4476363d215f4ae2b0816cafeaf5e63b",
       "version_major": 2,
       "version_minor": 0
      },
      "text/plain": [
       "HBox(children=(FloatProgress(value=0.0, max=14.0), HTML(value='')))"
      ]
     },
     "metadata": {},
     "output_type": "display_data"
    },
    {
     "name": "stdout",
     "output_type": "stream",
     "text": [
      "\n",
      "T114_2017_12_05_Notebook_0_a: This session already exists - no need to re-run ;)\n",
      "T114_2017_12_05_Notebook_1_a: This session already exists - no need to re-run ;)\n",
      "T114_2017_12_05_Notebook_1_e: This session already exists - no need to re-run ;)\n",
      "T114_2017_12_05_Notebook_2_a: This session already exists - no need to re-run ;)\n",
      "T114_2017_12_05_Notebook_4_a: This session already exists - no need to re-run ;)\n",
      "T114_2017_12_05_Notebook_4_b: This session already exists - no need to re-run ;)\n",
      "T114_2017_12_05_Notebook_4_c: This session already exists - no need to re-run ;)\n",
      "T114_2017_12_05_Notebook_5_a_seq0a1ae2a4abc5a: This session already exists - no need to re-run ;)\n",
      "Notebook_6_c.ipynb is being executed\n"
     ]
    },
    {
     "data": {
      "application/vnd.jupyter.widget-view+json": {
       "model_id": "e489e92f77d641f79ebb18829c4a7b8d",
       "version_major": 2,
       "version_minor": 0
      },
      "text/plain": [
       "HBox(children=(FloatProgress(value=0.0, max=14.0), HTML(value='')))"
      ]
     },
     "metadata": {},
     "output_type": "display_data"
    },
    {
     "name": "stdout",
     "output_type": "stream",
     "text": [
      "\n",
      "T114_2017_12_11_Notebook_0_a: This session already exists - no need to re-run ;)\n",
      "T114_2017_12_11_Notebook_1_a: This session already exists - no need to re-run ;)\n",
      "T114_2017_12_11_Notebook_1_e: This session already exists - no need to re-run ;)\n",
      "T114_2017_12_11_Notebook_2_a: This session already exists - no need to re-run ;)\n",
      "T114_2017_12_11_Notebook_4_a: This session already exists - no need to re-run ;)\n",
      "T114_2017_12_11_Notebook_4_b: This session already exists - no need to re-run ;)\n",
      "T114_2017_12_11_Notebook_4_c: This session already exists - no need to re-run ;)\n",
      "T114_2017_12_11_Notebook_5_a_seq0a1ae2a4abc5a: This session already exists - no need to re-run ;)\n",
      "Notebook_6_c.ipynb is being executed\n"
     ]
    },
    {
     "data": {
      "application/vnd.jupyter.widget-view+json": {
       "model_id": "6c693dbc1a094874963576d9156d5bc7",
       "version_major": 2,
       "version_minor": 0
      },
      "text/plain": [
       "HBox(children=(FloatProgress(value=0.0, max=14.0), HTML(value='')))"
      ]
     },
     "metadata": {},
     "output_type": "display_data"
    },
    {
     "name": "stdout",
     "output_type": "stream",
     "text": [
      "\n",
      "T115_2017_11_24_Notebook_0_a: This session already exists - no need to re-run ;)\n",
      "T115_2017_11_24_Notebook_1_a: This session already exists - no need to re-run ;)\n",
      "T115_2017_11_24_Notebook_1_e: This session already exists - no need to re-run ;)\n",
      "T115_2017_11_24_Notebook_2_a: This session already exists - no need to re-run ;)\n",
      "T115_2017_11_24_Notebook_4_a: This session already exists - no need to re-run ;)\n",
      "T115_2017_11_24_Notebook_4_b: This session already exists - no need to re-run ;)\n",
      "T115_2017_11_24_Notebook_4_c: This session already exists - no need to re-run ;)\n",
      "T115_2017_11_24_Notebook_5_a_seq0a1ae2a4abc5a: This session already exists - no need to re-run ;)\n",
      "Notebook_6_c.ipynb is being executed\n"
     ]
    },
    {
     "data": {
      "application/vnd.jupyter.widget-view+json": {
       "model_id": "319598424e2e4367bc39823bacd017d7",
       "version_major": 2,
       "version_minor": 0
      },
      "text/plain": [
       "HBox(children=(FloatProgress(value=0.0, max=14.0), HTML(value='')))"
      ]
     },
     "metadata": {},
     "output_type": "display_data"
    },
    {
     "name": "stdout",
     "output_type": "stream",
     "text": [
      "\n",
      "T115_2017_11_26_Notebook_0_a: This session already exists - no need to re-run ;)\n",
      "T115_2017_11_26_Notebook_1_a: This session already exists - no need to re-run ;)\n",
      "T115_2017_11_26_Notebook_1_e: This session already exists - no need to re-run ;)\n",
      "T115_2017_11_26_Notebook_2_a: This session already exists - no need to re-run ;)\n",
      "T115_2017_11_26_Notebook_4_a: This session already exists - no need to re-run ;)\n",
      "T115_2017_11_26_Notebook_4_b: This session already exists - no need to re-run ;)\n",
      "T115_2017_11_26_Notebook_4_c: This session already exists - no need to re-run ;)\n",
      "T115_2017_11_26_Notebook_5_a_seq0a1ae2a4abc5a: This session already exists - no need to re-run ;)\n",
      "Notebook_6_c.ipynb is being executed\n"
     ]
    },
    {
     "data": {
      "application/vnd.jupyter.widget-view+json": {
       "model_id": "81b5dd35fa0049fb9b9abe4706162424",
       "version_major": 2,
       "version_minor": 0
      },
      "text/plain": [
       "HBox(children=(FloatProgress(value=0.0, max=14.0), HTML(value='')))"
      ]
     },
     "metadata": {},
     "output_type": "display_data"
    },
    {
     "name": "stdout",
     "output_type": "stream",
     "text": [
      "\n",
      "T115_2017_11_29_Notebook_0_a: This session already exists - no need to re-run ;)\n",
      "T115_2017_11_29_Notebook_1_a: This session already exists - no need to re-run ;)\n",
      "T115_2017_11_29_Notebook_1_e: This session already exists - no need to re-run ;)\n",
      "T115_2017_11_29_Notebook_2_a: This session already exists - no need to re-run ;)\n",
      "T115_2017_11_29_Notebook_4_a: This session already exists - no need to re-run ;)\n",
      "T115_2017_11_29_Notebook_4_b: This session already exists - no need to re-run ;)\n",
      "T115_2017_11_29_Notebook_4_c: This session already exists - no need to re-run ;)\n",
      "T115_2017_11_29_Notebook_5_a_seq0a1ae2a4abc5a: This session already exists - no need to re-run ;)\n",
      "Notebook_6_c.ipynb is being executed\n"
     ]
    },
    {
     "data": {
      "application/vnd.jupyter.widget-view+json": {
       "model_id": "cd735364cb93412f8790fae6239ddc66",
       "version_major": 2,
       "version_minor": 0
      },
      "text/plain": [
       "HBox(children=(FloatProgress(value=0.0, max=14.0), HTML(value='')))"
      ]
     },
     "metadata": {},
     "output_type": "display_data"
    },
    {
     "name": "stdout",
     "output_type": "stream",
     "text": [
      "\n",
      "T115_2017_12_01_Notebook_0_a: This session already exists - no need to re-run ;)\n",
      "T115_2017_12_01_Notebook_1_a: This session already exists - no need to re-run ;)\n",
      "T115_2017_12_01_Notebook_1_e: This session already exists - no need to re-run ;)\n",
      "T115_2017_12_01_Notebook_2_a: This session already exists - no need to re-run ;)\n",
      "T115_2017_12_01_Notebook_4_a: This session already exists - no need to re-run ;)\n",
      "T115_2017_12_01_Notebook_4_b: This session already exists - no need to re-run ;)\n",
      "T115_2017_12_01_Notebook_4_c: This session already exists - no need to re-run ;)\n",
      "T115_2017_12_01_Notebook_5_a_seq0a1ae2a4abc5a: This session already exists - no need to re-run ;)\n",
      "Notebook_6_c.ipynb is being executed\n"
     ]
    },
    {
     "data": {
      "application/vnd.jupyter.widget-view+json": {
       "model_id": "7d4fb02f724547d8894e605e9818c770",
       "version_major": 2,
       "version_minor": 0
      },
      "text/plain": [
       "HBox(children=(FloatProgress(value=0.0, max=14.0), HTML(value='')))"
      ]
     },
     "metadata": {},
     "output_type": "display_data"
    },
    {
     "name": "stdout",
     "output_type": "stream",
     "text": [
      "\n",
      "T115_2017_12_03_Notebook_0_a: This session already exists - no need to re-run ;)\n",
      "T115_2017_12_03_Notebook_1_a: This session already exists - no need to re-run ;)\n",
      "T115_2017_12_03_Notebook_1_e: This session already exists - no need to re-run ;)\n",
      "T115_2017_12_03_Notebook_2_a: This session already exists - no need to re-run ;)\n",
      "T115_2017_12_03_Notebook_4_a: This session already exists - no need to re-run ;)\n",
      "T115_2017_12_03_Notebook_4_b: This session already exists - no need to re-run ;)\n",
      "T115_2017_12_03_Notebook_4_c: This session already exists - no need to re-run ;)\n",
      "T115_2017_12_03_Notebook_5_a_seq0a1ae2a4abc5a: This session already exists - no need to re-run ;)\n",
      "Notebook_6_c.ipynb is being executed\n"
     ]
    },
    {
     "data": {
      "application/vnd.jupyter.widget-view+json": {
       "model_id": "b0a0a41285b14693a0e3248454cc3e66",
       "version_major": 2,
       "version_minor": 0
      },
      "text/plain": [
       "HBox(children=(FloatProgress(value=0.0, max=14.0), HTML(value='')))"
      ]
     },
     "metadata": {},
     "output_type": "display_data"
    },
    {
     "name": "stdout",
     "output_type": "stream",
     "text": [
      "\n",
      "T115_2017_12_05_Notebook_0_a: This session already exists - no need to re-run ;)\n",
      "T115_2017_12_05_Notebook_1_a: This session already exists - no need to re-run ;)\n",
      "T115_2017_12_05_Notebook_1_e: This session already exists - no need to re-run ;)\n",
      "T115_2017_12_05_Notebook_2_a: This session already exists - no need to re-run ;)\n",
      "T115_2017_12_05_Notebook_4_a: This session already exists - no need to re-run ;)\n",
      "T115_2017_12_05_Notebook_4_b: This session already exists - no need to re-run ;)\n",
      "T115_2017_12_05_Notebook_4_c: This session already exists - no need to re-run ;)\n",
      "T115_2017_12_05_Notebook_5_a_seq0a1ae2a4abc5a: This session already exists - no need to re-run ;)\n",
      "Notebook_6_c.ipynb is being executed\n"
     ]
    },
    {
     "data": {
      "application/vnd.jupyter.widget-view+json": {
       "model_id": "0e3d6e110f9c4278ba3f81ed7978ceb5",
       "version_major": 2,
       "version_minor": 0
      },
      "text/plain": [
       "HBox(children=(FloatProgress(value=0.0, max=14.0), HTML(value='')))"
      ]
     },
     "metadata": {},
     "output_type": "display_data"
    },
    {
     "name": "stdout",
     "output_type": "stream",
     "text": [
      "\n",
      "T115_2017_12_07_Notebook_0_a: This session already exists - no need to re-run ;)\n",
      "T115_2017_12_07_Notebook_1_a: This session already exists - no need to re-run ;)\n",
      "T115_2017_12_07_Notebook_1_e: This session already exists - no need to re-run ;)\n",
      "T115_2017_12_07_Notebook_2_a: This session already exists - no need to re-run ;)\n",
      "T115_2017_12_07_Notebook_4_a: This session already exists - no need to re-run ;)\n",
      "T115_2017_12_07_Notebook_4_b: This session already exists - no need to re-run ;)\n",
      "T115_2017_12_07_Notebook_4_c: This session already exists - no need to re-run ;)\n",
      "T115_2017_12_07_Notebook_5_a_seq0a1ae2a4abc5a: This session already exists - no need to re-run ;)\n",
      "Notebook_6_c.ipynb is being executed\n"
     ]
    },
    {
     "data": {
      "application/vnd.jupyter.widget-view+json": {
       "model_id": "a3ee3e3cff4a44c1b3602343435be977",
       "version_major": 2,
       "version_minor": 0
      },
      "text/plain": [
       "HBox(children=(FloatProgress(value=0.0, max=14.0), HTML(value='')))"
      ]
     },
     "metadata": {},
     "output_type": "display_data"
    },
    {
     "name": "stdout",
     "output_type": "stream",
     "text": [
      "\n",
      "T115_2017_12_11_Notebook_0_a: This session already exists - no need to re-run ;)\n",
      "T115_2017_12_11_Notebook_1_a: This session already exists - no need to re-run ;)\n",
      "T115_2017_12_11_Notebook_1_e: This session already exists - no need to re-run ;)\n",
      "T115_2017_12_11_Notebook_2_a: This session already exists - no need to re-run ;)\n",
      "T115_2017_12_11_Notebook_4_a: This session already exists - no need to re-run ;)\n",
      "T115_2017_12_11_Notebook_4_b: This session already exists - no need to re-run ;)\n",
      "T115_2017_12_11_Notebook_4_c: This session already exists - no need to re-run ;)\n",
      "T115_2017_12_11_Notebook_5_a_seq0a1ae2a4abc5a: This session already exists - no need to re-run ;)\n",
      "Notebook_6_c.ipynb is being executed\n"
     ]
    },
    {
     "data": {
      "application/vnd.jupyter.widget-view+json": {
       "model_id": "8a498ac030144d1aa555e3719892d314",
       "version_major": 2,
       "version_minor": 0
      },
      "text/plain": [
       "HBox(children=(FloatProgress(value=0.0, max=14.0), HTML(value='')))"
      ]
     },
     "metadata": {},
     "output_type": "display_data"
    },
    {
     "name": "stdout",
     "output_type": "stream",
     "text": [
      "\n",
      "T118_2018_01_11_Notebook_0_a: This session already exists - no need to re-run ;)\n",
      "T118_2018_01_11_Notebook_1_a: This session already exists - no need to re-run ;)\n",
      "T118_2018_01_11_Notebook_1_e: This session already exists - no need to re-run ;)\n",
      "T118_2018_01_11_Notebook_2_a: This session already exists - no need to re-run ;)\n",
      "T118_2018_01_11_Notebook_4_a: This session already exists - no need to re-run ;)\n",
      "T118_2018_01_11_Notebook_4_b: This session already exists - no need to re-run ;)\n",
      "T118_2018_01_11_Notebook_4_c: This session already exists - no need to re-run ;)\n",
      "T118_2018_01_11_Notebook_5_a_seq0a1ae2a4abc5a: This session already exists - no need to re-run ;)\n",
      "Notebook_6_c.ipynb is being executed\n"
     ]
    },
    {
     "data": {
      "application/vnd.jupyter.widget-view+json": {
       "model_id": "4edd4013d8e241b09b0ccbb5d2ffefb4",
       "version_major": 2,
       "version_minor": 0
      },
      "text/plain": [
       "HBox(children=(FloatProgress(value=0.0, max=14.0), HTML(value='')))"
      ]
     },
     "metadata": {},
     "output_type": "display_data"
    },
    {
     "name": "stdout",
     "output_type": "stream",
     "text": [
      "\n",
      "T118_2018_01_12_Notebook_0_a: This session already exists - no need to re-run ;)\n",
      "T118_2018_01_12_Notebook_1_a: This session already exists - no need to re-run ;)\n",
      "T118_2018_01_12_Notebook_1_e: This session already exists - no need to re-run ;)\n",
      "T118_2018_01_12_Notebook_2_a: This session already exists - no need to re-run ;)\n",
      "T118_2018_01_12_Notebook_4_a: This session already exists - no need to re-run ;)\n",
      "T118_2018_01_12_Notebook_4_b: This session already exists - no need to re-run ;)\n",
      "T118_2018_01_12_Notebook_4_c: This session already exists - no need to re-run ;)\n",
      "T118_2018_01_12_Notebook_5_a_seq0a1ae2a4abc5a: This session already exists - no need to re-run ;)\n",
      "Notebook_6_c.ipynb is being executed\n"
     ]
    },
    {
     "data": {
      "application/vnd.jupyter.widget-view+json": {
       "model_id": "d42f5e61d9064fa6af1f01dca3df3175",
       "version_major": 2,
       "version_minor": 0
      },
      "text/plain": [
       "HBox(children=(FloatProgress(value=0.0, max=14.0), HTML(value='')))"
      ]
     },
     "metadata": {},
     "output_type": "display_data"
    },
    {
     "name": "stdout",
     "output_type": "stream",
     "text": [
      "\n",
      "T118_2018_01_15_Notebook_0_a: This session already exists - no need to re-run ;)\n",
      "T118_2018_01_15_Notebook_1_a: This session already exists - no need to re-run ;)\n",
      "T118_2018_01_15_Notebook_1_e: This session already exists - no need to re-run ;)\n",
      "T118_2018_01_15_Notebook_2_a: This session already exists - no need to re-run ;)\n",
      "T118_2018_01_15_Notebook_4_a: This session already exists - no need to re-run ;)\n",
      "T118_2018_01_15_Notebook_4_b: This session already exists - no need to re-run ;)\n",
      "T118_2018_01_15_Notebook_4_c: This session already exists - no need to re-run ;)\n",
      "T118_2018_01_15_Notebook_5_a_seq0a1ae2a4abc5a: This session already exists - no need to re-run ;)\n",
      "Notebook_6_c.ipynb is being executed\n"
     ]
    },
    {
     "data": {
      "application/vnd.jupyter.widget-view+json": {
       "model_id": "bdb6e0aa02224e719f9011cccc1d6ba6",
       "version_major": 2,
       "version_minor": 0
      },
      "text/plain": [
       "HBox(children=(FloatProgress(value=0.0, max=14.0), HTML(value='')))"
      ]
     },
     "metadata": {},
     "output_type": "display_data"
    },
    {
     "name": "stdout",
     "output_type": "stream",
     "text": [
      "\n",
      "T118_2018_01_16_Notebook_0_a: This session already exists - no need to re-run ;)\n",
      "T118_2018_01_16_Notebook_1_a: This session already exists - no need to re-run ;)\n",
      "T118_2018_01_16_Notebook_1_e: This session already exists - no need to re-run ;)\n",
      "T118_2018_01_16_Notebook_2_a: This session already exists - no need to re-run ;)\n",
      "T118_2018_01_16_Notebook_4_a: This session already exists - no need to re-run ;)\n",
      "T118_2018_01_16_Notebook_4_b: This session already exists - no need to re-run ;)\n",
      "T118_2018_01_16_Notebook_4_c: This session already exists - no need to re-run ;)\n",
      "T118_2018_01_16_Notebook_5_a_seq0a1ae2a4abc5a: This session already exists - no need to re-run ;)\n",
      "Notebook_6_c.ipynb is being executed\n"
     ]
    },
    {
     "data": {
      "application/vnd.jupyter.widget-view+json": {
       "model_id": "cb949e04043e4ebc839a1352acf5e172",
       "version_major": 2,
       "version_minor": 0
      },
      "text/plain": [
       "HBox(children=(FloatProgress(value=0.0, max=14.0), HTML(value='')))"
      ]
     },
     "metadata": {},
     "output_type": "display_data"
    },
    {
     "name": "stdout",
     "output_type": "stream",
     "text": [
      "\n",
      "T118_2018_01_17_Notebook_0_a: This session already exists - no need to re-run ;)\n",
      "T118_2018_01_17_Notebook_1_a: This session already exists - no need to re-run ;)\n",
      "T118_2018_01_17_Notebook_1_e: This session already exists - no need to re-run ;)\n",
      "T118_2018_01_17_Notebook_2_a: This session already exists - no need to re-run ;)\n",
      "T118_2018_01_17_Notebook_4_a: This session already exists - no need to re-run ;)\n",
      "T118_2018_01_17_Notebook_4_b: This session already exists - no need to re-run ;)\n",
      "T118_2018_01_17_Notebook_4_c: This session already exists - no need to re-run ;)\n",
      "T118_2018_01_17_Notebook_5_a_seq0a1ae2a4abc5a: This session already exists - no need to re-run ;)\n",
      "Notebook_6_c.ipynb is being executed\n"
     ]
    },
    {
     "data": {
      "application/vnd.jupyter.widget-view+json": {
       "model_id": "cc24e2adc09a4b73bbfd09244075ade0",
       "version_major": 2,
       "version_minor": 0
      },
      "text/plain": [
       "HBox(children=(FloatProgress(value=0.0, max=14.0), HTML(value='')))"
      ]
     },
     "metadata": {},
     "output_type": "display_data"
    },
    {
     "name": "stdout",
     "output_type": "stream",
     "text": [
      "\n",
      "T118_2018_01_18_Notebook_0_a: This session already exists - no need to re-run ;)\n",
      "T118_2018_01_18_Notebook_1_a: This session already exists - no need to re-run ;)\n",
      "T118_2018_01_18_Notebook_1_e: This session already exists - no need to re-run ;)\n",
      "T118_2018_01_18_Notebook_2_a: This session already exists - no need to re-run ;)\n",
      "T118_2018_01_18_Notebook_4_a: This session already exists - no need to re-run ;)\n",
      "T118_2018_01_18_Notebook_4_b: This session already exists - no need to re-run ;)\n",
      "T118_2018_01_18_Notebook_4_c: This session already exists - no need to re-run ;)\n",
      "T118_2018_01_18_Notebook_5_a_seq0a1ae2a4abc5a: This session already exists - no need to re-run ;)\n",
      "Notebook_6_c.ipynb is being executed\n"
     ]
    },
    {
     "data": {
      "application/vnd.jupyter.widget-view+json": {
       "model_id": "a21a7ce8822a40fd9a26292d7ad3f050",
       "version_major": 2,
       "version_minor": 0
      },
      "text/plain": [
       "HBox(children=(FloatProgress(value=0.0, max=14.0), HTML(value='')))"
      ]
     },
     "metadata": {},
     "output_type": "display_data"
    },
    {
     "name": "stdout",
     "output_type": "stream",
     "text": [
      "\n",
      "T118_2018_01_24_Notebook_0_a: This session already exists - no need to re-run ;)\n",
      "T118_2018_01_24_Notebook_1_a: This session already exists - no need to re-run ;)\n",
      "T118_2018_01_24_Notebook_1_e: This session already exists - no need to re-run ;)\n",
      "T118_2018_01_24_Notebook_2_a: This session already exists - no need to re-run ;)\n",
      "T118_2018_01_24_Notebook_4_a: This session already exists - no need to re-run ;)\n",
      "T118_2018_01_24_Notebook_4_b: This session already exists - no need to re-run ;)\n",
      "T118_2018_01_24_Notebook_4_c: This session already exists - no need to re-run ;)\n",
      "T118_2018_01_24_Notebook_5_a_seq0a1ae2a4abc5a: This session already exists - no need to re-run ;)\n",
      "Notebook_6_c.ipynb is being executed\n"
     ]
    },
    {
     "data": {
      "application/vnd.jupyter.widget-view+json": {
       "model_id": "6b1591713cec453bb516d57b08eacac0",
       "version_major": 2,
       "version_minor": 0
      },
      "text/plain": [
       "HBox(children=(FloatProgress(value=0.0, max=14.0), HTML(value='')))"
      ]
     },
     "metadata": {},
     "output_type": "display_data"
    },
    {
     "name": "stdout",
     "output_type": "stream",
     "text": [
      "\n",
      "T118_2018_01_25_Notebook_0_a: This session already exists - no need to re-run ;)\n",
      "T118_2018_01_25_Notebook_1_a: This session already exists - no need to re-run ;)\n",
      "T118_2018_01_25_Notebook_1_e: This session already exists - no need to re-run ;)\n",
      "T118_2018_01_25_Notebook_2_a: This session already exists - no need to re-run ;)\n",
      "T118_2018_01_25_Notebook_4_a: This session already exists - no need to re-run ;)\n",
      "T118_2018_01_25_Notebook_4_b: This session already exists - no need to re-run ;)\n",
      "T118_2018_01_25_Notebook_4_c: This session already exists - no need to re-run ;)\n",
      "T118_2018_01_25_Notebook_5_a_seq0a1ae2a4abc5a: This session already exists - no need to re-run ;)\n",
      "Notebook_6_c.ipynb is being executed\n"
     ]
    },
    {
     "data": {
      "application/vnd.jupyter.widget-view+json": {
       "model_id": "4b0bed89cec04be7839350b22ab96fad",
       "version_major": 2,
       "version_minor": 0
      },
      "text/plain": [
       "HBox(children=(FloatProgress(value=0.0, max=14.0), HTML(value='')))"
      ]
     },
     "metadata": {},
     "output_type": "display_data"
    },
    {
     "name": "stdout",
     "output_type": "stream",
     "text": [
      "\n",
      "T118_2018_01_26_Notebook_0_a: This session already exists - no need to re-run ;)\n",
      "T118_2018_01_26_Notebook_1_a: This session already exists - no need to re-run ;)\n",
      "T118_2018_01_26_Notebook_1_e: This session already exists - no need to re-run ;)\n",
      "T118_2018_01_26_Notebook_2_a: This session already exists - no need to re-run ;)\n",
      "T118_2018_01_26_Notebook_4_a: This session already exists - no need to re-run ;)\n",
      "T118_2018_01_26_Notebook_4_b: This session already exists - no need to re-run ;)\n",
      "T118_2018_01_26_Notebook_4_c: This session already exists - no need to re-run ;)\n",
      "T118_2018_01_26_Notebook_5_a_seq0a1ae2a4abc5a: This session already exists - no need to re-run ;)\n",
      "Notebook_6_c.ipynb is being executed\n"
     ]
    },
    {
     "data": {
      "application/vnd.jupyter.widget-view+json": {
       "model_id": "7b2454b1989d4b3bbf977e13e00ec3d7",
       "version_major": 2,
       "version_minor": 0
      },
      "text/plain": [
       "HBox(children=(FloatProgress(value=0.0, max=14.0), HTML(value='')))"
      ]
     },
     "metadata": {},
     "output_type": "display_data"
    },
    {
     "name": "stdout",
     "output_type": "stream",
     "text": [
      "\n",
      "T122_2018_04_03_Notebook_0_a: This session already exists - no need to re-run ;)\n",
      "T122_2018_04_03_Notebook_1_a: This session already exists - no need to re-run ;)\n",
      "T122_2018_04_03_Notebook_1_e: This session already exists - no need to re-run ;)\n",
      "T122_2018_04_03_Notebook_2_a: This session already exists - no need to re-run ;)\n",
      "T122_2018_04_03_Notebook_4_a: This session already exists - no need to re-run ;)\n",
      "T122_2018_04_03_Notebook_4_b: This session already exists - no need to re-run ;)\n",
      "T122_2018_04_03_Notebook_4_c: This session already exists - no need to re-run ;)\n",
      "T122_2018_04_03_Notebook_5_a_seq0a1ae2a4abc5a: This session already exists - no need to re-run ;)\n",
      "Notebook_6_c.ipynb is being executed\n"
     ]
    },
    {
     "data": {
      "application/vnd.jupyter.widget-view+json": {
       "model_id": "61e93c56d52a4f17a2706356e88dbdbf",
       "version_major": 2,
       "version_minor": 0
      },
      "text/plain": [
       "HBox(children=(FloatProgress(value=0.0, max=14.0), HTML(value='')))"
      ]
     },
     "metadata": {},
     "output_type": "display_data"
    },
    {
     "name": "stdout",
     "output_type": "stream",
     "text": [
      "\n",
      "T122_2018_04_04_Notebook_0_a: This session already exists - no need to re-run ;)\n",
      "T122_2018_04_04_Notebook_1_a: This session already exists - no need to re-run ;)\n",
      "T122_2018_04_04_Notebook_1_e: This session already exists - no need to re-run ;)\n",
      "T122_2018_04_04_Notebook_2_a: This session already exists - no need to re-run ;)\n",
      "T122_2018_04_04_Notebook_4_a: This session already exists - no need to re-run ;)\n",
      "T122_2018_04_04_Notebook_4_b: This session already exists - no need to re-run ;)\n",
      "T122_2018_04_04_Notebook_4_c: This session already exists - no need to re-run ;)\n",
      "T122_2018_04_04_Notebook_5_a_seq0a1ae2a4abc5a: This session already exists - no need to re-run ;)\n",
      "Notebook_6_c.ipynb is being executed\n"
     ]
    },
    {
     "data": {
      "application/vnd.jupyter.widget-view+json": {
       "model_id": "13f95e5697fa40e3a5105effc92ae945",
       "version_major": 2,
       "version_minor": 0
      },
      "text/plain": [
       "HBox(children=(FloatProgress(value=0.0, max=14.0), HTML(value='')))"
      ]
     },
     "metadata": {},
     "output_type": "display_data"
    },
    {
     "name": "stdout",
     "output_type": "stream",
     "text": [
      "\n",
      "T122_2018_04_05_Notebook_0_a: This session already exists - no need to re-run ;)\n",
      "T122_2018_04_05_Notebook_1_a: This session already exists - no need to re-run ;)\n",
      "T122_2018_04_05_Notebook_1_e: This session already exists - no need to re-run ;)\n",
      "T122_2018_04_05_Notebook_2_a: This session already exists - no need to re-run ;)\n",
      "T122_2018_04_05_Notebook_4_a: This session already exists - no need to re-run ;)\n",
      "T122_2018_04_05_Notebook_4_b: This session already exists - no need to re-run ;)\n",
      "T122_2018_04_05_Notebook_4_c: This session already exists - no need to re-run ;)\n",
      "T122_2018_04_05_Notebook_5_a_seq0a1ae2a4abc5a: This session already exists - no need to re-run ;)\n",
      "Notebook_6_c.ipynb is being executed\n"
     ]
    },
    {
     "data": {
      "application/vnd.jupyter.widget-view+json": {
       "model_id": "0c54bc47578a455ba4e2e82bfe940163",
       "version_major": 2,
       "version_minor": 0
      },
      "text/plain": [
       "HBox(children=(FloatProgress(value=0.0, max=14.0), HTML(value='')))"
      ]
     },
     "metadata": {},
     "output_type": "display_data"
    },
    {
     "name": "stdout",
     "output_type": "stream",
     "text": [
      "\n",
      "T122_2018_04_06_Notebook_0_a: This session already exists - no need to re-run ;)\n",
      "T122_2018_04_06_Notebook_1_a: This session already exists - no need to re-run ;)\n",
      "T122_2018_04_06_Notebook_1_e: This session already exists - no need to re-run ;)\n",
      "T122_2018_04_06_Notebook_2_a: This session already exists - no need to re-run ;)\n",
      "T122_2018_04_06_Notebook_4_a: This session already exists - no need to re-run ;)\n",
      "T122_2018_04_06_Notebook_4_b: This session already exists - no need to re-run ;)\n",
      "T122_2018_04_06_Notebook_4_c: This session already exists - no need to re-run ;)\n",
      "T122_2018_04_06_Notebook_5_a_seq0a1ae2a4abc5a: This session already exists - no need to re-run ;)\n",
      "Notebook_6_c.ipynb is being executed\n"
     ]
    },
    {
     "data": {
      "application/vnd.jupyter.widget-view+json": {
       "model_id": "02715262914f41069f1ea9eb88f26f9d",
       "version_major": 2,
       "version_minor": 0
      },
      "text/plain": [
       "HBox(children=(FloatProgress(value=0.0, max=14.0), HTML(value='')))"
      ]
     },
     "metadata": {},
     "output_type": "display_data"
    },
    {
     "name": "stdout",
     "output_type": "stream",
     "text": [
      "\n",
      "T122_2018_04_12_Notebook_0_a: This session already exists - no need to re-run ;)\n",
      "T122_2018_04_12_Notebook_1_a: This session already exists - no need to re-run ;)\n",
      "T122_2018_04_12_Notebook_1_e: This session already exists - no need to re-run ;)\n",
      "T122_2018_04_12_Notebook_2_a: This session already exists - no need to re-run ;)\n",
      "T122_2018_04_12_Notebook_4_a: This session already exists - no need to re-run ;)\n",
      "T122_2018_04_12_Notebook_4_b: This session already exists - no need to re-run ;)\n",
      "T122_2018_04_12_Notebook_4_c: This session already exists - no need to re-run ;)\n",
      "T122_2018_04_12_Notebook_5_a_seq0a1ae2a4abc5a: This session already exists - no need to re-run ;)\n",
      "Notebook_6_c.ipynb is being executed\n"
     ]
    },
    {
     "data": {
      "application/vnd.jupyter.widget-view+json": {
       "model_id": "4272c430bd68424bb5ec2ff97f649823",
       "version_major": 2,
       "version_minor": 0
      },
      "text/plain": [
       "HBox(children=(FloatProgress(value=0.0, max=14.0), HTML(value='')))"
      ]
     },
     "metadata": {},
     "output_type": "display_data"
    },
    {
     "name": "stdout",
     "output_type": "stream",
     "text": [
      "\n",
      "T132_2018_04_10_Notebook_0_a: This session already exists - no need to re-run ;)\n",
      "T132_2018_04_10_Notebook_1_a: This session already exists - no need to re-run ;)\n",
      "T132_2018_04_10_Notebook_1_e: This session already exists - no need to re-run ;)\n",
      "T132_2018_04_10_Notebook_2_a: This session already exists - no need to re-run ;)\n",
      "T132_2018_04_10_Notebook_4_a: This session already exists - no need to re-run ;)\n",
      "T132_2018_04_10_Notebook_4_b: This session already exists - no need to re-run ;)\n",
      "T132_2018_04_10_Notebook_4_c: This session already exists - no need to re-run ;)\n",
      "T132_2018_04_10_Notebook_5_a_seq0a1ae2a4abc5a: This session already exists - no need to re-run ;)\n",
      "Notebook_6_c.ipynb is being executed\n"
     ]
    },
    {
     "data": {
      "application/vnd.jupyter.widget-view+json": {
       "model_id": "de8afbef705c4ed2aa998feed92586b6",
       "version_major": 2,
       "version_minor": 0
      },
      "text/plain": [
       "HBox(children=(FloatProgress(value=0.0, max=14.0), HTML(value='')))"
      ]
     },
     "metadata": {},
     "output_type": "display_data"
    },
    {
     "name": "stdout",
     "output_type": "stream",
     "text": [
      "\n",
      "T132_2018_04_12_Notebook_0_a: This session already exists - no need to re-run ;)\n",
      "T132_2018_04_12_Notebook_1_a: This session already exists - no need to re-run ;)\n",
      "T132_2018_04_12_Notebook_1_e: This session already exists - no need to re-run ;)\n",
      "T132_2018_04_12_Notebook_2_a: This session already exists - no need to re-run ;)\n",
      "T132_2018_04_12_Notebook_4_a: This session already exists - no need to re-run ;)\n",
      "T132_2018_04_12_Notebook_4_b: This session already exists - no need to re-run ;)\n",
      "T132_2018_04_12_Notebook_4_c: This session already exists - no need to re-run ;)\n",
      "T132_2018_04_12_Notebook_5_a_seq0a1ae2a4abc5a: This session already exists - no need to re-run ;)\n",
      "Notebook_6_c.ipynb is being executed\n"
     ]
    },
    {
     "data": {
      "application/vnd.jupyter.widget-view+json": {
       "model_id": "81a1e7114a2e4b7fa81bc180b5631d37",
       "version_major": 2,
       "version_minor": 0
      },
      "text/plain": [
       "HBox(children=(FloatProgress(value=0.0, max=14.0), HTML(value='')))"
      ]
     },
     "metadata": {},
     "output_type": "display_data"
    },
    {
     "name": "stdout",
     "output_type": "stream",
     "text": [
      "\n",
      "T132_2018_04_17_Notebook_0_a: This session already exists - no need to re-run ;)\n",
      "T132_2018_04_17_Notebook_1_a: This session already exists - no need to re-run ;)\n",
      "T132_2018_04_17_Notebook_1_e: This session already exists - no need to re-run ;)\n",
      "T132_2018_04_17_Notebook_2_a: This session already exists - no need to re-run ;)\n",
      "T132_2018_04_17_Notebook_4_a: This session already exists - no need to re-run ;)\n",
      "T132_2018_04_17_Notebook_4_b: This session already exists - no need to re-run ;)\n",
      "T132_2018_04_17_Notebook_4_c: This session already exists - no need to re-run ;)\n",
      "T132_2018_04_17_Notebook_5_a_seq0a1ae2a4abc5a: This session already exists - no need to re-run ;)\n",
      "Notebook_6_c.ipynb is being executed\n"
     ]
    },
    {
     "data": {
      "application/vnd.jupyter.widget-view+json": {
       "model_id": "a34c799988074cf08bed8e7ea8b1f305",
       "version_major": 2,
       "version_minor": 0
      },
      "text/plain": [
       "HBox(children=(FloatProgress(value=0.0, max=14.0), HTML(value='')))"
      ]
     },
     "metadata": {},
     "output_type": "display_data"
    },
    {
     "name": "stdout",
     "output_type": "stream",
     "text": [
      "\n",
      "T132_2018_04_24_Notebook_0_a: This session already exists - no need to re-run ;)\n",
      "T132_2018_04_24_Notebook_1_a: This session already exists - no need to re-run ;)\n",
      "T132_2018_04_24_Notebook_1_e: This session already exists - no need to re-run ;)\n",
      "T132_2018_04_24_Notebook_2_a: This session already exists - no need to re-run ;)\n",
      "T132_2018_04_24_Notebook_4_a: This session already exists - no need to re-run ;)\n",
      "T132_2018_04_24_Notebook_4_b: This session already exists - no need to re-run ;)\n",
      "T132_2018_04_24_Notebook_4_c: This session already exists - no need to re-run ;)\n",
      "T132_2018_04_24_Notebook_5_a_seq0a1ae2a4abc5a: This session already exists - no need to re-run ;)\n",
      "Notebook_6_c.ipynb is being executed\n"
     ]
    },
    {
     "data": {
      "application/vnd.jupyter.widget-view+json": {
       "model_id": "07e3049568114d01ace96a8bab242385",
       "version_major": 2,
       "version_minor": 0
      },
      "text/plain": [
       "HBox(children=(FloatProgress(value=0.0, max=14.0), HTML(value='')))"
      ]
     },
     "metadata": {},
     "output_type": "display_data"
    },
    {
     "name": "stdout",
     "output_type": "stream",
     "text": [
      "\n",
      "T132_2018_05_01_Notebook_0_a: This session already exists - no need to re-run ;)\n",
      "T132_2018_05_01_Notebook_1_a: This session already exists - no need to re-run ;)\n",
      "T132_2018_05_01_Notebook_1_e: This session already exists - no need to re-run ;)\n",
      "T132_2018_05_01_Notebook_2_a: This session already exists - no need to re-run ;)\n",
      "T132_2018_05_01_Notebook_4_a: This session already exists - no need to re-run ;)\n",
      "T132_2018_05_01_Notebook_4_b: This session already exists - no need to re-run ;)\n",
      "T132_2018_05_01_Notebook_4_c: This session already exists - no need to re-run ;)\n",
      "T132_2018_05_01_Notebook_5_a_seq0a1ae2a4abc5a: This session already exists - no need to re-run ;)\n",
      "Notebook_6_c.ipynb is being executed\n"
     ]
    },
    {
     "data": {
      "application/vnd.jupyter.widget-view+json": {
       "model_id": "591eef847dda4b07bf6e81a5e2431b64",
       "version_major": 2,
       "version_minor": 0
      },
      "text/plain": [
       "HBox(children=(FloatProgress(value=0.0, max=14.0), HTML(value='')))"
      ]
     },
     "metadata": {},
     "output_type": "display_data"
    },
    {
     "name": "stdout",
     "output_type": "stream",
     "text": [
      "\n",
      "T132_2018_05_03_Notebook_0_a: This session already exists - no need to re-run ;)\n",
      "T132_2018_05_03_Notebook_1_a: This session already exists - no need to re-run ;)\n",
      "T132_2018_05_03_Notebook_1_e: This session already exists - no need to re-run ;)\n",
      "T132_2018_05_03_Notebook_2_a: This session already exists - no need to re-run ;)\n",
      "T132_2018_05_03_Notebook_4_a: This session already exists - no need to re-run ;)\n",
      "T132_2018_05_03_Notebook_4_b: This session already exists - no need to re-run ;)\n",
      "T132_2018_05_03_Notebook_4_c: This session already exists - no need to re-run ;)\n",
      "T132_2018_05_03_Notebook_5_a_seq0a1ae2a4abc5a: This session already exists - no need to re-run ;)\n",
      "Notebook_6_c.ipynb is being executed\n"
     ]
    },
    {
     "data": {
      "application/vnd.jupyter.widget-view+json": {
       "model_id": "a70d9de32d7d4f7287436d4c10bd09b8",
       "version_major": 2,
       "version_minor": 0
      },
      "text/plain": [
       "HBox(children=(FloatProgress(value=0.0, max=14.0), HTML(value='')))"
      ]
     },
     "metadata": {},
     "output_type": "display_data"
    },
    {
     "name": "stdout",
     "output_type": "stream",
     "text": [
      "\n",
      "T132_2018_05_06_Notebook_0_a: This session already exists - no need to re-run ;)\n",
      "T132_2018_05_06_Notebook_1_a: This session already exists - no need to re-run ;)\n",
      "T132_2018_05_06_Notebook_1_e: This session already exists - no need to re-run ;)\n",
      "T132_2018_05_06_Notebook_2_a: This session already exists - no need to re-run ;)\n",
      "T132_2018_05_06_Notebook_4_a: This session already exists - no need to re-run ;)\n",
      "T132_2018_05_06_Notebook_4_b: This session already exists - no need to re-run ;)\n",
      "T132_2018_05_06_Notebook_4_c: This session already exists - no need to re-run ;)\n",
      "T132_2018_05_06_Notebook_5_a_seq0a1ae2a4abc5a: This session already exists - no need to re-run ;)\n",
      "Notebook_6_c.ipynb is being executed\n"
     ]
    },
    {
     "data": {
      "application/vnd.jupyter.widget-view+json": {
       "model_id": "462a6d59320e46cb9435559620b05355",
       "version_major": 2,
       "version_minor": 0
      },
      "text/plain": [
       "HBox(children=(FloatProgress(value=0.0, max=14.0), HTML(value='')))"
      ]
     },
     "metadata": {},
     "output_type": "display_data"
    },
    {
     "name": "stdout",
     "output_type": "stream",
     "text": [
      "\n",
      "T132_2018_05_08_Notebook_0_a: This session already exists - no need to re-run ;)\n",
      "T132_2018_05_08_Notebook_1_a: This session already exists - no need to re-run ;)\n",
      "T132_2018_05_08_Notebook_1_e: This session already exists - no need to re-run ;)\n",
      "T132_2018_05_08_Notebook_2_a: This session already exists - no need to re-run ;)\n",
      "T132_2018_05_08_Notebook_4_a: This session already exists - no need to re-run ;)\n",
      "T132_2018_05_08_Notebook_4_b: This session already exists - no need to re-run ;)\n",
      "T132_2018_05_08_Notebook_4_c: This session already exists - no need to re-run ;)\n",
      "T132_2018_05_08_Notebook_5_a_seq0a1ae2a4abc5a: This session already exists - no need to re-run ;)\n",
      "Notebook_6_c.ipynb is being executed\n"
     ]
    },
    {
     "data": {
      "application/vnd.jupyter.widget-view+json": {
       "model_id": "4b2fbcaf72b34a8db489a4e0a22a6f6b",
       "version_major": 2,
       "version_minor": 0
      },
      "text/plain": [
       "HBox(children=(FloatProgress(value=0.0, max=14.0), HTML(value='')))"
      ]
     },
     "metadata": {},
     "output_type": "display_data"
    },
    {
     "name": "stdout",
     "output_type": "stream",
     "text": [
      "\n",
      "T133_2018_04_10_Notebook_0_a: This session already exists - no need to re-run ;)\n",
      "T133_2018_04_10_Notebook_1_a: This session already exists - no need to re-run ;)\n",
      "T133_2018_04_10_Notebook_1_e: This session already exists - no need to re-run ;)\n",
      "T133_2018_04_10_Notebook_2_a: This session already exists - no need to re-run ;)\n",
      "T133_2018_04_10_Notebook_4_a: This session already exists - no need to re-run ;)\n",
      "T133_2018_04_10_Notebook_4_b: This session already exists - no need to re-run ;)\n",
      "T133_2018_04_10_Notebook_4_c: This session already exists - no need to re-run ;)\n",
      "T133_2018_04_10_Notebook_5_a_seq0a1ae2a4abc5a: This session already exists - no need to re-run ;)\n",
      "Notebook_6_c.ipynb is being executed\n"
     ]
    },
    {
     "data": {
      "application/vnd.jupyter.widget-view+json": {
       "model_id": "ab717331483143a79ef58b0002b56989",
       "version_major": 2,
       "version_minor": 0
      },
      "text/plain": [
       "HBox(children=(FloatProgress(value=0.0, max=14.0), HTML(value='')))"
      ]
     },
     "metadata": {},
     "output_type": "display_data"
    },
    {
     "name": "stdout",
     "output_type": "stream",
     "text": [
      "\n",
      "T133_2018_04_12_Notebook_0_a: This session already exists - no need to re-run ;)\n",
      "T133_2018_04_12_Notebook_1_a: This session already exists - no need to re-run ;)\n",
      "T133_2018_04_12_Notebook_1_e: This session already exists - no need to re-run ;)\n",
      "T133_2018_04_12_Notebook_2_a: This session already exists - no need to re-run ;)\n",
      "T133_2018_04_12_Notebook_4_a: This session already exists - no need to re-run ;)\n",
      "T133_2018_04_12_Notebook_4_b: This session already exists - no need to re-run ;)\n",
      "T133_2018_04_12_Notebook_4_c: This session already exists - no need to re-run ;)\n",
      "T133_2018_04_12_Notebook_5_a_seq0a1ae2a4abc5a: This session already exists - no need to re-run ;)\n",
      "Notebook_6_c.ipynb is being executed\n"
     ]
    },
    {
     "data": {
      "application/vnd.jupyter.widget-view+json": {
       "model_id": "597f9c92cd8f45b18665691ced1f5e08",
       "version_major": 2,
       "version_minor": 0
      },
      "text/plain": [
       "HBox(children=(FloatProgress(value=0.0, max=14.0), HTML(value='')))"
      ]
     },
     "metadata": {},
     "output_type": "display_data"
    },
    {
     "name": "stdout",
     "output_type": "stream",
     "text": [
      "\n",
      "T133_2018_04_17_Notebook_0_a: This session already exists - no need to re-run ;)\n",
      "T133_2018_04_17_Notebook_1_a: This session already exists - no need to re-run ;)\n",
      "T133_2018_04_17_Notebook_1_e: This session already exists - no need to re-run ;)\n",
      "T133_2018_04_17_Notebook_2_a: This session already exists - no need to re-run ;)\n",
      "T133_2018_04_17_Notebook_4_a: This session already exists - no need to re-run ;)\n",
      "T133_2018_04_17_Notebook_4_b: This session already exists - no need to re-run ;)\n",
      "T133_2018_04_17_Notebook_4_c: This session already exists - no need to re-run ;)\n",
      "T133_2018_04_17_Notebook_5_a_seq0a1ae2a4abc5a: This session already exists - no need to re-run ;)\n",
      "Notebook_6_c.ipynb is being executed\n"
     ]
    },
    {
     "data": {
      "application/vnd.jupyter.widget-view+json": {
       "model_id": "0b6d15bcc20b43f2b2d793445731bff7",
       "version_major": 2,
       "version_minor": 0
      },
      "text/plain": [
       "HBox(children=(FloatProgress(value=0.0, max=14.0), HTML(value='')))"
      ]
     },
     "metadata": {},
     "output_type": "display_data"
    },
    {
     "name": "stdout",
     "output_type": "stream",
     "text": [
      "\n",
      "T133_2018_04_27_Notebook_0_a: This session already exists - no need to re-run ;)\n",
      "T133_2018_04_27_Notebook_1_a: This session already exists - no need to re-run ;)\n",
      "T133_2018_04_27_Notebook_1_e: This session already exists - no need to re-run ;)\n",
      "T133_2018_04_27_Notebook_2_a: This session already exists - no need to re-run ;)\n",
      "T133_2018_04_27_Notebook_4_a: This session already exists - no need to re-run ;)\n",
      "T133_2018_04_27_Notebook_4_b: This session already exists - no need to re-run ;)\n",
      "T133_2018_04_27_Notebook_4_c: This session already exists - no need to re-run ;)\n",
      "T133_2018_04_27_Notebook_5_a_seq0a1ae2a4abc5a: This session already exists - no need to re-run ;)\n",
      "Notebook_6_c.ipynb is being executed\n"
     ]
    },
    {
     "data": {
      "application/vnd.jupyter.widget-view+json": {
       "model_id": "031f24f09c054d018e7f39ac542c09ac",
       "version_major": 2,
       "version_minor": 0
      },
      "text/plain": [
       "HBox(children=(FloatProgress(value=0.0, max=14.0), HTML(value='')))"
      ]
     },
     "metadata": {},
     "output_type": "display_data"
    },
    {
     "name": "stdout",
     "output_type": "stream",
     "text": [
      "\n",
      "T174_2019_02_25_Notebook_0_a: This session already exists - no need to re-run ;)\n",
      "T174_2019_02_25_Notebook_1_a: This session already exists - no need to re-run ;)\n",
      "T174_2019_02_25_Notebook_1_e: This session already exists - no need to re-run ;)\n",
      "T174_2019_02_25_Notebook_2_a: This session already exists - no need to re-run ;)\n",
      "T174_2019_02_25_Notebook_4_a: This session already exists - no need to re-run ;)\n",
      "T174_2019_02_25_Notebook_4_b: This session already exists - no need to re-run ;)\n",
      "T174_2019_02_25_Notebook_4_c: This session already exists - no need to re-run ;)\n",
      "T174_2019_02_25_Notebook_5_a_seq0a1ae2a4abc5a: This session already exists - no need to re-run ;)\n",
      "Notebook_6_c.ipynb is being executed\n"
     ]
    },
    {
     "data": {
      "application/vnd.jupyter.widget-view+json": {
       "model_id": "5170a8b82d7d4d02b2b0488a6136b5e6",
       "version_major": 2,
       "version_minor": 0
      },
      "text/plain": [
       "HBox(children=(FloatProgress(value=0.0, max=14.0), HTML(value='')))"
      ]
     },
     "metadata": {},
     "output_type": "display_data"
    },
    {
     "name": "stdout",
     "output_type": "stream",
     "text": [
      "\n",
      "T174_2019_02_27_Notebook_0_a: This session already exists - no need to re-run ;)\n",
      "T174_2019_02_27_Notebook_1_a: This session already exists - no need to re-run ;)\n",
      "T174_2019_02_27_Notebook_1_e: This session already exists - no need to re-run ;)\n",
      "T174_2019_02_27_Notebook_2_a: This session already exists - no need to re-run ;)\n",
      "T174_2019_02_27_Notebook_4_a: This session already exists - no need to re-run ;)\n",
      "T174_2019_02_27_Notebook_4_b: This session already exists - no need to re-run ;)\n",
      "T174_2019_02_27_Notebook_4_c: This session already exists - no need to re-run ;)\n",
      "T174_2019_02_27_Notebook_5_a_seq0a1ae2a4abc5a: This session already exists - no need to re-run ;)\n",
      "Notebook_6_c.ipynb is being executed\n"
     ]
    },
    {
     "data": {
      "application/vnd.jupyter.widget-view+json": {
       "model_id": "cf0a32e1158743d3abdc5142fd0bbd2d",
       "version_major": 2,
       "version_minor": 0
      },
      "text/plain": [
       "HBox(children=(FloatProgress(value=0.0, max=14.0), HTML(value='')))"
      ]
     },
     "metadata": {},
     "output_type": "display_data"
    },
    {
     "name": "stdout",
     "output_type": "stream",
     "text": [
      "\n",
      "T174_2019_03_03_Notebook_0_a: This session already exists - no need to re-run ;)\n",
      "T174_2019_03_03_Notebook_1_a: This session already exists - no need to re-run ;)\n",
      "T174_2019_03_03_Notebook_1_e: This session already exists - no need to re-run ;)\n",
      "T174_2019_03_03_Notebook_2_a: This session already exists - no need to re-run ;)\n",
      "T174_2019_03_03_Notebook_4_a: This session already exists - no need to re-run ;)\n",
      "T174_2019_03_03_Notebook_4_b: This session already exists - no need to re-run ;)\n",
      "T174_2019_03_03_Notebook_4_c: This session already exists - no need to re-run ;)\n",
      "T174_2019_03_03_Notebook_5_a_seq0a1ae2a4abc5a: This session already exists - no need to re-run ;)\n",
      "Notebook_6_c.ipynb is being executed\n"
     ]
    },
    {
     "data": {
      "application/vnd.jupyter.widget-view+json": {
       "model_id": "b3c02c91c7c247f686ace1ecfbb4e790",
       "version_major": 2,
       "version_minor": 0
      },
      "text/plain": [
       "HBox(children=(FloatProgress(value=0.0, max=14.0), HTML(value='')))"
      ]
     },
     "metadata": {},
     "output_type": "display_data"
    },
    {
     "name": "stdout",
     "output_type": "stream",
     "text": [
      "\n",
      "T174_2019_03_05_Notebook_0_a: This session already exists - no need to re-run ;)\n",
      "T174_2019_03_05_Notebook_1_a: This session already exists - no need to re-run ;)\n",
      "T174_2019_03_05_Notebook_1_e: This session already exists - no need to re-run ;)\n",
      "T174_2019_03_05_Notebook_2_a: This session already exists - no need to re-run ;)\n",
      "T174_2019_03_05_Notebook_4_a: This session already exists - no need to re-run ;)\n",
      "T174_2019_03_05_Notebook_4_b: This session already exists - no need to re-run ;)\n",
      "T174_2019_03_05_Notebook_4_c: This session already exists - no need to re-run ;)\n",
      "T174_2019_03_05_Notebook_5_a_seq0a1ae2a4abc5a: This session already exists - no need to re-run ;)\n",
      "Notebook_6_c.ipynb is being executed\n"
     ]
    },
    {
     "data": {
      "application/vnd.jupyter.widget-view+json": {
       "model_id": "34bc433f13f0451081cb5dcdcb6871df",
       "version_major": 2,
       "version_minor": 0
      },
      "text/plain": [
       "HBox(children=(FloatProgress(value=0.0, max=14.0), HTML(value='')))"
      ]
     },
     "metadata": {},
     "output_type": "display_data"
    },
    {
     "name": "stdout",
     "output_type": "stream",
     "text": [
      "\n",
      "T178_2019_02_26_Notebook_0_a: This session already exists - no need to re-run ;)\n",
      "T178_2019_02_26_Notebook_1_a: This session already exists - no need to re-run ;)\n",
      "T178_2019_02_26_Notebook_1_e: This session already exists - no need to re-run ;)\n",
      "T178_2019_02_26_Notebook_2_a: This session already exists - no need to re-run ;)\n",
      "T178_2019_02_26_Notebook_4_a: This session already exists - no need to re-run ;)\n",
      "T178_2019_02_26_Notebook_4_b: This session already exists - no need to re-run ;)\n",
      "T178_2019_02_26_Notebook_4_c: This session already exists - no need to re-run ;)\n",
      "T178_2019_02_26_Notebook_5_a_seq0a1ae2a4abc5a: This session already exists - no need to re-run ;)\n",
      "Notebook_6_c.ipynb is being executed\n"
     ]
    },
    {
     "data": {
      "application/vnd.jupyter.widget-view+json": {
       "model_id": "ae3f21249b9b4c2ea693a00b105a3ec2",
       "version_major": 2,
       "version_minor": 0
      },
      "text/plain": [
       "HBox(children=(FloatProgress(value=0.0, max=14.0), HTML(value='')))"
      ]
     },
     "metadata": {},
     "output_type": "display_data"
    },
    {
     "name": "stdout",
     "output_type": "stream",
     "text": [
      "\n",
      "T178_2019_03_12_Notebook_0_a: This session already exists - no need to re-run ;)\n",
      "T178_2019_03_12_Notebook_1_a: This session already exists - no need to re-run ;)\n",
      "T178_2019_03_12_Notebook_1_e: This session already exists - no need to re-run ;)\n",
      "T178_2019_03_12_Notebook_2_a: This session already exists - no need to re-run ;)\n",
      "T178_2019_03_12_Notebook_4_a: This session already exists - no need to re-run ;)\n",
      "T178_2019_03_12_Notebook_4_b: This session already exists - no need to re-run ;)\n",
      "T178_2019_03_12_Notebook_4_c: This session already exists - no need to re-run ;)\n",
      "T178_2019_03_12_Notebook_5_a_seq0a1ae2a4abc5a: This session already exists - no need to re-run ;)\n",
      "Notebook_6_c.ipynb is being executed\n"
     ]
    },
    {
     "data": {
      "application/vnd.jupyter.widget-view+json": {
       "model_id": "603ba0d8dfa84f6f965e7aa03a7a2671",
       "version_major": 2,
       "version_minor": 0
      },
      "text/plain": [
       "HBox(children=(FloatProgress(value=0.0, max=14.0), HTML(value='')))"
      ]
     },
     "metadata": {},
     "output_type": "display_data"
    },
    {
     "name": "stdout",
     "output_type": "stream",
     "text": [
      "\n",
      "T178_2019_03_13_Notebook_0_a: This session already exists - no need to re-run ;)\n",
      "T178_2019_03_13_Notebook_1_a: This session already exists - no need to re-run ;)\n",
      "T178_2019_03_13_Notebook_1_e: This session already exists - no need to re-run ;)\n",
      "T178_2019_03_13_Notebook_2_a: This session already exists - no need to re-run ;)\n",
      "T178_2019_03_13_Notebook_4_a: This session already exists - no need to re-run ;)\n",
      "T178_2019_03_13_Notebook_4_b: This session already exists - no need to re-run ;)\n",
      "T178_2019_03_13_Notebook_4_c: This session already exists - no need to re-run ;)\n",
      "T178_2019_03_13_Notebook_5_a_seq0a1ae2a4abc5a: This session already exists - no need to re-run ;)\n",
      "Notebook_6_c.ipynb is being executed\n"
     ]
    },
    {
     "data": {
      "application/vnd.jupyter.widget-view+json": {
       "model_id": "9348edabe9f94433b6cbd90646e0c70a",
       "version_major": 2,
       "version_minor": 0
      },
      "text/plain": [
       "HBox(children=(FloatProgress(value=0.0, max=14.0), HTML(value='')))"
      ]
     },
     "metadata": {},
     "output_type": "display_data"
    },
    {
     "name": "stdout",
     "output_type": "stream",
     "text": [
      "\n",
      "T178_2019_03_14_Notebook_0_a: This session already exists - no need to re-run ;)\n",
      "T178_2019_03_14_Notebook_1_a: This session already exists - no need to re-run ;)\n",
      "T178_2019_03_14_Notebook_1_e: This session already exists - no need to re-run ;)\n",
      "T178_2019_03_14_Notebook_2_a: This session already exists - no need to re-run ;)\n",
      "T178_2019_03_14_Notebook_4_a: This session already exists - no need to re-run ;)\n",
      "T178_2019_03_14_Notebook_4_b: This session already exists - no need to re-run ;)\n",
      "T178_2019_03_14_Notebook_4_c: This session already exists - no need to re-run ;)\n",
      "T178_2019_03_14_Notebook_5_a_seq0a1ae2a4abc5a: This session already exists - no need to re-run ;)\n",
      "Notebook_6_c.ipynb is being executed\n"
     ]
    },
    {
     "data": {
      "application/vnd.jupyter.widget-view+json": {
       "model_id": "2e03237b02a242c1adbcffc8c4a73ad6",
       "version_major": 2,
       "version_minor": 0
      },
      "text/plain": [
       "HBox(children=(FloatProgress(value=0.0, max=14.0), HTML(value='')))"
      ]
     },
     "metadata": {},
     "output_type": "display_data"
    },
    {
     "name": "stdout",
     "output_type": "stream",
     "text": [
      "\n",
      "T178_2019_03_15_Notebook_0_a: This session already exists - no need to re-run ;)\n",
      "T178_2019_03_15_Notebook_1_a: This session already exists - no need to re-run ;)\n",
      "T178_2019_03_15_Notebook_1_e: This session already exists - no need to re-run ;)\n",
      "T178_2019_03_15_Notebook_2_a: This session already exists - no need to re-run ;)\n",
      "T178_2019_03_15_Notebook_4_a: This session already exists - no need to re-run ;)\n",
      "T178_2019_03_15_Notebook_4_b: This session already exists - no need to re-run ;)\n",
      "T178_2019_03_15_Notebook_4_c: This session already exists - no need to re-run ;)\n",
      "T178_2019_03_15_Notebook_5_a_seq0a1ae2a4abc5a: This session already exists - no need to re-run ;)\n",
      "Notebook_6_c.ipynb is being executed\n"
     ]
    },
    {
     "data": {
      "application/vnd.jupyter.widget-view+json": {
       "model_id": "d920b435a8e648758eb3ffc82863213b",
       "version_major": 2,
       "version_minor": 0
      },
      "text/plain": [
       "HBox(children=(FloatProgress(value=0.0, max=14.0), HTML(value='')))"
      ]
     },
     "metadata": {},
     "output_type": "display_data"
    },
    {
     "name": "stdout",
     "output_type": "stream",
     "text": [
      "\n",
      "T178_2019_03_18_Notebook_0_a: This session already exists - no need to re-run ;)\n",
      "T178_2019_03_18_Notebook_1_a: This session already exists - no need to re-run ;)\n",
      "T178_2019_03_18_Notebook_1_e: This session already exists - no need to re-run ;)\n",
      "T178_2019_03_18_Notebook_2_a: This session already exists - no need to re-run ;)\n",
      "T178_2019_03_18_Notebook_4_a: This session already exists - no need to re-run ;)\n",
      "T178_2019_03_18_Notebook_4_b: This session already exists - no need to re-run ;)\n",
      "T178_2019_03_18_Notebook_4_c: This session already exists - no need to re-run ;)\n",
      "T178_2019_03_18_Notebook_5_a_seq0a1ae2a4abc5a: This session already exists - no need to re-run ;)\n",
      "Notebook_6_c.ipynb is being executed\n"
     ]
    },
    {
     "data": {
      "application/vnd.jupyter.widget-view+json": {
       "model_id": "a9b3367d615d40d78656f793770be940",
       "version_major": 2,
       "version_minor": 0
      },
      "text/plain": [
       "HBox(children=(FloatProgress(value=0.0, max=14.0), HTML(value='')))"
      ]
     },
     "metadata": {},
     "output_type": "display_data"
    },
    {
     "name": "stdout",
     "output_type": "stream",
     "text": [
      "\n",
      "T178_2019_03_19_Notebook_0_a: This session already exists - no need to re-run ;)\n",
      "T178_2019_03_19_Notebook_1_a: This session already exists - no need to re-run ;)\n",
      "T178_2019_03_19_Notebook_1_e: This session already exists - no need to re-run ;)\n",
      "T178_2019_03_19_Notebook_2_a: This session already exists - no need to re-run ;)\n",
      "T178_2019_03_19_Notebook_4_a: This session already exists - no need to re-run ;)\n",
      "T178_2019_03_19_Notebook_4_b: This session already exists - no need to re-run ;)\n",
      "T178_2019_03_19_Notebook_4_c: This session already exists - no need to re-run ;)\n",
      "T178_2019_03_19_Notebook_5_a_seq0a1ae2a4abc5a: This session already exists - no need to re-run ;)\n",
      "Notebook_6_c.ipynb is being executed\n"
     ]
    },
    {
     "data": {
      "application/vnd.jupyter.widget-view+json": {
       "model_id": "7fc01ebbfa7e41dc8f095af200c710b7",
       "version_major": 2,
       "version_minor": 0
      },
      "text/plain": [
       "HBox(children=(FloatProgress(value=0.0, max=14.0), HTML(value='')))"
      ]
     },
     "metadata": {},
     "output_type": "display_data"
    },
    {
     "name": "stdout",
     "output_type": "stream",
     "text": [
      "\n",
      "T179_2019_03_03_Notebook_0_a: This session already exists - no need to re-run ;)\n",
      "T179_2019_03_03_Notebook_1_a: This session already exists - no need to re-run ;)\n",
      "T179_2019_03_03_Notebook_1_e: This session already exists - no need to re-run ;)\n",
      "T179_2019_03_03_Notebook_2_a: This session already exists - no need to re-run ;)\n",
      "T179_2019_03_03_Notebook_4_a: This session already exists - no need to re-run ;)\n",
      "T179_2019_03_03_Notebook_4_b: This session already exists - no need to re-run ;)\n",
      "T179_2019_03_03_Notebook_4_c: This session already exists - no need to re-run ;)\n",
      "T179_2019_03_03_Notebook_5_a_seq0a1ae2a4abc5a: This session already exists - no need to re-run ;)\n",
      "Notebook_6_c.ipynb is being executed\n"
     ]
    },
    {
     "data": {
      "application/vnd.jupyter.widget-view+json": {
       "model_id": "cc1297fc852449fdac7febe4ae0a5652",
       "version_major": 2,
       "version_minor": 0
      },
      "text/plain": [
       "HBox(children=(FloatProgress(value=0.0, max=14.0), HTML(value='')))"
      ]
     },
     "metadata": {},
     "output_type": "display_data"
    },
    {
     "name": "stdout",
     "output_type": "stream",
     "text": [
      "\n",
      "T179_2019_03_12_Notebook_0_a: This session already exists - no need to re-run ;)\n",
      "T179_2019_03_12_Notebook_1_a: This session already exists - no need to re-run ;)\n",
      "T179_2019_03_12_Notebook_1_e: This session already exists - no need to re-run ;)\n",
      "T179_2019_03_12_Notebook_2_a: This session already exists - no need to re-run ;)\n",
      "T179_2019_03_12_Notebook_4_a: This session already exists - no need to re-run ;)\n",
      "T179_2019_03_12_Notebook_4_b: This session already exists - no need to re-run ;)\n",
      "T179_2019_03_12_Notebook_4_c: This session already exists - no need to re-run ;)\n",
      "T179_2019_03_12_Notebook_5_a_seq0a1ae2a4abc5a: This session already exists - no need to re-run ;)\n",
      "Notebook_6_c.ipynb is being executed\n"
     ]
    },
    {
     "data": {
      "application/vnd.jupyter.widget-view+json": {
       "model_id": "3f229562a804447aa5c92f1762531651",
       "version_major": 2,
       "version_minor": 0
      },
      "text/plain": [
       "HBox(children=(FloatProgress(value=0.0, max=14.0), HTML(value='')))"
      ]
     },
     "metadata": {},
     "output_type": "display_data"
    }
   ],
   "source": [
    "#Mouse_Date_FileName: data set we want to run \n",
    "#nb_list: notebooks that we want to run \n",
    "#nb_path: where is the repository that you are running \n",
    "#seq_str: notebooks that we want to run - in code version \n",
    "#dict_for_pm: parameters of the data set \n",
    "\n",
    "ophf.run_dataset (Mouse_Date_FileName,nb_list,nb_path,seq_str,dict_for_pm)"
   ]
  },
  {
   "cell_type": "code",
   "execution_count": null,
   "metadata": {},
   "outputs": [],
   "source": []
  },
  {
   "cell_type": "code",
   "execution_count": null,
   "metadata": {},
   "outputs": [],
   "source": []
  }
 ],
 "metadata": {
  "celltoolbar": "Tags",
  "kernelspec": {
   "display_name": "Python 3",
   "language": "python",
   "name": "python3"
  },
  "language_info": {
   "codemirror_mode": {
    "name": "ipython",
    "version": 3
   },
   "file_extension": ".py",
   "mimetype": "text/x-python",
   "name": "python",
   "nbconvert_exporter": "python",
   "pygments_lexer": "ipython3",
   "version": "3.7.3"
  }
 },
 "nbformat": 4,
 "nbformat_minor": 2
}
