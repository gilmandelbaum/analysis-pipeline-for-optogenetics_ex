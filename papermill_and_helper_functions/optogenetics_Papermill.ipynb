{
 "cells": [
  {
   "cell_type": "markdown",
   "metadata": {},
   "source": [
    "# Papermill Notebook for Optogenetics"
   ]
  },
  {
   "cell_type": "code",
   "execution_count": 1,
   "metadata": {},
   "outputs": [],
   "source": [
    "import timeit\n",
    "import pandas as pd\n",
    "import numpy as np\n",
    "import os \n",
    "import papermill as pm\n",
    "import getpass\n",
    "import sys"
   ]
  },
  {
   "cell_type": "code",
   "execution_count": 2,
   "metadata": {},
   "outputs": [
    {
     "data": {
      "text/plain": [
       "'/anaconda3/envs/optogenetics_env/bin/python'"
      ]
     },
     "execution_count": 2,
     "metadata": {},
     "output_type": "execute_result"
    }
   ],
   "source": [
    "sys.executable"
   ]
  },
  {
   "cell_type": "code",
   "execution_count": 3,
   "metadata": {},
   "outputs": [],
   "source": [
    "import optogenetics_papermill_helper_functions as ophf "
   ]
  },
  {
   "cell_type": "markdown",
   "metadata": {},
   "source": [
    "# input and output path: (user specific)"
   ]
  },
  {
   "cell_type": "code",
   "execution_count": 4,
   "metadata": {},
   "outputs": [],
   "source": [
    "#data to be analyzed: \n",
    "data_dir_input = \"/Users/gilmandelbaum/Dropbox (HMS)/0.STRpaper/4.Optogenetics/opto_consumption_final/0.after.QC.D2/D2.OptoConsumpRaw\"\n",
    "#where to save the analyzed data: \n",
    "data_dir_output = \"/Users/gilmandelbaum/Dropbox (HMS)/0.STRpaper/4.Optogenetics/opto_consumption_final/0.after.QC.D2/D2.OptoConsumpOutput\""
   ]
  },
  {
   "cell_type": "markdown",
   "metadata": {},
   "source": [
    "# name of xlsx sheet to import with the data set info: "
   ]
  },
  {
   "cell_type": "code",
   "execution_count": 5,
   "metadata": {},
   "outputs": [],
   "source": [
    "#this xlsx sheet should be in the data_dir_input"
   ]
  },
  {
   "cell_type": "code",
   "execution_count": 6,
   "metadata": {},
   "outputs": [],
   "source": [
    "#name of xlsx file that has the sessions we want to run: \n",
    "MasterSheetName= 'D2.stim_trials<8>25'"
   ]
  },
  {
   "cell_type": "code",
   "execution_count": 7,
   "metadata": {},
   "outputs": [],
   "source": [
    "#loading the xlsx file \n",
    "Mouse_Date_FileName = pd.read_excel(data_dir_input+'/'+MasterSheetName+'.xlsx') #mdf is mouse data file "
   ]
  },
  {
   "cell_type": "code",
   "execution_count": 8,
   "metadata": {
    "scrolled": true
   },
   "outputs": [
    {
     "data": {
      "text/html": [
       "<div>\n",
       "<style scoped>\n",
       "    .dataframe tbody tr th:only-of-type {\n",
       "        vertical-align: middle;\n",
       "    }\n",
       "\n",
       "    .dataframe tbody tr th {\n",
       "        vertical-align: top;\n",
       "    }\n",
       "\n",
       "    .dataframe thead th {\n",
       "        text-align: right;\n",
       "    }\n",
       "</style>\n",
       "<table border=\"1\" class=\"dataframe\">\n",
       "  <thead>\n",
       "    <tr style=\"text-align: right;\">\n",
       "      <th></th>\n",
       "      <th>Unnamed: 0</th>\n",
       "      <th>Mouse</th>\n",
       "      <th>Date</th>\n",
       "      <th>D</th>\n",
       "      <th>TypeOfStim</th>\n",
       "      <th>SideOfStim</th>\n",
       "    </tr>\n",
       "  </thead>\n",
       "  <tbody>\n",
       "    <tr>\n",
       "      <th>0</th>\n",
       "      <td>1</td>\n",
       "      <td>T114</td>\n",
       "      <td>171124</td>\n",
       "      <td>2</td>\n",
       "      <td>C</td>\n",
       "      <td>R</td>\n",
       "    </tr>\n",
       "    <tr>\n",
       "      <th>1</th>\n",
       "      <td>2</td>\n",
       "      <td>T114</td>\n",
       "      <td>171126</td>\n",
       "      <td>2</td>\n",
       "      <td>C</td>\n",
       "      <td>R</td>\n",
       "    </tr>\n",
       "    <tr>\n",
       "      <th>2</th>\n",
       "      <td>3</td>\n",
       "      <td>T114</td>\n",
       "      <td>171129</td>\n",
       "      <td>2</td>\n",
       "      <td>C</td>\n",
       "      <td>L</td>\n",
       "    </tr>\n",
       "    <tr>\n",
       "      <th>3</th>\n",
       "      <td>4</td>\n",
       "      <td>T114</td>\n",
       "      <td>171201</td>\n",
       "      <td>2</td>\n",
       "      <td>C</td>\n",
       "      <td>L</td>\n",
       "    </tr>\n",
       "    <tr>\n",
       "      <th>4</th>\n",
       "      <td>5</td>\n",
       "      <td>T114</td>\n",
       "      <td>171203</td>\n",
       "      <td>2</td>\n",
       "      <td>C</td>\n",
       "      <td>L</td>\n",
       "    </tr>\n",
       "    <tr>\n",
       "      <th>5</th>\n",
       "      <td>6</td>\n",
       "      <td>T114</td>\n",
       "      <td>171205</td>\n",
       "      <td>2</td>\n",
       "      <td>C</td>\n",
       "      <td>L</td>\n",
       "    </tr>\n",
       "    <tr>\n",
       "      <th>6</th>\n",
       "      <td>7</td>\n",
       "      <td>T114</td>\n",
       "      <td>171211</td>\n",
       "      <td>2</td>\n",
       "      <td>C</td>\n",
       "      <td>R</td>\n",
       "    </tr>\n",
       "    <tr>\n",
       "      <th>7</th>\n",
       "      <td>8</td>\n",
       "      <td>T115</td>\n",
       "      <td>171124</td>\n",
       "      <td>2</td>\n",
       "      <td>C</td>\n",
       "      <td>L</td>\n",
       "    </tr>\n",
       "    <tr>\n",
       "      <th>8</th>\n",
       "      <td>9</td>\n",
       "      <td>T115</td>\n",
       "      <td>171126</td>\n",
       "      <td>2</td>\n",
       "      <td>C</td>\n",
       "      <td>L</td>\n",
       "    </tr>\n",
       "    <tr>\n",
       "      <th>9</th>\n",
       "      <td>10</td>\n",
       "      <td>T115</td>\n",
       "      <td>171129</td>\n",
       "      <td>2</td>\n",
       "      <td>C</td>\n",
       "      <td>L</td>\n",
       "    </tr>\n",
       "    <tr>\n",
       "      <th>10</th>\n",
       "      <td>11</td>\n",
       "      <td>T115</td>\n",
       "      <td>171201</td>\n",
       "      <td>2</td>\n",
       "      <td>C</td>\n",
       "      <td>L</td>\n",
       "    </tr>\n",
       "    <tr>\n",
       "      <th>11</th>\n",
       "      <td>12</td>\n",
       "      <td>T115</td>\n",
       "      <td>171203</td>\n",
       "      <td>2</td>\n",
       "      <td>C</td>\n",
       "      <td>L</td>\n",
       "    </tr>\n",
       "    <tr>\n",
       "      <th>12</th>\n",
       "      <td>13</td>\n",
       "      <td>T115</td>\n",
       "      <td>171205</td>\n",
       "      <td>2</td>\n",
       "      <td>C</td>\n",
       "      <td>L</td>\n",
       "    </tr>\n",
       "    <tr>\n",
       "      <th>13</th>\n",
       "      <td>14</td>\n",
       "      <td>T115</td>\n",
       "      <td>171207</td>\n",
       "      <td>2</td>\n",
       "      <td>C</td>\n",
       "      <td>L</td>\n",
       "    </tr>\n",
       "    <tr>\n",
       "      <th>14</th>\n",
       "      <td>15</td>\n",
       "      <td>T115</td>\n",
       "      <td>171211</td>\n",
       "      <td>2</td>\n",
       "      <td>C</td>\n",
       "      <td>L</td>\n",
       "    </tr>\n",
       "    <tr>\n",
       "      <th>15</th>\n",
       "      <td>16</td>\n",
       "      <td>T174</td>\n",
       "      <td>190225</td>\n",
       "      <td>2</td>\n",
       "      <td>C</td>\n",
       "      <td>R</td>\n",
       "    </tr>\n",
       "    <tr>\n",
       "      <th>16</th>\n",
       "      <td>17</td>\n",
       "      <td>T174</td>\n",
       "      <td>190227</td>\n",
       "      <td>2</td>\n",
       "      <td>C</td>\n",
       "      <td>R</td>\n",
       "    </tr>\n",
       "    <tr>\n",
       "      <th>17</th>\n",
       "      <td>18</td>\n",
       "      <td>T174</td>\n",
       "      <td>190303</td>\n",
       "      <td>2</td>\n",
       "      <td>C</td>\n",
       "      <td>L</td>\n",
       "    </tr>\n",
       "    <tr>\n",
       "      <th>18</th>\n",
       "      <td>19</td>\n",
       "      <td>T174</td>\n",
       "      <td>190305</td>\n",
       "      <td>2</td>\n",
       "      <td>C</td>\n",
       "      <td>L</td>\n",
       "    </tr>\n",
       "    <tr>\n",
       "      <th>19</th>\n",
       "      <td>20</td>\n",
       "      <td>T229</td>\n",
       "      <td>190903</td>\n",
       "      <td>2</td>\n",
       "      <td>C</td>\n",
       "      <td>R</td>\n",
       "    </tr>\n",
       "    <tr>\n",
       "      <th>20</th>\n",
       "      <td>21</td>\n",
       "      <td>T229</td>\n",
       "      <td>190906</td>\n",
       "      <td>2</td>\n",
       "      <td>C</td>\n",
       "      <td>R</td>\n",
       "    </tr>\n",
       "    <tr>\n",
       "      <th>21</th>\n",
       "      <td>22</td>\n",
       "      <td>T229</td>\n",
       "      <td>190927</td>\n",
       "      <td>2</td>\n",
       "      <td>C</td>\n",
       "      <td>L</td>\n",
       "    </tr>\n",
       "    <tr>\n",
       "      <th>22</th>\n",
       "      <td>23</td>\n",
       "      <td>T229</td>\n",
       "      <td>191001</td>\n",
       "      <td>2</td>\n",
       "      <td>C</td>\n",
       "      <td>L</td>\n",
       "    </tr>\n",
       "    <tr>\n",
       "      <th>23</th>\n",
       "      <td>24</td>\n",
       "      <td>T235</td>\n",
       "      <td>190829</td>\n",
       "      <td>2</td>\n",
       "      <td>C</td>\n",
       "      <td>R</td>\n",
       "    </tr>\n",
       "    <tr>\n",
       "      <th>24</th>\n",
       "      <td>25</td>\n",
       "      <td>T235</td>\n",
       "      <td>190903</td>\n",
       "      <td>2</td>\n",
       "      <td>C</td>\n",
       "      <td>R</td>\n",
       "    </tr>\n",
       "    <tr>\n",
       "      <th>25</th>\n",
       "      <td>26</td>\n",
       "      <td>T235</td>\n",
       "      <td>190906</td>\n",
       "      <td>2</td>\n",
       "      <td>C</td>\n",
       "      <td>R</td>\n",
       "    </tr>\n",
       "    <tr>\n",
       "      <th>26</th>\n",
       "      <td>27</td>\n",
       "      <td>T235</td>\n",
       "      <td>190911</td>\n",
       "      <td>2</td>\n",
       "      <td>C</td>\n",
       "      <td>R</td>\n",
       "    </tr>\n",
       "    <tr>\n",
       "      <th>27</th>\n",
       "      <td>28</td>\n",
       "      <td>T235</td>\n",
       "      <td>190913</td>\n",
       "      <td>2</td>\n",
       "      <td>C</td>\n",
       "      <td>R</td>\n",
       "    </tr>\n",
       "    <tr>\n",
       "      <th>28</th>\n",
       "      <td>29</td>\n",
       "      <td>T256</td>\n",
       "      <td>190903</td>\n",
       "      <td>2</td>\n",
       "      <td>C</td>\n",
       "      <td>R</td>\n",
       "    </tr>\n",
       "    <tr>\n",
       "      <th>29</th>\n",
       "      <td>30</td>\n",
       "      <td>T256</td>\n",
       "      <td>190911</td>\n",
       "      <td>2</td>\n",
       "      <td>C</td>\n",
       "      <td>L</td>\n",
       "    </tr>\n",
       "    <tr>\n",
       "      <th>30</th>\n",
       "      <td>31</td>\n",
       "      <td>T256</td>\n",
       "      <td>190927</td>\n",
       "      <td>2</td>\n",
       "      <td>C</td>\n",
       "      <td>L</td>\n",
       "    </tr>\n",
       "    <tr>\n",
       "      <th>31</th>\n",
       "      <td>32</td>\n",
       "      <td>T256</td>\n",
       "      <td>191001</td>\n",
       "      <td>2</td>\n",
       "      <td>C</td>\n",
       "      <td>R</td>\n",
       "    </tr>\n",
       "  </tbody>\n",
       "</table>\n",
       "</div>"
      ],
      "text/plain": [
       "    Unnamed: 0 Mouse    Date  D TypeOfStim SideOfStim\n",
       "0            1  T114  171124  2          C          R\n",
       "1            2  T114  171126  2          C          R\n",
       "2            3  T114  171129  2          C          L\n",
       "3            4  T114  171201  2          C          L\n",
       "4            5  T114  171203  2          C          L\n",
       "5            6  T114  171205  2          C          L\n",
       "6            7  T114  171211  2          C          R\n",
       "7            8  T115  171124  2          C          L\n",
       "8            9  T115  171126  2          C          L\n",
       "9           10  T115  171129  2          C          L\n",
       "10          11  T115  171201  2          C          L\n",
       "11          12  T115  171203  2          C          L\n",
       "12          13  T115  171205  2          C          L\n",
       "13          14  T115  171207  2          C          L\n",
       "14          15  T115  171211  2          C          L\n",
       "15          16  T174  190225  2          C          R\n",
       "16          17  T174  190227  2          C          R\n",
       "17          18  T174  190303  2          C          L\n",
       "18          19  T174  190305  2          C          L\n",
       "19          20  T229  190903  2          C          R\n",
       "20          21  T229  190906  2          C          R\n",
       "21          22  T229  190927  2          C          L\n",
       "22          23  T229  191001  2          C          L\n",
       "23          24  T235  190829  2          C          R\n",
       "24          25  T235  190903  2          C          R\n",
       "25          26  T235  190906  2          C          R\n",
       "26          27  T235  190911  2          C          R\n",
       "27          28  T235  190913  2          C          R\n",
       "28          29  T256  190903  2          C          R\n",
       "29          30  T256  190911  2          C          L\n",
       "30          31  T256  190927  2          C          L\n",
       "31          32  T256  191001  2          C          R"
      ]
     },
     "execution_count": 8,
     "metadata": {},
     "output_type": "execute_result"
    }
   ],
   "source": [
    "Mouse_Date_FileName"
   ]
  },
  {
   "cell_type": "markdown",
   "metadata": {},
   "source": [
    "# use this if running the notebooks from local github folder"
   ]
  },
  {
   "cell_type": "markdown",
   "metadata": {},
   "source": [
    "### if not - define a path to where the repository is at"
   ]
  },
  {
   "cell_type": "code",
   "execution_count": 9,
   "metadata": {},
   "outputs": [
    {
     "name": "stdout",
     "output_type": "stream",
     "text": [
      "gilmandelbaum\n"
     ]
    }
   ],
   "source": [
    "#add the github path that will run the notebooks: \n",
    "username = getpass.getuser() # gets the username from the current comp \n",
    "print (username)"
   ]
  },
  {
   "cell_type": "code",
   "execution_count": 10,
   "metadata": {},
   "outputs": [],
   "source": [
    "sys.path.append('/Users/{:}/github/analysis-pipeline-for-optogenetics_ex/'.format(username))"
   ]
  },
  {
   "cell_type": "code",
   "execution_count": 11,
   "metadata": {},
   "outputs": [],
   "source": [
    "nb_path = sys.path[-1]"
   ]
  },
  {
   "cell_type": "code",
   "execution_count": 12,
   "metadata": {},
   "outputs": [
    {
     "data": {
      "text/plain": [
       "'/Users/gilmandelbaum/github/analysis-pipeline-for-optogenetics_ex/'"
      ]
     },
     "execution_count": 12,
     "metadata": {},
     "output_type": "execute_result"
    }
   ],
   "source": [
    "nb_path"
   ]
  },
  {
   "cell_type": "markdown",
   "metadata": {},
   "source": [
    "# parameters to change:"
   ]
  },
  {
   "cell_type": "code",
   "execution_count": 13,
   "metadata": {},
   "outputs": [],
   "source": [
    "#analysis parameters for whole data set:  \n",
    "drop2blocks= 'no'\n",
    "drop2lastblocks=\"no\"\n",
    "HowManyBack = 1\n",
    "Trials_filter = 'allTrials' \n",
    "TypeOfStim='Consumption'\n",
    "Tags = ['Reward_NoReward_tag', 'ENL_tag', 'Sel_tag']"
   ]
  },
  {
   "cell_type": "markdown",
   "metadata": {},
   "source": [
    "# parameters to change:"
   ]
  },
  {
   "cell_type": "code",
   "execution_count": 14,
   "metadata": {},
   "outputs": [],
   "source": [
    "#Versions for notebooks to run:\n",
    "#notebook 1 and notebook 4 are built to run more than 1 notebook\n",
    "Nb0='a'\n",
    "Nb1= ['a','e'] \n",
    "Nb2= 'a'\n",
    "#Nb3= 'a'\n",
    "Nb4= ['a','b',\"c\"]\n",
    "Nb5= 'a'\n",
    "Nb6= 'd'"
   ]
  },
  {
   "cell_type": "code",
   "execution_count": 15,
   "metadata": {},
   "outputs": [],
   "source": [
    "#make a list of versions: \n",
    "#List_of_versions =[Nb0,Nb1,Nb2,Nb3,Nb4,Nb5,Nb6]\n",
    "#List_of_versions_str =[\"Nb0\",\"Nb1\",\"Nb2\",\"Nb3\",\"Nb4\",\"Nb5\",\"Nb6\"]\n",
    "#notebook_sequence_list = [0,1,2,3,4,5,6]"
   ]
  },
  {
   "cell_type": "code",
   "execution_count": 16,
   "metadata": {},
   "outputs": [],
   "source": [
    "List_of_versions =[Nb0,Nb1,Nb2,Nb4,Nb5,Nb6]\n",
    "List_of_versions_str =[\"Nb0\",\"Nb1\",\"Nb2\",\"Nb4\",\"Nb5\",\"Nb6\"]\n",
    "notebook_sequence_list = [0,1,2,4,5,6]"
   ]
  },
  {
   "cell_type": "code",
   "execution_count": 17,
   "metadata": {},
   "outputs": [
    {
     "data": {
      "text/plain": [
       "['Nb0_a',\n",
       " 'Nb1_a',\n",
       " 'Nb1_e',\n",
       " 'Nb2_a',\n",
       " 'Nb4_a',\n",
       " 'Nb4_b',\n",
       " 'Nb4_c',\n",
       " 'Nb5_a',\n",
       " 'Nb6_d']"
      ]
     },
     "execution_count": 17,
     "metadata": {},
     "output_type": "execute_result"
    }
   ],
   "source": [
    "nb_list = ophf.make_nb_list(List_of_versions,List_of_versions_str)\n",
    "nb_list"
   ]
  },
  {
   "cell_type": "code",
   "execution_count": 18,
   "metadata": {},
   "outputs": [
    {
     "name": "stdout",
     "output_type": "stream",
     "text": [
      "seq0a1ae2a4abc5a6d will be used\n"
     ]
    }
   ],
   "source": [
    "seq_str = ophf.make_sequence_string(notebook_sequence_list, List_of_versions)"
   ]
  },
  {
   "cell_type": "code",
   "execution_count": 19,
   "metadata": {},
   "outputs": [],
   "source": [
    "#dict_for_pm = dict(data_dir_input=data_dir_input,\n",
    "                   #data_dir_output=data_dir_output,\n",
    "                   #drop2blocks= drop2blocks,\n",
    "                   #drop2lastblocks=drop2blocks,\n",
    "                   #seq_str= seq_str, \n",
    "                   #Tags=Tags, \n",
    "                   #HowManyBack = HowManyBack, \n",
    "                   #Nb0=Nb0, Nb1=Nb1, Nb2=Nb2, Nb3=Nb3, Nb4=Nb4, Nb5=Nb5,Nb6=Nb6,\n",
    "                   #Trials_filter=Trials_filter,\n",
    "                   #TypeOfStim=TypeOfStim)"
   ]
  },
  {
   "cell_type": "markdown",
   "metadata": {},
   "source": [
    "# run the cell below (no need to make any changes)"
   ]
  },
  {
   "cell_type": "code",
   "execution_count": 20,
   "metadata": {},
   "outputs": [],
   "source": [
    "#parameters that were defined above and will carry on for the whole analysis. \n",
    "dict_for_pm = dict(data_dir_input=data_dir_input,\n",
    "                   data_dir_output=data_dir_output,\n",
    "                   drop2blocks= drop2blocks,\n",
    "                   drop2lastblocks=drop2blocks,\n",
    "                   seq_str= seq_str, \n",
    "                   Tags=Tags, \n",
    "                   HowManyBack = HowManyBack, \n",
    "                   Nb0=Nb0, Nb1=Nb1, Nb2=Nb2,Nb4=Nb4, Nb5=Nb5,Nb6=Nb6,\n",
    "                   Trials_filter=Trials_filter,\n",
    "                   TypeOfStim=TypeOfStim)"
   ]
  },
  {
   "cell_type": "code",
   "execution_count": null,
   "metadata": {},
   "outputs": [],
   "source": []
  },
  {
   "cell_type": "code",
   "execution_count": 21,
   "metadata": {
    "scrolled": true
   },
   "outputs": [
    {
     "name": "stdout",
     "output_type": "stream",
     "text": [
      "T114_2017_11_24_Notebook_0_a: This session already exists - no need to re-run ;)\n",
      "T114_2017_11_24_Notebook_1_a: This session already exists - no need to re-run ;)\n",
      "T114_2017_11_24_Notebook_1_e: This session already exists - no need to re-run ;)\n",
      "T114_2017_11_24_Notebook_2_a: This session already exists - no need to re-run ;)\n",
      "T114_2017_11_24_Notebook_4_a: This session already exists - no need to re-run ;)\n",
      "T114_2017_11_24_Notebook_4_b: This session already exists - no need to re-run ;)\n",
      "T114_2017_11_24_Notebook_4_c: This session already exists - no need to re-run ;)\n",
      "T114_2017_11_24_Notebook_5_a_seq0a1ae2a4abc5a: This session already exists - no need to re-run ;)\n",
      "Notebook_6_d.ipynb is being executed\n"
     ]
    },
    {
     "data": {
      "application/vnd.jupyter.widget-view+json": {
       "model_id": "079035ed17bc48fc9d3a64f863de6c38",
       "version_major": 2,
       "version_minor": 0
      },
      "text/plain": [
       "HBox(children=(FloatProgress(value=0.0, description='Executing', max=14.0, style=ProgressStyle(description_wid…"
      ]
     },
     "metadata": {},
     "output_type": "display_data"
    },
    {
     "name": "stdout",
     "output_type": "stream",
     "text": [
      "\n",
      "T114_2017_11_26_Notebook_0_a: This session already exists - no need to re-run ;)\n",
      "T114_2017_11_26_Notebook_1_a: This session already exists - no need to re-run ;)\n",
      "T114_2017_11_26_Notebook_1_e: This session already exists - no need to re-run ;)\n",
      "T114_2017_11_26_Notebook_2_a: This session already exists - no need to re-run ;)\n",
      "T114_2017_11_26_Notebook_4_a: This session already exists - no need to re-run ;)\n",
      "T114_2017_11_26_Notebook_4_b: This session already exists - no need to re-run ;)\n",
      "T114_2017_11_26_Notebook_4_c: This session already exists - no need to re-run ;)\n",
      "T114_2017_11_26_Notebook_5_a_seq0a1ae2a4abc5a: This session already exists - no need to re-run ;)\n",
      "Notebook_6_d.ipynb is being executed\n"
     ]
    },
    {
     "data": {
      "application/vnd.jupyter.widget-view+json": {
       "model_id": "737e3ad9692b4dc394a803c8333befe1",
       "version_major": 2,
       "version_minor": 0
      },
      "text/plain": [
       "HBox(children=(FloatProgress(value=0.0, description='Executing', max=14.0, style=ProgressStyle(description_wid…"
      ]
     },
     "metadata": {},
     "output_type": "display_data"
    },
    {
     "name": "stdout",
     "output_type": "stream",
     "text": [
      "\n",
      "T114_2017_11_29_Notebook_0_a: This session already exists - no need to re-run ;)\n",
      "T114_2017_11_29_Notebook_1_a: This session already exists - no need to re-run ;)\n",
      "T114_2017_11_29_Notebook_1_e: This session already exists - no need to re-run ;)\n",
      "T114_2017_11_29_Notebook_2_a: This session already exists - no need to re-run ;)\n",
      "T114_2017_11_29_Notebook_4_a: This session already exists - no need to re-run ;)\n",
      "T114_2017_11_29_Notebook_4_b: This session already exists - no need to re-run ;)\n",
      "T114_2017_11_29_Notebook_4_c: This session already exists - no need to re-run ;)\n",
      "T114_2017_11_29_Notebook_5_a_seq0a1ae2a4abc5a: This session already exists - no need to re-run ;)\n",
      "Notebook_6_d.ipynb is being executed\n"
     ]
    },
    {
     "data": {
      "application/vnd.jupyter.widget-view+json": {
       "model_id": "8cde307a868843fca100922bdb9d25b4",
       "version_major": 2,
       "version_minor": 0
      },
      "text/plain": [
       "HBox(children=(FloatProgress(value=0.0, description='Executing', max=14.0, style=ProgressStyle(description_wid…"
      ]
     },
     "metadata": {},
     "output_type": "display_data"
    },
    {
     "name": "stdout",
     "output_type": "stream",
     "text": [
      "\n",
      "T114_2017_12_01_Notebook_0_a: This session already exists - no need to re-run ;)\n",
      "T114_2017_12_01_Notebook_1_a: This session already exists - no need to re-run ;)\n",
      "T114_2017_12_01_Notebook_1_e: This session already exists - no need to re-run ;)\n",
      "T114_2017_12_01_Notebook_2_a: This session already exists - no need to re-run ;)\n",
      "T114_2017_12_01_Notebook_4_a: This session already exists - no need to re-run ;)\n",
      "T114_2017_12_01_Notebook_4_b: This session already exists - no need to re-run ;)\n",
      "T114_2017_12_01_Notebook_4_c: This session already exists - no need to re-run ;)\n",
      "T114_2017_12_01_Notebook_5_a_seq0a1ae2a4abc5a: This session already exists - no need to re-run ;)\n",
      "Notebook_6_d.ipynb is being executed\n"
     ]
    },
    {
     "data": {
      "application/vnd.jupyter.widget-view+json": {
       "model_id": "ca7f77971b1d4535899126e22f34c766",
       "version_major": 2,
       "version_minor": 0
      },
      "text/plain": [
       "HBox(children=(FloatProgress(value=0.0, description='Executing', max=14.0, style=ProgressStyle(description_wid…"
      ]
     },
     "metadata": {},
     "output_type": "display_data"
    },
    {
     "name": "stdout",
     "output_type": "stream",
     "text": [
      "\n",
      "T114_2017_12_03_Notebook_0_a: This session already exists - no need to re-run ;)\n",
      "T114_2017_12_03_Notebook_1_a: This session already exists - no need to re-run ;)\n",
      "T114_2017_12_03_Notebook_1_e: This session already exists - no need to re-run ;)\n",
      "T114_2017_12_03_Notebook_2_a: This session already exists - no need to re-run ;)\n",
      "T114_2017_12_03_Notebook_4_a: This session already exists - no need to re-run ;)\n",
      "T114_2017_12_03_Notebook_4_b: This session already exists - no need to re-run ;)\n",
      "T114_2017_12_03_Notebook_4_c: This session already exists - no need to re-run ;)\n",
      "T114_2017_12_03_Notebook_5_a_seq0a1ae2a4abc5a: This session already exists - no need to re-run ;)\n",
      "Notebook_6_d.ipynb is being executed\n"
     ]
    },
    {
     "data": {
      "application/vnd.jupyter.widget-view+json": {
       "model_id": "44a8b76d9d5d460eba295fb8fca31a94",
       "version_major": 2,
       "version_minor": 0
      },
      "text/plain": [
       "HBox(children=(FloatProgress(value=0.0, description='Executing', max=14.0, style=ProgressStyle(description_wid…"
      ]
     },
     "metadata": {},
     "output_type": "display_data"
    },
    {
     "name": "stdout",
     "output_type": "stream",
     "text": [
      "\n",
      "T114_2017_12_05_Notebook_0_a: This session already exists - no need to re-run ;)\n",
      "T114_2017_12_05_Notebook_1_a: This session already exists - no need to re-run ;)\n",
      "T114_2017_12_05_Notebook_1_e: This session already exists - no need to re-run ;)\n",
      "T114_2017_12_05_Notebook_2_a: This session already exists - no need to re-run ;)\n",
      "T114_2017_12_05_Notebook_4_a: This session already exists - no need to re-run ;)\n",
      "T114_2017_12_05_Notebook_4_b: This session already exists - no need to re-run ;)\n",
      "T114_2017_12_05_Notebook_4_c: This session already exists - no need to re-run ;)\n",
      "T114_2017_12_05_Notebook_5_a_seq0a1ae2a4abc5a: This session already exists - no need to re-run ;)\n",
      "Notebook_6_d.ipynb is being executed\n"
     ]
    },
    {
     "data": {
      "application/vnd.jupyter.widget-view+json": {
       "model_id": "bff366c9e1424b98a70f538af7abf1f8",
       "version_major": 2,
       "version_minor": 0
      },
      "text/plain": [
       "HBox(children=(FloatProgress(value=0.0, description='Executing', max=14.0, style=ProgressStyle(description_wid…"
      ]
     },
     "metadata": {},
     "output_type": "display_data"
    },
    {
     "name": "stdout",
     "output_type": "stream",
     "text": [
      "\n",
      "T114_2017_12_11_Notebook_0_a: This session already exists - no need to re-run ;)\n",
      "T114_2017_12_11_Notebook_1_a: This session already exists - no need to re-run ;)\n",
      "T114_2017_12_11_Notebook_1_e: This session already exists - no need to re-run ;)\n",
      "T114_2017_12_11_Notebook_2_a: This session already exists - no need to re-run ;)\n",
      "T114_2017_12_11_Notebook_4_a: This session already exists - no need to re-run ;)\n",
      "T114_2017_12_11_Notebook_4_b: This session already exists - no need to re-run ;)\n",
      "T114_2017_12_11_Notebook_4_c: This session already exists - no need to re-run ;)\n",
      "T114_2017_12_11_Notebook_5_a_seq0a1ae2a4abc5a: This session already exists - no need to re-run ;)\n",
      "Notebook_6_d.ipynb is being executed\n"
     ]
    },
    {
     "data": {
      "application/vnd.jupyter.widget-view+json": {
       "model_id": "e3bc16f65f7546b98274fcbdfa746d4d",
       "version_major": 2,
       "version_minor": 0
      },
      "text/plain": [
       "HBox(children=(FloatProgress(value=0.0, description='Executing', max=14.0, style=ProgressStyle(description_wid…"
      ]
     },
     "metadata": {},
     "output_type": "display_data"
    },
    {
     "name": "stdout",
     "output_type": "stream",
     "text": [
      "\n",
      "T115_2017_11_24_Notebook_0_a: This session already exists - no need to re-run ;)\n",
      "T115_2017_11_24_Notebook_1_a: This session already exists - no need to re-run ;)\n",
      "T115_2017_11_24_Notebook_1_e: This session already exists - no need to re-run ;)\n",
      "T115_2017_11_24_Notebook_2_a: This session already exists - no need to re-run ;)\n",
      "T115_2017_11_24_Notebook_4_a: This session already exists - no need to re-run ;)\n",
      "T115_2017_11_24_Notebook_4_b: This session already exists - no need to re-run ;)\n",
      "T115_2017_11_24_Notebook_4_c: This session already exists - no need to re-run ;)\n",
      "T115_2017_11_24_Notebook_5_a_seq0a1ae2a4abc5a: This session already exists - no need to re-run ;)\n",
      "Notebook_6_d.ipynb is being executed\n"
     ]
    },
    {
     "data": {
      "application/vnd.jupyter.widget-view+json": {
       "model_id": "40644b53e8b34764b4cbff3f55712305",
       "version_major": 2,
       "version_minor": 0
      },
      "text/plain": [
       "HBox(children=(FloatProgress(value=0.0, description='Executing', max=14.0, style=ProgressStyle(description_wid…"
      ]
     },
     "metadata": {},
     "output_type": "display_data"
    },
    {
     "name": "stdout",
     "output_type": "stream",
     "text": [
      "\n",
      "T115_2017_11_26_Notebook_0_a: This session already exists - no need to re-run ;)\n",
      "T115_2017_11_26_Notebook_1_a: This session already exists - no need to re-run ;)\n",
      "T115_2017_11_26_Notebook_1_e: This session already exists - no need to re-run ;)\n",
      "T115_2017_11_26_Notebook_2_a: This session already exists - no need to re-run ;)\n",
      "T115_2017_11_26_Notebook_4_a: This session already exists - no need to re-run ;)\n",
      "T115_2017_11_26_Notebook_4_b: This session already exists - no need to re-run ;)\n",
      "T115_2017_11_26_Notebook_4_c: This session already exists - no need to re-run ;)\n",
      "T115_2017_11_26_Notebook_5_a_seq0a1ae2a4abc5a: This session already exists - no need to re-run ;)\n",
      "Notebook_6_d.ipynb is being executed\n"
     ]
    },
    {
     "data": {
      "application/vnd.jupyter.widget-view+json": {
       "model_id": "ed80216eb8d3478096d2a00bcfaeed6c",
       "version_major": 2,
       "version_minor": 0
      },
      "text/plain": [
       "HBox(children=(FloatProgress(value=0.0, description='Executing', max=14.0, style=ProgressStyle(description_wid…"
      ]
     },
     "metadata": {},
     "output_type": "display_data"
    },
    {
     "name": "stdout",
     "output_type": "stream",
     "text": [
      "\n",
      "T115_2017_11_29_Notebook_0_a: This session already exists - no need to re-run ;)\n",
      "T115_2017_11_29_Notebook_1_a: This session already exists - no need to re-run ;)\n",
      "T115_2017_11_29_Notebook_1_e: This session already exists - no need to re-run ;)\n",
      "T115_2017_11_29_Notebook_2_a: This session already exists - no need to re-run ;)\n",
      "T115_2017_11_29_Notebook_4_a: This session already exists - no need to re-run ;)\n",
      "T115_2017_11_29_Notebook_4_b: This session already exists - no need to re-run ;)\n",
      "T115_2017_11_29_Notebook_4_c: This session already exists - no need to re-run ;)\n",
      "T115_2017_11_29_Notebook_5_a_seq0a1ae2a4abc5a: This session already exists - no need to re-run ;)\n",
      "Notebook_6_d.ipynb is being executed\n"
     ]
    },
    {
     "data": {
      "application/vnd.jupyter.widget-view+json": {
       "model_id": "9901c211786142de8d060bd756ebadd8",
       "version_major": 2,
       "version_minor": 0
      },
      "text/plain": [
       "HBox(children=(FloatProgress(value=0.0, description='Executing', max=14.0, style=ProgressStyle(description_wid…"
      ]
     },
     "metadata": {},
     "output_type": "display_data"
    },
    {
     "name": "stdout",
     "output_type": "stream",
     "text": [
      "\n",
      "T115_2017_12_01_Notebook_0_a: This session already exists - no need to re-run ;)\n",
      "T115_2017_12_01_Notebook_1_a: This session already exists - no need to re-run ;)\n",
      "T115_2017_12_01_Notebook_1_e: This session already exists - no need to re-run ;)\n",
      "T115_2017_12_01_Notebook_2_a: This session already exists - no need to re-run ;)\n",
      "T115_2017_12_01_Notebook_4_a: This session already exists - no need to re-run ;)\n",
      "T115_2017_12_01_Notebook_4_b: This session already exists - no need to re-run ;)\n",
      "T115_2017_12_01_Notebook_4_c: This session already exists - no need to re-run ;)\n",
      "T115_2017_12_01_Notebook_5_a_seq0a1ae2a4abc5a: This session already exists - no need to re-run ;)\n",
      "Notebook_6_d.ipynb is being executed\n"
     ]
    },
    {
     "data": {
      "application/vnd.jupyter.widget-view+json": {
       "model_id": "1ac1b7d922174d60ace6c0b6c90cf6da",
       "version_major": 2,
       "version_minor": 0
      },
      "text/plain": [
       "HBox(children=(FloatProgress(value=0.0, description='Executing', max=14.0, style=ProgressStyle(description_wid…"
      ]
     },
     "metadata": {},
     "output_type": "display_data"
    },
    {
     "name": "stdout",
     "output_type": "stream",
     "text": [
      "\n",
      "T115_2017_12_03_Notebook_0_a: This session already exists - no need to re-run ;)\n",
      "T115_2017_12_03_Notebook_1_a: This session already exists - no need to re-run ;)\n",
      "T115_2017_12_03_Notebook_1_e: This session already exists - no need to re-run ;)\n",
      "T115_2017_12_03_Notebook_2_a: This session already exists - no need to re-run ;)\n",
      "T115_2017_12_03_Notebook_4_a: This session already exists - no need to re-run ;)\n",
      "T115_2017_12_03_Notebook_4_b: This session already exists - no need to re-run ;)\n",
      "T115_2017_12_03_Notebook_4_c: This session already exists - no need to re-run ;)\n",
      "T115_2017_12_03_Notebook_5_a_seq0a1ae2a4abc5a: This session already exists - no need to re-run ;)\n",
      "Notebook_6_d.ipynb is being executed\n"
     ]
    },
    {
     "data": {
      "application/vnd.jupyter.widget-view+json": {
       "model_id": "95bda68d31b14b26a071c4147ab0311e",
       "version_major": 2,
       "version_minor": 0
      },
      "text/plain": [
       "HBox(children=(FloatProgress(value=0.0, description='Executing', max=14.0, style=ProgressStyle(description_wid…"
      ]
     },
     "metadata": {},
     "output_type": "display_data"
    },
    {
     "name": "stdout",
     "output_type": "stream",
     "text": [
      "\n",
      "T115_2017_12_05_Notebook_0_a: This session already exists - no need to re-run ;)\n",
      "T115_2017_12_05_Notebook_1_a: This session already exists - no need to re-run ;)\n",
      "T115_2017_12_05_Notebook_1_e: This session already exists - no need to re-run ;)\n",
      "T115_2017_12_05_Notebook_2_a: This session already exists - no need to re-run ;)\n",
      "T115_2017_12_05_Notebook_4_a: This session already exists - no need to re-run ;)\n",
      "T115_2017_12_05_Notebook_4_b: This session already exists - no need to re-run ;)\n",
      "T115_2017_12_05_Notebook_4_c: This session already exists - no need to re-run ;)\n",
      "T115_2017_12_05_Notebook_5_a_seq0a1ae2a4abc5a: This session already exists - no need to re-run ;)\n",
      "Notebook_6_d.ipynb is being executed\n"
     ]
    },
    {
     "data": {
      "application/vnd.jupyter.widget-view+json": {
       "model_id": "1245ff8358f3471d8e0513090dc65c24",
       "version_major": 2,
       "version_minor": 0
      },
      "text/plain": [
       "HBox(children=(FloatProgress(value=0.0, description='Executing', max=14.0, style=ProgressStyle(description_wid…"
      ]
     },
     "metadata": {},
     "output_type": "display_data"
    },
    {
     "name": "stdout",
     "output_type": "stream",
     "text": [
      "\n",
      "T115_2017_12_07_Notebook_0_a: This session already exists - no need to re-run ;)\n",
      "T115_2017_12_07_Notebook_1_a: This session already exists - no need to re-run ;)\n",
      "T115_2017_12_07_Notebook_1_e: This session already exists - no need to re-run ;)\n",
      "T115_2017_12_07_Notebook_2_a: This session already exists - no need to re-run ;)\n",
      "T115_2017_12_07_Notebook_4_a: This session already exists - no need to re-run ;)\n",
      "T115_2017_12_07_Notebook_4_b: This session already exists - no need to re-run ;)\n",
      "T115_2017_12_07_Notebook_4_c: This session already exists - no need to re-run ;)\n",
      "T115_2017_12_07_Notebook_5_a_seq0a1ae2a4abc5a: This session already exists - no need to re-run ;)\n",
      "Notebook_6_d.ipynb is being executed\n"
     ]
    },
    {
     "data": {
      "application/vnd.jupyter.widget-view+json": {
       "model_id": "d7c85a071d1a42d3b8382ac7351c6186",
       "version_major": 2,
       "version_minor": 0
      },
      "text/plain": [
       "HBox(children=(FloatProgress(value=0.0, description='Executing', max=14.0, style=ProgressStyle(description_wid…"
      ]
     },
     "metadata": {},
     "output_type": "display_data"
    },
    {
     "name": "stdout",
     "output_type": "stream",
     "text": [
      "\n",
      "T115_2017_12_11_Notebook_0_a: This session already exists - no need to re-run ;)\n",
      "T115_2017_12_11_Notebook_1_a: This session already exists - no need to re-run ;)\n",
      "T115_2017_12_11_Notebook_1_e: This session already exists - no need to re-run ;)\n",
      "T115_2017_12_11_Notebook_2_a: This session already exists - no need to re-run ;)\n",
      "T115_2017_12_11_Notebook_4_a: This session already exists - no need to re-run ;)\n",
      "T115_2017_12_11_Notebook_4_b: This session already exists - no need to re-run ;)\n",
      "T115_2017_12_11_Notebook_4_c: This session already exists - no need to re-run ;)\n",
      "T115_2017_12_11_Notebook_5_a_seq0a1ae2a4abc5a: This session already exists - no need to re-run ;)\n",
      "Notebook_6_d.ipynb is being executed\n"
     ]
    },
    {
     "data": {
      "application/vnd.jupyter.widget-view+json": {
       "model_id": "a13219f060f64206965e89d6a7df7e6d",
       "version_major": 2,
       "version_minor": 0
      },
      "text/plain": [
       "HBox(children=(FloatProgress(value=0.0, description='Executing', max=14.0, style=ProgressStyle(description_wid…"
      ]
     },
     "metadata": {},
     "output_type": "display_data"
    },
    {
     "name": "stdout",
     "output_type": "stream",
     "text": [
      "\n",
      "T174_2019_02_25_Notebook_0_a: This session already exists - no need to re-run ;)\n",
      "T174_2019_02_25_Notebook_1_a: This session already exists - no need to re-run ;)\n",
      "T174_2019_02_25_Notebook_1_e: This session already exists - no need to re-run ;)\n",
      "T174_2019_02_25_Notebook_2_a: This session already exists - no need to re-run ;)\n",
      "T174_2019_02_25_Notebook_4_a: This session already exists - no need to re-run ;)\n",
      "T174_2019_02_25_Notebook_4_b: This session already exists - no need to re-run ;)\n",
      "T174_2019_02_25_Notebook_4_c: This session already exists - no need to re-run ;)\n",
      "T174_2019_02_25_Notebook_5_a_seq0a1ae2a4abc5a: This session already exists - no need to re-run ;)\n",
      "Notebook_6_d.ipynb is being executed\n"
     ]
    },
    {
     "data": {
      "application/vnd.jupyter.widget-view+json": {
       "model_id": "d152b845544b45bc952e0995faef09b3",
       "version_major": 2,
       "version_minor": 0
      },
      "text/plain": [
       "HBox(children=(FloatProgress(value=0.0, description='Executing', max=14.0, style=ProgressStyle(description_wid…"
      ]
     },
     "metadata": {},
     "output_type": "display_data"
    },
    {
     "name": "stdout",
     "output_type": "stream",
     "text": [
      "\n",
      "T174_2019_02_27_Notebook_0_a: This session already exists - no need to re-run ;)\n",
      "T174_2019_02_27_Notebook_1_a: This session already exists - no need to re-run ;)\n",
      "T174_2019_02_27_Notebook_1_e: This session already exists - no need to re-run ;)\n",
      "T174_2019_02_27_Notebook_2_a: This session already exists - no need to re-run ;)\n",
      "T174_2019_02_27_Notebook_4_a: This session already exists - no need to re-run ;)\n",
      "T174_2019_02_27_Notebook_4_b: This session already exists - no need to re-run ;)\n",
      "T174_2019_02_27_Notebook_4_c: This session already exists - no need to re-run ;)\n",
      "T174_2019_02_27_Notebook_5_a_seq0a1ae2a4abc5a: This session already exists - no need to re-run ;)\n",
      "Notebook_6_d.ipynb is being executed\n"
     ]
    },
    {
     "data": {
      "application/vnd.jupyter.widget-view+json": {
       "model_id": "617c4e36ea904c1683b7fdc7113161b6",
       "version_major": 2,
       "version_minor": 0
      },
      "text/plain": [
       "HBox(children=(FloatProgress(value=0.0, description='Executing', max=14.0, style=ProgressStyle(description_wid…"
      ]
     },
     "metadata": {},
     "output_type": "display_data"
    },
    {
     "name": "stdout",
     "output_type": "stream",
     "text": [
      "\n",
      "T174_2019_03_03_Notebook_0_a: This session already exists - no need to re-run ;)\n",
      "T174_2019_03_03_Notebook_1_a: This session already exists - no need to re-run ;)\n",
      "T174_2019_03_03_Notebook_1_e: This session already exists - no need to re-run ;)\n",
      "T174_2019_03_03_Notebook_2_a: This session already exists - no need to re-run ;)\n",
      "T174_2019_03_03_Notebook_4_a: This session already exists - no need to re-run ;)\n",
      "T174_2019_03_03_Notebook_4_b: This session already exists - no need to re-run ;)\n",
      "T174_2019_03_03_Notebook_4_c: This session already exists - no need to re-run ;)\n",
      "T174_2019_03_03_Notebook_5_a_seq0a1ae2a4abc5a: This session already exists - no need to re-run ;)\n",
      "Notebook_6_d.ipynb is being executed\n"
     ]
    },
    {
     "data": {
      "application/vnd.jupyter.widget-view+json": {
       "model_id": "84d513bf82134fabb9f2826957a5bf5e",
       "version_major": 2,
       "version_minor": 0
      },
      "text/plain": [
       "HBox(children=(FloatProgress(value=0.0, description='Executing', max=14.0, style=ProgressStyle(description_wid…"
      ]
     },
     "metadata": {},
     "output_type": "display_data"
    },
    {
     "name": "stdout",
     "output_type": "stream",
     "text": [
      "\n",
      "T174_2019_03_05_Notebook_0_a: This session already exists - no need to re-run ;)\n",
      "T174_2019_03_05_Notebook_1_a: This session already exists - no need to re-run ;)\n",
      "T174_2019_03_05_Notebook_1_e: This session already exists - no need to re-run ;)\n",
      "T174_2019_03_05_Notebook_2_a: This session already exists - no need to re-run ;)\n",
      "T174_2019_03_05_Notebook_4_a: This session already exists - no need to re-run ;)\n",
      "T174_2019_03_05_Notebook_4_b: This session already exists - no need to re-run ;)\n",
      "T174_2019_03_05_Notebook_4_c: This session already exists - no need to re-run ;)\n",
      "T174_2019_03_05_Notebook_5_a_seq0a1ae2a4abc5a: This session already exists - no need to re-run ;)\n",
      "Notebook_6_d.ipynb is being executed\n"
     ]
    },
    {
     "data": {
      "application/vnd.jupyter.widget-view+json": {
       "model_id": "a59e9db2d8c2454084d22b67a504a974",
       "version_major": 2,
       "version_minor": 0
      },
      "text/plain": [
       "HBox(children=(FloatProgress(value=0.0, description='Executing', max=14.0, style=ProgressStyle(description_wid…"
      ]
     },
     "metadata": {},
     "output_type": "display_data"
    },
    {
     "name": "stdout",
     "output_type": "stream",
     "text": [
      "\n",
      "T229_2019_09_03_Notebook_0_a: This session already exists - no need to re-run ;)\n",
      "T229_2019_09_03_Notebook_1_a: This session already exists - no need to re-run ;)\n",
      "T229_2019_09_03_Notebook_1_e: This session already exists - no need to re-run ;)\n",
      "T229_2019_09_03_Notebook_2_a: This session already exists - no need to re-run ;)\n",
      "T229_2019_09_03_Notebook_4_a: This session already exists - no need to re-run ;)\n",
      "T229_2019_09_03_Notebook_4_b: This session already exists - no need to re-run ;)\n",
      "T229_2019_09_03_Notebook_4_c: This session already exists - no need to re-run ;)\n",
      "T229_2019_09_03_Notebook_5_a_seq0a1ae2a4abc5a: This session already exists - no need to re-run ;)\n",
      "Notebook_6_d.ipynb is being executed\n"
     ]
    },
    {
     "data": {
      "application/vnd.jupyter.widget-view+json": {
       "model_id": "72b97fed8d2047f49103dbd740063018",
       "version_major": 2,
       "version_minor": 0
      },
      "text/plain": [
       "HBox(children=(FloatProgress(value=0.0, description='Executing', max=14.0, style=ProgressStyle(description_wid…"
      ]
     },
     "metadata": {},
     "output_type": "display_data"
    },
    {
     "name": "stdout",
     "output_type": "stream",
     "text": [
      "\n",
      "T229_2019_09_06_Notebook_0_a: This session already exists - no need to re-run ;)\n",
      "T229_2019_09_06_Notebook_1_a: This session already exists - no need to re-run ;)\n",
      "T229_2019_09_06_Notebook_1_e: This session already exists - no need to re-run ;)\n",
      "T229_2019_09_06_Notebook_2_a: This session already exists - no need to re-run ;)\n",
      "T229_2019_09_06_Notebook_4_a: This session already exists - no need to re-run ;)\n",
      "T229_2019_09_06_Notebook_4_b: This session already exists - no need to re-run ;)\n",
      "T229_2019_09_06_Notebook_4_c: This session already exists - no need to re-run ;)\n",
      "T229_2019_09_06_Notebook_5_a_seq0a1ae2a4abc5a: This session already exists - no need to re-run ;)\n",
      "Notebook_6_d.ipynb is being executed\n"
     ]
    },
    {
     "data": {
      "application/vnd.jupyter.widget-view+json": {
       "model_id": "0acc3926cc9e431eb81ae44f316b0dd6",
       "version_major": 2,
       "version_minor": 0
      },
      "text/plain": [
       "HBox(children=(FloatProgress(value=0.0, description='Executing', max=14.0, style=ProgressStyle(description_wid…"
      ]
     },
     "metadata": {},
     "output_type": "display_data"
    },
    {
     "name": "stdout",
     "output_type": "stream",
     "text": [
      "\n",
      "T229_2019_09_27_Notebook_0_a: This session already exists - no need to re-run ;)\n",
      "T229_2019_09_27_Notebook_1_a: This session already exists - no need to re-run ;)\n",
      "T229_2019_09_27_Notebook_1_e: This session already exists - no need to re-run ;)\n",
      "T229_2019_09_27_Notebook_2_a: This session already exists - no need to re-run ;)\n",
      "T229_2019_09_27_Notebook_4_a: This session already exists - no need to re-run ;)\n",
      "T229_2019_09_27_Notebook_4_b: This session already exists - no need to re-run ;)\n",
      "T229_2019_09_27_Notebook_4_c: This session already exists - no need to re-run ;)\n",
      "T229_2019_09_27_Notebook_5_a_seq0a1ae2a4abc5a: This session already exists - no need to re-run ;)\n",
      "Notebook_6_d.ipynb is being executed\n"
     ]
    },
    {
     "data": {
      "application/vnd.jupyter.widget-view+json": {
       "model_id": "98f4e1655d9147ad9e71057958588c3f",
       "version_major": 2,
       "version_minor": 0
      },
      "text/plain": [
       "HBox(children=(FloatProgress(value=0.0, description='Executing', max=14.0, style=ProgressStyle(description_wid…"
      ]
     },
     "metadata": {},
     "output_type": "display_data"
    },
    {
     "name": "stdout",
     "output_type": "stream",
     "text": [
      "\n",
      "T229_2019_10_01_Notebook_0_a: This session already exists - no need to re-run ;)\n",
      "T229_2019_10_01_Notebook_1_a: This session already exists - no need to re-run ;)\n",
      "T229_2019_10_01_Notebook_1_e: This session already exists - no need to re-run ;)\n",
      "T229_2019_10_01_Notebook_2_a: This session already exists - no need to re-run ;)\n",
      "T229_2019_10_01_Notebook_4_a: This session already exists - no need to re-run ;)\n",
      "T229_2019_10_01_Notebook_4_b: This session already exists - no need to re-run ;)\n",
      "T229_2019_10_01_Notebook_4_c: This session already exists - no need to re-run ;)\n",
      "T229_2019_10_01_Notebook_5_a_seq0a1ae2a4abc5a: This session already exists - no need to re-run ;)\n",
      "Notebook_6_d.ipynb is being executed\n"
     ]
    },
    {
     "data": {
      "application/vnd.jupyter.widget-view+json": {
       "model_id": "289a82fc0050487ca631faf309d1d81a",
       "version_major": 2,
       "version_minor": 0
      },
      "text/plain": [
       "HBox(children=(FloatProgress(value=0.0, description='Executing', max=14.0, style=ProgressStyle(description_wid…"
      ]
     },
     "metadata": {},
     "output_type": "display_data"
    },
    {
     "name": "stdout",
     "output_type": "stream",
     "text": [
      "\n",
      "T235_2019_08_29_Notebook_0_a: This session already exists - no need to re-run ;)\n",
      "T235_2019_08_29_Notebook_1_a: This session already exists - no need to re-run ;)\n",
      "T235_2019_08_29_Notebook_1_e: This session already exists - no need to re-run ;)\n",
      "T235_2019_08_29_Notebook_2_a: This session already exists - no need to re-run ;)\n",
      "T235_2019_08_29_Notebook_4_a: This session already exists - no need to re-run ;)\n",
      "T235_2019_08_29_Notebook_4_b: This session already exists - no need to re-run ;)\n",
      "T235_2019_08_29_Notebook_4_c: This session already exists - no need to re-run ;)\n",
      "T235_2019_08_29_Notebook_5_a_seq0a1ae2a4abc5a: This session already exists - no need to re-run ;)\n",
      "Notebook_6_d.ipynb is being executed\n"
     ]
    },
    {
     "data": {
      "application/vnd.jupyter.widget-view+json": {
       "model_id": "6d9fdef8b41d42ce93e76d065fbaa544",
       "version_major": 2,
       "version_minor": 0
      },
      "text/plain": [
       "HBox(children=(FloatProgress(value=0.0, description='Executing', max=14.0, style=ProgressStyle(description_wid…"
      ]
     },
     "metadata": {},
     "output_type": "display_data"
    },
    {
     "name": "stdout",
     "output_type": "stream",
     "text": [
      "\n",
      "T235_2019_09_03_Notebook_0_a: This session already exists - no need to re-run ;)\n",
      "T235_2019_09_03_Notebook_1_a: This session already exists - no need to re-run ;)\n",
      "T235_2019_09_03_Notebook_1_e: This session already exists - no need to re-run ;)\n",
      "T235_2019_09_03_Notebook_2_a: This session already exists - no need to re-run ;)\n",
      "T235_2019_09_03_Notebook_4_a: This session already exists - no need to re-run ;)\n",
      "T235_2019_09_03_Notebook_4_b: This session already exists - no need to re-run ;)\n",
      "T235_2019_09_03_Notebook_4_c: This session already exists - no need to re-run ;)\n",
      "T235_2019_09_03_Notebook_5_a_seq0a1ae2a4abc5a: This session already exists - no need to re-run ;)\n",
      "Notebook_6_d.ipynb is being executed\n"
     ]
    },
    {
     "data": {
      "application/vnd.jupyter.widget-view+json": {
       "model_id": "1015badcfa7e4e8cb088c4d539fce6b0",
       "version_major": 2,
       "version_minor": 0
      },
      "text/plain": [
       "HBox(children=(FloatProgress(value=0.0, description='Executing', max=14.0, style=ProgressStyle(description_wid…"
      ]
     },
     "metadata": {},
     "output_type": "display_data"
    },
    {
     "name": "stdout",
     "output_type": "stream",
     "text": [
      "\n",
      "T235_2019_09_06_Notebook_0_a: This session already exists - no need to re-run ;)\n",
      "T235_2019_09_06_Notebook_1_a: This session already exists - no need to re-run ;)\n",
      "T235_2019_09_06_Notebook_1_e: This session already exists - no need to re-run ;)\n",
      "T235_2019_09_06_Notebook_2_a: This session already exists - no need to re-run ;)\n",
      "T235_2019_09_06_Notebook_4_a: This session already exists - no need to re-run ;)\n",
      "T235_2019_09_06_Notebook_4_b: This session already exists - no need to re-run ;)\n",
      "T235_2019_09_06_Notebook_4_c: This session already exists - no need to re-run ;)\n",
      "T235_2019_09_06_Notebook_5_a_seq0a1ae2a4abc5a: This session already exists - no need to re-run ;)\n",
      "Notebook_6_d.ipynb is being executed\n"
     ]
    },
    {
     "data": {
      "application/vnd.jupyter.widget-view+json": {
       "model_id": "049ac087e95f4a729951c453fd595973",
       "version_major": 2,
       "version_minor": 0
      },
      "text/plain": [
       "HBox(children=(FloatProgress(value=0.0, description='Executing', max=14.0, style=ProgressStyle(description_wid…"
      ]
     },
     "metadata": {},
     "output_type": "display_data"
    },
    {
     "name": "stdout",
     "output_type": "stream",
     "text": [
      "\n",
      "T235_2019_09_11_Notebook_0_a: This session already exists - no need to re-run ;)\n",
      "T235_2019_09_11_Notebook_1_a: This session already exists - no need to re-run ;)\n",
      "T235_2019_09_11_Notebook_1_e: This session already exists - no need to re-run ;)\n",
      "T235_2019_09_11_Notebook_2_a: This session already exists - no need to re-run ;)\n",
      "T235_2019_09_11_Notebook_4_a: This session already exists - no need to re-run ;)\n",
      "T235_2019_09_11_Notebook_4_b: This session already exists - no need to re-run ;)\n",
      "T235_2019_09_11_Notebook_4_c: This session already exists - no need to re-run ;)\n",
      "T235_2019_09_11_Notebook_5_a_seq0a1ae2a4abc5a: This session already exists - no need to re-run ;)\n",
      "Notebook_6_d.ipynb is being executed\n"
     ]
    },
    {
     "data": {
      "application/vnd.jupyter.widget-view+json": {
       "model_id": "ddda72ff0b8c4b429bc25e1ec166e535",
       "version_major": 2,
       "version_minor": 0
      },
      "text/plain": [
       "HBox(children=(FloatProgress(value=0.0, description='Executing', max=14.0, style=ProgressStyle(description_wid…"
      ]
     },
     "metadata": {},
     "output_type": "display_data"
    },
    {
     "name": "stdout",
     "output_type": "stream",
     "text": [
      "\n",
      "T235_2019_09_13_Notebook_0_a: This session already exists - no need to re-run ;)\n",
      "T235_2019_09_13_Notebook_1_a: This session already exists - no need to re-run ;)\n",
      "T235_2019_09_13_Notebook_1_e: This session already exists - no need to re-run ;)\n",
      "T235_2019_09_13_Notebook_2_a: This session already exists - no need to re-run ;)\n",
      "T235_2019_09_13_Notebook_4_a: This session already exists - no need to re-run ;)\n",
      "T235_2019_09_13_Notebook_4_b: This session already exists - no need to re-run ;)\n",
      "T235_2019_09_13_Notebook_4_c: This session already exists - no need to re-run ;)\n",
      "T235_2019_09_13_Notebook_5_a_seq0a1ae2a4abc5a: This session already exists - no need to re-run ;)\n",
      "Notebook_6_d.ipynb is being executed\n"
     ]
    },
    {
     "data": {
      "application/vnd.jupyter.widget-view+json": {
       "model_id": "16d274c14afe411a961cb72ee6043ce3",
       "version_major": 2,
       "version_minor": 0
      },
      "text/plain": [
       "HBox(children=(FloatProgress(value=0.0, description='Executing', max=14.0, style=ProgressStyle(description_wid…"
      ]
     },
     "metadata": {},
     "output_type": "display_data"
    },
    {
     "name": "stdout",
     "output_type": "stream",
     "text": [
      "\n",
      "T256_2019_09_03_Notebook_0_a: This session already exists - no need to re-run ;)\n",
      "T256_2019_09_03_Notebook_1_a: This session already exists - no need to re-run ;)\n",
      "T256_2019_09_03_Notebook_1_e: This session already exists - no need to re-run ;)\n",
      "T256_2019_09_03_Notebook_2_a: This session already exists - no need to re-run ;)\n",
      "T256_2019_09_03_Notebook_4_a: This session already exists - no need to re-run ;)\n",
      "T256_2019_09_03_Notebook_4_b: This session already exists - no need to re-run ;)\n",
      "T256_2019_09_03_Notebook_4_c: This session already exists - no need to re-run ;)\n",
      "T256_2019_09_03_Notebook_5_a_seq0a1ae2a4abc5a: This session already exists - no need to re-run ;)\n",
      "Notebook_6_d.ipynb is being executed\n"
     ]
    },
    {
     "data": {
      "application/vnd.jupyter.widget-view+json": {
       "model_id": "bc61968a7fc943ccb02091c8afd36c81",
       "version_major": 2,
       "version_minor": 0
      },
      "text/plain": [
       "HBox(children=(FloatProgress(value=0.0, description='Executing', max=14.0, style=ProgressStyle(description_wid…"
      ]
     },
     "metadata": {},
     "output_type": "display_data"
    },
    {
     "name": "stdout",
     "output_type": "stream",
     "text": [
      "\n",
      "T256_2019_09_11_Notebook_0_a: This session already exists - no need to re-run ;)\n",
      "T256_2019_09_11_Notebook_1_a: This session already exists - no need to re-run ;)\n",
      "T256_2019_09_11_Notebook_1_e: This session already exists - no need to re-run ;)\n",
      "T256_2019_09_11_Notebook_2_a: This session already exists - no need to re-run ;)\n",
      "T256_2019_09_11_Notebook_4_a: This session already exists - no need to re-run ;)\n",
      "T256_2019_09_11_Notebook_4_b: This session already exists - no need to re-run ;)\n",
      "T256_2019_09_11_Notebook_4_c: This session already exists - no need to re-run ;)\n",
      "T256_2019_09_11_Notebook_5_a_seq0a1ae2a4abc5a: This session already exists - no need to re-run ;)\n",
      "Notebook_6_d.ipynb is being executed\n"
     ]
    },
    {
     "data": {
      "application/vnd.jupyter.widget-view+json": {
       "model_id": "17396d966d214324b21c53a37d84b3da",
       "version_major": 2,
       "version_minor": 0
      },
      "text/plain": [
       "HBox(children=(FloatProgress(value=0.0, description='Executing', max=14.0, style=ProgressStyle(description_wid…"
      ]
     },
     "metadata": {},
     "output_type": "display_data"
    },
    {
     "name": "stdout",
     "output_type": "stream",
     "text": [
      "\n",
      "T256_2019_09_27_Notebook_0_a: This session already exists - no need to re-run ;)\n",
      "T256_2019_09_27_Notebook_1_a: This session already exists - no need to re-run ;)\n",
      "T256_2019_09_27_Notebook_1_e: This session already exists - no need to re-run ;)\n",
      "T256_2019_09_27_Notebook_2_a: This session already exists - no need to re-run ;)\n",
      "T256_2019_09_27_Notebook_4_a: This session already exists - no need to re-run ;)\n",
      "T256_2019_09_27_Notebook_4_b: This session already exists - no need to re-run ;)\n",
      "T256_2019_09_27_Notebook_4_c: This session already exists - no need to re-run ;)\n",
      "T256_2019_09_27_Notebook_5_a_seq0a1ae2a4abc5a: This session already exists - no need to re-run ;)\n",
      "Notebook_6_d.ipynb is being executed\n"
     ]
    },
    {
     "data": {
      "application/vnd.jupyter.widget-view+json": {
       "model_id": "a7d3080dc950472da9ed49a39a5acb11",
       "version_major": 2,
       "version_minor": 0
      },
      "text/plain": [
       "HBox(children=(FloatProgress(value=0.0, description='Executing', max=14.0, style=ProgressStyle(description_wid…"
      ]
     },
     "metadata": {},
     "output_type": "display_data"
    },
    {
     "name": "stdout",
     "output_type": "stream",
     "text": [
      "\n",
      "T256_2019_10_01_Notebook_0_a: This session already exists - no need to re-run ;)\n",
      "T256_2019_10_01_Notebook_1_a: This session already exists - no need to re-run ;)\n",
      "T256_2019_10_01_Notebook_1_e: This session already exists - no need to re-run ;)\n",
      "T256_2019_10_01_Notebook_2_a: This session already exists - no need to re-run ;)\n",
      "T256_2019_10_01_Notebook_4_a: This session already exists - no need to re-run ;)\n",
      "T256_2019_10_01_Notebook_4_b: This session already exists - no need to re-run ;)\n",
      "T256_2019_10_01_Notebook_4_c: This session already exists - no need to re-run ;)\n",
      "T256_2019_10_01_Notebook_5_a_seq0a1ae2a4abc5a: This session already exists - no need to re-run ;)\n",
      "Notebook_6_d.ipynb is being executed\n"
     ]
    },
    {
     "data": {
      "application/vnd.jupyter.widget-view+json": {
       "model_id": "2d2a113c4b384231ad855951acc409dd",
       "version_major": 2,
       "version_minor": 0
      },
      "text/plain": [
       "HBox(children=(FloatProgress(value=0.0, description='Executing', max=14.0, style=ProgressStyle(description_wid…"
      ]
     },
     "metadata": {},
     "output_type": "display_data"
    },
    {
     "name": "stdout",
     "output_type": "stream",
     "text": [
      "\n"
     ]
    }
   ],
   "source": [
    "#Mouse_Date_FileName: data set we want to run \n",
    "#nb_list: notebooks that we want to run \n",
    "#nb_path: where is the repository that you are running \n",
    "#seq_str: notebooks that we want to run - in code version \n",
    "#dict_for_pm: parameters of the data set \n",
    "\n",
    "ophf.run_dataset (Mouse_Date_FileName,nb_list,nb_path,seq_str,dict_for_pm)"
   ]
  },
  {
   "cell_type": "code",
   "execution_count": null,
   "metadata": {},
   "outputs": [],
   "source": []
  },
  {
   "cell_type": "code",
   "execution_count": null,
   "metadata": {},
   "outputs": [],
   "source": []
  }
 ],
 "metadata": {
  "celltoolbar": "Tags",
  "kernelspec": {
   "display_name": "optogenetics_env",
   "language": "python",
   "name": "optogenetics_env"
  },
  "language_info": {
   "codemirror_mode": {
    "name": "ipython",
    "version": 3
   },
   "file_extension": ".py",
   "mimetype": "text/x-python",
   "name": "python",
   "nbconvert_exporter": "python",
   "pygments_lexer": "ipython3",
   "version": "3.7.3"
  }
 },
 "nbformat": 4,
 "nbformat_minor": 2
}
