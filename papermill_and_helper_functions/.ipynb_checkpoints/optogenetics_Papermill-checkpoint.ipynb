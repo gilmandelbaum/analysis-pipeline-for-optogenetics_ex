{
 "cells": [
  {
   "cell_type": "markdown",
   "metadata": {},
   "source": [
    "# Papermill Notebook for Optogenetics"
   ]
  },
  {
   "cell_type": "code",
   "execution_count": 1,
   "metadata": {},
   "outputs": [],
   "source": [
    "import timeit\n",
    "import pandas as pd\n",
    "import numpy as np\n",
    "import os \n",
    "import papermill as pm\n",
    "import getpass\n",
    "import sys"
   ]
  },
  {
   "cell_type": "code",
   "execution_count": 2,
   "metadata": {},
   "outputs": [],
   "source": [
    "import optogenetics_papermill_helper_functions as ophf "
   ]
  },
  {
   "cell_type": "code",
   "execution_count": 3,
   "metadata": {},
   "outputs": [],
   "source": [
    "#data to be analyzed: \n",
    "data_dir_input = \"/Users/gilmandelbaum/Desktop/opto_final/OptoConsump\"\n",
    "#where to save the analyzed data: \n",
    "data_dir_output = \"/Users/gilmandelbaum/Desktop/opto_final/OptoConsump_output_2\""
   ]
  },
  {
   "cell_type": "code",
   "execution_count": 4,
   "metadata": {},
   "outputs": [],
   "source": [
    "#name of xlsx file that has the sessions we want to run: \n",
    "MasterSheetName= 'MasterOptoConsumption'"
   ]
  },
  {
   "cell_type": "code",
   "execution_count": 5,
   "metadata": {},
   "outputs": [],
   "source": [
    "#loading the xlsx file \n",
    "Mouse_Date_FileName = pd.read_excel(data_dir_input+'/'+MasterSheetName+'.xlsx') #mdf is mouse data file "
   ]
  },
  {
   "cell_type": "code",
   "execution_count": 6,
   "metadata": {},
   "outputs": [],
   "source": [
    "#add the github path that will run the notebooks: \n",
    "username = getpass.getuser() # gets the username from the current comp \n",
    "sys.path.append('/Users/{:}/GitHub/optogenetics_analysis/'.format(username))"
   ]
  },
  {
   "cell_type": "code",
   "execution_count": 7,
   "metadata": {},
   "outputs": [],
   "source": [
    "sys.path.append (\"/Users/gilmandelbaum/Desktop/optogenetics_analysis/\")"
   ]
  },
  {
   "cell_type": "code",
   "execution_count": 8,
   "metadata": {},
   "outputs": [],
   "source": [
    "nb_path = sys.path[-1]"
   ]
  },
  {
   "cell_type": "code",
   "execution_count": 9,
   "metadata": {},
   "outputs": [],
   "source": [
    "#analysis parameters for whole data set:  \n",
    "drop2blocks= 'no'\n",
    "drop2lastblocks=\"no\"\n",
    "HowManyBack = 1\n",
    "Trials_filter = 'allTrials' \n",
    "TypeOfStim='Consumption'\n",
    "Tags = ['Reward_NoReward_tag', 'ENL_tag', 'Sel_tag']"
   ]
  },
  {
   "cell_type": "code",
   "execution_count": 10,
   "metadata": {},
   "outputs": [],
   "source": [
    "#Versions for notebooks to run:\n",
    "#notebook 1 and notebook 4 are built to run more than 1 notebook\n",
    "Nb0='a'\n",
    "Nb1= ['a','d'] \n",
    "Nb2= 'a'\n",
    "Nb3= 'a'\n",
    "Nb4= ['a','b',\"c\"]\n",
    "Nb5= 'a'\n",
    "Nb6= 'c'\n",
    "\n",
    "#make a list of versions: \n",
    "notebook_sequence_list = [0,1,2,3,4,5,6]\n",
    "List_of_versions =[Nb0, Nb1, Nb2,Nb3, Nb4, Nb5, Nb6]"
   ]
  },
  {
   "cell_type": "code",
   "execution_count": 11,
   "metadata": {},
   "outputs": [],
   "source": [
    "nb_list = [\"Nb0_a\",\"Nb1_a\",\"Nb1_d\",\"Nb2_a\",\"Nb3_a\",\"Nb4_a\",\"Nb4_b\",\"Nb4_c\",\"Nb5_a\",\"Nb6_a\"]"
   ]
  },
  {
   "cell_type": "code",
   "execution_count": 12,
   "metadata": {},
   "outputs": [
    {
     "name": "stdout",
     "output_type": "stream",
     "text": [
      "seq0a1ad2a3a4abc5a6c will be used\n"
     ]
    }
   ],
   "source": [
    "seq_str = ophf.make_sequence_string(notebook_sequence_list, List_of_versions)"
   ]
  },
  {
   "cell_type": "code",
   "execution_count": 13,
   "metadata": {},
   "outputs": [],
   "source": [
    "dict_for_pm = dict(data_dir_input=data_dir_input,\n",
    "                   data_dir_output=data_dir_output,\n",
    "                   drop2blocks= drop2blocks,\n",
    "                   drop2lastblocks=drop2blocks,\n",
    "                   seq_str= seq_str, \n",
    "                   Tags=Tags, \n",
    "                   HowManyBack = HowManyBack, \n",
    "                   Nb0=Nb0, Nb1=Nb1, Nb2=Nb2, Nb3=Nb3, Nb4=Nb4, Nb5=Nb5,Nb6=Nb6,\n",
    "                   Trials_filter=Trials_filter,\n",
    "                   TypeOfStim=TypeOfStim)"
   ]
  },
  {
   "cell_type": "code",
   "execution_count": 15,
   "metadata": {},
   "outputs": [
    {
     "name": "stdout",
     "output_type": "stream",
     "text": [
      "Notebook_0_a.ipynb is being executed\n",
      "/Users/gilmandelbaum/Desktop/optogenetics_analysis/Nb0/Notebook_0_a.ipynb\n"
     ]
    },
    {
     "data": {
      "application/vnd.jupyter.widget-view+json": {
       "model_id": "82ff37c3da774e06bc8923903373945b",
       "version_major": 2,
       "version_minor": 0
      },
      "text/plain": [
       "HBox(children=(FloatProgress(value=0.0, max=15.0), HTML(value='')))"
      ]
     },
     "metadata": {},
     "output_type": "display_data"
    },
    {
     "name": "stdout",
     "output_type": "stream",
     "text": [
      "\n",
      "Notebook_1_a.ipynb is being executed\n",
      "/Users/gilmandelbaum/Desktop/optogenetics_analysis/Nb1/Notebook_1_a.ipynb\n"
     ]
    },
    {
     "data": {
      "application/vnd.jupyter.widget-view+json": {
       "model_id": "3f8a381c0d6343ac88c782622782d1f8",
       "version_major": 2,
       "version_minor": 0
      },
      "text/plain": [
       "HBox(children=(FloatProgress(value=0.0, max=14.0), HTML(value='')))"
      ]
     },
     "metadata": {},
     "output_type": "display_data"
    },
    {
     "name": "stdout",
     "output_type": "stream",
     "text": [
      "\n",
      "Notebook_1_d.ipynb is being executed\n",
      "/Users/gilmandelbaum/Desktop/optogenetics_analysis/Nb1/Notebook_1_d.ipynb\n"
     ]
    },
    {
     "data": {
      "application/vnd.jupyter.widget-view+json": {
       "model_id": "fdb4ff4ec51042f59346e1cf85e9e34a",
       "version_major": 2,
       "version_minor": 0
      },
      "text/plain": [
       "HBox(children=(FloatProgress(value=0.0, max=18.0), HTML(value='')))"
      ]
     },
     "metadata": {},
     "output_type": "display_data"
    },
    {
     "name": "stdout",
     "output_type": "stream",
     "text": [
      "\n",
      "Notebook_2_a.ipynb is being executed\n",
      "/Users/gilmandelbaum/Desktop/optogenetics_analysis/Nb2/Notebook_2_a.ipynb\n"
     ]
    },
    {
     "data": {
      "application/vnd.jupyter.widget-view+json": {
       "model_id": "6631421df3dc49e380e4aafb06e21821",
       "version_major": 2,
       "version_minor": 0
      },
      "text/plain": [
       "HBox(children=(FloatProgress(value=0.0, max=13.0), HTML(value='')))"
      ]
     },
     "metadata": {},
     "output_type": "display_data"
    },
    {
     "name": "stderr",
     "output_type": "stream",
     "text": [
      "Input notebook does not contain a cell with tag 'parameters'\n"
     ]
    },
    {
     "name": "stdout",
     "output_type": "stream",
     "text": [
      "\n",
      "Notebook_3_a.ipynb is being executed\n",
      "/Users/gilmandelbaum/Desktop/optogenetics_analysis/Nb3/Notebook_3_a.ipynb\n"
     ]
    },
    {
     "data": {
      "application/vnd.jupyter.widget-view+json": {
       "model_id": "c7189072a22849d89c04d5594ad69627",
       "version_major": 2,
       "version_minor": 0
      },
      "text/plain": [
       "HBox(children=(FloatProgress(value=0.0, max=4.0), HTML(value='')))"
      ]
     },
     "metadata": {},
     "output_type": "display_data"
    },
    {
     "name": "stdout",
     "output_type": "stream",
     "text": [
      "\n",
      "Notebook_4_a.ipynb is being executed\n",
      "/Users/gilmandelbaum/Desktop/optogenetics_analysis/Nb4/Notebook_4_a.ipynb\n"
     ]
    },
    {
     "data": {
      "application/vnd.jupyter.widget-view+json": {
       "model_id": "5b58dff8f3af4911a0a4fae29f6a001b",
       "version_major": 2,
       "version_minor": 0
      },
      "text/plain": [
       "HBox(children=(FloatProgress(value=0.0, max=12.0), HTML(value='')))"
      ]
     },
     "metadata": {},
     "output_type": "display_data"
    },
    {
     "name": "stdout",
     "output_type": "stream",
     "text": [
      "\n"
     ]
    },
    {
     "ename": "PapermillExecutionError",
     "evalue": "\n---------------------------------------------------------------------------\nException encountered at \"In [5]\":\n---------------------------------------------------------------------------\nFileNotFoundError                         Traceback (most recent call last)\n<ipython-input-5-08749c926003> in <module>\n----> 1 dill.load_session('state_transitions.db')\n\n/anaconda3/lib/python3.7/site-packages/dill/_dill.py in load_session(filename, main)\n    403         f = filename\n    404     else:\n--> 405         f = open(filename, 'rb')\n    406     try:\n    407         unpickler = Unpickler(f)\n\nFileNotFoundError: [Errno 2] No such file or directory: 'state_transitions.db'\n",
     "output_type": "error",
     "traceback": [
      "\u001b[0;31m---------------------------------------------------------------------------\u001b[0m",
      "\u001b[0;31mPapermillExecutionError\u001b[0m                   Traceback (most recent call last)",
      "\u001b[0;32m<ipython-input-15-1d8270d012d1>\u001b[0m in \u001b[0;36m<module>\u001b[0;34m\u001b[0m\n\u001b[0;32m----> 1\u001b[0;31m \u001b[0mophf\u001b[0m\u001b[0;34m.\u001b[0m\u001b[0mrun_dataset\u001b[0m \u001b[0;34m(\u001b[0m\u001b[0mMouse_Date_FileName\u001b[0m\u001b[0;34m,\u001b[0m\u001b[0mnb_list\u001b[0m\u001b[0;34m,\u001b[0m\u001b[0mnb_path\u001b[0m\u001b[0;34m,\u001b[0m\u001b[0mseq_str\u001b[0m\u001b[0;34m,\u001b[0m\u001b[0mdict_for_pm\u001b[0m\u001b[0;34m)\u001b[0m\u001b[0;34m\u001b[0m\u001b[0;34m\u001b[0m\u001b[0m\n\u001b[0m",
      "\u001b[0;32m~/Desktop/optogenetics_analysis/papermill_and_helper_functions/optogenetics_papermill_helper_functions.py\u001b[0m in \u001b[0;36mrun_dataset\u001b[0;34m(Mouse_Date_FileName, nb_list, nb_path, seq_str, dict_for_pm)\u001b[0m\n\u001b[1;32m     75\u001b[0m                 \u001b[0mprint\u001b[0m\u001b[0;34m(\u001b[0m\u001b[0;34m'Notebook_'\u001b[0m\u001b[0;34m+\u001b[0m\u001b[0mnotebook_number\u001b[0m\u001b[0;34m+\u001b[0m\u001b[0;34m'_'\u001b[0m\u001b[0;34m+\u001b[0m\u001b[0mnotebook_version\u001b[0m\u001b[0;34m+\u001b[0m\u001b[0;34m'.ipynb is being executed'\u001b[0m\u001b[0;34m)\u001b[0m\u001b[0;34m\u001b[0m\u001b[0;34m\u001b[0m\u001b[0m\n\u001b[1;32m     76\u001b[0m                 \u001b[0mprint\u001b[0m\u001b[0;34m(\u001b[0m\u001b[0mnb_path\u001b[0m\u001b[0;34m+\u001b[0m\u001b[0mfolder_name\u001b[0m\u001b[0;34m+\u001b[0m\u001b[0;34m\"/\"\u001b[0m\u001b[0;34m+\u001b[0m\u001b[0;34m'Notebook_'\u001b[0m\u001b[0;34m+\u001b[0m\u001b[0mstr\u001b[0m\u001b[0;34m(\u001b[0m\u001b[0mnotebook_number\u001b[0m\u001b[0;34m)\u001b[0m\u001b[0;34m+\u001b[0m\u001b[0;34m'_'\u001b[0m\u001b[0;34m+\u001b[0m\u001b[0mnotebook_version\u001b[0m\u001b[0;34m+\u001b[0m\u001b[0;34m'.ipynb'\u001b[0m\u001b[0;34m)\u001b[0m\u001b[0;34m\u001b[0m\u001b[0;34m\u001b[0m\u001b[0m\n\u001b[0;32m---> 77\u001b[0;31m                 \u001b[0mpm\u001b[0m\u001b[0;34m.\u001b[0m\u001b[0mexecute_notebook\u001b[0m\u001b[0;34m(\u001b[0m\u001b[0mnb_path\u001b[0m\u001b[0;34m+\u001b[0m\u001b[0mfolder_name\u001b[0m\u001b[0;34m+\u001b[0m\u001b[0;34m\"/\"\u001b[0m\u001b[0;34m+\u001b[0m\u001b[0;34m'Notebook_'\u001b[0m\u001b[0;34m+\u001b[0m\u001b[0mstr\u001b[0m\u001b[0;34m(\u001b[0m\u001b[0mnotebook_number\u001b[0m\u001b[0;34m)\u001b[0m\u001b[0;34m+\u001b[0m\u001b[0;34m'_'\u001b[0m\u001b[0;34m+\u001b[0m\u001b[0mnotebook_version\u001b[0m\u001b[0;34m+\u001b[0m\u001b[0;34m'.ipynb'\u001b[0m\u001b[0;34m,\u001b[0m \u001b[0;34m'TestOutPut.ipynb'\u001b[0m\u001b[0;34m,\u001b[0m\u001b[0mparameters\u001b[0m\u001b[0;34m=\u001b[0m \u001b[0mdict_for_pm\u001b[0m\u001b[0;34m)\u001b[0m\u001b[0;34m\u001b[0m\u001b[0;34m\u001b[0m\u001b[0m\n\u001b[0m\u001b[1;32m     78\u001b[0m     \u001b[0;32mreturn\u001b[0m\u001b[0;34m\u001b[0m\u001b[0;34m\u001b[0m\u001b[0m\n\u001b[1;32m     79\u001b[0m \u001b[0;34m\u001b[0m\u001b[0m\n",
      "\u001b[0;32m/anaconda3/lib/python3.7/site-packages/papermill/execute.py\u001b[0m in \u001b[0;36mexecute_notebook\u001b[0;34m(input_path, output_path, parameters, engine_name, prepare_only, kernel_name, progress_bar, log_output, start_timeout, report_mode, cwd, **engine_kwargs)\u001b[0m\n\u001b[1;32m     99\u001b[0m \u001b[0;34m\u001b[0m\u001b[0m\n\u001b[1;32m    100\u001b[0m             \u001b[0;31m# Check for errors first (it saves on error before raising)\u001b[0m\u001b[0;34m\u001b[0m\u001b[0;34m\u001b[0m\u001b[0;34m\u001b[0m\u001b[0m\n\u001b[0;32m--> 101\u001b[0;31m             \u001b[0mraise_for_execution_errors\u001b[0m\u001b[0;34m(\u001b[0m\u001b[0mnb\u001b[0m\u001b[0;34m,\u001b[0m \u001b[0moutput_path\u001b[0m\u001b[0;34m)\u001b[0m\u001b[0;34m\u001b[0m\u001b[0;34m\u001b[0m\u001b[0m\n\u001b[0m\u001b[1;32m    102\u001b[0m \u001b[0;34m\u001b[0m\u001b[0m\n\u001b[1;32m    103\u001b[0m         \u001b[0;31m# Write final output in case the engine didn't write it on cell completion.\u001b[0m\u001b[0;34m\u001b[0m\u001b[0;34m\u001b[0m\u001b[0;34m\u001b[0m\u001b[0m\n",
      "\u001b[0;32m/anaconda3/lib/python3.7/site-packages/papermill/execute.py\u001b[0m in \u001b[0;36mraise_for_execution_errors\u001b[0;34m(nb, output_path)\u001b[0m\n\u001b[1;32m    183\u001b[0m         \u001b[0mnb\u001b[0m\u001b[0;34m.\u001b[0m\u001b[0mcells\u001b[0m \u001b[0;34m=\u001b[0m \u001b[0;34m[\u001b[0m\u001b[0merror_msg_cell\u001b[0m\u001b[0;34m]\u001b[0m \u001b[0;34m+\u001b[0m \u001b[0mnb\u001b[0m\u001b[0;34m.\u001b[0m\u001b[0mcells\u001b[0m\u001b[0;34m\u001b[0m\u001b[0;34m\u001b[0m\u001b[0m\n\u001b[1;32m    184\u001b[0m         \u001b[0mwrite_ipynb\u001b[0m\u001b[0;34m(\u001b[0m\u001b[0mnb\u001b[0m\u001b[0;34m,\u001b[0m \u001b[0moutput_path\u001b[0m\u001b[0;34m)\u001b[0m\u001b[0;34m\u001b[0m\u001b[0;34m\u001b[0m\u001b[0m\n\u001b[0;32m--> 185\u001b[0;31m         \u001b[0;32mraise\u001b[0m \u001b[0merror\u001b[0m\u001b[0;34m\u001b[0m\u001b[0;34m\u001b[0m\u001b[0m\n\u001b[0m",
      "\u001b[0;31mPapermillExecutionError\u001b[0m: \n---------------------------------------------------------------------------\nException encountered at \"In [5]\":\n---------------------------------------------------------------------------\nFileNotFoundError                         Traceback (most recent call last)\n<ipython-input-5-08749c926003> in <module>\n----> 1 dill.load_session('state_transitions.db')\n\n/anaconda3/lib/python3.7/site-packages/dill/_dill.py in load_session(filename, main)\n    403         f = filename\n    404     else:\n--> 405         f = open(filename, 'rb')\n    406     try:\n    407         unpickler = Unpickler(f)\n\nFileNotFoundError: [Errno 2] No such file or directory: 'state_transitions.db'\n"
     ]
    }
   ],
   "source": [
    "ophf.run_dataset (Mouse_Date_FileName,nb_list,nb_path,seq_str,dict_for_pm)"
   ]
  },
  {
   "cell_type": "code",
   "execution_count": null,
   "metadata": {},
   "outputs": [],
   "source": [
    "ophf.run_sessions_data_set(Mouse_Date_FileName,notebook_sequence_list,\n",
    "                           p_dict,data_dir_output,list_of_folders,list_of_versions,\n",
    "                           HowManyBack)"
   ]
  },
  {
   "cell_type": "code",
   "execution_count": null,
   "metadata": {},
   "outputs": [],
   "source": [
    "notebook_list = [\"Nb0_a\",\"Nb1_a\",\"Nb1_d\",\"Nb2_a\",\"Nb4_a\",\"Nb4_b\",\"Nb4_c\",\"Nb5_a\",\"Nb6_a\"]"
   ]
  },
  {
   "cell_type": "code",
   "execution_count": null,
   "metadata": {},
   "outputs": [],
   "source": [
    "def run_a_session (notebook_list,path,dict_for_pm,seq_str):\n",
    "    \n",
    "    for notebook in notebook_list: \n",
    "        \n",
    "        notebook_number = notebook[2]\n",
    "        notebook_version = notebook[-1]\n",
    "        folder_name = notebook[0:3]\n",
    "\n",
    "        \n",
    "        notebook_path = get_notebook_path(notebook_number,seq_str)\n",
    "        \n",
    "                          \n",
    "        data_dir_output = dict_for_pm[\"data_dir_output\"]\n",
    "        mouse = dict_for_pm[\"mouse\"]\n",
    "        date_and_name = dict_for_pm[\"date_and_name\"]\n",
    "        HowManyBack = dict_for_pm[\"HowManyBack\"]\n",
    "        date_ = dict_for_pm[\"date_\"]\n",
    "        \n",
    "        if os.path.isfile(data_dir_output+\"/\"+mouse+\"/\"+date_and_name+'/'+str(HowManyBack)+'_Back/'+mouse+\"_\"+date_+'Notebook_'+str(notebook_number)+'_'+v+notebook_path+'.pickle'):\n",
    "            pass\n",
    "            print(mouse+\"_\"+date+'_Notebook_'+str(notebook_number)+'_'+notebook_version+notebook_path+': This session already exists - no need to re-run ;)')\n",
    "            \n",
    "        else:   \n",
    "            print('Notebook_'+notebook_number+'_'+notebook_version+'.ipynb is being executed')\n",
    "            pm.execute_notebook(path+folder_name+\"/\"+'Notebook_'+str(notebook_number)+'_'+notebook_version+'.ipynb', 'TestOutPut.ipynb',parameters= dict_for_data_set)\n",
    "\n",
    "\n",
    "\n"
   ]
  },
  {
   "cell_type": "code",
   "execution_count": null,
   "metadata": {},
   "outputs": [],
   "source": [
    "pm.execute_notebook(sys.path[-1]+folder+\"/\"+'Notebook_'+str(notebook_number)+'_'+v+'.ipynb', \n",
    "                    'TestOutPut.ipynb',parameters= p_dict)"
   ]
  },
  {
   "cell_type": "code",
   "execution_count": null,
   "metadata": {
    "scrolled": true
   },
   "outputs": [],
   "source": [
    "def run_sessions_Mice(Mouse_Date_FileName,notebook_sequence_list,p_dict):\n",
    "    \n",
    "    Mouse_names = Mouse_Date_FileName['Mouse'].dropna().unique() #list of mice in the data set\n",
    "    \n",
    "    for mouse in Mouse_names:\n",
    "        data_day_s = []\n",
    "        date_s=[]\n",
    "        df_mouse = Mouse_Date_FileName[Mouse_Date_FileName['Mouse']==mouse]\n",
    "        for row in df_mouse.iterrows():\n",
    "            date = row[1]['Date']\n",
    "            date_ = '20'+str(date)[:2]+'_'+str(date)[2:4]+'_'+str(date)[4:6]\n",
    "            name_and_date = date_+'__'+mouse\n",
    "\n",
    "            data_day_s.append(name_and_date)\n",
    "            date_s.append(date_)\n",
    "            \n",
    "        run_sessions(data_day_s, date_s, mouse,notebook_sequence_list,p_dict) \n",
    "        \n",
    "    return "
   ]
  },
  {
   "cell_type": "code",
   "execution_count": null,
   "metadata": {},
   "outputs": [],
   "source": [
    "#parameters:\n"
   ]
  },
  {
   "cell_type": "code",
   "execution_count": null,
   "metadata": {},
   "outputs": [],
   "source": [
    "def run_papermill (fileName_str_out,v,notebook_number,\n",
    "                   mouse,data_day,date,data_dir_output,\n",
    "                   folder,HowManyBack,p_dict):\n",
    "    \n",
    "    fileName_str_out_version= fileName_str_out+v\n",
    "    if notebook_number in [0, 1, 2, 4]:\n",
    "        notebook_path = ''\n",
    "    else:\n",
    "        notebook_path = '_seq'+fileName_str_out_version   \n",
    "\n",
    "                 \n",
    "    if os.path.isfile(data_dir_output+\"/\"+mouse+\"/\"+data_day+'/'+str(HowManyBack)+'_Back/'+mouse+\"_\"+date+'Notebook_'+str(notebook_number)+'_'+v+notebook_path+'.pickle'):\n",
    "        pass\n",
    "        print(mouse+\"_\"+date+'_Notebook_'+str(notebook_number)+'_'+v+notebook_path+': This session already exists - no need to re-run ;)')\n",
    "    else: \n",
    "        print('Notebook_'+str(notebook_number)+'_'+v+'.ipynb is being executed')\n",
    "        pm.execute_notebook(sys.path[-1]+folder+\"/\"+'Notebook_'+str(notebook_number)+'_'+v+'.ipynb', 'TestOutPut.ipynb',parameters= p_dict)"
   ]
  },
  {
   "cell_type": "code",
   "execution_count": null,
   "metadata": {},
   "outputs": [],
   "source": [
    "fileName_str_out = \"\""
   ]
  },
  {
   "cell_type": "code",
   "execution_count": null,
   "metadata": {},
   "outputs": [],
   "source": [
    "fileName_str_out = str(0)"
   ]
  },
  {
   "cell_type": "code",
   "execution_count": null,
   "metadata": {},
   "outputs": [],
   "source": [
    "fileName_str_out"
   ]
  },
  {
   "cell_type": "code",
   "execution_count": null,
   "metadata": {},
   "outputs": [],
   "source": [
    "def run_sessions(data_day_s, date_s, mouse,notebook_sequence_list,p_dict):\n",
    "\n",
    "    for s in range(0, len(date_s)):\n",
    "        data_day = data_day_s[s] \n",
    "        date = date_s[s] \n",
    "        \n",
    "        p_dict['data_day'] = data_day\n",
    "        p_dict['date'] = date\n",
    "        p_dict['mouse'] = mouse\n",
    "        \n",
    "        for i,notebook_number in enumerate (notebook_sequence_list):\n",
    "                \n",
    "            fileName_str_out = str(notebook_number)\n",
    "            folder = list_of_folders[i]\n",
    "            version = list_of_versions[i]\n",
    "            \n",
    "            if len(version)>1:\n",
    "                for v in version:\n",
    "                    ophf.run_papermill(fileName_str_out,v,notebook_number,mouse,data_day,date,data_dir_output,folder,HowManyBack,p_dict)\n",
    "            else:\n",
    "                ophf.run_papermill(fileName_str_out,v,notebook_number,mouse,data_day,date,data_dir_output,folder,HowManyBack,p_dict):\n",
    "\n",
    "    return"
   ]
  },
  {
   "cell_type": "code",
   "execution_count": null,
   "metadata": {},
   "outputs": [],
   "source": [
    "def run_sessions(data_day_s, date_s, mouse,notebook_sequence_list,p_dict):\n",
    "\n",
    "    for s in range(0, len(date_s)):\n",
    "       \n",
    "        data_day = data_day_s[s] \n",
    "        date = date_s[s] \n",
    "        \n",
    "        p_dict['data_day'] = data_day\n",
    "        p_dict['date'] = date\n",
    "        p_dict['mouse'] = mouse\n",
    "        \n",
    "        for i,notebook_number in enumerate (notebook_sequence_list):\n",
    "                            \n",
    "            \n",
    "            fileName_str_out = str(notebook_number)\n",
    "            folder = list_of_folders[i]\n",
    "            version = list_of_versions[i]\n",
    "            \n",
    "            if len(version)>1:\n",
    "                \n",
    "                for v in version:\n",
    "                    \n",
    "                    fileName_str_out_version= fileName_str_out+v\n",
    "\n",
    "                    if notebook_number in [0, 1, 2, 3, 4]:\n",
    "                        notebook_path = ''\n",
    "                    else:\n",
    "                        notebook_path = '_seq'+fileName_str_out_version                    \n",
    "                    \n",
    "                    if os.path.isfile(data_dir_output+\"/\"+mouse+\"/\"+data_day+'/'+str(HowManyBack)+'_Back/'+mouse+\"_\"+date+'Notebook_'+str(notebook_number)+'_'+v+notebook_path+'.pickle'):\n",
    "                        pass\n",
    "                        print(mouse+\"_\"+date+'_Notebook_'+str(notebook_number)+'_'+v+notebook_path+': This session already exists - no need to re-run ;)')\n",
    "                    else: \n",
    "                        print('Notebook_'+str(notebook_number)+'_'+v+'.ipynb is being executed')\n",
    "                        pm.execute_notebook(sys.path[-1]+\"folder\"+\"/\"+'Notebook_'+str(notebook_number)+'_'+v+'.ipynb', \n",
    "                                            'TestOutPut.ipynb',parameters= p_dict)\n",
    "                        \n",
    "                        \n",
    "     \n",
    "            else:\n",
    "            \n",
    "                fileName_str_out_version= fileName_str_out+version\n",
    "                if notebook_number in [0,1, 2, 3, 4]:\n",
    "                    notebook_path = ''\n",
    "                else:\n",
    "                    notebook_path = '_seq'+fileName_str_out_version                \n",
    "                \n",
    "                if os.path.isfile(data_dir_output+\"/\"+mouse+\"/\"+data_day+'/'+str(HowManyBack)+'_Back/'+mouse+\"_\"+date+'Notebook_'+str(notebook_number)+'_'+version+notebook_path+'.pickle'):\n",
    "                    pass\n",
    "                    print(mouse+\"_\"+date+'_Notebook_'+str(notebook_number)+'_'+version+notebook_path+': This session already exists - no need to re-run ;)')\n",
    "                else: \n",
    "                    print('Notebook_'+str(notebook_number)+'_'+version+'.ipynb is being executed')                    \n",
    "                    pm.execute_notebook('Notebook_'+str(notebook_number)+'_'+version+'.ipynb', 'TestOutPut.ipynb', parameters= p_dict)\n",
    "\n",
    "        elapsed = timeit.default_timer() - start_time\n",
    "        elapsedMin = elapsed/60\n",
    "        \n",
    "        print (elapsedMin) \n",
    "\n",
    "        \n",
    "    return"
   ]
  },
  {
   "cell_type": "code",
   "execution_count": null,
   "metadata": {
    "scrolled": true
   },
   "outputs": [],
   "source": [
    "mouse_data_date_dict =run_sessions_Mice(Mouse_Date_FileName)"
   ]
  },
  {
   "cell_type": "code",
   "execution_count": null,
   "metadata": {},
   "outputs": [],
   "source": []
  }
 ],
 "metadata": {
  "celltoolbar": "Tags",
  "kernelspec": {
   "display_name": "Python 3",
   "language": "python",
   "name": "python3"
  },
  "language_info": {
   "codemirror_mode": {
    "name": "ipython",
    "version": 3
   },
   "file_extension": ".py",
   "mimetype": "text/x-python",
   "name": "python",
   "nbconvert_exporter": "python",
   "pygments_lexer": "ipython3",
   "version": "3.7.3"
  }
 },
 "nbformat": 4,
 "nbformat_minor": 2
}
