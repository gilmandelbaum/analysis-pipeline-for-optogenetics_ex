{
 "cells": [
  {
   "cell_type": "markdown",
   "metadata": {
    "papermill": {
     "duration": 0.011992,
     "end_time": "2020-05-27T01:37:47.699374",
     "exception": false,
     "start_time": "2020-05-27T01:37:47.687382",
     "status": "completed"
    },
    "tags": []
   },
   "source": [
    "# Notebook 6 d"
   ]
  },
  {
   "cell_type": "code",
   "execution_count": 1,
   "metadata": {
    "execution": {
     "iopub.execute_input": "2020-05-27T01:37:47.726761Z",
     "iopub.status.busy": "2020-05-27T01:37:47.725893Z",
     "iopub.status.idle": "2020-05-27T01:37:47.730035Z",
     "shell.execute_reply": "2020-05-27T01:37:47.729024Z"
    },
    "papermill": {
     "duration": 0.019481,
     "end_time": "2020-05-27T01:37:47.730189",
     "exception": false,
     "start_time": "2020-05-27T01:37:47.710708",
     "status": "completed"
    },
    "tags": [
     "parameters"
    ]
   },
   "outputs": [],
   "source": [
    "mouse = 'T183'\n",
    "data_day = '2019_03_14__T183'\n",
    "date = '2019_03_14'\n",
    "\n",
    "data_dir_output = '/Users/gilmandelbaum/Desktop/optoOutPut'\n",
    "\n",
    "HowManyBack=1 \n",
    "\n",
    "Nb5 =\"a\"\n",
    "\n",
    "seq_str= '0a1ad2a4abc5a6d'"
   ]
  },
  {
   "cell_type": "code",
   "execution_count": 2,
   "metadata": {
    "execution": {
     "iopub.execute_input": "2020-05-27T01:37:47.756220Z",
     "iopub.status.busy": "2020-05-27T01:37:47.755469Z",
     "iopub.status.idle": "2020-05-27T01:37:47.758342Z",
     "shell.execute_reply": "2020-05-27T01:37:47.757709Z"
    },
    "papermill": {
     "duration": 0.018538,
     "end_time": "2020-05-27T01:37:47.758438",
     "exception": false,
     "start_time": "2020-05-27T01:37:47.739900",
     "status": "completed"
    },
    "tags": [
     "injected-parameters"
    ]
   },
   "outputs": [],
   "source": [
    "# Parameters\n",
    "data_dir_input = \"/Users/gilmandelbaum/Dropbox (HMS)/0.STRpaper/4.Optogenetics/opto_consumption_final/0.FullDataSet/OptoConsump_raw\"\n",
    "data_dir_output = \"/Users/gilmandelbaum/Dropbox (HMS)/0.STRpaper/4.Optogenetics/opto_consumption_final/0.FullDataSet/OptoConsump_output\"\n",
    "drop2blocks = \"no\"\n",
    "drop2lastblocks = \"no\"\n",
    "seq_str = \"0a1ae2a4abc5a6d\"\n",
    "Tags = [\"Reward_NoReward_tag\", \"ENL_tag\", \"Sel_tag\"]\n",
    "HowManyBack = 1\n",
    "Nb0 = \"a\"\n",
    "Nb1 = [\"a\", \"e\"]\n",
    "Nb2 = \"a\"\n",
    "Nb4 = [\"a\", \"b\", \"c\"]\n",
    "Nb5 = \"a\"\n",
    "Nb6 = \"d\"\n",
    "Trials_filter = \"allTrials\"\n",
    "TypeOfStim = \"Consumption\"\n",
    "mouse = \"T253\"\n",
    "data_day = \"2019_10_25__T253\"\n",
    "date = \"2019_10_25\"\n"
   ]
  },
  {
   "cell_type": "code",
   "execution_count": 3,
   "metadata": {
    "execution": {
     "iopub.execute_input": "2020-05-27T01:37:47.782150Z",
     "iopub.status.busy": "2020-05-27T01:37:47.781258Z",
     "iopub.status.idle": "2020-05-27T01:37:48.175995Z",
     "shell.execute_reply": "2020-05-27T01:37:48.175267Z"
    },
    "papermill": {
     "duration": 0.408097,
     "end_time": "2020-05-27T01:37:48.176104",
     "exception": false,
     "start_time": "2020-05-27T01:37:47.768007",
     "status": "completed"
    },
    "tags": []
   },
   "outputs": [],
   "source": [
    "from pathlib import Path\n",
    "import pickle\n",
    "import itertools\n",
    "import pandas as pd \n",
    "import os"
   ]
  },
  {
   "cell_type": "code",
   "execution_count": 4,
   "metadata": {
    "execution": {
     "iopub.execute_input": "2020-05-27T01:37:48.204010Z",
     "iopub.status.busy": "2020-05-27T01:37:48.203017Z",
     "iopub.status.idle": "2020-05-27T01:37:48.206868Z",
     "shell.execute_reply": "2020-05-27T01:37:48.207650Z"
    },
    "papermill": {
     "duration": 0.020749,
     "end_time": "2020-05-27T01:37:48.207935",
     "exception": false,
     "start_time": "2020-05-27T01:37:48.187186",
     "status": "completed"
    },
    "tags": []
   },
   "outputs": [],
   "source": [
    "import Notebook_6_helper_functions as Nb_6"
   ]
  },
  {
   "cell_type": "code",
   "execution_count": 5,
   "metadata": {
    "execution": {
     "iopub.execute_input": "2020-05-27T01:37:48.238844Z",
     "iopub.status.busy": "2020-05-27T01:37:48.238143Z",
     "iopub.status.idle": "2020-05-27T01:37:49.530892Z",
     "shell.execute_reply": "2020-05-27T01:37:49.531493Z"
    },
    "papermill": {
     "duration": 1.31196,
     "end_time": "2020-05-27T01:37:49.531615",
     "exception": false,
     "start_time": "2020-05-27T01:37:48.219655",
     "status": "completed"
    },
    "tags": []
   },
   "outputs": [
    {
     "name": "stdout",
     "output_type": "stream",
     "text": [
      "loaded notebook 5\n"
     ]
    }
   ],
   "source": [
    "root = Path(data_dir_output+\"/\"+mouse+\"/\"+data_day+'/'+str(HowManyBack)+\"_Back\")\n",
    "d = mouse+\"_\"+date+\"Notebook_5_\"+Nb5+\"_\"+\"seq\"+seq_str[:seq_str.index('6')]+'.pickle'\n",
    "my_path = root / d \n",
    "fileToOpen = open(my_path, 'rb')\n",
    "Lick_RL_IC_tt_periods = pickle.load(fileToOpen)\n",
    "print (\"loaded notebook 5\")"
   ]
  },
  {
   "cell_type": "code",
   "execution_count": 6,
   "metadata": {
    "execution": {
     "iopub.execute_input": "2020-05-27T01:37:49.556725Z",
     "iopub.status.busy": "2020-05-27T01:37:49.555874Z",
     "iopub.status.idle": "2020-05-27T01:37:49.559187Z",
     "shell.execute_reply": "2020-05-27T01:37:49.558360Z"
    },
    "papermill": {
     "duration": 0.01734,
     "end_time": "2020-05-27T01:37:49.559318",
     "exception": false,
     "start_time": "2020-05-27T01:37:49.541978",
     "status": "completed"
    },
    "tags": []
   },
   "outputs": [],
   "source": [
    "combination_stringlist = Nb_6.combinations_string(HowManyBack)"
   ]
  },
  {
   "cell_type": "code",
   "execution_count": 7,
   "metadata": {
    "execution": {
     "iopub.execute_input": "2020-05-27T01:37:49.613540Z",
     "iopub.status.busy": "2020-05-27T01:37:49.604886Z",
     "iopub.status.idle": "2020-05-27T01:37:52.795695Z",
     "shell.execute_reply": "2020-05-27T01:37:52.796481Z"
    },
    "papermill": {
     "duration": 3.227124,
     "end_time": "2020-05-27T01:37:52.796683",
     "exception": false,
     "start_time": "2020-05-27T01:37:49.569559",
     "status": "completed"
    },
    "tags": []
   },
   "outputs": [],
   "source": [
    "Lick_tStates_perTrial_with_direction= Nb_6.get_tStates_perTrial_per_period_df_with_direction(Lick_RL_IC_tt_periods)"
   ]
  },
  {
   "cell_type": "code",
   "execution_count": 8,
   "metadata": {
    "execution": {
     "iopub.execute_input": "2020-05-27T01:37:52.831482Z",
     "iopub.status.busy": "2020-05-27T01:37:52.830568Z",
     "iopub.status.idle": "2020-05-27T01:37:52.835029Z",
     "shell.execute_reply": "2020-05-27T01:37:52.836075Z"
    },
    "papermill": {
     "duration": 0.023522,
     "end_time": "2020-05-27T01:37:52.836348",
     "exception": false,
     "start_time": "2020-05-27T01:37:52.812826",
     "status": "completed"
    },
    "tags": []
   },
   "outputs": [],
   "source": [
    "file = \"each_lick_per_period_with_direction\"+\"_\"+seq_str\n",
    "cache_dir_plt = os.path.join(data_dir_output+'/'+mouse+\"/\"+data_day+'/'+str(HowManyBack)+'_Back/'+\"analysis\", file)\n",
    "if not os.path.exists(cache_dir_plt):\n",
    "    os.makedirs(cache_dir_plt)"
   ]
  },
  {
   "cell_type": "code",
   "execution_count": 9,
   "metadata": {
    "execution": {
     "iopub.execute_input": "2020-05-27T01:37:52.876448Z",
     "iopub.status.busy": "2020-05-27T01:37:52.875188Z",
     "iopub.status.idle": "2020-05-27T01:37:52.891387Z",
     "shell.execute_reply": "2020-05-27T01:37:52.890317Z"
    },
    "papermill": {
     "duration": 0.041952,
     "end_time": "2020-05-27T01:37:52.891516",
     "exception": false,
     "start_time": "2020-05-27T01:37:52.849564",
     "status": "completed"
    },
    "tags": []
   },
   "outputs": [],
   "source": [
    "root = Path(data_dir_output+\"/\"+mouse+\"/\"+data_day+'/'+str(HowManyBack)+\"_Back\"+\"/\"+\"analysis\"+\"/\"+file+\"/\")\n",
    "d = \"directionOfLicks_with_direction.pickle\"\n",
    "my_path = root / d \n",
    "my_file = open(my_path, 'wb')\n",
    "my_file = pickle.dump((Lick_tStates_perTrial_with_direction),my_file)"
   ]
  },
  {
   "cell_type": "code",
   "execution_count": 10,
   "metadata": {
    "execution": {
     "iopub.execute_input": "2020-05-27T01:37:52.930197Z",
     "iopub.status.busy": "2020-05-27T01:37:52.928956Z",
     "iopub.status.idle": "2020-05-27T01:37:52.932756Z",
     "shell.execute_reply": "2020-05-27T01:37:52.931698Z"
    },
    "papermill": {
     "duration": 0.029768,
     "end_time": "2020-05-27T01:37:52.932876",
     "exception": false,
     "start_time": "2020-05-27T01:37:52.903108",
     "status": "completed"
    },
    "tags": []
   },
   "outputs": [],
   "source": [
    "def extract_licks (Lick_tStates_perTrial_with_direction,tag):\n",
    "    right_left = [0,0,1,1]\n",
    "    trial_type = [3,2,3,2]\n",
    "    direction_stay_or_switch = [\"stay_right\",\"switch_right\",\"stay_left\",\"switch_left\"]\n",
    "    \n",
    "    for (rl, tt, direc) in zip(right_left,trial_type,direction_stay_or_switch):\n",
    "        condition= Lick_tStates_perTrial_with_direction[rl][0][tt][tag]\n",
    "        if condition.empty==True:\n",
    "            condition_df = pd.DataFrame()\n",
    "        else:\n",
    "            condition = condition.reset_index()\n",
    "            condition_df = pd.DataFrame(condition)\n",
    "            condition_df = condition_df.drop([\"index\"], axis=1)\n",
    "            \n",
    "        condition_df.to_csv(data_dir_output+\"/\"+mouse+\"/\"+data_day+'/'+str(HowManyBack)+\"_Back\"+\"/\"+\"analysis\"+\"/\"+\"each_lick_per_period_with_direction\"+\"_\"+seq_str+\"/\"+tag+\"_\"+direc+\".csv\")\n",
    "        condition_df = pd.DataFrame()\n",
    "    return ()"
   ]
  },
  {
   "cell_type": "code",
   "execution_count": 11,
   "metadata": {
    "execution": {
     "iopub.execute_input": "2020-05-27T01:37:52.970454Z",
     "iopub.status.busy": "2020-05-27T01:37:52.969381Z",
     "iopub.status.idle": "2020-05-27T01:37:53.035726Z",
     "shell.execute_reply": "2020-05-27T01:37:53.036767Z"
    },
    "papermill": {
     "duration": 0.089151,
     "end_time": "2020-05-27T01:37:53.036956",
     "exception": false,
     "start_time": "2020-05-27T01:37:52.947805",
     "status": "completed"
    },
    "tags": []
   },
   "outputs": [],
   "source": [
    "for tag in list(Lick_tStates_perTrial_with_direction[0][0][3].keys()): \n",
    "    if tag == \"Real_nTrials\":\n",
    "        pass \n",
    "    else: \n",
    "        extract_licks (Lick_tStates_perTrial_with_direction,tag)"
   ]
  },
  {
   "cell_type": "code",
   "execution_count": 12,
   "metadata": {
    "execution": {
     "iopub.execute_input": "2020-05-27T01:37:53.075466Z",
     "iopub.status.busy": "2020-05-27T01:37:53.073941Z",
     "iopub.status.idle": "2020-05-27T01:37:53.079267Z",
     "shell.execute_reply": "2020-05-27T01:37:53.078231Z"
    },
    "papermill": {
     "duration": 0.026675,
     "end_time": "2020-05-27T01:37:53.079380",
     "exception": false,
     "start_time": "2020-05-27T01:37:53.052705",
     "status": "completed"
    },
    "tags": []
   },
   "outputs": [],
   "source": [
    "root = Path(data_dir_output+\"/\"+mouse+\"/\"+data_day+'/'+str(HowManyBack)+\"_Back\")\n",
    "d = mouse+\"_\"+date+'Notebook_6_d'+'_seq'+seq_str+'.pickle'\n",
    "my_path = root / d \n",
    "my_file = open(my_path, 'wb')\n",
    "my_file = pickle.dump((),my_file)"
   ]
  },
  {
   "cell_type": "code",
   "execution_count": null,
   "metadata": {
    "papermill": {
     "duration": 0.012553,
     "end_time": "2020-05-27T01:37:53.106806",
     "exception": false,
     "start_time": "2020-05-27T01:37:53.094253",
     "status": "completed"
    },
    "tags": []
   },
   "outputs": [],
   "source": []
  }
 ],
 "metadata": {
  "celltoolbar": "Tags",
  "kernelspec": {
   "display_name": "Python 3",
   "language": "python",
   "name": "python3"
  },
  "language_info": {
   "codemirror_mode": {
    "name": "ipython",
    "version": 3
   },
   "file_extension": ".py",
   "mimetype": "text/x-python",
   "name": "python",
   "nbconvert_exporter": "python",
   "pygments_lexer": "ipython3",
   "version": "3.7.3"
  },
  "papermill": {
   "duration": 6.494108,
   "end_time": "2020-05-27T01:37:53.234160",
   "environment_variables": {},
   "exception": null,
   "input_path": "/Users/gilmandelbaum/github/analysis-pipeline-for-optogenetics_ex/Nb_6x_extract_specific_information/Notebook_6_d.ipynb",
   "output_path": "TestOutPut.ipynb",
   "parameters": {
    "HowManyBack": 1,
    "Nb0": "a",
    "Nb1": [
     "a",
     "e"
    ],
    "Nb2": "a",
    "Nb4": [
     "a",
     "b",
     "c"
    ],
    "Nb5": "a",
    "Nb6": "d",
    "Tags": [
     "Reward_NoReward_tag",
     "ENL_tag",
     "Sel_tag"
    ],
    "Trials_filter": "allTrials",
    "TypeOfStim": "Consumption",
    "data_day": "2019_10_25__T253",
    "data_dir_input": "/Users/gilmandelbaum/Dropbox (HMS)/0.STRpaper/4.Optogenetics/opto_consumption_final/0.FullDataSet/OptoConsump_raw",
    "data_dir_output": "/Users/gilmandelbaum/Dropbox (HMS)/0.STRpaper/4.Optogenetics/opto_consumption_final/0.FullDataSet/OptoConsump_output",
    "date": "2019_10_25",
    "drop2blocks": "no",
    "drop2lastblocks": "no",
    "mouse": "T253",
    "seq_str": "0a1ae2a4abc5a6d"
   },
   "start_time": "2020-05-27T01:37:46.740052",
   "version": "2.1.1"
  }
 },
 "nbformat": 4,
 "nbformat_minor": 2
}