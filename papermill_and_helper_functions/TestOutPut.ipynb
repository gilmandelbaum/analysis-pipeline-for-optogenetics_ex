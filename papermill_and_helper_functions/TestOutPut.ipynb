{
 "cells": [
  {
   "cell_type": "markdown",
   "metadata": {
    "papermill": {
     "duration": 0.011691,
     "end_time": "2020-05-25T17:37:19.730982",
     "exception": false,
     "start_time": "2020-05-25T17:37:19.719291",
     "status": "completed"
    },
    "tags": []
   },
   "source": [
    "# Notebook 6 d"
   ]
  },
  {
   "cell_type": "code",
   "execution_count": 1,
   "metadata": {
    "papermill": {
     "duration": 0.022599,
     "end_time": "2020-05-25T17:37:19.764445",
     "exception": false,
     "start_time": "2020-05-25T17:37:19.741846",
     "status": "completed"
    },
    "tags": [
     "parameters"
    ]
   },
   "outputs": [],
   "source": [
    "mouse = 'T183'\n",
    "data_day = '2019_03_14__T183'\n",
    "date = '2019_03_14'\n",
    "\n",
    "data_dir_output = '/Users/gilmandelbaum/Desktop/optoOutPut'\n",
    "\n",
    "HowManyBack=1 \n",
    "\n",
    "Nb5 =\"a\"\n",
    "\n",
    "seq_str= '0a1ad2a4abc5a6d'"
   ]
  },
  {
   "cell_type": "code",
   "execution_count": 2,
   "metadata": {
    "papermill": {
     "duration": 0.018945,
     "end_time": "2020-05-25T17:37:19.793284",
     "exception": false,
     "start_time": "2020-05-25T17:37:19.774339",
     "status": "completed"
    },
    "tags": [
     "injected-parameters"
    ]
   },
   "outputs": [],
   "source": [
    "# Parameters\n",
    "data_dir_input = \"/Users/gilmandelbaum/Desktop/opto_final/OptoConsump\"\n",
    "data_dir_output = \"/Users/gilmandelbaum/Desktop/opto_final/OptoConsump_output_8\"\n",
    "drop2blocks = \"no\"\n",
    "drop2lastblocks = \"no\"\n",
    "seq_str = \"0a1ad2a4abc5a6d\"\n",
    "Tags = [\"Reward_NoReward_tag\", \"ENL_tag\", \"Sel_tag\"]\n",
    "HowManyBack = 1\n",
    "Nb0 = \"a\"\n",
    "Nb1 = [\"a\", \"d\"]\n",
    "Nb2 = \"a\"\n",
    "Nb4 = [\"a\", \"b\", \"c\"]\n",
    "Nb5 = \"a\"\n",
    "Nb6 = \"d\"\n",
    "Trials_filter = \"allTrials\"\n",
    "TypeOfStim = \"Consumption\"\n",
    "mouse = \"T183\"\n",
    "data_day = \"2019_03_19__T183\"\n",
    "date = \"2019_03_19\"\n"
   ]
  },
  {
   "cell_type": "code",
   "execution_count": 3,
   "metadata": {
    "papermill": {
     "duration": 0.367063,
     "end_time": "2020-05-25T17:37:20.168557",
     "exception": false,
     "start_time": "2020-05-25T17:37:19.801494",
     "status": "completed"
    },
    "tags": []
   },
   "outputs": [],
   "source": [
    "from pathlib import Path\n",
    "import pickle\n",
    "import itertools\n",
    "import pandas as pd \n",
    "import os"
   ]
  },
  {
   "cell_type": "code",
   "execution_count": 4,
   "metadata": {
    "papermill": {
     "duration": 0.013212,
     "end_time": "2020-05-25T17:37:20.189806",
     "exception": false,
     "start_time": "2020-05-25T17:37:20.176594",
     "status": "completed"
    },
    "tags": []
   },
   "outputs": [],
   "source": [
    "import Notebook_6_helper_functions as Nb_6"
   ]
  },
  {
   "cell_type": "code",
   "execution_count": 5,
   "metadata": {
    "papermill": {
     "duration": 0.063959,
     "end_time": "2020-05-25T17:37:20.260096",
     "exception": false,
     "start_time": "2020-05-25T17:37:20.196137",
     "status": "completed"
    },
    "tags": []
   },
   "outputs": [
    {
     "name": "stdout",
     "output_type": "stream",
     "text": [
      "loaded notebook 5\n"
     ]
    }
   ],
   "source": [
    "root = Path(data_dir_output+\"/\"+mouse+\"/\"+data_day+'/'+str(HowManyBack)+\"_Back\")\n",
    "d = mouse+\"_\"+date+\"Notebook_5_\"+Nb5+\"_\"+\"seq\"+seq_str[:seq_str.index('6')]+'.pickle'\n",
    "my_path = root / d \n",
    "fileToOpen = open(my_path, 'rb')\n",
    "Lick_RL_IC_tt_periods = pickle.load(fileToOpen)\n",
    "print (\"loaded notebook 5\")"
   ]
  },
  {
   "cell_type": "code",
   "execution_count": 6,
   "metadata": {
    "papermill": {
     "duration": 0.013297,
     "end_time": "2020-05-25T17:37:20.279794",
     "exception": false,
     "start_time": "2020-05-25T17:37:20.266497",
     "status": "completed"
    },
    "tags": []
   },
   "outputs": [],
   "source": [
    "combination_stringlist = Nb_6.combinations_string(HowManyBack)"
   ]
  },
  {
   "cell_type": "code",
   "execution_count": 7,
   "metadata": {
    "papermill": {
     "duration": 0.317393,
     "end_time": "2020-05-25T17:37:20.604528",
     "exception": false,
     "start_time": "2020-05-25T17:37:20.287135",
     "status": "completed"
    },
    "tags": []
   },
   "outputs": [],
   "source": [
    "Lick_tStates_perTrial_with_direction= Nb_6.get_tStates_perTrial_per_period_df_with_direction(Lick_RL_IC_tt_periods)"
   ]
  },
  {
   "cell_type": "code",
   "execution_count": 8,
   "metadata": {
    "papermill": {
     "duration": 0.01572,
     "end_time": "2020-05-25T17:37:20.627634",
     "exception": false,
     "start_time": "2020-05-25T17:37:20.611914",
     "status": "completed"
    },
    "tags": []
   },
   "outputs": [],
   "source": [
    "file = \"each_lick_per_period_with_direction\"+\"_\"+seq_str\n",
    "cache_dir_plt = os.path.join(data_dir_output+'/'+mouse+\"/\"+data_day+'/'+str(HowManyBack)+'_Back/'+\"analysis\", file)\n",
    "if not os.path.exists(cache_dir_plt):\n",
    "    os.makedirs(cache_dir_plt)"
   ]
  },
  {
   "cell_type": "code",
   "execution_count": 9,
   "metadata": {
    "papermill": {
     "duration": 0.017812,
     "end_time": "2020-05-25T17:37:20.652100",
     "exception": false,
     "start_time": "2020-05-25T17:37:20.634288",
     "status": "completed"
    },
    "tags": []
   },
   "outputs": [],
   "source": [
    "root = Path(data_dir_output+\"/\"+mouse+\"/\"+data_day+'/'+str(HowManyBack)+\"_Back\"+\"/\"+\"analysis\"+\"/\"+file+\"/\")\n",
    "d = \"directionOfLicks_with_direction.pickle\"\n",
    "my_path = root / d \n",
    "my_file = open(my_path, 'wb')\n",
    "my_file = pickle.dump((Lick_tStates_perTrial_with_direction),my_file)"
   ]
  },
  {
   "cell_type": "code",
   "execution_count": 10,
   "metadata": {
    "papermill": {
     "duration": 0.016148,
     "end_time": "2020-05-25T17:37:20.674678",
     "exception": false,
     "start_time": "2020-05-25T17:37:20.658530",
     "status": "completed"
    },
    "tags": []
   },
   "outputs": [],
   "source": [
    "def extract_licks (Lick_tStates_perTrial_with_direction,tag):\n",
    "    right_left = [0,0,1,1]\n",
    "    trial_type = [3,2,3,2]\n",
    "    direction_stay_or_switch = [\"stay_right\",\"switch_right\",\"stay_left\",\"switch_left\"]\n",
    "    \n",
    "    for (rl, tt, direc) in zip(right_left,trial_type,direction_stay_or_switch):\n",
    "        condition= Lick_tStates_perTrial_with_direction[rl][0][tt][tag]\n",
    "        if condition.empty==True:\n",
    "            condition_df = pd.DataFrame()\n",
    "        else:\n",
    "            condition = condition.reset_index()\n",
    "            condition_df = pd.DataFrame(condition)\n",
    "            condition_df = condition_df.drop([\"index\"], axis=1)\n",
    "            \n",
    "        condition_df.to_csv(data_dir_output+\"/\"+mouse+\"/\"+data_day+'/'+str(HowManyBack)+\"_Back\"+\"/\"+\"analysis\"+\"/\"+\"each_lick_per_period_with_direction\"+\"_\"+seq_str+\"/\"+tag+\"_\"+direc+\".csv\")\n",
    "        condition_df = pd.DataFrame()\n",
    "    return ()"
   ]
  },
  {
   "cell_type": "code",
   "execution_count": 11,
   "metadata": {
    "papermill": {
     "duration": 0.041476,
     "end_time": "2020-05-25T17:37:20.722847",
     "exception": false,
     "start_time": "2020-05-25T17:37:20.681371",
     "status": "completed"
    },
    "tags": []
   },
   "outputs": [],
   "source": [
    "for tag in list(Lick_tStates_perTrial_with_direction[0][0][3].keys()): \n",
    "    if tag == \"Real_nTrials\":\n",
    "        pass \n",
    "    else: \n",
    "        extract_licks (Lick_tStates_perTrial_with_direction,tag)"
   ]
  },
  {
   "cell_type": "code",
   "execution_count": 12,
   "metadata": {
    "papermill": {
     "duration": 0.015919,
     "end_time": "2020-05-25T17:37:20.746925",
     "exception": false,
     "start_time": "2020-05-25T17:37:20.731006",
     "status": "completed"
    },
    "tags": []
   },
   "outputs": [],
   "source": [
    "root = Path(data_dir_output+\"/\"+mouse+\"/\"+data_day+'/'+str(HowManyBack)+\"_Back\")\n",
    "d = mouse+\"_\"+date+'Notebook_6_d'+'_seq'+seq_str+'.pickle'\n",
    "my_path = root / d \n",
    "my_file = open(my_path, 'wb')\n",
    "my_file = pickle.dump((),my_file)"
   ]
  },
  {
   "cell_type": "code",
   "execution_count": null,
   "metadata": {
    "papermill": {
     "duration": 0.006521,
     "end_time": "2020-05-25T17:37:20.760399",
     "exception": false,
     "start_time": "2020-05-25T17:37:20.753878",
     "status": "completed"
    },
    "tags": []
   },
   "outputs": [],
   "source": []
  }
 ],
 "metadata": {
  "celltoolbar": "Tags",
  "kernelspec": {
   "display_name": "Python 3",
   "language": "python",
   "name": "python3"
  },
  "language_info": {
   "codemirror_mode": {
    "name": "ipython",
    "version": 3
   },
   "file_extension": ".py",
   "mimetype": "text/x-python",
   "name": "python",
   "nbconvert_exporter": "python",
   "pygments_lexer": "ipython3",
   "version": "3.7.3"
  },
  "papermill": {
   "duration": 2.229656,
   "end_time": "2020-05-25T17:37:21.081557",
   "environment_variables": {},
   "exception": null,
   "input_path": "/Users/gilmandelbaum/github/analysis-pipeline-for-optogenetics_ex/Nb_6x_extract_specific_information/Notebook_6_d.ipynb",
   "output_path": "TestOutPut.ipynb",
   "parameters": {
    "HowManyBack": 1,
    "Nb0": "a",
    "Nb1": [
     "a",
     "d"
    ],
    "Nb2": "a",
    "Nb4": [
     "a",
     "b",
     "c"
    ],
    "Nb5": "a",
    "Nb6": "d",
    "Tags": [
     "Reward_NoReward_tag",
     "ENL_tag",
     "Sel_tag"
    ],
    "Trials_filter": "allTrials",
    "TypeOfStim": "Consumption",
    "data_day": "2019_03_19__T183",
    "data_dir_input": "/Users/gilmandelbaum/Desktop/opto_final/OptoConsump",
    "data_dir_output": "/Users/gilmandelbaum/Desktop/opto_final/OptoConsump_output_8",
    "date": "2019_03_19",
    "drop2blocks": "no",
    "drop2lastblocks": "no",
    "mouse": "T183",
    "seq_str": "0a1ad2a4abc5a6d"
   },
   "start_time": "2020-05-25T17:37:18.851901",
   "version": "1.0.1"
  }
 },
 "nbformat": 4,
 "nbformat_minor": 2
}