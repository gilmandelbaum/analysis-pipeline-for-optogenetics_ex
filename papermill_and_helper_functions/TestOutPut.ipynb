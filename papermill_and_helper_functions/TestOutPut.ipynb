{
 "cells": [
  {
   "cell_type": "markdown",
   "metadata": {
    "papermill": {
     "duration": 0.011309,
     "end_time": "2020-05-15T06:12:39.093973",
     "exception": false,
     "start_time": "2020-05-15T06:12:39.082664",
     "status": "completed"
    },
    "tags": []
   },
   "source": [
    "# Notebook 6 c"
   ]
  },
  {
   "cell_type": "code",
   "execution_count": 1,
   "metadata": {
    "papermill": {
     "duration": 0.017926,
     "end_time": "2020-05-15T06:12:39.122351",
     "exception": false,
     "start_time": "2020-05-15T06:12:39.104425",
     "status": "completed"
    },
    "tags": [
     "parameters"
    ]
   },
   "outputs": [],
   "source": [
    "mouse = 'T183'\n",
    "data_day = '2019_03_14__T183'\n",
    "date = '2019_03_14'\n",
    "\n",
    "data_dir_output = '/Users/gilmandelbaum/Desktop/optoOutPut'\n",
    "\n",
    "HowManyBack=1 \n",
    "\n",
    "Nb5 =\"a\"\n",
    "\n",
    "seq_str= '0a1ad2a4abc5a6c'"
   ]
  },
  {
   "cell_type": "code",
   "execution_count": 2,
   "metadata": {
    "papermill": {
     "duration": 0.016483,
     "end_time": "2020-05-15T06:12:39.147256",
     "exception": false,
     "start_time": "2020-05-15T06:12:39.130773",
     "status": "completed"
    },
    "tags": [
     "injected-parameters"
    ]
   },
   "outputs": [],
   "source": [
    "# Parameters\n",
    "data_dir_input = \"/Users/gilmandelbaum/Desktop/opto_final/OptoConsump\"\n",
    "data_dir_output = \"/Users/gilmandelbaum/Desktop/opto_final/OptoConsump_output_5\"\n",
    "drop2blocks = \"no\"\n",
    "drop2lastblocks = \"no\"\n",
    "seq_str = \"0a1ad2a4abc5a6c\"\n",
    "Tags = [\"Reward_NoReward_tag\", \"ENL_tag\", \"Sel_tag\"]\n",
    "HowManyBack = 1\n",
    "Nb0 = \"a\"\n",
    "Nb1 = [\"a\", \"d\"]\n",
    "Nb2 = \"a\"\n",
    "Nb4 = [\"a\", \"b\", \"c\"]\n",
    "Nb5 = \"a\"\n",
    "Nb6 = \"c\"\n",
    "Trials_filter = \"allTrials\"\n",
    "TypeOfStim = \"Consumption\"\n",
    "mouse = \"T183\"\n",
    "data_day = \"2019_03_19__T183\"\n",
    "date = \"2019_03_19\"\n"
   ]
  },
  {
   "cell_type": "code",
   "execution_count": 3,
   "metadata": {
    "papermill": {
     "duration": 0.388141,
     "end_time": "2020-05-15T06:12:39.543386",
     "exception": false,
     "start_time": "2020-05-15T06:12:39.155245",
     "status": "completed"
    },
    "tags": []
   },
   "outputs": [],
   "source": [
    "from pathlib import Path\n",
    "import pickle\n",
    "import itertools\n",
    "import pandas as pd \n",
    "import os"
   ]
  },
  {
   "cell_type": "code",
   "execution_count": 4,
   "metadata": {
    "papermill": {
     "duration": 0.014363,
     "end_time": "2020-05-15T06:12:39.566077",
     "exception": false,
     "start_time": "2020-05-15T06:12:39.551714",
     "status": "completed"
    },
    "tags": []
   },
   "outputs": [],
   "source": [
    "import Notebook_6_helper_functions as Nb_6"
   ]
  },
  {
   "cell_type": "code",
   "execution_count": 5,
   "metadata": {
    "papermill": {
     "duration": 0.070897,
     "end_time": "2020-05-15T06:12:39.644102",
     "exception": false,
     "start_time": "2020-05-15T06:12:39.573205",
     "status": "completed"
    },
    "tags": []
   },
   "outputs": [
    {
     "name": "stdout",
     "output_type": "stream",
     "text": [
      "loaded notebook 5\n"
     ]
    }
   ],
   "source": [
    "root = Path(data_dir_output+\"/\"+mouse+\"/\"+data_day+'/'+str(HowManyBack)+\"_Back\")\n",
    "d = mouse+\"_\"+date+\"Notebook_5_\"+Nb5+\"_\"+\"seq\"+seq_str[:seq_str.index('6')]+'.pickle'\n",
    "my_path = root / d \n",
    "fileToOpen = open(my_path, 'rb')\n",
    "Lick_RL_IC_tt_periods = pickle.load(fileToOpen)\n",
    "print (\"loaded notebook 5\")"
   ]
  },
  {
   "cell_type": "code",
   "execution_count": 6,
   "metadata": {
    "papermill": {
     "duration": 0.016342,
     "end_time": "2020-05-15T06:12:39.670916",
     "exception": false,
     "start_time": "2020-05-15T06:12:39.654574",
     "status": "completed"
    },
    "tags": []
   },
   "outputs": [],
   "source": [
    "combination_stringlist = Nb_6.combinations_string(HowManyBack)"
   ]
  },
  {
   "cell_type": "code",
   "execution_count": 7,
   "metadata": {
    "papermill": {
     "duration": 0.52321,
     "end_time": "2020-05-15T06:12:40.202593",
     "exception": false,
     "start_time": "2020-05-15T06:12:39.679383",
     "status": "completed"
    },
    "tags": []
   },
   "outputs": [],
   "source": [
    "Lick_RL_IC_tt_periods_per_trial= Nb_6.count_licks_perPeriod_with_direction(Lick_RL_IC_tt_periods)"
   ]
  },
  {
   "cell_type": "code",
   "execution_count": 8,
   "metadata": {
    "papermill": {
     "duration": 0.041711,
     "end_time": "2020-05-15T06:12:40.252548",
     "exception": false,
     "start_time": "2020-05-15T06:12:40.210837",
     "status": "completed"
    },
    "tags": []
   },
   "outputs": [],
   "source": [
    "count_licks_perPeriod_with_direction = Nb_6.count_licks_perPeriod_with_direction_make_df(Lick_RL_IC_tt_periods_per_trial,combination_stringlist)"
   ]
  },
  {
   "cell_type": "code",
   "execution_count": 9,
   "metadata": {
    "papermill": {
     "duration": 0.014546,
     "end_time": "2020-05-15T06:12:40.275099",
     "exception": false,
     "start_time": "2020-05-15T06:12:40.260553",
     "status": "completed"
    },
    "tags": []
   },
   "outputs": [],
   "source": [
    "file = \"count_licks_perPeriod_with_direction\"+\"_\"+seq_str\n",
    "cache_dir_plt = os.path.join(data_dir_output+'/'+mouse+\"/\"+data_day+'/'+str(HowManyBack)+'_Back/', file)\n",
    "if not os.path.exists(cache_dir_plt):\n",
    "    os.makedirs(cache_dir_plt)"
   ]
  },
  {
   "cell_type": "code",
   "execution_count": 10,
   "metadata": {
    "papermill": {
     "duration": 0.019325,
     "end_time": "2020-05-15T06:12:40.303398",
     "exception": false,
     "start_time": "2020-05-15T06:12:40.284073",
     "status": "completed"
    },
    "tags": []
   },
   "outputs": [],
   "source": [
    "count_licks_perPeriod_with_direction.to_csv(data_dir_output+'/'+mouse+\"/\"+data_day+'/'+str(HowManyBack)+'_Back/'+\"count_licks_perPeriod_with_direction\"+\"_\"+seq_str+\"/\"+\"count_licks_perPeriod_with_direction.csv\")"
   ]
  },
  {
   "cell_type": "code",
   "execution_count": 11,
   "metadata": {
    "papermill": {
     "duration": 0.021009,
     "end_time": "2020-05-15T06:12:40.333234",
     "exception": false,
     "start_time": "2020-05-15T06:12:40.312225",
     "status": "completed"
    },
    "tags": []
   },
   "outputs": [],
   "source": [
    "root = Path(data_dir_output+\"/\"+mouse+\"/\"+data_day+'/'+str(HowManyBack)+\"_Back\"+\"/\"+file+\"/\")\n",
    "d = \"count_licks_perPeriod_with_direction.pickle\"\n",
    "my_path = root / d \n",
    "my_file = open(my_path, 'wb')\n",
    "my_file = pickle.dump((count_licks_perPeriod_with_direction),my_file)"
   ]
  },
  {
   "cell_type": "code",
   "execution_count": 12,
   "metadata": {
    "papermill": {
     "duration": 0.014911,
     "end_time": "2020-05-15T06:12:40.355430",
     "exception": false,
     "start_time": "2020-05-15T06:12:40.340519",
     "status": "completed"
    },
    "tags": []
   },
   "outputs": [],
   "source": [
    "root = Path(data_dir_output+\"/\"+mouse+\"/\"+data_day+'/'+str(HowManyBack)+\"_Back\")\n",
    "d = mouse+\"_\"+date+'Notebook_6_c'+'_seq'+seq_str+'.pickle'\n",
    "my_path = root / d \n",
    "my_file = open(my_path, 'wb')\n",
    "my_file = pickle.dump((),my_file)"
   ]
  },
  {
   "cell_type": "code",
   "execution_count": null,
   "metadata": {
    "papermill": {
     "duration": 0.007457,
     "end_time": "2020-05-15T06:12:40.370409",
     "exception": false,
     "start_time": "2020-05-15T06:12:40.362952",
     "status": "completed"
    },
    "tags": []
   },
   "outputs": [],
   "source": []
  }
 ],
 "metadata": {
  "celltoolbar": "Tags",
  "kernelspec": {
   "display_name": "Python 3",
   "language": "python",
   "name": "python3"
  },
  "language_info": {
   "codemirror_mode": {
    "name": "ipython",
    "version": 3
   },
   "file_extension": ".py",
   "mimetype": "text/x-python",
   "name": "python",
   "nbconvert_exporter": "python",
   "pygments_lexer": "ipython3",
   "version": "3.7.3"
  },
  "papermill": {
   "duration": 2.362985,
   "end_time": "2020-05-15T06:12:40.695019",
   "environment_variables": {},
   "exception": null,
   "input_path": "/Users/gilmandelbaum/GitHub/optogenetics_analysis/Nb_6x_extract_specific_information/Notebook_6_c.ipynb",
   "output_path": "TestOutPut.ipynb",
   "parameters": {
    "HowManyBack": 1,
    "Nb0": "a",
    "Nb1": [
     "a",
     "d"
    ],
    "Nb2": "a",
    "Nb4": [
     "a",
     "b",
     "c"
    ],
    "Nb5": "a",
    "Nb6": "c",
    "Tags": [
     "Reward_NoReward_tag",
     "ENL_tag",
     "Sel_tag"
    ],
    "Trials_filter": "allTrials",
    "TypeOfStim": "Consumption",
    "data_day": "2019_03_19__T183",
    "data_dir_input": "/Users/gilmandelbaum/Desktop/opto_final/OptoConsump",
    "data_dir_output": "/Users/gilmandelbaum/Desktop/opto_final/OptoConsump_output_5",
    "date": "2019_03_19",
    "drop2blocks": "no",
    "drop2lastblocks": "no",
    "mouse": "T183",
    "seq_str": "0a1ad2a4abc5a6c"
   },
   "start_time": "2020-05-15T06:12:38.332034",
   "version": "1.0.1"
  }
 },
 "nbformat": 4,
 "nbformat_minor": 2
}