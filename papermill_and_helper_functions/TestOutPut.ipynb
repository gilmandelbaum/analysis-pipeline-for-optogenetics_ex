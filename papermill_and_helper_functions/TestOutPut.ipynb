{
 "cells": [
  {
   "cell_type": "markdown",
   "metadata": {
    "papermill": {
     "duration": 0.010719,
     "end_time": "2020-05-15T04:49:46.963618",
     "exception": false,
     "start_time": "2020-05-15T04:49:46.952899",
     "status": "completed"
    },
    "tags": []
   },
   "source": [
    "# Notebook 6 a"
   ]
  },
  {
   "cell_type": "code",
   "execution_count": 1,
   "metadata": {
    "papermill": {
     "duration": 0.016118,
     "end_time": "2020-05-15T04:49:46.989344",
     "exception": false,
     "start_time": "2020-05-15T04:49:46.973226",
     "status": "completed"
    },
    "tags": [
     "parameters"
    ]
   },
   "outputs": [],
   "source": [
    "mouse = 'T183'\n",
    "data_day = '2019_03_14__T183'\n",
    "date = '2019_03_14'\n",
    "\n",
    "data_dir_output = '/Users/gilmandelbaum/Desktop/optoOutPut'\n",
    "\n",
    "HowManyBack=1 \n",
    "\n",
    "Nb5 =\"a\"\n",
    "\n",
    "seq_str= '0a1ad2a4abc5a6a'"
   ]
  },
  {
   "cell_type": "code",
   "execution_count": 2,
   "metadata": {
    "papermill": {
     "duration": 0.016915,
     "end_time": "2020-05-15T04:49:47.013941",
     "exception": false,
     "start_time": "2020-05-15T04:49:46.997026",
     "status": "completed"
    },
    "tags": [
     "injected-parameters"
    ]
   },
   "outputs": [],
   "source": [
    "# Parameters\n",
    "data_dir_input = \"/Users/gilmandelbaum/Desktop/opto_final/OptoConsump\"\n",
    "data_dir_output = \"/Users/gilmandelbaum/Desktop/opto_final/OptoConsump_output_3\"\n",
    "drop2blocks = \"no\"\n",
    "drop2lastblocks = \"no\"\n",
    "seq_str = \"0a1ad2a4abc5a6a\"\n",
    "Tags = [\"Reward_NoReward_tag\", \"ENL_tag\", \"Sel_tag\"]\n",
    "HowManyBack = 1\n",
    "Nb0 = \"a\"\n",
    "Nb1 = [\"a\", \"d\"]\n",
    "Nb2 = \"a\"\n",
    "Nb4 = [\"a\", \"b\", \"c\"]\n",
    "Nb5 = \"a\"\n",
    "Nb6 = \"a\"\n",
    "Trials_filter = \"allTrials\"\n",
    "TypeOfStim = \"Consumption\"\n",
    "mouse = \"T183\"\n",
    "data_day = \"2019_03_19__T183\"\n",
    "date = \"2019_03_19\"\n"
   ]
  },
  {
   "cell_type": "code",
   "execution_count": 3,
   "metadata": {
    "papermill": {
     "duration": 0.372583,
     "end_time": "2020-05-15T04:49:47.393788",
     "exception": false,
     "start_time": "2020-05-15T04:49:47.021205",
     "status": "completed"
    },
    "tags": []
   },
   "outputs": [],
   "source": [
    "from pathlib import Path\n",
    "import pickle\n",
    "import itertools\n",
    "import pandas as pd \n",
    "import os"
   ]
  },
  {
   "cell_type": "code",
   "execution_count": 4,
   "metadata": {
    "papermill": {
     "duration": 0.014145,
     "end_time": "2020-05-15T04:49:47.415434",
     "exception": false,
     "start_time": "2020-05-15T04:49:47.401289",
     "status": "completed"
    },
    "tags": []
   },
   "outputs": [],
   "source": [
    "import Notebook_6_helper_functions as Nb_6"
   ]
  },
  {
   "cell_type": "code",
   "execution_count": 5,
   "metadata": {
    "papermill": {
     "duration": 0.067982,
     "end_time": "2020-05-15T04:49:47.490280",
     "exception": false,
     "start_time": "2020-05-15T04:49:47.422298",
     "status": "completed"
    },
    "tags": []
   },
   "outputs": [
    {
     "name": "stdout",
     "output_type": "stream",
     "text": [
      "loaded notebook 5\n"
     ]
    }
   ],
   "source": [
    "root = Path(data_dir_output+\"/\"+mouse+\"/\"+data_day+'/'+str(HowManyBack)+\"_Back\")\n",
    "d = mouse+\"_\"+date+\"Notebook_5_\"+Nb5+\"_\"+\"seq\"+seq_str[:seq_str.index('6')]+'.pickle'\n",
    "my_path = root / d \n",
    "fileToOpen = open(my_path, 'rb')\n",
    "Lick_RL_IC_tt_periods = pickle.load(fileToOpen)\n",
    "print (\"loaded notebook 5\")"
   ]
  },
  {
   "cell_type": "code",
   "execution_count": 6,
   "metadata": {
    "papermill": {
     "duration": 0.290842,
     "end_time": "2020-05-15T04:49:47.789097",
     "exception": false,
     "start_time": "2020-05-15T04:49:47.498255",
     "status": "completed"
    },
    "tags": []
   },
   "outputs": [],
   "source": [
    "#make [R/L][IPSI/CONTRA][trial type][period] data frames. Each column is a trial. \n",
    "Lick_tStates_perTrial = Nb_6.get_tStates_perTrial_per_period_df(Lick_RL_IC_tt_periods)"
   ]
  },
  {
   "cell_type": "code",
   "execution_count": 7,
   "metadata": {
    "papermill": {
     "duration": 0.020125,
     "end_time": "2020-05-15T04:49:47.816146",
     "exception": false,
     "start_time": "2020-05-15T04:49:47.796021",
     "status": "completed"
    },
    "tags": []
   },
   "outputs": [
    {
     "data": {
      "text/plain": [
       "dict_keys(['Real_nTrials', 'Reward_NoReward_tag', 'ENL_tag', 'Sel_tag'])"
      ]
     },
     "execution_count": 7,
     "metadata": {},
     "output_type": "execute_result"
    }
   ],
   "source": [
    "Lick_tStates_perTrial[1][0][3].keys()"
   ]
  },
  {
   "cell_type": "code",
   "execution_count": 8,
   "metadata": {
    "papermill": {
     "duration": 0.01405,
     "end_time": "2020-05-15T04:49:47.837308",
     "exception": false,
     "start_time": "2020-05-15T04:49:47.823258",
     "status": "completed"
    },
    "tags": []
   },
   "outputs": [],
   "source": [
    "file = \"timeOfLicks\"+\"_\"+seq_str\n",
    "cache_dir_plt = os.path.join(data_dir_output+'/'+mouse+\"/\"+data_day+'/'+str(HowManyBack)+'_Back/', file)\n",
    "if not os.path.exists(cache_dir_plt):\n",
    "    os.makedirs(cache_dir_plt)"
   ]
  },
  {
   "cell_type": "code",
   "execution_count": 9,
   "metadata": {
    "papermill": {
     "duration": 0.018408,
     "end_time": "2020-05-15T04:49:47.863091",
     "exception": false,
     "start_time": "2020-05-15T04:49:47.844683",
     "status": "completed"
    },
    "tags": []
   },
   "outputs": [],
   "source": [
    "root = Path(data_dir_output+\"/\"+mouse+\"/\"+data_day+'/'+str(HowManyBack)+\"_Back\"+\"/\"+file+\"/\")\n",
    "d = \"timeOfLicks.pickle\"\n",
    "my_path = root / d \n",
    "my_file = open(my_path, 'wb')\n",
    "my_file = pickle.dump((Lick_tStates_perTrial),my_file)"
   ]
  },
  {
   "cell_type": "code",
   "execution_count": 10,
   "metadata": {
    "papermill": {
     "duration": 0.013833,
     "end_time": "2020-05-15T04:49:47.883916",
     "exception": false,
     "start_time": "2020-05-15T04:49:47.870083",
     "status": "completed"
    },
    "tags": []
   },
   "outputs": [],
   "source": [
    "root = Path(data_dir_output+\"/\"+mouse+\"/\"+data_day+'/'+str(HowManyBack)+\"_Back\")\n",
    "d = mouse+\"_\"+date+'Notebook_6_a'+'_seq'+seq_str+'.pickle'\n",
    "my_path = root / d \n",
    "my_file = open(my_path, 'wb')\n",
    "my_file = pickle.dump((),my_file)"
   ]
  },
  {
   "cell_type": "code",
   "execution_count": 11,
   "metadata": {
    "papermill": {
     "duration": 0.015183,
     "end_time": "2020-05-15T04:49:47.905718",
     "exception": false,
     "start_time": "2020-05-15T04:49:47.890535",
     "status": "completed"
    },
    "tags": []
   },
   "outputs": [],
   "source": [
    "def extract_times_of_licks (Lick_tStates_perTrial,tag):\n",
    "    right_left = [0,0,1,1]\n",
    "    trial_type = [3,2,3,2]\n",
    "    direction_stay_or_switch = [\"stay_right\",\"switch_right\",\"stay_left\",\"switch_left\"]\n",
    "    \n",
    "    for (rl, tt, direc) in zip(right_left,trial_type,direction_stay_or_switch):\n",
    "        condition= Lick_tStates_perTrial[rl][0][tt][tag]\n",
    "        if condition.empty==True:\n",
    "            condition_df = pd.DataFrame()\n",
    "        else:\n",
    "            condition = condition.reset_index()\n",
    "            condition_df = pd.DataFrame(condition)\n",
    "            condition_df = condition_df.drop([\"index\"], axis=1)\n",
    "            \n",
    "        condition_df.to_csv(data_dir_output+\"/\"+mouse+\"/\"+data_day+'/'+str(HowManyBack)+\"_Back\"+\"/\"+\"timeOfLicks\"+\"_\"+seq_str+\"/\"+tag+\"_\"+direc+\".csv\")\n",
    "        condition_df = pd.DataFrame()\n",
    "    return ()"
   ]
  },
  {
   "cell_type": "code",
   "execution_count": 12,
   "metadata": {
    "papermill": {
     "duration": 0.043365,
     "end_time": "2020-05-15T04:49:47.957089",
     "exception": false,
     "start_time": "2020-05-15T04:49:47.913724",
     "status": "completed"
    },
    "scrolled": false,
    "tags": []
   },
   "outputs": [],
   "source": [
    "for tag in list(Lick_tStates_perTrial[0][0][3].keys()): \n",
    "    if tag == \"Real_nTrials\":\n",
    "        pass \n",
    "    else: \n",
    "        extract_times_of_licks (Lick_tStates_perTrial,tag)"
   ]
  }
 ],
 "metadata": {
  "celltoolbar": "Tags",
  "kernelspec": {
   "display_name": "Python 3",
   "language": "python",
   "name": "python3"
  },
  "language_info": {
   "codemirror_mode": {
    "name": "ipython",
    "version": 3
   },
   "file_extension": ".py",
   "mimetype": "text/x-python",
   "name": "python",
   "nbconvert_exporter": "python",
   "pygments_lexer": "ipython3",
   "version": "3.7.3"
  },
  "papermill": {
   "duration": 2.119965,
   "end_time": "2020-05-15T04:49:48.275994",
   "environment_variables": {},
   "exception": null,
   "input_path": "/Users/gilmandelbaum/GitHub/optogenetics_analysis/Nb6/Notebook_6_a.ipynb",
   "output_path": "TestOutPut.ipynb",
   "parameters": {
    "HowManyBack": 1,
    "Nb0": "a",
    "Nb1": [
     "a",
     "d"
    ],
    "Nb2": "a",
    "Nb4": [
     "a",
     "b",
     "c"
    ],
    "Nb5": "a",
    "Nb6": "a",
    "Tags": [
     "Reward_NoReward_tag",
     "ENL_tag",
     "Sel_tag"
    ],
    "Trials_filter": "allTrials",
    "TypeOfStim": "Consumption",
    "data_day": "2019_03_19__T183",
    "data_dir_input": "/Users/gilmandelbaum/Desktop/opto_final/OptoConsump",
    "data_dir_output": "/Users/gilmandelbaum/Desktop/opto_final/OptoConsump_output_3",
    "date": "2019_03_19",
    "drop2blocks": "no",
    "drop2lastblocks": "no",
    "mouse": "T183",
    "seq_str": "0a1ad2a4abc5a6a"
   },
   "start_time": "2020-05-15T04:49:46.156029",
   "version": "1.0.1"
  }
 },
 "nbformat": 4,
 "nbformat_minor": 2
}