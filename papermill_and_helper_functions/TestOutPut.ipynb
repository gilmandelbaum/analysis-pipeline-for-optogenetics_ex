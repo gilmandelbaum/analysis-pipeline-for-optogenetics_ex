{
 "cells": [
  {
   "cell_type": "markdown",
   "metadata": {
    "papermill": {
     "duration": 0.014654,
     "end_time": "2020-05-26T17:40:56.609614",
     "exception": false,
     "start_time": "2020-05-26T17:40:56.594960",
     "status": "completed"
    },
    "tags": []
   },
   "source": [
    "# Notebook 6 c"
   ]
  },
  {
   "cell_type": "code",
   "execution_count": 1,
   "metadata": {
    "papermill": {
     "duration": 0.016933,
     "end_time": "2020-05-26T17:40:56.637061",
     "exception": false,
     "start_time": "2020-05-26T17:40:56.620128",
     "status": "completed"
    },
    "tags": [
     "parameters"
    ]
   },
   "outputs": [],
   "source": [
    "mouse = 'T183'\n",
    "data_day = '2019_03_14__T183'\n",
    "date = '2019_03_14'\n",
    "\n",
    "data_dir_output = '/Users/gilmandelbaum/Desktop/optoOutPut'\n",
    "\n",
    "HowManyBack=1 \n",
    "\n",
    "Nb5 =\"a\"\n",
    "\n",
    "seq_str= '0a1ad2a4abc5a6c'"
   ]
  },
  {
   "cell_type": "code",
   "execution_count": 2,
   "metadata": {
    "papermill": {
     "duration": 0.017413,
     "end_time": "2020-05-26T17:40:56.662762",
     "exception": false,
     "start_time": "2020-05-26T17:40:56.645349",
     "status": "completed"
    },
    "tags": [
     "injected-parameters"
    ]
   },
   "outputs": [],
   "source": [
    "# Parameters\n",
    "data_dir_input = \"/Users/gilmandelbaum/Dropbox (HMS)/0.STRpaper/4.Optogenetics/opto_consumption_final/0.FullDataSet/OptoConsump_raw\"\n",
    "data_dir_output = \"/Users/gilmandelbaum/Dropbox (HMS)/0.STRpaper/4.Optogenetics/opto_consumption_final/0.FullDataSet/OptoConsump_output\"\n",
    "drop2blocks = \"no\"\n",
    "drop2lastblocks = \"no\"\n",
    "seq_str = \"0a1ae2a4abc5a6c\"\n",
    "Tags = [\"Reward_NoReward_tag\", \"ENL_tag\", \"Sel_tag\"]\n",
    "HowManyBack = 1\n",
    "Nb0 = \"a\"\n",
    "Nb1 = [\"a\", \"e\"]\n",
    "Nb2 = \"a\"\n",
    "Nb4 = [\"a\", \"b\", \"c\"]\n",
    "Nb5 = \"a\"\n",
    "Nb6 = \"c\"\n",
    "Trials_filter = \"allTrials\"\n",
    "TypeOfStim = \"Consumption\"\n",
    "mouse = \"T253\"\n",
    "data_day = \"2019_10_25__T253\"\n",
    "date = \"2019_10_25\"\n"
   ]
  },
  {
   "cell_type": "code",
   "execution_count": 3,
   "metadata": {
    "papermill": {
     "duration": 0.458043,
     "end_time": "2020-05-26T17:40:57.128653",
     "exception": false,
     "start_time": "2020-05-26T17:40:56.670610",
     "status": "completed"
    },
    "tags": []
   },
   "outputs": [],
   "source": [
    "from pathlib import Path\n",
    "import pickle\n",
    "import itertools\n",
    "import pandas as pd \n",
    "import os"
   ]
  },
  {
   "cell_type": "code",
   "execution_count": 4,
   "metadata": {
    "papermill": {
     "duration": 0.019891,
     "end_time": "2020-05-26T17:40:57.159129",
     "exception": false,
     "start_time": "2020-05-26T17:40:57.139238",
     "status": "completed"
    },
    "tags": []
   },
   "outputs": [],
   "source": [
    "import Notebook_6_helper_functions as Nb_6"
   ]
  },
  {
   "cell_type": "code",
   "execution_count": 5,
   "metadata": {
    "papermill": {
     "duration": 0.090775,
     "end_time": "2020-05-26T17:40:57.262216",
     "exception": false,
     "start_time": "2020-05-26T17:40:57.171441",
     "status": "completed"
    },
    "tags": []
   },
   "outputs": [
    {
     "name": "stdout",
     "output_type": "stream",
     "text": [
      "loaded notebook 5\n"
     ]
    }
   ],
   "source": [
    "root = Path(data_dir_output+\"/\"+mouse+\"/\"+data_day+'/'+str(HowManyBack)+\"_Back\")\n",
    "d = mouse+\"_\"+date+\"Notebook_5_\"+Nb5+\"_\"+\"seq\"+seq_str[:seq_str.index('6')]+'.pickle'\n",
    "my_path = root / d \n",
    "fileToOpen = open(my_path, 'rb')\n",
    "Lick_RL_IC_tt_periods = pickle.load(fileToOpen)\n",
    "print (\"loaded notebook 5\")"
   ]
  },
  {
   "cell_type": "code",
   "execution_count": 6,
   "metadata": {
    "papermill": {
     "duration": 0.015092,
     "end_time": "2020-05-26T17:40:57.287891",
     "exception": false,
     "start_time": "2020-05-26T17:40:57.272799",
     "status": "completed"
    },
    "tags": []
   },
   "outputs": [],
   "source": [
    "combination_stringlist = Nb_6.combinations_string(HowManyBack)"
   ]
  },
  {
   "cell_type": "code",
   "execution_count": 7,
   "metadata": {
    "papermill": {
     "duration": 3.48228,
     "end_time": "2020-05-26T17:41:00.777263",
     "exception": false,
     "start_time": "2020-05-26T17:40:57.294983",
     "status": "completed"
    },
    "tags": []
   },
   "outputs": [],
   "source": [
    "Lick_RL_IC_tt_periods_per_trial= Nb_6.count_licks_perPeriod_with_direction(Lick_RL_IC_tt_periods)"
   ]
  },
  {
   "cell_type": "code",
   "execution_count": 8,
   "metadata": {
    "papermill": {
     "duration": 0.051615,
     "end_time": "2020-05-26T17:41:00.837956",
     "exception": false,
     "start_time": "2020-05-26T17:41:00.786341",
     "status": "completed"
    },
    "tags": []
   },
   "outputs": [],
   "source": [
    "count_licks_perPeriod_with_direction = Nb_6.count_licks_perPeriod_with_direction_make_df(Lick_RL_IC_tt_periods_per_trial,combination_stringlist)"
   ]
  },
  {
   "cell_type": "code",
   "execution_count": 9,
   "metadata": {
    "papermill": {
     "duration": 0.015733,
     "end_time": "2020-05-26T17:41:00.862331",
     "exception": false,
     "start_time": "2020-05-26T17:41:00.846598",
     "status": "completed"
    },
    "tags": []
   },
   "outputs": [],
   "source": [
    "file = \"count_licks_perPeriod_with_direction\"+\"_\"+seq_str\n",
    "cache_dir_plt = os.path.join(data_dir_output+'/'+mouse+\"/\"+data_day+'/'+str(HowManyBack)+'_Back/'+\"analysis\", file)\n",
    "if not os.path.exists(cache_dir_plt):\n",
    "    os.makedirs(cache_dir_plt)"
   ]
  },
  {
   "cell_type": "code",
   "execution_count": 10,
   "metadata": {
    "papermill": {
     "duration": 0.025818,
     "end_time": "2020-05-26T17:41:00.897819",
     "exception": false,
     "start_time": "2020-05-26T17:41:00.872001",
     "status": "completed"
    },
    "tags": []
   },
   "outputs": [],
   "source": [
    "count_licks_perPeriod_with_direction.to_csv(data_dir_output+'/'+mouse+\"/\"+data_day+'/'+str(HowManyBack)+'_Back'+'/'+\"analysis\"+\"/\"+\"count_licks_perPeriod_with_direction\"+\"_\"+seq_str+\"/\"+\"count_licks_perPeriod_with_direction.csv\")"
   ]
  },
  {
   "cell_type": "code",
   "execution_count": 11,
   "metadata": {
    "papermill": {
     "duration": 0.018225,
     "end_time": "2020-05-26T17:41:00.925745",
     "exception": false,
     "start_time": "2020-05-26T17:41:00.907520",
     "status": "completed"
    },
    "tags": []
   },
   "outputs": [],
   "source": [
    "root = Path(data_dir_output+\"/\"+mouse+\"/\"+data_day+'/'+str(HowManyBack)+\"_Back\"+\"/\"+\"analysis\"+\"/\"+file+\"/\")\n",
    "d = \"count_licks_perPeriod_with_direction.pickle\"\n",
    "my_path = root / d \n",
    "my_file = open(my_path, 'wb')\n",
    "my_file = pickle.dump((count_licks_perPeriod_with_direction),my_file)"
   ]
  },
  {
   "cell_type": "code",
   "execution_count": 12,
   "metadata": {
    "papermill": {
     "duration": 0.015593,
     "end_time": "2020-05-26T17:41:00.948845",
     "exception": false,
     "start_time": "2020-05-26T17:41:00.933252",
     "status": "completed"
    },
    "tags": []
   },
   "outputs": [],
   "source": [
    "root = Path(data_dir_output+\"/\"+mouse+\"/\"+data_day+'/'+str(HowManyBack)+\"_Back\")\n",
    "d = mouse+\"_\"+date+'Notebook_6_c'+'_seq'+seq_str+'.pickle'\n",
    "my_path = root / d \n",
    "my_file = open(my_path, 'wb')\n",
    "my_file = pickle.dump((),my_file)"
   ]
  },
  {
   "cell_type": "code",
   "execution_count": null,
   "metadata": {
    "papermill": {
     "duration": 0.007114,
     "end_time": "2020-05-26T17:41:00.963896",
     "exception": false,
     "start_time": "2020-05-26T17:41:00.956782",
     "status": "completed"
    },
    "tags": []
   },
   "outputs": [],
   "source": []
  }
 ],
 "metadata": {
  "celltoolbar": "Tags",
  "kernelspec": {
   "display_name": "Python 3",
   "language": "python",
   "name": "python3"
  },
  "language_info": {
   "codemirror_mode": {
    "name": "ipython",
    "version": 3
   },
   "file_extension": ".py",
   "mimetype": "text/x-python",
   "name": "python",
   "nbconvert_exporter": "python",
   "pygments_lexer": "ipython3",
   "version": "3.7.3"
  },
  "papermill": {
   "duration": 5.494119,
   "end_time": "2020-05-26T17:41:01.292258",
   "environment_variables": {},
   "exception": null,
   "input_path": "/Users/gilmandelbaum/github/analysis-pipeline-for-optogenetics_ex/Nb_6x_extract_specific_information/Notebook_6_c.ipynb",
   "output_path": "TestOutPut.ipynb",
   "parameters": {
    "HowManyBack": 1,
    "Nb0": "a",
    "Nb1": [
     "a",
     "e"
    ],
    "Nb2": "a",
    "Nb4": [
     "a",
     "b",
     "c"
    ],
    "Nb5": "a",
    "Nb6": "c",
    "Tags": [
     "Reward_NoReward_tag",
     "ENL_tag",
     "Sel_tag"
    ],
    "Trials_filter": "allTrials",
    "TypeOfStim": "Consumption",
    "data_day": "2019_10_25__T253",
    "data_dir_input": "/Users/gilmandelbaum/Dropbox (HMS)/0.STRpaper/4.Optogenetics/opto_consumption_final/0.FullDataSet/OptoConsump_raw",
    "data_dir_output": "/Users/gilmandelbaum/Dropbox (HMS)/0.STRpaper/4.Optogenetics/opto_consumption_final/0.FullDataSet/OptoConsump_output",
    "date": "2019_10_25",
    "drop2blocks": "no",
    "drop2lastblocks": "no",
    "mouse": "T253",
    "seq_str": "0a1ae2a4abc5a6c"
   },
   "start_time": "2020-05-26T17:40:55.798139",
   "version": "1.0.1"
  }
 },
 "nbformat": 4,
 "nbformat_minor": 2
}