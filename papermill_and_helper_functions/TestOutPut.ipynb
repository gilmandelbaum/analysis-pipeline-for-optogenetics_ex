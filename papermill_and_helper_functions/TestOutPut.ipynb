{
 "cells": [
  {
   "cell_type": "markdown",
   "metadata": {
    "papermill": {
     "duration": 0.008294,
     "end_time": "2020-06-07T18:59:06.462601",
     "exception": false,
     "start_time": "2020-06-07T18:59:06.454307",
     "status": "completed"
    },
    "tags": []
   },
   "source": [
    "# Notebook 6 d"
   ]
  },
  {
   "cell_type": "code",
   "execution_count": 1,
   "metadata": {
    "execution": {
     "iopub.execute_input": "2020-06-07T18:59:06.486094Z",
     "iopub.status.busy": "2020-06-07T18:59:06.485356Z",
     "iopub.status.idle": "2020-06-07T18:59:06.487972Z",
     "shell.execute_reply": "2020-06-07T18:59:06.488542Z"
    },
    "papermill": {
     "duration": 0.017484,
     "end_time": "2020-06-07T18:59:06.488716",
     "exception": false,
     "start_time": "2020-06-07T18:59:06.471232",
     "status": "completed"
    },
    "tags": [
     "parameters"
    ]
   },
   "outputs": [],
   "source": [
    "mouse = 'T183'\n",
    "data_day = '2019_03_14__T183'\n",
    "date = '2019_03_14'\n",
    "\n",
    "data_dir_output = '/Users/gilmandelbaum/Desktop/optoOutPut'\n",
    "\n",
    "HowManyBack=1 \n",
    "\n",
    "Nb5 =\"a\"\n",
    "\n",
    "seq_str= '0a1ad2a4abc5a6d'"
   ]
  },
  {
   "cell_type": "code",
   "execution_count": 2,
   "metadata": {
    "execution": {
     "iopub.execute_input": "2020-06-07T18:59:06.512168Z",
     "iopub.status.busy": "2020-06-07T18:59:06.511480Z",
     "iopub.status.idle": "2020-06-07T18:59:06.514251Z",
     "shell.execute_reply": "2020-06-07T18:59:06.514834Z"
    },
    "papermill": {
     "duration": 0.018524,
     "end_time": "2020-06-07T18:59:06.514955",
     "exception": false,
     "start_time": "2020-06-07T18:59:06.496431",
     "status": "completed"
    },
    "tags": [
     "injected-parameters"
    ]
   },
   "outputs": [],
   "source": [
    "# Parameters\n",
    "data_dir_input = \"/Users/gilmandelbaum/Dropbox (HMS)/0.STRpaper/4.Optogenetics/opto_consumption_final/0.after.QC.D2/D2.OptoConsumpRaw\"\n",
    "data_dir_output = \"/Users/gilmandelbaum/Dropbox (HMS)/0.STRpaper/4.Optogenetics/opto_consumption_final/0.after.QC.D2/D2.OptoConsumpOutput\"\n",
    "drop2blocks = \"no\"\n",
    "drop2lastblocks = \"no\"\n",
    "seq_str = \"0a1ae2a4abc5a6d\"\n",
    "Tags = [\"Reward_NoReward_tag\", \"ENL_tag\", \"Sel_tag\"]\n",
    "HowManyBack = 1\n",
    "Nb0 = \"a\"\n",
    "Nb1 = [\"a\", \"e\"]\n",
    "Nb2 = \"a\"\n",
    "Nb4 = [\"a\", \"b\", \"c\"]\n",
    "Nb5 = \"a\"\n",
    "Nb6 = \"d\"\n",
    "Trials_filter = \"allTrials\"\n",
    "TypeOfStim = \"Consumption\"\n",
    "mouse = \"T256\"\n",
    "data_day = \"2019_10_01__T256\"\n",
    "date = \"2019_10_01\"\n"
   ]
  },
  {
   "cell_type": "code",
   "execution_count": 3,
   "metadata": {
    "execution": {
     "iopub.execute_input": "2020-06-07T18:59:06.539477Z",
     "iopub.status.busy": "2020-06-07T18:59:06.537060Z",
     "iopub.status.idle": "2020-06-07T18:59:06.875048Z",
     "shell.execute_reply": "2020-06-07T18:59:06.875695Z"
    },
    "papermill": {
     "duration": 0.352871,
     "end_time": "2020-06-07T18:59:06.875823",
     "exception": false,
     "start_time": "2020-06-07T18:59:06.522952",
     "status": "completed"
    },
    "tags": []
   },
   "outputs": [],
   "source": [
    "from pathlib import Path\n",
    "import pickle\n",
    "import itertools\n",
    "import pandas as pd \n",
    "import os"
   ]
  },
  {
   "cell_type": "code",
   "execution_count": 4,
   "metadata": {
    "execution": {
     "iopub.execute_input": "2020-06-07T18:59:06.898525Z",
     "iopub.status.busy": "2020-06-07T18:59:06.897599Z",
     "iopub.status.idle": "2020-06-07T18:59:06.901582Z",
     "shell.execute_reply": "2020-06-07T18:59:06.900781Z"
    },
    "papermill": {
     "duration": 0.016375,
     "end_time": "2020-06-07T18:59:06.901721",
     "exception": false,
     "start_time": "2020-06-07T18:59:06.885346",
     "status": "completed"
    },
    "tags": []
   },
   "outputs": [],
   "source": [
    "import Notebook_6_helper_functions as Nb_6"
   ]
  },
  {
   "cell_type": "code",
   "execution_count": 5,
   "metadata": {
    "execution": {
     "iopub.execute_input": "2020-06-07T18:59:06.923897Z",
     "iopub.status.busy": "2020-06-07T18:59:06.923195Z",
     "iopub.status.idle": "2020-06-07T18:59:07.005629Z",
     "shell.execute_reply": "2020-06-07T18:59:07.005001Z"
    },
    "papermill": {
     "duration": 0.095564,
     "end_time": "2020-06-07T18:59:07.005725",
     "exception": false,
     "start_time": "2020-06-07T18:59:06.910161",
     "status": "completed"
    },
    "tags": []
   },
   "outputs": [
    {
     "name": "stdout",
     "output_type": "stream",
     "text": [
      "loaded notebook 5\n"
     ]
    }
   ],
   "source": [
    "root = Path(data_dir_output+\"/\"+mouse+\"/\"+data_day+'/'+str(HowManyBack)+\"_Back\")\n",
    "d = mouse+\"_\"+date+\"Notebook_5_\"+Nb5+\"_\"+\"seq\"+seq_str[:seq_str.index('6')]+'.pickle'\n",
    "my_path = root / d \n",
    "fileToOpen = open(my_path, 'rb')\n",
    "Lick_RL_IC_tt_periods = pickle.load(fileToOpen)\n",
    "print (\"loaded notebook 5\")"
   ]
  },
  {
   "cell_type": "code",
   "execution_count": 6,
   "metadata": {
    "execution": {
     "iopub.execute_input": "2020-06-07T18:59:07.033438Z",
     "iopub.status.busy": "2020-06-07T18:59:07.032667Z",
     "iopub.status.idle": "2020-06-07T18:59:07.035266Z",
     "shell.execute_reply": "2020-06-07T18:59:07.035913Z"
    },
    "papermill": {
     "duration": 0.017978,
     "end_time": "2020-06-07T18:59:07.036044",
     "exception": false,
     "start_time": "2020-06-07T18:59:07.018066",
     "status": "completed"
    },
    "tags": []
   },
   "outputs": [],
   "source": [
    "combination_stringlist = Nb_6.combinations_string(HowManyBack)"
   ]
  },
  {
   "cell_type": "code",
   "execution_count": 7,
   "metadata": {
    "execution": {
     "iopub.execute_input": "2020-06-07T18:59:07.093351Z",
     "iopub.status.busy": "2020-06-07T18:59:07.062888Z",
     "iopub.status.idle": "2020-06-07T18:59:09.026122Z",
     "shell.execute_reply": "2020-06-07T18:59:09.026693Z"
    },
    "papermill": {
     "duration": 1.981694,
     "end_time": "2020-06-07T18:59:09.026814",
     "exception": false,
     "start_time": "2020-06-07T18:59:07.045120",
     "status": "completed"
    },
    "tags": []
   },
   "outputs": [],
   "source": [
    "Lick_tStates_perTrial_with_direction= Nb_6.get_tStates_perTrial_per_period_df_with_direction(Lick_RL_IC_tt_periods)"
   ]
  },
  {
   "cell_type": "code",
   "execution_count": 8,
   "metadata": {
    "execution": {
     "iopub.execute_input": "2020-06-07T18:59:09.050789Z",
     "iopub.status.busy": "2020-06-07T18:59:09.050107Z",
     "iopub.status.idle": "2020-06-07T18:59:09.053947Z",
     "shell.execute_reply": "2020-06-07T18:59:09.053102Z"
    },
    "papermill": {
     "duration": 0.017791,
     "end_time": "2020-06-07T18:59:09.054057",
     "exception": false,
     "start_time": "2020-06-07T18:59:09.036266",
     "status": "completed"
    },
    "tags": []
   },
   "outputs": [],
   "source": [
    "file = \"each_lick_per_period_with_direction\"+\"_\"+seq_str\n",
    "cache_dir_plt = os.path.join(data_dir_output+'/'+mouse+\"/\"+data_day+'/'+str(HowManyBack)+'_Back/'+\"analysis\", file)\n",
    "if not os.path.exists(cache_dir_plt):\n",
    "    os.makedirs(cache_dir_plt)"
   ]
  },
  {
   "cell_type": "code",
   "execution_count": 9,
   "metadata": {
    "execution": {
     "iopub.execute_input": "2020-06-07T18:59:09.082041Z",
     "iopub.status.busy": "2020-06-07T18:59:09.075832Z",
     "iopub.status.idle": "2020-06-07T18:59:09.085478Z",
     "shell.execute_reply": "2020-06-07T18:59:09.084544Z"
    },
    "papermill": {
     "duration": 0.022849,
     "end_time": "2020-06-07T18:59:09.085612",
     "exception": false,
     "start_time": "2020-06-07T18:59:09.062763",
     "status": "completed"
    },
    "tags": []
   },
   "outputs": [],
   "source": [
    "root = Path(data_dir_output+\"/\"+mouse+\"/\"+data_day+'/'+str(HowManyBack)+\"_Back\"+\"/\"+\"analysis\"+\"/\"+file+\"/\")\n",
    "d = \"directionOfLicks_with_direction.pickle\"\n",
    "my_path = root / d \n",
    "my_file = open(my_path, 'wb')\n",
    "my_file = pickle.dump((Lick_tStates_perTrial_with_direction),my_file)"
   ]
  },
  {
   "cell_type": "code",
   "execution_count": 10,
   "metadata": {
    "execution": {
     "iopub.execute_input": "2020-06-07T18:59:09.113443Z",
     "iopub.status.busy": "2020-06-07T18:59:09.112598Z",
     "iopub.status.idle": "2020-06-07T18:59:09.116045Z",
     "shell.execute_reply": "2020-06-07T18:59:09.115318Z"
    },
    "papermill": {
     "duration": 0.021164,
     "end_time": "2020-06-07T18:59:09.116149",
     "exception": false,
     "start_time": "2020-06-07T18:59:09.094985",
     "status": "completed"
    },
    "tags": []
   },
   "outputs": [],
   "source": [
    "def extract_licks (Lick_tStates_perTrial_with_direction,tag):\n",
    "    right_left = [0,0,1,1]\n",
    "    trial_type = [3,2,3,2]\n",
    "    direction_stay_or_switch = [\"stay_right\",\"switch_right\",\"stay_left\",\"switch_left\"]\n",
    "    \n",
    "    for (rl, tt, direc) in zip(right_left,trial_type,direction_stay_or_switch):\n",
    "        condition= Lick_tStates_perTrial_with_direction[rl][0][tt][tag]\n",
    "        if condition.empty==True:\n",
    "            condition_df = pd.DataFrame()\n",
    "        else:\n",
    "            condition = condition.reset_index()\n",
    "            condition_df = pd.DataFrame(condition)\n",
    "            condition_df = condition_df.drop([\"index\"], axis=1)\n",
    "            \n",
    "        condition_df.to_csv(data_dir_output+\"/\"+mouse+\"/\"+data_day+'/'+str(HowManyBack)+\"_Back\"+\"/\"+\"analysis\"+\"/\"+\"each_lick_per_period_with_direction\"+\"_\"+seq_str+\"/\"+tag+\"_\"+direc+\".csv\")\n",
    "        condition_df = pd.DataFrame()\n",
    "    return ()"
   ]
  },
  {
   "cell_type": "code",
   "execution_count": 11,
   "metadata": {
    "execution": {
     "iopub.execute_input": "2020-06-07T18:59:09.141722Z",
     "iopub.status.busy": "2020-06-07T18:59:09.139365Z",
     "iopub.status.idle": "2020-06-07T18:59:09.182843Z",
     "shell.execute_reply": "2020-06-07T18:59:09.182110Z"
    },
    "papermill": {
     "duration": 0.057012,
     "end_time": "2020-06-07T18:59:09.182949",
     "exception": false,
     "start_time": "2020-06-07T18:59:09.125937",
     "status": "completed"
    },
    "tags": []
   },
   "outputs": [],
   "source": [
    "for tag in list(Lick_tStates_perTrial_with_direction[0][0][3].keys()): \n",
    "    if tag == \"Real_nTrials\":\n",
    "        pass \n",
    "    else: \n",
    "        extract_licks (Lick_tStates_perTrial_with_direction,tag)"
   ]
  },
  {
   "cell_type": "code",
   "execution_count": 12,
   "metadata": {
    "execution": {
     "iopub.execute_input": "2020-06-07T18:59:09.211097Z",
     "iopub.status.busy": "2020-06-07T18:59:09.210403Z",
     "iopub.status.idle": "2020-06-07T18:59:09.213644Z",
     "shell.execute_reply": "2020-06-07T18:59:09.214422Z"
    },
    "papermill": {
     "duration": 0.020754,
     "end_time": "2020-06-07T18:59:09.214559",
     "exception": false,
     "start_time": "2020-06-07T18:59:09.193805",
     "status": "completed"
    },
    "tags": []
   },
   "outputs": [],
   "source": [
    "root = Path(data_dir_output+\"/\"+mouse+\"/\"+data_day+'/'+str(HowManyBack)+\"_Back\")\n",
    "d = mouse+\"_\"+date+'Notebook_6_d'+'_seq'+seq_str+'.pickle'\n",
    "my_path = root / d \n",
    "my_file = open(my_path, 'wb')\n",
    "my_file = pickle.dump((),my_file)"
   ]
  },
  {
   "cell_type": "code",
   "execution_count": null,
   "metadata": {
    "papermill": {
     "duration": 0.008923,
     "end_time": "2020-06-07T18:59:09.232914",
     "exception": false,
     "start_time": "2020-06-07T18:59:09.223991",
     "status": "completed"
    },
    "tags": []
   },
   "outputs": [],
   "source": []
  }
 ],
 "metadata": {
  "celltoolbar": "Tags",
  "kernelspec": {
   "display_name": "Python 3",
   "language": "python",
   "name": "python3"
  },
  "language_info": {
   "codemirror_mode": {
    "name": "ipython",
    "version": 3
   },
   "file_extension": ".py",
   "mimetype": "text/x-python",
   "name": "python",
   "nbconvert_exporter": "python",
   "pygments_lexer": "ipython3",
   "version": "3.7.3"
  },
  "papermill": {
   "duration": 3.759494,
   "end_time": "2020-06-07T18:59:09.355155",
   "environment_variables": {},
   "exception": null,
   "input_path": "/Users/gilmandelbaum/github/analysis-pipeline-for-optogenetics_ex/Nb_6x_extract_specific_information/Notebook_6_d.ipynb",
   "output_path": "TestOutPut.ipynb",
   "parameters": {
    "HowManyBack": 1,
    "Nb0": "a",
    "Nb1": [
     "a",
     "e"
    ],
    "Nb2": "a",
    "Nb4": [
     "a",
     "b",
     "c"
    ],
    "Nb5": "a",
    "Nb6": "d",
    "Tags": [
     "Reward_NoReward_tag",
     "ENL_tag",
     "Sel_tag"
    ],
    "Trials_filter": "allTrials",
    "TypeOfStim": "Consumption",
    "data_day": "2019_10_01__T256",
    "data_dir_input": "/Users/gilmandelbaum/Dropbox (HMS)/0.STRpaper/4.Optogenetics/opto_consumption_final/0.after.QC.D2/D2.OptoConsumpRaw",
    "data_dir_output": "/Users/gilmandelbaum/Dropbox (HMS)/0.STRpaper/4.Optogenetics/opto_consumption_final/0.after.QC.D2/D2.OptoConsumpOutput",
    "date": "2019_10_01",
    "drop2blocks": "no",
    "drop2lastblocks": "no",
    "mouse": "T256",
    "seq_str": "0a1ae2a4abc5a6d"
   },
   "start_time": "2020-06-07T18:59:05.595661",
   "version": "2.1.1"
  }
 },
 "nbformat": 4,
 "nbformat_minor": 2
}