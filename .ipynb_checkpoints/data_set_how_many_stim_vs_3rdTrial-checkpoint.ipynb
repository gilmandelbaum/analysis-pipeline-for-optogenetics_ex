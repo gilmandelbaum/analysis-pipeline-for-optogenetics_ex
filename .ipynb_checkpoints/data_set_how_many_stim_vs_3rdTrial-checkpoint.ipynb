{
 "cells": [
  {
   "cell_type": "code",
   "execution_count": 1,
   "metadata": {},
   "outputs": [],
   "source": [
    "import pandas as pd \n",
    "import numpy  as np \n",
    "from pathlib import Path\n",
    "import pickle\n",
    "import os"
   ]
  },
  {
   "cell_type": "code",
   "execution_count": 2,
   "metadata": {},
   "outputs": [],
   "source": [
    "import data_set_analysis_helper_functions as ahf"
   ]
  },
  {
   "cell_type": "code",
   "execution_count": 3,
   "metadata": {
    "tags": [
     "parameters"
    ]
   },
   "outputs": [],
   "source": [
    "data_dir_output = '/Users/gilmandelbaum/Desktop/opto_final/OptoConsump_output'\n",
    "data_dir_input = '/Users/gilmandelbaum/Desktop/opto_final/OptoConsump'\n",
    "HowManyBack=1 \n",
    "\n",
    "Mouse_Date_FileName_list = \"MasterOptoConsumption\"\n",
    "\n",
    "seq_str= \"0a1ad2a4abc5a6b\""
   ]
  },
  {
   "cell_type": "code",
   "execution_count": 4,
   "metadata": {},
   "outputs": [],
   "source": [
    "folder_name = \"timeOfLicks\""
   ]
  },
  {
   "cell_type": "code",
   "execution_count": 5,
   "metadata": {},
   "outputs": [],
   "source": [
    "Mouse_Date_FileName = pd.read_csv(data_dir_input+\"/\"+Mouse_Date_FileName_list+\".csv\")"
   ]
  },
  {
   "cell_type": "code",
   "execution_count": 6,
   "metadata": {},
   "outputs": [],
   "source": [
    "#Mouse_Date_FileName = Mouse_Date_FileName[Mouse_Date_FileName[\"Mouse\"]==\"T183\"].reset_index()"
   ]
  },
  {
   "cell_type": "code",
   "execution_count": 7,
   "metadata": {},
   "outputs": [],
   "source": [
    "behavior_data_trial_s = ahf.loadSession_from_rawdata_xls (Mouse_Date_FileName,data_dir_input)"
   ]
  },
  {
   "cell_type": "code",
   "execution_count": null,
   "metadata": {},
   "outputs": [],
   "source": [
    "def stimTrial (behavior_data_trial_dataSet):\n",
    "    data_list = list()\n",
    "    counter = 0 \n",
    "    for session in behavior_data_trial_dataSet: \n",
    "        #print (counter)\n",
    "        stim_trials = session[(session['L_Rew_trig_I_l1']>0) & (session['iReward']>0)]\n",
    "        stim_trials = session[session.index.isin(stim_trials.index+1)]\n",
    "        data_list.append(stim_trials)\n",
    "        counter = counter +1\n",
    "    return (data_list)\n"
   ]
  },
  {
   "cell_type": "code",
   "execution_count": null,
   "metadata": {
    "scrolled": false
   },
   "outputs": [],
   "source": [
    "stimTrialsDF = stimTrial (behavior_data_trial_s)"
   ]
  },
  {
   "cell_type": "code",
   "execution_count": null,
   "metadata": {},
   "outputs": [],
   "source": [
    "def NoStimTrialTHREE (behavior_data_trial_dataSet):\n",
    "    data_list = list()\n",
    "    counter = 0 \n",
    "    for session in behavior_data_trial_dataSet: \n",
    "        #print (counter)\n",
    "        stim_trials = session[(session['L_Rew_trig_I_l1']==0) & (session['iReward']==3)]\n",
    "        stim_trials = session[session.index.isin(stim_trials.index+1)]\n",
    "        data_list.append(stim_trials)\n",
    "        counter = counter +1\n",
    "    return (data_list)"
   ]
  },
  {
   "cell_type": "code",
   "execution_count": null,
   "metadata": {},
   "outputs": [],
   "source": [
    "NoStimTrialTHREE = NoStimTrialTHREE (behavior_data_trial_s)"
   ]
  },
  {
   "cell_type": "code",
   "execution_count": null,
   "metadata": {},
   "outputs": [],
   "source": [
    "def counter (listOfDataFrames):\n",
    "    trialCounter = list()\n",
    "    for i,session in enumerate (listOfDataFrames):\n",
    "        #print (i)\n",
    "        session_c = len(session)\n",
    "        trialCounter.append(int(session_c))\n",
    "    trialCounter = pd.DataFrame(trialCounter) \n",
    "    return (trialCounter)"
   ]
  },
  {
   "cell_type": "code",
   "execution_count": null,
   "metadata": {},
   "outputs": [],
   "source": [
    "stimTrialsCounts = counter (stimTrialsDF).rename(columns={0: 'stimTrialsCounts'})"
   ]
  },
  {
   "cell_type": "code",
   "execution_count": null,
   "metadata": {},
   "outputs": [],
   "source": [
    "NoStimTrialTHREECounts = counter (NoStimTrialTHREE).rename(columns={0: 'NoStimTrialTHREECounts'})"
   ]
  },
  {
   "cell_type": "code",
   "execution_count": null,
   "metadata": {},
   "outputs": [],
   "source": [
    "df = pd.concat([Mouse_Date_FileName,stimTrialsCounts,NoStimTrialTHREECounts],axis=1)"
   ]
  },
  {
   "cell_type": "code",
   "execution_count": null,
   "metadata": {},
   "outputs": [],
   "source": [
    "data_set = \"data_set\"+\"_\"+seq_str[:seq_str.index('6')]\n",
    "cache_dir_plt = os.path.join(data_dir_output, data_set)\n",
    "if not os.path.exists(cache_dir_plt):\n",
    "    os.makedirs(cache_dir_plt)"
   ]
  },
  {
   "cell_type": "code",
   "execution_count": null,
   "metadata": {},
   "outputs": [],
   "source": [
    "file = \"data_set_how_many_stim_vs_3rdTrial\"\n",
    "cache_dir_plt = os.path.join(data_dir_output, data_set, file)\n",
    "if not os.path.exists(cache_dir_plt):\n",
    "    os.makedirs(cache_dir_plt)"
   ]
  },
  {
   "cell_type": "code",
   "execution_count": null,
   "metadata": {},
   "outputs": [],
   "source": [
    "df.to_csv(data_dir_output+\"/\"+data_set+\"/\"+file+\"/\"+\"how_many_stim_vs_3rdTrial.csv\")"
   ]
  }
 ],
 "metadata": {
  "celltoolbar": "Tags",
  "kernelspec": {
   "display_name": "Python 3",
   "language": "python",
   "name": "python3"
  },
  "language_info": {
   "codemirror_mode": {
    "name": "ipython",
    "version": 3
   },
   "file_extension": ".py",
   "mimetype": "text/x-python",
   "name": "python",
   "nbconvert_exporter": "python",
   "pygments_lexer": "ipython3",
   "version": "3.7.3"
  }
 },
 "nbformat": 4,
 "nbformat_minor": 2
}
