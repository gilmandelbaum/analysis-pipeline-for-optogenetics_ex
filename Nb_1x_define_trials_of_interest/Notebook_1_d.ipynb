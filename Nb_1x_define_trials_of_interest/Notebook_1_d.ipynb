{
 "cells": [
  {
   "cell_type": "markdown",
   "metadata": {},
   "source": [
    "# Notebook 1 d: Get stim trials from opto-exp"
   ]
  },
  {
   "cell_type": "code",
   "execution_count": 1,
   "metadata": {},
   "outputs": [],
   "source": [
    "import dill\n",
    "import pickle\n",
    "from pathlib import Path\n",
    "import itertools"
   ]
  },
  {
   "cell_type": "code",
   "execution_count": 2,
   "metadata": {},
   "outputs": [],
   "source": [
    "import Notebook_1_helper_functions as Nb_1"
   ]
  },
  {
   "cell_type": "code",
   "execution_count": 3,
   "metadata": {
    "tags": [
     "parameters"
    ]
   },
   "outputs": [],
   "source": [
    "mouse = 'T183'\n",
    "data_day = '2019_03_14__T183'\n",
    "date = '2018_03_14'\n",
    "\n",
    "data_dir_input = '/Users/gilmandelbaum/Desktop/opto'#(Rigs1-3)\n",
    "data_dir_output = '/Users/gilmandelbaum/Desktop/optoOutPut'\n",
    "\n",
    "HowManyBack=1 \n",
    "\n",
    "Nb0 =\"a\"\n",
    "\n",
    "TypeOfStim = 'Consumption'\n",
    "Trials_filter= 'allTrials'"
   ]
  },
  {
   "cell_type": "code",
   "execution_count": 4,
   "metadata": {},
   "outputs": [],
   "source": [
    "root = Path(data_dir_output+\"/\"+mouse+\"/\"+data_day+'/'+str(HowManyBack)+\"_Back\")\n",
    "d = mouse+\"_\"+date+\"Notebook_0_\"+Nb0+'.pickle'\n",
    "my_path = root / d \n",
    "# open a file, where you stored the pickled data\n",
    "fileToOpen = open(my_path, 'rb')\n",
    "# dump information to that file\n",
    "behavior_data_trial = pickle.load(fileToOpen)"
   ]
  },
  {
   "cell_type": "code",
   "execution_count": 5,
   "metadata": {},
   "outputs": [],
   "source": [
    "if Trials_filter == 'allTrials':\n",
    "    Nb1 = \"a\"\n",
    "elif Trials_filter == 'noENLp':\n",
    "    Nb1 = \"b\"\n",
    "elif Trials_filter == 'onlyENLp':\n",
    "    Nb1 = \"c\""
   ]
  },
  {
   "cell_type": "code",
   "execution_count": 6,
   "metadata": {},
   "outputs": [],
   "source": [
    "root = Path(data_dir_output+\"/\"+mouse+\"/\"+data_day+'/'+str(HowManyBack)+\"_Back\")\n",
    "d = mouse+\"_\"+date+\"Notebook_1_\"+Nb1+\".pickle\"\n",
    "my_path = root / d \n",
    "# open a file, where you stored the pickled data\n",
    "fileToOpen = open(my_path, 'rb')\n",
    "# dump information to that file\n",
    "behavior_data_trial_RIC_LIC_combinations_n = pickle.load(fileToOpen)"
   ]
  },
  {
   "cell_type": "markdown",
   "metadata": {},
   "source": [
    "# Because it is an optogenetics analysis:"
   ]
  },
  {
   "cell_type": "code",
   "execution_count": 7,
   "metadata": {},
   "outputs": [],
   "source": [
    "if TypeOfStim =='ENLonly':   \n",
    "    stim_trials = behavior_data_trial[(behavior_data_trial[\"L_ENL_trig_n_l1\"]>0)]\n",
    "    stim_trials.to_csv(\"stim_trials.csv\")\n",
    "elif TypeOfStim =='FullStim':\n",
    "    stim_trials = behavior_data_trial[(behavior_data_trial[\"L_ENL_trig_n_l1\"]>0)]\n",
    "elif TypeOfStim == 'Consumption':\n",
    "    stim_trials = behavior_data_trial[(behavior_data_trial['L_Rew_trig_I_l1']>0) & (behavior_data_trial['iReward']>0)]\n",
    "    stim_trials = behavior_data_trial[behavior_data_trial.index.isin(stim_trials.index+1)]"
   ]
  },
  {
   "cell_type": "markdown",
   "metadata": {},
   "source": [
    "# separate between the right and left and IPSI CONTRA trials.\n",
    "The system has a right spout and a left spout. Each of those sides has an IPSI side and CONTRA side compared to the brain. "
   ]
  },
  {
   "cell_type": "code",
   "execution_count": 9,
   "metadata": {},
   "outputs": [],
   "source": [
    "behavior_data_trial_stim_RIC_LIC = Nb_1.separate_between_RIC_LIC_blocks(stim_trials)"
   ]
  },
  {
   "cell_type": "markdown",
   "metadata": {},
   "source": [
    "# also seperate based on looking back X number of trials. \n",
    "For example, looking back one trial: lose switch (22), lose stay (21), win switch (12), win stay (11)."
   ]
  },
  {
   "cell_type": "code",
   "execution_count": 11,
   "metadata": {},
   "outputs": [],
   "source": [
    "behavior_data_trial_stim_RIC_LIC_combinations=Nb_1.get_combination_previous_trial(behavior_data_trial_stim_RIC_LIC ,HowManyBack)"
   ]
  },
  {
   "cell_type": "code",
   "execution_count": 13,
   "metadata": {
    "scrolled": true
   },
   "outputs": [],
   "source": [
    "behavior_data_trial_stim_RIC_LIC_combinations_n = Nb_1.get_nTrials_tt(behavior_data_trial_stim_RIC_LIC_combinations)"
   ]
  },
  {
   "cell_type": "code",
   "execution_count": 14,
   "metadata": {},
   "outputs": [],
   "source": [
    "behavior_data_trial_RIC_LIC_combinations_n = Nb_1.get_nTrials_ttCombine(behavior_data_trial_RIC_LIC_combinations_n, behavior_data_trial_stim_RIC_LIC_combinations_n)"
   ]
  },
  {
   "cell_type": "code",
   "execution_count": 16,
   "metadata": {},
   "outputs": [],
   "source": [
    "#changed based on notebook\n",
    "Nb1 =\"d\""
   ]
  },
  {
   "cell_type": "code",
   "execution_count": 17,
   "metadata": {
    "scrolled": true
   },
   "outputs": [],
   "source": [
    "root = Path(data_dir_output+\"/\"+mouse+\"/\"+data_day+'/'+str(HowManyBack)+\"_Back\")\n",
    "d = mouse+\"_\"+date+\"Notebook_1_\"+Nb1+'.pickle'\n",
    "#theDataFrame = \"Notebook_1_\"+Nb1+'.pickle'\n",
    "my_path = root / d \n",
    "my_file = open(my_path, 'wb')\n",
    "my_file = pickle.dump(behavior_data_trial_RIC_LIC_combinations_n,my_file)"
   ]
  }
 ],
 "metadata": {
  "celltoolbar": "Tags",
  "kernelspec": {
   "display_name": "Python 3",
   "language": "python",
   "name": "python3"
  },
  "language_info": {
   "codemirror_mode": {
    "name": "ipython",
    "version": 3
   },
   "file_extension": ".py",
   "mimetype": "text/x-python",
   "name": "python",
   "nbconvert_exporter": "python",
   "pygments_lexer": "ipython3",
   "version": "3.7.3"
  }
 },
 "nbformat": 4,
 "nbformat_minor": 2
}
