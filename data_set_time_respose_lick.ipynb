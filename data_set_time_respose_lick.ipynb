{
 "cells": [
  {
   "cell_type": "code",
   "execution_count": 1,
   "metadata": {},
   "outputs": [],
   "source": [
    "import pandas as pd \n",
    "import numpy  as np \n",
    "from pathlib import Path\n",
    "import pickle\n",
    "import os"
   ]
  },
  {
   "cell_type": "code",
   "execution_count": 2,
   "metadata": {},
   "outputs": [],
   "source": [
    "import data_set_analysis_helper_functions as ahf"
   ]
  },
  {
   "cell_type": "code",
   "execution_count": 3,
   "metadata": {
    "tags": [
     "parameters"
    ]
   },
   "outputs": [],
   "source": [
    "data_dir_output = '/Users/gilmandelbaum/Desktop/optoOutPut'\n",
    "data_dir_input = '/Users/gilmandelbaum/Desktop/opto'\n",
    "HowManyBack=1 \n",
    "\n",
    "Mouse_Date_FileName_list = \"MasterOptoConsumption\"\n",
    "\n",
    "seq_str= \"0a1ad2a4abc5a6a\""
   ]
  },
  {
   "cell_type": "code",
   "execution_count": null,
   "metadata": {},
   "outputs": [],
   "source": [
    "folder_name = \"timeOfLicks\""
   ]
  },
  {
   "cell_type": "code",
   "execution_count": 4,
   "metadata": {
    "scrolled": true
   },
   "outputs": [],
   "source": [
    "Mouse_Date_FileName = pd.read_csv(data_dir_input+\"/\"+Mouse_Date_FileName_list+\".csv\")"
   ]
  },
  {
   "cell_type": "code",
   "execution_count": 5,
   "metadata": {},
   "outputs": [],
   "source": [
    "Mouse_Date_FileName = Mouse_Date_FileName[Mouse_Date_FileName[\"Mouse\"]==\"T183\"].reset_index()"
   ]
  },
  {
   "cell_type": "code",
   "execution_count": 6,
   "metadata": {},
   "outputs": [
    {
     "data": {
      "text/html": [
       "<div>\n",
       "<style scoped>\n",
       "    .dataframe tbody tr th:only-of-type {\n",
       "        vertical-align: middle;\n",
       "    }\n",
       "\n",
       "    .dataframe tbody tr th {\n",
       "        vertical-align: top;\n",
       "    }\n",
       "\n",
       "    .dataframe thead th {\n",
       "        text-align: right;\n",
       "    }\n",
       "</style>\n",
       "<table border=\"1\" class=\"dataframe\">\n",
       "  <thead>\n",
       "    <tr style=\"text-align: right;\">\n",
       "      <th></th>\n",
       "      <th>index</th>\n",
       "      <th>Mouse</th>\n",
       "      <th>Date</th>\n",
       "      <th>D</th>\n",
       "      <th>TypeOfStim</th>\n",
       "      <th>SideOfStim</th>\n",
       "    </tr>\n",
       "  </thead>\n",
       "  <tbody>\n",
       "    <tr>\n",
       "      <th>0</th>\n",
       "      <td>56</td>\n",
       "      <td>T183</td>\n",
       "      <td>190227</td>\n",
       "      <td>1</td>\n",
       "      <td>C</td>\n",
       "      <td>R</td>\n",
       "    </tr>\n",
       "    <tr>\n",
       "      <th>1</th>\n",
       "      <td>57</td>\n",
       "      <td>T183</td>\n",
       "      <td>190303</td>\n",
       "      <td>1</td>\n",
       "      <td>C</td>\n",
       "      <td>R</td>\n",
       "    </tr>\n",
       "    <tr>\n",
       "      <th>2</th>\n",
       "      <td>58</td>\n",
       "      <td>T183</td>\n",
       "      <td>190308</td>\n",
       "      <td>1</td>\n",
       "      <td>C</td>\n",
       "      <td>R</td>\n",
       "    </tr>\n",
       "    <tr>\n",
       "      <th>3</th>\n",
       "      <td>59</td>\n",
       "      <td>T183</td>\n",
       "      <td>190312</td>\n",
       "      <td>1</td>\n",
       "      <td>C</td>\n",
       "      <td>R</td>\n",
       "    </tr>\n",
       "    <tr>\n",
       "      <th>4</th>\n",
       "      <td>60</td>\n",
       "      <td>T183</td>\n",
       "      <td>190313</td>\n",
       "      <td>1</td>\n",
       "      <td>C</td>\n",
       "      <td>L</td>\n",
       "    </tr>\n",
       "    <tr>\n",
       "      <th>5</th>\n",
       "      <td>61</td>\n",
       "      <td>T183</td>\n",
       "      <td>190314</td>\n",
       "      <td>1</td>\n",
       "      <td>C</td>\n",
       "      <td>L</td>\n",
       "    </tr>\n",
       "    <tr>\n",
       "      <th>6</th>\n",
       "      <td>62</td>\n",
       "      <td>T183</td>\n",
       "      <td>190315</td>\n",
       "      <td>1</td>\n",
       "      <td>C</td>\n",
       "      <td>L</td>\n",
       "    </tr>\n",
       "    <tr>\n",
       "      <th>7</th>\n",
       "      <td>63</td>\n",
       "      <td>T183</td>\n",
       "      <td>190318</td>\n",
       "      <td>1</td>\n",
       "      <td>C</td>\n",
       "      <td>L</td>\n",
       "    </tr>\n",
       "    <tr>\n",
       "      <th>8</th>\n",
       "      <td>64</td>\n",
       "      <td>T183</td>\n",
       "      <td>190319</td>\n",
       "      <td>1</td>\n",
       "      <td>C</td>\n",
       "      <td>L</td>\n",
       "    </tr>\n",
       "  </tbody>\n",
       "</table>\n",
       "</div>"
      ],
      "text/plain": [
       "   index Mouse    Date  D TypeOfStim SideOfStim\n",
       "0     56  T183  190227  1          C          R\n",
       "1     57  T183  190303  1          C          R\n",
       "2     58  T183  190308  1          C          R\n",
       "3     59  T183  190312  1          C          R\n",
       "4     60  T183  190313  1          C          L\n",
       "5     61  T183  190314  1          C          L\n",
       "6     62  T183  190315  1          C          L\n",
       "7     63  T183  190318  1          C          L\n",
       "8     64  T183  190319  1          C          L"
      ]
     },
     "execution_count": 6,
     "metadata": {},
     "output_type": "execute_result"
    }
   ],
   "source": [
    "Mouse_Date_FileName"
   ]
  },
  {
   "cell_type": "code",
   "execution_count": 7,
   "metadata": {},
   "outputs": [],
   "source": [
    "def clean (df_s):\n",
    "    data_list = []\n",
    "    for df in df_s:\n",
    "        data_list.append(df.drop(\"Unnamed: 0\",axis=1).transpose())\n",
    "    return (data_list)"
   ]
  },
  {
   "cell_type": "code",
   "execution_count": 8,
   "metadata": {},
   "outputs": [],
   "source": [
    "rt_stay_right = ahf.loadSession_csv (Mouse_Date_FileName,data_dir_output,\n",
    "                                     HowManyBack,folder_name,seq_str,\"Sel_tag_stay_right\")"
   ]
  },
  {
   "cell_type": "code",
   "execution_count": 9,
   "metadata": {},
   "outputs": [],
   "source": [
    "rt_stay_right = clean(rt_stay_right)"
   ]
  },
  {
   "cell_type": "code",
   "execution_count": 10,
   "metadata": {
    "scrolled": true
   },
   "outputs": [],
   "source": [
    "rt_switch_right = ahf.loadSession_csv (Mouse_Date_FileName,data_dir_output,\n",
    "                                       HowManyBack,folder_name,seq_str,\"Sel_tag_switch_right\")"
   ]
  },
  {
   "cell_type": "code",
   "execution_count": 11,
   "metadata": {},
   "outputs": [],
   "source": [
    "rt_switch_right = clean(rt_switch_right)"
   ]
  },
  {
   "cell_type": "code",
   "execution_count": 12,
   "metadata": {},
   "outputs": [],
   "source": [
    "rt_stay_left = ahf.loadSession_csv (Mouse_Date_FileName,data_dir_output,\n",
    "                                     HowManyBack,folder_name,seq_str,\"Sel_tag_stay_left\")"
   ]
  },
  {
   "cell_type": "code",
   "execution_count": 13,
   "metadata": {},
   "outputs": [],
   "source": [
    "rt_stay_left = clean(rt_stay_left)"
   ]
  },
  {
   "cell_type": "code",
   "execution_count": 14,
   "metadata": {},
   "outputs": [],
   "source": [
    "rt_switch_left = ahf.loadSession_csv (Mouse_Date_FileName,data_dir_output,\n",
    "                                       HowManyBack,folder_name,seq_str,\"Sel_tag_switch_left\")"
   ]
  },
  {
   "cell_type": "code",
   "execution_count": 15,
   "metadata": {},
   "outputs": [],
   "source": [
    "rt_switch_left = clean(rt_switch_left)"
   ]
  },
  {
   "cell_type": "code",
   "execution_count": 16,
   "metadata": {},
   "outputs": [],
   "source": [
    "df = ahf.extract_data_set_respose_time (Mouse_Date_FileName,rt_stay_right,rt_switch_right,rt_stay_left,rt_switch_left)"
   ]
  },
  {
   "cell_type": "code",
   "execution_count": 17,
   "metadata": {},
   "outputs": [],
   "source": [
    "data_set = \"data_set\"+\"_\"+seq_str[:seq_str.index('6')]\n",
    "cache_dir_plt = os.path.join(data_dir_output, data_set)\n",
    "if not os.path.exists(cache_dir_plt):\n",
    "    os.makedirs(cache_dir_plt)"
   ]
  },
  {
   "cell_type": "code",
   "execution_count": 18,
   "metadata": {},
   "outputs": [],
   "source": [
    "file = \"time_respose_lick\"\n",
    "cache_dir_plt = os.path.join(data_dir_output,data_set, file)\n",
    "if not os.path.exists(cache_dir_plt):\n",
    "    os.makedirs(cache_dir_plt)"
   ]
  },
  {
   "cell_type": "code",
   "execution_count": 19,
   "metadata": {},
   "outputs": [],
   "source": [
    "df.to_csv(data_dir_output+\"/\"+data_set+\"/\"+file+\"/\"+\"time_respose_lick\"+seq_str+\".csv\")"
   ]
  }
 ],
 "metadata": {
  "celltoolbar": "Tags",
  "kernelspec": {
   "display_name": "Python 3",
   "language": "python",
   "name": "python3"
  },
  "language_info": {
   "codemirror_mode": {
    "name": "ipython",
    "version": 3
   },
   "file_extension": ".py",
   "mimetype": "text/x-python",
   "name": "python",
   "nbconvert_exporter": "python",
   "pygments_lexer": "ipython3",
   "version": "3.7.3"
  }
 },
 "nbformat": 4,
 "nbformat_minor": 2
}
