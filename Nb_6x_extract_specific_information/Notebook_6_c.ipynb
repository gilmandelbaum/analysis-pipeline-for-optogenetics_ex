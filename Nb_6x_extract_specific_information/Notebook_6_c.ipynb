{
 "cells": [
  {
   "cell_type": "markdown",
   "metadata": {},
   "source": [
    "# Notebook 6 c"
   ]
  },
  {
   "cell_type": "code",
   "execution_count": 1,
   "metadata": {
    "tags": [
     "parameters"
    ]
   },
   "outputs": [],
   "source": [
    "mouse = 'T183'\n",
    "data_day = '2019_03_14__T183'\n",
    "date = '2019_03_14'\n",
    "\n",
    "data_dir_output = '/Users/gilmandelbaum/Desktop/optoOutPut'\n",
    "\n",
    "HowManyBack=1 \n",
    "\n",
    "Nb5 =\"a\"\n",
    "\n",
    "seq_str= '0a1ad2a4abc5a6c'"
   ]
  },
  {
   "cell_type": "code",
   "execution_count": 2,
   "metadata": {},
   "outputs": [],
   "source": [
    "from pathlib import Path\n",
    "import pickle\n",
    "import itertools\n",
    "import pandas as pd \n",
    "import os"
   ]
  },
  {
   "cell_type": "code",
   "execution_count": 3,
   "metadata": {},
   "outputs": [],
   "source": [
    "import Notebook_6_helper_functions as Nb_6"
   ]
  },
  {
   "cell_type": "code",
   "execution_count": 4,
   "metadata": {},
   "outputs": [
    {
     "name": "stdout",
     "output_type": "stream",
     "text": [
      "loaded notebook 5\n"
     ]
    }
   ],
   "source": [
    "root = Path(data_dir_output+\"/\"+mouse+\"/\"+data_day+'/'+str(HowManyBack)+\"_Back\")\n",
    "d = mouse+\"_\"+date+\"Notebook_5_\"+Nb5+\"_\"+\"seq\"+seq_str[:seq_str.index('6')]+'.pickle'\n",
    "my_path = root / d \n",
    "fileToOpen = open(my_path, 'rb')\n",
    "Lick_RL_IC_tt_periods = pickle.load(fileToOpen)\n",
    "print (\"loaded notebook 5\")"
   ]
  },
  {
   "cell_type": "code",
   "execution_count": 5,
   "metadata": {},
   "outputs": [],
   "source": [
    "combination_stringlist = Nb_6.combinations_string(HowManyBack)"
   ]
  },
  {
   "cell_type": "code",
   "execution_count": 6,
   "metadata": {},
   "outputs": [],
   "source": [
    "Lick_RL_IC_tt_periods_per_trial= Nb_6.count_licks_perPeriod_with_direction(Lick_RL_IC_tt_periods)"
   ]
  },
  {
   "cell_type": "code",
   "execution_count": 7,
   "metadata": {},
   "outputs": [],
   "source": [
    "count_licks_perPeriod_with_direction = Nb_6.count_licks_perPeriod_with_direction_make_df(Lick_RL_IC_tt_periods_per_trial,combination_stringlist)"
   ]
  },
  {
   "cell_type": "code",
   "execution_count": 9,
   "metadata": {},
   "outputs": [],
   "source": [
    "file = \"count_licks_perPeriod_with_direction\"+\"_\"+seq_str\n",
    "cache_dir_plt = os.path.join(data_dir_output+'/'+mouse+\"/\"+data_day+'/'+str(HowManyBack)+'_Back/'+\"analysis\", file)\n",
    "if not os.path.exists(cache_dir_plt):\n",
    "    os.makedirs(cache_dir_plt)"
   ]
  },
  {
   "cell_type": "code",
   "execution_count": 10,
   "metadata": {},
   "outputs": [],
   "source": [
    "count_licks_perPeriod_with_direction.to_csv(data_dir_output+'/'+mouse+\"/\"+data_day+'/'+str(HowManyBack)+'_Back'+'/'+\"analysis\"+\"/\"+\"count_licks_perPeriod_with_direction\"+\"_\"+seq_str+\"/\"+\"count_licks_perPeriod_with_direction.csv\")"
   ]
  },
  {
   "cell_type": "code",
   "execution_count": 11,
   "metadata": {},
   "outputs": [],
   "source": [
    "root = Path(data_dir_output+\"/\"+mouse+\"/\"+data_day+'/'+str(HowManyBack)+\"_Back\"+\"/\"+\"analysis\"+\"/\"+file+\"/\")\n",
    "d = \"count_licks_perPeriod_with_direction.pickle\"\n",
    "my_path = root / d \n",
    "my_file = open(my_path, 'wb')\n",
    "my_file = pickle.dump((count_licks_perPeriod_with_direction),my_file)"
   ]
  },
  {
   "cell_type": "code",
   "execution_count": 12,
   "metadata": {},
   "outputs": [],
   "source": [
    "root = Path(data_dir_output+\"/\"+mouse+\"/\"+data_day+'/'+str(HowManyBack)+\"_Back\")\n",
    "d = mouse+\"_\"+date+'Notebook_6_c'+'_seq'+seq_str+'.pickle'\n",
    "my_path = root / d \n",
    "my_file = open(my_path, 'wb')\n",
    "my_file = pickle.dump((),my_file)"
   ]
  },
  {
   "cell_type": "code",
   "execution_count": null,
   "metadata": {},
   "outputs": [],
   "source": []
  }
 ],
 "metadata": {
  "celltoolbar": "Tags",
  "kernelspec": {
   "display_name": "Python 3",
   "language": "python",
   "name": "python3"
  },
  "language_info": {
   "codemirror_mode": {
    "name": "ipython",
    "version": 3
   },
   "file_extension": ".py",
   "mimetype": "text/x-python",
   "name": "python",
   "nbconvert_exporter": "python",
   "pygments_lexer": "ipython3",
   "version": "3.7.3"
  }
 },
 "nbformat": 4,
 "nbformat_minor": 2
}
