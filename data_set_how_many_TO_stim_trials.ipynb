{
 "cells": [
  {
   "cell_type": "code",
   "execution_count": 1,
   "metadata": {},
   "outputs": [],
   "source": [
    "import pandas as pd \n",
    "import numpy  as np \n",
    "from pathlib import Path\n",
    "import pickle\n",
    "import os"
   ]
  },
  {
   "cell_type": "code",
   "execution_count": 2,
   "metadata": {},
   "outputs": [],
   "source": [
    "import data_set_analysis_helper_functions as ahf"
   ]
  },
  {
   "cell_type": "code",
   "execution_count": 3,
   "metadata": {
    "tags": [
     "parameters"
    ]
   },
   "outputs": [],
   "source": [
    "data_dir_output = '/Users/gilmandelbaum/Desktop/optoOutPut'\n",
    "data_dir_input = '/Users/gilmandelbaum/Desktop/opto'\n",
    "HowManyBack=1 \n",
    "\n",
    "Mouse_Date_FileName_list = \"MasterOptoConsumption\"\n",
    "\n",
    "seq_str= \"0a1ad2a4abc5a6b\""
   ]
  },
  {
   "cell_type": "code",
   "execution_count": null,
   "metadata": {},
   "outputs": [],
   "source": [
    "folder_name = \"timeOfLicks\""
   ]
  },
  {
   "cell_type": "code",
   "execution_count": 4,
   "metadata": {},
   "outputs": [],
   "source": [
    "Mouse_Date_FileName = pd.read_csv(data_dir_input+\"/\"+Mouse_Date_FileName_list+\".csv\")"
   ]
  },
  {
   "cell_type": "code",
   "execution_count": 5,
   "metadata": {},
   "outputs": [],
   "source": [
    "Mouse_Date_FileName = Mouse_Date_FileName[Mouse_Date_FileName[\"Mouse\"]==\"T183\"].reset_index()"
   ]
  },
  {
   "cell_type": "code",
   "execution_count": 6,
   "metadata": {},
   "outputs": [],
   "source": [
    "behavior_data_trial_s = ahf.loadSession_from_rawdata_xls (Mouse_Date_FileName,data_dir_input)"
   ]
  },
  {
   "cell_type": "code",
   "execution_count": 7,
   "metadata": {},
   "outputs": [],
   "source": [
    "def stimTrial (behavior_data_trial_dataSet):\n",
    "    data_list = list()\n",
    "    counter = 0 \n",
    "    for session in behavior_data_trial_dataSet: \n",
    "        #print (counter)\n",
    "        stim_trials = session[(session['L_Rew_trig_I_l1']>0) & (session['iReward']>0)]\n",
    "        stim_trials = session[session.index.isin(stim_trials.index+1)]\n",
    "        data_list.append(stim_trials)\n",
    "        counter = counter +1\n",
    "    return (data_list)"
   ]
  },
  {
   "cell_type": "code",
   "execution_count": 8,
   "metadata": {
    "scrolled": false
   },
   "outputs": [],
   "source": [
    "stimTrialsDF = stimTrial (behavior_data_trial_s)"
   ]
  },
  {
   "cell_type": "code",
   "execution_count": 9,
   "metadata": {},
   "outputs": [],
   "source": [
    "def TOtrials (stimTrialsDF):\n",
    "    data_listNotTO = list()\n",
    "    data_listTO = list()\n",
    "    for session in stimTrialsDF: \n",
    "        trials = len(session)\n",
    "        TO = len(session[session[\"sSelection\"]==3])\n",
    "        NotTO = trials-TO\n",
    "        data_listNotTO.append(NotTO)\n",
    "        data_listTO.append(TO)\n",
    "    data_listNotTO = pd.DataFrame(data_listNotTO, columns =[\"NotTO\"])\n",
    "    data_listTO = pd.DataFrame(data_listTO,columns =[\"TO\"])\n",
    "    data = pd.concat([data_listNotTO,data_listTO],axis=1)\n",
    "    return (data)"
   ]
  },
  {
   "cell_type": "code",
   "execution_count": 10,
   "metadata": {},
   "outputs": [],
   "source": [
    "df = TOtrials (stimTrialsDF)"
   ]
  },
  {
   "cell_type": "code",
   "execution_count": 11,
   "metadata": {},
   "outputs": [],
   "source": [
    "data_set = \"data_set\"+\"_\"+seq_str[:seq_str.index('6')]\n",
    "cache_dir_plt = os.path.join(data_dir_output, data_set)\n",
    "if not os.path.exists(cache_dir_plt):\n",
    "    os.makedirs(cache_dir_plt)"
   ]
  },
  {
   "cell_type": "code",
   "execution_count": 12,
   "metadata": {},
   "outputs": [],
   "source": [
    "file = \"how_many_TO_stim_trials\"\n",
    "cache_dir_plt = os.path.join(data_dir_output,data_set, file)\n",
    "if not os.path.exists(cache_dir_plt):\n",
    "    os.makedirs(cache_dir_plt)"
   ]
  },
  {
   "cell_type": "code",
   "execution_count": 13,
   "metadata": {},
   "outputs": [],
   "source": [
    "#df.to_csv(data_dir_output+\"/\"+file+\"/\"+\"lick_direction.csv\")\n",
    "df.to_csv(data_dir_output+\"/\"+data_set+\"/\"+file+\"/\"+\"how_many_TO_stim_trials.csv\")"
   ]
  },
  {
   "cell_type": "code",
   "execution_count": null,
   "metadata": {},
   "outputs": [],
   "source": []
  }
 ],
 "metadata": {
  "celltoolbar": "Tags",
  "kernelspec": {
   "display_name": "Python 3",
   "language": "python",
   "name": "python3"
  },
  "language_info": {
   "codemirror_mode": {
    "name": "ipython",
    "version": 3
   },
   "file_extension": ".py",
   "mimetype": "text/x-python",
   "name": "python",
   "nbconvert_exporter": "python",
   "pygments_lexer": "ipython3",
   "version": "3.7.3"
  }
 },
 "nbformat": 4,
 "nbformat_minor": 2
}
