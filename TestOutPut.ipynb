{
 "cells": [
  {
   "cell_type": "code",
   "execution_count": 1,
   "metadata": {
    "papermill": {
     "duration": 0.481936,
     "end_time": "2020-03-02T05:11:53.782455",
     "exception": false,
     "start_time": "2020-03-02T05:11:53.300519",
     "status": "completed"
    },
    "tags": []
   },
   "outputs": [],
   "source": [
    "import pandas as pd \n",
    "import numpy  as np \n",
    "from pathlib import Path\n",
    "import pickle\n",
    "import os"
   ]
  },
  {
   "cell_type": "code",
   "execution_count": 2,
   "metadata": {
    "papermill": {
     "duration": 0.021532,
     "end_time": "2020-03-02T05:11:53.816897",
     "exception": false,
     "start_time": "2020-03-02T05:11:53.795365",
     "status": "completed"
    },
    "tags": []
   },
   "outputs": [],
   "source": [
    "import data_set_analysis_helper_functions as ahf"
   ]
  },
  {
   "cell_type": "code",
   "execution_count": 3,
   "metadata": {
    "papermill": {
     "duration": 0.019784,
     "end_time": "2020-03-02T05:11:53.848788",
     "exception": false,
     "start_time": "2020-03-02T05:11:53.829004",
     "status": "completed"
    },
    "tags": [
     "parameters"
    ]
   },
   "outputs": [],
   "source": [
    "data_dir_output = '/Users/gilmandelbaum/Desktop/optoOutPut'\n",
    "data_dir_input = '/Users/gilmandelbaum/Desktop/opto'\n",
    "HowManyBack=1 \n",
    "\n",
    "Mouse_Date_FileName_list = \"MasterOptoConsumption\"\n",
    "\n",
    "seq_str= \"0a1ad2a4abc5a6a\""
   ]
  },
  {
   "cell_type": "code",
   "execution_count": 4,
   "metadata": {
    "papermill": {
     "duration": 0.019204,
     "end_time": "2020-03-02T05:11:53.879841",
     "exception": false,
     "start_time": "2020-03-02T05:11:53.860637",
     "status": "completed"
    },
    "tags": [
     "injected-parameters"
    ]
   },
   "outputs": [],
   "source": [
    "# Parameters\n",
    "data_dir_input = \"/Users/gilmandelbaum/Desktop/opto\"\n",
    "data_dir_output = \"/Users/gilmandelbaum/Desktop/optoOutPut\"\n",
    "HowManyBack = 1\n",
    "seq_str = \"0a1ad2a4abc5a6a\"\n",
    "Mouse_Date_FileName_list = \"MasterOptoConsumption\"\n"
   ]
  },
  {
   "cell_type": "code",
   "execution_count": 5,
   "metadata": {
    "papermill": {
     "duration": 0.017518,
     "end_time": "2020-03-02T05:11:53.909531",
     "exception": false,
     "start_time": "2020-03-02T05:11:53.892013",
     "status": "completed"
    },
    "tags": []
   },
   "outputs": [],
   "source": [
    "folder_name = \"timeOfLicks\""
   ]
  },
  {
   "cell_type": "code",
   "execution_count": 6,
   "metadata": {
    "papermill": {
     "duration": 0.027383,
     "end_time": "2020-03-02T05:11:53.949150",
     "exception": false,
     "start_time": "2020-03-02T05:11:53.921767",
     "status": "completed"
    },
    "scrolled": true,
    "tags": []
   },
   "outputs": [],
   "source": [
    "Mouse_Date_FileName = pd.read_csv(data_dir_input+\"/\"+Mouse_Date_FileName_list+\".csv\")"
   ]
  },
  {
   "cell_type": "code",
   "execution_count": 7,
   "metadata": {
    "papermill": {
     "duration": 0.020289,
     "end_time": "2020-03-02T05:11:53.981221",
     "exception": false,
     "start_time": "2020-03-02T05:11:53.960932",
     "status": "completed"
    },
    "tags": []
   },
   "outputs": [],
   "source": [
    "Mouse_Date_FileName = Mouse_Date_FileName[Mouse_Date_FileName[\"Mouse\"]==\"T183\"].reset_index()"
   ]
  },
  {
   "cell_type": "code",
   "execution_count": 8,
   "metadata": {
    "papermill": {
     "duration": 0.035431,
     "end_time": "2020-03-02T05:11:54.031655",
     "exception": false,
     "start_time": "2020-03-02T05:11:53.996224",
     "status": "completed"
    },
    "tags": []
   },
   "outputs": [
    {
     "data": {
      "text/html": [
       "<div>\n",
       "<style scoped>\n",
       "    .dataframe tbody tr th:only-of-type {\n",
       "        vertical-align: middle;\n",
       "    }\n",
       "\n",
       "    .dataframe tbody tr th {\n",
       "        vertical-align: top;\n",
       "    }\n",
       "\n",
       "    .dataframe thead th {\n",
       "        text-align: right;\n",
       "    }\n",
       "</style>\n",
       "<table border=\"1\" class=\"dataframe\">\n",
       "  <thead>\n",
       "    <tr style=\"text-align: right;\">\n",
       "      <th></th>\n",
       "      <th>index</th>\n",
       "      <th>Mouse</th>\n",
       "      <th>Date</th>\n",
       "      <th>D</th>\n",
       "      <th>TypeOfStim</th>\n",
       "      <th>SideOfStim</th>\n",
       "    </tr>\n",
       "  </thead>\n",
       "  <tbody>\n",
       "    <tr>\n",
       "      <th>0</th>\n",
       "      <td>56</td>\n",
       "      <td>T183</td>\n",
       "      <td>190227</td>\n",
       "      <td>1</td>\n",
       "      <td>C</td>\n",
       "      <td>R</td>\n",
       "    </tr>\n",
       "    <tr>\n",
       "      <th>1</th>\n",
       "      <td>57</td>\n",
       "      <td>T183</td>\n",
       "      <td>190303</td>\n",
       "      <td>1</td>\n",
       "      <td>C</td>\n",
       "      <td>R</td>\n",
       "    </tr>\n",
       "    <tr>\n",
       "      <th>2</th>\n",
       "      <td>58</td>\n",
       "      <td>T183</td>\n",
       "      <td>190308</td>\n",
       "      <td>1</td>\n",
       "      <td>C</td>\n",
       "      <td>R</td>\n",
       "    </tr>\n",
       "    <tr>\n",
       "      <th>3</th>\n",
       "      <td>59</td>\n",
       "      <td>T183</td>\n",
       "      <td>190312</td>\n",
       "      <td>1</td>\n",
       "      <td>C</td>\n",
       "      <td>R</td>\n",
       "    </tr>\n",
       "    <tr>\n",
       "      <th>4</th>\n",
       "      <td>60</td>\n",
       "      <td>T183</td>\n",
       "      <td>190313</td>\n",
       "      <td>1</td>\n",
       "      <td>C</td>\n",
       "      <td>L</td>\n",
       "    </tr>\n",
       "    <tr>\n",
       "      <th>5</th>\n",
       "      <td>61</td>\n",
       "      <td>T183</td>\n",
       "      <td>190314</td>\n",
       "      <td>1</td>\n",
       "      <td>C</td>\n",
       "      <td>L</td>\n",
       "    </tr>\n",
       "    <tr>\n",
       "      <th>6</th>\n",
       "      <td>62</td>\n",
       "      <td>T183</td>\n",
       "      <td>190315</td>\n",
       "      <td>1</td>\n",
       "      <td>C</td>\n",
       "      <td>L</td>\n",
       "    </tr>\n",
       "    <tr>\n",
       "      <th>7</th>\n",
       "      <td>63</td>\n",
       "      <td>T183</td>\n",
       "      <td>190318</td>\n",
       "      <td>1</td>\n",
       "      <td>C</td>\n",
       "      <td>L</td>\n",
       "    </tr>\n",
       "    <tr>\n",
       "      <th>8</th>\n",
       "      <td>64</td>\n",
       "      <td>T183</td>\n",
       "      <td>190319</td>\n",
       "      <td>1</td>\n",
       "      <td>C</td>\n",
       "      <td>L</td>\n",
       "    </tr>\n",
       "  </tbody>\n",
       "</table>\n",
       "</div>"
      ],
      "text/plain": [
       "   index Mouse    Date  D TypeOfStim SideOfStim\n",
       "0     56  T183  190227  1          C          R\n",
       "1     57  T183  190303  1          C          R\n",
       "2     58  T183  190308  1          C          R\n",
       "3     59  T183  190312  1          C          R\n",
       "4     60  T183  190313  1          C          L\n",
       "5     61  T183  190314  1          C          L\n",
       "6     62  T183  190315  1          C          L\n",
       "7     63  T183  190318  1          C          L\n",
       "8     64  T183  190319  1          C          L"
      ]
     },
     "execution_count": 8,
     "metadata": {},
     "output_type": "execute_result"
    }
   ],
   "source": [
    "Mouse_Date_FileName"
   ]
  },
  {
   "cell_type": "code",
   "execution_count": 9,
   "metadata": {
    "papermill": {
     "duration": 0.019026,
     "end_time": "2020-03-02T05:11:54.062777",
     "exception": false,
     "start_time": "2020-03-02T05:11:54.043751",
     "status": "completed"
    },
    "tags": []
   },
   "outputs": [],
   "source": [
    "def clean (df_s):\n",
    "    data_list = []\n",
    "    for df in df_s:\n",
    "        data_list.append(df.drop(\"Unnamed: 0\",axis=1).transpose())\n",
    "    return (data_list)"
   ]
  },
  {
   "cell_type": "code",
   "execution_count": 10,
   "metadata": {
    "papermill": {
     "duration": 0.037847,
     "end_time": "2020-03-02T05:11:54.112406",
     "exception": false,
     "start_time": "2020-03-02T05:11:54.074559",
     "status": "completed"
    },
    "tags": []
   },
   "outputs": [],
   "source": [
    "rt_stay_right = ahf.loadSession_csv (Mouse_Date_FileName,data_dir_output,\n",
    "                                     HowManyBack,folder_name,seq_str,\"Sel_tag_stay_right\")"
   ]
  },
  {
   "cell_type": "code",
   "execution_count": 11,
   "metadata": {
    "papermill": {
     "duration": 0.022157,
     "end_time": "2020-03-02T05:11:54.144996",
     "exception": false,
     "start_time": "2020-03-02T05:11:54.122839",
     "status": "completed"
    },
    "tags": []
   },
   "outputs": [],
   "source": [
    "rt_stay_right = clean(rt_stay_right)"
   ]
  },
  {
   "cell_type": "code",
   "execution_count": 12,
   "metadata": {
    "papermill": {
     "duration": 0.039306,
     "end_time": "2020-03-02T05:11:54.195316",
     "exception": false,
     "start_time": "2020-03-02T05:11:54.156010",
     "status": "completed"
    },
    "scrolled": true,
    "tags": []
   },
   "outputs": [],
   "source": [
    "rt_switch_right = ahf.loadSession_csv (Mouse_Date_FileName,data_dir_output,\n",
    "                                       HowManyBack,folder_name,seq_str,\"Sel_tag_switch_right\")"
   ]
  },
  {
   "cell_type": "code",
   "execution_count": 13,
   "metadata": {
    "papermill": {
     "duration": 0.024913,
     "end_time": "2020-03-02T05:11:54.231826",
     "exception": false,
     "start_time": "2020-03-02T05:11:54.206913",
     "status": "completed"
    },
    "tags": []
   },
   "outputs": [],
   "source": [
    "rt_switch_right = clean(rt_switch_right)"
   ]
  },
  {
   "cell_type": "code",
   "execution_count": 14,
   "metadata": {
    "papermill": {
     "duration": 0.041204,
     "end_time": "2020-03-02T05:11:54.284497",
     "exception": false,
     "start_time": "2020-03-02T05:11:54.243293",
     "status": "completed"
    },
    "tags": []
   },
   "outputs": [],
   "source": [
    "rt_stay_left = ahf.loadSession_csv (Mouse_Date_FileName,data_dir_output,\n",
    "                                     HowManyBack,folder_name,seq_str,\"Sel_tag_stay_left\")"
   ]
  },
  {
   "cell_type": "code",
   "execution_count": 15,
   "metadata": {
    "papermill": {
     "duration": 0.027047,
     "end_time": "2020-03-02T05:11:54.323699",
     "exception": false,
     "start_time": "2020-03-02T05:11:54.296652",
     "status": "completed"
    },
    "tags": []
   },
   "outputs": [],
   "source": [
    "rt_stay_left = clean(rt_stay_left)"
   ]
  },
  {
   "cell_type": "code",
   "execution_count": 16,
   "metadata": {
    "papermill": {
     "duration": 0.03852,
     "end_time": "2020-03-02T05:11:54.373834",
     "exception": false,
     "start_time": "2020-03-02T05:11:54.335314",
     "status": "completed"
    },
    "tags": []
   },
   "outputs": [],
   "source": [
    "rt_switch_left = ahf.loadSession_csv (Mouse_Date_FileName,data_dir_output,\n",
    "                                       HowManyBack,folder_name,seq_str,\"Sel_tag_switch_left\")"
   ]
  },
  {
   "cell_type": "code",
   "execution_count": 17,
   "metadata": {
    "papermill": {
     "duration": 0.023062,
     "end_time": "2020-03-02T05:11:54.407500",
     "exception": false,
     "start_time": "2020-03-02T05:11:54.384438",
     "status": "completed"
    },
    "tags": []
   },
   "outputs": [],
   "source": [
    "rt_switch_left = clean(rt_switch_left)"
   ]
  },
  {
   "cell_type": "code",
   "execution_count": 18,
   "metadata": {
    "papermill": {
     "duration": 0.066211,
     "end_time": "2020-03-02T05:11:54.483864",
     "exception": false,
     "start_time": "2020-03-02T05:11:54.417653",
     "status": "completed"
    },
    "tags": []
   },
   "outputs": [],
   "source": [
    "df = ahf.extract_data_set_respose_time (Mouse_Date_FileName,rt_stay_right,rt_switch_right,rt_stay_left,rt_switch_left)"
   ]
  },
  {
   "cell_type": "code",
   "execution_count": 19,
   "metadata": {
    "papermill": {
     "duration": 0.015999,
     "end_time": "2020-03-02T05:11:54.509219",
     "exception": false,
     "start_time": "2020-03-02T05:11:54.493220",
     "status": "completed"
    },
    "tags": []
   },
   "outputs": [],
   "source": [
    "data_set = \"data_set\"+\"_\"+seq_str[:seq_str.index('6')]\n",
    "cache_dir_plt = os.path.join(data_dir_output, data_set)\n",
    "if not os.path.exists(cache_dir_plt):\n",
    "    os.makedirs(cache_dir_plt)"
   ]
  },
  {
   "cell_type": "code",
   "execution_count": 20,
   "metadata": {
    "papermill": {
     "duration": 0.015521,
     "end_time": "2020-03-02T05:11:54.533830",
     "exception": false,
     "start_time": "2020-03-02T05:11:54.518309",
     "status": "completed"
    },
    "tags": []
   },
   "outputs": [],
   "source": [
    "file = \"time_respose_lick\"\n",
    "cache_dir_plt = os.path.join(data_dir_output,data_set, file)\n",
    "if not os.path.exists(cache_dir_plt):\n",
    "    os.makedirs(cache_dir_plt)"
   ]
  },
  {
   "cell_type": "code",
   "execution_count": 21,
   "metadata": {
    "papermill": {
     "duration": 0.018378,
     "end_time": "2020-03-02T05:11:54.562376",
     "exception": false,
     "start_time": "2020-03-02T05:11:54.543998",
     "status": "completed"
    },
    "tags": []
   },
   "outputs": [],
   "source": [
    "df.to_csv(data_dir_output+\"/\"+data_set+\"/\"+file+\"/\"+\"time_respose_lick\"+seq_str+\".csv\")"
   ]
  }
 ],
 "metadata": {
  "celltoolbar": "Tags",
  "kernelspec": {
   "display_name": "Python 3",
   "language": "python",
   "name": "python3"
  },
  "language_info": {
   "codemirror_mode": {
    "name": "ipython",
    "version": 3
   },
   "file_extension": ".py",
   "mimetype": "text/x-python",
   "name": "python",
   "nbconvert_exporter": "python",
   "pygments_lexer": "ipython3",
   "version": "3.7.3"
  },
  "papermill": {
   "duration": 3.099935,
   "end_time": "2020-03-02T05:11:54.890294",
   "environment_variables": {},
   "exception": null,
   "input_path": "data_set_time_respose_lick.ipynb",
   "output_path": "TestOutPut.ipynb",
   "parameters": {
    "HowManyBack": 1,
    "Mouse_Date_FileName_list": "MasterOptoConsumption",
    "data_dir_input": "/Users/gilmandelbaum/Desktop/opto",
    "data_dir_output": "/Users/gilmandelbaum/Desktop/optoOutPut",
    "seq_str": "0a1ad2a4abc5a6a"
   },
   "start_time": "2020-03-02T05:11:51.790359",
   "version": "1.0.1"
  }
 },
 "nbformat": 4,
 "nbformat_minor": 2
}